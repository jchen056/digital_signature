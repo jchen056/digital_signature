{
 "cells": [
  {
   "cell_type": "code",
   "execution_count": 47,
   "id": "99f75119",
   "metadata": {},
   "outputs": [],
   "source": [
    "import re\n",
    "import numpy as np"
   ]
  },
  {
   "cell_type": "code",
   "execution_count": 41,
   "id": "851553ff",
   "metadata": {},
   "outputs": [],
   "source": [
    "times=[]\n",
    "allocations=[]\n",
    "with open('verification.txt') as f:\n",
    "    lines = f.readlines()\n",
    "    for i in lines:\n",
    "        if re.search('seconds', i):\n",
    "            times.append(i.rpartition(' seconds')[0])\n",
    "        if re.search('allocations',i):\n",
    "            allocations.append(re.findall(r\"[-+]?(?:\\d*\\.*\\d+)\",i.rpartition(' allocations')[0])[1])\n"
   ]
  },
  {
   "cell_type": "code",
   "execution_count": 42,
   "id": "53c2af70",
   "metadata": {},
   "outputs": [
    {
     "data": {
      "text/plain": [
       "0.17870362999999997"
      ]
     },
     "execution_count": 42,
     "metadata": {},
     "output_type": "execute_result"
    }
   ],
   "source": [
    "times_sum=0\n",
    "for i in times:\n",
    "    times_sum+=float(i)\n",
    "times_sum/len(times)"
   ]
  },
  {
   "cell_type": "code",
   "execution_count": 43,
   "id": "da078654",
   "metadata": {},
   "outputs": [
    {
     "data": {
      "text/plain": [
       "1.200000000000002"
      ]
     },
     "execution_count": 43,
     "metadata": {},
     "output_type": "execute_result"
    }
   ],
   "source": [
    "allocations_sum=0\n",
    "for i in allocations:\n",
    "#     if float(i)<100:\n",
    "#         allocations_sum+=float(i)*1000\n",
    "#     else:\n",
    "    allocations_sum+=float(i)\n",
    "allocations_sum/len(allocations)"
   ]
  },
  {
   "cell_type": "code",
   "execution_count": 51,
   "id": "4664047a",
   "metadata": {},
   "outputs": [
    {
     "data": {
      "text/plain": [
       "1.3659999999999999"
      ]
     },
     "execution_count": 51,
     "metadata": {},
     "output_type": "execute_result"
    }
   ],
   "source": [
    "np.mean([0.17206733,0.23608226000000002,0.17508247000000002,\n",
    "     0.26922849000000004,0.17254704999999998,0.20951734999999996,\n",
    "     0.23033143,0.2184493300000001,0.17020463000000008,\n",
    "     0.17870362999999997])\n",
    "np.mean([[1.18,1.55,1.18,1.79,1.14,\n",
    "          1.40,1.54,1.53,1.15,1.20] ])"
   ]
  },
  {
   "cell_type": "code",
   "execution_count": 49,
   "id": "d6d98360",
   "metadata": {},
   "outputs": [
    {
     "data": {
      "text/plain": [
       "2.0"
      ]
     },
     "execution_count": 49,
     "metadata": {},
     "output_type": "execute_result"
    }
   ],
   "source": [
    "np.mean([1,2,3])"
   ]
  },
  {
   "cell_type": "code",
   "execution_count": null,
   "id": "305757eb",
   "metadata": {},
   "outputs": [],
   "source": []
  }
 ],
 "metadata": {
  "kernelspec": {
   "display_name": "Python 3 (ipykernel)",
   "language": "python",
   "name": "python3"
  },
  "language_info": {
   "codemirror_mode": {
    "name": "ipython",
    "version": 3
   },
   "file_extension": ".py",
   "mimetype": "text/x-python",
   "name": "python",
   "nbconvert_exporter": "python",
   "pygments_lexer": "ipython3",
   "version": "3.9.12"
  }
 },
 "nbformat": 4,
 "nbformat_minor": 5
}
