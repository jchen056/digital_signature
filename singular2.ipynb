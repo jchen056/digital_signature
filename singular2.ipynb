{
 "cells": [
  {
   "cell_type": "code",
   "execution_count": 1,
   "id": "da7d0aea",
   "metadata": {},
   "outputs": [],
   "source": [
    "# using Singular\n",
    "# using AbstractAlgebra\n",
    "using Random\n",
    "using Symbolics\n",
    "using LinearAlgebra\n",
    "using SparseArrays, StaticPolynomials\n",
    "using SymPy"
   ]
  },
  {
   "cell_type": "code",
   "execution_count": 3,
   "id": "c41846fa",
   "metadata": {},
   "outputs": [
    {
     "name": "stdout",
     "output_type": "stream",
     "text": [
      " -----    -----    -----      -      -----   \n",
      "|     |  |     |  |     |    | |    |     |  \n",
      "|     |  |        |         |   |   |     |  \n",
      "|     |   -----   |        |     |  |-----   \n",
      "|     |        |  |        |-----|  |   |    \n",
      "|     |  |     |  |     |  |     |  |    |   \n",
      " -----    -----    -----   -     -  -     -  \n",
      "\n",
      "...combining (and extending) ANTIC, GAP, Polymake and Singular\n",
      "Version\u001b[32m 0.11.3 \u001b[39m... \n",
      " ... which comes with absolutely no warranty whatsoever\n",
      "Type: '?Oscar' for more information\n",
      "(c) 2019-2023 by The OSCAR Development Team\n"
     ]
    }
   ],
   "source": [
    "using Oscar"
   ]
  },
  {
   "cell_type": "code",
   "execution_count": 4,
   "id": "8017a92e",
   "metadata": {},
   "outputs": [
    {
     "name": "stdout",
     "output_type": "stream",
     "text": [
      "search: \u001b[0m\u001b[1mM\u001b[22m\u001b[0m\u001b[1ma\u001b[22m\u001b[0m\u001b[1mt\u001b[22m\u001b[0m\u001b[1mr\u001b[22m\u001b[0m\u001b[1mi\u001b[22m\u001b[0m\u001b[1mx\u001b[22m\u001b[0m\u001b[1mS\u001b[22m\u001b[0m\u001b[1mp\u001b[22m\u001b[0m\u001b[1ma\u001b[22m\u001b[0m\u001b[1mc\u001b[22m\u001b[0m\u001b[1me\u001b[22m basis_\u001b[0m\u001b[1mm\u001b[22m\u001b[0m\u001b[1ma\u001b[22m\u001b[0m\u001b[1mt\u001b[22m\u001b[0m\u001b[1mr\u001b[22m\u001b[0m\u001b[1mi\u001b[22m\u001b[0m\u001b[1mx\u001b[22m_of_rational_\u001b[0m\u001b[1ms\u001b[22m\u001b[0m\u001b[1mp\u001b[22m\u001b[0m\u001b[1ma\u001b[22mn gra\u001b[0m\u001b[1mm\u001b[22m_m\u001b[0m\u001b[1ma\u001b[22m\u001b[0m\u001b[1mt\u001b[22m\u001b[0m\u001b[1mr\u001b[22m\u001b[0m\u001b[1mi\u001b[22m\u001b[0m\u001b[1mx\u001b[22m_of_rational_\u001b[0m\u001b[1ms\u001b[22m\u001b[0m\u001b[1mp\u001b[22m\u001b[0m\u001b[1ma\u001b[22mn\n",
      "\n"
     ]
    },
    {
     "data": {
      "text/latex": [
       "\\begin{verbatim}\n",
       "MatrixSpace(R::NCRing, r::Int, c::Int; cached::Bool = true)\n",
       "\\end{verbatim}\n",
       "Return parent object corresponding to the space of $r\\times c$ matrices over the ring $R$. If \\texttt{cached == true} (the default), the returned parent object is cached so that it can returned by future calls to the constructor with the same dimensions and base ring.\n",
       "\n"
      ],
      "text/markdown": [
       "```\n",
       "MatrixSpace(R::NCRing, r::Int, c::Int; cached::Bool = true)\n",
       "```\n",
       "\n",
       "Return parent object corresponding to the space of $r\\times c$ matrices over the ring $R$. If `cached == true` (the default), the returned parent object is cached so that it can returned by future calls to the constructor with the same dimensions and base ring.\n"
      ],
      "text/plain": [
       "\u001b[36m  MatrixSpace(R::NCRing, r::Int, c::Int; cached::Bool = true)\u001b[39m\n",
       "\n",
       "  Return parent object corresponding to the space of \u001b[35mr\\times c\u001b[39m matrices over\n",
       "  the ring \u001b[35mR\u001b[39m. If \u001b[36mcached == true\u001b[39m (the default), the returned parent object is\n",
       "  cached so that it can returned by future calls to the constructor with the\n",
       "  same dimensions and base ring."
      ]
     },
     "execution_count": 4,
     "metadata": {},
     "output_type": "execute_result"
    }
   ],
   "source": [
    "?MatrixSpace"
   ]
  },
  {
   "cell_type": "code",
   "execution_count": 9,
   "id": "b9780ab7",
   "metadata": {},
   "outputs": [
    {
     "data": {
      "text/plain": [
       "3"
      ]
     },
     "execution_count": 9,
     "metadata": {},
     "output_type": "execute_result"
    }
   ],
   "source": [
    "coefficients = ResidueRing(ZZ, 6)\n",
    "coefficients(9)"
   ]
  },
  {
   "cell_type": "code",
   "execution_count": 6,
   "id": "c47f0585",
   "metadata": {},
   "outputs": [
    {
     "data": {
      "text/plain": [
       "3-element Vector{Int64}:\n",
       " 3\n",
       " 0\n",
       " 2"
      ]
     },
     "execution_count": 6,
     "metadata": {},
     "output_type": "execute_result"
    }
   ],
   "source": [
    "function exp_vector_building(n,q)#create a vector of length n and max degree is q\n",
    "    vectors=[0 for i in 1:n]#create a vector of zeros\n",
    "    for i in 1:q#max degree is q; therefore loop through q times\n",
    "        vectors[rand(1:n)]+=1\n",
    "    end\n",
    "    return vectors\n",
    "end\n",
    "exp_vector_building(3,5)"
   ]
  },
  {
   "cell_type": "code",
   "execution_count": 13,
   "id": "0b3887df",
   "metadata": {},
   "outputs": [
    {
     "data": {
      "text/plain": [
       "(Multivariate Polynomial Ring in x1, x2, x3 over Integers modulo 6, nmod_mpoly[x1, x2, x3])"
      ]
     },
     "execution_count": 13,
     "metadata": {},
     "output_type": "execute_result"
    }
   ],
   "source": [
    "n = 3\n",
    "max_degree = 4\n",
    "R, xs = PolynomialRing(coefficients, [\"x$i\" for i in 1:n],\n",
    "                       ordering = :degrevlex)"
   ]
  },
  {
   "cell_type": "code",
   "execution_count": 31,
   "id": "34da19ec",
   "metadata": {},
   "outputs": [
    {
     "ename": "LoadError",
     "evalue": "Not implemented",
     "output_type": "error",
     "traceback": [
      "Not implemented",
      "",
      "Stacktrace:",
      " [1] error(s::String)",
      "   @ Base ./error.jl:33",
      " [2] fflu!(P::Perm{Int64}, A::AbstractAlgebra.Generic.MatSpaceElem{nmod_mpoly})",
      "   @ AbstractAlgebra ~/.julia/packages/AbstractAlgebra/FcxWh/src/Matrix.jl:1620",
      " [3] can_solve_with_solution_fflu(A::AbstractAlgebra.Generic.MatSpaceElem{nmod_mpoly}, b::AbstractAlgebra.Generic.MatSpaceElem{nmod_mpoly})",
      "   @ AbstractAlgebra ~/.julia/packages/AbstractAlgebra/FcxWh/src/Matrix.jl:2620",
      " [4] pseudo_inv(M::AbstractAlgebra.Generic.MatSpaceElem{nmod_mpoly})",
      "   @ AbstractAlgebra ~/.julia/packages/AbstractAlgebra/FcxWh/src/Matrix.jl:3620",
      " [5] inv(M::AbstractAlgebra.Generic.MatSpaceElem{nmod_mpoly})",
      "   @ AbstractAlgebra ~/.julia/packages/AbstractAlgebra/FcxWh/src/Matrix.jl:3642",
      " [6] top-level scope",
      "   @ In[31]:5"
     ]
    }
   ],
   "source": [
    "I=MatrixSpace(R,3,3)\n",
    "A=I(1)\n",
    "typeof(A)\n",
    "A[1,1]=5\n",
    "inv(A)"
   ]
  },
  {
   "cell_type": "code",
   "execution_count": 33,
   "id": "bb50ce8d",
   "metadata": {},
   "outputs": [
    {
     "data": {
      "text/plain": [
       "AbstractAlgebra.Generic.MatSpace{nf_elem}"
      ]
     },
     "execution_count": 33,
     "metadata": {},
     "output_type": "execute_result"
    }
   ],
   "source": [
    "R, x = PolynomialRing(QQ, \"x\")\n",
    "K, a = NumberField(x^3 + 3x + 1, \"a\")\n",
    "S = MatrixSpace(K, 3, 3)\n",
    "typeof(S)"
   ]
  },
  {
   "cell_type": "code",
   "execution_count": 15,
   "id": "c0cc6b11",
   "metadata": {},
   "outputs": [
    {
     "data": {
      "text/plain": [
       "x1*x2*x3^2"
      ]
     },
     "execution_count": 15,
     "metadata": {},
     "output_type": "execute_result"
    }
   ],
   "source": [
    "C=MPolyBuildCtx(R)\n",
    "exp_arr=exp_vector_building(n,max_degree)\n",
    "push_term!(C, coefficients(7),exp_arr)\n",
    "# push_term!(C, ZZ(1),exp_vector_building(n,max_degree))\n",
    "f = finish(C)\n",
    "\n",
    "f"
   ]
  },
  {
   "cell_type": "code",
   "execution_count": 17,
   "id": "86750a21",
   "metadata": {},
   "outputs": [
    {
     "data": {
      "text/plain": [
       "3*x1^2*x2*x3*x4 + x1*x2*x3^2*x4 + 2*x1^2*x3*x4^2"
      ]
     },
     "execution_count": 17,
     "metadata": {},
     "output_type": "execute_result"
    }
   ],
   "source": [
    "function sparse_polynomial(n,t,b,q)\n",
    "    coefficients = ResidueRing(ZZ, q)#integer modulo q\n",
    "    \n",
    "    R,x=PolynomialRing(coefficients, [\"x$i\" for i in 1:n],\n",
    "                       ordering = :degrevlex)\n",
    "    C=MPolyBuildCtx(R)\n",
    "    for i in 1:t\n",
    "        push_term!(C,coefficients(rand(1:100)),exp_vector_building(n,q))\n",
    "    end\n",
    "    f=finish(C)\n",
    "    while f==0\n",
    "        f=sparse_polynomial(n,t,b,q)\n",
    "#         return f\n",
    "    end\n",
    "    return f\n",
    "end\n",
    "a=sparse_polynomial(4,4,5,5)\n",
    "# typeof(a)"
   ]
  },
  {
   "cell_type": "code",
   "execution_count": 23,
   "id": "0cd4b6d4",
   "metadata": {},
   "outputs": [
    {
     "ename": "LoadError",
     "evalue": "MethodError: no method matching setindex!(::AbstractAlgebra.Generic.MatSpace{nmod_mpoly}, ::nmod_mpoly, ::Int64, ::Int64)",
     "output_type": "error",
     "traceback": [
      "MethodError: no method matching setindex!(::AbstractAlgebra.Generic.MatSpace{nmod_mpoly}, ::nmod_mpoly, ::Int64, ::Int64)",
      "",
      "Stacktrace:",
      " [1] top-level scope",
      "   @ In[23]:1"
     ]
    }
   ],
   "source": [
    "I[1,1]=sparse_polynomial(3,4,5,5)"
   ]
  },
  {
   "cell_type": "markdown",
   "id": "2627bbcd",
   "metadata": {},
   "source": [
    "# linear algebra"
   ]
  },
  {
   "cell_type": "code",
   "execution_count": 18,
   "id": "590ec21e",
   "metadata": {},
   "outputs": [
    {
     "ename": "LoadError",
     "evalue": "MethodError: no method matching PolynomialRing(::Nemo.NmodRing, ::Vector{String}; ordering=:degrevlex, degree_bound=5)\n\u001b[0mClosest candidates are:\n\u001b[0m  PolynomialRing(::Nemo.NmodRing, ::Vector{String}; cached, ordering) at /Users/jchen056/.julia/packages/Nemo/g02iz/src/flint/nmod_mpoly.jl:1217\u001b[91m got unsupported keyword argument \"degree_bound\"\u001b[39m\n\u001b[0m  PolynomialRing(::AbstractAlgebra.Ring, ::Vector{String}; cached, ordering) at /Users/jchen056/.julia/packages/AbstractAlgebra/FcxWh/src/MPoly.jl:1297\u001b[91m got unsupported keyword argument \"degree_bound\"\u001b[39m\n\u001b[0m  PolynomialRing(::AbstractAlgebra.Ring, \u001b[91m::Pair{var\"#s267\", var\"#s266\"} where {var\"#s267\"<:Union{String, Symbol}, var\"#s266\"}\u001b[39m, \u001b[91m::Any...\u001b[39m; cached, ordering) at /Users/jchen056/.julia/packages/Oscar/RlsvY/src/Rings/mpoly.jl:23\u001b[91m got unsupported keyword argument \"degree_bound\"\u001b[39m\n\u001b[0m  ...",
     "output_type": "error",
     "traceback": [
      "MethodError: no method matching PolynomialRing(::Nemo.NmodRing, ::Vector{String}; ordering=:degrevlex, degree_bound=5)\n\u001b[0mClosest candidates are:\n\u001b[0m  PolynomialRing(::Nemo.NmodRing, ::Vector{String}; cached, ordering) at /Users/jchen056/.julia/packages/Nemo/g02iz/src/flint/nmod_mpoly.jl:1217\u001b[91m got unsupported keyword argument \"degree_bound\"\u001b[39m\n\u001b[0m  PolynomialRing(::AbstractAlgebra.Ring, ::Vector{String}; cached, ordering) at /Users/jchen056/.julia/packages/AbstractAlgebra/FcxWh/src/MPoly.jl:1297\u001b[91m got unsupported keyword argument \"degree_bound\"\u001b[39m\n\u001b[0m  PolynomialRing(::AbstractAlgebra.Ring, \u001b[91m::Pair{var\"#s267\", var\"#s266\"} where {var\"#s267\"<:Union{String, Symbol}, var\"#s266\"}\u001b[39m, \u001b[91m::Any...\u001b[39m; cached, ordering) at /Users/jchen056/.julia/packages/Oscar/RlsvY/src/Rings/mpoly.jl:23\u001b[91m got unsupported keyword argument \"degree_bound\"\u001b[39m\n\u001b[0m  ...",
      "",
      "Stacktrace:",
      " [1] kwerr(::NamedTuple{(:ordering, :degree_bound), Tuple{Symbol, Int64}}, ::Function, ::Nemo.NmodRing, ::Vector{String})",
      "   @ Base ./error.jl:157",
      " [2] identity_mat(k::Int64, n::Int64, B::Int64, q::Int64)",
      "   @ Main ./In[18]:3",
      " [3] top-level scope",
      "   @ In[18]:15"
     ]
    }
   ],
   "source": [
    "function identity_mat(k,n,B,q)#generate a kbyk identity matrix\n",
    "    coefficients = ResidueRing(ZZ, q)#integer modulo q\n",
    "    R,x=PolynomialRing(coefficients, [\"x$i\" for i in 1:n],\n",
    "                       ordering = :degrevlex,degree_bound=B)\n",
    "    S=zeros(R,k,k)\n",
    "    C=MPolyBuildCtx(R)\n",
    "    push_term!(C, coefficients(q+1),exp_vector_building(n,0))\n",
    "    f1=finish(C)\n",
    "    \n",
    "    for i in 1:k\n",
    "        S[i,i]=f1\n",
    "    end\n",
    "    return S\n",
    "end\n",
    "S=identity_mat(3,4,5,4)\n"
   ]
  },
  {
   "cell_type": "code",
   "execution_count": 6,
   "id": "bc9ee302",
   "metadata": {},
   "outputs": [
    {
     "name": "stderr",
     "output_type": "stream",
     "text": [
      "\n",
      "// ***dError: Equal monomials in p_Merge_q\n",
      "// ***dError: Equal monomials in p_Merge_q"
     ]
    },
    {
     "data": {
      "text/plain": [
       "4×4 Matrix{spoly{n_Zn}}:\n",
       " 1  3*x1^5*x2 + 3*x1^4*x2^2  3*x1^2*x2^4            5*x1^3*x2^3 + 2*x1*x2^5\n",
       " 0  1                        2*x1^5*x2 + x1^3*x2^3  0\n",
       " 0  0                        1                      0\n",
       " 0  0                        0                      1"
      ]
     },
     "execution_count": 6,
     "metadata": {},
     "output_type": "execute_result"
    }
   ],
   "source": [
    "function generate_U(k,n,t,B,q)\n",
    "    I_matrix=identity_mat(k,n,B,q)\n",
    "    for i in 1:Int((k*k-k)/2)\n",
    "        b=rand(2:k)\n",
    "        a=rand(1:(b-1))\n",
    "        I_matrix[a,b]=sparse_polynomial(n,t,B,q)\n",
    "    end\n",
    "    return I_matrix\n",
    "end\n",
    "U1=generate_U(4,2,2,3,6)\n",
    "# U2=generate_U(4,2,2,3,6)\n",
    "# println(U1)\n",
    "# println(U2)"
   ]
  },
  {
   "cell_type": "code",
   "execution_count": 37,
   "id": "2f935046",
   "metadata": {},
   "outputs": [
    {
     "data": {
      "text/plain": [
       "4×4 Matrix{spoly{n_Zn}}:\n",
       " 1               0                              0  0\n",
       " x1^2*x2^3*x3    1                              0  0\n",
       " 5*x1^3*x2^2*x3  2*x1^2*x2^3*x3 + x1*x2^3*x3^2  1  0\n",
       " 0               0                              0  1"
      ]
     },
     "execution_count": 37,
     "metadata": {},
     "output_type": "execute_result"
    }
   ],
   "source": [
    "function generate_L(k,n,t,B,q)\n",
    "    I_matrix=identity_mat(k,n,B,q)#generate a k by k identity matrix\n",
    "    \n",
    "    for i in 1:Int((k*k-k)/2)\n",
    "        a=rand(2:k)\n",
    "        b=rand(1:a-1)\n",
    "        I_matrix[a,b]=sparse_polynomial(n,t,B,q)\n",
    "    end\n",
    "    return I_matrix\n",
    "end\n",
    "\n",
    "L=generate_L(4,3,2,0,6)"
   ]
  },
  {
   "cell_type": "code",
   "execution_count": 41,
   "id": "73179490",
   "metadata": {},
   "outputs": [
    {
     "data": {
      "text/plain": [
       "smatrix{spoly{n_Zn}}"
      ]
     },
     "execution_count": 41,
     "metadata": {},
     "output_type": "execute_result"
    }
   ],
   "source": [
    "# inv(L)\n",
    "# S=zeros(Sym,5,4)\n",
    "S=[5 6 6 8; 2 2 2 8; 6 6 2 8; 2 3 6 7]\n",
    "typeof(S)\n",
    "I=identity_matrix(R, 3)\n",
    "typeof(I)"
   ]
  },
  {
   "cell_type": "code",
   "execution_count": 27,
   "id": "cdaa7a03",
   "metadata": {},
   "outputs": [
    {
     "data": {
      "text/plain": [
       "3-element Vector{Int64}:\n",
       " 2\n",
       " 4\n",
       " 5"
      ]
     },
     "execution_count": 27,
     "metadata": {},
     "output_type": "execute_result"
    }
   ],
   "source": [
    "function cols_to_keep(k,l)#select l elements from a list of k elements; k choose l\n",
    "    col_opts=[i for i in 1:k]#a list with all possible column indexes\n",
    "    for i in 1:(k-l)#let us remove k-l elements from the list\n",
    "        random_number=size(col_opts,1)\n",
    "        splice!(col_opts, rand(1:random_number))\n",
    "    end\n",
    "    return col_opts\n",
    "end\n",
    "\n",
    "cols_to_keep(5,3)"
   ]
  },
  {
   "cell_type": "code",
   "execution_count": 28,
   "id": "b7eaeee3",
   "metadata": {},
   "outputs": [
    {
     "data": {
      "text/plain": [
       "([1, 2], spoly{n_Zn}[1 0; 4*x1^2*x2^4 1; 5*x1^4*x2^2 + 3*x1^3*x2^3 2*x1^5*x2 + 3*x1^3*x2^3; 2*x1^5*x2 + 3*x1^3*x2^3 0])"
      ]
     },
     "execution_count": 28,
     "metadata": {},
     "output_type": "execute_result"
    }
   ],
   "source": [
    "function random_del_cols(k,l,matrix,n,B,q)\n",
    "    #     col_opts=[i for i in 1:l]\n",
    "    col_opts=cols_to_keep(k,l)\n",
    "    \n",
    "    coefficients = ResidueRing(ZZ, q)#integer modulo q\n",
    "    R,x=PolynomialRing(coefficients, [\"x$i\" for i in 1:n],\n",
    "                       ordering = :degrevlex,degree_bound=B)\n",
    "    matrix_kl=zeros(R,k,l)\n",
    "\n",
    "    \n",
    "    j=1\n",
    "    for i in col_opts#columns to keep from the original matrix\n",
    "        matrix_kl[:,j]=matrix[:,i]\n",
    "        j+=1\n",
    "    end\n",
    "    return col_opts,matrix_kl\n",
    "end\n",
    "\n",
    "random_del_cols(4,2,L,3,3,6)"
   ]
  },
  {
   "cell_type": "code",
   "execution_count": 34,
   "id": "e59ed3ad",
   "metadata": {},
   "outputs": [
    {
     "data": {
      "text/plain": [
       "2×4 Matrix{spoly{n_Zn}}:\n",
       " 4*x1^3*x2*x3^2 + 3*x1^2*x2^2*x3^2  1             0  0\n",
       " 5*x1*x2^2*x3^3                     2*x1*x2*x3^4  1  0"
      ]
     },
     "execution_count": 34,
     "metadata": {},
     "output_type": "execute_result"
    }
   ],
   "source": [
    "function find_kl_inverse(to_keep,S_inv,n,B,q)\n",
    "    k=size(S_inv,1)#find the number of columns\n",
    "    \n",
    "    coefficients = ResidueRing(ZZ, q)#integer modulo q\n",
    "    R,x=PolynomialRing(coefficients, [\"x$i\" for i in 1:n],\n",
    "                       ordering = :degrevlex,degree_bound=B)\n",
    "    ml_inv=zeros(R, length(to_keep),k)\n",
    "    \n",
    "    j=1\n",
    "    for i in to_keep\n",
    "        ml_inv[j,:]=S_inv[i,:]\n",
    "        j+=1\n",
    "    end\n",
    "    return ml_inv\n",
    "end\n",
    "find_kl_inverse([2, 3],L,3,3,6)"
   ]
  },
  {
   "cell_type": "code",
   "execution_count": null,
   "id": "5b3ecdb8",
   "metadata": {},
   "outputs": [],
   "source": []
  }
 ],
 "metadata": {
  "kernelspec": {
   "display_name": "Julia 1.6.7",
   "language": "julia",
   "name": "julia-1.6"
  },
  "language_info": {
   "file_extension": ".jl",
   "mimetype": "application/julia",
   "name": "julia",
   "version": "1.6.7"
  }
 },
 "nbformat": 4,
 "nbformat_minor": 5
}
