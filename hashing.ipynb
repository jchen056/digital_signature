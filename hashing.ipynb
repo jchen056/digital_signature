{
 "cells": [
  {
   "cell_type": "code",
   "execution_count": 1,
   "id": "76a47c91",
   "metadata": {},
   "outputs": [],
   "source": [
    "using SHA\n",
    "using Symbolics\n",
    "using LinearAlgebra"
   ]
  },
  {
   "cell_type": "code",
   "execution_count": 2,
   "id": "dd58d7c2",
   "metadata": {},
   "outputs": [
    {
     "data": {
      "text/plain": [
       "64-element Vector{UInt8}:\n",
       " 0xc1\n",
       " 0x52\n",
       " 0x7c\n",
       " 0xd8\n",
       " 0x93\n",
       " 0xc1\n",
       " 0x24\n",
       " 0x77\n",
       " 0x3d\n",
       " 0x81\n",
       " 0x19\n",
       " 0x11\n",
       " 0x97\n",
       "    ⋮\n",
       " 0x9a\n",
       " 0x0b\n",
       " 0xb2\n",
       " 0x69\n",
       " 0xf5\n",
       " 0x1f\n",
       " 0x6e\n",
       " 0x7a\n",
       " 0x57\n",
       " 0xf7\n",
       " 0x94\n",
       " 0x21"
      ]
     },
     "execution_count": 2,
     "metadata": {},
     "output_type": "execute_result"
    }
   ],
   "source": [
    "message = \"Hello, world!\"\n",
    "hash = sha2_512(message)"
   ]
  },
  {
   "cell_type": "code",
   "execution_count": 3,
   "id": "f3c529d1",
   "metadata": {},
   "outputs": [
    {
     "data": {
      "text/plain": [
       "\"11000001010100100111110011011000100100111100000100100100011101110011110110000001000110010001000110010111000011001000111111100110111010000101011111010110110111110101110111001001001000100110101111011000101000010110000001100001010011000000110011011001011000111010010011011101111010100010101110010100101110110111110100110110000000100001111011111001110110000110010111010101110011101010001010010100101010000010110111010100100110100000101110110010011010011111010100011111011011100111101001010111111101111001010000100001\""
      ]
     },
     "execution_count": 3,
     "metadata": {},
     "output_type": "execute_result"
    }
   ],
   "source": [
    "bitstring512=\"\"\n",
    "for i in hash\n",
    "    bitstring512=bitstring512*bitstring(i)\n",
    "end\n",
    "bitstring512"
   ]
  },
  {
   "cell_type": "markdown",
   "id": "f5c60178",
   "metadata": {},
   "source": [
    "# Bit string of length 512 "
   ]
  },
  {
   "cell_type": "code",
   "execution_count": 60,
   "id": "3c009f4a",
   "metadata": {},
   "outputs": [],
   "source": [
    "# A512=[]\n",
    "# for i in 1:512\n",
    "#     b=Int(round(rand()))\n",
    "#     append!(A512,b)\n",
    "# end"
   ]
  },
  {
   "cell_type": "code",
   "execution_count": 4,
   "id": "6a1b276f",
   "metadata": {},
   "outputs": [],
   "source": [
    "A512=[]\n",
    "for i in bitstring512\n",
    "#     print(Int(i)-48)\n",
    "    append!(A512,Int(i)-48)\n",
    "end\n",
    "# A512"
   ]
  },
  {
   "cell_type": "code",
   "execution_count": 15,
   "id": "29af02df",
   "metadata": {},
   "outputs": [
    {
     "name": "stdout",
     "output_type": "stream",
     "text": [
      "Any[2, 0, 4, 1]\n"
     ]
    }
   ],
   "source": [
    "# coefficients\n",
    "coeffs=[]\n",
    "last12=A512[501:512,]\n",
    "for i in 0:3\n",
    "    b3=last12[(1+3*i):3*(i+1),]\n",
    "    coef=0\n",
    "    for j in 1:3\n",
    "        coef=coef+2^(3-j)*b3[j]\n",
    "    end\n",
    "    coef=mod(coef,6)\n",
    "    append!(coeffs,coef)\n",
    "end\n",
    "println(coeffs)"
   ]
  },
  {
   "cell_type": "code",
   "execution_count": 7,
   "id": "5c765717",
   "metadata": {},
   "outputs": [
    {
     "name": "stdout",
     "output_type": "stream",
     "text": [
      "Any[49, 22, 10, 61, 55, 10, 16, 2, 10, 8, 29, 62, 33, 18, 37, 18, 38, 49, 51, 16, 58, 47, 34, 24, 54, 46, 62, 30, 51, 19, 10, 44, 55, 11, 6, 33, 25, 21, 49, 13, 55, 23, 15, 37, 56, 31, 41, 44, 38, 12]\n"
     ]
    }
   ],
   "source": [
    "#first 300, mapping from 50 variables\n",
    "first300=A512[1:300]\n",
    "vars=[]\n",
    "for i in 1:50\n",
    "    v=first300[(1+6*(i-1)):(6*i),]\n",
    "    vn=0\n",
    "    for j in 1:6\n",
    "        vn=vn+2^(6-j)*v[j]\n",
    "    end\n",
    "    vn=vn+1\n",
    "    append!(vars,vn)\n",
    "end\n",
    "println(vars)"
   ]
  },
  {
   "cell_type": "code",
   "execution_count": 12,
   "id": "d5347400",
   "metadata": {},
   "outputs": [
    {
     "data": {
      "text/plain": [
       "20-element Vector{Any}:\n",
       "          (x[10]^3)*x[2]*x[8]*x[16]*x[49]*x[61]\n",
       "                  x[18]*x[37]*x[49]*x[51]*x[62]\n",
       "                                          x[62]\n",
       " x[6]*x[11]*x[13]*x[21]*x[25]*x[44]*x[49]*x[55]\n",
       "               (x[10]^2)*x[2]*x[49]*x[55]*x[61]\n",
       "                        x[16]*x[18]*x[37]*x[49]\n",
       "      x[19]*x[24]*x[30]*x[46]*x[47]*x[51]*x[58]\n",
       "                   x[6]*x[11]*x[25]*x[49]*x[55]\n",
       "                          x[2]*x[8]*x[10]*x[55]\n",
       "                              x[33]*x[37]*x[38]\n",
       "            x[19]*x[30]*x[34]*x[46]*x[51]*x[54]\n",
       "                        x[11]*x[13]*x[25]*x[44]\n",
       "                                (x[10]^2)*x[49]\n",
       "            x[18]*x[29]*x[33]*x[37]*x[51]*x[62]\n",
       "            x[19]*x[30]*x[34]*x[47]*x[51]*x[54]\n",
       "                  x[10]*x[11]*x[13]*x[33]*x[44]\n",
       "         (x[10]^3)*x[8]*x[16]*x[22]*x[49]*x[61]\n",
       "              (x[18]^2)*x[29]*x[37]*x[38]*x[51]\n",
       "      x[19]*x[24]*x[30]*x[46]*x[47]*x[51]*x[62]\n",
       "       x[6]*x[10]*x[11]*x[13]*x[25]*x[33]*x[44]"
      ]
     },
     "execution_count": 12,
     "metadata": {},
     "output_type": "execute_result"
    }
   ],
   "source": [
    "@variables x[1:64]\n",
    "middle200=A512[301:500]\n",
    "mons=[]\n",
    "for i in 1:5\n",
    "    b40=middle200[(1+40*(i-1)):(40*i)]\n",
    "\n",
    "    for j in 1:4\n",
    "        b10=b40[(1+10*(j-1)):(10*j)]\n",
    "        mon=1\n",
    "\n",
    "        for k in 1:10\n",
    "            if b10[k]==1 \n",
    "\n",
    "                if vars[10*(j-1)+k]!=0\n",
    "                    mon=mon*x[vars[10*(j-1)+k]]\n",
    "                end\n",
    "            end\n",
    "        end\n",
    "        append!(mons,mon)\n",
    "        \n",
    "    end\n",
    "end\n",
    "mons"
   ]
  },
  {
   "cell_type": "code",
   "execution_count": 17,
   "id": "8cddc78a",
   "metadata": {},
   "outputs": [
    {
     "data": {
      "text/plain": [
       "5-element Vector{Any}:\n",
       "                                4x[62] + 2(x[10]^3)*x[2]*x[8]*x[16]*x[49]*x[61] + x[6]*x[11]*x[13]*x[21]*x[25]*x[44]*x[49]*x[55]\n",
       "                   x[6]*x[11]*x[25]*x[49]*x[55] + 2(x[10]^2)*x[2]*x[49]*x[55]*x[61] + 4x[19]*x[24]*x[30]*x[46]*x[47]*x[51]*x[58]\n",
       "                                         x[11]*x[13]*x[25]*x[44] + 2x[2]*x[8]*x[10]*x[55] + 4x[19]*x[30]*x[34]*x[46]*x[51]*x[54]\n",
       "                                         2(x[10]^2)*x[49] + x[10]*x[11]*x[13]*x[33]*x[44] + 4x[19]*x[30]*x[34]*x[47]*x[51]*x[54]\n",
       " x[6]*x[10]*x[11]*x[13]*x[25]*x[33]*x[44] + 2(x[10]^3)*x[8]*x[16]*x[22]*x[49]*x[61] + 4x[19]*x[24]*x[30]*x[46]*x[47]*x[51]*x[62]"
      ]
     },
     "execution_count": 17,
     "metadata": {},
     "output_type": "execute_result"
    }
   ],
   "source": [
    "polys=[]\n",
    "for i in 1:5\n",
    "    pol=0\n",
    "    for j in 1:4\n",
    "        pol=pol+mons[4*(i-1)+j]*coeffs[j]\n",
    "    end\n",
    "    append!(polys,pol)\n",
    "end\n",
    "polys"
   ]
  },
  {
   "cell_type": "code",
   "execution_count": 102,
   "id": "922551d0",
   "metadata": {},
   "outputs": [
    {
     "data": {
      "text/latex": [
       "$$ \\begin{equation}\n",
       "2 x_{1 3} x_{1 7} x_{3 9} x_{4 1} + 2 x_1 x_{1 1} x_{2 0} x_{3 7} x_{4 0} x_{4 5}\n",
       "\\end{equation}\n",
       " $$"
      ],
      "text/plain": [
       "2x[13]*x[17]*x[39]*x[41] + 2x[1]*x[11]*x[20]*x[37]*x[40]*x[45]"
      ]
     },
     "execution_count": 102,
     "metadata": {},
     "output_type": "execute_result"
    }
   ],
   "source": [
    "# mons_rand4=rand(mons,4)\n",
    "# polyn=0\n",
    "# for i in 1:4\n",
    "#     polyn=polyn+coeffs[i]*mons_rand4[i]\n",
    "# end\n",
    "# polyn"
   ]
  },
  {
   "cell_type": "code",
   "execution_count": null,
   "id": "7e1165c5",
   "metadata": {},
   "outputs": [],
   "source": []
  }
 ],
 "metadata": {
  "kernelspec": {
   "display_name": "Julia 1.6.7",
   "language": "julia",
   "name": "julia-1.6"
  },
  "language_info": {
   "file_extension": ".jl",
   "mimetype": "application/julia",
   "name": "julia",
   "version": "1.6.7"
  }
 },
 "nbformat": 4,
 "nbformat_minor": 5
}
