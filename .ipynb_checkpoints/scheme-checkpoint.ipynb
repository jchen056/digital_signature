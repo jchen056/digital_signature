{
 "cells": [
  {
   "cell_type": "code",
   "execution_count": 1,
   "id": "964c1bd3",
   "metadata": {},
   "outputs": [],
   "source": [
    "using Symbolics\n",
    "using LinearAlgebra\n",
    "using SHA\n",
    "using Statistics"
   ]
  },
  {
   "cell_type": "code",
   "execution_count": 6,
   "id": "a9fc83d0",
   "metadata": {},
   "outputs": [],
   "source": [
    "# cnt=0\n",
    "# f=open(\"signature.txt\",\"r\")\n",
    "# for lines in readlines(f)\n",
    "#     cnt=cnt+count(i->(i=='x'), lines)\n",
    "# end\n",
    "# close(f)\n",
    "# println(cnt)\n"
   ]
  },
  {
   "cell_type": "markdown",
   "id": "c2afb184",
   "metadata": {},
   "source": [
    "# generate sparse polynomials"
   ]
  },
  {
   "cell_type": "code",
   "execution_count": 2,
   "id": "46d3f9da",
   "metadata": {},
   "outputs": [
    {
     "data": {
      "text/plain": [
       "1-element Vector{Symbolics.Arr{Num, 1}}:\n",
       " x[1:64]"
      ]
     },
     "execution_count": 2,
     "metadata": {},
     "output_type": "execute_result"
    }
   ],
   "source": [
    "@variables x[1:64]"
   ]
  },
  {
   "cell_type": "code",
   "execution_count": 3,
   "id": "1a0f081e",
   "metadata": {},
   "outputs": [
    {
     "data": {
      "text/plain": [
       "modify_coeffcients (generic function with 1 method)"
      ]
     },
     "execution_count": 3,
     "metadata": {},
     "output_type": "execute_result"
    }
   ],
   "source": [
    "function modify_coeffcients(A,q)\n",
    "    \n",
    "    coeffs_map=Symbolics.value(A).dict#turn the polynomial into matrix\n",
    "    B=0#create our new polynomial\n",
    "    for (key, value) in coeffs_map#iterate through the dict(monomial, coeffcients)\n",
    "        new_coef=value%q\n",
    "        B+=new_coef*key\n",
    "    end\n",
    "    return B\n",
    "end"
   ]
  },
  {
   "cell_type": "code",
   "execution_count": 4,
   "id": "edd6f2b9",
   "metadata": {},
   "outputs": [
    {
     "data": {
      "text/latex": [
       "$$ \\begin{equation}\n",
       "2 x_3 + 3 x_2^{2} x_1 + 2 x_3^{2} x_2\n",
       "\\end{equation}\n",
       " $$"
      ],
      "text/plain": [
       "2x[3] + 3(x[2]^2)*x[1] + 2(x[3]^2)*x[2]"
      ]
     },
     "execution_count": 4,
     "metadata": {},
     "output_type": "execute_result"
    }
   ],
   "source": [
    "#t monomials\n",
    "#bound the degree of mononials by b, 1-b inclusive\n",
    "#coefficients go from 1 to q-1(inclusive)\n",
    "function sparse_polynomial(n,t,b,q)\n",
    "    @variables x[1:n]\n",
    "    \n",
    "    sparse_poly=0\n",
    "    \n",
    "    for i in 1:t #we want t monomials\n",
    "        deg=rand(1:b)\n",
    "        \n",
    "        monomial_d=1\n",
    "        for j in 1:deg\n",
    "            monomial_d*=x[rand(1:n)]\n",
    "        end\n",
    "        sparse_poly+=rand(1:(q-1))*monomial_d\n",
    "        \n",
    "    end\n",
    "#     println(sparse_poly)\n",
    "    A=modify_coeffcients(sparse_poly,q)\n",
    "    return A\n",
    "end\n",
    "\n",
    "A=sparse_polynomial(3,5,3,6)\n",
    "A"
   ]
  },
  {
   "cell_type": "markdown",
   "id": "85298bc3",
   "metadata": {},
   "source": [
    "# Generate kl matrix"
   ]
  },
  {
   "cell_type": "code",
   "execution_count": 5,
   "id": "77117e18",
   "metadata": {},
   "outputs": [
    {
     "data": {
      "text/plain": [
       "num_identity (generic function with 1 method)"
      ]
     },
     "execution_count": 5,
     "metadata": {},
     "output_type": "execute_result"
    }
   ],
   "source": [
    "function num_identity(k)\n",
    "    a=zeros(Num,k)\n",
    "    a[1]=1\n",
    "    for i in 2:k\n",
    "        b=zeros(Num,k)\n",
    "        b[i]=1\n",
    "        a=[a b] \n",
    "    end\n",
    "    return a\n",
    "end\n",
    "# I_mat=num_identity(4)\n",
    "# I_mat[1,1]=x[2]*x[3]+x[1]\n",
    "# I_mat\n"
   ]
  },
  {
   "cell_type": "code",
   "execution_count": 74,
   "id": "015bc7f3",
   "metadata": {},
   "outputs": [
    {
     "data": {
      "text/latex": [
       "$$ \\begin{equation}\n",
       "\\left[\n",
       "\\begin{array}{ccccc}\n",
       "1 & 4 x_{2 1} + x_{1 3} x_{2 2} x_{2 4} + 3 x_5 x_{1 6} x_{2 7} & \\left( 4 x_{1 9} + 5 x_{1 1} x_{1 2} x_{1 8} + x_{2 2} \\right) \\left( 4 x_{2 1} + x_{1 3} x_{2 2} x_{2 4} + 3 x_5 x_{1 6} x_{2 7} \\right) + 5 x_{2 2}^{2} x_8 + 2 x_2 x_{1 8} x_{2 4} + x_{2 4} & 3 x_7 + \\left( 2 x_2 + 3 x_{2 0} x_{2 2} + 4 x_8 x_{1 6} x_{2 7} \\right) \\left( \\left( 4 x_{1 9} + 5 x_{1 1} x_{1 2} x_{1 8} + x_{2 2} \\right) \\left( 4 x_{2 1} + x_{1 3} x_{2 2} x_{2 4} + 3 x_5 x_{1 6} x_{2 7} \\right) + 5 x_{2 2}^{2} x_8 + 2 x_2 x_{1 8} x_{2 4} + x_{2 4} \\right) + \\left( 2 x_6 x_{3 1} + x_{1 1} x_{1 8} x_{2 9} + 4 x_{1 4} x_{2 7} x_{3 0} \\right) \\left( 4 x_{2 1} + x_{1 3} x_{2 2} x_{2 4} + 3 x_5 x_{1 6} x_{2 7} \\right) + 2 x_6 x_{1 9} + 4 x_{1 0} x_{2 3} x_{2 5} & \\left( 3 x_{2 3} + 3 x_6 x_{2 5} + 2 x_3 x_4 x_{2 8} \\right) \\left( 4 x_{2 1} + x_{1 3} x_{2 2} x_{2 4} + 3 x_5 x_{1 6} x_{2 7} \\right) + \\left( x_{1 5} x_{3 0} + 4 x_2 x_3 x_{3 0} + 5 x_6 x_{1 3} x_{3 2} \\right) \\left( 3 x_7 + \\left( 2 x_2 + 3 x_{2 0} x_{2 2} + 4 x_8 x_{1 6} x_{2 7} \\right) \\left( \\left( 4 x_{1 9} + 5 x_{1 1} x_{1 2} x_{1 8} + x_{2 2} \\right) \\left( 4 x_{2 1} + x_{1 3} x_{2 2} x_{2 4} + 3 x_5 x_{1 6} x_{2 7} \\right) + 5 x_{2 2}^{2} x_8 + 2 x_2 x_{1 8} x_{2 4} + x_{2 4} \\right) + \\left( 2 x_6 x_{3 1} + x_{1 1} x_{1 8} x_{2 9} + 4 x_{1 4} x_{2 7} x_{3 0} \\right) \\left( 4 x_{2 1} + x_{1 3} x_{2 2} x_{2 4} + 3 x_5 x_{1 6} x_{2 7} \\right) + 2 x_6 x_{1 9} + 4 x_{1 0} x_{2 3} x_{2 5} \\right) + \\left( 3 x_5 x_{1 1} + 5 x_{1 7} x_{2 0} + 5 x_1 x_{1 9} x_{2 1} \\right) \\left( \\left( 4 x_{1 9} + 5 x_{1 1} x_{1 2} x_{1 8} + x_{2 2} \\right) \\left( 4 x_{2 1} + x_{1 3} x_{2 2} x_{2 4} + 3 x_5 x_{1 6} x_{2 7} \\right) + 5 x_{2 2}^{2} x_8 + 2 x_2 x_{1 8} x_{2 4} + x_{2 4} \\right) + x_1 x_{1 3} + 4 x_6 x_{3 1} + 2 x_8 x_{1 6} x_{2 7} \\\\\n",
       "0 & 1 & 4 x_{1 9} + 5 x_{1 1} x_{1 2} x_{1 8} + x_{2 2} & \\left( 2 x_2 + 3 x_{2 0} x_{2 2} + 4 x_8 x_{1 6} x_{2 7} \\right) \\left( 4 x_{1 9} + 5 x_{1 1} x_{1 2} x_{1 8} + x_{2 2} \\right) + 2 x_6 x_{3 1} + x_{1 1} x_{1 8} x_{2 9} + 4 x_{1 4} x_{2 7} x_{3 0} & \\left( 3 x_5 x_{1 1} + 5 x_{1 7} x_{2 0} + 5 x_1 x_{1 9} x_{2 1} \\right) \\left( 4 x_{1 9} + 5 x_{1 1} x_{1 2} x_{1 8} + x_{2 2} \\right) + 3 x_{2 3} + \\left( x_{1 5} x_{3 0} + 4 x_2 x_3 x_{3 0} + 5 x_6 x_{1 3} x_{3 2} \\right) \\left( \\left( 2 x_2 + 3 x_{2 0} x_{2 2} + 4 x_8 x_{1 6} x_{2 7} \\right) \\left( 4 x_{1 9} + 5 x_{1 1} x_{1 2} x_{1 8} + x_{2 2} \\right) + 2 x_6 x_{3 1} + x_{1 1} x_{1 8} x_{2 9} + 4 x_{1 4} x_{2 7} x_{3 0} \\right) + 3 x_6 x_{2 5} + 2 x_3 x_4 x_{2 8} \\\\\n",
       "0 & 0 & 1 & 2 x_2 + 3 x_{2 0} x_{2 2} + 4 x_8 x_{1 6} x_{2 7} & \\left( x_{1 5} x_{3 0} + 4 x_2 x_3 x_{3 0} + 5 x_6 x_{1 3} x_{3 2} \\right) \\left( 2 x_2 + 3 x_{2 0} x_{2 2} + 4 x_8 x_{1 6} x_{2 7} \\right) + 3 x_5 x_{1 1} + 5 x_{1 7} x_{2 0} + 5 x_1 x_{1 9} x_{2 1} \\\\\n",
       "0 & 0 & 0 & 1 & x_{1 5} x_{3 0} + 4 x_2 x_3 x_{3 0} + 5 x_6 x_{1 3} x_{3 2} \\\\\n",
       "0 & 0 & 0 & 0 & 1 \\\\\n",
       "\\end{array}\n",
       "\\right]\n",
       "\\end{equation}\n",
       " $$"
      ],
      "text/plain": [
       "5×5 Matrix{Num}:\n",
       " 1  …  (3x[23] + 3x[6]*x[25] + 2x[3]*x[4]*x[28])*(4x[21] + x[13]*x[22]*x[24] + 3x[5]*x[16]*x[27]) + (x[15]*x[30] + 4x[2]*x[3]*x[30] + 5x[6]*x[13]*x[32])*(3x[7] + (2x[2] + 3x[20]*x[22] + 4x[8]*x[16]*x[27])*((4x[19] + 5x[11]*x[12]*x[18] + x[22])*(4x[21] + x[13]*x[22]*x[24] + 3x[5]*x[16]*x[27]) + 5(x[22]^2)*x[8] + 2x[2]*x[18]*x[24] + x[24]) + (2x[6]*x[31] + x[11]*x[18]*x[29] + 4x[14]*x[27]*x[30])*(4x[21] + x[13]*x[22]*x[24] + 3x[5]*x[16]*x[27]) + 2x[6]*x[19] + 4x[10]*x[23]*x[25]) + (3x[5]*x[11] + 5x[17]*x[20] + 5x[1]*x[19]*x[21])*((4x[19] + 5x[11]*x[12]*x[18] + x[22])*(4x[21] + x[13]*x[22]*x[24] + 3x[5]*x[16]*x[27]) + 5(x[22]^2)*x[8] + 2x[2]*x[18]*x[24] + x[24]) + x[1]*x[13] + 4x[6]*x[31] + 2x[8]*x[16]*x[27]\n",
       " 0                                                                                                                                                                                                                                                                                                                                                                                                       (3x[5]*x[11] + 5x[17]*x[20] + 5x[1]*x[19]*x[21])*(4x[19] + 5x[11]*x[12]*x[18] + x[22]) + 3x[23] + (x[15]*x[30] + 4x[2]*x[3]*x[30] + 5x[6]*x[13]*x[32])*((2x[2] + 3x[20]*x[22] + 4x[8]*x[16]*x[27])*(4x[19] + 5x[11]*x[12]*x[18] + x[22]) + 2x[6]*x[31] + x[11]*x[18]*x[29] + 4x[14]*x[27]*x[30]) + 3x[6]*x[25] + 2x[3]*x[4]*x[28]\n",
       " 0                                                                                                                                                                                                                                                                                                                                                                                                                                                                                                                                                                                        (x[15]*x[30] + 4x[2]*x[3]*x[30] + 5x[6]*x[13]*x[32])*(2x[2] + 3x[20]*x[22] + 4x[8]*x[16]*x[27]) + 3x[5]*x[11] + 5x[17]*x[20] + 5x[1]*x[19]*x[21]\n",
       " 0                                                                                                                                                                                                                                                                                                                                                                                                                                                                                                                                                                                                                                                                                      x[15]*x[30] + 4x[2]*x[3]*x[30] + 5x[6]*x[13]*x[32]\n",
       " 0                                                                                                                                                                                                                                                                                                                                                                                                                                                                                                                                                                                                                                                                                                                                       1"
      ]
     },
     "execution_count": 74,
     "metadata": {},
     "output_type": "execute_result"
    }
   ],
   "source": [
    "function generate_U(k,n,t,B,q)\n",
    "    Es=[]\n",
    "    for i in 1:(k-1)\n",
    "        for j in (i+1):k\n",
    "            I_matrix=num_identity(k)\n",
    "            I_matrix[i,j]=sparse_polynomial(n,t,B,q)\n",
    "            push!(Es,I_matrix)\n",
    "        end\n",
    "    end\n",
    "#     I_matrix=num_identity(k)#generate a k by k identity matrix\n",
    "#     for i in 1:Int((k*k-k)/2)\n",
    "#     b=rand(2:k)\n",
    "#     a=rand(1:(b-1))\n",
    "#     I_matrix[a,b]=sparse_polynomial(n,t,B,q)\n",
    "#     end\n",
    "\n",
    "    return Es\n",
    "end \n",
    "U=generate_U(5,32,3,3,6)\n",
    "\n",
    "\n",
    "res_U=U[1]\n",
    "for i in 2:Int(size(U)[1])\n",
    "    res_U=res_U*U[i]\n",
    "end\n",
    "res_U\n",
    "# simplify.(expand.(res_U))\n",
    "# simplify.(expand.(res_U*expand.(inv(res_U))))\n"
   ]
  },
  {
   "cell_type": "code",
   "execution_count": 514,
   "id": "23bcf820",
   "metadata": {},
   "outputs": [
    {
     "data": {
      "text/latex": [
       "$$ \\begin{equation}\n",
       "\\left[\n",
       "\\begin{array}{ccc}\n",
       "1 & 3 x_{1 5} x_{2 9} + 5 x_{2 8} x_{3 0} + x_{2 2} & \\left( x_{2 2} x_{2 8} + x_1 x_8 x_{2 7} + 3 x_{1 8} x_{2 1} \\right) \\left( 3 x_{1 5} x_{2 9} + 5 x_{2 8} x_{3 0} + x_{2 2} \\right) + 2 x_8 + x_3 x_8 x_{1 3} + 4 x_{2 1} x_{3 1} \\\\\n",
       "0 & 1 & x_{2 2} x_{2 8} + x_1 x_8 x_{2 7} + 3 x_{1 8} x_{2 1} \\\\\n",
       "0 & 0 & 1 \\\\\n",
       "\\end{array}\n",
       "\\right]\n",
       "\\end{equation}\n",
       " $$"
      ],
      "text/plain": [
       "3×3 Matrix{Num}:\n",
       " 1  …  (x[22]*x[28] + x[1]*x[8]*x[27] + 3x[18]*x[21])*(3x[15]*x[29] + 5x[28]*x[30] + x[22]) + 2x[8] + x[3]*x[8]*x[13] + 4x[21]*x[31]\n",
       " 0                                                                                      x[22]*x[28] + x[1]*x[8]*x[27] + 3x[18]*x[21]\n",
       " 0                                                                                                                                 1"
      ]
     },
     "execution_count": 514,
     "metadata": {},
     "output_type": "execute_result"
    }
   ],
   "source": [
    "# U[1]*U[2]*U[3]"
   ]
  },
  {
   "cell_type": "code",
   "execution_count": 75,
   "id": "d0fb016f",
   "metadata": {},
   "outputs": [
    {
     "data": {
      "text/latex": [
       "$$ \\begin{equation}\n",
       "\\left[\n",
       "\\begin{array}{ccccc}\n",
       "1.0 &  - 4 x_{2 1} - 3 x_5 x_{1 6} x_{2 7} - x_{1 3} x_{2 2} x_{2 4} &  - x_{2 4} - 5 x_{2 2}^{2} x_8 - 2 x_2 x_{1 8} x_{2 4} &  - 3 x_7 - 2 x_6 x_{1 9} - 4 x_{1 0} x_{2 3} x_{2 5} &  - x_1 x_{1 3} - 4 x_6 x_{3 1} - 2 x_8 x_{1 6} x_{2 7} \\\\\n",
       "0.0 & 1.0 &  - x_{2 2} - 4 x_{1 9} - 5 x_{1 1} x_{1 2} x_{1 8} &  - 2 x_6 x_{3 1} - x_{1 1} x_{1 8} x_{2 9} - 4 x_{1 4} x_{2 7} x_{3 0} &  - 3 x_{2 3} - 3 x_6 x_{2 5} - 2 x_3 x_4 x_{2 8} \\\\\n",
       "0.0 & 0.0 & 1.0 &  - 2 x_2 - 3 x_{2 0} x_{2 2} - 4 x_8 x_{1 6} x_{2 7} &  - 3 x_5 x_{1 1} - 5 x_{1 7} x_{2 0} - 5 x_1 x_{1 9} x_{2 1} \\\\\n",
       "0.0 & 0.0 & 0.0 & 1.0 &  - x_{1 5} x_{3 0} - 4 x_2 x_3 x_{3 0} - 5 x_6 x_{1 3} x_{3 2} \\\\\n",
       "0.0 & 0.0 & 0.0 & 0.0 & 1.0 \\\\\n",
       "\\end{array}\n",
       "\\right]\n",
       "\\end{equation}\n",
       " $$"
      ],
      "text/plain": [
       "5×5 Matrix{Num}:\n",
       " 1.0  …        -x[1]*x[13] - 4x[6]*x[31] - 2x[8]*x[16]*x[27]\n",
       " 0.0                -3x[23] - 3x[6]*x[25] - 2x[3]*x[4]*x[28]\n",
       " 0.0         -3x[5]*x[11] - 5x[17]*x[20] - 5x[1]*x[19]*x[21]\n",
       " 0.0     -x[15]*x[30] - 4x[2]*x[3]*x[30] - 5x[6]*x[13]*x[32]\n",
       " 0.0                                                       1.0"
      ]
     },
     "execution_count": 75,
     "metadata": {},
     "output_type": "execute_result"
    }
   ],
   "source": [
    "uSize=Int(size(U)[1])\n",
    "invU=inv(U[uSize])\n",
    "for i in 1:(uSize-1)\n",
    "    invU=invU*inv(U[uSize-i])\n",
    "end\n",
    "invU"
   ]
  },
  {
   "cell_type": "code",
   "execution_count": 76,
   "id": "d94e6f15",
   "metadata": {},
   "outputs": [
    {
     "data": {
      "text/latex": [
       "$$ \\begin{equation}\n",
       "\\left[\n",
       "\\begin{array}{ccccc}\n",
       "1.0 & 0 & 0 & 0 & 0 \\\\\n",
       "0.0 & 1.0 & 0 & 0 & 0 \\\\\n",
       "0.0 & 0.0 & 1.0 & 0 & 0 \\\\\n",
       "0.0 & 0.0 & 0.0 & 1.0 & 0 \\\\\n",
       "0.0 & 0.0 & 0.0 & 0.0 & 1.0 \\\\\n",
       "\\end{array}\n",
       "\\right]\n",
       "\\end{equation}\n",
       " $$"
      ],
      "text/plain": [
       "5×5 Matrix{Num}:\n",
       " 1.0  0    0    0    0\n",
       " 0.0  1.0  0    0    0\n",
       " 0.0  0.0  1.0  0    0\n",
       " 0.0  0.0  0.0  1.0  0\n",
       " 0.0  0.0  0.0  0.0  1.0"
      ]
     },
     "execution_count": 76,
     "metadata": {},
     "output_type": "execute_result"
    }
   ],
   "source": [
    "simplify.(expand.(invU*res_U))"
   ]
  },
  {
   "cell_type": "code",
   "execution_count": 77,
   "id": "4bad2225",
   "metadata": {},
   "outputs": [
    {
     "data": {
      "text/latex": [
       "$$ \\begin{equation}\n",
       "\\left[\n",
       "\\begin{array}{ccccc}\n",
       "1.0 & 0 & 0 & 0 & 0 \\\\\n",
       "0.0 & 1.0 & 0 & 0 & 0 \\\\\n",
       "0.0 & 0.0 & 1.0 & 0 & 0 \\\\\n",
       "0.0 & 0.0 & 0.0 & 1.0 & 0 \\\\\n",
       "0.0 & 0.0 & 0.0 & 0.0 & 1.0 \\\\\n",
       "\\end{array}\n",
       "\\right]\n",
       "\\end{equation}\n",
       " $$"
      ],
      "text/plain": [
       "5×5 Matrix{Num}:\n",
       " 1.0  0    0    0    0\n",
       " 0.0  1.0  0    0    0\n",
       " 0.0  0.0  1.0  0    0\n",
       " 0.0  0.0  0.0  1.0  0\n",
       " 0.0  0.0  0.0  0.0  1.0"
      ]
     },
     "execution_count": 77,
     "metadata": {},
     "output_type": "execute_result"
    }
   ],
   "source": [
    "res_U=modify_matrix_coef(res_U,6)\n",
    "invU=modify_matrix_coef(invU,6)\n",
    "modify_matrix_coef(res_U*invU,6)"
   ]
  },
  {
   "cell_type": "code",
   "execution_count": 79,
   "id": "e09eb890",
   "metadata": {},
   "outputs": [
    {
     "data": {
      "text/latex": [
       "$$ \\begin{equation}\n",
       "\\left[\n",
       "\\begin{array}{ccccc}\n",
       "1 & 0 & 0 & 0 & 0 \\\\\n",
       "3 x_{1 1} + 5 x_{1 7} x_{3 1} + x_3 & 1 & 0 & 0 & 0 \\\\\n",
       "2 x_2 x_7 + 2 x_{1 4} x_{2 4} x_{2 9} + x_{2 5} & 3 x_{1 2} x_{1 3} x_{1 4} + x_{1 9} + x_{2 2} & 1 & 0 & 0 \\\\\n",
       "2 x_{1 3} + x_{1 4}^{2} + 5 x_{1 1} x_{2 7} & 3 x_{1 3} + 3 x_{1 4} + 5 x_5 x_9 x_{2 4} & x_7^{2} + 2 x_{1 7} + 3 x_2 x_{1 3} x_{2 5} & 1 & 0 \\\\\n",
       "4 x_{1 8} + 4 x_{2 5} + 3 x_{1 3} x_{2 1} x_{2 2} & 3 x_{2 1} x_{3 0} + 4 x_1 x_{1 5} + x_4 x_{1 9} x_{2 8} & 3 x_{2 8} + 5 x_{2 7} + 3 x_{1 0} x_{1 8} x_{2 6} & x_{2 2} x_{2 6} + 4 x_8 x_{1 4} + 5 x_{1 7} x_{1 9} x_{2 1} & 1 \\\\\n",
       "\\end{array}\n",
       "\\right]\n",
       "\\end{equation}\n",
       " $$"
      ],
      "text/plain": [
       "5×5 Matrix{Num}:\n",
       "                                       1  …  0\n",
       "            3x[11] + 5x[17]*x[31] + x[3]     0\n",
       " 2x[2]*x[7] + 2x[14]*x[24]*x[29] + x[25]     0\n",
       "         2x[13] + x[14]^2 + 5x[11]*x[27]     0\n",
       "    4x[18] + 4x[25] + 3x[13]*x[21]*x[22]     1"
      ]
     },
     "execution_count": 79,
     "metadata": {},
     "output_type": "execute_result"
    }
   ],
   "source": [
    "function generate_L(k,n,t,B,q)\n",
    "    Es=[]\n",
    "    for i in 2:k\n",
    "        for j in 1:(i-1)\n",
    "            I_matrix=num_identity(k)\n",
    "            I_matrix[i,j]=sparse_polynomial(n,t,B,q)\n",
    "            push!(Es,I_matrix)\n",
    "        end\n",
    "    end\n",
    "#     I_matrix=num_identity(k)#generate a k by k identity matrix\n",
    "#     for i in 1:Int((k*k-k)/2)\n",
    "#         a=rand(2:k)\n",
    "#         b=rand(1:a-1)\n",
    "#         I_matrix[a,b]=sparse_polynomial(n,t,B,q)\n",
    "#     end\n",
    "\n",
    "    return Es\n",
    "end\n",
    "\n",
    "L=generate_L(5,32,3,3,6)\n",
    "\n",
    "res_L=L[1]\n",
    "for i in 2:Int(size(L)[1])\n",
    "    res_L=res_L*L[i]\n",
    "end\n",
    "res_L\n",
    "# simplify.(expand.(inv(L)))\n"
   ]
  },
  {
   "cell_type": "code",
   "execution_count": 520,
   "id": "a2ebc1a7",
   "metadata": {},
   "outputs": [
    {
     "data": {
      "text/latex": [
       "$$ \\begin{equation}\n",
       "\\left[\n",
       "\\begin{array}{ccc}\n",
       "1 & 0 & 0 \\\\\n",
       "2 x_{1 1} x_{3 0} + x_{1 4} x_{2 9} x_{4 4} + 5 x_{2 6} x_{3 1} x_{3 6} & 1 & 0 \\\\\n",
       "4 x_{3 8} + 2 x_{3 1} x_{4 4} x_{5 0} + x_{1 3} & 3 x_1 + 5 x_{3 6} + 2 x_2 x_{3 1} & 1 \\\\\n",
       "\\end{array}\n",
       "\\right]\n",
       "\\end{equation}\n",
       " $$"
      ],
      "text/plain": [
       "3×3 Matrix{Num}:\n",
       "                                                     1  …                             0  0\n",
       " 2x[11]*x[30] + x[14]*x[29]*x[44] + 5x[26]*x[31]*x[36]                                1  0\n",
       "                   4x[38] + 2x[31]*x[44]*x[50] + x[13]     3x[1] + 5x[36] + 2x[2]*x[31]  1"
      ]
     },
     "execution_count": 520,
     "metadata": {},
     "output_type": "execute_result"
    }
   ],
   "source": [
    "# L[1]*L[2]*L[3]"
   ]
  },
  {
   "cell_type": "code",
   "execution_count": 80,
   "id": "b10b41f3",
   "metadata": {},
   "outputs": [
    {
     "data": {
      "text/latex": [
       "$$ \\begin{equation}\n",
       "\\left[\n",
       "\\begin{array}{ccccc}\n",
       "1.0 & 0.0 & 0.0 & 0.0 & 0.0 \\\\\n",
       " - x_3 - 3 x_{1 1} - 5 x_{1 7} x_{3 1} & 1.0 & 0.0 & 0.0 & 0.0 \\\\\n",
       "\\left(  - x_3 - 3 x_{1 1} - 5 x_{1 7} x_{3 1} \\right) \\left(  - x_{1 9} - x_{2 2} - 3 x_{1 2} x_{1 3} x_{1 4} \\right) - x_{2 5} - 2 x_2 x_7 - 2 x_{1 4} x_{2 4} x_{2 9} &  - x_{1 9} - x_{2 2} - 3 x_{1 2} x_{1 3} x_{1 4} & 1.0 & 0.0 & 0.0 \\\\\n",
       " - x_{1 4}^{2} + \\left(  - x_3 - 3 x_{1 1} - 5 x_{1 7} x_{3 1} \\right) \\left( \\left(  - x_{1 9} - x_{2 2} - 3 x_{1 2} x_{1 3} x_{1 4} \\right) \\left(  - x_7^{2} - 2 x_{1 7} - 3 x_2 x_{1 3} x_{2 5} \\right) - 3 x_{1 3} - 3 x_{1 4} - 5 x_5 x_9 x_{2 4} \\right) + \\left(  - x_{2 5} - 2 x_2 x_7 - 2 x_{1 4} x_{2 4} x_{2 9} \\right) \\left(  - x_7^{2} - 2 x_{1 7} - 3 x_2 x_{1 3} x_{2 5} \\right) - 2 x_{1 3} - 5 x_{1 1} x_{2 7} & \\left(  - x_{1 9} - x_{2 2} - 3 x_{1 2} x_{1 3} x_{1 4} \\right) \\left(  - x_7^{2} - 2 x_{1 7} - 3 x_2 x_{1 3} x_{2 5} \\right) - 3 x_{1 3} - 3 x_{1 4} - 5 x_5 x_9 x_{2 4} &  - x_7^{2} - 2 x_{1 7} - 3 x_2 x_{1 3} x_{2 5} & 1.0 & 0.0 \\\\\n",
       " - 4 x_{1 8} + \\left(  - x_3 - 3 x_{1 1} - 5 x_{1 7} x_{3 1} \\right) \\left( \\left(  - x_{1 9} - x_{2 2} - 3 x_{1 2} x_{1 3} x_{1 4} \\right) \\left( \\left(  - x_{2 2} x_{2 6} - 4 x_8 x_{1 4} - 5 x_{1 7} x_{1 9} x_{2 1} \\right) \\left(  - x_7^{2} - 2 x_{1 7} - 3 x_2 x_{1 3} x_{2 5} \\right) - 3 x_{2 8} - 5 x_{2 7} - 3 x_{1 0} x_{1 8} x_{2 6} \\right) + \\left(  - x_{2 2} x_{2 6} - 4 x_8 x_{1 4} - 5 x_{1 7} x_{1 9} x_{2 1} \\right) \\left(  - 3 x_{1 3} - 3 x_{1 4} - 5 x_5 x_9 x_{2 4} \\right) - 3 x_{2 1} x_{3 0} - 4 x_1 x_{1 5} - x_4 x_{1 9} x_{2 8} \\right) - 4 x_{2 5} + \\left(  - x_{1 4}^{2} - 2 x_{1 3} - 5 x_{1 1} x_{2 7} \\right) \\left(  - x_{2 2} x_{2 6} - 4 x_8 x_{1 4} - 5 x_{1 7} x_{1 9} x_{2 1} \\right) + \\left(  - x_{2 5} - 2 x_2 x_7 - 2 x_{1 4} x_{2 4} x_{2 9} \\right) \\left( \\left(  - x_{2 2} x_{2 6} - 4 x_8 x_{1 4} - 5 x_{1 7} x_{1 9} x_{2 1} \\right) \\left(  - x_7^{2} - 2 x_{1 7} - 3 x_2 x_{1 3} x_{2 5} \\right) - 3 x_{2 8} - 5 x_{2 7} - 3 x_{1 0} x_{1 8} x_{2 6} \\right) - 3 x_{1 3} x_{2 1} x_{2 2} & \\left(  - x_{1 9} - x_{2 2} - 3 x_{1 2} x_{1 3} x_{1 4} \\right) \\left( \\left(  - x_{2 2} x_{2 6} - 4 x_8 x_{1 4} - 5 x_{1 7} x_{1 9} x_{2 1} \\right) \\left(  - x_7^{2} - 2 x_{1 7} - 3 x_2 x_{1 3} x_{2 5} \\right) - 3 x_{2 8} - 5 x_{2 7} - 3 x_{1 0} x_{1 8} x_{2 6} \\right) + \\left(  - x_{2 2} x_{2 6} - 4 x_8 x_{1 4} - 5 x_{1 7} x_{1 9} x_{2 1} \\right) \\left(  - 3 x_{1 3} - 3 x_{1 4} - 5 x_5 x_9 x_{2 4} \\right) - 3 x_{2 1} x_{3 0} - 4 x_1 x_{1 5} - x_4 x_{1 9} x_{2 8} & \\left(  - x_{2 2} x_{2 6} - 4 x_8 x_{1 4} - 5 x_{1 7} x_{1 9} x_{2 1} \\right) \\left(  - x_7^{2} - 2 x_{1 7} - 3 x_2 x_{1 3} x_{2 5} \\right) - 3 x_{2 8} - 5 x_{2 7} - 3 x_{1 0} x_{1 8} x_{2 6} &  - x_{2 2} x_{2 6} - 4 x_8 x_{1 4} - 5 x_{1 7} x_{1 9} x_{2 1} & 1.0 \\\\\n",
       "\\end{array}\n",
       "\\right]\n",
       "\\end{equation}\n",
       " $$"
      ],
      "text/plain": [
       "5×5 Matrix{Num}:\n",
       "                                                                                                                                                                                                                                                                                                                                                                                                                                                                                                                                                                                                                                                                      1.0  …  0.0\n",
       "                                                                                                                                                                                                                                                                                                                                                                                                                                                                                                                                                                                                                                          -x[3] - 3x[11] - 5x[17]*x[31]       0.0\n",
       "                                                                                                                                                                                                                                                                                                                                                                                                                                                                                                                                                        (-x[3] - 3x[11] - 5x[17]*x[31])*(-x[19] - x[22] - 3x[12]*x[13]*x[14]) - x[25] - 2x[2]*x[7] - 2x[14]*x[24]*x[29]       0.0\n",
       "                                                                                                                                                                                                                                                                                                                                                                                        (-x[3] - 3x[11] - 5x[17]*x[31])*((-x[19] - x[22] - 3x[12]*x[13]*x[14])*(-(x[7]^2) - 2x[17] - 3x[2]*x[13]*x[25]) - 3x[13] - 3x[14] - 5x[5]*x[9]*x[24]) + (-x[25] - 2x[2]*x[7] - 2x[14]*x[24]*x[29])*(-(x[7]^2) - 2x[17] - 3x[2]*x[13]*x[25]) - (x[14]^2) - 2x[13] - 5x[11]*x[27]       0.0\n",
       " (-x[3] - 3x[11] - 5x[17]*x[31])*((-x[19] - x[22] - 3x[12]*x[13]*x[14])*((-x[22]*x[26] - 4x[8]*x[14] - 5x[17]*x[19]*x[21])*(-(x[7]^2) - 2x[17] - 3x[2]*x[13]*x[25]) - 3x[28] - 5x[27] - 3x[10]*x[18]*x[26]) + (-x[22]*x[26] - 4x[8]*x[14] - 5x[17]*x[19]*x[21])*(-3x[13] - 3x[14] - 5x[5]*x[9]*x[24]) - 3x[21]*x[30] - 4x[1]*x[15] - x[4]*x[19]*x[28]) + (-(x[14]^2) - 2x[13] - 5x[11]*x[27])*(-x[22]*x[26] - 4x[8]*x[14] - 5x[17]*x[19]*x[21]) + (-x[25] - 2x[2]*x[7] - 2x[14]*x[24]*x[29])*((-x[22]*x[26] - 4x[8]*x[14] - 5x[17]*x[19]*x[21])*(-(x[7]^2) - 2x[17] - 3x[2]*x[13]*x[25]) - 3x[28] - 5x[27] - 3x[10]*x[18]*x[26]) - 4x[18] - 4x[25] - 3x[13]*x[21]*x[22]       1.0"
      ]
     },
     "execution_count": 80,
     "metadata": {},
     "output_type": "execute_result"
    }
   ],
   "source": [
    "lSize=Int(size(L)[1])\n",
    "invL=inv(L[lSize])\n",
    "for i in 1:(lSize-1)\n",
    "    invL=invL*inv(L[lSize-i])\n",
    "end\n",
    "invL"
   ]
  },
  {
   "cell_type": "code",
   "execution_count": 81,
   "id": "f98b7b5e",
   "metadata": {},
   "outputs": [
    {
     "data": {
      "text/latex": [
       "$$ \\begin{equation}\n",
       "\\left[\n",
       "\\begin{array}{ccccc}\n",
       "1.0 & 0.0 & 0.0 & 0.0 & 0.0 \\\\\n",
       "0.0 & 1.0 & 0.0 & 0.0 & 0.0 \\\\\n",
       "0 & 0.0 & 1.0 & 0.0 & 0.0 \\\\\n",
       "0 & 0 & 0.0 & 1.0 & 0.0 \\\\\n",
       "0 & 0 & 0 & 0 & 1.0 \\\\\n",
       "\\end{array}\n",
       "\\right]\n",
       "\\end{equation}\n",
       " $$"
      ],
      "text/plain": [
       "5×5 Matrix{Num}:\n",
       " 1.0  0.0  0.0  0.0  0.0\n",
       " 0.0  1.0  0.0  0.0  0.0\n",
       " 0    0.0  1.0  0.0  0.0\n",
       " 0    0    0.0  1.0  0.0\n",
       " 0    0    0    0    1.0"
      ]
     },
     "execution_count": 81,
     "metadata": {},
     "output_type": "execute_result"
    }
   ],
   "source": [
    "simplify.(expand.(invL*res_L))"
   ]
  },
  {
   "cell_type": "code",
   "execution_count": 82,
   "id": "a55437d6",
   "metadata": {},
   "outputs": [
    {
     "data": {
      "text/latex": [
       "$$ \\begin{equation}\n",
       "\\left[\n",
       "\\begin{array}{ccccc}\n",
       "1.0 & 0.0 & 0.0 & 0.0 & 0.0 \\\\\n",
       "0 & 1.0 & 0.0 & 0.0 & 0.0 \\\\\n",
       "0 & 0 & 1.0 & 0.0 & 0.0 \\\\\n",
       "0 & 0 & 0 & 1.0 & 0.0 \\\\\n",
       "0 & 0 & 0 & 0 & 1.0 \\\\\n",
       "\\end{array}\n",
       "\\right]\n",
       "\\end{equation}\n",
       " $$"
      ],
      "text/plain": [
       "5×5 Matrix{Num}:\n",
       " 1.0  0.0  0.0  0.0  0.0\n",
       " 0    1.0  0.0  0.0  0.0\n",
       " 0    0    1.0  0.0  0.0\n",
       " 0    0    0    1.0  0.0\n",
       " 0    0    0    0    1.0"
      ]
     },
     "execution_count": 82,
     "metadata": {},
     "output_type": "execute_result"
    }
   ],
   "source": [
    "res_L=modify_matrix_coef(res_L,6)\n",
    "invL=modify_matrix_coef(invL,6)\n",
    "modify_matrix_coef(res_L*invL,6)"
   ]
  },
  {
   "cell_type": "code",
   "execution_count": 568,
   "id": "50d50f63",
   "metadata": {},
   "outputs": [
    {
     "data": {
      "text/latex": [
       "$$ \\begin{equation}\n",
       "\\left[\n",
       "\\begin{array}{cc}\n",
       "2 x_{1 3}^{2} x_1^{2} x_7 + 3 x_{2 3} x_{2 5} x_{4 1} + 3 x_{2 3} x_{3 7} x_{4 2} + x_{1 3}^{2} x_1 x_{3 7} x_{4 2} + 3 x_{1 3}^{2} x_1 x_{2 5} x_{4 1} + 3 x_{1 3}^{2} x_{2 5} x_{3 1} x_{4 1} + 3 x_{1 3}^{2} x_{3 1} x_{3 7} x_{4 2} & 3 x_{2 3} + 3 x_{1 3}^{2} x_{3 1} + 5 x_{1 3}^{2} x_1 \\\\\n",
       "3 x_{2 5} x_{4 1} + 4 x_1 x_7 + 5 x_{3 7} x_{4 2} & 1 \\\\\n",
       "\\end{array}\n",
       "\\right]\n",
       "\\end{equation}\n",
       " $$"
      ],
      "text/plain": [
       "2×2 Matrix{Num}:\n",
       " 2(x[1]^2)*(x[13]^2)*x[7] + 3x[23]*x[25]*x[41] + 3x[23]*x[37]*x[42] + (x[13]^2)*x[1]*x[37]*x[42] + 3(x[13]^2)*x[1]*x[25]*x[41] + 3(x[13]^2)*x[25]*x[31]*x[41] + 3(x[13]^2)*x[31]*x[37]*x[42]  …  3x[23] + 3(x[13]^2)*x[31] + 5(x[13]^2)*x[1]\n",
       "                                                                                                                                                    3x[25]*x[41] + 4x[1]*x[7] + 5x[37]*x[42]                                               1"
      ]
     },
     "execution_count": 568,
     "metadata": {},
     "output_type": "execute_result"
    }
   ],
   "source": []
  },
  {
   "cell_type": "code",
   "execution_count": 592,
   "id": "6e57df17",
   "metadata": {},
   "outputs": [
    {
     "data": {
      "text/latex": [
       "$$ \\begin{equation}\n",
       "\\left[\n",
       "\\begin{array}{ccc}\n",
       "0 & x_{1 0} x_{1 5} + x_{1 0} x_{1 2} x_{1 5} + x_6 x_{1 0} x_{2 0} + 2.0 x_9^{2} x_{1 3} x_{1 5} + x_5 x_9 x_{1 0} x_{1 5} + 3.0 x_{3 2}^{2} x_{1 5} x_{2 3} + 2.0 x_9 x_{1 5} x_{3 2} + x_5 x_9 x_{1 0} x_{1 2} x_{1 5} + 2.0 x_6 x_9 x_{2 0} x_{3 2} + 2.0 x_9^{2} x_{1 2} x_{1 3} x_{1 5} + 3.0 x_{3 2}^{2} x_6 x_{2 0} x_{2 3} + 4.0 x_5 x_{1 1} x_{1 5} x_{3 2} + 2.0 x_9 x_{1 2} x_{1 5} x_{3 2} + x_5 x_6 x_9 x_{1 0} x_{2 0} + 2.0 x_5^{2} x_{1 0} x_{1 1} x_{1 5} + 2.0 x_9^{2} x_6 x_{1 3} x_{2 0} + 2.0 x_9 x_{1 3} x_{1 5} x_{2 7} + 2.0 x_{1 5} x_{1 8} x_{2 2} x_{3 2} + x_5 x_{1 0} x_{1 5} x_{1 8} x_{2 2} + 3.0 x_{3 2}^{2} x_{1 2} x_{1 5} x_{2 3} + 2.0 x_5^{2} x_6 x_{1 0} x_{1 1} x_{2 0} + 2.0 x_5^{2} x_{1 0} x_{1 1} x_{1 2} x_{1 5} + x_5 x_6 x_{1 0} x_{1 8} x_{2 0} x_{2 2} + 4.0 x_5 x_6 x_{1 1} x_{2 0} x_{3 2} + 2.0 x_6 x_9 x_{1 3} x_{2 0} x_{2 7} + 2.0 x_9 x_{1 2} x_{1 3} x_{1 5} x_{2 7} + 2.0 x_{1 3} x_{1 5} x_{1 8} x_{2 2} x_{2 7} + 2.0 x_{1 2} x_{1 5} x_{1 8} x_{2 2} x_{3 2} + 2.0 x_6 x_{1 8} x_{2 0} x_{2 2} x_{3 2} + x_5 x_{1 0} x_{1 2} x_{1 5} x_{1 8} x_{2 2} + 4.0 x_5 x_{1 1} x_{1 3} x_{1 5} x_{2 7} + 4.0 x_5 x_{1 1} x_{1 2} x_{1 5} x_{3 2} + 2.0 x_{1 2} x_{1 3} x_{1 5} x_{1 8} x_{2 2} x_{2 7} + 4.0 x_5 x_6 x_{1 1} x_{1 3} x_{2 0} x_{2 7} + 2.0 x_6 x_{1 3} x_{1 8} x_{2 0} x_{2 2} x_{2 7} + 4.0 x_5 x_{1 1} x_{1 2} x_{1 3} x_{1 5} x_{2 7} & x_5 x_9 x_{1 0} + 2.0 x_9 x_{3 2} + 2.0 x_5^{2} x_{1 0} x_{1 1} + 4.0 x_5 x_{1 1} x_{3 2} + x_5 x_{1 0} x_{1 8} x_{2 2} + 2.0 x_9 x_{1 3} x_{2 7} + 2.0 x_{1 8} x_{2 2} x_{3 2} + 2.0 x_{1 3} x_{1 8} x_{2 2} x_{2 7} + 4.0 x_5 x_{1 1} x_{1 3} x_{2 7} \\\\\n",
       "3 x_{1 6} x_{2 1} + 3 x_4 x_{1 5} x_{1 7} + 3 x_4 x_{2 3} x_{3 0} & x_9 x_{1 5} + x_6 x_9 x_{2 0} + x_9 x_{1 2} x_{1 5} + x_{1 5} x_{1 8} x_{2 2} + 2.0 x_5 x_{1 1} x_{1 5} + x_6 x_{1 8} x_{2 0} x_{2 2} + x_{1 2} x_{1 5} x_{1 8} x_{2 2} + 2.0 x_5 x_{1 1} x_{1 2} x_{1 5} + 2.0 x_5 x_6 x_{1 1} x_{2 0} + 3.0 x_5 x_{1 0} x_{1 6} x_{2 1} + 3.0 x_4 x_5 x_{1 0} x_{1 5} x_{1 7} + 3.0 x_4 x_5 x_{1 0} x_{2 3} x_{3 0} & 3.0 x_{1 0} x_{1 6} x_{2 1} + 3.0 x_4 x_{1 0} x_{1 5} x_{1 7} + 3.0 x_{3 2}^{2} x_{1 6} x_{2 1} x_{2 3} + 3.0 x_{3 2}^{2} x_{2 3}^{2} x_4 x_{3 0} + 3.0 x_4 x_{1 0} x_{2 3} x_{3 0} + 3.0 x_{3 2}^{2} x_4 x_{1 5} x_{1 7} x_{2 3} \\\\\n",
       "0 & 5.0 x_{1 5} + 5.0 x_{1 2} x_{1 5} + 5.0 x_6 x_{2 0} & 0.0 \\\\\n",
       "\\end{array}\n",
       "\\right]\n",
       "\\end{equation}\n",
       " $$"
      ],
      "text/plain": [
       "3×3 Matrix{Num}:\n",
       "                                                    0  …  x[5]*x[9]*x[10] + 2.0x[9]*x[32] + 2.0(x[5]^2)*x[10]*x[11] + 4.0x[5]*x[11]*x[32] + x[5]*x[10]*x[18]*x[22] + 2.0x[9]*x[13]*x[27] + 2.0x[18]*x[22]*x[32] + 2.0x[13]*x[18]*x[22]*x[27] + 4.0x[5]*x[11]*x[13]*x[27]\n",
       " 3x[16]*x[21] + 3x[4]*x[15]*x[17] + 3x[4]*x[23]*x[30]                       3.0x[10]*x[16]*x[21] + 3.0x[4]*x[10]*x[15]*x[17] + 3.0(x[32]^2)*x[16]*x[21]*x[23] + 3.0(x[23]^2)*(x[32]^2)*x[4]*x[30] + 3.0x[4]*x[10]*x[23]*x[30] + 3.0(x[32]^2)*x[4]*x[15]*x[17]*x[23]\n",
       "                                                    0                       0.0"
      ]
     },
     "execution_count": 592,
     "metadata": {},
     "output_type": "execute_result"
    }
   ],
   "source": [
    "# res_UL=modify_matrix_coef(res_U,6)*modify_matrix_coef(res_L,6)\n",
    "# res_UL=modify_matrix_coef(res_UL,6)\n",
    "# res_inv=modify_matrix_coef(inv(res_L),6)*modify_matrix_coef(inv(res_U),6)\n",
    "# res_inv=modify_matrix_coef(res_inv,6)\n",
    "\n",
    "res_UL=res_U*res_L\n",
    "res_UL=modify_matrix_coef(res_UL,6)\n",
    "\n",
    "res_inv=inv(res_L)*inv(res_U)\n",
    "res_inv=modify_matrix_coef(res_inv,6)\n",
    "modify_matrix_coef(res_UL*res_inv,6)"
   ]
  },
  {
   "cell_type": "code",
   "execution_count": 578,
   "id": "b66e62af",
   "metadata": {},
   "outputs": [
    {
     "data": {
      "text/latex": [
       "$$ \\begin{equation}\n",
       "\\left[\n",
       "\\begin{array}{cc}\n",
       "1 & 0 \\\\\n",
       "0 & 1.0 \\\\\n",
       "\\end{array}\n",
       "\\right]\n",
       "\\end{equation}\n",
       " $$"
      ],
      "text/plain": [
       "2×2 Matrix{Num}:\n",
       " 1  0\n",
       " 0  1.0"
      ]
     },
     "execution_count": 578,
     "metadata": {},
     "output_type": "execute_result"
    }
   ],
   "source": [
    "# res_UL=res_U*res_L\n",
    "# res_inv=inv(res_L)*inv(res_U)\n",
    "# simplify.(expand.(res_UL*res_inv))\n"
   ]
  },
  {
   "cell_type": "code",
   "execution_count": 593,
   "id": "085a8fdb",
   "metadata": {},
   "outputs": [
    {
     "data": {
      "text/latex": [
       "$$ \\begin{equation}\n",
       "\\left[\n",
       "\\begin{array}{ccc}\n",
       "0.0 & 8.0 & 4.0 \\\\\n",
       "0.0 & 16.0 & 12.0 \\\\\n",
       "0.0 & 4.0 & 6.0 \\\\\n",
       "\\end{array}\n",
       "\\right]\n",
       "\\end{equation}\n",
       " $$"
      ],
      "text/plain": [
       "3×3 Matrix{Num}:\n",
       " 0.0   8.0   4.0\n",
       " 0.0  16.0  12.0\n",
       " 0.0   4.0   6.0"
      ]
     },
     "execution_count": 593,
     "metadata": {},
     "output_type": "execute_result"
    }
   ],
   "source": [
    "#mod does not work for res_UL and res_inv\n",
    "# res_UL=modify_matrix_coef(res_UL,6)\n",
    "# res_inv=modify_matrix_coef(res_inv,6)\n",
    "# modify_matrix_coef(res_UL*res_inv,6)\n",
    "\n",
    "res_UL=substitute.(res_UL, (substitution_dict,))\n",
    "for i in 1:size(res_UL,1)\n",
    "    for j in 1:size(res_UL,2)\n",
    "        res_UL[i,j]=mod(res_UL[i,j],6)\n",
    "    end\n",
    "end\n",
    "res_inv=substitute.(res_inv, (substitution_dict,))\n",
    "for i in 1:size(res_inv,1)\n",
    "    for j in 1:size(res_inv,2)\n",
    "        res_inv[i,j]=mod(res_inv[i,j],6)\n",
    "    end\n",
    "end\n",
    "res_I=res_UL*res_inv\n",
    "res_I"
   ]
  },
  {
   "cell_type": "code",
   "execution_count": 545,
   "id": "dc2a9acf",
   "metadata": {},
   "outputs": [
    {
     "data": {
      "text/latex": [
       "$$ \\begin{equation}\n",
       "\\left[\n",
       "\\begin{array}{cc}\n",
       "1.0 & 3 x_{1 3} + 4 x_{1 0} x_{1 3} + 2 x_{1 5} x_{1 6} x_{2 3} \\\\\n",
       "3 x_8 + 3 x_{2 8}^{2} x_{1 6} + x_{1 9} & 3.0 x_8 x_{1 3} + 3.0 x_{1 3} x_{1 9} + 3.0 x_{2 8}^{2} x_{1 3} x_{1 6} + 4.0 x_{1 0} x_{1 3} x_{1 9} + 2.0 x_{1 5} x_{1 6} x_{1 9} x_{2 3} \\\\\n",
       "\\end{array}\n",
       "\\right]\n",
       "\\end{equation}\n",
       " $$"
      ],
      "text/plain": [
       "2×2 Matrix{Num}:\n",
       "                                1.0  …  3x[13] + 4x[10]*x[13] + 2x[15]*x[16]*x[23]\n",
       " 3x[8] + 3(x[28]^2)*x[16] + x[19]                                                3.0x[8]*x[13] + 3.0x[13]*x[19] + 3.0(x[28]^2)*x[13]*x[16] + 4.0x[10]*x[13]*x[19] + 2.0x[15]*x[16]*x[19]*x[23]"
      ]
     },
     "execution_count": 545,
     "metadata": {},
     "output_type": "execute_result"
    }
   ],
   "source": [
    "res_inv=modify_matrix_coef(res_inv,6)\n"
   ]
  },
  {
   "cell_type": "code",
   "execution_count": 546,
   "id": "637f9b67",
   "metadata": {},
   "outputs": [
    {
     "data": {
      "text/latex": [
       "$$ \\begin{equation}\n",
       "\\left[\n",
       "\\begin{array}{cc}\n",
       "0 & 0.0 \\\\\n",
       "0 & 0.0 \\\\\n",
       "\\end{array}\n",
       "\\right]\n",
       "\\end{equation}\n",
       " $$"
      ],
      "text/plain": [
       "2×2 Matrix{Num}:\n",
       " 0  0.0\n",
       " 0  0.0"
      ]
     },
     "execution_count": 546,
     "metadata": {},
     "output_type": "execute_result"
    }
   ],
   "source": []
  },
  {
   "cell_type": "code",
   "execution_count": 8,
   "id": "d05e5b9c",
   "metadata": {},
   "outputs": [
    {
     "data": {
      "text/plain": [
       "cols_to_keep (generic function with 1 method)"
      ]
     },
     "execution_count": 8,
     "metadata": {},
     "output_type": "execute_result"
    }
   ],
   "source": [
    "function cols_to_keep(k,l)\n",
    "    col_opts=[i for i in 1:k]\n",
    "    for i in 1:(k-l)\n",
    "        random_number=size(col_opts,1)\n",
    "        splice!(col_opts, rand(1:random_number))\n",
    "    end\n",
    "    return col_opts\n",
    "end\n",
    "# cols_to_keep(4,3)"
   ]
  },
  {
   "cell_type": "code",
   "execution_count": 9,
   "id": "4775740b",
   "metadata": {},
   "outputs": [
    {
     "data": {
      "text/plain": [
       "random_del_cols (generic function with 1 method)"
      ]
     },
     "execution_count": 9,
     "metadata": {},
     "output_type": "execute_result"
    }
   ],
   "source": [
    "function random_del_cols(k,l,matrix)\n",
    "#     col_opts=[i for i in 1:l]\n",
    "    col_opts=cols_to_keep(k,l)\n",
    "    matrix_kl=zeros(Num, k,l)\n",
    "    \n",
    "    j=1\n",
    "    for i in col_opts\n",
    "        matrix_kl[:,j]=matrix[:,i]\n",
    "        j+=1\n",
    "    end\n",
    "    return col_opts,matrix_kl\n",
    "end"
   ]
  },
  {
   "cell_type": "code",
   "execution_count": 10,
   "id": "3200ada8",
   "metadata": {},
   "outputs": [
    {
     "data": {
      "text/plain": [
       "find_kl_inverse (generic function with 1 method)"
      ]
     },
     "execution_count": 10,
     "metadata": {},
     "output_type": "execute_result"
    }
   ],
   "source": [
    "function find_kl_inverse(to_keep,S_inv)\n",
    "    k=size(S_inv,1)#find the number of rows\n",
    "    ml_inv=zeros(Num, length(to_keep),k)\n",
    "    \n",
    "    j=1\n",
    "    for i in to_keep\n",
    "        ml_inv[j,:]=S_inv[i,:]\n",
    "        j+=1\n",
    "    end\n",
    "    return ml_inv\n",
    "end"
   ]
  },
  {
   "cell_type": "code",
   "execution_count": 11,
   "id": "f5e2f754",
   "metadata": {},
   "outputs": [
    {
     "data": {
      "text/plain": [
       "modify_matrix_coef (generic function with 1 method)"
      ]
     },
     "execution_count": 11,
     "metadata": {},
     "output_type": "execute_result"
    }
   ],
   "source": [
    "function modify_neg_coeff(A,q)\n",
    "    \n",
    "    coeffs_map=Symbolics.value(A).dict#turn the polynomial into matrix\n",
    "    B=0#create our new polynomial\n",
    "    for (key, value) in coeffs_map#iterate through the dict(monomial, coeffcients) \n",
    "        new_coef=mod(value,q)\n",
    "        B+=new_coef*key\n",
    "    end\n",
    "    B\n",
    "end\n",
    "\n",
    "function modify_matrix_coef(matrix,q)\n",
    "    res=simplify.(expand.(matrix))#expand and then simplify\n",
    "    \n",
    "    for i in 1:size(res,1)\n",
    "        for j in 1:size(res,2)\n",
    "            a=res[i,j]\n",
    "\n",
    "            if isone(a)==false && iszero(a)==false            \n",
    "                res[i,j]=modify_neg_coeff(a,q)\n",
    "            end\n",
    "        end\n",
    "    end\n",
    "    return res\n",
    "end"
   ]
  },
  {
   "cell_type": "code",
   "execution_count": 12,
   "id": "87aee306",
   "metadata": {},
   "outputs": [
    {
     "data": {
      "text/plain": [
       "random_permutation (generic function with 1 method)"
      ]
     },
     "execution_count": 12,
     "metadata": {},
     "output_type": "execute_result"
    }
   ],
   "source": [
    "function random_permutation(k)\n",
    "    cols=[i for i in 1:k]\n",
    "    ncols=[]\n",
    "    for i in 1:k\n",
    "        random_number=size(cols,1)\n",
    "        a=rand(1:random_number)\n",
    "        append!(ncols,cols[a])\n",
    "        splice!(cols, a)\n",
    "    end\n",
    "    A=zeros(Num,k,k)\n",
    "    \n",
    "    for i in 1:k\n",
    "        A[i,ncols[i]]=1\n",
    "    end\n",
    "    return A\n",
    "end\n",
    "    \n",
    "# P=random_permutation(4)\n",
    "# inv(P)*P\n"
   ]
  },
  {
   "cell_type": "code",
   "execution_count": 13,
   "id": "aaca4c57",
   "metadata": {},
   "outputs": [
    {
     "data": {
      "text/plain": [
       "matrix_multiplication (generic function with 1 method)"
      ]
     },
     "execution_count": 13,
     "metadata": {},
     "output_type": "execute_result"
    }
   ],
   "source": [
    "# function matrix_multiplication(A,B)#make sure A and B are of appropriate size\n",
    "#     nrows=size(A)[1]\n",
    "#     ncols=size(B)[2]\n",
    "# #     println(nrows)\n",
    "# #     println(ncols)\n",
    "#     resM=zeros(Num,nrows,ncols)\n",
    "#     for i in 1:nrows\n",
    "#         for j in 1:ncols\n",
    "#             arr1=A[i,:]\n",
    "#             arr2=B[:,j]\n",
    "#             element=0\n",
    "#             for k in 1:length(arr1)\n",
    "#                 element=element+arr1[k]*arr2[k]\n",
    "#             end\n",
    "#             resM[i,j]=simplify(expand(element))\n",
    "#             end\n",
    "#     end\n",
    "#     return resM\n",
    "# end\n"
   ]
  },
  {
   "cell_type": "code",
   "execution_count": 63,
   "id": "70e659e2",
   "metadata": {},
   "outputs": [],
   "source": [
    "# A=num_identity(3)\n",
    "# A[1,1]=x[1]^2+x[2]^2\n",
    "# A[1,2]=x[2]+x[3]\n",
    "\n",
    "# B=num_identity(3)\n",
    "# B[1,3]=x[3]+x[5]^2\n",
    "# B[2,1]=x[1]\n",
    "# B\n",
    "\n",
    "# simplify(expand(A*B))\n",
    "# matrix_multiplication(D,C)"
   ]
  },
  {
   "cell_type": "code",
   "execution_count": 123,
   "id": "ff331e6a",
   "metadata": {},
   "outputs": [
    {
     "data": {
      "text/plain": [
       "matrix_kl_mod (generic function with 2 methods)"
      ]
     },
     "execution_count": 123,
     "metadata": {},
     "output_type": "execute_result"
    }
   ],
   "source": [
    "function matrix_kl_mod(k,l,n,t,B,q)\n",
    "   \n",
    "    coin_toss=rand(0:1)\n",
    "    if coin_toss==2\n",
    "        U=generate_U(k,n,t,B,q)\n",
    "        res_U=U[1]\n",
    "        for i in 2:Int(size(U)[1])\n",
    "            res_U=res_U*U[i]\n",
    "        end\n",
    "\n",
    "        uSize=Int(size(U)[1])\n",
    "        invU=inv(U[uSize])\n",
    "        for i in 1:(uSize-1)\n",
    "            invU=invU*inv(U[uSize-i])\n",
    "        end\n",
    "\n",
    "        println(simplify.(expand.(res_U*invU)))\n",
    "        println(\"----------------------------\")\n",
    "        res_U=modify_matrix_coef(res_U,q)\n",
    "        invU=modify_matrix_coef(invU,q)  \n",
    "        println(modify_matrix_coef(res_U*invU,q))\n",
    "\n",
    "        col_keep,kl_matrix=random_del_cols(k,l,res_U)\n",
    "        kl_inverse=find_kl_inverse(col_keep,invU)\n",
    "        println(modify_matrix_coef(kl_inverse*kl_matrix,q))\n",
    "        println(\"----------------------------\")\n",
    "        return res_U,invU,kl_matrix,kl_inverse\n",
    "    else\n",
    "        L=generate_L(k,n,t,B,q)\n",
    "        res_L=L[1]\n",
    "        for i in 2:Int(size(L)[1])\n",
    "            res_L=res_L*L[i]\n",
    "        end\n",
    "        \n",
    "        lSize=Int(size(L)[1])\n",
    "        invL=inv(L[lSize])\n",
    "        for i in 1:(lSize-1)\n",
    "            invL=invL*inv(L[lSize-i])\n",
    "        end\n",
    "        println(simplify.(expand.(res_L*invL)))\n",
    "        println(\"----------------------------\")\n",
    "        res_L=modify_matrix_coef(res_L,q)\n",
    "        invL=modify_matrix_coef(invL,q)\n",
    "        println(modify_matrix_coef(res_L*invL,q))\n",
    "        println(\"----------------------------\")\n",
    "        \n",
    "        col_keep,kl_matrix=random_del_cols(k,l,res_L)\n",
    "        kl_inverse=find_kl_inverse(col_keep,invL)\n",
    "        println(modify_matrix_coef(kl_inverse*kl_matrix,q))\n",
    "        println(\"----------------------------\")\n",
    "        return res_L,invL,kl_matrix,kl_inverse\n",
    "    end\n",
    "    \n",
    "\n",
    "\n",
    "    \n",
    "end"
   ]
  },
  {
   "cell_type": "code",
   "execution_count": 124,
   "id": "28110761",
   "metadata": {},
   "outputs": [
    {
     "name": "stdout",
     "output_type": "stream",
     "text": [
      "Num[1.0 0.0 0.0 0.0 0.0; 0 1.0 0.0 0.0 0.0; 0 0 1.0 0.0 0.0; 0 0 0 1.0 0.0; 0 0 0 0 1.0]\n",
      "----------------------------\n",
      "Num[1.0 0.0 0.0 0.0 0.0; 0 1.0 0.0 0.0 0.0; 0 0 1.0 0.0 0.0; 0 0 0 1.0 0.0; 0 0 0 0 1.0]\n",
      "----------------------------\n",
      "Num[1.0 0.0 0.0 0.0 0.0; 0 1.0 0.0 0.0 0.0; 0 0 1.0 0.0 0.0; 0 0 0 1.0 0.0; 0 0 0 0 1.0]\n",
      "----------------------------\n"
     ]
    },
    {
     "data": {
      "text/plain": [
       "(Num[1 0 … 0 0; x[27]*x[32]*x[43] + 3x[6]*x[33]*x[41] + 5x[12]*x[18]*x[22] 1 … 0 0; … ; 4x[26]*x[35] + 3x[3]*x[6]*x[27] + 4x[7]*x[17]*x[36] 4x[19] + 5x[25]*x[47] + 4x[21]*x[25]*x[27] … 1 0; 3x[37] + 4x[31] + 5x[3]*x[14] 5x[13] + 3x[1]*x[13] + 3x[4]*x[26] … 4x[30] + x[32]*x[34] + 2x[4]*x[22]*x[40] 1], Num[1.0 0.0 … 0.0 0.0; x[12]*x[18]*x[22] + 3x[6]*x[33]*x[41] + 5x[27]*x[32]*x[43] 1.0 … 0.0 0.0; … ; 2x[26]*x[35] + 3x[3]*x[6]*x[27] + 2x[7]*x[17]*x[36] + 4x[4]*x[11]*x[22]*x[39] + 2x[12]*x[18]*x[19]*x[22] + x[12]*x[18]*x[22]*x[25]*x[47] + 4x[19]*x[27]*x[32]*x[43] + (x[18]^2)*x[11]*x[12]*x[22]*x[24]*x[43] + 4(x[27]^2)*x[21]*x[25]*x[32]*x[43] + 4x[11]*x[18]*x[22]*x[39]*x[43] + 4x[3]*x[19]*x[22]*x[39]*x[45] + 4x[4]*x[11]*x[13]*x[34]*x[41] + 4x[4]*x[11]*x[15]*x[36]*x[40] + 5x[25]*x[27]*x[32]*x[43]*x[47] + 3x[6]*x[25]*x[33]*x[41]*x[47] + 2x[4]*x[11]*x[12]*x[18]*x[20]*x[22] + 4(x[43]^2)*x[11]*x[18]*x[20]*x[27]*x[32] + 2(x[18]^2)*x[11]*x[12]*x[20]*x[22]*x[43] + 4x[11]*x[13]*x[18]*x[34]*x[41]*x[43] + 2x[12]*x[18]*x[21]*x[22]*x[25]*x[27] + 5(x[43]^2)*x[11]*x[18]*x[24]*x[27]*x[32] + 4x[3]*x[13]*x[19]*x[34]*x[41]*x[45] + 4x[3]*x[15]*x[19]*x[36]*x[40]*x[45] + 4x[4]*x[11]*x[12]*x[18]*x[22]*x[24] + 4x[11]*x[15]*x[18]*x[36]*x[40]*x[43] + 4x[4]*x[11]*x[20]*x[27]*x[32]*x[43] + x[3]*x[12]*x[18]*x[19]*x[22]*x[24]*x[45] + 2x[4]*x[11]*x[24]*x[27]*x[32]*x[43] + 2x[3]*x[12]*x[18]*x[19]*x[20]*x[22]*x[45] + 4x[3]*x[19]*x[20]*x[27]*x[32]*x[43]*x[45] + 5x[3]*x[19]*x[24]*x[27]*x[32]*x[43]*x[45] + 3x[6]*x[11]*x[18]*x[24]*x[33]*x[41]*x[43] + 3x[3]*x[6]*x[19]*x[24]*x[33]*x[41]*x[45] + 4(x[18]^2)*x[2]*x[11]*x[12]*x[15]*x[22]*x[31]*x[43] + 4x[2]*x[4]*x[11]*x[12]*x[15]*x[18]*x[22]*x[31] + 2(x[43]^2)*x[2]*x[11]*x[15]*x[18]*x[27]*x[31]*x[32] + 2x[2]*x[4]*x[11]*x[15]*x[27]*x[31]*x[32]*x[43] + 4x[2]*x[3]*x[12]*x[15]*x[18]*x[19]*x[22]*x[31]*x[45] + 2x[2]*x[3]*x[15]*x[19]*x[27]*x[31]*x[32]*x[43]*x[45] 2x[19] + x[25]*x[47] + 2x[4]*x[11]*x[20] + 2x[21]*x[25]*x[27] + 4x[4]*x[11]*x[24] + x[3]*x[19]*x[24]*x[45] + x[11]*x[18]*x[24]*x[43] + 2x[11]*x[18]*x[20]*x[43] + 2x[3]*x[19]*x[20]*x[45] + 4x[2]*x[4]*x[11]*x[15]*x[31] + 4x[2]*x[11]*x[15]*x[18]*x[31]*x[43] + 4x[2]*x[3]*x[15]*x[19]*x[31]*x[45] … 1.0 0.0; x[3]*x[14] + 2x[31] + 3x[37] + 4x[26]*x[30]*x[35] + x[12]*x[13]*x[18]*x[22] + 3x[6]*x[13]*x[33]*x[41] + 4x[26]*x[32]*x[34]*x[35] + 4x[3]*x[22]*x[39]*x[44] + 4x[7]*x[17]*x[30]*x[36] + 5x[13]*x[27]*x[32]*x[43] + 4x[7]*x[22]*x[38]*x[39] + 4(x[4]^2)*(x[22]^2)*x[11]*x[39]*x[40] + 3x[4]*x[6]*x[26]*x[33]*x[41] + 3x[4]*x[12]*x[18]*x[22]*x[26] + 4x[12]*x[18]*x[19]*x[22]*x[30] + 2x[4]*x[11]*x[22]*x[30]*x[39] + 2x[19]*x[27]*x[30]*x[32]*x[43] + x[3]*x[12]*x[18]*x[22]*x[24]*x[44] + 3x[3]*x[6]*x[27]*x[32]*x[34] + 4x[7]*x[17]*x[32]*x[34]*x[36] + 4x[7]*x[15]*x[36]*x[38]*x[40] + 3x[1]*x[6]*x[13]*x[33]*x[41] + 4x[3]*x[15]*x[36]*x[40]*x[44] + 2(x[32]^2)*x[19]*x[27]*x[34]*x[43] + 2x[4]*x[22]*x[26]*x[35]*x[40] + 3x[1]*x[12]*x[13]*x[18]*x[22] + 4x[7]*x[13]*x[34]*x[38]*x[41] + 3x[1]*x[13]*x[27]*x[32]*x[43] + 4x[3]*x[13]*x[34]*x[41]*x[44] + 3x[4]*x[26]*x[27]*x[32]*x[43] + (x[32]^2)*x[25]*x[27]*x[34]*x[43]*x[47] + 4(x[4]^2)*(x[40]^2)*x[11]*x[15]*x[22]*x[36] + 2(x[22]^2)*x[4]*x[12]*x[18]*x[19]*x[40] + 2x[3]*x[12]*x[18]*x[20]*x[22]*x[44] + 3(x[12]^2)*x[9]*x[18]*x[22]*x[24]*x[43] + 2x[12]*x[18]*x[22]*x[25]*x[30]*x[47] + 2(x[27]^2)*(x[32]^2)*x[21]*x[25]*x[34]*x[43] + 3x[3]*x[6]*x[24]*x[33]*x[41]*x[44] + 2x[3]*x[19]*x[22]*x[30]*x[39]*x[45] + 2(x[27]^2)*x[21]*x[25]*x[30]*x[32]*x[43] + 2(x[34]^2)*x[4]*x[11]*x[13]*x[32]*x[41] + 3(x[43]^2)*x[9]*x[12]*x[24]*x[27]*x[32] + 4x[3]*x[20]*x[27]*x[32]*x[43]*x[44] + 5x[3]*x[24]*x[27]*x[32]*x[43]*x[44] + 4x[7]*x[12]*x[18]*x[22]*x[24]*x[38] + 2x[4]*x[7]*x[17]*x[22]*x[36]*x[40] + 2x[4]*x[11]*x[22]*x[32]*x[34]*x[39] + 2x[4]*x[11]*x[13]*x[30]*x[34]*x[41] + 2x[7]*x[12]*x[18]*x[20]*x[22]*x[38] + 2x[4]*x[11]*x[15]*x[30]*x[36]*x[40] + 4x[7]*x[20]*x[27]*x[32]*x[38]*x[43] + 4x[12]*x[18]*x[19]*x[22]*x[32]*x[34] + 2x[7]*x[24]*x[27]*x[32]*x[38]*x[43] + 4x[25]*x[27]*x[30]*x[32]*x[43]*x[47] + (x[32]^2)*(x[43]^2)*x[11]*x[18]*x[24]*x[27]*x[34] + 2x[11]*x[18]*x[22]*x[30]*x[39]*x[43] + 2(x[4]^2)*(x[22]^2)*x[11]*x[12]*x[18]*x[20]*x[40] + 2(x[32]^2)*(x[43]^2)*x[11]*x[18]*x[20]*x[27]*x[34] + 2(x[34]^2)*x[11]*x[13]*x[18]*x[32]*x[41]*x[43] + 2(x[32]^2)*x[4]*x[11]*x[20]*x[27]*x[34]*x[43] + 2(x[18]^2)*x[11]*x[12]*x[22]*x[24]*x[30]*x[43] + 2x[4]*x[11]*x[20]*x[27]*x[30]*x[32]*x[43] + 2x[11]*x[18]*x[22]*x[32]*x[34]*x[39]*x[43] + 4(x[4]^2)*x[11]*x[13]*x[22]*x[34]*x[40]*x[41] + 2(x[34]^2)*x[3]*x[13]*x[19]*x[32]*x[41]*x[45] + 4(x[32]^2)*x[4]*x[11]*x[24]*x[27]*x[34]*x[43] + 4x[4]*x[11]*x[12]*x[18]*x[20]*x[22]*x[30] + 2x[3]*x[13]*x[19]*x[30]*x[34]*x[41]*x[45] + 4(x[22]^2)*x[4]*x[12]*x[18]*x[25]*x[40]*x[47] + 3x[6]*x[9]*x[12]*x[24]*x[33]*x[41]*x[43] + 2x[4]*x[11]*x[15]*x[32]*x[34]*x[36]*x[40] + 4(x[43]^2)*x[11]*x[18]*x[24]*x[27]*x[30]*x[32] + (x[32]^2)*x[3]*x[19]*x[24]*x[27]*x[34]*x[43]*x[45] + 4x[4]*x[19]*x[22]*x[27]*x[32]*x[40]*x[43] + 4(x[22]^2)*x[3]*x[4]*x[19]*x[39]*x[40]*x[45] + 4(x[18]^2)*x[11]*x[12]*x[20]*x[22]*x[30]*x[43] + 2x[4]*x[11]*x[12]*x[18]*x[22]*x[24]*x[30] + 5x[12]*x[18]*x[22]*x[25]*x[32]*x[34]*x[47] + 2x[11]*x[15]*x[18]*x[30]*x[36]*x[40]*x[43] + 3x[6]*x[25]*x[32]*x[33]*x[34]*x[41]*x[47] + 4(x[4]^2)*(x[22]^2)*x[11]*x[12]*x[18]*x[24]*x[40] + 4(x[22]^2)*x[4]*x[11]*x[18]*x[39]*x[40]*x[43] + 4x[12]*x[18]*x[21]*x[22]*x[25]*x[27]*x[30] + 2(x[43]^2)*x[11]*x[18]*x[20]*x[27]*x[30]*x[32] + 2x[11]*x[13]*x[18]*x[30]*x[34]*x[41]*x[43] + 2x[3]*x[19]*x[22]*x[32]*x[34]*x[39]*x[45] + 4x[4]*x[11]*x[24]*x[27]*x[30]*x[32]*x[43] + 2x[3]*x[15]*x[19]*x[30]*x[36]*x[40]*x[45] + 2(x[18]^2)*(x[22]^2)*x[4]*x[11]*x[12]*x[20]*x[40]*x[43] + 2x[3]*x[19]*x[20]*x[27]*x[30]*x[32]*x[43]*x[45] + 2x[3]*x[15]*x[19]*x[32]*x[34]*x[36]*x[40]*x[45] + 2x[4]*x[11]*x[12]*x[18]*x[22]*x[24]*x[32]*x[34] + 4x[2]*x[3]*x[12]*x[15]*x[18]*x[22]*x[31]*x[44] + 4x[4]*x[11]*x[12]*x[18]*x[20]*x[22]*x[32]*x[34] + 4(x[27]^2)*x[4]*x[21]*x[22]*x[25]*x[32]*x[40]*x[43] + 4x[3]*x[12]*x[18]*x[19]*x[20]*x[22]*x[30]*x[45] + 5(x[18]^2)*x[11]*x[12]*x[22]*x[24]*x[32]*x[34]*x[43] + 2(x[32]^2)*x[3]*x[19]*x[20]*x[27]*x[34]*x[43]*x[45] + 4x[2]*x[7]*x[12]*x[15]*x[18]*x[22]*x[31]*x[38] + 2(x[4]^2)*x[11]*x[22]*x[24]*x[27]*x[32]*x[40]*x[43] + 4x[12]*x[18]*x[21]*x[22]*x[25]*x[27]*x[32]*x[34] + 4(x[18]^2)*x[11]*x[12]*x[20]*x[22]*x[32]*x[34]*x[43] + 4(x[4]^2)*x[11]*x[20]*x[22]*x[27]*x[32]*x[40]*x[43] + 2(x[22]^2)*x[4]*x[12]*x[18]*x[21]*x[25]*x[27]*x[40] + 4(x[40]^2)*x[4]*x[11]*x[15]*x[18]*x[22]*x[36]*x[43] + 4x[3]*x[19]*x[24]*x[27]*x[30]*x[32]*x[43]*x[45] + 2x[2]*x[3]*x[15]*x[27]*x[31]*x[32]*x[43]*x[44] + 2x[2]*x[7]*x[15]*x[27]*x[31]*x[32]*x[38]*x[43] + 2x[4]*x[22]*x[25]*x[27]*x[32]*x[40]*x[43]*x[47] + 2x[11]*x[15]*x[18]*x[32]*x[34]*x[36]*x[40]*x[43] + 4(x[18]^2)*(x[22]^2)*x[4]*x[11]*x[12]*x[24]*x[40]*x[43] + 4(x[40]^2)*x[3]*x[4]*x[15]*x[19]*x[22]*x[36]*x[45] + 2x[3]*x[12]*x[18]*x[19]*x[22]*x[24]*x[30]*x[45] + 4(x[32]^2)*(x[43]^2)*x[2]*x[11]*x[15]*x[18]*x[27]*x[31]*x[34] + 2(x[18]^2)*x[2]*x[11]*x[12]*x[15]*x[22]*x[30]*x[31]*x[43] + 4(x[4]^2)*(x[22]^2)*x[2]*x[11]*x[12]*x[15]*x[18]*x[31]*x[40] + 2(x[22]^2)*x[3]*x[4]*x[12]*x[18]*x[19]*x[20]*x[40]*x[45] + 4(x[22]^2)*x[3]*x[4]*x[12]*x[18]*x[19]*x[24]*x[40]*x[45] + 4x[3]*x[12]*x[18]*x[19]*x[20]*x[22]*x[32]*x[34]*x[45] + 4(x[32]^2)*x[2]*x[4]*x[11]*x[15]*x[27]*x[31]*x[34]*x[43] + 2x[2]*x[4]*x[11]*x[12]*x[15]*x[18]*x[22]*x[30]*x[31] + 4(x[43]^2)*x[4]*x[11]*x[18]*x[20]*x[22]*x[27]*x[32]*x[40] + 2(x[43]^2)*x[4]*x[11]*x[18]*x[22]*x[24]*x[27]*x[32]*x[40] + 4x[3]*x[4]*x[13]*x[19]*x[22]*x[34]*x[40]*x[41]*x[45] + 3x[6]*x[11]*x[18]*x[24]*x[32]*x[33]*x[34]*x[41]*x[43] + 4(x[43]^2)*x[2]*x[11]*x[15]*x[18]*x[27]*x[30]*x[31]*x[32] + 4x[4]*x[11]*x[13]*x[18]*x[22]*x[34]*x[40]*x[41]*x[43] + 4x[2]*x[4]*x[11]*x[15]*x[27]*x[30]*x[31]*x[32]*x[43] + 3x[3]*x[6]*x[19]*x[24]*x[32]*x[33]*x[34]*x[41]*x[45] + 5x[3]*x[12]*x[18]*x[19]*x[22]*x[24]*x[32]*x[34]*x[45] + 2(x[4]^2)*x[2]*x[11]*x[15]*x[22]*x[27]*x[31]*x[32]*x[40]*x[43] + 2x[2]*x[4]*x[11]*x[12]*x[15]*x[18]*x[22]*x[31]*x[32]*x[34] + 2x[3]*x[4]*x[19]*x[22]*x[24]*x[27]*x[32]*x[40]*x[43]*x[45] + 4(x[18]^2)*(x[22]^2)*x[2]*x[4]*x[11]*x[12]*x[15]*x[31]*x[40]*x[43] + 4(x[32]^2)*x[2]*x[3]*x[15]*x[19]*x[27]*x[31]*x[34]*x[43]*x[45] + 2(x[18]^2)*x[2]*x[11]*x[12]*x[15]*x[22]*x[31]*x[32]*x[34]*x[43] + 2x[2]*x[3]*x[12]*x[15]*x[18]*x[19]*x[22]*x[30]*x[31]*x[45] + 4x[2]*x[3]*x[15]*x[19]*x[27]*x[30]*x[31]*x[32]*x[43]*x[45] + 4x[3]*x[4]*x[19]*x[20]*x[22]*x[27]*x[32]*x[40]*x[43]*x[45] + 2(x[43]^2)*x[2]*x[4]*x[11]*x[15]*x[18]*x[22]*x[27]*x[31]*x[32]*x[40] + 2x[2]*x[3]*x[12]*x[15]*x[18]*x[19]*x[22]*x[31]*x[32]*x[34]*x[45] + 4(x[22]^2)*x[2]*x[3]*x[4]*x[12]*x[15]*x[18]*x[19]*x[31]*x[40]*x[45] + 2x[2]*x[3]*x[4]*x[15]*x[19]*x[22]*x[27]*x[31]*x[32]*x[40]*x[43]*x[45] 3x[1]*x[13] + 3x[4]*x[26] + 4x[19]*x[30] + x[3]*x[24]*x[44] + 2x[7]*x[20]*x[38] + 4x[7]*x[24]*x[38] + 2x[25]*x[30]*x[47] + 4x[19]*x[32]*x[34] + 2x[3]*x[20]*x[44] + 4x[4]*x[11]*x[20]*x[30] + 2x[4]*x[11]*x[24]*x[30] + 4x[21]*x[25]*x[27]*x[30] + 2x[4]*x[19]*x[22]*x[40] + 3x[9]*x[12]*x[24]*x[43] + 5x[25]*x[32]*x[34]*x[47] + 4(x[4]^2)*x[11]*x[22]*x[24]*x[40] + 4x[2]*x[7]*x[15]*x[31]*x[38] + 4x[4]*x[11]*x[20]*x[32]*x[34] + 2x[3]*x[19]*x[24]*x[30]*x[45] + 4x[3]*x[19]*x[20]*x[30]*x[45] + 4x[4]*x[22]*x[25]*x[40]*x[47] + 2x[11]*x[18]*x[24]*x[30]*x[43] + 2x[4]*x[11]*x[24]*x[32]*x[34] + 4x[2]*x[3]*x[15]*x[31]*x[44] + 4x[21]*x[25]*x[27]*x[32]*x[34] + 2(x[4]^2)*x[11]*x[20]*x[22]*x[40] + 4x[11]*x[18]*x[20]*x[30]*x[43] + 2x[2]*x[4]*x[11]*x[15]*x[30]*x[31] + 4x[3]*x[19]*x[20]*x[32]*x[34]*x[45] + 5x[11]*x[18]*x[24]*x[32]*x[34]*x[43] + 5x[3]*x[19]*x[24]*x[32]*x[34]*x[45] + 2x[4]*x[21]*x[22]*x[25]*x[27]*x[40] + 4x[11]*x[18]*x[20]*x[32]*x[34]*x[43] + 4(x[4]^2)*x[2]*x[11]*x[15]*x[22]*x[31]*x[40] + 2x[2]*x[4]*x[11]*x[15]*x[31]*x[32]*x[34] + 2x[2]*x[3]*x[15]*x[19]*x[30]*x[31]*x[45] + 2x[3]*x[4]*x[19]*x[20]*x[22]*x[40]*x[45] + 4x[3]*x[4]*x[19]*x[22]*x[24]*x[40]*x[45] + 2x[2]*x[11]*x[15]*x[18]*x[30]*x[31]*x[43] + 2x[4]*x[11]*x[18]*x[20]*x[22]*x[40]*x[43] + 4x[4]*x[11]*x[18]*x[22]*x[24]*x[40]*x[43] + 2x[2]*x[3]*x[15]*x[19]*x[31]*x[32]*x[34]*x[45] + 2x[2]*x[11]*x[15]*x[18]*x[31]*x[32]*x[34]*x[43] + 4x[2]*x[3]*x[4]*x[15]*x[19]*x[22]*x[31]*x[40]*x[45] + 4x[2]*x[4]*x[11]*x[15]*x[18]*x[22]*x[31]*x[40]*x[43] + x[13] … 2x[30] + 5x[32]*x[34] + 4x[4]*x[22]*x[40] 1.0], Num[1 0 … 0 0; x[27]*x[32]*x[43] + 3x[6]*x[33]*x[41] + 5x[12]*x[18]*x[22] 1 … 0 0; … ; 4x[26]*x[35] + 3x[3]*x[6]*x[27] + 4x[7]*x[17]*x[36] 4x[19] + 5x[25]*x[47] + 4x[21]*x[25]*x[27] … 1 0; 3x[37] + 4x[31] + 5x[3]*x[14] 5x[13] + 3x[1]*x[13] + 3x[4]*x[26] … 4x[30] + x[32]*x[34] + 2x[4]*x[22]*x[40] 1], Num[1.0 0.0 … 0.0 0.0; x[12]*x[18]*x[22] + 3x[6]*x[33]*x[41] + 5x[27]*x[32]*x[43] 1.0 … 0.0 0.0; … ; 2x[26]*x[35] + 3x[3]*x[6]*x[27] + 2x[7]*x[17]*x[36] + 4x[4]*x[11]*x[22]*x[39] + 2x[12]*x[18]*x[19]*x[22] + x[12]*x[18]*x[22]*x[25]*x[47] + 4x[19]*x[27]*x[32]*x[43] + (x[18]^2)*x[11]*x[12]*x[22]*x[24]*x[43] + 4(x[27]^2)*x[21]*x[25]*x[32]*x[43] + 4x[11]*x[18]*x[22]*x[39]*x[43] + 4x[3]*x[19]*x[22]*x[39]*x[45] + 4x[4]*x[11]*x[13]*x[34]*x[41] + 4x[4]*x[11]*x[15]*x[36]*x[40] + 5x[25]*x[27]*x[32]*x[43]*x[47] + 3x[6]*x[25]*x[33]*x[41]*x[47] + 2x[4]*x[11]*x[12]*x[18]*x[20]*x[22] + 4(x[43]^2)*x[11]*x[18]*x[20]*x[27]*x[32] + 2(x[18]^2)*x[11]*x[12]*x[20]*x[22]*x[43] + 4x[11]*x[13]*x[18]*x[34]*x[41]*x[43] + 2x[12]*x[18]*x[21]*x[22]*x[25]*x[27] + 5(x[43]^2)*x[11]*x[18]*x[24]*x[27]*x[32] + 4x[3]*x[13]*x[19]*x[34]*x[41]*x[45] + 4x[3]*x[15]*x[19]*x[36]*x[40]*x[45] + 4x[4]*x[11]*x[12]*x[18]*x[22]*x[24] + 4x[11]*x[15]*x[18]*x[36]*x[40]*x[43] + 4x[4]*x[11]*x[20]*x[27]*x[32]*x[43] + x[3]*x[12]*x[18]*x[19]*x[22]*x[24]*x[45] + 2x[4]*x[11]*x[24]*x[27]*x[32]*x[43] + 2x[3]*x[12]*x[18]*x[19]*x[20]*x[22]*x[45] + 4x[3]*x[19]*x[20]*x[27]*x[32]*x[43]*x[45] + 5x[3]*x[19]*x[24]*x[27]*x[32]*x[43]*x[45] + 3x[6]*x[11]*x[18]*x[24]*x[33]*x[41]*x[43] + 3x[3]*x[6]*x[19]*x[24]*x[33]*x[41]*x[45] + 4(x[18]^2)*x[2]*x[11]*x[12]*x[15]*x[22]*x[31]*x[43] + 4x[2]*x[4]*x[11]*x[12]*x[15]*x[18]*x[22]*x[31] + 2(x[43]^2)*x[2]*x[11]*x[15]*x[18]*x[27]*x[31]*x[32] + 2x[2]*x[4]*x[11]*x[15]*x[27]*x[31]*x[32]*x[43] + 4x[2]*x[3]*x[12]*x[15]*x[18]*x[19]*x[22]*x[31]*x[45] + 2x[2]*x[3]*x[15]*x[19]*x[27]*x[31]*x[32]*x[43]*x[45] 2x[19] + x[25]*x[47] + 2x[4]*x[11]*x[20] + 2x[21]*x[25]*x[27] + 4x[4]*x[11]*x[24] + x[3]*x[19]*x[24]*x[45] + x[11]*x[18]*x[24]*x[43] + 2x[11]*x[18]*x[20]*x[43] + 2x[3]*x[19]*x[20]*x[45] + 4x[2]*x[4]*x[11]*x[15]*x[31] + 4x[2]*x[11]*x[15]*x[18]*x[31]*x[43] + 4x[2]*x[3]*x[15]*x[19]*x[31]*x[45] … 1.0 0.0; x[3]*x[14] + 2x[31] + 3x[37] + 4x[26]*x[30]*x[35] + x[12]*x[13]*x[18]*x[22] + 3x[6]*x[13]*x[33]*x[41] + 4x[26]*x[32]*x[34]*x[35] + 4x[3]*x[22]*x[39]*x[44] + 4x[7]*x[17]*x[30]*x[36] + 5x[13]*x[27]*x[32]*x[43] + 4x[7]*x[22]*x[38]*x[39] + 4(x[4]^2)*(x[22]^2)*x[11]*x[39]*x[40] + 3x[4]*x[6]*x[26]*x[33]*x[41] + 3x[4]*x[12]*x[18]*x[22]*x[26] + 4x[12]*x[18]*x[19]*x[22]*x[30] + 2x[4]*x[11]*x[22]*x[30]*x[39] + 2x[19]*x[27]*x[30]*x[32]*x[43] + x[3]*x[12]*x[18]*x[22]*x[24]*x[44] + 3x[3]*x[6]*x[27]*x[32]*x[34] + 4x[7]*x[17]*x[32]*x[34]*x[36] + 4x[7]*x[15]*x[36]*x[38]*x[40] + 3x[1]*x[6]*x[13]*x[33]*x[41] + 4x[3]*x[15]*x[36]*x[40]*x[44] + 2(x[32]^2)*x[19]*x[27]*x[34]*x[43] + 2x[4]*x[22]*x[26]*x[35]*x[40] + 3x[1]*x[12]*x[13]*x[18]*x[22] + 4x[7]*x[13]*x[34]*x[38]*x[41] + 3x[1]*x[13]*x[27]*x[32]*x[43] + 4x[3]*x[13]*x[34]*x[41]*x[44] + 3x[4]*x[26]*x[27]*x[32]*x[43] + (x[32]^2)*x[25]*x[27]*x[34]*x[43]*x[47] + 4(x[4]^2)*(x[40]^2)*x[11]*x[15]*x[22]*x[36] + 2(x[22]^2)*x[4]*x[12]*x[18]*x[19]*x[40] + 2x[3]*x[12]*x[18]*x[20]*x[22]*x[44] + 3(x[12]^2)*x[9]*x[18]*x[22]*x[24]*x[43] + 2x[12]*x[18]*x[22]*x[25]*x[30]*x[47] + 2(x[27]^2)*(x[32]^2)*x[21]*x[25]*x[34]*x[43] + 3x[3]*x[6]*x[24]*x[33]*x[41]*x[44] + 2x[3]*x[19]*x[22]*x[30]*x[39]*x[45] + 2(x[27]^2)*x[21]*x[25]*x[30]*x[32]*x[43] + 2(x[34]^2)*x[4]*x[11]*x[13]*x[32]*x[41] + 3(x[43]^2)*x[9]*x[12]*x[24]*x[27]*x[32] + 4x[3]*x[20]*x[27]*x[32]*x[43]*x[44] + 5x[3]*x[24]*x[27]*x[32]*x[43]*x[44] + 4x[7]*x[12]*x[18]*x[22]*x[24]*x[38] + 2x[4]*x[7]*x[17]*x[22]*x[36]*x[40] + 2x[4]*x[11]*x[22]*x[32]*x[34]*x[39] + 2x[4]*x[11]*x[13]*x[30]*x[34]*x[41] + 2x[7]*x[12]*x[18]*x[20]*x[22]*x[38] + 2x[4]*x[11]*x[15]*x[30]*x[36]*x[40] + 4x[7]*x[20]*x[27]*x[32]*x[38]*x[43] + 4x[12]*x[18]*x[19]*x[22]*x[32]*x[34] + 2x[7]*x[24]*x[27]*x[32]*x[38]*x[43] + 4x[25]*x[27]*x[30]*x[32]*x[43]*x[47] + (x[32]^2)*(x[43]^2)*x[11]*x[18]*x[24]*x[27]*x[34] + 2x[11]*x[18]*x[22]*x[30]*x[39]*x[43] + 2(x[4]^2)*(x[22]^2)*x[11]*x[12]*x[18]*x[20]*x[40] + 2(x[32]^2)*(x[43]^2)*x[11]*x[18]*x[20]*x[27]*x[34] + 2(x[34]^2)*x[11]*x[13]*x[18]*x[32]*x[41]*x[43] + 2(x[32]^2)*x[4]*x[11]*x[20]*x[27]*x[34]*x[43] + 2(x[18]^2)*x[11]*x[12]*x[22]*x[24]*x[30]*x[43] + 2x[4]*x[11]*x[20]*x[27]*x[30]*x[32]*x[43] + 2x[11]*x[18]*x[22]*x[32]*x[34]*x[39]*x[43] + 4(x[4]^2)*x[11]*x[13]*x[22]*x[34]*x[40]*x[41] + 2(x[34]^2)*x[3]*x[13]*x[19]*x[32]*x[41]*x[45] + 4(x[32]^2)*x[4]*x[11]*x[24]*x[27]*x[34]*x[43] + 4x[4]*x[11]*x[12]*x[18]*x[20]*x[22]*x[30] + 2x[3]*x[13]*x[19]*x[30]*x[34]*x[41]*x[45] + 4(x[22]^2)*x[4]*x[12]*x[18]*x[25]*x[40]*x[47] + 3x[6]*x[9]*x[12]*x[24]*x[33]*x[41]*x[43] + 2x[4]*x[11]*x[15]*x[32]*x[34]*x[36]*x[40] + 4(x[43]^2)*x[11]*x[18]*x[24]*x[27]*x[30]*x[32] + (x[32]^2)*x[3]*x[19]*x[24]*x[27]*x[34]*x[43]*x[45] + 4x[4]*x[19]*x[22]*x[27]*x[32]*x[40]*x[43] + 4(x[22]^2)*x[3]*x[4]*x[19]*x[39]*x[40]*x[45] + 4(x[18]^2)*x[11]*x[12]*x[20]*x[22]*x[30]*x[43] + 2x[4]*x[11]*x[12]*x[18]*x[22]*x[24]*x[30] + 5x[12]*x[18]*x[22]*x[25]*x[32]*x[34]*x[47] + 2x[11]*x[15]*x[18]*x[30]*x[36]*x[40]*x[43] + 3x[6]*x[25]*x[32]*x[33]*x[34]*x[41]*x[47] + 4(x[4]^2)*(x[22]^2)*x[11]*x[12]*x[18]*x[24]*x[40] + 4(x[22]^2)*x[4]*x[11]*x[18]*x[39]*x[40]*x[43] + 4x[12]*x[18]*x[21]*x[22]*x[25]*x[27]*x[30] + 2(x[43]^2)*x[11]*x[18]*x[20]*x[27]*x[30]*x[32] + 2x[11]*x[13]*x[18]*x[30]*x[34]*x[41]*x[43] + 2x[3]*x[19]*x[22]*x[32]*x[34]*x[39]*x[45] + 4x[4]*x[11]*x[24]*x[27]*x[30]*x[32]*x[43] + 2x[3]*x[15]*x[19]*x[30]*x[36]*x[40]*x[45] + 2(x[18]^2)*(x[22]^2)*x[4]*x[11]*x[12]*x[20]*x[40]*x[43] + 2x[3]*x[19]*x[20]*x[27]*x[30]*x[32]*x[43]*x[45] + 2x[3]*x[15]*x[19]*x[32]*x[34]*x[36]*x[40]*x[45] + 2x[4]*x[11]*x[12]*x[18]*x[22]*x[24]*x[32]*x[34] + 4x[2]*x[3]*x[12]*x[15]*x[18]*x[22]*x[31]*x[44] + 4x[4]*x[11]*x[12]*x[18]*x[20]*x[22]*x[32]*x[34] + 4(x[27]^2)*x[4]*x[21]*x[22]*x[25]*x[32]*x[40]*x[43] + 4x[3]*x[12]*x[18]*x[19]*x[20]*x[22]*x[30]*x[45] + 5(x[18]^2)*x[11]*x[12]*x[22]*x[24]*x[32]*x[34]*x[43] + 2(x[32]^2)*x[3]*x[19]*x[20]*x[27]*x[34]*x[43]*x[45] + 4x[2]*x[7]*x[12]*x[15]*x[18]*x[22]*x[31]*x[38] + 2(x[4]^2)*x[11]*x[22]*x[24]*x[27]*x[32]*x[40]*x[43] + 4x[12]*x[18]*x[21]*x[22]*x[25]*x[27]*x[32]*x[34] + 4(x[18]^2)*x[11]*x[12]*x[20]*x[22]*x[32]*x[34]*x[43] + 4(x[4]^2)*x[11]*x[20]*x[22]*x[27]*x[32]*x[40]*x[43] + 2(x[22]^2)*x[4]*x[12]*x[18]*x[21]*x[25]*x[27]*x[40] + 4(x[40]^2)*x[4]*x[11]*x[15]*x[18]*x[22]*x[36]*x[43] + 4x[3]*x[19]*x[24]*x[27]*x[30]*x[32]*x[43]*x[45] + 2x[2]*x[3]*x[15]*x[27]*x[31]*x[32]*x[43]*x[44] + 2x[2]*x[7]*x[15]*x[27]*x[31]*x[32]*x[38]*x[43] + 2x[4]*x[22]*x[25]*x[27]*x[32]*x[40]*x[43]*x[47] + 2x[11]*x[15]*x[18]*x[32]*x[34]*x[36]*x[40]*x[43] + 4(x[18]^2)*(x[22]^2)*x[4]*x[11]*x[12]*x[24]*x[40]*x[43] + 4(x[40]^2)*x[3]*x[4]*x[15]*x[19]*x[22]*x[36]*x[45] + 2x[3]*x[12]*x[18]*x[19]*x[22]*x[24]*x[30]*x[45] + 4(x[32]^2)*(x[43]^2)*x[2]*x[11]*x[15]*x[18]*x[27]*x[31]*x[34] + 2(x[18]^2)*x[2]*x[11]*x[12]*x[15]*x[22]*x[30]*x[31]*x[43] + 4(x[4]^2)*(x[22]^2)*x[2]*x[11]*x[12]*x[15]*x[18]*x[31]*x[40] + 2(x[22]^2)*x[3]*x[4]*x[12]*x[18]*x[19]*x[20]*x[40]*x[45] + 4(x[22]^2)*x[3]*x[4]*x[12]*x[18]*x[19]*x[24]*x[40]*x[45] + 4x[3]*x[12]*x[18]*x[19]*x[20]*x[22]*x[32]*x[34]*x[45] + 4(x[32]^2)*x[2]*x[4]*x[11]*x[15]*x[27]*x[31]*x[34]*x[43] + 2x[2]*x[4]*x[11]*x[12]*x[15]*x[18]*x[22]*x[30]*x[31] + 4(x[43]^2)*x[4]*x[11]*x[18]*x[20]*x[22]*x[27]*x[32]*x[40] + 2(x[43]^2)*x[4]*x[11]*x[18]*x[22]*x[24]*x[27]*x[32]*x[40] + 4x[3]*x[4]*x[13]*x[19]*x[22]*x[34]*x[40]*x[41]*x[45] + 3x[6]*x[11]*x[18]*x[24]*x[32]*x[33]*x[34]*x[41]*x[43] + 4(x[43]^2)*x[2]*x[11]*x[15]*x[18]*x[27]*x[30]*x[31]*x[32] + 4x[4]*x[11]*x[13]*x[18]*x[22]*x[34]*x[40]*x[41]*x[43] + 4x[2]*x[4]*x[11]*x[15]*x[27]*x[30]*x[31]*x[32]*x[43] + 3x[3]*x[6]*x[19]*x[24]*x[32]*x[33]*x[34]*x[41]*x[45] + 5x[3]*x[12]*x[18]*x[19]*x[22]*x[24]*x[32]*x[34]*x[45] + 2(x[4]^2)*x[2]*x[11]*x[15]*x[22]*x[27]*x[31]*x[32]*x[40]*x[43] + 2x[2]*x[4]*x[11]*x[12]*x[15]*x[18]*x[22]*x[31]*x[32]*x[34] + 2x[3]*x[4]*x[19]*x[22]*x[24]*x[27]*x[32]*x[40]*x[43]*x[45] + 4(x[18]^2)*(x[22]^2)*x[2]*x[4]*x[11]*x[12]*x[15]*x[31]*x[40]*x[43] + 4(x[32]^2)*x[2]*x[3]*x[15]*x[19]*x[27]*x[31]*x[34]*x[43]*x[45] + 2(x[18]^2)*x[2]*x[11]*x[12]*x[15]*x[22]*x[31]*x[32]*x[34]*x[43] + 2x[2]*x[3]*x[12]*x[15]*x[18]*x[19]*x[22]*x[30]*x[31]*x[45] + 4x[2]*x[3]*x[15]*x[19]*x[27]*x[30]*x[31]*x[32]*x[43]*x[45] + 4x[3]*x[4]*x[19]*x[20]*x[22]*x[27]*x[32]*x[40]*x[43]*x[45] + 2(x[43]^2)*x[2]*x[4]*x[11]*x[15]*x[18]*x[22]*x[27]*x[31]*x[32]*x[40] + 2x[2]*x[3]*x[12]*x[15]*x[18]*x[19]*x[22]*x[31]*x[32]*x[34]*x[45] + 4(x[22]^2)*x[2]*x[3]*x[4]*x[12]*x[15]*x[18]*x[19]*x[31]*x[40]*x[45] + 2x[2]*x[3]*x[4]*x[15]*x[19]*x[22]*x[27]*x[31]*x[32]*x[40]*x[43]*x[45] 3x[1]*x[13] + 3x[4]*x[26] + 4x[19]*x[30] + x[3]*x[24]*x[44] + 2x[7]*x[20]*x[38] + 4x[7]*x[24]*x[38] + 2x[25]*x[30]*x[47] + 4x[19]*x[32]*x[34] + 2x[3]*x[20]*x[44] + 4x[4]*x[11]*x[20]*x[30] + 2x[4]*x[11]*x[24]*x[30] + 4x[21]*x[25]*x[27]*x[30] + 2x[4]*x[19]*x[22]*x[40] + 3x[9]*x[12]*x[24]*x[43] + 5x[25]*x[32]*x[34]*x[47] + 4(x[4]^2)*x[11]*x[22]*x[24]*x[40] + 4x[2]*x[7]*x[15]*x[31]*x[38] + 4x[4]*x[11]*x[20]*x[32]*x[34] + 2x[3]*x[19]*x[24]*x[30]*x[45] + 4x[3]*x[19]*x[20]*x[30]*x[45] + 4x[4]*x[22]*x[25]*x[40]*x[47] + 2x[11]*x[18]*x[24]*x[30]*x[43] + 2x[4]*x[11]*x[24]*x[32]*x[34] + 4x[2]*x[3]*x[15]*x[31]*x[44] + 4x[21]*x[25]*x[27]*x[32]*x[34] + 2(x[4]^2)*x[11]*x[20]*x[22]*x[40] + 4x[11]*x[18]*x[20]*x[30]*x[43] + 2x[2]*x[4]*x[11]*x[15]*x[30]*x[31] + 4x[3]*x[19]*x[20]*x[32]*x[34]*x[45] + 5x[11]*x[18]*x[24]*x[32]*x[34]*x[43] + 5x[3]*x[19]*x[24]*x[32]*x[34]*x[45] + 2x[4]*x[21]*x[22]*x[25]*x[27]*x[40] + 4x[11]*x[18]*x[20]*x[32]*x[34]*x[43] + 4(x[4]^2)*x[2]*x[11]*x[15]*x[22]*x[31]*x[40] + 2x[2]*x[4]*x[11]*x[15]*x[31]*x[32]*x[34] + 2x[2]*x[3]*x[15]*x[19]*x[30]*x[31]*x[45] + 2x[3]*x[4]*x[19]*x[20]*x[22]*x[40]*x[45] + 4x[3]*x[4]*x[19]*x[22]*x[24]*x[40]*x[45] + 2x[2]*x[11]*x[15]*x[18]*x[30]*x[31]*x[43] + 2x[4]*x[11]*x[18]*x[20]*x[22]*x[40]*x[43] + 4x[4]*x[11]*x[18]*x[22]*x[24]*x[40]*x[43] + 2x[2]*x[3]*x[15]*x[19]*x[31]*x[32]*x[34]*x[45] + 2x[2]*x[11]*x[15]*x[18]*x[31]*x[32]*x[34]*x[43] + 4x[2]*x[3]*x[4]*x[15]*x[19]*x[22]*x[31]*x[40]*x[45] + 4x[2]*x[4]*x[11]*x[15]*x[18]*x[22]*x[31]*x[40]*x[43] + x[13] … 2x[30] + 5x[32]*x[34] + 4x[4]*x[22]*x[40] 1.0])"
      ]
     },
     "execution_count": 124,
     "metadata": {},
     "output_type": "execute_result"
    }
   ],
   "source": [
    "A,B,C,D=matrix_kl_mod(5,5,50,3,3,6)"
   ]
  },
  {
   "cell_type": "code",
   "execution_count": 130,
   "id": "eb79afc9",
   "metadata": {},
   "outputs": [
    {
     "data": {
      "text/latex": [
       "$$ \\begin{equation}\n",
       "\\left[\n",
       "\\begin{array}{ccccc}\n",
       "1.0 & 0.0 & 0.0 & 0.0 & 0.0 \\\\\n",
       "0 & 1.0 & 0.0 & 0.0 & 0.0 \\\\\n",
       "0 & 0 & 1.0 & 0.0 & 0.0 \\\\\n",
       "0 & 0 & 0 & 1.0 & 0.0 \\\\\n",
       "0 & 0 & 0 & 0 & 1.0 \\\\\n",
       "\\end{array}\n",
       "\\right]\n",
       "\\end{equation}\n",
       " $$"
      ],
      "text/plain": [
       "5×5 Matrix{Num}:\n",
       " 1.0  0.0  0.0  0.0  0.0\n",
       " 0    1.0  0.0  0.0  0.0\n",
       " 0    0    1.0  0.0  0.0\n",
       " 0    0    0    1.0  0.0\n",
       " 0    0    0    0    1.0"
      ]
     },
     "execution_count": 130,
     "metadata": {},
     "output_type": "execute_result"
    }
   ],
   "source": [
    "modify_matrix_coef(D*C,6)"
   ]
  },
  {
   "cell_type": "code",
   "execution_count": 29,
   "id": "43be517e",
   "metadata": {},
   "outputs": [
    {
     "data": {
      "text/plain": [
       "matrix_kl (generic function with 1 method)"
      ]
     },
     "execution_count": 29,
     "metadata": {},
     "output_type": "execute_result"
    }
   ],
   "source": [
    "# function matrix_kl(k,l,s,n,t,B,q)\n",
    "#     Ls=[]\n",
    "#     Us=[]\n",
    "#     for i in 1:s\n",
    "#         U=generate_U(k,n,t,B,q)\n",
    "#         L=generate_L(k,n,t,B,q)\n",
    "#         push!(Us,U)\n",
    "#         push!(Ls,L)\n",
    "#     end \n",
    "#     U_new=Us[rand(1:s)]\n",
    "#     L_new=Ls[rand(1:s)]\n",
    "    \n",
    "#     P1=random_permutation(k)\n",
    "#     P2=random_permutation(k)\n",
    "#     kk_matrix=matrix_multiplication(matrix_multiplication(matrix_multiplication(U_new,P1),L_new),P2)\n",
    "# #     kk_matrix=simplify.(expand.(kk_matrix))\n",
    "# #     kk_matrix=modify_matrix_coef(kk_matrix,q)#modify the coefficients for kk_matrix\n",
    "#     kk_inv=inv(P2)*inv(L_new)*inv(P1)*inv(U_new)#able to compute, not able to verify the result\n",
    "# #     kk_inv=simplify.(expand.(kk_inv))\n",
    "#     col_keep,kl_matrix=random_del_cols(k,l,kk_matrix)\n",
    "#     kl_inverse=find_kl_inverse(col_keep,kk_inv)\n",
    "  \n",
    "#     return kk_matrix,kk_inv,kl_matrix, kl_inverse\n",
    "# end \n",
    "\n",
    "# substitution_dict = Dict()\n",
    "# for i in 1:64\n",
    "#     substitution_dict[x[i]] = rand(0:1)\n",
    "# end\n",
    "\n",
    "function matrix_kl(k,l,n,t,B,q)\n",
    "    #generate upper unitriangular matrix\n",
    "    U=generate_U(k,n,t,B,q)\n",
    "    res_U=U[1]\n",
    "    for i in 2:Int(size(U)[1])\n",
    "        res_U=res_U*U[i]\n",
    "    end\n",
    "#     res_U=modify_matrix_coef(res_U,q)\n",
    "#     res_U=substitute.(res_U, (substitution_dict,))\n",
    "    \n",
    "    #generate lower unitriangular matrix\n",
    "    L=generate_L(k,n,t,B,q)\n",
    "    res_L=L[1]\n",
    "    for i in 2:Int(size(L)[1])\n",
    "        res_L=res_L*L[i]\n",
    "    end\n",
    "#     res_L=modify_matrix_coef(res_L,q)\n",
    "#     res_L=substitute.(res_L, (substitution_dict,))\n",
    "    \n",
    "#     P1=random_permutation(k)\n",
    "#     P2=random_permutation(k)\n",
    "#     kk_matrix=res_U*P1*res_L*P2#reduce coeffients 6by6\n",
    "    X=res_U*res_L\n",
    "#     kk_matrix=modify_matrix_coef(kk_matrix,q)\n",
    "    \n",
    "    uSize=Int(size(U)[1])\n",
    "    invU=inv(U[uSize])\n",
    "    for i in 1:(uSize-1)\n",
    "        invU=invU*inv(U[uSize-i])\n",
    "    end\n",
    "#     invU=modify_matrix_coef(invU,q)\n",
    "#     invU=substitute.(invU, (substitution_dict,))\n",
    "    \n",
    "    lSize=Int(size(L)[1])\n",
    "    invL=inv(L[lSize])\n",
    "    for i in 1:(lSize-1)\n",
    "        invL=invL*inv(L[lSize-i])\n",
    "    end\n",
    "#     invL=modify_matrix_coef(invL,q)\n",
    "#     invL=substitute.(invL, (substitution_dict,))\n",
    "    \n",
    "#     kk_inv=inv(P2)*invL*inv(P1)*invU#reduce cofficients 6by6\n",
    "    \n",
    "    println(simplify.(expand.(invU*res_U)))\n",
    "    println(simplify.(expand.(invL*res_L)))\n",
    "#     println(simplify.(expand.(res_L*res_U*invU*invL)))\n",
    "#     Y=invL*invU\n",
    "    Y=inv(res_U*res_L)\n",
    "    println(simplify.(expand.(X*Y)))\n",
    "#     kk_inv=modify_matrix_coef(kk_inv,q)\n",
    "#     kk_inv=substitute.(kk_inv, (substitution_dict,))\n",
    "    \n",
    "    col_keep,kl_matrix=random_del_cols(k,l,X)\n",
    "    kl_inverse=find_kl_inverse(col_keep,Y)\n",
    "    return X,Y,kl_matrix, kl_inverse\n",
    "#     return kk_matrix,kk_inv,kl_matrix, kl_inverse\n",
    "    \n",
    "end"
   ]
  },
  {
   "cell_type": "code",
   "execution_count": 84,
   "id": "ee233f6a",
   "metadata": {},
   "outputs": [
    {
     "name": "stdout",
     "output_type": "stream",
     "text": [
      "Num[1.0 0; 0.0 1.0]\n",
      "Num[1.0 0.0; 0 1.0]\n",
      "Num[1 0; 0 1]\n",
      "(2, 2)\n",
      "(2, 2)"
     ]
    }
   ],
   "source": [
    "# A,B,C,D=matrix_kl(4,4,50,3,3,6)\n",
    "\n",
    "A,B,C,D=matrix_kl(2,2,50,3,3,6)\n",
    "println(size(C))\n",
    "print(size(D))"
   ]
  },
  {
   "cell_type": "code",
   "execution_count": 18,
   "id": "e86daae2",
   "metadata": {},
   "outputs": [
    {
     "data": {
      "text/latex": [
       "$$ \\begin{equation}\n",
       "\\left[\n",
       "\\begin{array}{cccc}\n",
       "1 & 0 & 0 & 0 \\\\\n",
       "0 & 1.0 & 0 & 0 \\\\\n",
       "0 & 0 & 1.0 & 0 \\\\\n",
       "0 & 0 & 0 & 1.0 \\\\\n",
       "\\end{array}\n",
       "\\right]\n",
       "\\end{equation}\n",
       " $$"
      ],
      "text/plain": [
       "4×4 Matrix{Num}:\n",
       " 1  0    0    0\n",
       " 0  1.0  0    0\n",
       " 0  0    1.0  0\n",
       " 0  0    0    1.0"
      ]
     },
     "execution_count": 18,
     "metadata": {},
     "output_type": "execute_result"
    }
   ],
   "source": [
    "simplify.(expand.(A*B))"
   ]
  },
  {
   "cell_type": "code",
   "execution_count": 19,
   "id": "c77e73af",
   "metadata": {},
   "outputs": [
    {
     "data": {
      "text/latex": [
       "$$ \\begin{equation}\n",
       "\\left[\n",
       "\\begin{array}{cccc}\n",
       "1 & 0 & 0 & 0 \\\\\n",
       "0.0 & 1.0 & 0.0 & 0.0 \\\\\n",
       "0.0 & 0.0 & 1.0 & 0.0 \\\\\n",
       "0.0 & 0.0 & 0.0 & 1.0 \\\\\n",
       "\\end{array}\n",
       "\\right]\n",
       "\\end{equation}\n",
       " $$"
      ],
      "text/plain": [
       "4×4 Matrix{Num}:\n",
       " 1    0    0    0\n",
       " 0.0  1.0  0.0  0.0\n",
       " 0.0  0.0  1.0  0.0\n",
       " 0.0  0.0  0.0  1.0"
      ]
     },
     "execution_count": 19,
     "metadata": {},
     "output_type": "execute_result"
    }
   ],
   "source": [
    "prod_AB=A*B\n",
    "prod_inv=inv(A*B)\n",
    "simplify.(expand.(prod_AB*prod_inv))"
   ]
  },
  {
   "cell_type": "code",
   "execution_count": 638,
   "id": "a0ef23bd",
   "metadata": {},
   "outputs": [
    {
     "data": {
      "text/latex": [
       "$$ \\begin{equation}\n",
       "\\left[\n",
       "\\begin{array}{ccccc}\n",
       "1.0 & -0.0 & 0.0 & 0.0 & 0.0 \\\\\n",
       "0 & 1.0 & -0.0 & 0.0 & 0.0 \\\\\n",
       "0 & 0 & 1.0 & -0.0 & 0.0 \\\\\n",
       "0 & 0 & 0 & 1.0 & -0.0 \\\\\n",
       "0 & 0 & 0 & 0 & 1.0 \\\\\n",
       "\\end{array}\n",
       "\\right]\n",
       "\\end{equation}\n",
       " $$"
      ],
      "text/plain": [
       "5×5 Matrix{Num}:\n",
       " 1.0  -0.0   0.0   0.0   0.0\n",
       " 0     1.0  -0.0   0.0   0.0\n",
       " 0     0     1.0  -0.0   0.0\n",
       " 0     0     0     1.0  -0.0\n",
       " 0     0     0     0     1.0"
      ]
     },
     "execution_count": 638,
     "metadata": {},
     "output_type": "execute_result"
    }
   ],
   "source": [
    "prod_AB=modify_matrix_coef(prod_AB,6)\n",
    "prod_inv=modify_matrix_coef(prod_inv,6)\n"
   ]
  },
  {
   "cell_type": "code",
   "execution_count": 639,
   "id": "9b65be32",
   "metadata": {},
   "outputs": [
    {
     "data": {
      "text/latex": [
       "$$ \\begin{equation}\n",
       "\\left[\n",
       "\\begin{array}{ccccc}\n",
       "1.0 & 0.0 & 0.0 & 0.0 & 0.0 \\\\\n",
       "0.0 & 1.0 & 0.0 & 0.0 & 0.0 \\\\\n",
       "0.0 & 0.0 & 1.0 & 0.0 & 0.0 \\\\\n",
       "0.0 & 0.0 & 0.0 & 1.0 & 0.0 \\\\\n",
       "0.0 & 0.0 & 0.0 & 0.0 & 1.0 \\\\\n",
       "\\end{array}\n",
       "\\right]\n",
       "\\end{equation}\n",
       " $$"
      ],
      "text/plain": [
       "5×5 Matrix{Num}:\n",
       " 1.0  0.0  0.0  0.0  0.0\n",
       " 0.0  1.0  0.0  0.0  0.0\n",
       " 0.0  0.0  1.0  0.0  0.0\n",
       " 0.0  0.0  0.0  1.0  0.0\n",
       " 0.0  0.0  0.0  0.0  1.0"
      ]
     },
     "execution_count": 639,
     "metadata": {},
     "output_type": "execute_result"
    }
   ],
   "source": [
    "prod_AB*prod_inv"
   ]
  },
  {
   "cell_type": "code",
   "execution_count": 16,
   "id": "11d25b22",
   "metadata": {},
   "outputs": [
    {
     "data": {
      "text/latex": [
       "$$ \\begin{equation}\n",
       "\\left[\n",
       "\\begin{array}{ccc}\n",
       "1.0 & 0 & 0 \\\\\n",
       "0 & 1.0 & 0 \\\\\n",
       "0 & 0 & 1.0 \\\\\n",
       "\\end{array}\n",
       "\\right]\n",
       "\\end{equation}\n",
       " $$"
      ],
      "text/plain": [
       "3×3 Matrix{Num}:\n",
       " 1.0  0    0\n",
       " 0    1.0  0\n",
       " 0    0    1.0"
      ]
     },
     "execution_count": 16,
     "metadata": {},
     "output_type": "execute_result"
    }
   ],
   "source": [
    "simplify.(expand.(D*C))"
   ]
  },
  {
   "cell_type": "code",
   "execution_count": 610,
   "id": "38b6bd90",
   "metadata": {},
   "outputs": [
    {
     "data": {
      "text/latex": [
       "$$ \\begin{equation}\n",
       "\\left[\n",
       "\\begin{array}{ccc}\n",
       "2 x_{1 1} x_{1 2} + 4 x_{1 1} x_{2 5} + 3 x_{3 5}^{2} x_{3 0} x_{3 3} + 4 x_7 x_{1 1} x_{2 6} + 4 x_{2 2} x_{2 5} x_{3 1} + 2 x_{1 2} x_{2 0} x_{2 2} x_{3 1} + 2 x_1 x_{1 2} x_{1 6} x_{4 3} + 4 x_1 x_{1 6} x_{2 5} x_{4 3} + 4 x_4 x_{1 2} x_{2 2} x_{3 1} + 2 x_4 x_{2 2} x_{2 5} x_{3 1} + 3 x_{3 3} x_{3 5} x_{4 4} x_{4 8} + 4 x_{2 0} x_{2 2} x_{2 5} x_{3 1} + 4 x_1 x_7 x_{1 6} x_{2 6} x_{4 3} + 2 x_4 x_7 x_{2 2} x_{2 6} x_{3 1} + 4 x_7 x_{2 0} x_{2 2} x_{2 6} x_{3 1} + 3 x_{1 8} x_{3 0} x_{3 3} x_{3 5} x_{4 6} + 2 x_4 x_{1 2} x_{2 2} x_{3 1} x_{4 7} + 4 x_4 x_{2 2} x_{2 5} x_{3 1} x_{4 7} + 3 x_{1 8} x_{3 3} x_{4 4} x_{4 6} x_{4 8} + 4 x_4 x_7 x_{2 2} x_{2 6} x_{3 1} x_{4 7} & 3 x_{3 5} + 3 x_{1 8} x_{4 6} + 4 x_{2 2} x_{3 1} + x_5 x_{1 1} x_{1 9} x_{2 4} + x_{1 1} x_{2 8} x_{3 2} x_{3 4} + 2 x_{2 2}^{2} x_{2 0}^{2} x_{3 1} x_{4 1} + 3 x_{2 0}^{2} x_{2 2} x_{3 5} x_{4 1} + 5 x_{1 1} x_{2 0} x_{2 2} x_{4 1} + 3 x_6^{2} x_5 x_{1 9} x_{2 4} x_{3 9} + 3 x_6^{2} x_{2 8} x_{3 2} x_{3 4} x_{3 9} + 3 x_5 x_{1 9} x_{2 0} x_{2 4} x_{3 5} + 3 x_{2 0} x_{2 8} x_{3 2} x_{3 4} x_{3 5} + 3 x_{2 0}^{2} x_{1 8} x_{2 2} x_{4 1} x_{4 6} + 3 x_6^{2} x_{2 0} x_{2 2} x_{3 9} x_{4 1} + 4 x_{2 2}^{2} x_4 x_{2 0} x_{3 1} x_{4 1} + 3 x_4 x_5 x_{1 9} x_{2 4} x_{3 5} x_{4 7} + 3 x_4 x_{2 8} x_{3 2} x_{3 4} x_{3 5} x_{4 7} + 2 x_{2 2}^{2} x_4 x_{2 0} x_{3 1} x_{4 1} x_{4 7} + 2 x_1 x_{1 6} x_{2 0} x_{2 2} x_{4 1} x_{4 3} + 3 x_4 x_{2 0} x_{2 2} x_{3 5} x_{4 1} x_{4 7} + 4 x_1 x_5 x_{1 6} x_{1 9} x_{2 4} x_{4 3} + 4 x_1 x_{1 6} x_{2 8} x_{3 2} x_{3 4} x_{4 3} + 3 x_5 x_{1 8} x_{1 9} x_{2 0} x_{2 4} x_{4 6} + 2 x_4 x_5 x_{1 9} x_{2 2} x_{2 4} x_{3 1} + 4 x_5 x_{1 9} x_{2 0} x_{2 2} x_{2 4} x_{3 1} + 3 x_{1 8} x_{2 0} x_{2 8} x_{3 2} x_{3 4} x_{4 6} + 2 x_4 x_{2 2} x_{2 8} x_{3 1} x_{3 2} x_{3 4} + 4 x_{2 0} x_{2 2} x_{2 8} x_{3 1} x_{3 2} x_{3 4} + 3 x_4 x_5 x_{1 8} x_{1 9} x_{2 4} x_{4 6} x_{4 7} + 3 x_4 x_{1 8} x_{2 0} x_{2 2} x_{4 1} x_{4 6} x_{4 7} + 3 x_4 x_{1 8} x_{2 8} x_{3 2} x_{3 4} x_{4 6} x_{4 7} + 4 x_4 x_5 x_{1 9} x_{2 2} x_{2 4} x_{3 1} x_{4 7} + 4 x_4 x_{2 2} x_{2 8} x_{3 1} x_{3 2} x_{3 4} x_{4 7} & 3 x_{2 0} x_{3 5} + 3 x_6^{2} x_{3 9} + 3 x_{1 8} x_{2 0} x_{4 6} + 2 x_4 x_{2 2} x_{3 1} + 3 x_4 x_{3 5} x_{4 7} + 4 x_{2 0} x_{2 2} x_{3 1} + 4 x_1 x_{1 6} x_{4 3} + 3 x_4 x_{1 8} x_{4 6} x_{4 7} + 4 x_4 x_{2 2} x_{3 1} x_{4 7} + x_{1 1} \\\\\n",
       "4 x_{2 5} + 4 x_4 x_{1 2} + 2 x_4 x_{2 5} + 2 x_{1 2} x_{2 0} + 4 x_{2 0} x_{2 5} + 2 x_4 x_7 x_{2 6} + 4 x_7 x_{2 0} x_{2 6} + 2 x_4 x_{1 2} x_{4 7} + 4 x_4 x_{2 5} x_{4 7} + 3 x_{3 0} x_{3 3} x_{3 5} + 3 x_{3 3} x_{4 4} x_{4 8} + 4 x_4 x_7 x_{2 6} x_{4 7} & 5 x_{2 0}^{2} x_{2 2} x_{4 1} + x_5 x_{1 9} x_{2 0} x_{2 4} + x_{2 0} x_{2 8} x_{3 2} x_{3 4} + 2 x_4 x_5 x_{1 9} x_{2 4} + 2 x_4 x_{2 8} x_{3 2} x_{3 4} + 4 x_4 x_{2 0} x_{2 2} x_{4 1} + x_4 x_5 x_{1 9} x_{2 4} x_{4 7} + x_4 x_{2 8} x_{3 2} x_{3 4} x_{4 7} + 5 x_4 x_{2 0} x_{2 2} x_{4 1} x_{4 7} & 2 x_4 + x_4 x_{4 7} + x_{2 0} \\\\\n",
       "2 x_{1 2} + 4 x_{2 5} + 4 x_7 x_{2 6} & x_5 x_{1 9} x_{2 4} + x_{2 8} x_{3 2} x_{3 4} + 5 x_{2 0} x_{2 2} x_{4 1} & 1 \\\\\n",
       "\\end{array}\n",
       "\\right]\n",
       "\\end{equation}\n",
       " $$"
      ],
      "text/plain": [
       "3×3 Matrix{Num}:\n",
       " 2x[11]*x[12] + 4x[11]*x[25] + 3(x[35]^2)*x[30]*x[33] + 4x[7]*x[11]*x[26] + 4x[22]*x[25]*x[31] + 2x[12]*x[20]*x[22]*x[31] + 2x[1]*x[12]*x[16]*x[43] + 4x[1]*x[16]*x[25]*x[43] + 4x[4]*x[12]*x[22]*x[31] + 2x[4]*x[22]*x[25]*x[31] + 3x[33]*x[35]*x[44]*x[48] + 4x[20]*x[22]*x[25]*x[31] + 4x[1]*x[7]*x[16]*x[26]*x[43] + 2x[4]*x[7]*x[22]*x[26]*x[31] + 4x[7]*x[20]*x[22]*x[26]*x[31] + 3x[18]*x[30]*x[33]*x[35]*x[46] + 2x[4]*x[12]*x[22]*x[31]*x[47] + 4x[4]*x[22]*x[25]*x[31]*x[47] + 3x[18]*x[33]*x[44]*x[46]*x[48] + 4x[4]*x[7]*x[22]*x[26]*x[31]*x[47]  …  3x[20]*x[35] + 3(x[6]^2)*x[39] + 3x[18]*x[20]*x[46] + 2x[4]*x[22]*x[31] + 3x[4]*x[35]*x[47] + 4x[20]*x[22]*x[31] + 4x[1]*x[16]*x[43] + 3x[4]*x[18]*x[46]*x[47] + 4x[4]*x[22]*x[31]*x[47] + x[11]\n",
       "                                                                                                                                                                                                                                                                                                                                          4x[25] + 4x[4]*x[12] + 2x[4]*x[25] + 2x[12]*x[20] + 4x[20]*x[25] + 2x[4]*x[7]*x[26] + 4x[7]*x[20]*x[26] + 2x[4]*x[12]*x[47] + 4x[4]*x[25]*x[47] + 3x[30]*x[33]*x[35] + 3x[33]*x[44]*x[48] + 4x[4]*x[7]*x[26]*x[47]                                                                                                                                                                           2x[4] + x[4]*x[47] + x[20]\n",
       "                                                                                                                                                                                                                                                                                                                                                                                                                                                                                                                               2x[12] + 4x[25] + 4x[7]*x[26]                                                                                                                                                                                                    1"
      ]
     },
     "execution_count": 610,
     "metadata": {},
     "output_type": "execute_result"
    }
   ],
   "source": [
    "res_DC=D*C\n",
    "res_DCi=inv(D*C)\n",
    "expand.(res_DC)"
   ]
  },
  {
   "cell_type": "code",
   "execution_count": 31,
   "id": "0d3d8a2f",
   "metadata": {},
   "outputs": [
    {
     "data": {
      "text/latex": [
       "$$ \\begin{equation}\n",
       "\\left[\n",
       "\\begin{array}{cc}\n",
       "3 x_{1 2} x_{1 6} x_{3 1} + 3 x_3 x_{1 2} x_{2 1} x_{4 9} + 3 x_{1 6} x_{1 8} x_{3 1} x_{3 6} + 4 x_{1 8} x_{2 3} x_{2 8} x_{3 6} + 4 x_{2 3} x_{2 8} x_{3 0} x_{3 3} x_{4 5} + 3 x_{1 6} x_{3 0} x_{3 1} x_{3 3} x_{4 5} + 5 x_3 x_{1 8} x_{2 1} x_{3 6} x_{4 9} + 5 x_3 x_{2 1} x_{3 0} x_{3 3} x_{4 5} x_{4 9} & 2 x_{2 3} x_{2 8} + 3 x_{1 6} x_{3 1} + x_3 x_{2 1} x_{4 9} \\\\\n",
       "3 x_{1 2} + 5 x_{1 8} x_{3 6} + 5 x_{3 0} x_{3 3} x_{4 5} & 1 \\\\\n",
       "\\end{array}\n",
       "\\right]\n",
       "\\end{equation}\n",
       " $$"
      ],
      "text/plain": [
       "2×2 Matrix{Num}:\n",
       " 3x[12]*x[16]*x[31] + 3x[3]*x[12]*x[21]*x[49] + 3x[16]*x[18]*x[31]*x[36] + 4x[18]*x[23]*x[28]*x[36] + 4x[23]*x[28]*x[30]*x[33]*x[45] + 3x[16]*x[30]*x[31]*x[33]*x[45] + 5x[3]*x[18]*x[21]*x[36]*x[49] + 5x[3]*x[21]*x[30]*x[33]*x[45]*x[49]  …  2x[23]*x[28] + 3x[16]*x[31] + x[3]*x[21]*x[49]\n",
       "                                                                                                                                                                                                 3x[12] + 5x[18]*x[36] + 5x[30]*x[33]*x[45]                                                  1"
      ]
     },
     "execution_count": 31,
     "metadata": {},
     "output_type": "execute_result"
    }
   ],
   "source": [
    "A=modify_matrix_coef(A,6)"
   ]
  },
  {
   "cell_type": "code",
   "execution_count": 32,
   "id": "b1d72919",
   "metadata": {},
   "outputs": [
    {
     "data": {
      "text/latex": [
       "$$ \\begin{equation}\n",
       "\\left[\n",
       "\\begin{array}{cc}\n",
       "\\frac{true + \\frac{\\left( 2 x_{2 3} x_{2 8} + 3 x_{1 6} x_{3 1} + x_3 x_{2 1} x_{4 9} \\right) \\frac{3 x_{1 2} + 5 x_{1 8} x_{3 6} + 5 x_{3 0} x_{3 3} x_{4 5}}{1 + \\left( 2 x_{2 3} x_{2 8} + 3 x_{1 6} x_{3 1} + x_3 x_{2 1} x_{4 9} \\right) \\left( 3 x_{1 2} + 5 x_{1 8} x_{3 6} + 5 x_{3 0} x_{3 3} x_{4 5} \\right)}}{1 + \\frac{ - \\left( 2 x_{2 3} x_{2 8} + 3 x_{1 6} x_{3 1} + x_3 x_{2 1} x_{4 9} \\right) \\left( 3 x_{1 2} + 5 x_{1 8} x_{3 6} + 5 x_{3 0} x_{3 3} x_{4 5} \\right)}{1 + \\left( 2 x_{2 3} x_{2 8} + 3 x_{1 6} x_{3 1} + x_3 x_{2 1} x_{4 9} \\right) \\left( 3 x_{1 2} + 5 x_{1 8} x_{3 6} + 5 x_{3 0} x_{3 3} x_{4 5} \\right)}}}{1 + \\left( 2 x_{2 3} x_{2 8} + 3 x_{1 6} x_{3 1} + x_3 x_{2 1} x_{4 9} \\right) \\left( 3 x_{1 2} + 5 x_{1 8} x_{3 6} + 5 x_{3 0} x_{3 3} x_{4 5} \\right)} & \\frac{ - \\frac{2 x_{2 3} x_{2 8} + 3 x_{1 6} x_{3 1} + x_3 x_{2 1} x_{4 9}}{1 + \\frac{ - \\left( 2 x_{2 3} x_{2 8} + 3 x_{1 6} x_{3 1} + x_3 x_{2 1} x_{4 9} \\right) \\left( 3 x_{1 2} + 5 x_{1 8} x_{3 6} + 5 x_{3 0} x_{3 3} x_{4 5} \\right)}{1 + \\left( 2 x_{2 3} x_{2 8} + 3 x_{1 6} x_{3 1} + x_3 x_{2 1} x_{4 9} \\right) \\left( 3 x_{1 2} + 5 x_{1 8} x_{3 6} + 5 x_{3 0} x_{3 3} x_{4 5} \\right)}}}{1 + \\left( 2 x_{2 3} x_{2 8} + 3 x_{1 6} x_{3 1} + x_3 x_{2 1} x_{4 9} \\right) \\left( 3 x_{1 2} + 5 x_{1 8} x_{3 6} + 5 x_{3 0} x_{3 3} x_{4 5} \\right)} \\\\\n",
       "\\frac{ - \\frac{3 x_{1 2} + 5 x_{1 8} x_{3 6} + 5 x_{3 0} x_{3 3} x_{4 5}}{1 + \\left( 2 x_{2 3} x_{2 8} + 3 x_{1 6} x_{3 1} + x_3 x_{2 1} x_{4 9} \\right) \\left( 3 x_{1 2} + 5 x_{1 8} x_{3 6} + 5 x_{3 0} x_{3 3} x_{4 5} \\right)}}{1 + \\frac{ - \\left( 2 x_{2 3} x_{2 8} + 3 x_{1 6} x_{3 1} + x_3 x_{2 1} x_{4 9} \\right) \\left( 3 x_{1 2} + 5 x_{1 8} x_{3 6} + 5 x_{3 0} x_{3 3} x_{4 5} \\right)}{1 + \\left( 2 x_{2 3} x_{2 8} + 3 x_{1 6} x_{3 1} + x_3 x_{2 1} x_{4 9} \\right) \\left( 3 x_{1 2} + 5 x_{1 8} x_{3 6} + 5 x_{3 0} x_{3 3} x_{4 5} \\right)}} & \\frac{true}{1 + \\frac{ - \\left( 2 x_{2 3} x_{2 8} + 3 x_{1 6} x_{3 1} + x_3 x_{2 1} x_{4 9} \\right) \\left( 3 x_{1 2} + 5 x_{1 8} x_{3 6} + 5 x_{3 0} x_{3 3} x_{4 5} \\right)}{1 + \\left( 2 x_{2 3} x_{2 8} + 3 x_{1 6} x_{3 1} + x_3 x_{2 1} x_{4 9} \\right) \\left( 3 x_{1 2} + 5 x_{1 8} x_{3 6} + 5 x_{3 0} x_{3 3} x_{4 5} \\right)}} \\\\\n",
       "\\end{array}\n",
       "\\right]\n",
       "\\end{equation}\n",
       " $$"
      ],
      "text/plain": [
       "2×2 Matrix{Num}:\n",
       "                                                                                                                                                                                                                                                                                                                                                                   (true + ((2x[23]*x[28] + 3x[16]*x[31] + x[3]*x[21]*x[49])*((3x[12] + 5x[18]*x[36] + 5x[30]*x[33]*x[45]) / (1 + (2x[23]*x[28] + 3x[16]*x[31] + x[3]*x[21]*x[49])*(3x[12] + 5x[18]*x[36] + 5x[30]*x[33]*x[45])))) / (1 + (-(2x[23]*x[28] + 3x[16]*x[31] + x[3]*x[21]*x[49])*(3x[12] + 5x[18]*x[36] + 5x[30]*x[33]*x[45])) / (1 + (2x[23]*x[28] + 3x[16]*x[31] + x[3]*x[21]*x[49])*(3x[12] + 5x[18]*x[36] + 5x[30]*x[33]*x[45])))) / (1 + (2x[23]*x[28] + 3x[16]*x[31] + x[3]*x[21]*x[49])*(3x[12] + 5x[18]*x[36] + 5x[30]*x[33]*x[45]))  …  (-((2x[23]*x[28] + 3x[16]*x[31] + x[3]*x[21]*x[49]) / (1 + (-(2x[23]*x[28] + 3x[16]*x[31] + x[3]*x[21]*x[49])*(3x[12] + 5x[18]*x[36] + 5x[30]*x[33]*x[45])) / (1 + (2x[23]*x[28] + 3x[16]*x[31] + x[3]*x[21]*x[49])*(3x[12] + 5x[18]*x[36] + 5x[30]*x[33]*x[45]))))) / (1 + (2x[23]*x[28] + 3x[16]*x[31] + x[3]*x[21]*x[49])*(3x[12] + 5x[18]*x[36] + 5x[30]*x[33]*x[45]))\n",
       " (-((3x[12] + 5x[18]*x[36] + 5x[30]*x[33]*x[45]) / (1 + (2x[23]*x[28] + 3x[16]*x[31] + x[3]*x[21]*x[49])*(3x[12] + 5x[18]*x[36] + 5x[30]*x[33]*x[45])))) / (1 + (-(2x[23]*x[28] + 3x[16]*x[31] + x[3]*x[21]*x[49])*(3x[12] + 5x[18]*x[36] + 5x[30]*x[33]*x[45])) / (1 + (2x[23]*x[28] + 3x[16]*x[31] + x[3]*x[21]*x[49])*(3x[12] + 5x[18]*x[36] + 5x[30]*x[33]*x[45])))                                                                                                                                                                                                                                                                                                                                                                                                                                                                                                                                                                                                                                                                                                                                                                                                                                                                                                             true / (1 + (-(2x[23]*x[28] + 3x[16]*x[31] + x[3]*x[21]*x[49])*(3x[12] + 5x[18]*x[36] + 5x[30]*x[33]*x[45])) / (1 + (2x[23]*x[28] + 3x[16]*x[31] + x[3]*x[21]*x[49])*(3x[12] + 5x[18]*x[36] + 5x[30]*x[33]*x[45])))"
      ]
     },
     "execution_count": 32,
     "metadata": {},
     "output_type": "execute_result"
    }
   ],
   "source": [
    "B"
   ]
  },
  {
   "cell_type": "code",
   "execution_count": 33,
   "id": "102d0b3d",
   "metadata": {},
   "outputs": [
    {
     "data": {
      "text/latex": [
       "$$ \\begin{equation}\n",
       "\\left[\n",
       "\\begin{array}{cc}\n",
       "1 & 4 x_{2 3} x_{2 8} + 3 x_{1 6} x_{3 1} + 5 x_3 x_{2 1} x_{4 9} \\\\\n",
       "3 x_{1 2} + x_{1 8} x_{3 6} + x_{3 0} x_{3 3} x_{4 5} & 3 x_{1 2} x_{1 6} x_{3 1} + 3 x_3 x_{1 2} x_{2 1} x_{4 9} + 3 x_{1 6} x_{1 8} x_{3 1} x_{3 6} + 4 x_{1 8} x_{2 3} x_{2 8} x_{3 6} + 4 x_{2 3} x_{2 8} x_{3 0} x_{3 3} x_{4 5} + 3 x_{1 6} x_{3 0} x_{3 1} x_{3 3} x_{4 5} + 5 x_3 x_{1 8} x_{2 1} x_{3 6} x_{4 9} + 5 x_3 x_{2 1} x_{3 0} x_{3 3} x_{4 5} x_{4 9} \\\\\n",
       "\\end{array}\n",
       "\\right]\n",
       "\\end{equation}\n",
       " $$"
      ],
      "text/plain": [
       "2×2 Matrix{Num}:\n",
       "                                        1  …                                                                                                                                                                                             4x[23]*x[28] + 3x[16]*x[31] + 5x[3]*x[21]*x[49]\n",
       " 3x[12] + x[18]*x[36] + x[30]*x[33]*x[45]     3x[12]*x[16]*x[31] + 3x[3]*x[12]*x[21]*x[49] + 3x[16]*x[18]*x[31]*x[36] + 4x[18]*x[23]*x[28]*x[36] + 4x[23]*x[28]*x[30]*x[33]*x[45] + 3x[16]*x[30]*x[31]*x[33]*x[45] + 5x[3]*x[18]*x[21]*x[36]*x[49] + 5x[3]*x[21]*x[30]*x[33]*x[45]*x[49]"
      ]
     },
     "execution_count": 33,
     "metadata": {},
     "output_type": "execute_result"
    }
   ],
   "source": [
    "B=modify_matrix_coef(B,6)"
   ]
  },
  {
   "cell_type": "code",
   "execution_count": 34,
   "id": "efe507b6",
   "metadata": {},
   "outputs": [
    {
     "data": {
      "text/latex": [
       "$$ \\begin{equation}\n",
       "\\left[\n",
       "\\begin{array}{cc}\n",
       "0 & 0 \\\\\n",
       "0 & 0 \\\\\n",
       "\\end{array}\n",
       "\\right]\n",
       "\\end{equation}\n",
       " $$"
      ],
      "text/plain": [
       "2×2 Matrix{Num}:\n",
       " 0  0\n",
       " 0  0"
      ]
     },
     "execution_count": 34,
     "metadata": {},
     "output_type": "execute_result"
    }
   ],
   "source": [
    "modify_matrix_coef(B*A,6)"
   ]
  },
  {
   "cell_type": "code",
   "execution_count": 388,
   "id": "4f2f2f9d",
   "metadata": {},
   "outputs": [
    {
     "data": {
      "text/latex": [
       "$$ \\begin{equation}\n",
       "\\left[\n",
       "\\begin{array}{ccc}\n",
       "1.0 & 0 & 0 \\\\\n",
       "0 & 1 & 0 \\\\\n",
       "0 & 0 & 1 \\\\\n",
       "\\end{array}\n",
       "\\right]\n",
       "\\end{equation}\n",
       " $$"
      ],
      "text/plain": [
       "3×3 Matrix{Num}:\n",
       " 1.0  0  0\n",
       " 0    1  0\n",
       " 0    0  1"
      ]
     },
     "execution_count": 388,
     "metadata": {},
     "output_type": "execute_result"
    }
   ],
   "source": [
    "simplify.(expand.(B*A))"
   ]
  },
  {
   "cell_type": "code",
   "execution_count": 389,
   "id": "bfc0fb39",
   "metadata": {},
   "outputs": [
    {
     "data": {
      "text/latex": [
       "$$ \\begin{equation}\n",
       "\\left[\n",
       "\\begin{array}{ccc}\n",
       "3 x_{1 7} + 3 x_{2 2} x_{2 6} + 3 x_{1 8}^{2} x_7 x_8 + 2 x_6 x_{2 1} x_{2 7} + 2 x_{1 5} x_{3 8} x_{4 1} + 2 x_6 x_{3 7} x_{4 5} + 4 x_{1 8}^{2} x_{2 1} x_{2 7} + 4 x_{1 8}^{2} x_{3 7} x_{4 5} + 3 x_7 x_8 x_{2 2} x_{2 5} + 4 x_{2 1} x_{2 2} x_{2 5} x_{2 7} + 4 x_{2 2} x_{2 5} x_{3 7} x_{4 5} & 3 x_{1 7} x_{2 5} + 3 x_{1 0} x_{1 7} x_{3 1} + 3 x_{1 7} x_{2 7} x_{3 4} + 3 x_{2 2} x_{2 5} x_{2 6} + 3 x_{1 8}^{2} x_7 x_8 x_{2 5} + 3 x_{1 0} x_{2 2} x_{2 6} x_{3 1} + 2 x_{2 7}^{2} x_{1 8}^{2} x_{2 1} x_{3 4} + 3 x_{2 2} x_{2 6} x_{2 7} x_{3 4} + 4 x_{2 7}^{2} x_6 x_{2 1} x_{3 4} + 3 x_{2 5}^{2} x_7 x_8 x_{2 2} + 4 x_{1 8}^{2} x_{1 0} x_{3 1} x_{3 7} x_{4 5} + 2 x_{2 7}^{2} x_{2 1} x_{2 2} x_{2 5} x_{3 4} + 4 x_{1 5} x_{2 7} x_{3 4} x_{3 8} x_{4 1} + 2 x_{1 8}^{2} x_{2 7} x_{3 4} x_{3 7} x_{4 5} + 3 x_{1 8}^{2} x_7 x_8 x_{1 0} x_{3 1} + 3 x_{1 8}^{2} x_7 x_8 x_{2 7} x_{3 4} + 4 x_{1 8}^{2} x_{1 0} x_{2 1} x_{2 7} x_{3 1} + 2 x_6 x_{1 0} x_{2 1} x_{2 7} x_{3 1} + 2 x_6 x_{1 0} x_{3 1} x_{3 7} x_{4 5} + 4 x_6 x_{2 7} x_{3 4} x_{3 7} x_{4 5} + 2 x_{1 0} x_{1 5} x_{3 1} x_{3 8} x_{4 1} + 3 x_7 x_8 x_{1 0} x_{2 2} x_{2 5} x_{3 1} + 4 x_{1 0} x_{2 1} x_{2 2} x_{2 5} x_{2 7} x_{3 1} + 2 x_{2 2} x_{2 5} x_{2 7} x_{3 4} x_{3 7} x_{4 5} + 3 x_7 x_8 x_{2 2} x_{2 5} x_{2 7} x_{3 4} + 4 x_{1 0} x_{2 2} x_{2 5} x_{3 1} x_{3 7} x_{4 5} & 3 x_7 x_8 + 2 x_{2 1} x_{2 7} + 3 x_{2 9} x_{5 0} + 2 x_{3 7} x_{4 5} + 3 x_8 x_{1 7} x_{1 9} + 3 x_{3 4} x_{3 6} x_{3 7} + 5 x_3 x_{2 5} x_{4 2} + 2 x_6 x_{1 3} x_{2 1} x_{2 7} + 2 x_{1 3} x_{1 5} x_{3 8} x_{4 1} + 2 x_6 x_{1 3} x_{3 7} x_{4 5} + 3 x_{1 8}^{2} x_8^{2} x_7 x_{1 9} + 4 x_{1 8}^{2} x_{1 3} x_{2 1} x_{2 7} + 3 x_8 x_{1 9} x_{2 2} x_{2 6} + 3 x_{1 8}^{3} x_8^{2} x_7 x_{3 6} + 3 x_8 x_{1 7} x_{1 8} x_{3 6} + 4 x_{1 8}^{2} x_{1 3} x_{3 7} x_{4 5} + 3 x_8^{2} x_7 x_{1 9} x_{2 2} x_{2 5} + 3 x_8 x_{1 8} x_{2 2} x_{2 6} x_{3 6} + 4 x_{1 3} x_{2 1} x_{2 2} x_{2 5} x_{2 7} + 4 x_{1 3} x_{2 2} x_{2 5} x_{3 7} x_{4 5} + 3 x_8^{2} x_7 x_{1 8} x_{2 2} x_{2 5} x_{3 6} \\\\\n",
       "5 x_{1 8}^{2} + 4 x_6 + 5 x_{2 2} x_{2 5} & 3 x_{2 5}^{2} x_{2 2} + 3 x_{1 8}^{2} x_{2 5} + x_{1 8}^{2} x_{2 7} x_{3 4} + 5 x_{1 8}^{2} x_{1 0} x_{3 1} + 2 x_6 x_{2 7} x_{3 4} + 4 x_6 x_{1 0} x_{3 1} + x_{2 2} x_{2 5} x_{2 7} x_{3 4} + 5 x_{1 0} x_{2 2} x_{2 5} x_{3 1} & 2 x_{1 8}^{2} x_{1 3} + 4 x_6 x_{1 3} + 2 x_{1 3} x_{2 2} x_{2 5} + 3 x_{1 8}^{2} x_8 x_{1 9} + 3 x_{1 8}^{3} x_8 x_{3 6} + 3 x_8 x_{1 9} x_{2 2} x_{2 5} + 3 x_8 x_{1 8} x_{2 2} x_{2 5} x_{3 6} \\\\\n",
       "1 & 3 x_{2 5} + x_{1 0} x_{3 1} + 5 x_{2 7} x_{3 4} & 4 x_{1 3} + 3 x_8 x_{1 9} + 3 x_8 x_{1 8} x_{3 6} \\\\\n",
       "\\end{array}\n",
       "\\right]\n",
       "\\end{equation}\n",
       " $$"
      ],
      "text/plain": [
       "3×3 Matrix{Num}:\n",
       " 3x[17] + 3x[22]*x[26] + 3(x[18]^2)*x[7]*x[8] + 2x[6]*x[21]*x[27] + 2x[15]*x[38]*x[41] + 2x[6]*x[37]*x[45] + 4(x[18]^2)*x[21]*x[27] + 4(x[18]^2)*x[37]*x[45] + 3x[7]*x[8]*x[22]*x[25] + 4x[21]*x[22]*x[25]*x[27] + 4x[22]*x[25]*x[37]*x[45]  …  3x[7]*x[8] + 2x[21]*x[27] + 3x[29]*x[50] + 2x[37]*x[45] + 3x[8]*x[17]*x[19] + 3x[34]*x[36]*x[37] + 5x[3]*x[25]*x[42] + 2x[6]*x[13]*x[21]*x[27] + 2x[13]*x[15]*x[38]*x[41] + 2x[6]*x[13]*x[37]*x[45] + 3(x[8]^2)*(x[18]^2)*x[7]*x[19] + 4(x[18]^2)*x[13]*x[21]*x[27] + 3x[8]*x[19]*x[22]*x[26] + 3(x[8]^2)*(x[18]^3)*x[7]*x[36] + 3x[8]*x[17]*x[18]*x[36] + 4(x[18]^2)*x[13]*x[37]*x[45] + 3(x[8]^2)*x[7]*x[19]*x[22]*x[25] + 3x[8]*x[18]*x[22]*x[26]*x[36] + 4x[13]*x[21]*x[22]*x[25]*x[27] + 4x[13]*x[22]*x[25]*x[37]*x[45] + 3(x[8]^2)*x[7]*x[18]*x[22]*x[25]*x[36]\n",
       "                                                                                                                                                                                                          5(x[18]^2) + 4x[6] + 5x[22]*x[25]                                                                                                                                                                                                                                                                                                                                                                                                             2(x[18]^2)*x[13] + 4x[6]*x[13] + 2x[13]*x[22]*x[25] + 3(x[18]^2)*x[8]*x[19] + 3(x[18]^3)*x[8]*x[36] + 3x[8]*x[19]*x[22]*x[25] + 3x[8]*x[18]*x[22]*x[25]*x[36]\n",
       "                                                                                                                                                                                                                                          1                                                                                                                                                                                                                                                                                                                                                                                                                                                                                                                                  4x[13] + 3x[8]*x[19] + 3x[8]*x[18]*x[36]"
      ]
     },
     "execution_count": 389,
     "metadata": {},
     "output_type": "execute_result"
    }
   ],
   "source": [
    "A=modify_matrix_coef(A,6)\n"
   ]
  },
  {
   "cell_type": "code",
   "execution_count": null,
   "id": "dafbb5c9",
   "metadata": {},
   "outputs": [],
   "source": []
  },
  {
   "cell_type": "code",
   "execution_count": 390,
   "id": "d31d2fdb",
   "metadata": {},
   "outputs": [
    {
     "data": {
      "text/latex": [
       "$$ \\begin{equation}\n",
       "\\left[\n",
       "\\begin{array}{ccc}\n",
       "3 x_{2 5} + x_{2 7} x_{3 4} + 5 x_{1 0} x_{3 1} & 2 x_{1 3} + 3 x_8 x_{1 9} + 3 x_7 x_8 x_{2 5} + 3 x_8 x_{1 8} x_{3 6} + 3 x_{2 5}^{2} x_3 x_{4 2} + 3 x_{2 5} x_{2 9} x_{5 0} + 4 x_{2 7}^{2} x_{2 1} x_{3 4} + 3 x_{3 4}^{2} x_{2 7} x_{3 6} x_{3 7} + 3 x_7 x_8 x_{1 0} x_{3 1} + 3 x_7 x_8 x_{2 7} x_{3 4} + 2 x_{1 0} x_{2 1} x_{2 7} x_{3 1} + 3 x_{1 0} x_{2 9} x_{3 1} x_{5 0} + 2 x_{1 0} x_{3 1} x_{3 7} x_{4 5} + 3 x_{2 7} x_{2 9} x_{3 4} x_{5 0} + x_3 x_{2 5} x_{2 7} x_{3 4} x_{4 2} + 3 x_{2 5} x_{3 4} x_{3 6} x_{3 7} + 4 x_{2 7} x_{3 4} x_{3 7} x_{4 5} + 5 x_3 x_{1 0} x_{2 5} x_{3 1} x_{4 2} + 3 x_{1 0} x_{3 1} x_{3 4} x_{3 6} x_{3 7} & 2.0 x_{1 8}^{2} x_{1 3} + 3.0 x_{1 7} x_{2 5} + 4.0 x_6 x_{1 3} + 2.0 x_{1 3} x_{2 2} x_{2 5} + 3.0 x_{1 8}^{2} x_8 x_{1 9} + 3.0 x_{1 0} x_{1 7} x_{3 1} + 3.0 x_{1 8}^{3} x_8 x_{3 6} + 3.0 x_{1 7} x_{2 7} x_{3 4} + 3.0 x_{2 2} x_{2 5} x_{2 6} + 3.0 x_{2 5}^{2} x_{1 8}^{2} x_3 x_{4 2} + 3.0 x_8 x_{1 9} x_{2 2} x_{2 5} + 3.0 x_{1 0} x_{2 2} x_{2 6} x_{3 1} + 3.0 x_{1 8}^{2} x_{2 5} x_{2 9} x_{5 0} + 3.0 x_{2 2} x_{2 6} x_{2 7} x_{3 4} + 3.0 x_{2 5}^{2} x_{2 2} x_{2 9} x_{5 0} + 3.0 x_{2 5}^{3} x_3 x_{2 2} x_{4 2} + 3.0 x_{1 8}^{2} x_{1 0} x_{2 9} x_{3 1} x_{5 0} + x_{2 5}^{2} x_3 x_{2 2} x_{2 7} x_{3 4} x_{4 2} + 3.0 x_{2 5}^{2} x_{2 2} x_{3 4} x_{3 6} x_{3 7} + 3.0 x_8 x_{1 8} x_{2 2} x_{2 5} x_{3 6} + 3.0 x_{1 8}^{2} x_{2 7} x_{2 9} x_{3 4} x_{5 0} + x_{1 8}^{2} x_3 x_{2 5} x_{2 7} x_{3 4} x_{4 2} + 3.0 x_{3 4}^{2} x_{1 8}^{2} x_{2 7} x_{3 6} x_{3 7} + 3.0 x_{1 8}^{2} x_{2 5} x_{3 4} x_{3 6} x_{3 7} + 2.0 x_{1 0} x_{1 5} x_{3 1} x_{3 8} x_{4 1} + 4.0 x_{1 5} x_{2 7} x_{3 4} x_{3 8} x_{4 1} + 2.0 x_3 x_6 x_{2 5} x_{2 7} x_{3 4} x_{4 2} + 3.0 x_{1 0} x_{2 2} x_{2 5} x_{2 9} x_{3 1} x_{5 0} + 3.0 x_{2 2} x_{2 5} x_{2 7} x_{2 9} x_{3 4} x_{5 0} + 3.0 x_{3 4}^{2} x_{2 2} x_{2 5} x_{2 7} x_{3 6} x_{3 7} + 5.0 x_{1 8}^{2} x_3 x_{1 0} x_{2 5} x_{3 1} x_{4 2} + 4.0 x_3 x_6 x_{1 0} x_{2 5} x_{3 1} x_{4 2} + 5.0 x_{2 5}^{2} x_3 x_{1 0} x_{2 2} x_{3 1} x_{4 2} + 3.0 x_{1 8}^{2} x_{1 0} x_{3 1} x_{3 4} x_{3 6} x_{3 7} + 3.0 x_{1 0} x_{2 2} x_{2 5} x_{3 1} x_{3 4} x_{3 6} x_{3 7} \\\\\n",
       "1.0 & 3 x_7 x_8 + 3 x_{2 9} x_{5 0} + 4 x_{2 1} x_{2 7} + x_3 x_{2 5} x_{4 2} + 4 x_{3 7} x_{4 5} + 3 x_{3 4} x_{3 6} x_{3 7} & 3 x_{1 7} + 3 x_{2 2} x_{2 6} + 3 x_{1 8}^{2} x_{2 9} x_{5 0} + x_{1 8}^{2} x_3 x_{2 5} x_{4 2} + 4 x_{1 5} x_{3 8} x_{4 1} + x_{2 5}^{2} x_3 x_{2 2} x_{4 2} + 2 x_3 x_6 x_{2 5} x_{4 2} + 3 x_{1 8}^{2} x_{3 4} x_{3 6} x_{3 7} + 3 x_{2 2} x_{2 5} x_{2 9} x_{5 0} + 3 x_{2 2} x_{2 5} x_{3 4} x_{3 6} x_{3 7} \\\\\n",
       "0.0 & 1.0 & 2 x_6 + x_{1 8}^{2} + x_{2 2} x_{2 5} \\\\\n",
       "\\end{array}\n",
       "\\right]\n",
       "\\end{equation}\n",
       " $$"
      ],
      "text/plain": [
       "3×3 Matrix{Num}:\n",
       " 3x[25] + x[27]*x[34] + 5x[10]*x[31]    …                                                                                                                                                                                                                                                  2.0(x[18]^2)*x[13] + 3.0x[17]*x[25] + 4.0x[6]*x[13] + 2.0x[13]*x[22]*x[25] + 3.0(x[18]^2)*x[8]*x[19] + 3.0x[10]*x[17]*x[31] + 3.0(x[18]^3)*x[8]*x[36] + 3.0x[17]*x[27]*x[34] + 3.0x[22]*x[25]*x[26] + 3.0(x[18]^2)*(x[25]^2)*x[3]*x[42] + 3.0x[8]*x[19]*x[22]*x[25] + 3.0x[10]*x[22]*x[26]*x[31] + 3.0(x[18]^2)*x[25]*x[29]*x[50] + 3.0x[22]*x[26]*x[27]*x[34] + 3.0(x[25]^2)*x[22]*x[29]*x[50] + 3.0(x[25]^3)*x[3]*x[22]*x[42] + 3.0(x[18]^2)*x[10]*x[29]*x[31]*x[50] + (x[25]^2)*x[3]*x[22]*x[27]*x[34]*x[42] + 3.0(x[25]^2)*x[22]*x[34]*x[36]*x[37] + 3.0x[8]*x[18]*x[22]*x[25]*x[36] + 3.0(x[18]^2)*x[27]*x[29]*x[34]*x[50] + (x[18]^2)*x[3]*x[25]*x[27]*x[34]*x[42] + 3.0(x[18]^2)*(x[34]^2)*x[27]*x[36]*x[37] + 3.0(x[18]^2)*x[25]*x[34]*x[36]*x[37] + 2.0x[10]*x[15]*x[31]*x[38]*x[41] + 4.0x[15]*x[27]*x[34]*x[38]*x[41] + 2.0x[3]*x[6]*x[25]*x[27]*x[34]*x[42] + 3.0x[10]*x[22]*x[25]*x[29]*x[31]*x[50] + 3.0x[22]*x[25]*x[27]*x[29]*x[34]*x[50] + 3.0(x[34]^2)*x[22]*x[25]*x[27]*x[36]*x[37] + 5.0(x[18]^2)*x[3]*x[10]*x[25]*x[31]*x[42] + 4.0x[3]*x[6]*x[10]*x[25]*x[31]*x[42] + 5.0(x[25]^2)*x[3]*x[10]*x[22]*x[31]*x[42] + 3.0(x[18]^2)*x[10]*x[31]*x[34]*x[36]*x[37] + 3.0x[10]*x[22]*x[25]*x[31]*x[34]*x[36]*x[37]\n",
       "                                   1.0     3x[17] + 3x[22]*x[26] + 3(x[18]^2)*x[29]*x[50] + (x[18]^2)*x[3]*x[25]*x[42] + 4x[15]*x[38]*x[41] + (x[25]^2)*x[3]*x[22]*x[42] + 2x[3]*x[6]*x[25]*x[42] + 3(x[18]^2)*x[34]*x[36]*x[37] + 3x[22]*x[25]*x[29]*x[50] + 3x[22]*x[25]*x[34]*x[36]*x[37]\n",
       "                                   0.0                                                                                                                                                                                                                         2x[6] + x[18]^2 + x[22]*x[25]"
      ]
     },
     "execution_count": 390,
     "metadata": {},
     "output_type": "execute_result"
    }
   ],
   "source": [
    "B=modify_matrix_coef(B,6)"
   ]
  },
  {
   "cell_type": "code",
   "execution_count": 391,
   "id": "89fca861",
   "metadata": {},
   "outputs": [
    {
     "data": {
      "text/latex": [
       "$$ \\begin{equation}\n",
       "\\left[\n",
       "\\begin{array}{ccc}\n",
       "0.0 & 0.0 & 2.0 x_{2 7}^{2} x_{2 1} x_{3 4} + 3.0 x_7 x_8 x_{2 5} + 3.0 x_{2 5}^{2} x_3 x_{4 2} + 3.0 x_{2 5} x_{2 9} x_{5 0} + 3.0 x_{3 4}^{2} x_{2 7} x_{3 6} x_{3 7} + 2.0 x_{2 7} x_{3 4} x_{3 7} x_{4 5} + 3.0 x_7 x_8 x_{1 0} x_{3 1} + 3.0 x_7 x_8 x_{2 7} x_{3 4} + 3.0 x_{1 0} x_{2 9} x_{3 1} x_{5 0} + 3.0 x_{2 7} x_{2 9} x_{3 4} x_{5 0} + 3.0 x_{2 5} x_{3 4} x_{3 6} x_{3 7} + 4.0 x_{1 0} x_{2 1} x_{2 7} x_{3 1} + 4.0 x_{1 0} x_{3 1} x_{3 7} x_{4 5} + x_3 x_{1 0} x_{2 5} x_{3 1} x_{4 2} + 3.0 x_{1 0} x_{3 1} x_{3 4} x_{3 6} x_{3 7} + 5.0 x_3 x_{2 5} x_{2 7} x_{3 4} x_{4 2} \\\\\n",
       "0 & 0 & 2 x_{2 1} x_{2 7} + 3 x_7 x_8 + 3 x_{2 9} x_{5 0} + 2 x_{3 7} x_{4 5} + 3 x_{3 4} x_{3 6} x_{3 7} + 5 x_3 x_{2 5} x_{4 2} \\\\\n",
       "0 & 0 & 0 \\\\\n",
       "\\end{array}\n",
       "\\right]\n",
       "\\end{equation}\n",
       " $$"
      ],
      "text/plain": [
       "3×3 Matrix{Num}:\n",
       " 0.0  …                                                                                                 2.0(x[27]^2)*x[21]*x[34] + 3.0x[7]*x[8]*x[25] + 3.0(x[25]^2)*x[3]*x[42] + 3.0x[25]*x[29]*x[50] + 3.0(x[34]^2)*x[27]*x[36]*x[37] + 2.0x[27]*x[34]*x[37]*x[45] + 3.0x[7]*x[8]*x[10]*x[31] + 3.0x[7]*x[8]*x[27]*x[34] + 3.0x[10]*x[29]*x[31]*x[50] + 3.0x[27]*x[29]*x[34]*x[50] + 3.0x[25]*x[34]*x[36]*x[37] + 4.0x[10]*x[21]*x[27]*x[31] + 4.0x[10]*x[31]*x[37]*x[45] + x[3]*x[10]*x[25]*x[31]*x[42] + 3.0x[10]*x[31]*x[34]*x[36]*x[37] + 5.0x[3]*x[25]*x[27]*x[34]*x[42]\n",
       " 0       2x[21]*x[27] + 3x[7]*x[8] + 3x[29]*x[50] + 2x[37]*x[45] + 3x[34]*x[36]*x[37] + 5x[3]*x[25]*x[42]\n",
       " 0                                                                                                      0"
      ]
     },
     "execution_count": 391,
     "metadata": {},
     "output_type": "execute_result"
    }
   ],
   "source": [
    "modify_matrix_coef(B*A,6)"
   ]
  },
  {
   "cell_type": "code",
   "execution_count": 373,
   "id": "1f3cc7b3",
   "metadata": {},
   "outputs": [
    {
     "data": {
      "text/latex": [
       "$$ \\begin{equation}\n",
       "\\left[\n",
       "\\begin{array}{ccc}\n",
       "1.0 & 0.0 & 0 \\\\\n",
       "0 & 1.0 & 0 \\\\\n",
       "0.0 & 0.0 & 1.0 \\\\\n",
       "\\end{array}\n",
       "\\right]\n",
       "\\end{equation}\n",
       " $$"
      ],
      "text/plain": [
       "3×3 Matrix{Num}:\n",
       " 1.0  0.0  0\n",
       " 0    1.0  0\n",
       " 0.0  0.0  1.0"
      ]
     },
     "execution_count": 373,
     "metadata": {},
     "output_type": "execute_result"
    }
   ],
   "source": [
    "simplify.(expand.(D*C))"
   ]
  },
  {
   "cell_type": "code",
   "execution_count": 378,
   "id": "893c4698",
   "metadata": {},
   "outputs": [
    {
     "data": {
      "text/latex": [
       "$$ \\begin{equation}\n",
       "\\left[\n",
       "\\begin{array}{ccc}\n",
       "0.0 & 1.0 &  - 5 x_{1 1} - x_{3 0}^{2} x_{4 5} - x_{2 4} x_{4 8} - 4 x_7 x_{4 1} - 2 x_9 x_{4 8} - 3 x_1 x_{2 6} x_{3 4} \\\\\n",
       "1.0 &  - 2 x_{3 7} - 5 x_{1 3} - 5 x_2 x_{2 7} - 5 x_1 x_4 x_{3 6} - 3 x_{1 1} x_{3 5} x_{3 8} - 3 x_{1 4} x_{1 7} x_{3 0} &  - 2 x_{2 8} - x_{3 4} + \\left(  - x_{2 4} x_{4 8} - 2 x_9 x_{4 8} - 3 x_1 x_{2 6} x_{3 4} \\right) \\left(  - 2 x_{3 7} - 5 x_{1 3} - 3 x_{1 1} x_{3 5} x_{3 8} \\right) + \\left(  - 2 x_{3 7} - 5 x_{1 3} - 3 x_{1 1} x_{3 5} x_{3 8} \\right) \\left(  - 5 x_{1 1} - x_{3 0}^{2} x_{4 5} - 4 x_7 x_{4 1} \\right) - x_{3 9} - x_{3 2}^{2} x_{2 0} - 3 x_{2 8} x_{2 9} x_{3 7} - 5 x_{1 3} x_{1 8} x_{1 9} \\\\\n",
       "0.0 & 0.0 & 1.0 \\\\\n",
       "\\end{array}\n",
       "\\right]\n",
       "\\end{equation}\n",
       " $$"
      ],
      "text/plain": [
       "3×3 Matrix{Num}:\n",
       " 0.0  …                                                                                                                                                                            -5x[11] - (x[30]^2)*x[45] - x[24]*x[48] - 4x[7]*x[41] - 2x[9]*x[48] - 3x[1]*x[26]*x[34]\n",
       " 1.0     (-x[24]*x[48] - 2x[9]*x[48] - 3x[1]*x[26]*x[34])*(-2x[37] - 5x[13] - 3x[11]*x[35]*x[38]) + (-2x[37] - 5x[13] - 3x[11]*x[35]*x[38])*(-5x[11] - (x[30]^2)*x[45] - 4x[7]*x[41]) - 2x[28] - x[34] - x[39] - (x[32]^2)*x[20] - 3x[28]*x[29]*x[37] - 5x[13]*x[18]*x[19]\n",
       " 0.0                                                                                                                                                                                                                                                                     1.0"
      ]
     },
     "execution_count": 378,
     "metadata": {},
     "output_type": "execute_result"
    }
   ],
   "source": [
    "D"
   ]
  },
  {
   "cell_type": "code",
   "execution_count": 379,
   "id": "10426709",
   "metadata": {},
   "outputs": [
    {
     "data": {
      "text/latex": [
       "$$ \\begin{equation}\n",
       "\\left[\n",
       "\\begin{array}{ccc}\n",
       "0.0 & 1.0 & 5 x_{3 0}^{2} x_{4 5} + 2 x_7 x_{4 1} + 4 x_9 x_{4 8} + 5 x_{2 4} x_{4 8} + 3 x_1 x_{2 6} x_{3 4} + x_{1 1} \\\\\n",
       "1.0 & 4 x_{3 7} + x_2 x_{2 7} + x_1 x_4 x_{3 6} + 3 x_{1 1} x_{3 5} x_{3 8} + 3 x_{1 4} x_{1 7} x_{3 0} + x_{1 3} & 4 x_{2 8} + 5 x_{3 4} + 5 x_{3 9} + x_{1 1} x_{1 3} + 5 x_{3 2}^{2} x_{2 0} + x_{1 3} x_{1 8} x_{1 9} + 4 x_{1 1} x_{3 7} + 5 x_{3 0}^{2} x_{1 3} x_{4 5} + 2 x_7 x_{1 3} x_{4 1} + 2 x_7 x_{3 7} x_{4 1} + 3 x_{1 1}^{2} x_{3 5} x_{3 8} + 2 x_{3 0}^{2} x_{3 7} x_{4 5} + 3 x_{2 8} x_{2 9} x_{3 7} + 2 x_{2 4} x_{3 7} x_{4 8} + 4 x_9 x_{1 3} x_{4 8} + 4 x_9 x_{3 7} x_{4 8} + 5 x_{1 3} x_{2 4} x_{4 8} + 3 x_1 x_{1 3} x_{2 6} x_{3 4} + 3 x_{3 0}^{2} x_{1 1} x_{3 5} x_{3 8} x_{4 5} + 3 x_{1 1} x_{2 4} x_{3 5} x_{3 8} x_{4 8} + 3 x_1 x_{1 1} x_{2 6} x_{3 4} x_{3 5} x_{3 8} \\\\\n",
       "0.0 & 0.0 & 1.0 \\\\\n",
       "\\end{array}\n",
       "\\right]\n",
       "\\end{equation}\n",
       " $$"
      ],
      "text/plain": [
       "3×3 Matrix{Num}:\n",
       " 0.0  …                                                                                                                                                                                                                                                                                                                                                                       5(x[30]^2)*x[45] + 2x[7]*x[41] + 4x[9]*x[48] + 5x[24]*x[48] + 3x[1]*x[26]*x[34] + x[11]\n",
       " 1.0     4x[28] + 5x[34] + 5x[39] + x[11]*x[13] + 5(x[32]^2)*x[20] + x[13]*x[18]*x[19] + 4x[11]*x[37] + 5(x[30]^2)*x[13]*x[45] + 2x[7]*x[13]*x[41] + 2x[7]*x[37]*x[41] + 3(x[11]^2)*x[35]*x[38] + 2(x[30]^2)*x[37]*x[45] + 3x[28]*x[29]*x[37] + 2x[24]*x[37]*x[48] + 4x[9]*x[13]*x[48] + 4x[9]*x[37]*x[48] + 5x[13]*x[24]*x[48] + 3x[1]*x[13]*x[26]*x[34] + 3(x[30]^2)*x[11]*x[35]*x[38]*x[45] + 3x[11]*x[24]*x[35]*x[38]*x[48] + 3x[1]*x[11]*x[26]*x[34]*x[35]*x[38]\n",
       " 0.0                                                                                                                                                                                                                                                                                                                                                                                                                                                                1.0"
      ]
     },
     "execution_count": 379,
     "metadata": {},
     "output_type": "execute_result"
    }
   ],
   "source": [
    "D=modify_matrix_coef(D,6)"
   ]
  },
  {
   "cell_type": "code",
   "execution_count": 381,
   "id": "6e68106e",
   "metadata": {},
   "outputs": [
    {
     "data": {
      "text/latex": [
       "$$ \\begin{equation}\n",
       "\\left[\n",
       "\\begin{array}{ccc}\n",
       "2 x_{3 7} + 5 x_{1 3} + 5 x_2 x_{2 7} + 3 x_{1 1} x_{3 5} x_{3 8} + 3 x_{1 4} x_{1 7} x_{3 0} + 5 x_1 x_4 x_{3 6} & 1.0 & x_{3 2}^{2} x_{2 0} + 2 x_{2 8} + x_2 x_{1 1} x_{2 7} + x_1 x_4 x_{1 1} x_{3 6} + 3 x_{2 8} x_{2 9} x_{3 7} + 5 x_{1 3} x_{1 8} x_{1 9} + 3 x_{3 0}^{3} x_{1 4} x_{1 7} x_{4 5} + 2 x_2 x_7 x_{2 7} x_{4 1} + 4 x_2 x_9 x_{2 7} x_{4 8} + 5 x_2 x_{2 4} x_{2 7} x_{4 8} + 3 x_{1 1} x_{1 4} x_{1 7} x_{3 0} + 5 x_{3 0}^{2} x_2 x_{2 7} x_{4 5} + 3 x_{1 4} x_{1 7} x_{2 4} x_{3 0} x_{4 8} + 3 x_1^{2} x_4 x_{2 6} x_{3 4} x_{3 6} + 4 x_1 x_4 x_9 x_{3 6} x_{4 8} + 5 x_{3 0}^{2} x_1 x_4 x_{3 6} x_{4 5} + 2 x_1 x_4 x_7 x_{3 6} x_{4 1} + 5 x_1 x_4 x_{2 4} x_{3 6} x_{4 8} + 3 x_1 x_2 x_{2 6} x_{2 7} x_{3 4} + 3 x_1 x_{1 4} x_{1 7} x_{2 6} x_{3 0} x_{3 4} + x_{3 4} + x_{3 9} \\\\\n",
       "1.0 & 0.0 & 5 x_{1 1} + x_{3 0}^{2} x_{4 5} + x_{2 4} x_{4 8} + 4 x_7 x_{4 1} + 2 x_9 x_{4 8} + 3 x_1 x_{2 6} x_{3 4} \\\\\n",
       "0.0 & 0.0 & 1.0 \\\\\n",
       "\\end{array}\n",
       "\\right]\n",
       "\\end{equation}\n",
       " $$"
      ],
      "text/plain": [
       "3×3 Matrix{Num}:\n",
       " 2x[37] + 5x[13] + 5x[2]*x[27] + 3x[11]*x[35]*x[38] + 3x[14]*x[17]*x[30] + 5x[1]*x[4]*x[36]    …  (x[32]^2)*x[20] + 2x[28] + x[2]*x[11]*x[27] + x[1]*x[4]*x[11]*x[36] + 3x[28]*x[29]*x[37] + 5x[13]*x[18]*x[19] + 3(x[30]^3)*x[14]*x[17]*x[45] + 2x[2]*x[7]*x[27]*x[41] + 4x[2]*x[9]*x[27]*x[48] + 5x[2]*x[24]*x[27]*x[48] + 3x[11]*x[14]*x[17]*x[30] + 5(x[30]^2)*x[2]*x[27]*x[45] + 3x[14]*x[17]*x[24]*x[30]*x[48] + 3(x[1]^2)*x[4]*x[26]*x[34]*x[36] + 4x[1]*x[4]*x[9]*x[36]*x[48] + 5(x[30]^2)*x[1]*x[4]*x[36]*x[45] + 2x[1]*x[4]*x[7]*x[36]*x[41] + 5x[1]*x[4]*x[24]*x[36]*x[48] + 3x[1]*x[2]*x[26]*x[27]*x[34] + 3x[1]*x[14]*x[17]*x[26]*x[30]*x[34] + x[34] + x[39]\n",
       "                                                                                          1.0                                                                                                                                                                                                                                                                                                                                                                                                                                                                                       5x[11] + (x[30]^2)*x[45] + x[24]*x[48] + 4x[7]*x[41] + 2x[9]*x[48] + 3x[1]*x[26]*x[34]\n",
       "                                                                                          0.0                                                                                                                                                                                                                                                                                                                                                                                                                                                                                                                                                                            1.0"
      ]
     },
     "execution_count": 381,
     "metadata": {},
     "output_type": "execute_result"
    }
   ],
   "source": [
    "invD=modify_matrix_coef(inv(D),6)"
   ]
  },
  {
   "cell_type": "code",
   "execution_count": 384,
   "id": "7ea8061b",
   "metadata": {},
   "outputs": [
    {
     "data": {
      "text/latex": [
       "$$ \\begin{equation}\n",
       "\\left[\n",
       "\\begin{array}{ccc}\n",
       "1.0 & 0.0 & 0 \\\\\n",
       "0 & 1.0 & 0 \\\\\n",
       "0.0 & 0.0 & 1.0 \\\\\n",
       "\\end{array}\n",
       "\\right]\n",
       "\\end{equation}\n",
       " $$"
      ],
      "text/plain": [
       "3×3 Matrix{Num}:\n",
       " 1.0  0.0  0\n",
       " 0    1.0  0\n",
       " 0.0  0.0  1.0"
      ]
     },
     "execution_count": 384,
     "metadata": {},
     "output_type": "execute_result"
    }
   ],
   "source": [
    "modify_matrix_coef(D*invD,6)"
   ]
  },
  {
   "cell_type": "code",
   "execution_count": 382,
   "id": "560708c1",
   "metadata": {},
   "outputs": [
    {
     "data": {
      "text/latex": [
       "$$ \\begin{equation}\n",
       "\\left[\n",
       "\\begin{array}{ccc}\n",
       "2 x_{3 7} + 5 x_{1 3} + 5 x_2 x_{2 7} + 5 x_1 x_4 x_{3 6} + 3 x_{1 1} x_{3 5} x_{3 8} + 3 x_{1 4} x_{1 7} x_{3 0} & 1 & 2 x_{2 8} + \\left( 5 x_{1 1} + x_{3 0}^{2} x_{4 5} + 4 x_7 x_{4 1} \\right) \\left( 5 x_2 x_{2 7} + 5 x_1 x_4 x_{3 6} + 3 x_{1 4} x_{1 7} x_{3 0} \\right) + \\left( 5 x_2 x_{2 7} + 5 x_1 x_4 x_{3 6} + 3 x_{1 4} x_{1 7} x_{3 0} \\right) \\left( x_{2 4} x_{4 8} + 2 x_9 x_{4 8} + 3 x_1 x_{2 6} x_{3 4} \\right) + x_{3 2}^{2} x_{2 0} + 3 x_{2 8} x_{2 9} x_{3 7} + 5 x_{1 3} x_{1 8} x_{1 9} + x_{3 4} + x_{3 9} \\\\\n",
       "1 & 0 & 5 x_{1 1} + x_{3 0}^{2} x_{4 5} + x_{2 4} x_{4 8} + 4 x_7 x_{4 1} + 2 x_9 x_{4 8} + 3 x_1 x_{2 6} x_{3 4} \\\\\n",
       "0 & 0 & 1 \\\\\n",
       "\\end{array}\n",
       "\\right]\n",
       "\\end{equation}\n",
       " $$"
      ],
      "text/plain": [
       "3×3 Matrix{Num}:\n",
       " 2x[37] + 5x[13] + 5x[2]*x[27] + 5x[1]*x[4]*x[36] + 3x[11]*x[35]*x[38] + 3x[14]*x[17]*x[30]  …  2x[28] + (5x[11] + (x[30]^2)*x[45] + 4x[7]*x[41])*(5x[2]*x[27] + 5x[1]*x[4]*x[36] + 3x[14]*x[17]*x[30]) + (5x[2]*x[27] + 5x[1]*x[4]*x[36] + 3x[14]*x[17]*x[30])*(x[24]*x[48] + 2x[9]*x[48] + 3x[1]*x[26]*x[34]) + (x[32]^2)*x[20] + 3x[28]*x[29]*x[37] + 5x[13]*x[18]*x[19] + x[34] + x[39]\n",
       "                                                                                          1                                                                                                                                                                                                          5x[11] + (x[30]^2)*x[45] + x[24]*x[48] + 4x[7]*x[41] + 2x[9]*x[48] + 3x[1]*x[26]*x[34]\n",
       "                                                                                          0                                                                                                                                                                                                                                                                                               1"
      ]
     },
     "execution_count": 382,
     "metadata": {},
     "output_type": "execute_result"
    }
   ],
   "source": [
    "C"
   ]
  },
  {
   "cell_type": "code",
   "execution_count": 383,
   "id": "3d6a5791",
   "metadata": {},
   "outputs": [
    {
     "data": {
      "text/latex": [
       "$$ \\begin{equation}\n",
       "\\left[\n",
       "\\begin{array}{ccc}\n",
       "2 x_{3 7} + 5 x_{1 3} + 5 x_2 x_{2 7} + 3 x_{1 1} x_{3 5} x_{3 8} + 3 x_{1 4} x_{1 7} x_{3 0} + 5 x_1 x_4 x_{3 6} & 1 & x_{3 2}^{2} x_{2 0} + 2 x_{2 8} + x_2 x_{1 1} x_{2 7} + x_1 x_4 x_{1 1} x_{3 6} + 3 x_{2 8} x_{2 9} x_{3 7} + 5 x_{1 3} x_{1 8} x_{1 9} + 3 x_{3 0}^{3} x_{1 4} x_{1 7} x_{4 5} + 2 x_2 x_7 x_{2 7} x_{4 1} + 4 x_2 x_9 x_{2 7} x_{4 8} + 5 x_2 x_{2 4} x_{2 7} x_{4 8} + 3 x_{1 1} x_{1 4} x_{1 7} x_{3 0} + 5 x_{3 0}^{2} x_2 x_{2 7} x_{4 5} + 3 x_{1 4} x_{1 7} x_{2 4} x_{3 0} x_{4 8} + 3 x_1^{2} x_4 x_{2 6} x_{3 4} x_{3 6} + 4 x_1 x_4 x_9 x_{3 6} x_{4 8} + 5 x_{3 0}^{2} x_1 x_4 x_{3 6} x_{4 5} + 2 x_1 x_4 x_7 x_{3 6} x_{4 1} + 5 x_1 x_4 x_{2 4} x_{3 6} x_{4 8} + 3 x_1 x_2 x_{2 6} x_{2 7} x_{3 4} + 3 x_1 x_{1 4} x_{1 7} x_{2 6} x_{3 0} x_{3 4} + x_{3 4} + x_{3 9} \\\\\n",
       "1 & 0 & 5 x_{1 1} + x_{3 0}^{2} x_{4 5} + x_{2 4} x_{4 8} + 4 x_7 x_{4 1} + 2 x_9 x_{4 8} + 3 x_1 x_{2 6} x_{3 4} \\\\\n",
       "0 & 0 & 1 \\\\\n",
       "\\end{array}\n",
       "\\right]\n",
       "\\end{equation}\n",
       " $$"
      ],
      "text/plain": [
       "3×3 Matrix{Num}:\n",
       " 2x[37] + 5x[13] + 5x[2]*x[27] + 3x[11]*x[35]*x[38] + 3x[14]*x[17]*x[30] + 5x[1]*x[4]*x[36]  …  (x[32]^2)*x[20] + 2x[28] + x[2]*x[11]*x[27] + x[1]*x[4]*x[11]*x[36] + 3x[28]*x[29]*x[37] + 5x[13]*x[18]*x[19] + 3(x[30]^3)*x[14]*x[17]*x[45] + 2x[2]*x[7]*x[27]*x[41] + 4x[2]*x[9]*x[27]*x[48] + 5x[2]*x[24]*x[27]*x[48] + 3x[11]*x[14]*x[17]*x[30] + 5(x[30]^2)*x[2]*x[27]*x[45] + 3x[14]*x[17]*x[24]*x[30]*x[48] + 3(x[1]^2)*x[4]*x[26]*x[34]*x[36] + 4x[1]*x[4]*x[9]*x[36]*x[48] + 5(x[30]^2)*x[1]*x[4]*x[36]*x[45] + 2x[1]*x[4]*x[7]*x[36]*x[41] + 5x[1]*x[4]*x[24]*x[36]*x[48] + 3x[1]*x[2]*x[26]*x[27]*x[34] + 3x[1]*x[14]*x[17]*x[26]*x[30]*x[34] + x[34] + x[39]\n",
       "                                                                                          1                                                                                                                                                                                                                                                                                                                                                                                                                                                                                       5x[11] + (x[30]^2)*x[45] + x[24]*x[48] + 4x[7]*x[41] + 2x[9]*x[48] + 3x[1]*x[26]*x[34]\n",
       "                                                                                          0                                                                                                                                                                                                                                                                                                                                                                                                                                                                                                                                                                            1"
      ]
     },
     "execution_count": 383,
     "metadata": {},
     "output_type": "execute_result"
    }
   ],
   "source": [
    "C=modify_matrix_coef(C,6)"
   ]
  },
  {
   "cell_type": "code",
   "execution_count": null,
   "id": "98af0b07",
   "metadata": {},
   "outputs": [],
   "source": [
    "D"
   ]
  },
  {
   "cell_type": "code",
   "execution_count": 371,
   "id": "9c42f340",
   "metadata": {},
   "outputs": [
    {
     "data": {
      "text/latex": [
       "$$ \\begin{equation}\n",
       "\\left[\n",
       "\\begin{array}{ccc}\n",
       "0.0 & 3.0 x_{4 3}^{2} x_{1 7} x_{3 7} + 3.0 x_{1 7} x_{3 5} x_{4 2} x_{4 4} + 3.0 x_{4 3}^{2} x_{3 3} x_{3 7} x_{4 5} + 3.0 x_{3 3} x_{3 5} x_{4 2} x_{4 4} x_{4 5} + 5.0 x_{4 3}^{2} x_2 x_{1 7} x_{3 7} x_{4 6} + 2.0 x_2 x_9 x_{1 7} x_{2 2} x_{3 1} x_{4 6} + 3.0 x_2 x_{1 7} x_{3 5} x_{4 2} x_{4 4} x_{4 6} & 3.0 x_7 x_{2 4} x_{4 9} + 2.0 x_{1 1} x_{1 7} x_{3 7} + 3.0 x_7 x_{3 2} x_{4 9} + 4.0 x_7 x_{3 7} x_{4 9} + 4.0 x_{3 7} x_{4 5} x_{5 0} + 3.0 x_{4 3}^{2} x_7 x_{1 7} x_{3 7} x_{4 9} + 2.0 x_{4 3}^{2} x_{1 7}^{2} x_2 x_{1 1} x_{3 7} x_{4 6} + 3.0 x_{4 3}^{2} x_7 x_{3 3} x_{3 7} x_{4 5} x_{4 9} + 3.0 x_7 x_{1 7} x_{3 5} x_{4 2} x_{4 4} x_{4 9} + x_{4 3}^{2} x_2 x_7 x_{1 7} x_{3 7} x_{4 6} x_{4 9} + 2.0 x_{1 7}^{2} x_2 x_9 x_{1 1} x_{2 2} x_{3 1} x_{4 6} + 4.0 x_{4 3}^{2} x_2 x_{1 7} x_{3 7} x_{4 5} x_{4 6} x_{5 0} + 3.0 x_7 x_{3 3} x_{3 5} x_{4 2} x_{4 4} x_{4 5} x_{4 9} + 4.0 x_2 x_7 x_9 x_{1 7} x_{2 2} x_{3 1} x_{4 6} x_{4 9} + 4.0 x_2 x_9 x_{1 7} x_{2 2} x_{3 1} x_{4 5} x_{4 6} x_{5 0} + 3.0 x_2 x_7 x_{1 7} x_{3 5} x_{4 2} x_{4 4} x_{4 6} x_{4 9} \\\\\n",
       "0 & 0 & x_7 x_{4 9} + 2 x_{1 1} x_{1 7} + 4 x_{4 5} x_{5 0} \\\\\n",
       "4.0 x_{2 0} + x_3 x_{3 0} + 3.0 x_{1 7} x_{3 9} & 2.0 x_{2 0} x_{3 7} + 2.0 x_3 x_{3 0} x_{3 7} + 3.0 x_3 x_{2 4} x_{3 0} + 3.0 x_{1 7} x_{2 4} x_{3 9} + 3.0 x_3 x_{3 0} x_{3 2} + 3.0 x_{1 7} x_{3 2} x_{3 9} & 2.0 x_{4 3}^{2} x_{2 0} x_{3 7} + 3.0 x_7 x_{1 7} x_{4 9} + 2.0 x_{1 7}^{2} x_2 x_{1 1} x_{4 6} + 2.0 x_9 x_{2 0} x_{2 2} x_{3 1} + 3.0 x_{4 3}^{2} x_{1 7} x_{3 7} x_{3 9} + 3.0 x_7 x_{3 3} x_{4 5} x_{4 9} + 5.0 x_{4 3}^{2} x_3 x_{3 0} x_{3 7} + x_2 x_7 x_{1 7} x_{4 6} x_{4 9} + 4.0 x_2 x_{1 7} x_{4 5} x_{4 6} x_{5 0} + 2.0 x_3 x_9 x_{2 2} x_{3 0} x_{3 1} + 3.0 x_3 x_{3 0} x_{3 5} x_{4 2} x_{4 4} + 3.0 x_{1 7} x_{3 5} x_{3 9} x_{4 2} x_{4 4} \\\\\n",
       "\\end{array}\n",
       "\\right]\n",
       "\\end{equation}\n",
       " $$"
      ],
      "text/plain": [
       "3×3 Matrix{Num}:\n",
       " 0.0                                     …                                         3.0x[7]*x[24]*x[49] + 2.0x[11]*x[17]*x[37] + 3.0x[7]*x[32]*x[49] + 4.0x[7]*x[37]*x[49] + 4.0x[37]*x[45]*x[50] + 3.0(x[43]^2)*x[7]*x[17]*x[37]*x[49] + 2.0(x[17]^2)*(x[43]^2)*x[2]*x[11]*x[37]*x[46] + 3.0(x[43]^2)*x[7]*x[33]*x[37]*x[45]*x[49] + 3.0x[7]*x[17]*x[35]*x[42]*x[44]*x[49] + (x[43]^2)*x[2]*x[7]*x[17]*x[37]*x[46]*x[49] + 2.0(x[17]^2)*x[2]*x[9]*x[11]*x[22]*x[31]*x[46] + 4.0(x[43]^2)*x[2]*x[17]*x[37]*x[45]*x[46]*x[50] + 3.0x[7]*x[33]*x[35]*x[42]*x[44]*x[45]*x[49] + 4.0x[2]*x[7]*x[9]*x[17]*x[22]*x[31]*x[46]*x[49] + 4.0x[2]*x[9]*x[17]*x[22]*x[31]*x[45]*x[46]*x[50] + 3.0x[2]*x[7]*x[17]*x[35]*x[42]*x[44]*x[46]*x[49]\n",
       " 0                                          x[7]*x[49] + 2x[11]*x[17] + 4x[45]*x[50]\n",
       " 4.0x[20] + x[3]*x[30] + 3.0x[17]*x[39]                                            2.0(x[43]^2)*x[20]*x[37] + 3.0x[7]*x[17]*x[49] + 2.0(x[17]^2)*x[2]*x[11]*x[46] + 2.0x[9]*x[20]*x[22]*x[31] + 3.0(x[43]^2)*x[17]*x[37]*x[39] + 3.0x[7]*x[33]*x[45]*x[49] + 5.0(x[43]^2)*x[3]*x[30]*x[37] + x[2]*x[7]*x[17]*x[46]*x[49] + 4.0x[2]*x[17]*x[45]*x[46]*x[50] + 2.0x[3]*x[9]*x[22]*x[30]*x[31] + 3.0x[3]*x[30]*x[35]*x[42]*x[44] + 3.0x[17]*x[35]*x[39]*x[42]*x[44]"
      ]
     },
     "execution_count": 371,
     "metadata": {},
     "output_type": "execute_result"
    }
   ],
   "source": [
    "modify_matrix_coef(D*C,6)"
   ]
  },
  {
   "cell_type": "code",
   "execution_count": 339,
   "id": "723e16e8",
   "metadata": {},
   "outputs": [
    {
     "data": {
      "text/latex": [
       "$$ \\begin{equation}\n",
       "\\left[\n",
       "\\begin{array}{cccccc}\n",
       "0.0 & -1.0 & 1.0 & 0.0 & 9.0 & -3.0 \\\\\n",
       "0.0 & 0.0 & 0.0 & 0.0 & 1.0 & -1.0 \\\\\n",
       "0.0 & 0.0 & 0.0 & 0.0 & 0.0 & 1.0 \\\\\n",
       "\\end{array}\n",
       "\\right]\n",
       "\\end{equation}\n",
       " $$"
      ],
      "text/plain": [
       "3×6 Matrix{Num}:\n",
       " 0.0  -1.0  1.0  0.0  9.0  -3.0\n",
       " 0.0   0.0  0.0  0.0  1.0  -1.0\n",
       " 0.0   0.0  0.0  0.0  0.0   1.0"
      ]
     },
     "execution_count": 339,
     "metadata": {},
     "output_type": "execute_result"
    }
   ],
   "source": [
    "D"
   ]
  },
  {
   "cell_type": "code",
   "execution_count": 340,
   "id": "baba7b7f",
   "metadata": {},
   "outputs": [
    {
     "data": {
      "text/latex": [
       "$$ \\begin{equation}\n",
       "\\left[\n",
       "\\begin{array}{cccccc}\n",
       "0.0 & 5.0 & 1.0 & 0.0 & 3.0 & 3.0 \\\\\n",
       "0.0 & 0.0 & 0.0 & 0.0 & 1.0 & 5.0 \\\\\n",
       "0.0 & 0.0 & 0.0 & 0.0 & 0.0 & 1.0 \\\\\n",
       "\\end{array}\n",
       "\\right]\n",
       "\\end{equation}\n",
       " $$"
      ],
      "text/plain": [
       "3×6 Matrix{Num}:\n",
       " 0.0  5.0  1.0  0.0  3.0  3.0\n",
       " 0.0  0.0  0.0  0.0  1.0  5.0\n",
       " 0.0  0.0  0.0  0.0  0.0  1.0"
      ]
     },
     "execution_count": 340,
     "metadata": {},
     "output_type": "execute_result"
    }
   ],
   "source": [
    "for i in 1:size(D,1)\n",
    "    for j in 1:size(D,2)\n",
    "        D[i,j]=mod(D[i,j],6)\n",
    "    end\n",
    "end\n",
    "D"
   ]
  },
  {
   "cell_type": "code",
   "execution_count": 341,
   "id": "3f97320c",
   "metadata": {},
   "outputs": [
    {
     "data": {
      "text/latex": [
       "$$ \\begin{equation}\n",
       "\\left[\n",
       "\\begin{array}{ccc}\n",
       "0 & 45 & 68 \\\\\n",
       "0 & 9 & 6 \\\\\n",
       "1 & 0 & 0 \\\\\n",
       "0 & 5 & 7 \\\\\n",
       "0 & 1 & 1 \\\\\n",
       "0 & 0 & 1 \\\\\n",
       "\\end{array}\n",
       "\\right]\n",
       "\\end{equation}\n",
       " $$"
      ],
      "text/plain": [
       "6×3 Matrix{Num}:\n",
       " 0  45  68\n",
       " 0   9   6\n",
       " 1   0   0\n",
       " 0   5   7\n",
       " 0   1   1\n",
       " 0   0   1"
      ]
     },
     "execution_count": 341,
     "metadata": {},
     "output_type": "execute_result"
    }
   ],
   "source": [
    "C"
   ]
  },
  {
   "cell_type": "code",
   "execution_count": 342,
   "id": "4de5d995",
   "metadata": {},
   "outputs": [
    {
     "data": {
      "text/latex": [
       "$$ \\begin{equation}\n",
       "\\left[\n",
       "\\begin{array}{ccc}\n",
       "0 & 3 & 2 \\\\\n",
       "0 & 3 & 0 \\\\\n",
       "1 & 0 & 0 \\\\\n",
       "0 & 5 & 1 \\\\\n",
       "0 & 1 & 1 \\\\\n",
       "0 & 0 & 1 \\\\\n",
       "\\end{array}\n",
       "\\right]\n",
       "\\end{equation}\n",
       " $$"
      ],
      "text/plain": [
       "6×3 Matrix{Num}:\n",
       " 0  3  2\n",
       " 0  3  0\n",
       " 1  0  0\n",
       " 0  5  1\n",
       " 0  1  1\n",
       " 0  0  1"
      ]
     },
     "execution_count": 342,
     "metadata": {},
     "output_type": "execute_result"
    }
   ],
   "source": [
    "for i in 1:size(C,1)\n",
    "    for j in 1:size(C,2)\n",
    "        C[i,j]=mod(C[i,j],6)\n",
    "    end\n",
    "end\n",
    "C"
   ]
  },
  {
   "cell_type": "code",
   "execution_count": 343,
   "id": "7bfabba2",
   "metadata": {},
   "outputs": [
    {
     "data": {
      "text/latex": [
       "$$ \\begin{equation}\n",
       "\\left[\n",
       "\\begin{array}{ccc}\n",
       "1.0 & 18.0 & 6.0 \\\\\n",
       "0.0 & 1.0 & 6.0 \\\\\n",
       "0.0 & 0.0 & 1.0 \\\\\n",
       "\\end{array}\n",
       "\\right]\n",
       "\\end{equation}\n",
       " $$"
      ],
      "text/plain": [
       "3×3 Matrix{Num}:\n",
       " 1.0  18.0  6.0\n",
       " 0.0   1.0  6.0\n",
       " 0.0   0.0  1.0"
      ]
     },
     "execution_count": 343,
     "metadata": {},
     "output_type": "execute_result"
    }
   ],
   "source": [
    "D*C"
   ]
  },
  {
   "cell_type": "code",
   "execution_count": 310,
   "id": "c117d3ee",
   "metadata": {},
   "outputs": [
    {
     "data": {
      "text/latex": [
       "$$ \\begin{equation}\n",
       "\\left[\n",
       "\\begin{array}{ccc}\n",
       "0.0 & 2.0 x_{2 8} x_{3 9} + 4.0 x_{3 9} x_{4 0} + 2.0 x_1 x_5 x_{2 8} - x_{1 1}^{2} x_{1 9} x_{2 7} x_{4 0} + 2.0 x_4 x_5 x_6 x_{2 3} - 5.0 x_1 x_{1 1} x_{2 7} x_{2 8} - 2.0 x_5 x_{1 1} x_{1 9} x_{4 0} + 4.0 x_9 x_{1 0} x_{3 9} x_{4 7} + 2.0 x_{2 7}^{2} x_{1 1} x_{2 8} x_{3 9} + 2.0 x_5 x_{2 7} x_{3 1} x_{4 5} + 4.0 x_5 x_{2 7} x_{2 8} x_{3 9} + 5.0 x_5 x_{1 8} x_{3 9} x_{4 0} - 5.0 x_{2 7}^{2} x_{1 1} x_{3 1} x_{4 5} + 3.0 x_1 x_8 x_{1 1} x_{1 2} + 4.0 x_5 x_{1 8} x_{2 8} x_{3 9} + 2.0 x_5 x_{2 1} x_{3 8} x_{3 9} - 3.0 x_{1 1} x_{2 7} x_{3 9} x_{4 2} + 2.0 x_{2 4} x_{2 9} x_{3 9} x_{4 4} + 4.0 x_1 x_{1 1} x_{1 2} x_{2 8} + 5.0 x_1 x_{1 1} x_{1 2} x_{4 0} + 2.0 x_{1 3} x_{2 9} x_{3 9} x_{4 2} + 3.0 x_{1 5}^{2} x_1 x_{2 8} x_{4 3} + 3.0 x_5 x_8 x_{1 8} x_{3 9} + 3.0 x_{1 5}^{2} x_{3 9} x_{4 2} x_{4 3} + 4.0 x_{3 9}^{2} x_9 x_{1 4} x_{4 7} - 4.0 x_{2 8} x_{3 5} x_{3 9} x_{4 5} + 4.0 x_{2 7}^{2} x_{1 1}^{2} x_1 x_{1 2} x_{2 8} + 3.0 x_{1 5}^{2} x_8 x_{1 6} x_{2 3} x_{4 3} - 4.0 x_{3 9}^{2} x_9 x_{1 4} x_{2 0} x_{3 8} + 3.0 x_{1 5}^{2} x_4 x_6 x_{2 3} x_{4 3} + 2.0 x_5^{2} x_{1 8} x_{2 7} x_{2 8} x_{3 9} - 3.0 x_{1 5}^{2} x_{1 1} x_{1 9} x_{4 0} x_{4 3} + 3.0 x_{1 5}^{2} x_{2 7} x_{3 1} x_{4 3} x_{4 5} + 3.0 x_5 x_{1 0} x_{1 8} x_{3 7} x_{3 9} - 4.0 x_9 x_{1 0} x_{2 0} x_{3 8} x_{3 9} - 3.0 x_8 x_{1 1} x_{1 6} x_{2 3} x_{2 7} + 4.0 x_5^{2} x_{1 8} x_{2 1} x_{3 8} x_{3 9} + 3.0 x_1 x_{1 0} x_{1 1} x_{1 2} x_{3 7} + 4.0 x_{1 1} x_{2 1} x_{2 7} x_{3 8} x_{3 9} - 5.0 x_4 x_6 x_{1 1} x_{2 3} x_{2 7} + 3.0 x_{3 9}^{2} x_5 x_{1 4} x_{1 8} x_{3 7} + 2.0 x_1 x_5 x_{1 1} x_{1 2} x_{2 7} x_{2 8} + 3.0 x_1 x_{1 1} x_{1 2} x_{1 4} x_{3 7} x_{3 9} + 4.0 x_5 x_{1 3} x_{1 8} x_{2 9} x_{3 9} x_{4 2} + 3.0 x_{1 1}^{2} x_1 x_{1 2} x_{2 7} x_{4 3} x_{4 7} + 4.0 x_1 x_5 x_{1 1} x_{1 2} x_{2 1} x_{3 8} + 4.0 x_1 x_{1 1} x_{1 2} x_{1 3} x_{2 9} x_{4 2} + 2.0 x_{3 9}^{2} x_5 x_9 x_{1 4} x_{1 8} x_{4 7} + 2.0 x_5 x_9 x_{1 0} x_{1 8} x_{3 9} x_{4 7} + 3.0 x_{4 3}^{2} x_{1 5}^{2} x_1 x_{1 1} x_{1 2} x_{4 7} - 4.0 x_9 x_{1 3} x_{1 5} x_{3 9} x_{4 5} x_{4 7} + 4.0 x_5 x_{1 8} x_{2 4} x_{2 9} x_{3 9} x_{4 4} + 5.0 x_{1 1}^{2} x_1 x_{1 2} x_{2 1} x_{2 7} x_{3 8} + 3.0 x_{4 3}^{2} x_{1 5}^{2} x_5 x_{1 8} x_{3 9} x_{4 7} + 2.0 x_1 x_9 x_{1 0} x_{1 1} x_{1 2} x_{4 7} + 4.0 x_{2 7}^{2} x_5 x_{1 1} x_{1 8} x_{2 8} x_{3 9} + 4.0 x_1 x_{1 1} x_{1 2} x_{2 4} x_{2 9} x_{4 4} - 5.0 x_1 x_{1 1} x_{1 2} x_{2 8} x_{3 5} x_{4 5} - 5.0 x_5 x_{1 8} x_{2 8} x_{3 5} x_{3 9} x_{4 5} - 5.0 x_1 x_9 x_{1 0} x_{1 1} x_{1 2} x_{2 0} x_{3 8} - 5.0 x_5 x_9 x_{1 0} x_{1 8} x_{2 0} x_{3 8} x_{3 9} - 3.0 x_1 x_{1 1} x_{1 2} x_{1 3} x_{1 5} x_{3 7} x_{4 5} + 3.0 x_{1 5}^{2} x_5 x_{1 8} x_{2 1} x_{3 8} x_{3 9} x_{4 3} + 3.0 x_5 x_{1 1} x_{1 8} x_{2 7} x_{3 9} x_{4 3} x_{4 7} - 5.0 x_{3 9}^{2} x_5 x_9 x_{1 4} x_{1 8} x_{2 0} x_{3 8} + 5.0 x_5 x_{1 1} x_{1 8} x_{2 1} x_{2 7} x_{3 8} x_{3 9} + 3.0 x_{1 5}^{2} x_1 x_{1 1} x_{1 2} x_{2 1} x_{3 8} x_{4 3} - 3.0 x_5 x_{1 3} x_{1 5} x_{1 8} x_{3 7} x_{3 9} x_{4 5} + 2.0 x_1 x_9 x_{1 1} x_{1 2} x_{1 4} x_{3 9} x_{4 7} - 2.0 x_9 x_{1 3} x_{1 5} x_{2 0} x_{3 8} x_{3 9} x_{4 5} - 2.0 x_1 x_9 x_{1 1} x_{1 2} x_{1 3} x_{1 5} x_{4 5} x_{4 7} - 2.0 x_5 x_9 x_{1 3} x_{1 5} x_{1 8} x_{3 9} x_{4 5} x_{4 7} - 5.0 x_1 x_9 x_{1 1} x_{1 2} x_{1 4} x_{2 0} x_{3 8} x_{3 9} - x_1 x_9 x_{1 1} x_{1 2} x_{1 3} x_{1 5} x_{2 0} x_{3 8} x_{4 5} - x_5 x_9 x_{1 3} x_{1 5} x_{1 8} x_{2 0} x_{3 8} x_{3 9} x_{4 5} & 0 \\\\\n",
       "0.0 & 0 & 0.0 \\\\\n",
       "0 & 5 x_1 x_{2 8} + x_{1 1} x_{1 9} x_{4 0} + 3 x_{3 9} x_{4 2} + 3 x_8 x_{1 6} x_{2 3} + 5 x_4 x_6 x_{2 3} - 4 x_{2 1} x_{3 8} x_{3 9} + 4 x_{2 7} x_{2 8} x_{3 9} + 5 x_{2 7} x_{3 1} x_{4 5} - 5 x_1 x_{1 1} x_{1 2} x_{2 1} x_{3 8} + 2 x_1 x_{1 1} x_{1 2} x_{2 7} x_{2 8} + 2 x_5 x_{1 8} x_{2 7} x_{2 8} x_{3 9} - 5 x_5 x_{1 8} x_{2 1} x_{3 8} x_{3 9} + 3 x_1 x_{1 1} x_{1 2} x_{4 3} x_{4 7} + 3 x_5 x_{1 8} x_{3 9} x_{4 3} x_{4 7} & 0 \\\\\n",
       "\\end{array}\n",
       "\\right]\n",
       "\\end{equation}\n",
       " $$"
      ],
      "text/plain": [
       "3×3 Matrix{Num}:\n",
       " 0.0  …  0\n",
       " 0.0     0.0\n",
       " 0       0"
      ]
     },
     "execution_count": 310,
     "metadata": {},
     "output_type": "execute_result"
    }
   ],
   "source": [
    "# simplify.(expand.(D*C))\n",
    "modify_matrix_coef(D*C,6)"
   ]
  },
  {
   "cell_type": "code",
   "execution_count": 278,
   "id": "8022c817",
   "metadata": {},
   "outputs": [
    {
     "data": {
      "text/latex": [
       "$$ \\begin{equation}\n",
       "\\left[\n",
       "\\begin{array}{ccc}\n",
       "0.0 & 0 & 0.0 \\\\\n",
       "-2.0 & 0.0 & 0.0 \\\\\n",
       "0 & 0 & 0 \\\\\n",
       "\\end{array}\n",
       "\\right]\n",
       "\\end{equation}\n",
       " $$"
      ],
      "text/plain": [
       "3×3 Matrix{Num}:\n",
       "  0.0  0    0.0\n",
       " -2.0  0.0  0.0\n",
       "  0    0    0"
      ]
     },
     "execution_count": 278,
     "metadata": {},
     "output_type": "execute_result"
    }
   ],
   "source": [
    "# substitution_dict = Dict()\n",
    "# for i in 1:64\n",
    "#     substitution_dict[x[i]] = rand(0:1)\n",
    "# end\n",
    "# substitute.(modify_matrix_coef(simplify.(expand.(D*C)),6), (substitution_dict,))\n"
   ]
  },
  {
   "cell_type": "code",
   "execution_count": 248,
   "id": "13c7d284",
   "metadata": {},
   "outputs": [
    {
     "data": {
      "text/plain": [
       "12387"
      ]
     },
     "execution_count": 248,
     "metadata": {},
     "output_type": "execute_result"
    }
   ],
   "source": [
    "\n",
    "file=open(\"publicKey.txt\",\"w\")\n",
    "for i in 1:Int(size(C,1))\n",
    "    for j in 1:Int(size(C,2))\n",
    "        write(file,string(C[i,j]))\n",
    "        write(file,\" \")\n",
    "    end\n",
    "    write(file,\"\\n\")\n",
    "end\n",
    "close(file)\n",
    "filesize(\"publicKey.txt\")"
   ]
  },
  {
   "cell_type": "code",
   "execution_count": 249,
   "id": "7494e428",
   "metadata": {},
   "outputs": [
    {
     "data": {
      "text/plain": [
       "18969"
      ]
     },
     "execution_count": 249,
     "metadata": {},
     "output_type": "execute_result"
    }
   ],
   "source": [
    "file=open(\"privateKey.txt\",\"w\")\n",
    "for i in 1:Int(size(D,1))\n",
    "    for j in 1:Int(size(D,2))\n",
    "        write(file,string(D[i,j]))\n",
    "        write(file,\" \")\n",
    "    end\n",
    "    write(file,\"\\n\")\n",
    "end\n",
    "close(file)\n",
    "filesize(\"privateKey.txt\")"
   ]
  },
  {
   "cell_type": "code",
   "execution_count": 52,
   "id": "ad580155",
   "metadata": {},
   "outputs": [
    {
     "data": {
      "text/latex": [
       "$$ \\begin{equation}\n",
       "\\left[\n",
       "\\begin{array}{ccc}\n",
       "4 x_{3 1} + 4 x_{1 5} x_{3 2} + 5 x_1 x_{2 3} & 4 x_{2 2} + 5 x_{2 5} + 3 x_7 x_{2 6} & 3 x_{2 0} + 3 x_{2 9} + 4 x_6 x_{3 1} \\\\\n",
       "5 x_2 x_{1 8} + 4 x_6 x_{2 4} + 4 x_{1 0} x_{1 6} x_{3 2} & 0 & 2 x_8 x_{2 6} + 3 x_4 x_{2 1} + 5 x_{1 8} x_{2 2} x_{3 1} \\\\\n",
       "2 x_7 + 2 x_7 x_8 + x_8 x_{1 1} x_{1 7} & 4 x_{3 0} + 2 x_{2 4} x_{2 9} + 3 x_{1 0} x_{3 0} & 2 x_2 x_4 + 4 x_{1 2} x_{3 1} + 3 x_6 x_8 x_{2 4} \\\\\n",
       "\\end{array}\n",
       "\\right]\n",
       "\\end{equation}\n",
       " $$"
      ],
      "text/plain": [
       "3×3 Matrix{Num}:\n",
       "            4x[31] + 4x[15]*x[32] + 5x[1]*x[23]  …                   3x[20] + 3x[29] + 4x[6]*x[31]\n",
       " 5x[2]*x[18] + 4x[6]*x[24] + 4x[10]*x[16]*x[32]     2x[8]*x[26] + 3x[4]*x[21] + 5x[18]*x[22]*x[31]\n",
       "          2x[7] + 2x[7]*x[8] + x[8]*x[11]*x[17]       2x[2]*x[4] + 4x[12]*x[31] + 3x[6]*x[8]*x[24]"
      ]
     },
     "execution_count": 52,
     "metadata": {},
     "output_type": "execute_result"
    }
   ],
   "source": [
    "I66=zeros(Num,3,3)\n",
    "for i in 1:Int(3*3)\n",
    "    a=rand(1:3)\n",
    "    b=rand(1:3)\n",
    "    I66[a,b]=sparse_polynomial(32,3,3,6)\n",
    "end\n",
    "I66"
   ]
  },
  {
   "cell_type": "code",
   "execution_count": 53,
   "id": "558fa34f",
   "metadata": {},
   "outputs": [
    {
     "ename": "LoadError",
     "evalue": "InterruptException:",
     "output_type": "error",
     "traceback": [
      "InterruptException:",
      "",
      "Stacktrace:",
      "  [1] Array",
      "    @ ./boot.jl:448 [inlined]",
      "  [2] Array",
      "    @ ./boot.jl:457 [inlined]",
      "  [3] Array",
      "    @ ./boot.jl:465 [inlined]",
      "  [4] similar",
      "    @ ./abstractarray.jl:785 [inlined]",
      "  [5] similar",
      "    @ ./abstractarray.jl:784 [inlined]",
      "  [6] similar",
      "    @ ./broadcast.jl:197 [inlined]",
      "  [7] similar",
      "    @ ./broadcast.jl:196 [inlined]",
      "  [8] copy",
      "    @ ./broadcast.jl:908 [inlined]",
      "  [9] materialize",
      "    @ ./broadcast.jl:883 [inlined]",
      " [10] broadcast_preserving_zero_d",
      "    @ ./broadcast.jl:872 [inlined]",
      " [11] +(A::Vector{Int64}, Bs::Vector{Int64})",
      "    @ Base ./arraymath.jl:47",
      " [12] _mul(#unused#::Type{Int64}, p::DynamicPolynomials.Polynomial{true, Int64}, q::DynamicPolynomials.Polynomial{true, Int64})",
      "    @ DynamicPolynomials ~/.julia/packages/DynamicPolynomials/JQRi1/src/mult.jl:101",
      " [13] *",
      "    @ ~/.julia/packages/DynamicPolynomials/JQRi1/src/mult.jl:119 [inlined]",
      " [14] power_by_squaring(x_::DynamicPolynomials.Polynomial{true, Int64}, p::Int64)",
      "    @ Base ./intfuncs.jl:271",
      " [15] ^(x::DynamicPolynomials.Polynomial{true, Int64}, p::Int64)",
      "    @ MultivariatePolynomials ~/.julia/packages/MultivariatePolynomials/sWAOE/src/operators.jl:352",
      " [16] polyize(x::SymbolicUtils.BasicSymbolic{Real}, pvar2sym::Bijections.Bijection{Any, Any}, sym2term::Dict{SymbolicUtils.BasicSymbolic, Any}, vtype::Type, pow::Function, Fs::Type, recurse::Bool)",
      "    @ SymbolicUtils ~/.julia/packages/SymbolicUtils/Vzo2s/src/polyform.jl:116",
      " [17] (::SymbolicUtils.var\"#local_polyize#102\"{Bijections.Bijection{Any, Any}, Dict{SymbolicUtils.BasicSymbolic, Any}, DataType, typeof(SymbolicUtils.pow), Union, Bool})(y::SymbolicUtils.BasicSymbolic{Real})",
      "    @ SymbolicUtils ~/.julia/packages/SymbolicUtils/Vzo2s/src/polyform.jl:108",
      " [18] _mapreduce(f::SymbolicUtils.var\"#local_polyize#102\"{Bijections.Bijection{Any, Any}, Dict{SymbolicUtils.BasicSymbolic, Any}, DataType, typeof(SymbolicUtils.pow), Union, Bool}, op::typeof(Base.mul_prod), #unused#::IndexLinear, A::Vector{Any})",
      "    @ Base ./reduce.jl:408",
      " [19] _mapreduce_dim(f::Function, op::Function, #unused#::Base._InitialValue, A::Vector{Any}, #unused#::Colon)",
      "    @ Base ./reducedim.jl:318",
      " [20] #mapreduce#678",
      "    @ ./reducedim.jl:310 [inlined]",
      " [21] mapreduce",
      "    @ ./reducedim.jl:310 [inlined]",
      " [22] #_prod#692",
      "    @ ./reducedim.jl:878 [inlined]",
      " [23] _prod",
      "    @ ./reducedim.jl:878 [inlined]",
      " [24] #prod#690",
      "    @ ./reducedim.jl:874 [inlined]",
      " [25] prod(f::Function, a::Vector{Any})",
      "    @ Base ./reducedim.jl:874",
      " [26] polyize(x::SymbolicUtils.BasicSymbolic{Real}, pvar2sym::Bijections.Bijection{Any, Any}, sym2term::Dict{SymbolicUtils.BasicSymbolic, Any}, vtype::Type, pow::Function, Fs::Type, recurse::Bool)",
      "    @ SymbolicUtils ~/.julia/packages/SymbolicUtils/Vzo2s/src/polyform.jl:113",
      " [27] (::SymbolicUtils.var\"#local_polyize#102\"{Bijections.Bijection{Any, Any}, Dict{SymbolicUtils.BasicSymbolic, Any}, DataType, typeof(SymbolicUtils.pow), Union, Bool})(y::SymbolicUtils.BasicSymbolic{Real})",
      "    @ SymbolicUtils ~/.julia/packages/SymbolicUtils/Vzo2s/src/polyform.jl:108",
      " [28] _mapreduce(f::SymbolicUtils.var\"#local_polyize#102\"{Bijections.Bijection{Any, Any}, Dict{SymbolicUtils.BasicSymbolic, Any}, DataType, typeof(SymbolicUtils.pow), Union, Bool}, op::typeof(Base.add_sum), #unused#::IndexLinear, A::Vector{Any})",
      "    @ Base ./reduce.jl:408",
      " [29] _mapreduce_dim(f::Function, op::Function, #unused#::Base._InitialValue, A::Vector{Any}, #unused#::Colon)",
      "    @ Base ./reducedim.jl:318",
      " [30] #mapreduce#678",
      "    @ ./reducedim.jl:310 [inlined]",
      " [31] mapreduce",
      "    @ ./reducedim.jl:310 [inlined]",
      " [32] #_sum#688",
      "    @ ./reducedim.jl:878 [inlined]",
      " [33] _sum",
      "    @ ./reducedim.jl:878 [inlined]",
      " [34] #sum#686",
      "    @ ./reducedim.jl:874 [inlined]",
      " [35] sum(f::Function, a::Vector{Any})",
      "    @ Base ./reducedim.jl:874",
      " [36] polyize(x::SymbolicUtils.BasicSymbolic{Real}, pvar2sym::Bijections.Bijection{Any, Any}, sym2term::Dict{SymbolicUtils.BasicSymbolic, Any}, vtype::Type, pow::Function, Fs::Type, recurse::Bool)",
      "    @ SymbolicUtils ~/.julia/packages/SymbolicUtils/Vzo2s/src/polyform.jl:111",
      "--- the last 20 lines are repeated 1 more time ---",
      " [57] PolyForm(x::SymbolicUtils.BasicSymbolic{Real}, pvar2sym::Bijections.Bijection{Any, Any}, sym2term::Dict{SymbolicUtils.BasicSymbolic, Any}, vtype::Type; Fs::Type, recurse::Bool, metadata::Nothing)",
      "    @ SymbolicUtils ~/.julia/packages/SymbolicUtils/Vzo2s/src/polyform.jl:169",
      " [58] PolyForm (repeats 2 times)",
      "    @ ~/.julia/packages/SymbolicUtils/Vzo2s/src/polyform.jl:164 [inlined]",
      " [59] (::SymbolicUtils.var\"#123#125\"{Bijections.Bijection{Any, Any}, Dict{SymbolicUtils.BasicSymbolic, Any}})(x::SymbolicUtils.BasicSymbolic{Real})",
      "    @ SymbolicUtils ~/.julia/packages/SymbolicUtils/Vzo2s/src/polyform.jl:264",
      " [60] iterate",
      "    @ ./generator.jl:47 [inlined]",
      " [61] _collect(c::Vector{Any}, itr::Base.Generator{Vector{Any}, SymbolicUtils.var\"#123#125\"{Bijections.Bijection{Any, Any}, Dict{SymbolicUtils.BasicSymbolic, Any}}}, #unused#::Base.EltypeUnknown, isz::Base.HasShape{1})",
      "    @ Base ./array.jl:695",
      " [62] collect_similar",
      "    @ ./array.jl:606 [inlined]",
      " [63] map",
      "    @ ./abstractarray.jl:2294 [inlined]",
      " [64] (::SymbolicUtils.var\"#make#124\"{Bijections.Bijection{Any, Any}, Dict{SymbolicUtils.BasicSymbolic, Any}})(xs::Vector{Any})",
      "    @ SymbolicUtils ~/.julia/packages/SymbolicUtils/Vzo2s/src/polyform.jl:258",
      " [65] polyform_factors(d::SymbolicUtils.BasicSymbolic{Real}, pvar2sym::Bijections.Bijection{Any, Any}, sym2term::Dict{SymbolicUtils.BasicSymbolic, Any})",
      "    @ SymbolicUtils ~/.julia/packages/SymbolicUtils/Vzo2s/src/polyform.jl:268",
      " [66] simplify_div(d::SymbolicUtils.BasicSymbolic{Real})",
      "    @ SymbolicUtils ~/.julia/packages/SymbolicUtils/Vzo2s/src/polyform.jl:275",
      " [67] (::SymbolicUtils.var\"#sdiv#128\")(a::SymbolicUtils.BasicSymbolic{Real})",
      "    @ SymbolicUtils ~/.julia/packages/SymbolicUtils/Vzo2s/src/polyform.jl:329",
      " [68] (::ComposedFunction{SymbolicUtils.var\"#sdiv#128\", typeof(quick_cancel)})(x::SymbolicUtils.BasicSymbolic{Real})",
      "    @ Base ./operators.jl:938",
      " [69] (::SymbolicUtils.Rewriters.Walk{:post, ComposedFunction{SymbolicUtils.var\"#sdiv#128\", typeof(quick_cancel)}, typeof(SymbolicUtils.frac_similarterm), false})(x::SymbolicUtils.BasicSymbolic{Real})",
      "    @ SymbolicUtils.Rewriters ~/.julia/packages/SymbolicUtils/Vzo2s/src/rewriters.jl:200",
      " [70] simplify_fractions(x::SymbolicUtils.BasicSymbolic{Real}; polyform::Bool)",
      "    @ SymbolicUtils ~/.julia/packages/SymbolicUtils/Vzo2s/src/polyform.jl:331",
      " [71] simplify_fractions(x::SymbolicUtils.BasicSymbolic{Real})",
      "    @ SymbolicUtils ~/.julia/packages/SymbolicUtils/Vzo2s/src/polyform.jl:325",
      " [72] simplify(x::SymbolicUtils.BasicSymbolic{Real}; expand::Bool, polynorm::Nothing, threaded::Bool, simplify_fractions::Bool, thread_subtree_cutoff::Int64, rewriter::Nothing)",
      "    @ SymbolicUtils ~/.julia/packages/SymbolicUtils/Vzo2s/src/simplify.jl:42",
      " [73] simplify(x::SymbolicUtils.BasicSymbolic{Real})",
      "    @ SymbolicUtils ~/.julia/packages/SymbolicUtils/Vzo2s/src/simplify.jl:23",
      " [74] simplify(n::Num; kw::Base.Iterators.Pairs{Union{}, Union{}, Tuple{}, NamedTuple{(), Tuple{}}})",
      "    @ Symbolics ~/.julia/packages/Symbolics/5AM8W/src/Symbolics.jl:151",
      " [75] simplify(n::Num)",
      "    @ Symbolics ~/.julia/packages/Symbolics/5AM8W/src/Symbolics.jl:151",
      " [76] _broadcast_getindex_evalf",
      "    @ ./broadcast.jl:648 [inlined]",
      " [77] _broadcast_getindex",
      "    @ ./broadcast.jl:621 [inlined]",
      " [78] getindex",
      "    @ ./broadcast.jl:575 [inlined]",
      " [79] copyto_nonleaf!(dest::Matrix{Num}, bc::Base.Broadcast.Broadcasted{Base.Broadcast.DefaultArrayStyle{2}, Tuple{Base.OneTo{Int64}, Base.OneTo{Int64}}, typeof(simplify), Tuple{Base.Broadcast.Broadcasted{Base.Broadcast.DefaultArrayStyle{2}, Nothing, typeof(expand), Tuple{Base.Broadcast.Extruded{Matrix{Num}, Tuple{Bool, Bool}, Tuple{Int64, Int64}}}}}}, iter::CartesianIndices{2, Tuple{Base.OneTo{Int64}, Base.OneTo{Int64}}}, state::CartesianIndex{2}, count::Int64)",
      "    @ Base.Broadcast ./broadcast.jl:1078",
      " [80] copy",
      "    @ ./broadcast.jl:930 [inlined]",
      " [81] materialize(bc::Base.Broadcast.Broadcasted{Base.Broadcast.DefaultArrayStyle{2}, Nothing, typeof(simplify), Tuple{Base.Broadcast.Broadcasted{Base.Broadcast.DefaultArrayStyle{2}, Nothing, typeof(expand), Tuple{Matrix{Num}}}}})",
      "    @ Base.Broadcast ./broadcast.jl:883"
     ]
    }
   ],
   "source": [
    "simplify.(expand.(I66*inv(I66)))"
   ]
  },
  {
   "cell_type": "markdown",
   "id": "1d0c2d4e",
   "metadata": {},
   "source": [
    "# hashing "
   ]
  },
  {
   "cell_type": "code",
   "execution_count": 185,
   "id": "3dabb5ff",
   "metadata": {},
   "outputs": [
    {
     "data": {
      "text/plain": [
       "hashing512 (generic function with 1 method)"
      ]
     },
     "execution_count": 185,
     "metadata": {},
     "output_type": "execute_result"
    }
   ],
   "source": [
    "message = \"digital sig\"\n",
    "@variables x[1:64]\n",
    "function hashing512(message)\n",
    "    hash = sha2_512(message)\n",
    "    bitstring512=\"\"\n",
    "    for i in hash\n",
    "        bitstring512=bitstring512*bitstring(i)\n",
    "    end\n",
    "    \n",
    "    A512=[]\n",
    "    for i in bitstring512\n",
    "        append!(A512,Int(i)-48)\n",
    "    end\n",
    "    return A512\n",
    "end"
   ]
  },
  {
   "cell_type": "code",
   "execution_count": 186,
   "id": "aac5918c",
   "metadata": {},
   "outputs": [
    {
     "name": "stdout",
     "output_type": "stream",
     "text": [
      "(3, 1)\n",
      "(1, 3)\n"
     ]
    }
   ],
   "source": [
    "function polys(message)\n",
    "    coeffs=[]\n",
    "    A512=hashing512(message)\n",
    "    last12=A512[501:512,]\n",
    "    for i in 0:3\n",
    "        b3=last12[(1+3*i):3*(i+1),]\n",
    "        coef=0\n",
    "        for j in 1:3\n",
    "            coef=coef+2^(3-j)*b3[j]\n",
    "        end\n",
    "        coef=mod(coef,6)\n",
    "        append!(coeffs,coef)\n",
    "    end\n",
    "#     println(coeffs)\n",
    "    \n",
    "    first300=A512[1:300]\n",
    "    vars=[]\n",
    "    for i in 1:50\n",
    "        v=first300[(1+6*(i-1)):(6*i),]\n",
    "        vn=0\n",
    "        for j in 1:6\n",
    "            vn=vn+2^(6-j)*v[j]\n",
    "        end\n",
    "        vn=vn+1\n",
    "        append!(vars,vn)\n",
    "    end\n",
    "#     println(vars)\n",
    "    \n",
    "    middle200=A512[301:500]\n",
    "    mons=[]\n",
    "    for i in 1:5\n",
    "        b40=middle200[(1+40*(i-1)):(40*i)]\n",
    "\n",
    "        for j in 1:4\n",
    "            b10=b40[(1+10*(j-1)):(10*j)]\n",
    "            mon=1\n",
    "\n",
    "            for k in 1:10\n",
    "                if b10[k]==1 \n",
    "\n",
    "                    if vars[10*(j-1)+k]!=0\n",
    "                        mon=mon*x[vars[10*(j-1)+k]]\n",
    "                    end\n",
    "                end\n",
    "            end\n",
    "            append!(mons,mon)\n",
    "\n",
    "        end\n",
    "    end\n",
    "#     println(mons)\n",
    "    \n",
    "    polys=[]\n",
    "    for i in 1:5\n",
    "        pol=0\n",
    "        for j in 1:4\n",
    "            pol=pol+mons[4*(i-1)+j]*coeffs[j]\n",
    "        end\n",
    "        append!(polys,pol)\n",
    "    end\n",
    " \n",
    "    \n",
    "    Un=zeros(Num,1,3)\n",
    "    for i in 1:3\n",
    "        Un[1,i]=polys[i]\n",
    "    end\n",
    "    \n",
    "#     Un=simplify.(expand.(Un))\n",
    "    U=zeros(Num,3,1)\n",
    "    for i in 1:3\n",
    "        U[i,1]=polys[i]\n",
    "    end\n",
    "    return U,Un\n",
    "end\n",
    "\n",
    "U,Un=polys(message)\n",
    "println(size(U))\n",
    "println(size(Un))\n"
   ]
  },
  {
   "cell_type": "code",
   "execution_count": 254,
   "id": "c8b2ce96",
   "metadata": {},
   "outputs": [
    {
     "data": {
      "text/plain": [
       "32"
      ]
     },
     "execution_count": 254,
     "metadata": {},
     "output_type": "execute_result"
    }
   ],
   "source": [
    "V=Un*D\n",
    "sizeof(V)\n"
   ]
  },
  {
   "cell_type": "code",
   "execution_count": 255,
   "id": "814a6d11",
   "metadata": {},
   "outputs": [
    {
     "data": {
      "text/latex": [
       "$$ \\begin{equation}\n",
       "\\left[\n",
       "\\begin{array}{cccc}\n",
       "\\left( 3 x_{1 6} x_{2 5} x_{3 5} x_{4 3} x_{4 4} x_{5 8} + 4 x_3 x_9 x_{2 0} x_{2 9} x_{3 1} x_{3 4} x_{4 3} x_{5 2} x_{5 7} \\right) \\left(  - 4 x_{1 5} - x_{4 1} x_{4 5} - x_{1 8} x_{2 1} x_{4 7} \\right) + \\left( 4 x_3 x_{3 1} x_{3 4} + 3 x_{1 6} x_{2 4} x_{2 5} x_{3 0} x_{4 4} x_{5 8} \\right) \\left(  - 2 x_{3 3} x_{3 5} - 5 x_6 x_{1 8} - 3 x_{2 1}^{2} x_{3 3} + 4 x_{4 1}^{2} x_{4 5} + 4 x_{1 5} x_{4 1} + 4 x_{1 5} x_{3 5} x_{4 2} + x_{3 5} x_{4 1} x_{4 2} x_{4 5} + 4 x_3 x_8 x_{1 5} x_{2 1} + x_{2 1}^{2} x_3 x_8 x_{1 8} x_{4 7} + x_3 x_8 x_{2 1} x_{4 1} x_{4 5} + 4 x_{1 8} x_{2 1} x_{4 1} x_{4 7} + x_{1 8} x_{2 1} x_{3 5} x_{4 2} x_{4 7} \\right) + 4 x_{4 3} x_{5 2} + 3 x_2 x_{1 6} x_{2 4} x_{3 9} x_{4 4} x_{5 8} & \\left( 4 x_{4 3} x_{5 2} + 3 x_2 x_{1 6} x_{2 4} x_{3 9} x_{4 4} x_{5 8} \\right) \\left(  - 3 x_5 - x_{2 2} x_{3 7} - 4 x_{1 3} x_{1 9} x_{2 6} - 5 x_{1 4} x_{4 0} x_{4 7} - x_{3 5} x_{3 6} x_{4 4} - 5 x_1 x_{4 4} x_{4 7} \\right) + \\left( 3 x_{1 6} x_{2 5} x_{3 5} x_{4 3} x_{4 4} x_{5 8} + 4 x_3 x_9 x_{2 0} x_{2 9} x_{3 1} x_{3 4} x_{4 3} x_{5 2} x_{5 7} \\right) \\left(  - 5 x_7 x_{1 3} - 3 x_3 x_{4 3} - 5 x_{1 9} x_{2 4} + 3 x_5 x_{4 1} x_{4 5} + 4 x_{1 5} x_{2 2} x_{3 7} + x_{2 2} x_{3 7} x_{4 1} x_{4 5} + 2 x_1 x_{1 5} x_{4 4} x_{4 7} + 4 x_{1 3} x_{1 5} x_{1 9} x_{2 6} + 4 x_{1 5} x_{3 5} x_{3 6} x_{4 4} + x_{3 5} x_{3 6} x_{4 1} x_{4 4} x_{4 5} + 3 x_5 x_{1 8} x_{2 1} x_{4 7} + x_{1 8} x_{2 1} x_{2 2} x_{3 7} x_{4 7} + 2 x_{1 4} x_{1 5} x_{4 0} x_{4 7} + 4 x_{1 3} x_{1 9} x_{2 6} x_{4 1} x_{4 5} + 5 x_{4 7}^{2} x_1 x_{1 8} x_{2 1} x_{4 4} + 5 x_{4 7}^{2} x_{1 4} x_{1 8} x_{2 1} x_{4 0} + x_{1 8} x_{2 1} x_{3 5} x_{3 6} x_{4 4} x_{4 7} + 5 x_{1 4} x_{4 0} x_{4 1} x_{4 5} x_{4 7} + 5 x_1 x_{4 1} x_{4 4} x_{4 5} x_{4 7} + 4 x_{1 3} x_{1 8} x_{1 9} x_{2 1} x_{2 6} x_{4 7} \\right) + \\left( 4 x_3 x_{3 1} x_{3 4} + 3 x_{1 6} x_{2 4} x_{2 5} x_{3 0} x_{4 4} x_{5 8} \\right) \\left(  - 4 x_{2 2} - 4 x_5 x_{3 0} - 4 x_{2 4} x_{5 0} + 3 x_{2 1}^{2} x_5 x_{3 3} + 2 x_7 x_{1 3} x_{4 1} + 2 x_{1 9} x_{2 4} x_{4 1} + 3 x_5 x_6 x_{1 8} + 2 x_{2 2} x_{3 3} x_{3 5} x_{3 7} + 5 x_7 x_{1 3} x_{3 5} x_{4 2} + 3 x_3 x_{3 5} x_{4 2} x_{4 3} + 5 x_6 x_{1 8} x_{2 2} x_{3 7} + x_6 x_{1 4} x_{1 8} x_{4 0} x_{4 7} + x_1 x_6 x_{1 8} x_{4 4} x_{4 7} + 2 x_{1 5} x_{2 2} x_{3 7} x_{4 1} + 2 x_{3 5}^{2} x_{3 3} x_{3 6} x_{4 4} + 3 x_3^{2} x_8 x_{2 1} x_{4 3} + 3 x_{2 1}^{2} x_{2 2} x_{3 3} x_{3 7} + 5 x_{1 9} x_{2 4} x_{3 5} x_{4 2} - 4 x_{4 1}^{2} x_{2 2} x_{3 7} x_{4 5} + 2 x_6 x_{1 3} x_{1 8} x_{1 9} x_{2 6} + 2 x_{1 3} x_{1 9} x_{2 6} x_{3 3} x_{3 5} + 2 x_{1 5} x_{3 5} x_{3 6} x_{4 1} x_{4 4} + 3 x_{2 1}^{2} x_{3 3} x_{3 5} x_{3 6} x_{4 4} - 3 x_5 x_{3 5} x_{4 1} x_{4 2} x_{4 5} + 3 x_{2 1}^{2} x_1 x_{3 3} x_{4 4} x_{4 7} + 3 x_{2 1}^{2} x_{1 4} x_{3 3} x_{4 0} x_{4 7} + 4 x_{1 4} x_{1 5} x_{4 0} x_{4 1} x_{4 7} + 4 x_{4 1}^{2} x_1 x_{4 4} x_{4 5} x_{4 7} + 5 x_3 x_8 x_{1 9} x_{2 1} x_{2 4} + 2 x_{4 1}^{2} x_{1 3} x_{1 9} x_{2 6} x_{4 5} + 4 x_{4 1}^{2} x_{1 4} x_{4 0} x_{4 5} x_{4 7} + 2 x_{1 3} x_{1 5} x_{1 9} x_{2 6} x_{4 1} + 4 x_1 x_{3 3} x_{3 5} x_{4 4} x_{4 7} + 4 x_{1 4} x_{3 3} x_{3 5} x_{4 0} x_{4 7} - 4 x_{3 5}^{2} x_{1 5} x_{3 6} x_{4 2} x_{4 4} + 4 x_1 x_{1 5} x_{4 1} x_{4 4} x_{4 7} - 4 x_{4 1}^{2} x_{3 5} x_{3 6} x_{4 4} x_{4 5} + 5 x_3 x_7 x_8 x_{1 3} x_{2 1} + 5 x_6 x_{1 8} x_{3 5} x_{3 6} x_{4 4} - 4 x_{1 5} x_{2 2} x_{3 5} x_{3 7} x_{4 2} + 4 x_{4 7}^{2} x_{1 4} x_{1 8} x_{2 1} x_{4 0} x_{4 1} + 4 x_{4 7}^{2} x_1 x_{1 8} x_{2 1} x_{4 1} x_{4 4} + 4 x_1 x_{1 5} x_{3 5} x_{4 2} x_{4 4} x_{4 7} - 4 x_3 x_8 x_{1 5} x_{2 1} x_{2 2} x_{3 7} - 3 x_3 x_5 x_8 x_{2 1} x_{4 1} x_{4 5} - x_{3 5}^{2} x_{3 6} x_{4 1} x_{4 2} x_{4 4} x_{4 5} + 2 x_{1 3} x_{1 5} x_{1 9} x_{2 6} x_{3 5} x_{4 2} - 3 x_{2 1}^{2} x_3 x_5 x_8 x_{1 8} x_{4 7} + 4 x_{1 4} x_{1 5} x_{3 5} x_{4 0} x_{4 2} x_{4 7} - 4 x_{1 8} x_{2 1} x_{2 2} x_{3 7} x_{4 1} x_{4 7} - 3 x_5 x_{1 8} x_{2 1} x_{3 5} x_{4 2} x_{4 7} - x_{2 2} x_{3 5} x_{3 7} x_{4 1} x_{4 2} x_{4 5} + 2 x_3 x_8 x_{1 3} x_{1 5} x_{1 9} x_{2 1} x_{2 6} + 4 x_3 x_8 x_{1 4} x_{1 5} x_{2 1} x_{4 0} x_{4 7} - 5 x_{4 7}^{2} x_{2 1}^{2} x_3 x_8 x_{1 4} x_{1 8} x_{4 0} - 4 x_3 x_8 x_{1 5} x_{2 1} x_{3 5} x_{3 6} x_{4 4} - x_{2 1}^{2} x_3 x_8 x_{1 8} x_{2 2} x_{3 7} x_{4 7} - 4 x_{1 3} x_{1 9} x_{2 6} x_{3 5} x_{4 1} x_{4 2} x_{4 5} - 5 x_{4 7}^{2} x_{1 4} x_{1 8} x_{2 1} x_{3 5} x_{4 0} x_{4 2} - x_{3 5}^{2} x_{1 8} x_{2 1} x_{3 6} x_{4 2} x_{4 4} x_{4 7} + 2 x_{1 3} x_{1 8} x_{1 9} x_{2 1} x_{2 6} x_{4 1} x_{4 7} - 5 x_{4 7}^{2} x_{2 1}^{2} x_1 x_3 x_8 x_{1 8} x_{4 4} - 5 x_{4 7}^{2} x_1 x_{1 8} x_{2 1} x_{3 5} x_{4 2} x_{4 4} - x_3 x_8 x_{2 1} x_{2 2} x_{3 7} x_{4 1} x_{4 5} - 5 x_{1 4} x_{3 5} x_{4 0} x_{4 1} x_{4 2} x_{4 5} x_{4 7} - 5 x_1 x_{3 5} x_{4 1} x_{4 2} x_{4 4} x_{4 5} x_{4 7} - x_{1 8} x_{2 1} x_{2 2} x_{3 5} x_{3 7} x_{4 2} x_{4 7} + 4 x_1 x_3 x_8 x_{1 5} x_{2 1} x_{4 4} x_{4 7} - 4 x_{1 8} x_{2 1} x_{3 5} x_{3 6} x_{4 1} x_{4 4} x_{4 7} - 4 x_{2 1}^{2} x_3 x_8 x_{1 3} x_{1 8} x_{1 9} x_{2 6} x_{4 7} - x_{2 1}^{2} x_3 x_8 x_{1 8} x_{3 5} x_{3 6} x_{4 4} x_{4 7} - 5 x_3 x_8 x_{1 4} x_{2 1} x_{4 0} x_{4 1} x_{4 5} x_{4 7} - 5 x_1 x_3 x_8 x_{2 1} x_{4 1} x_{4 4} x_{4 5} x_{4 7} - 4 x_3 x_8 x_{1 3} x_{1 9} x_{2 1} x_{2 6} x_{4 1} x_{4 5} - x_3 x_8 x_{2 1} x_{3 5} x_{3 6} x_{4 1} x_{4 4} x_{4 5} - 4 x_{1 3} x_{1 8} x_{1 9} x_{2 1} x_{2 6} x_{3 5} x_{4 2} x_{4 7} \\right) & \\left( 4 x_3 x_{3 1} x_{3 4} + 3 x_{1 6} x_{2 4} x_{2 5} x_{3 0} x_{4 4} x_{5 8} \\right) \\left( 4.0 x_{1 3} x_{2 2} + 4.0 x_{1 3}^{2} x_7 x_{4 1} + 2.0 x_{3 5}^{2} x_{1 9} x_{3 3} + 4.0 x_5 x_{1 3} x_{3 0} + 4.0 x_{1 3} x_{2 4} x_{5 0} + 3.0 x_{2 1}^{2} x_5 x_{1 3} x_{3 3} - 4.0 x_{3 5}^{2} x_{1 5} x_{1 9} x_{4 2} - 4.0 x_{4 1}^{2} x_{1 9} x_{3 5} x_{4 5} + 4.0 x_2 x_8 x_{2 2} x_{2 3} + 5.0 x_6 x_{1 8} x_{1 9} x_{3 5} + 3.0 x_{2 1}^{2} x_{1 9} x_{3 3} x_{3 5} + 4.0 x_{1 3} x_{1 9} x_{2 4} x_{4 1} - 5.0 x_{1 3}^{2} x_7 x_{3 5} x_{4 2} + 3.0 x_5 x_6 x_{1 3} x_{1 8} + x_6 x_{1 0} x_{1 8} x_{2 6} x_{3 6} + 2.0 x_{1 5} x_{1 9} x_{3 5} x_{4 1} + 4.0 x_{2 2} x_{3 9} x_{4 3} x_{4 9} - 5.0 x_6 x_{1 3} x_{1 8} x_{2 2} x_{3 7} + 3.0 x_{2 1}^{2} x_{1 0} x_{2 6} x_{3 3} x_{3 6} - x_{3 5}^{2} x_{1 9} x_{4 1} x_{4 2} x_{4 5} + 4.0 x_{4 1}^{2} x_{1 0} x_{2 6} x_{3 6} x_{4 5} + 4.0 x_2 x_5 x_8 x_{2 3} x_{3 0} + 3.0 x_{2 1}^{2} x_{1 0} x_{1 3} x_{1 7} x_{3 3} + 4.0 x_5 x_{3 0} x_{3 9} x_{4 3} x_{4 9} + 4.0 x_{1 0} x_{2 6} x_{3 3} x_{3 5} x_{3 6} + 4.0 x_{1 3} x_{1 5} x_{2 2} x_{3 7} x_{4 1} - 5.0 x_{1 3}^{2} x_3 x_7 x_8 x_{2 1} - 5.0 x_{1 3} x_{1 9} x_{2 4} x_{3 5} x_{4 2} - 2.0 x_{1 3} x_{2 2} x_{3 3} x_{3 5} x_{3 7} + 3.0 x_6 x_{1 0} x_{1 3} x_{1 7} x_{1 8} - 3.0 x_{2 1}^{2} x_{1 3} x_{2 2} x_{3 3} x_{3 7} + 4.0 x_{4 1}^{2} x_{1 3} x_{2 2} x_{3 7} x_{4 5} + 4.0 x_2 x_8 x_{2 3} x_{2 4} x_{5 0} + 4.0 x_{1 0} x_{1 5} x_{2 6} x_{3 6} x_{4 1} - 3.0 x_3^{2} x_8 x_{1 3} x_{2 1} x_{4 3} - 3.0 x_3 x_{1 3} x_{3 5} x_{4 2} x_{4 3} + 4.0 x_{2 4} x_{3 9} x_{4 3} x_{4 9} x_{5 0} - 4.0 x_{1 8} x_{1 9} x_{2 1} x_{3 5} x_{4 1} x_{4 7} - 5.0 x_3 x_8 x_{1 3} x_{1 9} x_{2 1} x_{2 4} + 3.0 x_{2 1}^{2} x_5 x_{3 3} x_{3 9} x_{4 3} x_{4 9} + 4.0 x_2 x_7 x_8 x_{1 3} x_{2 3} x_{4 1} - 4.0 x_3 x_8 x_{1 5} x_{1 9} x_{2 1} x_{3 5} + 4.0 x_7 x_{1 3} x_{3 9} x_{4 1} x_{4 3} x_{4 9} - x_{3 5}^{2} x_{1 8} x_{1 9} x_{2 1} x_{4 2} x_{4 7} + 2.0 x_{4 1}^{2} x_1 x_{1 3} x_{4 4} x_{4 5} x_{4 7} + 3.0 x_{2 1}^{2} x_1 x_{1 3} x_{3 3} x_{4 4} x_{4 7} + 4.0 x_2 x_8 x_{1 9} x_{2 3} x_{2 4} x_{4 1} + 4.0 x_{1 0} x_{1 5} x_{2 6} x_{3 5} x_{3 6} x_{4 2} + 4.0 x_{1 9} x_{2 4} x_{3 9} x_{4 1} x_{4 3} x_{4 9} + x_{1 3} x_{2 2} x_{3 5} x_{3 7} x_{4 1} x_{4 2} x_{4 5} + 2.0 x_1 x_{1 3} x_{1 5} x_{4 1} x_{4 4} x_{4 7} + 5.0 x_1 x_6 x_{1 3} x_{1 8} x_{4 4} x_{4 7} - 3.0 x_{4 3}^{2} x_3^{2} x_8 x_{2 1} x_{3 9} x_{4 9} + 3.0 x_5 x_6 x_{1 8} x_{3 9} x_{4 3} x_{4 9} - 3.0 x_{4 3}^{2} x_3 x_{3 5} x_{3 9} x_{4 2} x_{4 9} + 4.0 x_{1 3} x_{1 5} x_{2 2} x_{3 5} x_{3 7} x_{4 2} + 3.0 x_5 x_{1 3} x_{3 5} x_{4 1} x_{4 2} x_{4 5} + 2.0 x_1 x_{1 3} x_{3 3} x_{3 5} x_{4 4} x_{4 7} - x_3 x_8 x_{1 9} x_{2 1} x_{3 5} x_{4 1} x_{4 5} - x_{2 1}^{2} x_3 x_8 x_{1 8} x_{1 9} x_{3 5} x_{4 7} + x_{2 1}^{2} x_3 x_8 x_{1 3} x_{1 8} x_{2 2} x_{3 7} x_{4 7} + 3.0 x_3 x_5 x_8 x_{1 3} x_{2 1} x_{4 1} x_{4 5} + 4.0 x_8^{2} x_2 x_3 x_{1 9} x_{2 1} x_{2 3} x_{2 4} + 2.0 x_{4 7}^{2} x_1 x_{1 3} x_{1 8} x_{2 1} x_{4 1} x_{4 4} + 4.0 x_2 x_7 x_8 x_{1 3} x_{2 3} x_{3 5} x_{4 2} + x_3 x_8 x_{1 3} x_{2 1} x_{2 2} x_{3 7} x_{4 1} x_{4 5} + 4.0 x_2 x_8 x_{2 2} x_{2 3} x_{3 3} x_{3 5} x_{3 7} + 3.0 x_{2 1}^{2} x_3 x_5 x_8 x_{1 3} x_{1 8} x_{4 7} + x_{1 3} x_{1 8} x_{2 1} x_{2 2} x_{3 5} x_{3 7} x_{4 2} x_{4 7} - 3.0 x_{1 0} x_{1 3} x_{1 7} x_{3 5} x_{4 1} x_{4 2} x_{4 5} + 4.0 x_8^{2} x_2 x_3 x_7 x_{1 3} x_{2 1} x_{2 3} - 3.0 x_{2 1}^{2} x_{2 2} x_{3 3} x_{3 7} x_{3 9} x_{4 3} x_{4 9} + 4.0 x_{4 1}^{2} x_{2 2} x_{3 7} x_{3 9} x_{4 3} x_{4 5} x_{4 9} - 2.0 x_{2 2} x_{3 3} x_{3 5} x_{3 7} x_{3 9} x_{4 3} x_{4 9} + 4.0 x_{1 3} x_{1 8} x_{2 1} x_{2 2} x_{3 7} x_{4 1} x_{4 7} + 3.0 x_5 x_{1 3} x_{1 8} x_{2 1} x_{3 5} x_{4 2} x_{4 7} + 4.0 x_2 x_8 x_{1 5} x_{2 2} x_{2 3} x_{3 7} x_{4 1} + 4.0 x_3 x_8 x_{1 0} x_{1 5} x_{2 1} x_{2 6} x_{3 6} + 4.0 x_3 x_8 x_{1 3} x_{1 5} x_{2 1} x_{2 2} x_{3 7} + 4.0 x_2 x_6 x_8 x_{1 8} x_{2 2} x_{2 3} x_{3 7} + 4.0 x_{4 1}^{2} x_2 x_8 x_{2 2} x_{2 3} x_{3 7} x_{4 5} + 4.0 x_2 x_8 x_{1 9} x_{2 3} x_{2 4} x_{3 5} x_{4 2} - 5.0 x_7 x_{1 3} x_{3 5} x_{3 9} x_{4 2} x_{4 3} x_{4 9} - 5.0 x_6 x_{1 8} x_{2 2} x_{3 7} x_{3 9} x_{4 3} x_{4 9} + 4.0 x_{1 0} x_{1 8} x_{2 1} x_{2 6} x_{3 6} x_{4 1} x_{4 7} - 5.0 x_{1 9} x_{2 4} x_{3 5} x_{3 9} x_{4 2} x_{4 3} x_{4 9} + 2.0 x_1 x_{1 3} x_{1 5} x_{3 5} x_{4 2} x_{4 4} x_{4 7} + 4.0 x_{1 5} x_{2 2} x_{3 7} x_{3 9} x_{4 1} x_{4 3} x_{4 9} - 5.0 x_{1 0} x_{2 6} x_{3 5} x_{3 6} x_{4 1} x_{4 2} x_{4 5} + 2.0 x_1 x_2 x_8 x_{1 5} x_{2 3} x_{4 1} x_{4 4} x_{4 7} + 3.0 x_5 x_{3 5} x_{3 9} x_{4 1} x_{4 2} x_{4 3} x_{4 5} x_{4 9} + 5.0 x_{4 7}^{2} x_{2 1}^{2} x_1 x_3 x_8 x_{1 3} x_{1 8} x_{4 4} - 5.0 x_3 x_7 x_8 x_{1 3} x_{2 1} x_{3 9} x_{4 3} x_{4 9} + 5.0 x_{4 7}^{2} x_1 x_{1 3} x_{1 8} x_{2 1} x_{3 5} x_{4 2} x_{4 4} - 3.0 x_3 x_8 x_{1 0} x_{1 3} x_{1 7} x_{2 1} x_{4 1} x_{4 5} - 5.0 x_{1 0} x_{1 8} x_{2 1} x_{2 6} x_{3 5} x_{3 6} x_{4 2} x_{4 7} + 2.0 x_1 x_2 x_6 x_8 x_{1 8} x_{2 3} x_{4 4} x_{4 7} + x_{2 2} x_{3 5} x_{3 7} x_{3 9} x_{4 1} x_{4 2} x_{4 3} x_{4 5} x_{4 9} + 2.0 x_{4 1}^{2} x_1 x_2 x_8 x_{2 3} x_{4 4} x_{4 5} x_{4 7} - 5.0 x_3 x_8 x_{1 9} x_{2 1} x_{2 4} x_{3 9} x_{4 3} x_{4 9} + 2.0 x_{4 1}^{2} x_1 x_{3 9} x_{4 3} x_{4 4} x_{4 5} x_{4 7} x_{4 9} + 4.0 x_2 x_8 x_{1 5} x_{2 2} x_{2 3} x_{3 5} x_{3 7} x_{4 2} + 2.0 x_1 x_2 x_8 x_{2 3} x_{3 3} x_{3 5} x_{4 4} x_{4 7} + 2.0 x_1 x_{1 5} x_{3 9} x_{4 1} x_{4 3} x_{4 4} x_{4 7} x_{4 9} + 5.0 x_1 x_6 x_{1 8} x_{3 9} x_{4 3} x_{4 4} x_{4 7} x_{4 9} + 2.0 x_1 x_{3 3} x_{3 5} x_{3 9} x_{4 3} x_{4 4} x_{4 7} x_{4 9} + 5.0 x_1 x_{1 3} x_{3 5} x_{4 1} x_{4 2} x_{4 4} x_{4 5} x_{4 7} + 3.0 x_{2 1}^{2} x_1 x_{3 3} x_{3 9} x_{4 3} x_{4 4} x_{4 7} x_{4 9} - 3.0 x_{2 1}^{2} x_3 x_8 x_{1 0} x_{1 3} x_{1 7} x_{1 8} x_{4 7} - 5.0 x_{2 1}^{2} x_3 x_8 x_{1 0} x_{1 8} x_{2 6} x_{3 6} x_{4 7} - 3.0 x_{1 0} x_{1 3} x_{1 7} x_{1 8} x_{2 1} x_{3 5} x_{4 2} x_{4 7} + 4.0 x_{1 5} x_{2 2} x_{3 5} x_{3 7} x_{3 9} x_{4 2} x_{4 3} x_{4 9} + 2.0 x_1 x_3 x_8 x_{1 3} x_{1 5} x_{2 1} x_{4 4} x_{4 7} + 4.0 x_8^{2} x_2 x_3 x_{1 5} x_{2 1} x_{2 2} x_{2 3} x_{3 7} - 5.0 x_3 x_8 x_{1 0} x_{2 1} x_{2 6} x_{3 6} x_{4 1} x_{4 5} + 2.0 x_{4 7}^{2} x_{2 1}^{2} x_8^{2} x_1 x_2 x_3 x_{1 8} x_{2 3} x_{4 4} + 2.0 x_{4 7}^{2} x_1 x_2 x_8 x_{1 8} x_{2 1} x_{2 3} x_{4 1} x_{4 4} + 4.0 x_2 x_8 x_{1 8} x_{2 1} x_{2 2} x_{2 3} x_{3 7} x_{4 1} x_{4 7} + 2.0 x_8^{2} x_1 x_2 x_3 x_{1 5} x_{2 1} x_{2 3} x_{4 4} x_{4 7} + 5.0 x_1 x_3 x_8 x_{1 3} x_{2 1} x_{4 1} x_{4 4} x_{4 5} x_{4 7} + 2.0 x_{4 7}^{2} x_1 x_{1 8} x_{2 1} x_{3 9} x_{4 1} x_{4 3} x_{4 4} x_{4 9} + 4.0 x_2 x_8 x_{2 2} x_{2 3} x_{3 5} x_{3 7} x_{4 1} x_{4 2} x_{4 5} + 4.0 x_{2 1}^{2} x_8^{2} x_2 x_3 x_{1 8} x_{2 2} x_{2 3} x_{3 7} x_{4 7} + 2.0 x_1 x_2 x_8 x_{1 5} x_{2 3} x_{3 5} x_{4 2} x_{4 4} x_{4 7} + 3.0 x_3 x_5 x_8 x_{2 1} x_{3 9} x_{4 1} x_{4 3} x_{4 5} x_{4 9} + x_3 x_8 x_{2 1} x_{2 2} x_{3 7} x_{3 9} x_{4 1} x_{4 3} x_{4 5} x_{4 9} + 3.0 x_{2 1}^{2} x_3 x_5 x_8 x_{1 8} x_{3 9} x_{4 3} x_{4 7} x_{4 9} + 3.0 x_5 x_{1 8} x_{2 1} x_{3 5} x_{3 9} x_{4 2} x_{4 3} x_{4 7} x_{4 9} + 4.0 x_3 x_8 x_{1 5} x_{2 1} x_{2 2} x_{3 7} x_{3 9} x_{4 3} x_{4 9} + 4.0 x_{1 8} x_{2 1} x_{2 2} x_{3 7} x_{3 9} x_{4 1} x_{4 3} x_{4 7} x_{4 9} + x_{2 1}^{2} x_3 x_8 x_{1 8} x_{2 2} x_{3 7} x_{3 9} x_{4 3} x_{4 7} x_{4 9} + 2.0 x_1 x_{1 5} x_{3 5} x_{3 9} x_{4 2} x_{4 3} x_{4 4} x_{4 7} x_{4 9} + 4.0 x_8^{2} x_2 x_3 x_{2 1} x_{2 2} x_{2 3} x_{3 7} x_{4 1} x_{4 5} + x_{1 8} x_{2 1} x_{2 2} x_{3 5} x_{3 7} x_{3 9} x_{4 2} x_{4 3} x_{4 7} x_{4 9} + 2.0 x_8^{2} x_1 x_2 x_3 x_{2 1} x_{2 3} x_{4 1} x_{4 4} x_{4 5} x_{4 7} + 2.0 x_{4 7}^{2} x_1 x_2 x_8 x_{1 8} x_{2 1} x_{2 3} x_{3 5} x_{4 2} x_{4 4} + 2.0 x_1 x_3 x_8 x_{1 5} x_{2 1} x_{3 9} x_{4 3} x_{4 4} x_{4 7} x_{4 9} + 2.0 x_1 x_2 x_8 x_{2 3} x_{3 5} x_{4 1} x_{4 2} x_{4 4} x_{4 5} x_{4 7} + 5.0 x_{4 7}^{2} x_{2 1}^{2} x_1 x_3 x_8 x_{1 8} x_{3 9} x_{4 3} x_{4 4} x_{4 9} + 5.0 x_{4 7}^{2} x_1 x_{1 8} x_{2 1} x_{3 5} x_{3 9} x_{4 2} x_{4 3} x_{4 4} x_{4 9} + 4.0 x_2 x_8 x_{1 8} x_{2 1} x_{2 2} x_{2 3} x_{3 5} x_{3 7} x_{4 2} x_{4 7} + 5.0 x_1 x_{3 5} x_{3 9} x_{4 1} x_{4 2} x_{4 3} x_{4 4} x_{4 5} x_{4 7} x_{4 9} + 5.0 x_1 x_3 x_8 x_{2 1} x_{3 9} x_{4 1} x_{4 3} x_{4 4} x_{4 5} x_{4 7} x_{4 9} \\right) + \\left( 4 x_{4 3} x_{5 2} + 3 x_2 x_{1 6} x_{2 4} x_{3 9} x_{4 4} x_{5 8} \\right) \\left( 3 x_5 x_{1 3} - x_{1 9} x_{3 5} + x_{1 3} x_{2 2} x_{3 7} - 3 x_{1 0} x_{1 3} x_{1 7} - 5 x_{1 0} x_{2 6} x_{3 6} + 5 x_1 x_{1 3} x_{4 4} x_{4 7} + 3 x_5 x_{3 9} x_{4 3} x_{4 9} + x_{2 2} x_{3 7} x_{3 9} x_{4 3} x_{4 9} + 4 x_2 x_8 x_{2 2} x_{2 3} x_{3 7} + 2 x_1 x_2 x_8 x_{2 3} x_{4 4} x_{4 7} + 5 x_1 x_{3 9} x_{4 3} x_{4 4} x_{4 7} x_{4 9} \\right) + \\left( 3 x_{1 6} x_{2 5} x_{3 5} x_{4 3} x_{4 4} x_{5 8} + 4 x_3 x_9 x_{2 0} x_{2 9} x_{3 1} x_{3 4} x_{4 3} x_{5 2} x_{5 7} \\right) \\left( 5 x_{1 3}^{2} x_7 + 4 x_{1 5} x_{1 9} x_{3 5} + 5 x_{1 3} x_{1 9} x_{2 4} + 3 x_3 x_{1 3} x_{4 3} + x_{1 9} x_{3 5} x_{4 1} x_{4 5} + 3 x_{4 3}^{2} x_3 x_{3 9} x_{4 9} + x_{1 8} x_{1 9} x_{2 1} x_{3 5} x_{4 7} - 3 x_5 x_{1 3} x_{4 1} x_{4 5} - 4 x_{1 3} x_{1 5} x_{2 2} x_{3 7} + 2 x_{1 0} x_{1 5} x_{2 6} x_{3 6} - x_{1 3} x_{2 2} x_{3 7} x_{4 1} x_{4 5} + 2 x_2 x_7 x_8 x_{1 3} x_{2 3} + 2 x_2 x_8 x_{1 9} x_{2 3} x_{2 4} + 3 x_{1 0} x_{1 3} x_{1 7} x_{4 1} x_{4 5} + 5 x_{1 0} x_{2 6} x_{3 6} x_{4 1} x_{4 5} + 4 x_1 x_{1 3} x_{1 5} x_{4 4} x_{4 7} - 3 x_5 x_{1 3} x_{1 8} x_{2 1} x_{4 7} + 5 x_7 x_{1 3} x_{3 9} x_{4 3} x_{4 9} + 5 x_{1 9} x_{2 4} x_{3 9} x_{4 3} x_{4 9} - x_{1 3} x_{1 8} x_{2 1} x_{2 2} x_{3 7} x_{4 7} + 2 x_2 x_8 x_{1 5} x_{2 2} x_{2 3} x_{3 7} + 3 x_{1 0} x_{1 3} x_{1 7} x_{1 8} x_{2 1} x_{4 7} - 4 x_{1 5} x_{2 2} x_{3 7} x_{3 9} x_{4 3} x_{4 9} - 5 x_{4 7}^{2} x_1 x_{1 3} x_{1 8} x_{2 1} x_{4 4} + 5 x_{1 0} x_{1 8} x_{2 1} x_{2 6} x_{3 6} x_{4 7} - 3 x_5 x_{3 9} x_{4 1} x_{4 3} x_{4 5} x_{4 9} - 5 x_1 x_{1 3} x_{4 1} x_{4 4} x_{4 5} x_{4 7} - x_{2 2} x_{3 7} x_{3 9} x_{4 1} x_{4 3} x_{4 5} x_{4 9} + 4 x_1 x_{1 5} x_{3 9} x_{4 3} x_{4 4} x_{4 7} x_{4 9} - 4 x_2 x_8 x_{2 2} x_{2 3} x_{3 7} x_{4 1} x_{4 5} - 3 x_5 x_{1 8} x_{2 1} x_{3 9} x_{4 3} x_{4 7} x_{4 9} + 4 x_1 x_2 x_8 x_{1 5} x_{2 3} x_{4 4} x_{4 7} + 4 x_1 x_2 x_8 x_{2 3} x_{4 1} x_{4 4} x_{4 5} x_{4 7} - 5 x_{4 7}^{2} x_1 x_{1 8} x_{2 1} x_{3 9} x_{4 3} x_{4 4} x_{4 9} - 5 x_1 x_{3 9} x_{4 1} x_{4 3} x_{4 4} x_{4 5} x_{4 7} x_{4 9} - 4 x_2 x_8 x_{1 8} x_{2 1} x_{2 2} x_{2 3} x_{3 7} x_{4 7} - x_{1 8} x_{2 1} x_{2 2} x_{3 7} x_{3 9} x_{4 3} x_{4 7} x_{4 9} + 4 x_{4 7}^{2} x_1 x_2 x_8 x_{1 8} x_{2 1} x_{2 3} x_{4 4} \\right) & \\left( 4 x_{4 3} x_{5 2} + 3 x_2 x_{1 6} x_{2 4} x_{3 9} x_{4 4} x_{5 8} \\right) \\left(  - 3 x_{1 3} x_{1 9} - 4 x_{3 4} x_{3 9} - 5 x_{2 2} x_{3 1} + 2 x_{2 2} x_{3 1} x_{3 7} + 3 x_5 x_{1 0} x_{2 8} + 4 x_1 x_{3 1} x_{4 4} x_{4 7} + 4 x_3 x_{1 7} x_{2 2} x_{3 7} + 5 x_{1 0} x_{2 2} x_{2 8} x_{3 7} + x_1 x_{1 0} x_{2 8} x_{4 4} x_{4 7} + 2 x_1 x_3 x_{1 7} x_{4 4} x_{4 7} \\right) + \\left( 3 x_{1 6} x_{2 5} x_{3 5} x_{4 3} x_{4 4} x_{5 8} + 4 x_3 x_9 x_{2 0} x_{2 9} x_{3 1} x_{3 4} x_{4 3} x_{5 2} x_{5 7} \\right) \\left( 2.0 x_{1 5} x_{2 2} x_{3 1} + 4.0 x_7 x_{1 3} x_{3 1} + 4.0 x_{1 9} x_{2 4} x_{3 1} + x_7 x_{1 0} x_{1 3} x_{2 8} + x_{1 0} x_{1 9} x_{2 4} x_{2 8} + 4.0 x_{1 5} x_{3 4} x_{3 9} + 2.0 x_3 x_7 x_{1 3} x_{1 7} + 3.0 x_3 x_{1 0} x_{2 8} x_{4 3} + 2.0 x_3 x_{1 7} x_{1 9} x_{2 4} + 4.0 x_{1 5} x_{2 2} x_{3 1} x_{3 7} + 3.0 x_{1 3} x_{1 9} x_{4 1} x_{4 5} + 5.0 x_{2 2} x_{3 1} x_{4 1} x_{4 5} + 4.0 x_{3 4} x_{3 9} x_{4 1} x_{4 5} + 4.0 x_{1 0} x_{1 5} x_{2 2} x_{2 8} x_{3 7} + 2.0 x_1 x_{1 5} x_{3 1} x_{4 4} x_{4 7} + 3.0 x_{1 3} x_{1 8} x_{1 9} x_{2 1} x_{4 7} + 5.0 x_{1 8} x_{2 1} x_{2 2} x_{3 1} x_{4 7} + 3.0 x_5 x_{1 0} x_{2 8} x_{4 1} x_{4 5} + 2.0 x_3 x_{1 5} x_{1 7} x_{2 2} x_{3 7} + 4.0 x_{1 8} x_{2 1} x_{3 4} x_{3 9} x_{4 7} - 2.0 x_{2 2} x_{3 1} x_{3 7} x_{4 1} x_{4 5} + 2.0 x_1 x_{1 0} x_{1 5} x_{2 8} x_{4 4} x_{4 7} + 2.0 x_1 x_{3 1} x_{4 1} x_{4 4} x_{4 5} x_{4 7} - 4.0 x_3 x_{1 7} x_{2 2} x_{3 7} x_{4 1} x_{4 5} - 5.0 x_{1 0} x_{2 2} x_{2 8} x_{3 7} x_{4 1} x_{4 5} + 4.0 x_1 x_3 x_{1 5} x_{1 7} x_{4 4} x_{4 7} + 3.0 x_5 x_{1 0} x_{1 8} x_{2 1} x_{2 8} x_{4 7} + 2.0 x_{4 7}^{2} x_1 x_{1 8} x_{2 1} x_{3 1} x_{4 4} - 2.0 x_{1 8} x_{2 1} x_{2 2} x_{3 1} x_{3 7} x_{4 7} + 4.0 x_{4 7}^{2} x_1 x_3 x_{1 7} x_{1 8} x_{2 1} x_{4 4} + 4.0 x_1 x_3 x_{1 7} x_{4 1} x_{4 4} x_{4 5} x_{4 7} + 5.0 x_1 x_{1 0} x_{2 8} x_{4 1} x_{4 4} x_{4 5} x_{4 7} - 4.0 x_3 x_{1 7} x_{1 8} x_{2 1} x_{2 2} x_{3 7} x_{4 7} + 5.0 x_{4 7}^{2} x_1 x_{1 0} x_{1 8} x_{2 1} x_{2 8} x_{4 4} - 5.0 x_{1 0} x_{1 8} x_{2 1} x_{2 2} x_{2 8} x_{3 7} x_{4 7} \\right) + \\left( 4 x_3 x_{3 1} x_{3 4} + 3 x_{1 6} x_{2 4} x_{2 5} x_{3 0} x_{4 4} x_{5 8} \\right) \\left(  - 3 x_{3 2} - 4 x_{4 1} - x_4 x_6 - x_{3 5} x_{4 2} - 2 x_8 x_{2 7} + 2 x_{2 2} x_{3 1} - x_3 x_8 x_{2 1} + 2 x_5 x_{3 0} x_{3 1} + 4 x_3 x_{1 7} x_{2 2} + 2 x_{1 0} x_{2 2} x_{2 8} + x_6 x_{1 8} x_{2 2} x_{3 1} + 2 x_{2 4} x_{3 1} x_{5 0} + 4 x_3 x_{1 7} x_{2 4} x_{5 0} + 3 x_{2 1}^{2} x_{2 2} x_{3 1} x_{3 3} + 2 x_5 x_{1 0} x_{2 8} x_{3 0} + 2 x_7 x_{1 3} x_{3 1} x_{4 1} + 4 x_{1 5} x_{2 2} x_{3 1} x_{4 1} + 2 x_{1 0} x_{2 4} x_{2 8} x_{5 0} + 3 x_6 x_{1 3} x_{1 8} x_{1 9} + 3 x_{2 1}^{2} x_{1 3} x_{1 9} x_{3 3} + 2 x_6 x_{1 8} x_{3 4} x_{3 9} + 2 x_{1 5} x_{3 4} x_{3 9} x_{4 1} + 4 x_{4 1}^{2} x_{2 2} x_{3 1} x_{4 5} + 2 x_{1 9} x_{2 4} x_{3 1} x_{4 1} + 2 x_{3 3} x_{3 4} x_{3 5} x_{3 9} + 2 x_{4 1}^{2} x_{3 4} x_{3 9} x_{4 5} + 4 x_3 x_5 x_{1 7} x_{3 0} + 4 x_{2 2} x_{3 1} x_{3 3} x_{3 5} + 3 x_5 x_6 x_{1 0} x_{1 8} x_{2 8} + 3 x_{2 1}^{2} x_5 x_{1 0} x_{2 8} x_{3 3} - 4 x_{2 2} x_{3 1} x_{3 3} x_{3 5} x_{3 7} + 2 x_7 x_{1 0} x_{1 3} x_{2 8} x_{4 1} + 2 x_{4 1}^{2} x_{2 2} x_{3 1} x_{3 7} x_{4 5} + 2 x_{1 0} x_{1 9} x_{2 4} x_{2 8} x_{4 1} + 2 x_{1 5} x_{2 2} x_{3 1} x_{3 7} x_{4 1} + 2 x_7 x_{1 3} x_{3 1} x_{3 5} x_{4 2} + 2 x_{1 5} x_{3 4} x_{3 5} x_{3 9} x_{4 2} + 4 x_3 x_7 x_{1 3} x_{1 7} x_{4 1} + 4 x_3 x_{1 7} x_{1 9} x_{2 4} x_{4 1} + 2 x_6 x_{1 8} x_{2 2} x_{3 1} x_{3 7} + 4 x_{1 5} x_{2 2} x_{3 1} x_{3 5} x_{4 2} + 2 x_{1 9} x_{2 4} x_{3 1} x_{3 5} x_{4 2} + 2 x_3 x_8 x_{1 5} x_{2 1} x_{3 4} x_{3 9} + 4 x_3^{2} x_8 x_{1 7} x_{1 9} x_{2 1} x_{2 4} + 4 x_3 x_6 x_{1 7} x_{1 8} x_{2 2} x_{3 7} + x_1 x_6 x_{1 0} x_{1 8} x_{2 8} x_{4 4} x_{4 7} + 3 x_{2 1}^{2} x_{1 0} x_{2 2} x_{2 8} x_{3 3} x_{3 7} + 4 x_{4 1}^{2} x_3 x_{1 7} x_{2 2} x_{3 7} x_{4 5} + 4 x_3^{2} x_7 x_8 x_{1 3} x_{1 7} x_{2 1} + 5 x_{1 0} x_{1 9} x_{2 4} x_{2 8} x_{3 5} x_{4 2} + 2 x_{4 1}^{2} x_{1 0} x_{2 2} x_{2 8} x_{3 7} x_{4 5} + 4 x_1 x_6 x_{1 8} x_{3 1} x_{4 4} x_{4 7} + 4 x_1 x_{3 1} x_{3 3} x_{3 5} x_{4 4} x_{4 7} + 4 x_1 x_{1 5} x_{3 1} x_{4 1} x_{4 4} x_{4 7} + 2 x_3 x_7 x_8 x_{1 3} x_{2 1} x_{3 1} + 2 x_3 x_8 x_{1 9} x_{2 1} x_{2 4} x_{3 1} - 3 x_{1 3} x_{1 9} x_{3 5} x_{4 1} x_{4 2} x_{4 5} + 2 x_{1 5} x_{2 2} x_{3 1} x_{3 5} x_{3 7} x_{4 2} + 4 x_3 x_{1 5} x_{1 7} x_{2 2} x_{3 7} x_{4 1} + 4 x_{4 1}^{2} x_1 x_{3 1} x_{4 4} x_{4 5} x_{4 7} + 3 x_3^{2} x_8 x_{1 0} x_{2 1} x_{2 8} x_{4 3} - 4 x_{3 4} x_{3 5} x_{3 9} x_{4 1} x_{4 2} x_{4 5} + 5 x_7 x_{1 0} x_{1 3} x_{2 8} x_{3 5} x_{4 2} + 2 x_{1 0} x_{2 2} x_{2 8} x_{3 3} x_{3 5} x_{3 7} + 4 x_3 x_8 x_{1 5} x_{2 1} x_{2 2} x_{3 1} + 5 x_6 x_{1 0} x_{1 8} x_{2 2} x_{2 8} x_{3 7} + 3 x_3 x_{1 0} x_{2 8} x_{3 5} x_{4 2} x_{4 3} + 4 x_3 x_7 x_{1 3} x_{1 7} x_{3 5} x_{4 2} + 4 x_3 x_{1 7} x_{1 9} x_{2 4} x_{3 5} x_{4 2} + 2 x_{1 0} x_{1 5} x_{2 2} x_{2 8} x_{3 7} x_{4 1} - 5 x_{2 2} x_{3 1} x_{3 5} x_{4 1} x_{4 2} x_{4 5} + 4 x_{1 8} x_{2 1} x_{2 2} x_{3 1} x_{4 1} x_{4 7} + 4 x_3 x_{1 7} x_{2 2} x_{3 3} x_{3 5} x_{3 7} + 2 x_{1 8} x_{2 1} x_{3 4} x_{3 9} x_{4 1} x_{4 7} - 4 x_{2 1}^{2} x_3 x_8 x_{1 8} x_{3 4} x_{3 9} x_{4 7} - 5 x_{2 1}^{2} x_3 x_8 x_{1 8} x_{2 2} x_{3 1} x_{4 7} + 4 x_1 x_{1 0} x_{1 5} x_{2 8} x_{4 1} x_{4 4} x_{4 7} + 2 x_3 x_8 x_{1 5} x_{2 1} x_{2 2} x_{3 1} x_{3 7} + 2 x_{1 0} x_{1 5} x_{2 2} x_{2 8} x_{3 5} x_{3 7} x_{4 2} + 4 x_{4 7}^{2} x_1 x_{1 8} x_{2 1} x_{3 1} x_{4 1} x_{4 4} + 4 x_3^{2} x_8 x_{1 5} x_{1 7} x_{2 1} x_{2 2} x_{3 7} + 4 x_3 x_{1 5} x_{1 7} x_{2 2} x_{3 5} x_{3 7} x_{4 2} - 4 x_{1 8} x_{2 1} x_{3 4} x_{3 5} x_{3 9} x_{4 2} x_{4 7} + 2 x_{2 2} x_{3 1} x_{3 5} x_{3 7} x_{4 1} x_{4 2} x_{4 5} + 4 x_{4 1}^{2} x_1 x_{1 0} x_{2 8} x_{4 4} x_{4 5} x_{4 7} + 3 x_5 x_{1 0} x_{2 8} x_{3 5} x_{4 1} x_{4 2} x_{4 5} + 2 x_1 x_3 x_6 x_{1 7} x_{1 8} x_{4 4} x_{4 7} + 2 x_1 x_3 x_{1 7} x_{3 3} x_{3 5} x_{4 4} x_{4 7} + 5 x_3 x_8 x_{1 0} x_{1 9} x_{2 1} x_{2 4} x_{2 8} - 5 x_3 x_8 x_{2 1} x_{2 2} x_{3 1} x_{4 1} x_{4 5} + 2 x_{1 8} x_{2 1} x_{2 2} x_{3 1} x_{3 7} x_{4 1} x_{4 7} + 3 x_{2 1}^{2} x_1 x_{1 0} x_{2 8} x_{3 3} x_{4 4} x_{4 7} + 2 x_{4 1}^{2} x_1 x_3 x_{1 7} x_{4 4} x_{4 5} x_{4 7} - 3 x_{2 1}^{2} x_3 x_8 x_{1 3} x_{1 8} x_{1 9} x_{4 7} + 4 x_1 x_{1 5} x_{3 1} x_{3 5} x_{4 2} x_{4 4} x_{4 7} - 3 x_3 x_8 x_{1 3} x_{1 9} x_{2 1} x_{4 1} x_{4 5} - 4 x_3 x_8 x_{2 1} x_{3 4} x_{3 9} x_{4 1} x_{4 5} + 5 x_3 x_7 x_8 x_{1 0} x_{1 3} x_{2 1} x_{2 8} - 3 x_{1 3} x_{1 8} x_{1 9} x_{2 1} x_{3 5} x_{4 2} x_{4 7} - 5 x_{1 8} x_{2 1} x_{2 2} x_{3 1} x_{3 5} x_{4 2} x_{4 7} + 4 x_1 x_{1 0} x_{2 8} x_{3 3} x_{3 5} x_{4 4} x_{4 7} + 2 x_1 x_3 x_{1 5} x_{1 7} x_{4 1} x_{4 4} x_{4 7} + 2 x_{4 7}^{2} x_{2 1}^{2} x_3^{2} x_1 x_8 x_{1 7} x_{1 8} x_{4 4} + 2 x_{4 7}^{2} x_1 x_3 x_{1 7} x_{1 8} x_{2 1} x_{4 1} x_{4 4} + 4 x_3^{2} x_8 x_{1 7} x_{2 1} x_{2 2} x_{3 7} x_{4 1} x_{4 5} + 4 x_{4 7}^{2} x_{2 1}^{2} x_1 x_3 x_8 x_{1 8} x_{3 1} x_{4 4} + 4 x_{4 7}^{2} x_1 x_{1 0} x_{1 8} x_{2 1} x_{2 8} x_{4 1} x_{4 4} + 2 x_3 x_8 x_{2 1} x_{2 2} x_{3 1} x_{3 7} x_{4 1} x_{4 5} + 4 x_3 x_{1 7} x_{2 2} x_{3 5} x_{3 7} x_{4 1} x_{4 2} x_{4 5} + 5 x_{1 0} x_{2 2} x_{2 8} x_{3 5} x_{3 7} x_{4 1} x_{4 2} x_{4 5} + 4 x_1 x_3 x_8 x_{1 5} x_{2 1} x_{3 1} x_{4 4} x_{4 7} + 2 x_1 x_3 x_{1 5} x_{1 7} x_{3 5} x_{4 2} x_{4 4} x_{4 7} + 3 x_{2 1}^{2} x_3 x_5 x_8 x_{1 0} x_{1 8} x_{2 8} x_{4 7} + 4 x_{2 1}^{2} x_3^{2} x_8 x_{1 7} x_{1 8} x_{2 2} x_{3 7} x_{4 7} + 2 x_{2 1}^{2} x_3 x_8 x_{1 8} x_{2 2} x_{3 1} x_{3 7} x_{4 7} + 4 x_1 x_{1 0} x_{1 5} x_{2 8} x_{3 5} x_{4 2} x_{4 4} x_{4 7} + 4 x_1 x_{3 1} x_{3 5} x_{4 1} x_{4 2} x_{4 4} x_{4 5} x_{4 7} + x_{4 7}^{2} x_{2 1}^{2} x_1 x_3 x_8 x_{1 0} x_{1 8} x_{2 8} x_{4 4} + 2 x_3 x_8 x_{1 0} x_{1 5} x_{2 1} x_{2 2} x_{2 8} x_{3 7} + x_{4 7}^{2} x_1 x_{1 0} x_{1 8} x_{2 1} x_{2 8} x_{3 5} x_{4 2} x_{4 4} + 4 x_{4 7}^{2} x_1 x_{1 8} x_{2 1} x_{3 1} x_{3 5} x_{4 2} x_{4 4} + 2 x_{1 0} x_{1 8} x_{2 1} x_{2 2} x_{2 8} x_{3 7} x_{4 1} x_{4 7} + x_1 x_{1 0} x_{2 8} x_{3 5} x_{4 1} x_{4 2} x_{4 4} x_{4 5} x_{4 7} + 2 x_{1 8} x_{2 1} x_{2 2} x_{3 1} x_{3 5} x_{3 7} x_{4 2} x_{4 7} + 3 x_3 x_5 x_8 x_{1 0} x_{2 1} x_{2 8} x_{4 1} x_{4 5} + 4 x_3 x_{1 7} x_{1 8} x_{2 1} x_{2 2} x_{3 7} x_{4 1} x_{4 7} + 2 x_3^{2} x_1 x_8 x_{1 5} x_{1 7} x_{2 1} x_{4 4} x_{4 7} + 3 x_5 x_{1 0} x_{1 8} x_{2 1} x_{2 8} x_{3 5} x_{4 2} x_{4 7} + 4 x_1 x_3 x_8 x_{1 0} x_{1 5} x_{2 1} x_{2 8} x_{4 4} x_{4 7} + 5 x_3 x_8 x_{1 0} x_{2 1} x_{2 2} x_{2 8} x_{3 7} x_{4 1} x_{4 5} + 2 x_{4 7}^{2} x_1 x_3 x_{1 7} x_{1 8} x_{2 1} x_{3 5} x_{4 2} x_{4 4} + x_1 x_3 x_8 x_{1 0} x_{2 1} x_{2 8} x_{4 1} x_{4 4} x_{4 5} x_{4 7} + 4 x_3 x_{1 7} x_{1 8} x_{2 1} x_{2 2} x_{3 5} x_{3 7} x_{4 2} x_{4 7} + 5 x_{1 0} x_{1 8} x_{2 1} x_{2 2} x_{2 8} x_{3 5} x_{3 7} x_{4 2} x_{4 7} + 2 x_3^{2} x_1 x_8 x_{1 7} x_{2 1} x_{4 1} x_{4 4} x_{4 5} x_{4 7} + 2 x_1 x_3 x_{1 7} x_{3 5} x_{4 1} x_{4 2} x_{4 4} x_{4 5} x_{4 7} + 4 x_1 x_3 x_8 x_{2 1} x_{3 1} x_{4 1} x_{4 4} x_{4 5} x_{4 7} + 5 x_{2 1}^{2} x_3 x_8 x_{1 0} x_{1 8} x_{2 2} x_{2 8} x_{3 7} x_{4 7} \\right) \\\\\n",
       "\\end{array}\n",
       "\\right]\n",
       "\\end{equation}\n",
       " $$"
      ],
      "text/plain": [
       "1×4 Matrix{Num}:\n",
       " (3x[16]*x[25]*x[35]*x[43]*x[44]*x[58] + 4x[3]*x[9]*x[20]*x[29]*x[31]*x[34]*x[43]*x[52]*x[57])*(-4x[15] - x[41]*x[45] - x[18]*x[21]*x[47]) + (4x[3]*x[31]*x[34] + 3x[16]*x[24]*x[25]*x[30]*x[44]*x[58])*(4(x[41]^2)*x[45] + 4x[15]*x[41] + 4x[15]*x[35]*x[42] + x[35]*x[41]*x[42]*x[45] + 4x[3]*x[8]*x[15]*x[21] + (x[21]^2)*x[3]*x[8]*x[18]*x[47] + x[3]*x[8]*x[21]*x[41]*x[45] + 4x[18]*x[21]*x[41]*x[47] + x[18]*x[21]*x[35]*x[42]*x[47] - 2x[33]*x[35] - 5x[6]*x[18] - 3(x[21]^2)*x[33]) + 4x[43]*x[52] + 3x[2]*x[16]*x[24]*x[39]*x[44]*x[58]  …  (4x[43]*x[52] + 3x[2]*x[16]*x[24]*x[39]*x[44]*x[58])*(2x[22]*x[31]*x[37] + 3x[5]*x[10]*x[28] + 4x[1]*x[31]*x[44]*x[47] + 4x[3]*x[17]*x[22]*x[37] + 5x[10]*x[22]*x[28]*x[37] + x[1]*x[10]*x[28]*x[44]*x[47] + 2x[1]*x[3]*x[17]*x[44]*x[47] - 3x[13]*x[19] - 4x[34]*x[39] - 5x[22]*x[31]) + (3x[16]*x[25]*x[35]*x[43]*x[44]*x[58] + 4x[3]*x[9]*x[20]*x[29]*x[31]*x[34]*x[43]*x[52]*x[57])*(2.0x[15]*x[22]*x[31] + 4.0x[7]*x[13]*x[31] + 4.0x[19]*x[24]*x[31] + x[7]*x[10]*x[13]*x[28] + x[10]*x[19]*x[24]*x[28] + 4.0x[15]*x[34]*x[39] + 2.0x[3]*x[7]*x[13]*x[17] + 3.0x[3]*x[10]*x[28]*x[43] + 2.0x[3]*x[17]*x[19]*x[24] + 4.0x[15]*x[22]*x[31]*x[37] + 3.0x[13]*x[19]*x[41]*x[45] + 5.0x[22]*x[31]*x[41]*x[45] + 4.0x[34]*x[39]*x[41]*x[45] + 4.0x[10]*x[15]*x[22]*x[28]*x[37] + 2.0x[1]*x[15]*x[31]*x[44]*x[47] + 3.0x[13]*x[18]*x[19]*x[21]*x[47] + 5.0x[18]*x[21]*x[22]*x[31]*x[47] + 3.0x[5]*x[10]*x[28]*x[41]*x[45] + 2.0x[3]*x[15]*x[17]*x[22]*x[37] + 4.0x[18]*x[21]*x[34]*x[39]*x[47] + 2.0x[1]*x[10]*x[15]*x[28]*x[44]*x[47] + 2.0x[1]*x[31]*x[41]*x[44]*x[45]*x[47] + 4.0x[1]*x[3]*x[15]*x[17]*x[44]*x[47] + 3.0x[5]*x[10]*x[18]*x[21]*x[28]*x[47] + 2.0(x[47]^2)*x[1]*x[18]*x[21]*x[31]*x[44] + 4.0(x[47]^2)*x[1]*x[3]*x[17]*x[18]*x[21]*x[44] + 4.0x[1]*x[3]*x[17]*x[41]*x[44]*x[45]*x[47] + 5.0x[1]*x[10]*x[28]*x[41]*x[44]*x[45]*x[47] + 5.0(x[47]^2)*x[1]*x[10]*x[18]*x[21]*x[28]*x[44] - 2.0x[22]*x[31]*x[37]*x[41]*x[45] - 4.0x[3]*x[17]*x[22]*x[37]*x[41]*x[45] - 5.0x[10]*x[22]*x[28]*x[37]*x[41]*x[45] - 2.0x[18]*x[21]*x[22]*x[31]*x[37]*x[47] - 4.0x[3]*x[17]*x[18]*x[21]*x[22]*x[37]*x[47] - 5.0x[10]*x[18]*x[21]*x[22]*x[28]*x[37]*x[47]) + (4x[3]*x[31]*x[34] + 3x[16]*x[24]*x[25]*x[30]*x[44]*x[58])*(2x[22]*x[31] + 2x[5]*x[30]*x[31] + 4x[3]*x[17]*x[22] + 2x[10]*x[22]*x[28] + x[6]*x[18]*x[22]*x[31] + 2x[24]*x[31]*x[50] + 4x[3]*x[17]*x[24]*x[50] + 3(x[21]^2)*x[22]*x[31]*x[33] + 2x[5]*x[10]*x[28]*x[30] + 2x[7]*x[13]*x[31]*x[41] + 4x[15]*x[22]*x[31]*x[41] + 2x[10]*x[24]*x[28]*x[50] + 3x[6]*x[13]*x[18]*x[19] + 3(x[21]^2)*x[13]*x[19]*x[33] + 2x[6]*x[18]*x[34]*x[39] + 2x[15]*x[34]*x[39]*x[41] + 4(x[41]^2)*x[22]*x[31]*x[45] + 2x[19]*x[24]*x[31]*x[41] + 2x[33]*x[34]*x[35]*x[39] + 2(x[41]^2)*x[34]*x[39]*x[45] + 4x[3]*x[5]*x[17]*x[30] + 4x[22]*x[31]*x[33]*x[35] + 3x[5]*x[6]*x[10]*x[18]*x[28] + 3(x[21]^2)*x[5]*x[10]*x[28]*x[33] + 2x[7]*x[10]*x[13]*x[28]*x[41] + 2(x[41]^2)*x[22]*x[31]*x[37]*x[45] + 2x[10]*x[19]*x[24]*x[28]*x[41] + 2x[15]*x[22]*x[31]*x[37]*x[41] + 2x[7]*x[13]*x[31]*x[35]*x[42] + 2x[15]*x[34]*x[35]*x[39]*x[42] + 4x[3]*x[7]*x[13]*x[17]*x[41] + 4x[3]*x[17]*x[19]*x[24]*x[41] + 2x[6]*x[18]*x[22]*x[31]*x[37] + 4x[15]*x[22]*x[31]*x[35]*x[42] + 2x[19]*x[24]*x[31]*x[35]*x[42] + 2x[3]*x[8]*x[15]*x[21]*x[34]*x[39] + 4(x[3]^2)*x[8]*x[17]*x[19]*x[21]*x[24] + 4x[3]*x[6]*x[17]*x[18]*x[22]*x[37] + x[1]*x[6]*x[10]*x[18]*x[28]*x[44]*x[47] + 3(x[21]^2)*x[10]*x[22]*x[28]*x[33]*x[37] + 4(x[41]^2)*x[3]*x[17]*x[22]*x[37]*x[45] + 4(x[3]^2)*x[7]*x[8]*x[13]*x[17]*x[21] + 5x[10]*x[19]*x[24]*x[28]*x[35]*x[42] + 2(x[41]^2)*x[10]*x[22]*x[28]*x[37]*x[45] + 4x[1]*x[6]*x[18]*x[31]*x[44]*x[47] + 4x[1]*x[31]*x[33]*x[35]*x[44]*x[47] + 4x[1]*x[15]*x[31]*x[41]*x[44]*x[47] + 2x[3]*x[7]*x[8]*x[13]*x[21]*x[31] + 2x[3]*x[8]*x[19]*x[21]*x[24]*x[31] + 2x[15]*x[22]*x[31]*x[35]*x[37]*x[42] + 4x[3]*x[15]*x[17]*x[22]*x[37]*x[41] + 4(x[41]^2)*x[1]*x[31]*x[44]*x[45]*x[47] + 3(x[3]^2)*x[8]*x[10]*x[21]*x[28]*x[43] + 5x[7]*x[10]*x[13]*x[28]*x[35]*x[42] + 2x[10]*x[22]*x[28]*x[33]*x[35]*x[37] + 4x[3]*x[8]*x[15]*x[21]*x[22]*x[31] + 5x[6]*x[10]*x[18]*x[22]*x[28]*x[37] + 3x[3]*x[10]*x[28]*x[35]*x[42]*x[43] + 4x[3]*x[7]*x[13]*x[17]*x[35]*x[42] + 4x[3]*x[17]*x[19]*x[24]*x[35]*x[42] + 2x[10]*x[15]*x[22]*x[28]*x[37]*x[41] + 4x[18]*x[21]*x[22]*x[31]*x[41]*x[47] + 4x[3]*x[17]*x[22]*x[33]*x[35]*x[37] + 2x[18]*x[21]*x[34]*x[39]*x[41]*x[47] + 4x[1]*x[10]*x[15]*x[28]*x[41]*x[44]*x[47] + 2x[3]*x[8]*x[15]*x[21]*x[22]*x[31]*x[37] + 2x[10]*x[15]*x[22]*x[28]*x[35]*x[37]*x[42] + 4(x[47]^2)*x[1]*x[18]*x[21]*x[31]*x[41]*x[44] + 4(x[3]^2)*x[8]*x[15]*x[17]*x[21]*x[22]*x[37] + 4x[3]*x[15]*x[17]*x[22]*x[35]*x[37]*x[42] + 2x[22]*x[31]*x[35]*x[37]*x[41]*x[42]*x[45] + 4(x[41]^2)*x[1]*x[10]*x[28]*x[44]*x[45]*x[47] + 3x[5]*x[10]*x[28]*x[35]*x[41]*x[42]*x[45] + 2x[1]*x[3]*x[6]*x[17]*x[18]*x[44]*x[47] + 2x[1]*x[3]*x[17]*x[33]*x[35]*x[44]*x[47] + 5x[3]*x[8]*x[10]*x[19]*x[21]*x[24]*x[28] + 2x[18]*x[21]*x[22]*x[31]*x[37]*x[41]*x[47] + 3(x[21]^2)*x[1]*x[10]*x[28]*x[33]*x[44]*x[47] + 2(x[41]^2)*x[1]*x[3]*x[17]*x[44]*x[45]*x[47] + 4x[1]*x[15]*x[31]*x[35]*x[42]*x[44]*x[47] + 5x[3]*x[7]*x[8]*x[10]*x[13]*x[21]*x[28] + 4x[1]*x[10]*x[28]*x[33]*x[35]*x[44]*x[47] + 2x[1]*x[3]*x[15]*x[17]*x[41]*x[44]*x[47] + 2(x[3]^2)*(x[21]^2)*(x[47]^2)*x[1]*x[8]*x[17]*x[18]*x[44] + 2(x[47]^2)*x[1]*x[3]*x[17]*x[18]*x[21]*x[41]*x[44] + 4(x[3]^2)*x[8]*x[17]*x[21]*x[22]*x[37]*x[41]*x[45] + 4(x[21]^2)*(x[47]^2)*x[1]*x[3]*x[8]*x[18]*x[31]*x[44] + 4(x[47]^2)*x[1]*x[10]*x[18]*x[21]*x[28]*x[41]*x[44] + 2x[3]*x[8]*x[21]*x[22]*x[31]*x[37]*x[41]*x[45] + 4x[3]*x[17]*x[22]*x[35]*x[37]*x[41]*x[42]*x[45] + 5x[10]*x[22]*x[28]*x[35]*x[37]*x[41]*x[42]*x[45] + 4x[1]*x[3]*x[8]*x[15]*x[21]*x[31]*x[44]*x[47] + 2x[1]*x[3]*x[15]*x[17]*x[35]*x[42]*x[44]*x[47] + 3(x[21]^2)*x[3]*x[5]*x[8]*x[10]*x[18]*x[28]*x[47] + 4(x[3]^2)*(x[21]^2)*x[8]*x[17]*x[18]*x[22]*x[37]*x[47] + 2(x[21]^2)*x[3]*x[8]*x[18]*x[22]*x[31]*x[37]*x[47] + 4x[1]*x[10]*x[15]*x[28]*x[35]*x[42]*x[44]*x[47] + 4x[1]*x[31]*x[35]*x[41]*x[42]*x[44]*x[45]*x[47] + (x[21]^2)*(x[47]^2)*x[1]*x[3]*x[8]*x[10]*x[18]*x[28]*x[44] + 2x[3]*x[8]*x[10]*x[15]*x[21]*x[22]*x[28]*x[37] + (x[47]^2)*x[1]*x[10]*x[18]*x[21]*x[28]*x[35]*x[42]*x[44] + 4(x[47]^2)*x[1]*x[18]*x[21]*x[31]*x[35]*x[42]*x[44] + 2x[10]*x[18]*x[21]*x[22]*x[28]*x[37]*x[41]*x[47] + x[1]*x[10]*x[28]*x[35]*x[41]*x[42]*x[44]*x[45]*x[47] + 2x[18]*x[21]*x[22]*x[31]*x[35]*x[37]*x[42]*x[47] + 3x[3]*x[5]*x[8]*x[10]*x[21]*x[28]*x[41]*x[45] + 4x[3]*x[17]*x[18]*x[21]*x[22]*x[37]*x[41]*x[47] + 2(x[3]^2)*x[1]*x[8]*x[15]*x[17]*x[21]*x[44]*x[47] + 3x[5]*x[10]*x[18]*x[21]*x[28]*x[35]*x[42]*x[47] + 4x[1]*x[3]*x[8]*x[10]*x[15]*x[21]*x[28]*x[44]*x[47] + 5x[3]*x[8]*x[10]*x[21]*x[22]*x[28]*x[37]*x[41]*x[45] + 2(x[47]^2)*x[1]*x[3]*x[17]*x[18]*x[21]*x[35]*x[42]*x[44] + x[1]*x[3]*x[8]*x[10]*x[21]*x[28]*x[41]*x[44]*x[45]*x[47] + 4x[3]*x[17]*x[18]*x[21]*x[22]*x[35]*x[37]*x[42]*x[47] + 5x[10]*x[18]*x[21]*x[22]*x[28]*x[35]*x[37]*x[42]*x[47] + 2(x[3]^2)*x[1]*x[8]*x[17]*x[21]*x[41]*x[44]*x[45]*x[47] + 2x[1]*x[3]*x[17]*x[35]*x[41]*x[42]*x[44]*x[45]*x[47] + 4x[1]*x[3]*x[8]*x[21]*x[31]*x[41]*x[44]*x[45]*x[47] + 5(x[21]^2)*x[3]*x[8]*x[10]*x[18]*x[22]*x[28]*x[37]*x[47] - 3x[32] - 4x[41] - x[4]*x[6] - x[35]*x[42] - 2x[8]*x[27] - x[3]*x[8]*x[21] - 4x[22]*x[31]*x[33]*x[35]*x[37] - 3x[13]*x[19]*x[35]*x[41]*x[42]*x[45] - 4x[34]*x[35]*x[39]*x[41]*x[42]*x[45] - 5x[22]*x[31]*x[35]*x[41]*x[42]*x[45] - 4(x[21]^2)*x[3]*x[8]*x[18]*x[34]*x[39]*x[47] - 5(x[21]^2)*x[3]*x[8]*x[18]*x[22]*x[31]*x[47] - 4x[18]*x[21]*x[34]*x[35]*x[39]*x[42]*x[47] - 5x[3]*x[8]*x[21]*x[22]*x[31]*x[41]*x[45] - 3(x[21]^2)*x[3]*x[8]*x[13]*x[18]*x[19]*x[47] - 3x[3]*x[8]*x[13]*x[19]*x[21]*x[41]*x[45] - 4x[3]*x[8]*x[21]*x[34]*x[39]*x[41]*x[45] - 3x[13]*x[18]*x[19]*x[21]*x[35]*x[42]*x[47] - 5x[18]*x[21]*x[22]*x[31]*x[35]*x[42]*x[47])"
      ]
     },
     "execution_count": 255,
     "metadata": {},
     "output_type": "execute_result"
    }
   ],
   "source": [
    "V"
   ]
  },
  {
   "cell_type": "code",
   "execution_count": 260,
   "id": "17b9bc98",
   "metadata": {},
   "outputs": [
    {
     "data": {
      "text/latex": [
       "$$ \\begin{equation}\n",
       "\\left[\n",
       "\\begin{array}{cccc}\n",
       "4 x_{4 3} x_{5 2} + 4 x_3 x_{3 1} x_{3 3} x_{3 4} x_{3 5} + 4 x_{4 1}^{2} x_3 x_{3 1} x_{3 4} x_{4 5} + 4 x_3 x_6 x_{1 8} x_{3 1} x_{3 4} + 4 x_3 x_{1 5} x_{3 1} x_{3 4} x_{4 1} + 4 x_3^{2} x_8 x_{1 5} x_{2 1} x_{3 1} x_{3 4} + 4 x_3 x_{1 5} x_{3 1} x_{3 4} x_{3 5} x_{4 2} + 3 x_2 x_{1 6} x_{2 4} x_{3 9} x_{4 4} x_{5 8} + 4 x_3^{2} x_8 x_{2 1} x_{3 1} x_{3 4} x_{4 1} x_{4 5} + 4 x_3 x_{1 8} x_{2 1} x_{3 1} x_{3 4} x_{4 1} x_{4 7} + 4 x_3 x_{3 1} x_{3 4} x_{3 5} x_{4 1} x_{4 2} x_{4 5} + 4 x_{2 1}^{2} x_3^{2} x_8 x_{1 8} x_{3 1} x_{3 4} x_{4 7} + 4 x_3 x_{1 8} x_{2 1} x_{3 1} x_{3 4} x_{3 5} x_{4 2} x_{4 7} + 3 x_{2 1}^{2} x_{1 6} x_{2 4} x_{2 5} x_{3 0} x_{3 3} x_{4 4} x_{5 8} + 3 x_6 x_{1 6} x_{1 8} x_{2 4} x_{2 5} x_{3 0} x_{4 4} x_{5 8} - 3 x_{1 6} x_{2 5} x_{3 5} x_{4 1} x_{4 3} x_{4 4} x_{4 5} x_{5 8} - 3 x_{1 6} x_{1 8} x_{2 1} x_{2 5} x_{3 5} x_{4 3} x_{4 4} x_{4 7} x_{5 8} + 2 x_3 x_9 x_{1 5} x_{2 0} x_{2 9} x_{3 1} x_{3 4} x_{4 3} x_{5 2} x_{5 7} + 3 x_{1 6} x_{2 4} x_{2 5} x_{3 0} x_{3 5} x_{4 1} x_{4 2} x_{4 4} x_{4 5} x_{5 8} + 3 x_{2 1}^{2} x_3 x_8 x_{1 6} x_{1 8} x_{2 4} x_{2 5} x_{3 0} x_{4 4} x_{4 7} x_{5 8} + 3 x_3 x_8 x_{1 6} x_{2 1} x_{2 4} x_{2 5} x_{3 0} x_{4 1} x_{4 4} x_{4 5} x_{5 8} + 3 x_{1 6} x_{1 8} x_{2 1} x_{2 4} x_{2 5} x_{3 0} x_{3 5} x_{4 2} x_{4 4} x_{4 7} x_{5 8} - 4 x_3 x_9 x_{2 0} x_{2 9} x_{3 1} x_{3 4} x_{4 1} x_{4 3} x_{4 5} x_{5 2} x_{5 7} - 4 x_3 x_9 x_{1 8} x_{2 0} x_{2 1} x_{2 9} x_{3 1} x_{3 4} x_{4 3} x_{4 7} x_{5 2} x_{5 7} & 2 x_3 x_{2 2} x_{3 1} x_{3 4} - 4 x_{2 2} x_{3 7} x_{4 3} x_{5 2} + 2 x_3 x_5 x_{3 0} x_{3 1} x_{3 4} + 2 x_3 x_{2 4} x_{3 1} x_{3 4} x_{5 0} + 2 x_{1 3} x_{1 9} x_{2 6} x_{4 3} x_{5 2} - 4 x_{3 5} x_{3 6} x_{4 3} x_{4 4} x_{5 2} + 4 x_{1 4} x_{4 0} x_{4 3} x_{4 7} x_{5 2} + 4 x_1 x_{4 3} x_{4 4} x_{4 7} x_{5 2} + 2 x_3 x_7 x_{1 3} x_{3 1} x_{3 4} x_{4 1} + 2 x_3 x_{1 9} x_{2 4} x_{3 1} x_{3 4} x_{4 1} + 2 x_3^{2} x_7 x_8 x_{1 3} x_{2 1} x_{3 1} x_{3 4} + 2 x_{4 1}^{2} x_3 x_{2 2} x_{3 1} x_{3 4} x_{3 7} x_{4 5} + 2 x_3^{2} x_8 x_{1 9} x_{2 1} x_{2 4} x_{3 1} x_{3 4} + 2 x_3 x_{1 9} x_{2 4} x_{3 1} x_{3 4} x_{3 5} x_{4 2} + 3 x_{4 3}^{2} x_3 x_{1 6} x_{2 5} x_{3 5} x_{4 4} x_{5 8} + 2 x_3 x_6 x_{1 8} x_{2 2} x_{3 1} x_{3 4} x_{3 7} + 2 x_{3 5}^{2} x_3 x_{3 1} x_{3 3} x_{3 4} x_{3 6} x_{4 4} + 2 x_3 x_7 x_{1 3} x_{3 1} x_{3 4} x_{3 5} x_{4 2} + 2 x_3 x_{2 2} x_{3 1} x_{3 3} x_{3 4} x_{3 5} x_{3 7} + 3 x_2 x_5 x_{1 6} x_{2 4} x_{3 9} x_{4 4} x_{5 8} + 2 x_3 x_{1 5} x_{2 2} x_{3 1} x_{3 4} x_{3 7} x_{4 1} + 2 x_{4 1}^{2} x_3 x_{1 3} x_{1 9} x_{2 6} x_{3 1} x_{3 4} x_{4 5} + 4 x_{4 1}^{2} x_3 x_{1 4} x_{3 1} x_{3 4} x_{4 0} x_{4 5} x_{4 7} + 4 x_3 x_6 x_{1 4} x_{1 8} x_{3 1} x_{3 4} x_{4 0} x_{4 7} + 2 x_{3 5}^{2} x_3 x_{1 5} x_{3 1} x_{3 4} x_{3 6} x_{4 2} x_{4 4} + 4 x_1 x_3 x_{1 5} x_{3 1} x_{3 4} x_{4 1} x_{4 4} x_{4 7} + 4 x_{4 1}^{2} x_1 x_3 x_{3 1} x_{3 4} x_{4 4} x_{4 5} x_{4 7} + 4 x_3 x_{1 4} x_{3 1} x_{3 3} x_{3 4} x_{3 5} x_{4 0} x_{4 7} + 2 x_3 x_{1 5} x_{3 1} x_{3 4} x_{3 5} x_{3 6} x_{4 1} x_{4 4} + 3 x_{4 4}^{2} x_1 x_2 x_{1 6} x_{2 4} x_{3 9} x_{4 7} x_{5 8} + 2 x_{4 1}^{2} x_3 x_{3 1} x_{3 4} x_{3 5} x_{3 6} x_{4 4} x_{4 5} + 2 x_3 x_{1 3} x_{1 9} x_{2 6} x_{3 1} x_{3 3} x_{3 4} x_{3 5} + 2 x_3^{2} x_8 x_{1 5} x_{2 1} x_{2 2} x_{3 1} x_{3 4} x_{3 7} + 4 x_3 x_{1 4} x_{1 5} x_{3 1} x_{3 4} x_{4 0} x_{4 1} x_{4 7} - 3 x_{4 4}^{2} x_2 x_{1 6} x_{2 4} x_{3 5} x_{3 6} x_{3 9} x_{5 8} + 4 x_1 x_3 x_{3 1} x_{3 3} x_{3 4} x_{3 5} x_{4 4} x_{4 7} - 3 x_2 x_{1 6} x_{2 2} x_{2 4} x_{3 7} x_{3 9} x_{4 4} x_{5 8} + 2 x_3 x_6 x_{1 3} x_{1 8} x_{1 9} x_{2 6} x_{3 1} x_{3 4} + 2 x_3 x_{1 3} x_{1 5} x_{1 9} x_{2 6} x_{3 1} x_{3 4} x_{4 1} + 3 x_7 x_{1 3} x_{1 6} x_{2 5} x_{3 5} x_{4 3} x_{4 4} x_{5 8} + 3 x_{1 6} x_{1 9} x_{2 4} x_{2 5} x_{3 5} x_{4 3} x_{4 4} x_{5 8} + 2 x_3 x_6 x_{1 8} x_{3 1} x_{3 4} x_{3 5} x_{3 6} x_{4 4} + 2 x_3 x_{1 5} x_{2 2} x_{3 1} x_{3 4} x_{3 5} x_{3 7} x_{4 2} + 4 x_1 x_3 x_6 x_{1 8} x_{3 1} x_{3 4} x_{4 4} x_{4 7} + 4 x_{4 7}^{2} x_{2 1}^{2} x_3^{2} x_8 x_{1 4} x_{1 8} x_{3 1} x_{3 4} x_{4 0} + 4 x_3^{2} x_1 x_8 x_{1 5} x_{2 1} x_{3 1} x_{3 4} x_{4 4} x_{4 7} + 4 x_{4 7}^{2} x_3 x_{1 4} x_{1 8} x_{2 1} x_{3 1} x_{3 4} x_{4 0} x_{4 1} + 4 x_{4 7}^{2} x_1 x_3 x_{1 8} x_{2 1} x_{3 1} x_{3 4} x_{4 1} x_{4 4} + 2 x_3^{2} x_8 x_{1 5} x_{2 1} x_{3 1} x_{3 4} x_{3 5} x_{3 6} x_{4 4} + 2 x_3 x_{1 3} x_{1 5} x_{1 9} x_{2 6} x_{3 1} x_{3 4} x_{3 5} x_{4 2} - 4 x_3 x_{2 2} x_{3 1} x_{3 4} x_{3 5} x_{3 7} x_{4 1} x_{4 2} x_{4 5} + 3 x_{4 4}^{2} x_{3 5}^{2} x_{1 6} x_{2 5} x_{3 6} x_{4 1} x_{4 3} x_{4 5} x_{5 8} + 3 x_{2 1}^{2} x_5 x_{1 6} x_{2 4} x_{2 5} x_{3 0} x_{3 3} x_{4 4} x_{5 8} + 3 x_5 x_{1 6} x_{2 5} x_{3 5} x_{4 1} x_{4 3} x_{4 4} x_{4 5} x_{5 8} + 4 x_3^{2} x_8 x_{1 4} x_{1 5} x_{2 1} x_{3 1} x_{3 4} x_{4 0} x_{4 7} - 4 x_{3 5}^{2} x_3 x_{3 1} x_{3 4} x_{3 6} x_{4 1} x_{4 2} x_{4 4} x_{4 5} - 4 x_3^{2} x_8 x_{2 1} x_{2 2} x_{3 1} x_{3 4} x_{3 7} x_{4 1} x_{4 5} + 3 x_2 x_{1 4} x_{1 6} x_{2 4} x_{3 9} x_{4 0} x_{4 4} x_{4 7} x_{5 8} + 3 x_5 x_6 x_{1 6} x_{1 8} x_{2 4} x_{2 5} x_{3 0} x_{4 4} x_{5 8} + 4 x_{4 7}^{2} x_{2 1}^{2} x_3^{2} x_1 x_8 x_{1 8} x_{3 1} x_{3 4} x_{4 4} - 4 x_{2 1}^{2} x_3^{2} x_8 x_{1 8} x_{2 2} x_{3 1} x_{3 4} x_{3 7} x_{4 7} + 4 x_3 x_{1 4} x_{1 5} x_{3 1} x_{3 4} x_{3 5} x_{4 0} x_{4 2} x_{4 7} + 3 x_{2 4}^{2} x_{1 6} x_{1 9} x_{2 5} x_{3 0} x_{3 5} x_{4 2} x_{4 4} x_{5 8} + 4 x_1 x_3 x_{1 5} x_{3 1} x_{3 4} x_{3 5} x_{4 2} x_{4 4} x_{4 7} + 2 x_3^{2} x_8 x_{1 3} x_{1 5} x_{1 9} x_{2 1} x_{2 6} x_{3 1} x_{3 4} + 2 x_3 x_{1 8} x_{2 1} x_{2 2} x_{3 1} x_{3 4} x_{3 7} x_{4 1} x_{4 7} + 3 x_{4 4}^{2} x_{2 1}^{2} x_1 x_{1 6} x_{2 4} x_{2 5} x_{3 0} x_{3 3} x_{4 7} x_{5 8} + 4 x_{4 7}^{2} x_3 x_{1 4} x_{1 8} x_{2 1} x_{3 1} x_{3 4} x_{3 5} x_{4 0} x_{4 2} - 4 x_3 x_{1 8} x_{2 1} x_{2 2} x_{3 1} x_{3 4} x_{3 5} x_{3 7} x_{4 2} x_{4 7} + 4 x_1 x_3 x_{3 1} x_{3 4} x_{3 5} x_{4 1} x_{4 2} x_{4 4} x_{4 5} x_{4 7} + 2 x_3 x_{1 8} x_{2 1} x_{3 1} x_{3 4} x_{3 5} x_{3 6} x_{4 1} x_{4 4} x_{4 7} + 4 x_3 x_{1 4} x_{3 1} x_{3 4} x_{3 5} x_{4 0} x_{4 1} x_{4 2} x_{4 5} x_{4 7} + 3 x_3^{2} x_8 x_{1 6} x_{2 1} x_{2 4} x_{2 5} x_{3 0} x_{4 3} x_{4 4} x_{5 8} + 3 x_{4 4}^{2} x_6 x_{1 6} x_{1 8} x_{2 4} x_{2 5} x_{3 0} x_{3 5} x_{3 6} x_{5 8} + 3 x_{2 4}^{2} x_3 x_8 x_{1 6} x_{1 9} x_{2 1} x_{2 5} x_{3 0} x_{4 4} x_{5 8} + 2 x_3^{2} x_8 x_{1 3} x_{1 9} x_{2 1} x_{2 6} x_{3 1} x_{3 4} x_{4 1} x_{4 5} + 2 x_{2 1}^{2} x_3^{2} x_8 x_{1 3} x_{1 8} x_{1 9} x_{2 6} x_{3 1} x_{3 4} x_{4 7} + 3 x_{4 4}^{2} x_{3 5}^{2} x_{1 6} x_{1 8} x_{2 1} x_{2 5} x_{3 6} x_{4 3} x_{4 7} x_{5 8} + 3 x_{4 4}^{2} x_1 x_6 x_{1 6} x_{1 8} x_{2 4} x_{2 5} x_{3 0} x_{4 7} x_{5 8} + 3 x_5 x_{1 6} x_{1 8} x_{2 1} x_{2 5} x_{3 5} x_{4 3} x_{4 4} x_{4 7} x_{5 8} - 4 x_3^{2} x_8 x_{2 1} x_{3 1} x_{3 4} x_{3 5} x_{3 6} x_{4 1} x_{4 4} x_{4 5} + 3 x_3 x_{1 6} x_{2 4} x_{2 5} x_{3 0} x_{3 5} x_{4 2} x_{4 3} x_{4 4} x_{5 8} + 3 x_6 x_{1 6} x_{1 8} x_{2 2} x_{2 4} x_{2 5} x_{3 0} x_{3 7} x_{4 4} x_{5 8} - 4 x_{2 1}^{2} x_3^{2} x_8 x_{1 8} x_{3 1} x_{3 4} x_{3 5} x_{3 6} x_{4 4} x_{4 7} + 4 x_3^{2} x_8 x_{1 4} x_{2 1} x_{3 1} x_{3 4} x_{4 0} x_{4 1} x_{4 5} x_{4 7} + 2 x_3 x_{1 3} x_{1 9} x_{2 6} x_{3 1} x_{3 4} x_{3 5} x_{4 1} x_{4 2} x_{4 5} + 3 x_{4 7}^{2} x_{4 4}^{2} x_1 x_{1 6} x_{1 8} x_{2 1} x_{2 5} x_{3 5} x_{4 3} x_{5 8} + 3 x_7 x_{1 3} x_{1 6} x_{2 4} x_{2 5} x_{3 0} x_{3 5} x_{4 2} x_{4 4} x_{5 8} + 3 x_{1 6} x_{2 2} x_{2 5} x_{3 5} x_{3 7} x_{4 1} x_{4 3} x_{4 4} x_{4 5} x_{5 8} + 4 x_{4 7}^{2} x_1 x_3 x_{1 8} x_{2 1} x_{3 1} x_{3 4} x_{3 5} x_{4 2} x_{4 4} + 4 x_3^{2} x_1 x_8 x_{2 1} x_{3 1} x_{3 4} x_{4 1} x_{4 4} x_{4 5} x_{4 7} - 4 x_{3 5}^{2} x_3 x_{1 8} x_{2 1} x_{3 1} x_{3 4} x_{3 6} x_{4 2} x_{4 4} x_{4 7} + 2 x_3 x_{1 3} x_{1 8} x_{1 9} x_{2 1} x_{2 6} x_{3 1} x_{3 4} x_{4 1} x_{4 7} + 3 x_{4 4}^{2} x_{2 1}^{2} x_{1 6} x_{2 4} x_{2 5} x_{3 0} x_{3 3} x_{3 5} x_{3 6} x_{5 8} + 3 x_{4 4}^{2} x_1 x_{1 6} x_{2 5} x_{3 5} x_{4 1} x_{4 3} x_{4 5} x_{4 7} x_{5 8} + 3 x_{2 1}^{2} x_{1 6} x_{2 2} x_{2 4} x_{2 5} x_{3 0} x_{3 3} x_{3 7} x_{4 4} x_{5 8} + 3 x_3 x_7 x_8 x_{1 3} x_{1 6} x_{2 1} x_{2 4} x_{2 5} x_{3 0} x_{4 4} x_{5 8} + 3 x_6 x_{1 4} x_{1 6} x_{1 8} x_{2 4} x_{2 5} x_{3 0} x_{4 0} x_{4 4} x_{4 7} x_{5 8} + 3 x_{2 1}^{2} x_{1 4} x_{1 6} x_{2 4} x_{2 5} x_{3 0} x_{3 3} x_{4 0} x_{4 4} x_{4 7} x_{5 8} + 2 x_3 x_{1 3} x_{1 8} x_{1 9} x_{2 1} x_{2 6} x_{3 1} x_{3 4} x_{3 5} x_{4 2} x_{4 7} + 3 x_5 x_{1 6} x_{2 4} x_{2 5} x_{3 0} x_{3 5} x_{4 1} x_{4 2} x_{4 4} x_{4 5} x_{5 8} + 4 x_3 x_7 x_9 x_{1 3} x_{2 0} x_{2 9} x_{3 1} x_{3 4} x_{4 3} x_{5 2} x_{5 7} + 3 x_{1 4} x_{1 6} x_{2 5} x_{3 5} x_{4 0} x_{4 1} x_{4 3} x_{4 4} x_{4 5} x_{4 7} x_{5 8} + 3 x_{1 6} x_{1 8} x_{2 1} x_{2 2} x_{2 5} x_{3 5} x_{3 7} x_{4 3} x_{4 4} x_{4 7} x_{5 8} - 3 x_{4 4}^{2} x_{3 5}^{2} x_{1 6} x_{2 4} x_{2 5} x_{3 0} x_{3 6} x_{4 1} x_{4 2} x_{4 5} x_{5 8} + 4 x_3 x_9 x_{1 9} x_{2 0} x_{2 4} x_{2 9} x_{3 1} x_{3 4} x_{4 3} x_{5 2} x_{5 7} + 3 x_{4 7}^{2} x_{1 4} x_{1 6} x_{1 8} x_{2 1} x_{2 5} x_{3 5} x_{4 0} x_{4 3} x_{4 4} x_{5 8} + 3 x_{4 7}^{2} x_{4 4}^{2} x_{2 1}^{2} x_1 x_3 x_8 x_{1 6} x_{1 8} x_{2 4} x_{2 5} x_{3 0} x_{5 8} + 3 x_{4 7}^{2} x_{4 4}^{2} x_1 x_{1 6} x_{1 8} x_{2 1} x_{2 4} x_{2 5} x_{3 0} x_{3 5} x_{4 2} x_{5 8} + 3 x_{4 4}^{2} x_1 x_{1 6} x_{2 4} x_{2 5} x_{3 0} x_{3 5} x_{4 1} x_{4 2} x_{4 5} x_{4 7} x_{5 8} + 3 x_{2 1}^{2} x_3 x_5 x_8 x_{1 6} x_{1 8} x_{2 4} x_{2 5} x_{3 0} x_{4 4} x_{4 7} x_{5 8} + 4 x_3 x_9 x_{1 5} x_{2 0} x_{2 2} x_{2 9} x_{3 1} x_{3 4} x_{3 7} x_{4 3} x_{5 2} x_{5 7} + 3 x_3 x_5 x_8 x_{1 6} x_{2 1} x_{2 4} x_{2 5} x_{3 0} x_{4 1} x_{4 4} x_{4 5} x_{5 8} - 3 x_{4 4}^{2} x_{3 5}^{2} x_{1 6} x_{1 8} x_{2 1} x_{2 4} x_{2 5} x_{3 0} x_{3 6} x_{4 2} x_{4 7} x_{5 8} + 3 x_5 x_{1 6} x_{1 8} x_{2 1} x_{2 4} x_{2 5} x_{3 0} x_{3 5} x_{4 2} x_{4 4} x_{4 7} x_{5 8} - 3 x_{1 6} x_{2 2} x_{2 4} x_{2 5} x_{3 0} x_{3 5} x_{3 7} x_{4 1} x_{4 2} x_{4 4} x_{4 5} x_{5 8} + 3 x_{4 7}^{2} x_{2 1}^{2} x_3 x_8 x_{1 4} x_{1 6} x_{1 8} x_{2 4} x_{2 5} x_{3 0} x_{4 0} x_{4 4} x_{5 8} - 3 x_{4 4}^{2} x_3 x_8 x_{1 6} x_{2 1} x_{2 4} x_{2 5} x_{3 0} x_{3 5} x_{3 6} x_{4 1} x_{4 5} x_{5 8} - 3 x_{4 4}^{2} x_{2 1}^{2} x_3 x_8 x_{1 6} x_{1 8} x_{2 4} x_{2 5} x_{3 0} x_{3 5} x_{3 6} x_{4 7} x_{5 8} - 3 x_{1 6} x_{1 8} x_{2 1} x_{2 2} x_{2 4} x_{2 5} x_{3 0} x_{3 5} x_{3 7} x_{4 2} x_{4 4} x_{4 7} x_{5 8} + 2 x_1 x_3 x_9 x_{1 5} x_{2 0} x_{2 9} x_{3 1} x_{3 4} x_{4 3} x_{4 4} x_{4 7} x_{5 2} x_{5 7} + 4 x_3 x_9 x_{1 3} x_{1 5} x_{1 9} x_{2 0} x_{2 6} x_{2 9} x_{3 1} x_{3 4} x_{4 3} x_{5 2} x_{5 7} + 2 x_3 x_9 x_{1 4} x_{1 5} x_{2 0} x_{2 9} x_{3 1} x_{3 4} x_{4 0} x_{4 3} x_{4 7} x_{5 2} x_{5 7} + 3 x_{4 4}^{2} x_1 x_3 x_8 x_{1 6} x_{2 1} x_{2 4} x_{2 5} x_{3 0} x_{4 1} x_{4 5} x_{4 7} x_{5 8} + 3 x_{4 7}^{2} x_{1 4} x_{1 6} x_{1 8} x_{2 1} x_{2 4} x_{2 5} x_{3 0} x_{3 5} x_{4 0} x_{4 2} x_{4 4} x_{5 8} - 3 x_3 x_8 x_{1 6} x_{2 1} x_{2 2} x_{2 4} x_{2 5} x_{3 0} x_{3 7} x_{4 1} x_{4 4} x_{4 5} x_{5 8} - 3 x_{2 1}^{2} x_3 x_8 x_{1 6} x_{1 8} x_{2 2} x_{2 4} x_{2 5} x_{3 0} x_{3 7} x_{4 4} x_{4 7} x_{5 8} + 4 x_3 x_9 x_{1 5} x_{2 0} x_{2 9} x_{3 1} x_{3 4} x_{3 5} x_{3 6} x_{4 3} x_{4 4} x_{5 2} x_{5 7} + 4 x_3 x_9 x_{2 0} x_{2 2} x_{2 9} x_{3 1} x_{3 4} x_{3 7} x_{4 1} x_{4 3} x_{4 5} x_{5 2} x_{5 7} + 3 x_{1 4} x_{1 6} x_{2 4} x_{2 5} x_{3 0} x_{3 5} x_{4 0} x_{4 1} x_{4 2} x_{4 4} x_{4 5} x_{4 7} x_{5 8} + 3 x_3 x_8 x_{1 4} x_{1 6} x_{2 1} x_{2 4} x_{2 5} x_{3 0} x_{4 0} x_{4 1} x_{4 4} x_{4 5} x_{4 7} x_{5 8} + 2 x_{4 7}^{2} x_3 x_9 x_{1 4} x_{1 8} x_{2 0} x_{2 1} x_{2 9} x_{3 1} x_{3 4} x_{4 0} x_{4 3} x_{5 2} x_{5 7} + 2 x_{4 7}^{2} x_1 x_3 x_9 x_{1 8} x_{2 0} x_{2 1} x_{2 9} x_{3 1} x_{3 4} x_{4 3} x_{4 4} x_{5 2} x_{5 7} + 2 x_1 x_3 x_9 x_{2 0} x_{2 9} x_{3 1} x_{3 4} x_{4 1} x_{4 3} x_{4 4} x_{4 5} x_{4 7} x_{5 2} x_{5 7} + 4 x_3 x_9 x_{1 3} x_{1 9} x_{2 0} x_{2 6} x_{2 9} x_{3 1} x_{3 4} x_{4 1} x_{4 3} x_{4 5} x_{5 2} x_{5 7} + 4 x_3 x_9 x_{2 0} x_{2 9} x_{3 1} x_{3 4} x_{3 5} x_{3 6} x_{4 1} x_{4 3} x_{4 4} x_{4 5} x_{5 2} x_{5 7} + 4 x_3 x_9 x_{1 8} x_{2 0} x_{2 1} x_{2 2} x_{2 9} x_{3 1} x_{3 4} x_{3 7} x_{4 3} x_{4 7} x_{5 2} x_{5 7} + 2 x_3 x_9 x_{1 4} x_{2 0} x_{2 9} x_{3 1} x_{3 4} x_{4 0} x_{4 1} x_{4 3} x_{4 5} x_{4 7} x_{5 2} x_{5 7} + 4 x_3 x_9 x_{1 3} x_{1 8} x_{1 9} x_{2 0} x_{2 1} x_{2 6} x_{2 9} x_{3 1} x_{3 4} x_{4 3} x_{4 7} x_{5 2} x_{5 7} + 4 x_3 x_9 x_{1 8} x_{2 0} x_{2 1} x_{2 9} x_{3 1} x_{3 4} x_{3 5} x_{3 6} x_{4 3} x_{4 4} x_{4 7} x_{5 2} x_{5 7} &  - 4.0 x_{1 9} x_{3 5} x_{4 3} x_{5 2} + 4.0 x_3 x_{1 3} x_{2 2} x_{3 1} x_{3 4} + 4.0 x_{1 0} x_{2 6} x_{3 6} x_{4 3} x_{5 2} + 4.0 x_{1 3} x_{2 2} x_{3 7} x_{4 3} x_{5 2} + 2.0 x_{3 5}^{2} x_3 x_{1 9} x_{3 1} x_{3 3} x_{3 4} + 4.0 x_{1 3}^{2} x_3 x_7 x_{3 1} x_{3 4} x_{4 1} + 4.0 x_3 x_{1 3} x_{2 4} x_{3 1} x_{3 4} x_{5 0} + 4.0 x_{4 3}^{2} x_{2 2} x_{3 7} x_{3 9} x_{4 9} x_{5 2} + 4.0 x_3 x_5 x_{1 3} x_{3 0} x_{3 1} x_{3 4} + 2.0 x_1 x_{1 3} x_{4 3} x_{4 4} x_{4 7} x_{5 2} + 4.0 x_{1 3}^{2} x_3^{2} x_7 x_8 x_{2 1} x_{3 1} x_{3 4} + 4.0 x_2 x_3 x_8 x_{2 2} x_{2 3} x_{3 1} x_{3 4} + 4.0 x_2 x_8 x_{2 2} x_{2 3} x_{3 7} x_{4 3} x_{5 2} + 2.0 x_3 x_6 x_{1 8} x_{1 9} x_{3 1} x_{3 4} x_{3 5} + 2.0 x_{4 1}^{2} x_3 x_{1 9} x_{3 1} x_{3 4} x_{3 5} x_{4 5} + 2.0 x_{4 3}^{2} x_1 x_{3 9} x_{4 4} x_{4 7} x_{4 9} x_{5 2} + 2.0 x_3 x_{1 5} x_{1 9} x_{3 1} x_{3 4} x_{3 5} x_{4 1} + 4.0 x_{1 3}^{2} x_3 x_7 x_{3 1} x_{3 4} x_{3 5} x_{4 2} + 2.0 x_{3 5}^{2} x_3 x_{1 5} x_{1 9} x_{3 1} x_{3 4} x_{4 2} + 4.0 x_3 x_{1 3} x_{1 9} x_{2 4} x_{3 1} x_{3 4} x_{4 1} + 4.0 x_3 x_{2 2} x_{3 1} x_{3 4} x_{3 9} x_{4 3} x_{4 9} + 4.0 x_2 x_3 x_5 x_8 x_{2 3} x_{3 0} x_{3 1} x_{3 4} + 4.0 x_3^{2} x_8 x_{1 3} x_{1 9} x_{2 1} x_{2 4} x_{3 1} x_{3 4} + 4.0 x_3 x_6 x_{1 0} x_{1 8} x_{2 6} x_{3 1} x_{3 4} x_{3 6} + 2.0 x_3^{2} x_8 x_{1 5} x_{1 9} x_{2 1} x_{3 1} x_{3 4} x_{3 5} + 4.0 x_3 x_{1 0} x_{1 5} x_{2 6} x_{3 1} x_{3 4} x_{3 6} x_{4 1} + 4.0 x_3 x_{1 3} x_{1 5} x_{2 2} x_{3 1} x_{3 4} x_{3 7} x_{4 1} + 3.0 x_{4 3}^{2} x_3 x_{1 3} x_{1 6} x_{2 5} x_{3 5} x_{4 4} x_{5 8} + 4.0 x_3 x_5 x_{3 0} x_{3 1} x_{3 4} x_{3 9} x_{4 3} x_{4 9} + 4.0 x_3 x_{1 3} x_{1 9} x_{2 4} x_{3 1} x_{3 4} x_{3 5} x_{4 2} + 4.0 x_3 x_{1 0} x_{2 6} x_{3 1} x_{3 3} x_{3 4} x_{3 5} x_{3 6} + 3.0 x_{1 3}^{2} x_7 x_{1 6} x_{2 5} x_{3 5} x_{4 3} x_{4 4} x_{5 8} + 4.0 x_3 x_{1 3} x_{2 2} x_{3 1} x_{3 3} x_{3 4} x_{3 5} x_{3 7} - 4.0 x_{3 5}^{2} x_3 x_{1 9} x_{3 1} x_{3 4} x_{4 1} x_{4 2} x_{4 5} + 4.0 x_2 x_3 x_8 x_{2 3} x_{2 4} x_{3 1} x_{3 4} x_{5 0} + 4.0 x_3 x_{2 4} x_{3 1} x_{3 4} x_{3 9} x_{4 3} x_{4 9} x_{5 0} + 3.0 x_2 x_5 x_{1 3} x_{1 6} x_{2 4} x_{3 9} x_{4 4} x_{5 8} + 4.0 x_3 x_6 x_{1 3} x_{1 8} x_{2 2} x_{3 1} x_{3 4} x_{3 7} - 3.0 x_2 x_{1 6} x_{1 9} x_{2 4} x_{3 5} x_{3 9} x_{4 4} x_{5 8} + 2.0 x_1 x_2 x_8 x_{2 3} x_{4 3} x_{4 4} x_{4 7} x_{5 2} + 4.0 x_{4 1}^{2} x_3 x_{1 0} x_{2 6} x_{3 1} x_{3 4} x_{3 6} x_{4 5} + 4.0 x_{4 1}^{2} x_3 x_{1 3} x_{2 2} x_{3 1} x_{3 4} x_{3 7} x_{4 5} + 3.0 x_2 x_{1 0} x_{1 3} x_{1 6} x_{1 7} x_{2 4} x_{3 9} x_{4 4} x_{5 8} + 3.0 x_{3 9}^{2} x_2 x_5 x_{1 6} x_{2 4} x_{4 3} x_{4 4} x_{4 9} x_{5 8} + 3.0 x_{1 3} x_{1 6} x_{1 9} x_{2 4} x_{2 5} x_{3 5} x_{4 3} x_{4 4} x_{5 8} + 3.0 x_2 x_{1 0} x_{1 6} x_{2 4} x_{2 6} x_{3 6} x_{3 9} x_{4 4} x_{5 8} + 4.0 x_8^{2} x_3^{2} x_2 x_7 x_{1 3} x_{2 1} x_{2 3} x_{3 1} x_{3 4} + 4.0 x_2 x_3 x_7 x_8 x_{1 3} x_{2 3} x_{3 1} x_{3 4} x_{4 1} + 4.0 x_8^{2} x_3^{2} x_2 x_{1 9} x_{2 1} x_{2 3} x_{2 4} x_{3 1} x_{3 4} + 4.0 x_3^{2} x_8 x_{1 3} x_{1 5} x_{2 1} x_{2 2} x_{3 1} x_{3 4} x_{3 7} + 4.0 x_3 x_{1 0} x_{1 5} x_{2 6} x_{3 1} x_{3 4} x_{3 5} x_{3 6} x_{4 2} + 4.0 x_3 x_{1 3} x_{1 5} x_{2 2} x_{3 1} x_{3 4} x_{3 5} x_{3 7} x_{4 2} + 2.0 x_1 x_3 x_{1 3} x_{1 5} x_{3 1} x_{3 4} x_{4 1} x_{4 4} x_{4 7} + 3.0 x_2 x_{1 3} x_{1 6} x_{2 2} x_{2 4} x_{3 7} x_{3 9} x_{4 4} x_{5 8} + 4.0 x_3 x_7 x_{1 3} x_{3 1} x_{3 4} x_{3 9} x_{4 1} x_{4 3} x_{4 9} + 4.0 x_3^{2} x_8 x_{1 0} x_{1 5} x_{2 1} x_{2 6} x_{3 1} x_{3 4} x_{3 6} + 2.0 x_1 x_3 x_{1 3} x_{3 1} x_{3 3} x_{3 4} x_{3 5} x_{4 4} x_{4 7} - 4.0 x_3^{2} x_8 x_{1 9} x_{2 1} x_{3 1} x_{3 4} x_{3 5} x_{4 1} x_{4 5} + 3.0 x_{3 5}^{2} x_{1 6} x_{1 9} x_{2 5} x_{4 1} x_{4 3} x_{4 4} x_{4 5} x_{5 8} + 2.0 x_3 x_{1 8} x_{1 9} x_{2 1} x_{3 1} x_{3 4} x_{3 5} x_{4 1} x_{4 7} + 4.0 x_2 x_3 x_8 x_{1 9} x_{2 3} x_{2 4} x_{3 1} x_{3 4} x_{4 1} + 4.0 x_3 x_{1 9} x_{2 4} x_{3 1} x_{3 4} x_{3 9} x_{4 1} x_{4 3} x_{4 9} + 2.0 x_{4 1}^{2} x_1 x_3 x_{1 3} x_{3 1} x_{3 4} x_{4 4} x_{4 5} x_{4 7} + 3.0 x_{4 3}^{3} x_3 x_{1 6} x_{2 5} x_{3 5} x_{3 9} x_{4 4} x_{4 9} x_{5 8} + 2.0 x_1 x_3 x_6 x_{1 3} x_{1 8} x_{3 1} x_{3 4} x_{4 4} x_{4 7} - 4.0 x_{2 1}^{2} x_3^{2} x_8 x_{1 8} x_{1 9} x_{3 1} x_{3 4} x_{3 5} x_{4 7} - 4.0 x_{3 5}^{2} x_3 x_{1 8} x_{1 9} x_{2 1} x_{3 1} x_{3 4} x_{4 2} x_{4 7} + 3.0 x_{4 4}^{2} x_1 x_2 x_{1 3} x_{1 6} x_{2 4} x_{3 9} x_{4 7} x_{5 8} + 2.0 x_{4 7}^{2} x_{2 1}^{2} x_3^{2} x_1 x_8 x_{1 3} x_{1 8} x_{3 1} x_{3 4} x_{4 4} + 4.0 x_{4 1}^{2} x_2 x_3 x_8 x_{2 2} x_{2 3} x_{3 1} x_{3 4} x_{3 7} x_{4 5} + 4.0 x_{2 1}^{2} x_3^{2} x_8 x_{1 3} x_{1 8} x_{2 2} x_{3 1} x_{3 4} x_{3 7} x_{4 7} + 4.0 x_{2 1}^{2} x_3^{2} x_8 x_{1 0} x_{1 8} x_{2 6} x_{3 1} x_{3 4} x_{3 6} x_{4 7} + 4.0 x_3 x_{1 0} x_{1 8} x_{2 1} x_{2 6} x_{3 1} x_{3 4} x_{3 6} x_{4 1} x_{4 7} + 4.0 x_3 x_{2 2} x_{3 1} x_{3 3} x_{3 4} x_{3 5} x_{3 7} x_{3 9} x_{4 3} x_{4 9} + 2.0 x_1 x_3 x_{1 3} x_{1 5} x_{3 1} x_{3 4} x_{3 5} x_{4 2} x_{4 4} x_{4 7} + 4.0 x_{4 1}^{2} x_3 x_{2 2} x_{3 1} x_{3 4} x_{3 7} x_{3 9} x_{4 3} x_{4 5} x_{4 9} + 3.0 x_{4 4}^{2} x_{3 9}^{2} x_1 x_2 x_{1 6} x_{2 4} x_{4 3} x_{4 7} x_{4 9} x_{5 8} + 3.0 x_5 x_6 x_{1 3} x_{1 6} x_{1 8} x_{2 4} x_{2 5} x_{3 0} x_{4 4} x_{5 8} + 4.0 x_2 x_3 x_6 x_8 x_{1 8} x_{2 2} x_{2 3} x_{3 1} x_{3 4} x_{3 7} + 4.0 x_2 x_3 x_7 x_8 x_{1 3} x_{2 3} x_{3 1} x_{3 4} x_{3 5} x_{4 2} + 4.0 x_2 x_3 x_8 x_{1 9} x_{2 3} x_{2 4} x_{3 1} x_{3 4} x_{3 5} x_{4 2} + 3.0 x_{2 1}^{2} x_5 x_{1 3} x_{1 6} x_{2 4} x_{2 5} x_{3 0} x_{3 3} x_{4 4} x_{5 8} + 3.0 x_{2 1}^{2} x_{1 6} x_{1 9} x_{2 4} x_{2 5} x_{3 0} x_{3 3} x_{3 5} x_{4 4} x_{5 8} + 2.0 x_{4 7}^{2} x_1 x_3 x_{1 3} x_{1 8} x_{2 1} x_{3 1} x_{3 4} x_{4 1} x_{4 4} + 4.0 x_8^{2} x_3^{2} x_2 x_{1 5} x_{2 1} x_{2 2} x_{2 3} x_{3 1} x_{3 4} x_{3 7} + 4.0 x_3 x_{1 3} x_{2 2} x_{3 1} x_{3 4} x_{3 5} x_{3 7} x_{4 1} x_{4 2} x_{4 5} + 4.0 x_3^{2} x_8 x_{1 9} x_{2 1} x_{2 4} x_{3 1} x_{3 4} x_{3 9} x_{4 3} x_{4 9} + 4.0 x_3 x_{1 5} x_{2 2} x_{3 1} x_{3 4} x_{3 7} x_{3 9} x_{4 1} x_{4 3} x_{4 9} + 2.0 x_3^{2} x_1 x_8 x_{1 3} x_{1 5} x_{2 1} x_{3 1} x_{3 4} x_{4 4} x_{4 7} + 3.0 x_6 x_{1 6} x_{1 8} x_{1 9} x_{2 4} x_{2 5} x_{3 0} x_{3 5} x_{4 4} x_{5 8} + 4.0 x_3^{2} x_8 x_{1 0} x_{2 1} x_{2 6} x_{3 1} x_{3 4} x_{3 6} x_{4 1} x_{4 5} + 4.0 x_2 x_3 x_8 x_{1 5} x_{2 2} x_{2 3} x_{3 1} x_{3 4} x_{3 7} x_{4 1} + 4.0 x_3 x_7 x_{1 3} x_{3 1} x_{3 4} x_{3 5} x_{3 9} x_{4 2} x_{4 3} x_{4 9} + 3.0 x_{3 9}^{2} x_2 x_{1 6} x_{2 2} x_{2 4} x_{3 7} x_{4 3} x_{4 4} x_{4 9} x_{5 8} + 3.0 x_{1 3}^{2} x_7 x_{1 6} x_{2 4} x_{2 5} x_{3 0} x_{3 5} x_{4 2} x_{4 4} x_{5 8} + 4.0 x_3 x_6 x_{1 8} x_{2 2} x_{3 1} x_{3 4} x_{3 7} x_{3 9} x_{4 3} x_{4 9} + 3.0 x_{4 3}^{2} x_7 x_{1 3} x_{1 6} x_{2 5} x_{3 5} x_{3 9} x_{4 4} x_{4 9} x_{5 8} + 3.0 x_{3 5}^{2} x_{1 6} x_{1 8} x_{1 9} x_{2 1} x_{2 5} x_{4 3} x_{4 4} x_{4 7} x_{5 8} + 4.0 x_3 x_{1 0} x_{2 6} x_{3 1} x_{3 4} x_{3 5} x_{3 6} x_{4 1} x_{4 2} x_{4 5} + 3.0 x_5 x_{1 3} x_{1 6} x_{2 5} x_{3 5} x_{4 1} x_{4 3} x_{4 4} x_{4 5} x_{5 8} + 4.0 x_3^{2} x_8 x_{1 3} x_{2 1} x_{2 2} x_{3 1} x_{3 4} x_{3 7} x_{4 1} x_{4 5} + 4.0 x_3^{2} x_7 x_8 x_{1 3} x_{2 1} x_{3 1} x_{3 4} x_{3 9} x_{4 3} x_{4 9} + 4.0 x_3 x_{1 3} x_{1 8} x_{2 1} x_{2 2} x_{3 1} x_{3 4} x_{3 7} x_{4 1} x_{4 7} + 4.0 x_2 x_3 x_8 x_{2 2} x_{2 3} x_{3 1} x_{3 3} x_{3 4} x_{3 5} x_{3 7} + 4.0 x_3 x_{1 9} x_{2 4} x_{3 1} x_{3 4} x_{3 5} x_{3 9} x_{4 2} x_{4 3} x_{4 9} + 3.0 x_{2 4}^{2} x_{1 3} x_{1 6} x_{1 9} x_{2 5} x_{3 0} x_{3 5} x_{4 2} x_{4 4} x_{5 8} + 3.0 x_{4 3}^{2} x_{1 6} x_{1 9} x_{2 4} x_{2 5} x_{3 5} x_{3 9} x_{4 4} x_{4 9} x_{5 8} + 3.0 x_{2 4}^{2} x_3 x_8 x_{1 3} x_{1 6} x_{1 9} x_{2 1} x_{2 5} x_{3 0} x_{4 4} x_{5 8} + 2.0 x_{4 7}^{2} x_{2 1}^{2} x_8^{2} x_3^{2} x_1 x_2 x_{1 8} x_{2 3} x_{3 1} x_{3 4} x_{4 4} + 3.0 x_{4 7}^{2} x_{4 4}^{2} x_1 x_{1 3} x_{1 6} x_{1 8} x_{2 1} x_{2 5} x_{3 5} x_{4 3} x_{5 8} + 3.0 x_6 x_{1 0} x_{1 6} x_{1 8} x_{2 4} x_{2 5} x_{2 6} x_{3 0} x_{3 6} x_{4 4} x_{5 8} + 4.0 x_{2 1}^{2} x_8^{2} x_3^{2} x_2 x_{1 8} x_{2 2} x_{2 3} x_{3 1} x_{3 4} x_{3 7} x_{4 7} + 4.0 x_3 x_{1 0} x_{1 8} x_{2 1} x_{2 6} x_{3 1} x_{3 4} x_{3 5} x_{3 6} x_{4 2} x_{4 7} + 2.0 x_1 x_2 x_3 x_6 x_8 x_{1 8} x_{2 3} x_{3 1} x_{3 4} x_{4 4} x_{4 7} + 2.0 x_8^{2} x_3^{2} x_1 x_2 x_{1 5} x_{2 1} x_{2 3} x_{3 1} x_{3 4} x_{4 4} x_{4 7} + 2.0 x_3^{2} x_1 x_8 x_{1 3} x_{2 1} x_{3 1} x_{3 4} x_{4 1} x_{4 4} x_{4 5} x_{4 7} + 2.0 x_1 x_3 x_{1 5} x_{3 1} x_{3 4} x_{3 9} x_{4 1} x_{4 3} x_{4 4} x_{4 7} x_{4 9} + 3.0 x_{1 0} x_{1 3} x_{1 6} x_{1 7} x_{2 5} x_{3 5} x_{4 1} x_{4 3} x_{4 4} x_{4 5} x_{5 8} - 3.0 x_{1 3} x_{1 6} x_{2 2} x_{2 5} x_{3 5} x_{3 7} x_{4 1} x_{4 3} x_{4 4} x_{4 5} x_{5 8} + 3.0 x_{1 0} x_{1 6} x_{2 5} x_{2 6} x_{3 5} x_{3 6} x_{4 1} x_{4 3} x_{4 4} x_{4 5} x_{5 8} + 4.0 x_3^{2} x_8 x_{1 5} x_{2 1} x_{2 2} x_{3 1} x_{3 4} x_{3 7} x_{3 9} x_{4 3} x_{4 9} + 2.0 x_{4 1}^{2} x_1 x_2 x_3 x_8 x_{2 3} x_{3 1} x_{3 4} x_{4 4} x_{4 5} x_{4 7} + 2.0 x_{1 3}^{2} x_3 x_7 x_9 x_{2 0} x_{2 9} x_{3 1} x_{3 4} x_{4 3} x_{5 2} x_{5 7} + 4.0 x_3 x_{1 3} x_{1 8} x_{2 1} x_{2 2} x_{3 1} x_{3 4} x_{3 5} x_{3 7} x_{4 2} x_{4 7} + 3.0 x_{1 3}^{2} x_3 x_7 x_8 x_{1 6} x_{2 1} x_{2 4} x_{2 5} x_{3 0} x_{4 4} x_{5 8} + 2.0 x_1 x_3 x_{1 3} x_{3 1} x_{3 4} x_{3 5} x_{4 1} x_{4 2} x_{4 4} x_{4 5} x_{4 7} + 3.0 x_{4 4}^{2} x_{2 1}^{2} x_1 x_{1 3} x_{1 6} x_{2 4} x_{2 5} x_{3 0} x_{3 3} x_{4 7} x_{5 8} + 3.0 x_6 x_{1 0} x_{1 3} x_{1 6} x_{1 7} x_{1 8} x_{2 4} x_{2 5} x_{3 0} x_{4 4} x_{5 8} + 2.0 x_1 x_3 x_{3 1} x_{3 3} x_{3 4} x_{3 5} x_{3 9} x_{4 3} x_{4 4} x_{4 7} x_{4 9} + 3.0 x_{4 4}^{2} x_1 x_{1 3} x_{1 6} x_{2 5} x_{3 5} x_{4 1} x_{4 3} x_{4 5} x_{4 7} x_{5 8} + 4.0 x_2 x_3 x_8 x_{1 5} x_{2 2} x_{2 3} x_{3 1} x_{3 4} x_{3 5} x_{3 7} x_{4 2} + 3.0 x_{4 3}^{2} x_5 x_{1 6} x_{2 5} x_{3 5} x_{3 9} x_{4 1} x_{4 4} x_{4 5} x_{4 9} x_{5 8} + 3.0 x_{2 1}^{2} x_{1 0} x_{1 3} x_{1 6} x_{1 7} x_{2 4} x_{2 5} x_{3 0} x_{3 3} x_{4 4} x_{5 8} + 3.0 x_{2 1}^{2} x_{1 0} x_{1 6} x_{2 4} x_{2 5} x_{2 6} x_{3 0} x_{3 3} x_{3 6} x_{4 4} x_{5 8} + 2.0 x_{4 7}^{2} x_1 x_3 x_{1 3} x_{1 8} x_{2 1} x_{3 1} x_{3 4} x_{3 5} x_{4 2} x_{4 4} + 3.0 x_3 x_{1 3} x_{1 6} x_{2 4} x_{2 5} x_{3 0} x_{3 5} x_{4 2} x_{4 3} x_{4 4} x_{5 8} + 2.0 x_{4 1}^{2} x_1 x_3 x_{3 1} x_{3 4} x_{3 9} x_{4 3} x_{4 4} x_{4 5} x_{4 7} x_{4 9} - 3.0 x_{3 5}^{2} x_{1 6} x_{1 9} x_{2 4} x_{2 5} x_{3 0} x_{4 1} x_{4 2} x_{4 4} x_{4 5} x_{5 8} + 3.0 x_5 x_{1 3} x_{1 6} x_{1 8} x_{2 1} x_{2 5} x_{3 5} x_{4 3} x_{4 4} x_{4 7} x_{5 8} + 3.0 x_{2 1}^{2} x_{1 3} x_{1 6} x_{2 2} x_{2 4} x_{2 5} x_{3 0} x_{3 3} x_{3 7} x_{4 4} x_{5 8} + 2.0 x_1 x_2 x_3 x_8 x_{2 3} x_{3 1} x_{3 3} x_{3 4} x_{3 5} x_{4 4} x_{4 7} + 3.0 x_{4 4}^{2} x_1 x_6 x_{1 3} x_{1 6} x_{1 8} x_{2 4} x_{2 5} x_{3 0} x_{4 7} x_{5 8} + 3.0 x_3^{2} x_8 x_{1 3} x_{1 6} x_{2 1} x_{2 4} x_{2 5} x_{3 0} x_{4 3} x_{4 4} x_{5 8} + 2.0 x_1 x_2 x_3 x_8 x_{1 5} x_{2 3} x_{3 1} x_{3 4} x_{4 1} x_{4 4} x_{4 7} + 2.0 x_1 x_3 x_6 x_{1 8} x_{3 1} x_{3 4} x_{3 9} x_{4 3} x_{4 4} x_{4 7} x_{4 9} + 4.0 x_8^{2} x_3^{2} x_2 x_{2 1} x_{2 2} x_{2 3} x_{3 1} x_{3 4} x_{3 7} x_{4 1} x_{4 5} + 4.0 x_3 x_{1 5} x_{2 2} x_{3 1} x_{3 4} x_{3 5} x_{3 7} x_{3 9} x_{4 2} x_{4 3} x_{4 9} + 3.0 x_6 x_{1 3} x_{1 6} x_{1 8} x_{2 2} x_{2 4} x_{2 5} x_{3 0} x_{3 7} x_{4 4} x_{5 8} + 2.0 x_8^{2} x_3^{2} x_1 x_2 x_{2 1} x_{2 3} x_{3 1} x_{3 4} x_{4 1} x_{4 4} x_{4 5} x_{4 7} - 3.0 x_{3 5}^{2} x_{1 6} x_{1 8} x_{1 9} x_{2 1} x_{2 4} x_{2 5} x_{3 0} x_{4 2} x_{4 4} x_{4 7} x_{5 8} - 3.0 x_{1 3} x_{1 6} x_{1 8} x_{2 1} x_{2 2} x_{2 5} x_{3 5} x_{3 7} x_{4 3} x_{4 4} x_{4 7} x_{5 8} + 3.0 x_{4 3}^{2} x_3^{2} x_8 x_{1 6} x_{2 1} x_{2 4} x_{2 5} x_{3 0} x_{3 9} x_{4 4} x_{4 9} x_{5 8} + 3.0 x_{4 7}^{2} x_{4 4}^{2} x_{4 3}^{2} x_1 x_{1 6} x_{1 8} x_{2 1} x_{2 5} x_{3 5} x_{3 9} x_{4 9} x_{5 8} + 3.0 x_5 x_6 x_{1 6} x_{1 8} x_{2 4} x_{2 5} x_{3 0} x_{3 9} x_{4 3} x_{4 4} x_{4 9} x_{5 8} + 2.0 x_{4 7}^{2} x_{2 1}^{2} x_3^{2} x_1 x_8 x_{1 8} x_{3 1} x_{3 4} x_{3 9} x_{4 3} x_{4 4} x_{4 9} + 3.0 x_{4 3}^{2} x_5 x_{1 6} x_{1 8} x_{2 1} x_{2 5} x_{3 5} x_{3 9} x_{4 4} x_{4 7} x_{4 9} x_{5 8} + 2.0 x_3^{2} x_1 x_8 x_{1 5} x_{2 1} x_{3 1} x_{3 4} x_{3 9} x_{4 3} x_{4 4} x_{4 7} x_{4 9} + 3.0 x_{2 4}^{2} x_{1 6} x_{1 9} x_{2 5} x_{3 0} x_{3 5} x_{3 9} x_{4 2} x_{4 3} x_{4 4} x_{4 9} x_{5 8} - 3.0 x_{4 3}^{2} x_{1 6} x_{2 2} x_{2 5} x_{3 5} x_{3 7} x_{3 9} x_{4 1} x_{4 4} x_{4 5} x_{4 9} x_{5 8} + 4.0 x_3 x_{1 8} x_{2 1} x_{2 2} x_{3 1} x_{3 4} x_{3 7} x_{3 9} x_{4 1} x_{4 3} x_{4 7} x_{4 9} + 3.0 x_{1 0} x_{1 3} x_{1 6} x_{1 7} x_{1 8} x_{2 1} x_{2 5} x_{3 5} x_{4 3} x_{4 4} x_{4 7} x_{5 8} + 3.0 x_{1 0} x_{1 6} x_{1 8} x_{2 1} x_{2 5} x_{2 6} x_{3 5} x_{3 6} x_{4 3} x_{4 4} x_{4 7} x_{5 8} + 4.0 x_3 x_{2 2} x_{3 1} x_{3 4} x_{3 5} x_{3 7} x_{3 9} x_{4 1} x_{4 2} x_{4 3} x_{4 5} x_{4 9} + 2.0 x_1 x_3 x_{1 5} x_{3 1} x_{3 4} x_{3 5} x_{3 9} x_{4 2} x_{4 3} x_{4 4} x_{4 7} x_{4 9} + 4.0 x_2 x_3 x_8 x_{2 2} x_{2 3} x_{3 1} x_{3 4} x_{3 5} x_{3 7} x_{4 1} x_{4 2} x_{4 5} + 3.0 x_{4 4}^{2} x_{4 3}^{2} x_1 x_{1 6} x_{2 5} x_{3 5} x_{3 9} x_{4 1} x_{4 5} x_{4 7} x_{4 9} x_{5 8} + 4.0 x_3 x_9 x_{1 5} x_{1 9} x_{2 0} x_{2 9} x_{3 1} x_{3 4} x_{3 5} x_{4 3} x_{5 2} x_{5 7} + 3.0 x_{2 1}^{2} x_5 x_{1 6} x_{2 4} x_{2 5} x_{3 0} x_{3 3} x_{3 9} x_{4 3} x_{4 4} x_{4 9} x_{5 8} + 2.0 x_3 x_9 x_{1 3} x_{1 9} x_{2 0} x_{2 4} x_{2 9} x_{3 1} x_{3 4} x_{4 3} x_{5 2} x_{5 7} + 4.0 x_3^{2} x_8 x_{2 1} x_{2 2} x_{3 1} x_{3 4} x_{3 7} x_{3 9} x_{4 1} x_{4 3} x_{4 5} x_{4 9} + 2.0 x_{4 7}^{2} x_1 x_3 x_{1 8} x_{2 1} x_{3 1} x_{3 4} x_{3 9} x_{4 1} x_{4 3} x_{4 4} x_{4 9} + 3.0 x_5 x_{1 3} x_{1 6} x_{2 4} x_{2 5} x_{3 0} x_{3 5} x_{4 1} x_{4 2} x_{4 4} x_{4 5} x_{5 8} + 3.0 x_{4 3}^{2} x_3 x_{1 6} x_{2 4} x_{2 5} x_{3 0} x_{3 5} x_{3 9} x_{4 2} x_{4 4} x_{4 9} x_{5 8} + 4.0 x_{2 1}^{2} x_3^{2} x_8 x_{1 8} x_{2 2} x_{3 1} x_{3 4} x_{3 7} x_{3 9} x_{4 3} x_{4 7} x_{4 9} + 2.0 x_{4 7}^{2} x_1 x_2 x_3 x_8 x_{1 8} x_{2 1} x_{2 3} x_{3 1} x_{3 4} x_{4 1} x_{4 4} + 2.0 x_1 x_2 x_3 x_8 x_{1 5} x_{2 3} x_{3 1} x_{3 4} x_{3 5} x_{4 2} x_{4 4} x_{4 7} + 4.0 x_2 x_3 x_8 x_{1 8} x_{2 1} x_{2 2} x_{2 3} x_{3 1} x_{3 4} x_{3 7} x_{4 1} x_{4 7} + 3.0 x_{4 7}^{2} x_{4 4}^{2} x_{2 1}^{2} x_1 x_3 x_8 x_{1 3} x_{1 6} x_{1 8} x_{2 4} x_{2 5} x_{3 0} x_{5 8} + 3.0 x_{2 1}^{2} x_3 x_5 x_8 x_{1 3} x_{1 6} x_{1 8} x_{2 4} x_{2 5} x_{3 0} x_{4 4} x_{4 7} x_{5 8} + 2.0 x_{4 7}^{2} x_1 x_2 x_3 x_8 x_{1 8} x_{2 1} x_{2 3} x_{3 1} x_{3 4} x_{3 5} x_{4 2} x_{4 4} + 3.0 x_5 x_{1 3} x_{1 6} x_{1 8} x_{2 1} x_{2 4} x_{2 5} x_{3 0} x_{3 5} x_{4 2} x_{4 4} x_{4 7} x_{5 8} - 3.0 x_{4 3}^{2} x_{1 6} x_{1 8} x_{2 1} x_{2 2} x_{2 5} x_{3 5} x_{3 7} x_{3 9} x_{4 4} x_{4 7} x_{4 9} x_{5 8} + 4.0 x_2 x_3 x_8 x_{1 8} x_{2 1} x_{2 2} x_{2 3} x_{3 1} x_{3 4} x_{3 5} x_{3 7} x_{4 2} x_{4 7} - 3.0 x_{2 1}^{2} x_3 x_8 x_{1 6} x_{1 8} x_{1 9} x_{2 4} x_{2 5} x_{3 0} x_{3 5} x_{4 4} x_{4 7} x_{5 8} + 3.0 x_{4 4}^{2} x_1 x_{1 3} x_{1 6} x_{2 4} x_{2 5} x_{3 0} x_{3 5} x_{4 1} x_{4 2} x_{4 5} x_{4 7} x_{5 8} - 3.0 x_3 x_8 x_{1 6} x_{1 9} x_{2 1} x_{2 4} x_{2 5} x_{3 0} x_{3 5} x_{4 1} x_{4 4} x_{4 5} x_{5 8} + 3.0 x_{4 4}^{2} x_{2 1}^{2} x_1 x_{1 6} x_{2 4} x_{2 5} x_{3 0} x_{3 3} x_{3 9} x_{4 3} x_{4 7} x_{4 9} x_{5 8} + 3.0 x_{1 0} x_{1 6} x_{2 4} x_{2 5} x_{2 6} x_{3 0} x_{3 5} x_{3 6} x_{4 1} x_{4 2} x_{4 4} x_{4 5} x_{5 8} + 3.0 x_7 x_{1 3} x_{1 6} x_{2 4} x_{2 5} x_{3 0} x_{3 5} x_{3 9} x_{4 2} x_{4 3} x_{4 4} x_{4 9} x_{5 8} + 2.0 x_1 x_2 x_3 x_8 x_{2 3} x_{3 1} x_{3 4} x_{3 5} x_{4 1} x_{4 2} x_{4 4} x_{4 5} x_{4 7} + 3.0 x_3 x_5 x_8 x_{1 3} x_{1 6} x_{2 1} x_{2 4} x_{2 5} x_{3 0} x_{4 1} x_{4 4} x_{4 5} x_{5 8} + 3.0 x_{2 1}^{2} x_{1 6} x_{2 2} x_{2 4} x_{2 5} x_{3 0} x_{3 3} x_{3 7} x_{3 9} x_{4 3} x_{4 4} x_{4 9} x_{5 8} + 2.0 x_{4 3}^{2} x_3 x_9 x_{1 9} x_{2 0} x_{2 4} x_{2 9} x_{3 1} x_{3 4} x_{3 9} x_{4 9} x_{5 2} x_{5 7} + 2.0 x_3 x_9 x_{1 3} x_{1 5} x_{2 0} x_{2 2} x_{2 9} x_{3 1} x_{3 4} x_{3 7} x_{4 3} x_{5 2} x_{5 7} + 3.0 x_{4 7}^{2} x_{4 4}^{2} x_1 x_{1 3} x_{1 6} x_{1 8} x_{2 1} x_{2 4} x_{2 5} x_{3 0} x_{3 5} x_{4 2} x_{5 8} + 3.0 x_{1 3} x_{1 6} x_{2 2} x_{2 4} x_{2 5} x_{3 0} x_{3 5} x_{3 7} x_{4 1} x_{4 2} x_{4 4} x_{4 5} x_{5 8} + 3.0 x_6 x_{1 6} x_{1 8} x_{2 2} x_{2 4} x_{2 5} x_{3 0} x_{3 7} x_{3 9} x_{4 3} x_{4 4} x_{4 9} x_{5 8} + 3.0 x_{1 0} x_{1 3} x_{1 6} x_{1 7} x_{2 4} x_{2 5} x_{3 0} x_{3 5} x_{4 1} x_{4 2} x_{4 4} x_{4 5} x_{5 8} + 2.0 x_1 x_3 x_{3 1} x_{3 4} x_{3 5} x_{3 9} x_{4 1} x_{4 2} x_{4 3} x_{4 4} x_{4 5} x_{4 7} x_{4 9} + 3.0 x_{4 4}^{2} x_1 x_6 x_{1 6} x_{1 8} x_{2 4} x_{2 5} x_{3 0} x_{3 9} x_{4 3} x_{4 7} x_{4 9} x_{5 8} + 2.0 x_3 x_9 x_{1 0} x_{1 5} x_{2 0} x_{2 6} x_{2 9} x_{3 1} x_{3 4} x_{3 6} x_{4 3} x_{5 2} x_{5 7} + 2.0 x_{4 7}^{2} x_1 x_3 x_{1 8} x_{2 1} x_{3 1} x_{3 4} x_{3 5} x_{3 9} x_{4 2} x_{4 3} x_{4 4} x_{4 9} + 4.0 x_3 x_9 x_{1 9} x_{2 0} x_{2 9} x_{3 1} x_{3 4} x_{3 5} x_{4 1} x_{4 3} x_{4 5} x_{5 2} x_{5 7} + 4.0 x_3 x_{1 8} x_{2 1} x_{2 2} x_{3 1} x_{3 4} x_{3 5} x_{3 7} x_{3 9} x_{4 2} x_{4 3} x_{4 7} x_{4 9} + 2.0 x_3^{2} x_1 x_8 x_{2 1} x_{3 1} x_{3 4} x_{3 9} x_{4 1} x_{4 3} x_{4 4} x_{4 5} x_{4 7} x_{4 9} + 2.0 x_{4 3}^{2} x_3 x_7 x_9 x_{1 3} x_{2 0} x_{2 9} x_{3 1} x_{3 4} x_{3 9} x_{4 9} x_{5 2} x_{5 7} + 3.0 x_{2 4}^{2} x_3 x_8 x_{1 6} x_{1 9} x_{2 1} x_{2 5} x_{3 0} x_{3 9} x_{4 3} x_{4 4} x_{4 9} x_{5 8} + 3.0 x_3 x_8 x_{1 0} x_{1 3} x_{1 6} x_{1 7} x_{2 1} x_{2 4} x_{2 5} x_{3 0} x_{4 1} x_{4 4} x_{4 5} x_{5 8} + 3.0 x_3 x_8 x_{1 3} x_{1 6} x_{2 1} x_{2 2} x_{2 4} x_{2 5} x_{3 0} x_{3 7} x_{4 1} x_{4 4} x_{4 5} x_{5 8} + 3.0 x_{2 1}^{2} x_3 x_8 x_{1 3} x_{1 6} x_{1 8} x_{2 2} x_{2 4} x_{2 5} x_{3 0} x_{3 7} x_{4 4} x_{4 7} x_{5 8} + 3.0 x_3 x_8 x_{1 0} x_{1 6} x_{2 1} x_{2 4} x_{2 5} x_{2 6} x_{3 0} x_{3 6} x_{4 1} x_{4 4} x_{4 5} x_{5 8} + 3.0 x_{1 3} x_{1 6} x_{1 8} x_{2 1} x_{2 2} x_{2 4} x_{2 5} x_{3 0} x_{3 5} x_{3 7} x_{4 2} x_{4 4} x_{4 7} x_{5 8} + 3.0 x_3 x_7 x_8 x_{1 3} x_{1 6} x_{2 1} x_{2 4} x_{2 5} x_{3 0} x_{3 9} x_{4 3} x_{4 4} x_{4 9} x_{5 8} + 3.0 x_5 x_{1 6} x_{2 4} x_{2 5} x_{3 0} x_{3 5} x_{3 9} x_{4 1} x_{4 2} x_{4 3} x_{4 4} x_{4 5} x_{4 9} x_{5 8} + 2.0 x_{4 3}^{2} x_3 x_9 x_{1 5} x_{2 0} x_{2 2} x_{2 9} x_{3 1} x_{3 4} x_{3 7} x_{3 9} x_{4 9} x_{5 2} x_{5 7} + 3.0 x_{1 0} x_{1 6} x_{1 8} x_{2 1} x_{2 4} x_{2 5} x_{2 6} x_{3 0} x_{3 5} x_{3 6} x_{4 2} x_{4 4} x_{4 7} x_{5 8} + 4.0 x_1 x_3 x_9 x_{1 3} x_{1 5} x_{2 0} x_{2 9} x_{3 1} x_{3 4} x_{4 3} x_{4 4} x_{4 7} x_{5 2} x_{5 7} + 2.0 x_2 x_3 x_8 x_9 x_{1 9} x_{2 0} x_{2 3} x_{2 4} x_{2 9} x_{3 1} x_{3 4} x_{4 3} x_{5 2} x_{5 7} + 2.0 x_3 x_9 x_{1 0} x_{2 0} x_{2 6} x_{2 9} x_{3 1} x_{3 4} x_{3 6} x_{4 1} x_{4 3} x_{4 5} x_{5 2} x_{5 7} + 3.0 x_{2 1}^{2} x_3 x_8 x_{1 0} x_{1 6} x_{1 8} x_{2 4} x_{2 5} x_{2 6} x_{3 0} x_{3 6} x_{4 4} x_{4 7} x_{5 8} + 3.0 x_{1 0} x_{1 3} x_{1 6} x_{1 7} x_{1 8} x_{2 1} x_{2 4} x_{2 5} x_{3 0} x_{3 5} x_{4 2} x_{4 4} x_{4 7} x_{5 8} + 2.0 x_2 x_3 x_7 x_8 x_9 x_{1 3} x_{2 0} x_{2 3} x_{2 9} x_{3 1} x_{3 4} x_{4 3} x_{5 2} x_{5 7} - 4.0 x_3 x_9 x_{1 3} x_{2 0} x_{2 2} x_{2 9} x_{3 1} x_{3 4} x_{3 7} x_{4 1} x_{4 3} x_{4 5} x_{5 2} x_{5 7} + 4.0 x_3 x_9 x_{1 8} x_{1 9} x_{2 0} x_{2 1} x_{2 9} x_{3 1} x_{3 4} x_{3 5} x_{4 3} x_{4 7} x_{5 2} x_{5 7} + 3.0 x_{4 4}^{2} x_1 x_3 x_8 x_{1 3} x_{1 6} x_{2 1} x_{2 4} x_{2 5} x_{3 0} x_{4 1} x_{4 5} x_{4 7} x_{5 8} + 3.0 x_{2 1}^{2} x_3 x_8 x_{1 0} x_{1 3} x_{1 6} x_{1 7} x_{1 8} x_{2 4} x_{2 5} x_{3 0} x_{4 4} x_{4 7} x_{5 8} + 2.0 x_3 x_9 x_{1 0} x_{1 8} x_{2 0} x_{2 1} x_{2 6} x_{2 9} x_{3 1} x_{3 4} x_{3 6} x_{4 3} x_{4 7} x_{5 2} x_{5 7} + 3.0 x_{4 7}^{2} x_{4 4}^{2} x_1 x_{1 6} x_{1 8} x_{2 1} x_{2 4} x_{2 5} x_{3 0} x_{3 5} x_{3 9} x_{4 2} x_{4 3} x_{4 9} x_{5 8} + 3.0 x_{4 4}^{2} x_1 x_{1 6} x_{2 4} x_{2 5} x_{3 0} x_{3 5} x_{3 9} x_{4 1} x_{4 2} x_{4 3} x_{4 5} x_{4 7} x_{4 9} x_{5 8} + 3.0 x_3 x_5 x_8 x_{1 6} x_{2 1} x_{2 4} x_{2 5} x_{3 0} x_{3 9} x_{4 1} x_{4 3} x_{4 4} x_{4 5} x_{4 9} x_{5 8} - 4.0 x_3 x_9 x_{1 3} x_{1 8} x_{2 0} x_{2 1} x_{2 2} x_{2 9} x_{3 1} x_{3 4} x_{3 7} x_{4 3} x_{4 7} x_{5 2} x_{5 7} + 4.0 x_1 x_3 x_9 x_{1 3} x_{2 0} x_{2 9} x_{3 1} x_{3 4} x_{4 1} x_{4 3} x_{4 4} x_{4 5} x_{4 7} x_{5 2} x_{5 7} - 4.0 x_{4 3}^{2} x_3 x_9 x_{2 0} x_{2 2} x_{2 9} x_{3 1} x_{3 4} x_{3 7} x_{3 9} x_{4 1} x_{4 5} x_{4 9} x_{5 2} x_{5 7} + 4.0 x_{4 7}^{2} x_1 x_3 x_9 x_{1 3} x_{1 8} x_{2 0} x_{2 1} x_{2 9} x_{3 1} x_{3 4} x_{4 3} x_{4 4} x_{5 2} x_{5 7} + 3.0 x_{2 1}^{2} x_3 x_5 x_8 x_{1 6} x_{1 8} x_{2 4} x_{2 5} x_{3 0} x_{3 9} x_{4 3} x_{4 4} x_{4 7} x_{4 9} x_{5 8} + 3.0 x_5 x_{1 6} x_{1 8} x_{2 1} x_{2 4} x_{2 5} x_{3 0} x_{3 5} x_{3 9} x_{4 2} x_{4 3} x_{4 4} x_{4 7} x_{4 9} x_{5 8} + 3.0 x_{1 6} x_{2 2} x_{2 4} x_{2 5} x_{3 0} x_{3 5} x_{3 7} x_{3 9} x_{4 1} x_{4 2} x_{4 3} x_{4 4} x_{4 5} x_{4 9} x_{5 8} + 2.0 x_2 x_3 x_8 x_9 x_{1 5} x_{2 0} x_{2 2} x_{2 3} x_{2 9} x_{3 1} x_{3 4} x_{3 7} x_{4 3} x_{5 2} x_{5 7} + 3.0 x_{4 7}^{2} x_{4 4}^{2} x_{2 1}^{2} x_1 x_3 x_8 x_{1 6} x_{1 8} x_{2 4} x_{2 5} x_{3 0} x_{3 9} x_{4 3} x_{4 9} x_{5 8} + 4.0 x_{4 3}^{2} x_1 x_3 x_9 x_{1 5} x_{2 0} x_{2 9} x_{3 1} x_{3 4} x_{3 9} x_{4 4} x_{4 7} x_{4 9} x_{5 2} x_{5 7} + 4.0 x_{4 7}^{2} x_{4 3}^{2} x_1 x_3 x_9 x_{1 8} x_{2 0} x_{2 1} x_{2 9} x_{3 1} x_{3 4} x_{3 9} x_{4 4} x_{4 9} x_{5 2} x_{5 7} + 2.0 x_2 x_3 x_8 x_9 x_{2 0} x_{2 2} x_{2 3} x_{2 9} x_{3 1} x_{3 4} x_{3 7} x_{4 1} x_{4 3} x_{4 5} x_{5 2} x_{5 7} + 3.0 x_3 x_8 x_{1 6} x_{2 1} x_{2 2} x_{2 4} x_{2 5} x_{3 0} x_{3 7} x_{3 9} x_{4 1} x_{4 3} x_{4 4} x_{4 5} x_{4 9} x_{5 8} + 3.0 x_{2 1}^{2} x_3 x_8 x_{1 6} x_{1 8} x_{2 2} x_{2 4} x_{2 5} x_{3 0} x_{3 7} x_{3 9} x_{4 3} x_{4 4} x_{4 7} x_{4 9} x_{5 8} + 3.0 x_{1 6} x_{1 8} x_{2 1} x_{2 2} x_{2 4} x_{2 5} x_{3 0} x_{3 5} x_{3 7} x_{3 9} x_{4 2} x_{4 3} x_{4 4} x_{4 7} x_{4 9} x_{5 8} + 4.0 x_{4 3}^{2} x_1 x_3 x_9 x_{2 0} x_{2 9} x_{3 1} x_{3 4} x_{3 9} x_{4 1} x_{4 4} x_{4 5} x_{4 7} x_{4 9} x_{5 2} x_{5 7} + 3.0 x_{4 4}^{2} x_1 x_3 x_8 x_{1 6} x_{2 1} x_{2 4} x_{2 5} x_{3 0} x_{3 9} x_{4 1} x_{4 3} x_{4 5} x_{4 7} x_{4 9} x_{5 8} - 4.0 x_{4 3}^{2} x_3 x_9 x_{1 8} x_{2 0} x_{2 1} x_{2 2} x_{2 9} x_{3 1} x_{3 4} x_{3 7} x_{3 9} x_{4 7} x_{4 9} x_{5 2} x_{5 7} + 4.0 x_1 x_2 x_3 x_8 x_9 x_{1 5} x_{2 0} x_{2 3} x_{2 9} x_{3 1} x_{3 4} x_{4 3} x_{4 4} x_{4 7} x_{5 2} x_{5 7} + 4.0 x_{4 7}^{2} x_1 x_2 x_3 x_8 x_9 x_{1 8} x_{2 0} x_{2 1} x_{2 3} x_{2 9} x_{3 1} x_{3 4} x_{4 3} x_{4 4} x_{5 2} x_{5 7} + 4.0 x_1 x_2 x_3 x_8 x_9 x_{2 0} x_{2 3} x_{2 9} x_{3 1} x_{3 4} x_{4 1} x_{4 3} x_{4 4} x_{4 5} x_{4 7} x_{5 2} x_{5 7} + 2.0 x_2 x_3 x_8 x_9 x_{1 8} x_{2 0} x_{2 1} x_{2 2} x_{2 3} x_{2 9} x_{3 1} x_{3 4} x_{3 7} x_{4 3} x_{4 7} x_{5 2} x_{5 7} & 2.0 x_{3 1}^{2} x_3 x_{2 2} x_{3 4} + 2.0 x_3 x_{3 1} x_{3 4} x_{4 1} + 2.0 x_{3 4} x_{3 9} x_{4 3} x_{5 2} + 4.0 x_{2 2} x_{3 1} x_{4 3} x_{5 2} + 2.0 x_{3 1}^{2} x_3 x_5 x_{3 0} x_{3 4} - 4.0 x_3 x_4 x_6 x_{3 1} x_{3 4} + 2.0 x_{3 1}^{2} x_3 x_{2 4} x_{3 4} x_{5 0} + 2.0 x_{2 2} x_{3 1} x_{3 7} x_{4 3} x_{5 2} - 4.0 x_3^{2} x_8 x_{2 1} x_{3 1} x_{3 4} + 4.0 x_3^{2} x_{1 7} x_{2 2} x_{3 1} x_{3 4} + 4.0 x_3 x_8 x_{2 7} x_{3 1} x_{3 4} - 4.0 x_3 x_{3 1} x_{3 4} x_{3 5} x_{4 2} + 2.0 x_{3 1}^{2} x_3 x_7 x_{1 3} x_{3 4} x_{4 1} + 2.0 x_{3 4}^{2} x_3 x_{3 1} x_{3 3} x_{3 5} x_{3 9} + 2.0 x_{3 1}^{2} x_3 x_{1 9} x_{2 4} x_{3 4} x_{4 1} + 2.0 x_{4 1}^{2} x_{3 4}^{2} x_3 x_{3 1} x_{3 9} x_{4 5} + 4.0 x_{4 1}^{2} x_{3 1}^{2} x_3 x_{2 2} x_{3 4} x_{4 5} + 2.0 x_{3 4}^{2} x_3 x_6 x_{1 8} x_{3 1} x_{3 9} + 2.0 x_{3 4}^{2} x_3 x_{1 5} x_{3 1} x_{3 9} x_{4 1} + 4.0 x_{3 1}^{2} x_3 x_6 x_{1 8} x_{2 2} x_{3 4} + 4.0 x_{3 1}^{2} x_3 x_{2 2} x_{3 3} x_{3 4} x_{3 5} + 4.0 x_{3 1}^{2} x_3 x_{1 5} x_{2 2} x_{3 4} x_{4 1} + 4.0 x_3^{2} x_5 x_{1 7} x_{3 0} x_{3 1} x_{3 4} + 4.0 x_1 x_{3 1} x_{4 3} x_{4 4} x_{4 7} x_{5 2} + 2.0 x_3 x_{1 0} x_{2 2} x_{2 8} x_{3 1} x_{3 4} + 4.0 x_3 x_{1 7} x_{2 2} x_{3 7} x_{4 3} x_{5 2} + 2.0 x_{1 0} x_{2 2} x_{2 8} x_{3 7} x_{4 3} x_{5 2} + 4.0 x_3^{2} x_{1 7} x_{2 4} x_{3 1} x_{3 4} x_{5 0} + 2.0 x_{3 1}^{2} x_3^{2} x_8 x_{1 9} x_{2 1} x_{2 4} x_{3 4} + 2.0 x_{3 1}^{2} x_3 x_6 x_{1 8} x_{2 2} x_{3 4} x_{3 7} + 2.0 x_{3 1}^{2} x_3^{2} x_7 x_8 x_{1 3} x_{2 1} x_{3 4} + 2.0 x_{3 4}^{2} x_3^{2} x_8 x_{1 5} x_{2 1} x_{3 1} x_{3 9} + 2.0 x_{3 1}^{2} x_3 x_{1 5} x_{2 2} x_{3 4} x_{3 7} x_{4 1} + 2.0 x_3 x_5 x_{1 0} x_{2 8} x_{3 0} x_{3 1} x_{3 4} + 2.0 x_3 x_{1 0} x_{2 4} x_{2 8} x_{3 1} x_{3 4} x_{5 0} + 4.0 x_3^{2} x_7 x_{1 3} x_{1 7} x_{3 1} x_{3 4} x_{4 1} + 2.0 x_{4 1}^{2} x_{3 1}^{2} x_3 x_{2 2} x_{3 4} x_{3 7} x_{4 5} + 2.0 x_{3 1}^{2} x_3 x_7 x_{1 3} x_{3 4} x_{3 5} x_{4 2} + 2.0 x_{3 4}^{2} x_3 x_{1 5} x_{3 1} x_{3 5} x_{3 9} x_{4 2} + 3.0 x_{1 6} x_{2 4} x_{2 5} x_{3 0} x_{3 2} x_{4 4} x_{5 8} + 2.0 x_1 x_3 x_{1 7} x_{4 3} x_{4 4} x_{4 7} x_{5 2} + 2.0 x_{3 1}^{2} x_3 x_{2 2} x_{3 3} x_{3 4} x_{3 5} x_{3 7} + 4.0 x_{3 1}^{2} x_3^{2} x_8 x_{1 5} x_{2 1} x_{2 2} x_{3 4} + 4.0 x_{3 1}^{2} x_3 x_{1 5} x_{2 2} x_{3 4} x_{3 5} x_{4 2} + 4.0 x_3^{2} x_{1 7} x_{1 9} x_{2 4} x_{3 1} x_{3 4} x_{4 1} + 2.0 x_{3 1}^{2} x_3 x_{1 9} x_{2 4} x_{3 4} x_{3 5} x_{4 2} + 4.0 x_1 x_{1 0} x_{2 8} x_{4 3} x_{4 4} x_{4 7} x_{5 2} + 4.0 x_3^{3} x_8 x_{1 7} x_{1 9} x_{2 1} x_{2 4} x_{3 1} x_{3 4} + 2.0 x_{3 4}^{2} x_3 x_{3 1} x_{3 5} x_{3 9} x_{4 1} x_{4 2} x_{4 5} + 4.0 x_3^{2} x_6 x_{1 7} x_{1 8} x_{2 2} x_{3 1} x_{3 4} x_{3 7} + 4.0 x_3^{2} x_{1 7} x_{1 9} x_{2 4} x_{3 1} x_{3 4} x_{3 5} x_{4 2} + 2.0 x_{3 4}^{2} x_3^{2} x_8 x_{2 1} x_{3 1} x_{3 9} x_{4 1} x_{4 5} - 3.0 x_{1 6} x_{2 4} x_{2 5} x_{3 0} x_{3 5} x_{4 2} x_{4 4} x_{5 8} + 4.0 x_{3 1}^{2} x_1 x_3 x_{1 5} x_{3 4} x_{4 1} x_{4 4} x_{4 7} + 3.0 x_2 x_{1 3} x_{1 6} x_{1 9} x_{2 4} x_{3 9} x_{4 4} x_{5 8} + 4.0 x_{4 1}^{2} x_3^{2} x_{1 7} x_{2 2} x_{3 1} x_{3 4} x_{3 7} x_{4 5} + 4.0 x_{3 1}^{2} x_{2 1}^{2} x_3^{2} x_8 x_{1 8} x_{2 2} x_{3 4} x_{4 7} + 4.0 x_{3 1}^{2} x_3^{2} x_8 x_{2 1} x_{2 2} x_{3 4} x_{4 1} x_{4 5} + 4.0 x_{3 1}^{2} x_3 x_{1 8} x_{2 1} x_{2 2} x_{3 4} x_{4 1} x_{4 7} + 4.0 x_{3 1}^{2} x_1 x_3 x_6 x_{1 8} x_{3 4} x_{4 4} x_{4 7} + 2.0 x_{3 4}^{2} x_{2 1}^{2} x_3^{2} x_8 x_{1 8} x_{3 1} x_{3 9} x_{4 7} + 4.0 x_{3 1}^{2} x_1 x_3 x_{3 3} x_{3 4} x_{3 5} x_{4 4} x_{4 7} + 2.0 x_{3 1}^{2} x_3^{2} x_8 x_{1 5} x_{2 1} x_{2 2} x_{3 4} x_{3 7} + 2.0 x_3 x_{1 0} x_{1 9} x_{2 4} x_{2 8} x_{3 1} x_{3 4} x_{4 1} - 3.0 x_4 x_6 x_{1 6} x_{2 4} x_{2 5} x_{3 0} x_{4 4} x_{5 8} + 4.0 x_3^{2} x_{1 5} x_{1 7} x_{2 2} x_{3 1} x_{3 4} x_{3 7} x_{4 1} + 2.0 x_{3 4}^{2} x_3 x_{1 8} x_{2 1} x_{3 1} x_{3 9} x_{4 1} x_{4 7} + 2.0 x_{3 1}^{2} x_3 x_{1 5} x_{2 2} x_{3 4} x_{3 5} x_{3 7} x_{4 2} + 4.0 x_3^{2} x_7 x_{1 3} x_{1 7} x_{3 1} x_{3 4} x_{3 5} x_{4 2} + 2.0 x_3 x_7 x_{1 0} x_{1 3} x_{2 8} x_{3 1} x_{3 4} x_{4 1} + 4.0 x_{3 1}^{2} x_3 x_{2 2} x_{3 4} x_{3 5} x_{4 1} x_{4 2} x_{4 5} + 3.0 x_2 x_{1 6} x_{2 2} x_{2 4} x_{3 1} x_{3 9} x_{4 4} x_{5 8} + 4.0 x_3^{2} x_{1 7} x_{2 2} x_{3 1} x_{3 3} x_{3 4} x_{3 5} x_{3 7} + 4.0 x_3^{3} x_7 x_8 x_{1 3} x_{1 7} x_{2 1} x_{3 1} x_{3 4} + 4.0 x_{4 1}^{2} x_{3 1}^{2} x_1 x_3 x_{3 4} x_{4 4} x_{4 5} x_{4 7} + 3.0 x_{4 3}^{2} x_3 x_{1 0} x_{1 6} x_{2 5} x_{2 8} x_{3 5} x_{4 4} x_{5 8} + 2.0 x_3 x_{1 0} x_{1 9} x_{2 4} x_{2 8} x_{3 1} x_{3 4} x_{3 5} x_{4 2} + 4.0 x_{4 7}^{2} x_{3 1}^{2} x_{2 1}^{2} x_3^{2} x_1 x_8 x_{1 8} x_{3 4} x_{4 4} + 4.0 x_3^{3} x_8 x_{1 5} x_{1 7} x_{2 1} x_{2 2} x_{3 1} x_{3 4} x_{3 7} + 4.0 x_3^{2} x_{1 5} x_{1 7} x_{2 2} x_{3 1} x_{3 4} x_{3 5} x_{3 7} x_{4 2} + 4.0 x_{3 1}^{2} x_3 x_{1 8} x_{2 1} x_{2 2} x_{3 4} x_{3 5} x_{4 2} x_{4 7} + 3.0 x_2 x_5 x_{1 0} x_{1 6} x_{2 4} x_{2 8} x_{3 9} x_{4 4} x_{5 8} + 4.0 x_{3 1}^{2} x_1 x_3 x_{1 5} x_{3 4} x_{3 5} x_{4 2} x_{4 4} x_{4 7} + 2.0 x_3^{2} x_1 x_{1 5} x_{1 7} x_{3 1} x_{3 4} x_{4 1} x_{4 4} x_{4 7} + 2.0 x_3 x_6 x_{1 0} x_{1 8} x_{2 2} x_{2 8} x_{3 1} x_{3 4} x_{3 7} + 2.0 x_{3 1}^{2} x_3^{2} x_8 x_{2 1} x_{2 2} x_{3 4} x_{3 7} x_{4 1} x_{4 5} + 2.0 x_{3 1}^{2} x_3 x_{2 2} x_{3 4} x_{3 5} x_{3 7} x_{4 1} x_{4 2} x_{4 5} + 4.0 x_{4 7}^{2} x_{3 1}^{2} x_1 x_3 x_{1 8} x_{2 1} x_{3 4} x_{4 1} x_{4 4} + 2.0 x_{4 1}^{2} x_3^{2} x_1 x_{1 7} x_{3 1} x_{3 4} x_{4 4} x_{4 5} x_{4 7} + 4.0 x_{3 1}^{2} x_3^{2} x_1 x_8 x_{1 5} x_{2 1} x_{3 4} x_{4 4} x_{4 7} + 2.0 x_3^{2} x_1 x_6 x_{1 7} x_{1 8} x_{3 1} x_{3 4} x_{4 4} x_{4 7} + 2.0 x_3^{2} x_1 x_{1 7} x_{3 1} x_{3 3} x_{3 4} x_{3 5} x_{4 4} x_{4 7} + 2.0 x_3^{2} x_7 x_8 x_{1 0} x_{1 3} x_{2 1} x_{2 8} x_{3 1} x_{3 4} + 2.0 x_3 x_{1 0} x_{2 2} x_{2 8} x_{3 1} x_{3 3} x_{3 4} x_{3 5} x_{3 7} + 2.0 x_3 x_7 x_{1 0} x_{1 3} x_{2 8} x_{3 1} x_{3 4} x_{3 5} x_{4 2} + 2.0 x_3^{2} x_8 x_{1 0} x_{1 9} x_{2 1} x_{2 4} x_{2 8} x_{3 1} x_{3 4} + 2.0 x_{3 1}^{2} x_{2 1}^{2} x_3^{2} x_8 x_{1 8} x_{2 2} x_{3 4} x_{3 7} x_{4 7} + 2.0 x_{3 1}^{2} x_3 x_{1 8} x_{2 1} x_{2 2} x_{3 4} x_{3 7} x_{4 1} x_{4 7} - 3.0 x_3 x_8 x_{1 6} x_{2 1} x_{2 4} x_{2 5} x_{3 0} x_{4 4} x_{5 8} + 2.0 x_{4 1}^{2} x_3 x_{1 0} x_{2 2} x_{2 8} x_{3 1} x_{3 4} x_{3 7} x_{4 5} + 2.0 x_3 x_{1 0} x_{1 5} x_{2 2} x_{2 8} x_{3 1} x_{3 4} x_{3 7} x_{4 1} + 2.0 x_{3 4}^{2} x_3 x_{1 8} x_{2 1} x_{3 1} x_{3 5} x_{3 9} x_{4 2} x_{4 7} + 2.0 x_{4 7}^{2} x_{2 1}^{2} x_3^{3} x_1 x_8 x_{1 7} x_{1 8} x_{3 1} x_{3 4} x_{4 4} + 4.0 x_{2 1}^{2} x_3^{3} x_8 x_{1 7} x_{1 8} x_{2 2} x_{3 1} x_{3 4} x_{3 7} x_{4 7} + 4.0 x_{4 7}^{2} x_{3 1}^{2} x_1 x_3 x_{1 8} x_{2 1} x_{3 4} x_{3 5} x_{4 2} x_{4 4} + 4.0 x_{3 1}^{2} x_3^{2} x_1 x_8 x_{2 1} x_{3 4} x_{4 1} x_{4 4} x_{4 5} x_{4 7} + 4.0 x_{3 1}^{2} x_1 x_3 x_{3 4} x_{3 5} x_{4 1} x_{4 2} x_{4 4} x_{4 5} x_{4 7} + 3.0 x_6 x_{1 3} x_{1 6} x_{1 8} x_{1 9} x_{2 4} x_{2 5} x_{3 0} x_{4 4} x_{5 8} + 2.0 x_3^{2} x_8 x_{1 0} x_{1 5} x_{2 1} x_{2 2} x_{2 8} x_{3 1} x_{3 4} x_{3 7} + 3.0 x_{2 1}^{2} x_{1 6} x_{2 2} x_{2 4} x_{2 5} x_{3 0} x_{3 1} x_{3 3} x_{4 4} x_{5 8} + 2.0 x_{3 1}^{2} x_3 x_{1 8} x_{2 1} x_{2 2} x_{3 4} x_{3 5} x_{3 7} x_{4 2} x_{4 7} + 2.0 x_3^{3} x_1 x_8 x_{1 5} x_{1 7} x_{2 1} x_{3 1} x_{3 4} x_{4 4} x_{4 7} + 3.0 x_7 x_{1 0} x_{1 3} x_{1 6} x_{2 5} x_{2 8} x_{3 5} x_{4 3} x_{4 4} x_{5 8} + 3.0 x_{1 3} x_{1 6} x_{1 9} x_{2 5} x_{3 5} x_{4 1} x_{4 3} x_{4 4} x_{4 5} x_{5 8} + 4.0 x_1 x_3 x_{1 0} x_{1 5} x_{2 8} x_{3 1} x_{3 4} x_{4 1} x_{4 4} x_{4 7} + 4.0 x_3^{3} x_8 x_{1 7} x_{2 1} x_{2 2} x_{3 1} x_{3 4} x_{3 7} x_{4 1} x_{4 5} + 4.0 x_{4 1}^{2} x_1 x_3 x_{1 0} x_{2 8} x_{3 1} x_{3 4} x_{4 4} x_{4 5} x_{4 7} + 3.0 x_6 x_{1 6} x_{1 8} x_{2 2} x_{2 4} x_{2 5} x_{3 0} x_{3 1} x_{4 4} x_{5 8} + 2.0 x_{4 7}^{2} x_3^{2} x_1 x_{1 7} x_{1 8} x_{2 1} x_{3 1} x_{3 4} x_{4 1} x_{4 4} + 3.0 x_2 x_{1 0} x_{1 6} x_{2 2} x_{2 4} x_{2 8} x_{3 7} x_{3 9} x_{4 4} x_{5 8} + 3.0 x_{1 0} x_{1 6} x_{1 9} x_{2 4} x_{2 5} x_{2 8} x_{3 5} x_{4 3} x_{4 4} x_{5 8} + 3.0 x_{1 6} x_{2 2} x_{2 5} x_{3 1} x_{3 5} x_{4 1} x_{4 3} x_{4 4} x_{4 5} x_{5 8} + 4.0 x_3^{2} x_{1 7} x_{1 8} x_{2 1} x_{2 2} x_{3 1} x_{3 4} x_{3 7} x_{4 1} x_{4 7} + 3.0 x_{2 1}^{2} x_{1 3} x_{1 6} x_{1 9} x_{2 4} x_{2 5} x_{3 0} x_{3 3} x_{4 4} x_{5 8} + 4.0 x_1 x_3 x_6 x_{1 0} x_{1 8} x_{2 8} x_{3 1} x_{3 4} x_{4 4} x_{4 7} + 4.0 x_1 x_3 x_{1 0} x_{2 8} x_{3 1} x_{3 3} x_{3 4} x_{3 5} x_{4 4} x_{4 7} + 4.0 x_3^{2} x_{1 7} x_{2 2} x_{3 1} x_{3 4} x_{3 5} x_{3 7} x_{4 1} x_{4 2} x_{4 5} + 3.0 x_{4 4}^{2} x_1 x_2 x_{1 0} x_{1 6} x_{2 4} x_{2 8} x_{3 9} x_{4 7} x_{5 8} + 2.0 x_3 x_{1 0} x_{1 5} x_{2 2} x_{2 8} x_{3 1} x_{3 4} x_{3 5} x_{3 7} x_{4 2} + 2.0 x_3^{2} x_1 x_{1 5} x_{1 7} x_{3 1} x_{3 4} x_{3 5} x_{4 2} x_{4 4} x_{4 7} + 3.0 x_5 x_6 x_{1 0} x_{1 6} x_{1 8} x_{2 4} x_{2 5} x_{2 8} x_{3 0} x_{4 4} x_{5 8} + 3.0 x_{1 3} x_{1 6} x_{1 8} x_{1 9} x_{2 1} x_{2 5} x_{3 5} x_{4 3} x_{4 4} x_{4 7} x_{5 8} + 2.0 x_3^{2} x_1 x_{1 7} x_{3 1} x_{3 4} x_{3 5} x_{4 1} x_{4 2} x_{4 4} x_{4 5} x_{4 7} + 4.0 x_{4 7}^{2} x_{2 1}^{2} x_3^{2} x_1 x_8 x_{1 0} x_{1 8} x_{2 8} x_{3 1} x_{3 4} x_{4 4} + 4.0 x_{3 1}^{2} x_3 x_9 x_{1 9} x_{2 0} x_{2 4} x_{2 9} x_{3 4} x_{4 3} x_{5 2} x_{5 7} + 2.0 x_3^{3} x_1 x_8 x_{1 7} x_{2 1} x_{3 1} x_{3 4} x_{4 1} x_{4 4} x_{4 5} x_{4 7} + 3.0 x_{2 4}^{2} x_{1 0} x_{1 6} x_{1 9} x_{2 5} x_{2 8} x_{3 0} x_{3 5} x_{4 2} x_{4 4} x_{5 8} + 2.0 x_3^{2} x_8 x_{1 0} x_{2 1} x_{2 2} x_{2 8} x_{3 1} x_{3 4} x_{3 7} x_{4 1} x_{4 5} + 4.0 x_3^{2} x_{1 7} x_{1 8} x_{2 1} x_{2 2} x_{3 1} x_{3 4} x_{3 5} x_{3 7} x_{4 2} x_{4 7} + 4.0 x_{3 4}^{2} x_3 x_9 x_{1 5} x_{2 0} x_{2 9} x_{3 1} x_{3 9} x_{4 3} x_{5 2} x_{5 7} + 3.0 x_{1 6} x_{1 8} x_{2 1} x_{2 2} x_{2 5} x_{3 1} x_{3 5} x_{4 3} x_{4 4} x_{4 7} x_{5 8} + 4.0 x_{4 7}^{2} x_1 x_3 x_{1 0} x_{1 8} x_{2 1} x_{2 8} x_{3 1} x_{3 4} x_{4 1} x_{4 4} + 4.0 x_{3 1}^{2} x_3 x_7 x_9 x_{1 3} x_{2 0} x_{2 9} x_{3 4} x_{4 3} x_{5 2} x_{5 7} + 2.0 x_{2 1}^{2} x_3^{2} x_8 x_{1 0} x_{1 8} x_{2 2} x_{2 8} x_{3 1} x_{3 4} x_{3 7} x_{4 7} + 2.0 x_3 x_{1 0} x_{1 8} x_{2 1} x_{2 2} x_{2 8} x_{3 1} x_{3 4} x_{3 7} x_{4 1} x_{4 7} + 4.0 x_1 x_3 x_{1 0} x_{1 5} x_{2 8} x_{3 1} x_{3 4} x_{3 5} x_{4 2} x_{4 4} x_{4 7} + 2.0 x_{3 1}^{2} x_3 x_9 x_{1 5} x_{2 0} x_{2 2} x_{2 9} x_{3 4} x_{4 3} x_{5 2} x_{5 7} + 4.0 x_3^{2} x_1 x_8 x_{1 0} x_{1 5} x_{2 1} x_{2 8} x_{3 1} x_{3 4} x_{4 4} x_{4 7} + 3.0 x_{2 1}^{2} x_5 x_{1 0} x_{1 6} x_{2 4} x_{2 5} x_{2 8} x_{3 0} x_{3 3} x_{4 4} x_{5 8} + 2.0 x_{4 7}^{2} x_3^{2} x_1 x_{1 7} x_{1 8} x_{2 1} x_{3 1} x_{3 4} x_{3 5} x_{4 2} x_{4 4} + 3.0 x_5 x_{1 0} x_{1 6} x_{2 5} x_{2 8} x_{3 5} x_{4 1} x_{4 3} x_{4 4} x_{4 5} x_{5 8} + 2.0 x_3 x_{1 0} x_{2 2} x_{2 8} x_{3 1} x_{3 4} x_{3 5} x_{3 7} x_{4 1} x_{4 2} x_{4 5} + 3.0 x_{4 7}^{2} x_{4 4}^{2} x_1 x_{1 0} x_{1 6} x_{1 8} x_{2 1} x_{2 5} x_{2 8} x_{3 5} x_{4 3} x_{5 8} + 3.0 x_{2 4}^{2} x_3 x_8 x_{1 0} x_{1 6} x_{1 9} x_{2 1} x_{2 5} x_{2 8} x_{3 0} x_{4 4} x_{5 8} + 3.0 x_3^{2} x_8 x_{1 0} x_{1 6} x_{2 1} x_{2 4} x_{2 5} x_{2 8} x_{3 0} x_{4 3} x_{4 4} x_{5 8} + 3.0 x_3 x_{1 0} x_{1 6} x_{2 4} x_{2 5} x_{2 8} x_{3 0} x_{3 5} x_{4 2} x_{4 3} x_{4 4} x_{5 8} + 3.0 x_7 x_{1 0} x_{1 3} x_{1 6} x_{2 4} x_{2 5} x_{2 8} x_{3 0} x_{3 5} x_{4 2} x_{4 4} x_{5 8} + 3.0 x_{1 0} x_{1 6} x_{2 2} x_{2 5} x_{2 8} x_{3 5} x_{3 7} x_{4 1} x_{4 3} x_{4 4} x_{4 5} x_{5 8} + 4.0 x_3^{2} x_1 x_8 x_{1 0} x_{2 1} x_{2 8} x_{3 1} x_{3 4} x_{4 1} x_{4 4} x_{4 5} x_{4 7} + 4.0 x_{4 7}^{2} x_1 x_3 x_{1 0} x_{1 8} x_{2 1} x_{2 8} x_{3 1} x_{3 4} x_{3 5} x_{4 2} x_{4 4} + 3.0 x_{2 1}^{2} x_{1 0} x_{1 6} x_{2 2} x_{2 4} x_{2 5} x_{2 8} x_{3 0} x_{3 3} x_{3 7} x_{4 4} x_{5 8} + 2.0 x_{3 1}^{2} x_3 x_9 x_{2 0} x_{2 2} x_{2 9} x_{3 4} x_{4 1} x_{4 3} x_{4 5} x_{5 2} x_{5 7} + 2.0 x_3 x_{1 0} x_{1 8} x_{2 1} x_{2 2} x_{2 8} x_{3 1} x_{3 4} x_{3 5} x_{3 7} x_{4 2} x_{4 7} + 3.0 x_{1 3} x_{1 6} x_{1 9} x_{2 4} x_{2 5} x_{3 0} x_{3 5} x_{4 1} x_{4 2} x_{4 4} x_{4 5} x_{5 8} + 2.0 x_3^{2} x_9 x_{1 7} x_{1 9} x_{2 0} x_{2 4} x_{2 9} x_{3 1} x_{3 4} x_{4 3} x_{5 2} x_{5 7} + 4.0 x_{3 4}^{2} x_3 x_9 x_{2 0} x_{2 9} x_{3 1} x_{3 9} x_{4 1} x_{4 3} x_{4 5} x_{5 2} x_{5 7} + 3.0 x_{1 6} x_{2 2} x_{2 4} x_{2 5} x_{3 0} x_{3 1} x_{3 5} x_{4 1} x_{4 2} x_{4 4} x_{4 5} x_{5 8} + 2.0 x_3^{2} x_7 x_9 x_{1 3} x_{1 7} x_{2 0} x_{2 9} x_{3 1} x_{3 4} x_{4 3} x_{5 2} x_{5 7} + 3.0 x_{4 4}^{2} x_{2 1}^{2} x_1 x_{1 0} x_{1 6} x_{2 4} x_{2 5} x_{2 8} x_{3 0} x_{3 3} x_{4 7} x_{5 8} + 3.0 x_{4 4}^{2} x_1 x_6 x_{1 0} x_{1 6} x_{1 8} x_{2 4} x_{2 5} x_{2 8} x_{3 0} x_{4 7} x_{5 8} + 3.0 x_{4 4}^{2} x_1 x_{1 0} x_{1 6} x_{2 5} x_{2 8} x_{3 5} x_{4 1} x_{4 3} x_{4 5} x_{4 7} x_{5 8} + 4.0 x_1 x_3 x_{1 0} x_{2 8} x_{3 1} x_{3 4} x_{3 5} x_{4 1} x_{4 2} x_{4 4} x_{4 5} x_{4 7} + 3.0 x_5 x_{1 0} x_{1 6} x_{1 8} x_{2 1} x_{2 5} x_{2 8} x_{3 5} x_{4 3} x_{4 4} x_{4 7} x_{5 8} + 3.0 x_6 x_{1 0} x_{1 6} x_{1 8} x_{2 2} x_{2 4} x_{2 5} x_{2 8} x_{3 0} x_{3 7} x_{4 4} x_{5 8} + 4.0 x_{3 1}^{2} x_3 x_9 x_{1 5} x_{2 0} x_{2 2} x_{2 9} x_{3 4} x_{3 7} x_{4 3} x_{5 2} x_{5 7} + 2.0 x_{3 1}^{2} x_1 x_3 x_9 x_{1 5} x_{2 0} x_{2 9} x_{3 4} x_{4 3} x_{4 4} x_{4 7} x_{5 2} x_{5 7} + 2.0 x_3^{2} x_9 x_{1 5} x_{1 7} x_{2 0} x_{2 2} x_{2 9} x_{3 1} x_{3 4} x_{3 7} x_{4 3} x_{5 2} x_{5 7} + 3.0 x_3 x_7 x_8 x_{1 0} x_{1 3} x_{1 6} x_{2 1} x_{2 4} x_{2 5} x_{2 8} x_{3 0} x_{4 4} x_{5 8} + 3.0 x_3 x_8 x_{1 3} x_{1 6} x_{1 9} x_{2 1} x_{2 4} x_{2 5} x_{3 0} x_{4 1} x_{4 4} x_{4 5} x_{5 8} + 3.0 x_3 x_8 x_{1 6} x_{2 1} x_{2 2} x_{2 4} x_{2 5} x_{3 0} x_{3 1} x_{4 1} x_{4 4} x_{4 5} x_{5 8} + 3.0 x_{2 1}^{2} x_3 x_8 x_{1 3} x_{1 6} x_{1 8} x_{1 9} x_{2 4} x_{2 5} x_{3 0} x_{4 4} x_{4 7} x_{5 8} + 3.0 x_5 x_{1 0} x_{1 6} x_{2 4} x_{2 5} x_{2 8} x_{3 0} x_{3 5} x_{4 1} x_{4 2} x_{4 4} x_{4 5} x_{5 8} + 3.0 x_{2 1}^{2} x_3 x_8 x_{1 6} x_{1 8} x_{2 2} x_{2 4} x_{2 5} x_{3 0} x_{3 1} x_{4 4} x_{4 7} x_{5 8} + 3.0 x_{1 0} x_{1 6} x_{1 8} x_{2 1} x_{2 2} x_{2 5} x_{2 8} x_{3 5} x_{3 7} x_{4 3} x_{4 4} x_{4 7} x_{5 8} + 2.0 x_{3 1}^{2} x_3 x_9 x_{1 8} x_{2 0} x_{2 1} x_{2 2} x_{2 9} x_{3 4} x_{4 3} x_{4 7} x_{5 2} x_{5 7} + 4.0 x_{3 4}^{2} x_3 x_9 x_{1 8} x_{2 0} x_{2 1} x_{2 9} x_{3 1} x_{3 9} x_{4 3} x_{4 7} x_{5 2} x_{5 7} + 4.0 x_{3 1}^{2} x_3 x_9 x_{2 0} x_{2 2} x_{2 9} x_{3 4} x_{3 7} x_{4 1} x_{4 3} x_{4 5} x_{5 2} x_{5 7} + 4.0 x_3 x_7 x_9 x_{1 0} x_{1 3} x_{2 0} x_{2 8} x_{2 9} x_{3 1} x_{3 4} x_{4 3} x_{5 2} x_{5 7} + 4.0 x_3 x_9 x_{1 0} x_{1 9} x_{2 0} x_{2 4} x_{2 8} x_{2 9} x_{3 1} x_{3 4} x_{4 3} x_{5 2} x_{5 7} + 3.0 x_{1 3} x_{1 6} x_{1 8} x_{1 9} x_{2 1} x_{2 4} x_{2 5} x_{3 0} x_{3 5} x_{4 2} x_{4 4} x_{4 7} x_{5 8} + 3.0 x_{1 6} x_{1 8} x_{2 1} x_{2 2} x_{2 4} x_{2 5} x_{3 0} x_{3 1} x_{3 5} x_{4 2} x_{4 4} x_{4 7} x_{5 8} + 2.0 x_{4 7}^{2} x_{3 1}^{2} x_1 x_3 x_9 x_{1 8} x_{2 0} x_{2 1} x_{2 9} x_{3 4} x_{4 3} x_{4 4} x_{5 2} x_{5 7} + 2.0 x_3^{2} x_9 x_{1 7} x_{2 0} x_{2 2} x_{2 9} x_{3 1} x_{3 4} x_{3 7} x_{4 1} x_{4 3} x_{4 5} x_{5 2} x_{5 7} + 3.0 x_{4 4}^{2} x_1 x_{1 0} x_{1 6} x_{2 4} x_{2 5} x_{2 8} x_{3 0} x_{3 5} x_{4 1} x_{4 2} x_{4 5} x_{4 7} x_{5 8} + 4.0 x_3 x_9 x_{1 0} x_{1 5} x_{2 0} x_{2 2} x_{2 8} x_{2 9} x_{3 1} x_{3 4} x_{3 7} x_{4 3} x_{5 2} x_{5 7} + 3.0 x_{2 1}^{2} x_3 x_5 x_8 x_{1 0} x_{1 6} x_{1 8} x_{2 4} x_{2 5} x_{2 8} x_{3 0} x_{4 4} x_{4 7} x_{5 8} + 3.0 x_5 x_{1 0} x_{1 6} x_{1 8} x_{2 1} x_{2 4} x_{2 5} x_{2 8} x_{3 0} x_{3 5} x_{4 2} x_{4 4} x_{4 7} x_{5 8} + 4.0 x_{3 1}^{2} x_3 x_9 x_{1 8} x_{2 0} x_{2 1} x_{2 2} x_{2 9} x_{3 4} x_{3 7} x_{4 3} x_{4 7} x_{5 2} x_{5 7} + 3.0 x_{4 7}^{2} x_{4 4}^{2} x_{2 1}^{2} x_1 x_3 x_8 x_{1 0} x_{1 6} x_{1 8} x_{2 4} x_{2 5} x_{2 8} x_{3 0} x_{5 8} + 3.0 x_3 x_5 x_8 x_{1 0} x_{1 6} x_{2 1} x_{2 4} x_{2 5} x_{2 8} x_{3 0} x_{4 1} x_{4 4} x_{4 5} x_{5 8} + 3.0 x_{1 0} x_{1 6} x_{2 2} x_{2 4} x_{2 5} x_{2 8} x_{3 0} x_{3 5} x_{3 7} x_{4 1} x_{4 2} x_{4 4} x_{4 5} x_{5 8} + 4.0 x_3^{2} x_1 x_9 x_{1 5} x_{1 7} x_{2 0} x_{2 9} x_{3 1} x_{3 4} x_{4 3} x_{4 4} x_{4 7} x_{5 2} x_{5 7} + 2.0 x_{3 1}^{2} x_1 x_3 x_9 x_{2 0} x_{2 9} x_{3 4} x_{4 1} x_{4 3} x_{4 4} x_{4 5} x_{4 7} x_{5 2} x_{5 7} + 3.0 x_{4 7}^{2} x_{4 4}^{2} x_1 x_{1 0} x_{1 6} x_{1 8} x_{2 1} x_{2 4} x_{2 5} x_{2 8} x_{3 0} x_{3 5} x_{4 2} x_{5 8} + 3.0 x_{2 1}^{2} x_3 x_8 x_{1 0} x_{1 6} x_{1 8} x_{2 2} x_{2 4} x_{2 5} x_{2 8} x_{3 0} x_{3 7} x_{4 4} x_{4 7} x_{5 8} + 3.0 x_3 x_8 x_{1 0} x_{1 6} x_{2 1} x_{2 2} x_{2 4} x_{2 5} x_{2 8} x_{3 0} x_{3 7} x_{4 1} x_{4 4} x_{4 5} x_{5 8} + 3.0 x_{1 0} x_{1 6} x_{1 8} x_{2 1} x_{2 2} x_{2 4} x_{2 5} x_{2 8} x_{3 0} x_{3 5} x_{3 7} x_{4 2} x_{4 4} x_{4 7} x_{5 8} + 4.0 x_{4 7}^{2} x_3^{2} x_1 x_9 x_{1 7} x_{1 8} x_{2 0} x_{2 1} x_{2 9} x_{3 1} x_{3 4} x_{4 3} x_{4 4} x_{5 2} x_{5 7} + 2.0 x_1 x_3 x_9 x_{1 0} x_{1 5} x_{2 0} x_{2 8} x_{2 9} x_{3 1} x_{3 4} x_{4 3} x_{4 4} x_{4 7} x_{5 2} x_{5 7} + 3.0 x_{4 4}^{2} x_1 x_3 x_8 x_{1 0} x_{1 6} x_{2 1} x_{2 4} x_{2 5} x_{2 8} x_{3 0} x_{4 1} x_{4 5} x_{4 7} x_{5 8} + 4.0 x_3 x_9 x_{1 0} x_{2 0} x_{2 2} x_{2 8} x_{2 9} x_{3 1} x_{3 4} x_{3 7} x_{4 1} x_{4 3} x_{4 5} x_{5 2} x_{5 7} + 4.0 x_3^{2} x_1 x_9 x_{1 7} x_{2 0} x_{2 9} x_{3 1} x_{3 4} x_{4 1} x_{4 3} x_{4 4} x_{4 5} x_{4 7} x_{5 2} x_{5 7} + 2.0 x_3^{2} x_9 x_{1 7} x_{1 8} x_{2 0} x_{2 1} x_{2 2} x_{2 9} x_{3 1} x_{3 4} x_{3 7} x_{4 3} x_{4 7} x_{5 2} x_{5 7} + 2.0 x_{4 7}^{2} x_1 x_3 x_9 x_{1 0} x_{1 8} x_{2 0} x_{2 1} x_{2 8} x_{2 9} x_{3 1} x_{3 4} x_{4 3} x_{4 4} x_{5 2} x_{5 7} + 4.0 x_3 x_9 x_{1 0} x_{1 8} x_{2 0} x_{2 1} x_{2 2} x_{2 8} x_{2 9} x_{3 1} x_{3 4} x_{3 7} x_{4 3} x_{4 7} x_{5 2} x_{5 7} + 2.0 x_1 x_3 x_9 x_{1 0} x_{2 0} x_{2 8} x_{2 9} x_{3 1} x_{3 4} x_{4 1} x_{4 3} x_{4 4} x_{4 5} x_{4 7} x_{5 2} x_{5 7} \\\\\n",
       "\\end{array}\n",
       "\\right]\n",
       "\\end{equation}\n",
       " $$"
      ],
      "text/plain": [
       "1×4 Matrix{Num}:\n",
       " 4x[43]*x[52] + 4x[3]*x[31]*x[33]*x[34]*x[35] + 4(x[41]^2)*x[3]*x[31]*x[34]*x[45] + 4x[3]*x[6]*x[18]*x[31]*x[34] + 4x[3]*x[15]*x[31]*x[34]*x[41] + 4(x[3]^2)*x[8]*x[15]*x[21]*x[31]*x[34] + 4x[3]*x[15]*x[31]*x[34]*x[35]*x[42] + 3x[2]*x[16]*x[24]*x[39]*x[44]*x[58] + 4(x[3]^2)*x[8]*x[21]*x[31]*x[34]*x[41]*x[45] + 4x[3]*x[18]*x[21]*x[31]*x[34]*x[41]*x[47] + 4x[3]*x[31]*x[34]*x[35]*x[41]*x[42]*x[45] + 4(x[3]^2)*(x[21]^2)*x[8]*x[18]*x[31]*x[34]*x[47] + 4x[3]*x[18]*x[21]*x[31]*x[34]*x[35]*x[42]*x[47] + 3(x[21]^2)*x[16]*x[24]*x[25]*x[30]*x[33]*x[44]*x[58] + 3x[6]*x[16]*x[18]*x[24]*x[25]*x[30]*x[44]*x[58] + 2x[3]*x[9]*x[15]*x[20]*x[29]*x[31]*x[34]*x[43]*x[52]*x[57] + 3x[16]*x[24]*x[25]*x[30]*x[35]*x[41]*x[42]*x[44]*x[45]*x[58] + 3(x[21]^2)*x[3]*x[8]*x[16]*x[18]*x[24]*x[25]*x[30]*x[44]*x[47]*x[58] + 3x[3]*x[8]*x[16]*x[21]*x[24]*x[25]*x[30]*x[41]*x[44]*x[45]*x[58] + 3x[16]*x[18]*x[21]*x[24]*x[25]*x[30]*x[35]*x[42]*x[44]*x[47]*x[58] - 3x[16]*x[25]*x[35]*x[41]*x[43]*x[44]*x[45]*x[58] - 3x[16]*x[18]*x[21]*x[25]*x[35]*x[43]*x[44]*x[47]*x[58] - 4x[3]*x[9]*x[20]*x[29]*x[31]*x[34]*x[41]*x[43]*x[45]*x[52]*x[57] - 4x[3]*x[9]*x[18]*x[20]*x[21]*x[29]*x[31]*x[34]*x[43]*x[47]*x[52]*x[57]  …  2.0(x[31]^2)*x[3]*x[22]*x[34] + 2.0x[3]*x[31]*x[34]*x[41] + 2.0x[34]*x[39]*x[43]*x[52] + 4.0x[22]*x[31]*x[43]*x[52] + 2.0(x[31]^2)*x[3]*x[5]*x[30]*x[34] + 2.0(x[31]^2)*x[3]*x[24]*x[34]*x[50] + 2.0x[22]*x[31]*x[37]*x[43]*x[52] + 4.0(x[3]^2)*x[17]*x[22]*x[31]*x[34] + 4.0x[3]*x[8]*x[27]*x[31]*x[34] + 2.0(x[31]^2)*x[3]*x[7]*x[13]*x[34]*x[41] + 2.0(x[34]^2)*x[3]*x[31]*x[33]*x[35]*x[39] + 2.0(x[31]^2)*x[3]*x[19]*x[24]*x[34]*x[41] + 2.0(x[34]^2)*(x[41]^2)*x[3]*x[31]*x[39]*x[45] + 4.0(x[31]^2)*(x[41]^2)*x[3]*x[22]*x[34]*x[45] + 2.0(x[34]^2)*x[3]*x[6]*x[18]*x[31]*x[39] + 2.0(x[34]^2)*x[3]*x[15]*x[31]*x[39]*x[41] + 4.0(x[31]^2)*x[3]*x[6]*x[18]*x[22]*x[34] + 4.0(x[31]^2)*x[3]*x[22]*x[33]*x[34]*x[35] + 4.0(x[31]^2)*x[3]*x[15]*x[22]*x[34]*x[41] + 4.0(x[3]^2)*x[5]*x[17]*x[30]*x[31]*x[34] + 4.0x[1]*x[31]*x[43]*x[44]*x[47]*x[52] + 2.0x[3]*x[10]*x[22]*x[28]*x[31]*x[34] + 4.0x[3]*x[17]*x[22]*x[37]*x[43]*x[52] + 2.0x[10]*x[22]*x[28]*x[37]*x[43]*x[52] + 4.0(x[3]^2)*x[17]*x[24]*x[31]*x[34]*x[50] + 2.0(x[3]^2)*(x[31]^2)*x[8]*x[19]*x[21]*x[24]*x[34] + 2.0(x[31]^2)*x[3]*x[6]*x[18]*x[22]*x[34]*x[37] + 2.0(x[3]^2)*(x[31]^2)*x[7]*x[8]*x[13]*x[21]*x[34] + 2.0(x[3]^2)*(x[34]^2)*x[8]*x[15]*x[21]*x[31]*x[39] + 2.0(x[31]^2)*x[3]*x[15]*x[22]*x[34]*x[37]*x[41] + 2.0x[3]*x[5]*x[10]*x[28]*x[30]*x[31]*x[34] + 2.0x[3]*x[10]*x[24]*x[28]*x[31]*x[34]*x[50] + 4.0(x[3]^2)*x[7]*x[13]*x[17]*x[31]*x[34]*x[41] + 2.0(x[31]^2)*(x[41]^2)*x[3]*x[22]*x[34]*x[37]*x[45] + 2.0(x[31]^2)*x[3]*x[7]*x[13]*x[34]*x[35]*x[42] + 2.0(x[34]^2)*x[3]*x[15]*x[31]*x[35]*x[39]*x[42] + 3.0x[16]*x[24]*x[25]*x[30]*x[32]*x[44]*x[58] + 2.0x[1]*x[3]*x[17]*x[43]*x[44]*x[47]*x[52] + 2.0(x[31]^2)*x[3]*x[22]*x[33]*x[34]*x[35]*x[37] + 4.0(x[3]^2)*(x[31]^2)*x[8]*x[15]*x[21]*x[22]*x[34] + 4.0(x[31]^2)*x[3]*x[15]*x[22]*x[34]*x[35]*x[42] + 4.0(x[3]^2)*x[17]*x[19]*x[24]*x[31]*x[34]*x[41] + 2.0(x[31]^2)*x[3]*x[19]*x[24]*x[34]*x[35]*x[42] + 4.0x[1]*x[10]*x[28]*x[43]*x[44]*x[47]*x[52] + 4.0(x[3]^3)*x[8]*x[17]*x[19]*x[21]*x[24]*x[31]*x[34] + 2.0(x[34]^2)*x[3]*x[31]*x[35]*x[39]*x[41]*x[42]*x[45] + 4.0(x[3]^2)*x[6]*x[17]*x[18]*x[22]*x[31]*x[34]*x[37] + 4.0(x[3]^2)*x[17]*x[19]*x[24]*x[31]*x[34]*x[35]*x[42] + 2.0(x[3]^2)*(x[34]^2)*x[8]*x[21]*x[31]*x[39]*x[41]*x[45] + 4.0(x[31]^2)*x[1]*x[3]*x[15]*x[34]*x[41]*x[44]*x[47] + 3.0x[2]*x[13]*x[16]*x[19]*x[24]*x[39]*x[44]*x[58] + 4.0(x[3]^2)*(x[41]^2)*x[17]*x[22]*x[31]*x[34]*x[37]*x[45] + 4.0(x[3]^2)*(x[21]^2)*(x[31]^2)*x[8]*x[18]*x[22]*x[34]*x[47] + 4.0(x[3]^2)*(x[31]^2)*x[8]*x[21]*x[22]*x[34]*x[41]*x[45] + 4.0(x[31]^2)*x[3]*x[18]*x[21]*x[22]*x[34]*x[41]*x[47] + 4.0(x[31]^2)*x[1]*x[3]*x[6]*x[18]*x[34]*x[44]*x[47] + 2.0(x[3]^2)*(x[21]^2)*(x[34]^2)*x[8]*x[18]*x[31]*x[39]*x[47] + 4.0(x[31]^2)*x[1]*x[3]*x[33]*x[34]*x[35]*x[44]*x[47] + 2.0(x[3]^2)*(x[31]^2)*x[8]*x[15]*x[21]*x[22]*x[34]*x[37] + 2.0x[3]*x[10]*x[19]*x[24]*x[28]*x[31]*x[34]*x[41] + 4.0(x[3]^2)*x[15]*x[17]*x[22]*x[31]*x[34]*x[37]*x[41] + 2.0(x[34]^2)*x[3]*x[18]*x[21]*x[31]*x[39]*x[41]*x[47] + 2.0(x[31]^2)*x[3]*x[15]*x[22]*x[34]*x[35]*x[37]*x[42] + 4.0(x[3]^2)*x[7]*x[13]*x[17]*x[31]*x[34]*x[35]*x[42] + 2.0x[3]*x[7]*x[10]*x[13]*x[28]*x[31]*x[34]*x[41] + 4.0(x[31]^2)*x[3]*x[22]*x[34]*x[35]*x[41]*x[42]*x[45] + 3.0x[2]*x[16]*x[22]*x[24]*x[31]*x[39]*x[44]*x[58] + 4.0(x[3]^2)*x[17]*x[22]*x[31]*x[33]*x[34]*x[35]*x[37] + 4.0(x[3]^3)*x[7]*x[8]*x[13]*x[17]*x[21]*x[31]*x[34] + 4.0(x[31]^2)*(x[41]^2)*x[1]*x[3]*x[34]*x[44]*x[45]*x[47] + 3.0(x[43]^2)*x[3]*x[10]*x[16]*x[25]*x[28]*x[35]*x[44]*x[58] + 2.0x[3]*x[10]*x[19]*x[24]*x[28]*x[31]*x[34]*x[35]*x[42] + 4.0(x[3]^2)*(x[21]^2)*(x[31]^2)*(x[47]^2)*x[1]*x[8]*x[18]*x[34]*x[44] + 4.0(x[3]^3)*x[8]*x[15]*x[17]*x[21]*x[22]*x[31]*x[34]*x[37] + 4.0(x[3]^2)*x[15]*x[17]*x[22]*x[31]*x[34]*x[35]*x[37]*x[42] + 4.0(x[31]^2)*x[3]*x[18]*x[21]*x[22]*x[34]*x[35]*x[42]*x[47] + 3.0x[2]*x[5]*x[10]*x[16]*x[24]*x[28]*x[39]*x[44]*x[58] + 4.0(x[31]^2)*x[1]*x[3]*x[15]*x[34]*x[35]*x[42]*x[44]*x[47] + 2.0(x[3]^2)*x[1]*x[15]*x[17]*x[31]*x[34]*x[41]*x[44]*x[47] + 2.0x[3]*x[6]*x[10]*x[18]*x[22]*x[28]*x[31]*x[34]*x[37] + 2.0(x[3]^2)*(x[31]^2)*x[8]*x[21]*x[22]*x[34]*x[37]*x[41]*x[45] + 2.0(x[31]^2)*x[3]*x[22]*x[34]*x[35]*x[37]*x[41]*x[42]*x[45] + 4.0(x[31]^2)*(x[47]^2)*x[1]*x[3]*x[18]*x[21]*x[34]*x[41]*x[44] + 2.0(x[3]^2)*(x[41]^2)*x[1]*x[17]*x[31]*x[34]*x[44]*x[45]*x[47] + 4.0(x[3]^2)*(x[31]^2)*x[1]*x[8]*x[15]*x[21]*x[34]*x[44]*x[47] + 2.0(x[3]^2)*x[1]*x[6]*x[17]*x[18]*x[31]*x[34]*x[44]*x[47] + 2.0(x[3]^2)*x[1]*x[17]*x[31]*x[33]*x[34]*x[35]*x[44]*x[47] + 2.0(x[3]^2)*x[7]*x[8]*x[10]*x[13]*x[21]*x[28]*x[31]*x[34] + 2.0x[3]*x[10]*x[22]*x[28]*x[31]*x[33]*x[34]*x[35]*x[37] + 2.0x[3]*x[7]*x[10]*x[13]*x[28]*x[31]*x[34]*x[35]*x[42] + 2.0(x[3]^2)*x[8]*x[10]*x[19]*x[21]*x[24]*x[28]*x[31]*x[34] + 2.0(x[3]^2)*(x[21]^2)*(x[31]^2)*x[8]*x[18]*x[22]*x[34]*x[37]*x[47] + 2.0(x[31]^2)*x[3]*x[18]*x[21]*x[22]*x[34]*x[37]*x[41]*x[47] + 2.0(x[41]^2)*x[3]*x[10]*x[22]*x[28]*x[31]*x[34]*x[37]*x[45] + 2.0x[3]*x[10]*x[15]*x[22]*x[28]*x[31]*x[34]*x[37]*x[41] + 2.0(x[34]^2)*x[3]*x[18]*x[21]*x[31]*x[35]*x[39]*x[42]*x[47] + 2.0(x[3]^3)*(x[21]^2)*(x[47]^2)*x[1]*x[8]*x[17]*x[18]*x[31]*x[34]*x[44] + 4.0(x[3]^3)*(x[21]^2)*x[8]*x[17]*x[18]*x[22]*x[31]*x[34]*x[37]*x[47] + 4.0(x[31]^2)*(x[47]^2)*x[1]*x[3]*x[18]*x[21]*x[34]*x[35]*x[42]*x[44] + 4.0(x[3]^2)*(x[31]^2)*x[1]*x[8]*x[21]*x[34]*x[41]*x[44]*x[45]*x[47] + 4.0(x[31]^2)*x[1]*x[3]*x[34]*x[35]*x[41]*x[42]*x[44]*x[45]*x[47] + 3.0x[6]*x[13]*x[16]*x[18]*x[19]*x[24]*x[25]*x[30]*x[44]*x[58] + 2.0(x[3]^2)*x[8]*x[10]*x[15]*x[21]*x[22]*x[28]*x[31]*x[34]*x[37] + 3.0(x[21]^2)*x[16]*x[22]*x[24]*x[25]*x[30]*x[31]*x[33]*x[44]*x[58] + 2.0(x[31]^2)*x[3]*x[18]*x[21]*x[22]*x[34]*x[35]*x[37]*x[42]*x[47] + 2.0(x[3]^3)*x[1]*x[8]*x[15]*x[17]*x[21]*x[31]*x[34]*x[44]*x[47] + 3.0x[7]*x[10]*x[13]*x[16]*x[25]*x[28]*x[35]*x[43]*x[44]*x[58] + 3.0x[13]*x[16]*x[19]*x[25]*x[35]*x[41]*x[43]*x[44]*x[45]*x[58] + 4.0x[1]*x[3]*x[10]*x[15]*x[28]*x[31]*x[34]*x[41]*x[44]*x[47] + 4.0(x[3]^3)*x[8]*x[17]*x[21]*x[22]*x[31]*x[34]*x[37]*x[41]*x[45] + 4.0(x[41]^2)*x[1]*x[3]*x[10]*x[28]*x[31]*x[34]*x[44]*x[45]*x[47] + 3.0x[6]*x[16]*x[18]*x[22]*x[24]*x[25]*x[30]*x[31]*x[44]*x[58] + 2.0(x[3]^2)*(x[47]^2)*x[1]*x[17]*x[18]*x[21]*x[31]*x[34]*x[41]*x[44] + 3.0x[2]*x[10]*x[16]*x[22]*x[24]*x[28]*x[37]*x[39]*x[44]*x[58] + 3.0x[10]*x[16]*x[19]*x[24]*x[25]*x[28]*x[35]*x[43]*x[44]*x[58] + 3.0x[16]*x[22]*x[25]*x[31]*x[35]*x[41]*x[43]*x[44]*x[45]*x[58] + 4.0(x[3]^2)*x[17]*x[18]*x[21]*x[22]*x[31]*x[34]*x[37]*x[41]*x[47] + 3.0(x[21]^2)*x[13]*x[16]*x[19]*x[24]*x[25]*x[30]*x[33]*x[44]*x[58] + 4.0x[1]*x[3]*x[6]*x[10]*x[18]*x[28]*x[31]*x[34]*x[44]*x[47] + 4.0x[1]*x[3]*x[10]*x[28]*x[31]*x[33]*x[34]*x[35]*x[44]*x[47] + 4.0(x[3]^2)*x[17]*x[22]*x[31]*x[34]*x[35]*x[37]*x[41]*x[42]*x[45] + 3.0(x[44]^2)*x[1]*x[2]*x[10]*x[16]*x[24]*x[28]*x[39]*x[47]*x[58] + 2.0x[3]*x[10]*x[15]*x[22]*x[28]*x[31]*x[34]*x[35]*x[37]*x[42] + 2.0(x[3]^2)*x[1]*x[15]*x[17]*x[31]*x[34]*x[35]*x[42]*x[44]*x[47] + 3.0x[5]*x[6]*x[10]*x[16]*x[18]*x[24]*x[25]*x[28]*x[30]*x[44]*x[58] + 3.0x[13]*x[16]*x[18]*x[19]*x[21]*x[25]*x[35]*x[43]*x[44]*x[47]*x[58] + 2.0(x[3]^2)*x[1]*x[17]*x[31]*x[34]*x[35]*x[41]*x[42]*x[44]*x[45]*x[47] + 4.0(x[3]^2)*(x[21]^2)*(x[47]^2)*x[1]*x[8]*x[10]*x[18]*x[28]*x[31]*x[34]*x[44] + 4.0(x[31]^2)*x[3]*x[9]*x[19]*x[20]*x[24]*x[29]*x[34]*x[43]*x[52]*x[57] + 2.0(x[3]^3)*x[1]*x[8]*x[17]*x[21]*x[31]*x[34]*x[41]*x[44]*x[45]*x[47] + 3.0(x[24]^2)*x[10]*x[16]*x[19]*x[25]*x[28]*x[30]*x[35]*x[42]*x[44]*x[58] + 2.0(x[3]^2)*x[8]*x[10]*x[21]*x[22]*x[28]*x[31]*x[34]*x[37]*x[41]*x[45] + 4.0(x[3]^2)*x[17]*x[18]*x[21]*x[22]*x[31]*x[34]*x[35]*x[37]*x[42]*x[47] + 4.0(x[34]^2)*x[3]*x[9]*x[15]*x[20]*x[29]*x[31]*x[39]*x[43]*x[52]*x[57] + 3.0x[16]*x[18]*x[21]*x[22]*x[25]*x[31]*x[35]*x[43]*x[44]*x[47]*x[58] + 4.0(x[47]^2)*x[1]*x[3]*x[10]*x[18]*x[21]*x[28]*x[31]*x[34]*x[41]*x[44] + 4.0(x[31]^2)*x[3]*x[7]*x[9]*x[13]*x[20]*x[29]*x[34]*x[43]*x[52]*x[57] + 2.0(x[3]^2)*(x[21]^2)*x[8]*x[10]*x[18]*x[22]*x[28]*x[31]*x[34]*x[37]*x[47] + 2.0x[3]*x[10]*x[18]*x[21]*x[22]*x[28]*x[31]*x[34]*x[37]*x[41]*x[47] + 4.0x[1]*x[3]*x[10]*x[15]*x[28]*x[31]*x[34]*x[35]*x[42]*x[44]*x[47] + 2.0(x[31]^2)*x[3]*x[9]*x[15]*x[20]*x[22]*x[29]*x[34]*x[43]*x[52]*x[57] + 4.0(x[3]^2)*x[1]*x[8]*x[10]*x[15]*x[21]*x[28]*x[31]*x[34]*x[44]*x[47] + 3.0(x[21]^2)*x[5]*x[10]*x[16]*x[24]*x[25]*x[28]*x[30]*x[33]*x[44]*x[58] + 2.0(x[3]^2)*(x[47]^2)*x[1]*x[17]*x[18]*x[21]*x[31]*x[34]*x[35]*x[42]*x[44] + 3.0x[5]*x[10]*x[16]*x[25]*x[28]*x[35]*x[41]*x[43]*x[44]*x[45]*x[58] + 2.0x[3]*x[10]*x[22]*x[28]*x[31]*x[34]*x[35]*x[37]*x[41]*x[42]*x[45] + 3.0(x[44]^2)*(x[47]^2)*x[1]*x[10]*x[16]*x[18]*x[21]*x[25]*x[28]*x[35]*x[43]*x[58] + 3.0(x[24]^2)*x[3]*x[8]*x[10]*x[16]*x[19]*x[21]*x[25]*x[28]*x[30]*x[44]*x[58] + 3.0(x[3]^2)*x[8]*x[10]*x[16]*x[21]*x[24]*x[25]*x[28]*x[30]*x[43]*x[44]*x[58] + 3.0x[3]*x[10]*x[16]*x[24]*x[25]*x[28]*x[30]*x[35]*x[42]*x[43]*x[44]*x[58] + 3.0x[7]*x[10]*x[13]*x[16]*x[24]*x[25]*x[28]*x[30]*x[35]*x[42]*x[44]*x[58] + 3.0x[10]*x[16]*x[22]*x[25]*x[28]*x[35]*x[37]*x[41]*x[43]*x[44]*x[45]*x[58] + 4.0(x[3]^2)*x[1]*x[8]*x[10]*x[21]*x[28]*x[31]*x[34]*x[41]*x[44]*x[45]*x[47] + 4.0(x[47]^2)*x[1]*x[3]*x[10]*x[18]*x[21]*x[28]*x[31]*x[34]*x[35]*x[42]*x[44] + 3.0(x[21]^2)*x[10]*x[16]*x[22]*x[24]*x[25]*x[28]*x[30]*x[33]*x[37]*x[44]*x[58] + 2.0(x[31]^2)*x[3]*x[9]*x[20]*x[22]*x[29]*x[34]*x[41]*x[43]*x[45]*x[52]*x[57] + 2.0x[3]*x[10]*x[18]*x[21]*x[22]*x[28]*x[31]*x[34]*x[35]*x[37]*x[42]*x[47] + 3.0x[13]*x[16]*x[19]*x[24]*x[25]*x[30]*x[35]*x[41]*x[42]*x[44]*x[45]*x[58] + 2.0(x[3]^2)*x[9]*x[17]*x[19]*x[20]*x[24]*x[29]*x[31]*x[34]*x[43]*x[52]*x[57] + 4.0(x[34]^2)*x[3]*x[9]*x[20]*x[29]*x[31]*x[39]*x[41]*x[43]*x[45]*x[52]*x[57] + 3.0x[16]*x[22]*x[24]*x[25]*x[30]*x[31]*x[35]*x[41]*x[42]*x[44]*x[45]*x[58] + 2.0(x[3]^2)*x[7]*x[9]*x[13]*x[17]*x[20]*x[29]*x[31]*x[34]*x[43]*x[52]*x[57] + 3.0(x[21]^2)*(x[44]^2)*x[1]*x[10]*x[16]*x[24]*x[25]*x[28]*x[30]*x[33]*x[47]*x[58] + 3.0(x[44]^2)*x[1]*x[6]*x[10]*x[16]*x[18]*x[24]*x[25]*x[28]*x[30]*x[47]*x[58] + 3.0(x[44]^2)*x[1]*x[10]*x[16]*x[25]*x[28]*x[35]*x[41]*x[43]*x[45]*x[47]*x[58] + 4.0x[1]*x[3]*x[10]*x[28]*x[31]*x[34]*x[35]*x[41]*x[42]*x[44]*x[45]*x[47] + 3.0x[5]*x[10]*x[16]*x[18]*x[21]*x[25]*x[28]*x[35]*x[43]*x[44]*x[47]*x[58] + 3.0x[6]*x[10]*x[16]*x[18]*x[22]*x[24]*x[25]*x[28]*x[30]*x[37]*x[44]*x[58] + 4.0(x[31]^2)*x[3]*x[9]*x[15]*x[20]*x[22]*x[29]*x[34]*x[37]*x[43]*x[52]*x[57] + 2.0(x[31]^2)*x[1]*x[3]*x[9]*x[15]*x[20]*x[29]*x[34]*x[43]*x[44]*x[47]*x[52]*x[57] + 2.0(x[3]^2)*x[9]*x[15]*x[17]*x[20]*x[22]*x[29]*x[31]*x[34]*x[37]*x[43]*x[52]*x[57] + 3.0x[3]*x[7]*x[8]*x[10]*x[13]*x[16]*x[21]*x[24]*x[25]*x[28]*x[30]*x[44]*x[58] + 3.0x[3]*x[8]*x[13]*x[16]*x[19]*x[21]*x[24]*x[25]*x[30]*x[41]*x[44]*x[45]*x[58] + 3.0x[3]*x[8]*x[16]*x[21]*x[22]*x[24]*x[25]*x[30]*x[31]*x[41]*x[44]*x[45]*x[58] + 3.0(x[21]^2)*x[3]*x[8]*x[13]*x[16]*x[18]*x[19]*x[24]*x[25]*x[30]*x[44]*x[47]*x[58] + 3.0x[5]*x[10]*x[16]*x[24]*x[25]*x[28]*x[30]*x[35]*x[41]*x[42]*x[44]*x[45]*x[58] + 3.0(x[21]^2)*x[3]*x[8]*x[16]*x[18]*x[22]*x[24]*x[25]*x[30]*x[31]*x[44]*x[47]*x[58] + 3.0x[10]*x[16]*x[18]*x[21]*x[22]*x[25]*x[28]*x[35]*x[37]*x[43]*x[44]*x[47]*x[58] + 2.0(x[31]^2)*x[3]*x[9]*x[18]*x[20]*x[21]*x[22]*x[29]*x[34]*x[43]*x[47]*x[52]*x[57] + 4.0(x[34]^2)*x[3]*x[9]*x[18]*x[20]*x[21]*x[29]*x[31]*x[39]*x[43]*x[47]*x[52]*x[57] + 4.0(x[31]^2)*x[3]*x[9]*x[20]*x[22]*x[29]*x[34]*x[37]*x[41]*x[43]*x[45]*x[52]*x[57] + 4.0x[3]*x[7]*x[9]*x[10]*x[13]*x[20]*x[28]*x[29]*x[31]*x[34]*x[43]*x[52]*x[57] + 4.0x[3]*x[9]*x[10]*x[19]*x[20]*x[24]*x[28]*x[29]*x[31]*x[34]*x[43]*x[52]*x[57] + 3.0x[13]*x[16]*x[18]*x[19]*x[21]*x[24]*x[25]*x[30]*x[35]*x[42]*x[44]*x[47]*x[58] + 3.0x[16]*x[18]*x[21]*x[22]*x[24]*x[25]*x[30]*x[31]*x[35]*x[42]*x[44]*x[47]*x[58] + 2.0(x[31]^2)*(x[47]^2)*x[1]*x[3]*x[9]*x[18]*x[20]*x[21]*x[29]*x[34]*x[43]*x[44]*x[52]*x[57] + 2.0(x[3]^2)*x[9]*x[17]*x[20]*x[22]*x[29]*x[31]*x[34]*x[37]*x[41]*x[43]*x[45]*x[52]*x[57] + 3.0(x[44]^2)*x[1]*x[10]*x[16]*x[24]*x[25]*x[28]*x[30]*x[35]*x[41]*x[42]*x[45]*x[47]*x[58] + 4.0x[3]*x[9]*x[10]*x[15]*x[20]*x[22]*x[28]*x[29]*x[31]*x[34]*x[37]*x[43]*x[52]*x[57] + 3.0(x[21]^2)*x[3]*x[5]*x[8]*x[10]*x[16]*x[18]*x[24]*x[25]*x[28]*x[30]*x[44]*x[47]*x[58] + 3.0x[5]*x[10]*x[16]*x[18]*x[21]*x[24]*x[25]*x[28]*x[30]*x[35]*x[42]*x[44]*x[47]*x[58] + 4.0(x[31]^2)*x[3]*x[9]*x[18]*x[20]*x[21]*x[22]*x[29]*x[34]*x[37]*x[43]*x[47]*x[52]*x[57] + 3.0(x[21]^2)*(x[44]^2)*(x[47]^2)*x[1]*x[3]*x[8]*x[10]*x[16]*x[18]*x[24]*x[25]*x[28]*x[30]*x[58] + 3.0x[3]*x[5]*x[8]*x[10]*x[16]*x[21]*x[24]*x[25]*x[28]*x[30]*x[41]*x[44]*x[45]*x[58] + 3.0x[10]*x[16]*x[22]*x[24]*x[25]*x[28]*x[30]*x[35]*x[37]*x[41]*x[42]*x[44]*x[45]*x[58] + 4.0(x[3]^2)*x[1]*x[9]*x[15]*x[17]*x[20]*x[29]*x[31]*x[34]*x[43]*x[44]*x[47]*x[52]*x[57] + 2.0(x[31]^2)*x[1]*x[3]*x[9]*x[20]*x[29]*x[34]*x[41]*x[43]*x[44]*x[45]*x[47]*x[52]*x[57] + 3.0(x[44]^2)*(x[47]^2)*x[1]*x[10]*x[16]*x[18]*x[21]*x[24]*x[25]*x[28]*x[30]*x[35]*x[42]*x[58] + 3.0(x[21]^2)*x[3]*x[8]*x[10]*x[16]*x[18]*x[22]*x[24]*x[25]*x[28]*x[30]*x[37]*x[44]*x[47]*x[58] + 3.0x[3]*x[8]*x[10]*x[16]*x[21]*x[22]*x[24]*x[25]*x[28]*x[30]*x[37]*x[41]*x[44]*x[45]*x[58] + 3.0x[10]*x[16]*x[18]*x[21]*x[22]*x[24]*x[25]*x[28]*x[30]*x[35]*x[37]*x[42]*x[44]*x[47]*x[58] + 4.0(x[3]^2)*(x[47]^2)*x[1]*x[9]*x[17]*x[18]*x[20]*x[21]*x[29]*x[31]*x[34]*x[43]*x[44]*x[52]*x[57] + 2.0x[1]*x[3]*x[9]*x[10]*x[15]*x[20]*x[28]*x[29]*x[31]*x[34]*x[43]*x[44]*x[47]*x[52]*x[57] + 3.0(x[44]^2)*x[1]*x[3]*x[8]*x[10]*x[16]*x[21]*x[24]*x[25]*x[28]*x[30]*x[41]*x[45]*x[47]*x[58] + 4.0x[3]*x[9]*x[10]*x[20]*x[22]*x[28]*x[29]*x[31]*x[34]*x[37]*x[41]*x[43]*x[45]*x[52]*x[57] + 4.0(x[3]^2)*x[1]*x[9]*x[17]*x[20]*x[29]*x[31]*x[34]*x[41]*x[43]*x[44]*x[45]*x[47]*x[52]*x[57] + 2.0(x[3]^2)*x[9]*x[17]*x[18]*x[20]*x[21]*x[22]*x[29]*x[31]*x[34]*x[37]*x[43]*x[47]*x[52]*x[57] + 2.0(x[47]^2)*x[1]*x[3]*x[9]*x[10]*x[18]*x[20]*x[21]*x[28]*x[29]*x[31]*x[34]*x[43]*x[44]*x[52]*x[57] + 4.0x[3]*x[9]*x[10]*x[18]*x[20]*x[21]*x[22]*x[28]*x[29]*x[31]*x[34]*x[37]*x[43]*x[47]*x[52]*x[57] + 2.0x[1]*x[3]*x[9]*x[10]*x[20]*x[28]*x[29]*x[31]*x[34]*x[41]*x[43]*x[44]*x[45]*x[47]*x[52]*x[57] - 4.0x[3]*x[4]*x[6]*x[31]*x[34] - 4.0(x[3]^2)*x[8]*x[21]*x[31]*x[34] - 4.0x[3]*x[31]*x[34]*x[35]*x[42] - 3.0x[16]*x[24]*x[25]*x[30]*x[35]*x[42]*x[44]*x[58] - 3.0x[4]*x[6]*x[16]*x[24]*x[25]*x[30]*x[44]*x[58] - 3.0x[3]*x[8]*x[16]*x[21]*x[24]*x[25]*x[30]*x[44]*x[58]"
      ]
     },
     "execution_count": 260,
     "metadata": {},
     "output_type": "execute_result"
    }
   ],
   "source": [
    "# Vs=simplify.(expand.(V))\n",
    "Vs=modify_matrix_coef(Vs,6)"
   ]
  },
  {
   "cell_type": "code",
   "execution_count": 261,
   "id": "f404c12d",
   "metadata": {},
   "outputs": [
    {
     "name": "stdout",
     "output_type": "stream",
     "text": [
      "42216\n"
     ]
    }
   ],
   "source": [
    "file=open(\"signature.txt\",\"w\")\n",
    "for i in Vs\n",
    "    write(file,string(i))\n",
    "    write(file,\"\\n\")\n",
    "end\n",
    "close(file)\n",
    "\n",
    "println(filesize(\"signature.txt\"))"
   ]
  },
  {
   "cell_type": "markdown",
   "id": "6ea47746",
   "metadata": {},
   "source": [
    "# Size of public key, private key, and signature vector"
   ]
  },
  {
   "cell_type": "code",
   "execution_count": 238,
   "id": "bd4153c8",
   "metadata": {},
   "outputs": [
    {
     "name": "stdout",
     "output_type": "stream",
     "text": [
      "Any[4536, 3584, 3001, 19659, 3824, 5110, 12149, 2923, 14852, 4831, 12989, 7584, 3822, 6650, 13421, 7116, 8804, 11005, 10234, 16309, 15818, 15730, 5276, 8581, 21322, 11096, 17816, 8598, 7569, 2224, 5899, 9943, 16609, 11710, 14479, 8754, 4939, 10407, 6871, 7411, 6472, 15186, 11208, 11814, 8191, 14369, 16061, 7820, 15765, 15249, 18382, 12243, 10262, 14896, 10619, 6719, 5136, 2941, 3406, 13051, 13727, 9877, 2997, 4951, 14324, 9853, 11366, 5443, 22575, 9118, 12806, 10156, 19180, 16583, 8934, 3046, 8914, 10005, 10456, 4291, 5097, 4090, 4158, 12969, 5850, 9537, 5601, 8485, 12042, 2871, 10917, 12561, 17578, 15522, 7603, 23214, 16362, 3672, 12214, 11519]\n",
      "10137.09\n",
      "Any[13839, 8557, 5559, 6927, 11794, 5498, 13050, 12734, 9580, 11893, 9336, 5435, 11972, 4709, 10190, 3794, 9799, 5067, 9117, 12827, 11266, 10179, 10296, 13205, 5382, 4485, 6958, 13304, 5233, 12172, 10806, 12803, 7033, 9988, 7739, 13240, 7965, 6547, 11810, 10922, 5816, 6820, 6263, 9797, 8977, 7519, 7351, 11162, 4833, 5659, 7622, 4690, 14341, 10668, 918, 8400, 8773, 11955, 13182, 6408, 6985, 8952, 14874, 14628, 7917, 5869, 13259, 9143, 7163, 8327, 9873, 8711, 11361, 10641, 8294, 8405, 9919, 7910, 8469, 12733, 13594, 12090, 13026, 7016, 10289, 13625, 7954, 13629, 10278, 6987, 1938, 7665, 10001, 11265, 5653, 5712, 7591, 13939, 7706, 12748]\n",
      "9203.03\n",
      "Any[3536, 2617, 1927, 18370, 2815, 4233, 10862, 2126, 13624, 3713, 11910, 6519, 2769, 5369, 12246, 5829, 7521, 9724, 9195, 15091, 14602, 14575, 4101, 7406, 20165, 9809, 16600, 7514, 6802, 1391, 4962, 8652, 15460, 10421, 13194, 7775, 4294, 9436, 5838, 6352, 5610, 14105, 10100, 10533, 6912, 13288, 14982, 6539, 14482, 14084, 17097, 11147, 8969, 14019, 9334, 5750, 4077, 2120, 2577, 12039, 12686, 8594, 1926, 3741, 13243, 8572, 10081, 4162, 21286, 8170, 11761, 8871, 18099, 15499, 8044, 2078, 7960, 8720, 9171, 3197, 3814, 2935, 3087, 11684, 4958, 8378, 4631, 7396, 10928, 2211, 9734, 11282, 16293, 14298, 6320, 21925, 15152, 2391, 11059, 10572]\n",
      "9020.18\n"
     ]
    }
   ],
   "source": [
    "filesizes = []\n",
    "public_keys = []\n",
    "private_keys = []\n",
    "for i in 1:100\n",
    "    A, B, C, D = matrix_kl(6, 3, 50, 3, 3, 6)\n",
    "\n",
    "    file = open(\"publicKey.txt\", \"w\")\n",
    "    for i in 1:Int(size(C, 1))\n",
    "        for j in 1:Int(size(C, 2))\n",
    "            write(file, string(C[i, j]))\n",
    "            write(file, \" \")\n",
    "        end\n",
    "        write(file, \"\\n\")\n",
    "    end\n",
    "    close(file)\n",
    "    append!(public_keys, filesize(\"publicKey.txt\"))\n",
    "\n",
    "    file = open(\"privateKey.txt\", \"w\")\n",
    "    for i in 1:Int(size(D, 1))\n",
    "        for j in 1:Int(size(D, 2))\n",
    "            write(file, string(D[i, j]))\n",
    "            write(file, \" \")\n",
    "        end\n",
    "        write(file, \"\\n\")\n",
    "    end\n",
    "    close(file)\n",
    "    append!(private_keys, filesize(\"privateKey.txt\"))\n",
    "\n",
    "    U, Un = polys(message)\n",
    "    V = Un * D\n",
    "    file = open(\"signature.txt\", \"w\")\n",
    "    for i in V\n",
    "        write(file, string(i))\n",
    "        write(file, \"\\n\")\n",
    "    end\n",
    "    close(file)\n",
    "    append!(filesizes, filesize(\"signature.txt\"))\n",
    "end\n",
    "println(filesizes)\n",
    "println(mean(filesizes))\n",
    "println(public_keys)\n",
    "println(mean(public_keys))\n",
    "println(private_keys)\n",
    "println(mean(private_keys))"
   ]
  },
  {
   "cell_type": "code",
   "execution_count": 164,
   "id": "5e242ea7",
   "metadata": {},
   "outputs": [],
   "source": [
    "# V*C"
   ]
  },
  {
   "cell_type": "markdown",
   "id": "9cef95d3",
   "metadata": {},
   "source": [
    "# Verification"
   ]
  },
  {
   "cell_type": "code",
   "execution_count": 263,
   "id": "b28c8fd4",
   "metadata": {},
   "outputs": [
    {
     "name": "stdout",
     "output_type": "stream",
     "text": [
      "(-360.0,)\n",
      "(0,)\n",
      "(-48.0,)\n",
      "(0,)\n",
      "(0.0,)\n",
      "(0,)\n",
      "(0.0,)\n",
      "(0,)\n",
      "(12.0,)\n",
      "(0,)\n",
      "(12.0,)\n",
      "(0,)\n",
      "(0.0,)\n",
      "(0,)\n",
      "(0.0,)\n",
      "(0,)\n",
      "(0.0,)\n",
      "(0,)\n",
      "(0.0,)\n",
      "(0,)\n",
      "(0.0,)\n",
      "(0,)\n",
      "(0.0,)\n",
      "(0,)\n",
      "(0.0,)\n",
      "(0,)\n",
      "(0.0,)\n",
      "(0,)\n",
      "(0.0,)\n",
      "(0,)\n",
      "(0.0,)\n",
      "(0,)\n",
      "(0.0,)\n",
      "(0,)\n",
      "(0.0,)\n",
      "(0,)\n",
      "(0.0,)\n",
      "(0,)\n",
      "(0.0,)\n",
      "(0,)\n",
      "(0.0,)\n",
      "(0,)\n",
      "(0.0,)\n",
      "(0,)\n",
      "(0.0,)\n",
      "(0,)\n",
      "(0.0,)\n",
      "(0,)\n",
      "(-256.0,)\n",
      "(0,)\n",
      "(0.0,)\n",
      "(4,)\n",
      "(-24.0,)\n",
      "(4,)\n",
      "(-24.0,)\n",
      "(0,)\n",
      "(0.0,)\n",
      "(4,)\n",
      "(0.0,)\n",
      "(0,)\n",
      "(0.0,)\n",
      "(0,)\n",
      "(0.0,)\n",
      "(0,)\n",
      "(0.0,)\n",
      "(0,)\n",
      "(0.0,)\n",
      "(0,)\n",
      "(0.0,)\n",
      "(0,)\n",
      "(0.0,)\n",
      "(0,)\n",
      "(0.0,)\n",
      "(4,)\n",
      "(0.0,)\n",
      "(0,)\n",
      "(0.0,)\n",
      "(0,)\n",
      "(0.0,)\n",
      "(0,)\n",
      "(0.0,)\n",
      "(0,)\n",
      "(0.0,)\n",
      "(0,)\n",
      "(-96.0,)\n",
      "(4,)\n",
      "(0.0,)\n",
      "(0,)\n",
      "(0.0,)\n",
      "(0,)\n",
      "(0.0,)\n",
      "(0,)\n",
      "(0.0,)\n",
      "(0,)\n",
      "(0.0,)\n",
      "(0,)\n",
      "(0.0,)\n",
      "(0,)\n",
      "(0.0,)\n",
      "(0,)\n",
      "(0.0,)\n",
      "(4,)\n",
      "(0.0,)\n",
      "(0,)\n",
      "(0.0,)\n",
      "(4,)\n",
      "(0.0,)\n",
      "(0,)\n",
      "(0.0,)\n",
      "(0,)\n",
      "(0.0,)\n",
      "(0,)\n",
      "(0.0,)\n",
      "(0,)\n",
      "(0.0,)\n",
      "(0,)\n",
      "(0.0,)\n",
      "(4,)\n",
      "(952.0,)\n",
      "(0,)\n",
      "(0.0,)\n",
      "(0,)\n",
      "(0.0,)\n",
      "(0,)\n",
      "(0.0,)\n",
      "(0,)\n",
      "(0.0,)\n",
      "(0,)\n",
      "(-120.0,)\n",
      "(0,)\n",
      "(-120.0,)\n",
      "(0,)\n",
      "(0.0,)\n",
      "(0,)\n",
      "(0.0,)\n",
      "(0,)\n",
      "(0.0,)\n",
      "(0,)\n",
      "(0.0,)\n",
      "(0,)\n",
      "(0.0,)\n",
      "(0,)\n",
      "(0.0,)\n",
      "(0,)\n",
      "(0.0,)\n",
      "(0,)\n",
      "(0.0,)\n",
      "(0,)\n",
      "(0.0,)\n",
      "(0,)\n",
      "(0.0,)\n",
      "(0,)\n",
      "(0.0,)\n",
      "(0,)\n",
      "(0.0,)\n",
      "(0,)\n",
      "(0.0,)\n",
      "(0,)\n",
      "(0.0,)\n",
      "(0,)\n",
      "(0.0,)\n",
      "(0,)\n",
      "(0.0,)\n",
      "(0,)\n",
      "(0.0,)\n",
      "(0,)\n",
      "(-48.0,)\n",
      "(4,)\n",
      "(0.0,)\n",
      "(0,)\n",
      "(0.0,)\n",
      "(0,)\n",
      "(0.0,)\n",
      "(4,)\n",
      "(0.0,)\n",
      "(4,)\n",
      "(0.0,)\n",
      "(0,)\n",
      "(0.0,)\n",
      "(0,)\n",
      "(0.0,)\n",
      "(0,)\n",
      "(0.0,)\n",
      "(0,)\n",
      "(360.0,)\n",
      "(4,)\n",
      "(360.0,)\n",
      "(4,)\n",
      "(0.0,)\n",
      "(0,)\n",
      "(0.0,)\n",
      "(0,)\n",
      "(0.0,)\n",
      "(0,)\n",
      "(0.0,)\n",
      "(0,)\n",
      "(-144.0,)\n",
      "(0,)\n",
      "(-144.0,)\n",
      "(0,)\n",
      "(0.0,)\n",
      "(0,)\n",
      "(0.0,)\n",
      "(0,)\n",
      "(784.0,)\n",
      "(0,)\n",
      "(124.0,)\n",
      "(0,)\n",
      "(0.0,)\n",
      "(0,)\n",
      "(0.0,)\n",
      "(0,)\n",
      "(-48.0,)\n",
      "(4,)\n",
      "(-48.0,)\n",
      "(4,)\n",
      "(63.0,)\n",
      "(0,)\n",
      "(-72.0,)\n",
      "(3,)\n",
      "(0.0,)\n",
      "(0,)\n",
      "(0.0,)\n",
      "(0,)\n",
      "(24.0,)\n",
      "(0,)\n",
      "(0.0,)\n",
      "(4,)\n",
      "(240.0,)\n",
      "(0,)\n",
      "(-372.0,)\n",
      "(0,)\n",
      "(0.0,)\n",
      "(4,)\n",
      "(0.0,)\n",
      "(4,)\n",
      "(-186.0,)\n",
      "(4,)\n",
      "(-48.0,)\n",
      "(3,)\n",
      "(0.0,)\n",
      "(0,)\n",
      "(0.0,)\n",
      "(0,)\n",
      "(0.0,)\n",
      "(0,)\n",
      "(0.0,)\n",
      "(0,)\n",
      "(0.0,)\n",
      "(0,)\n",
      "(0.0,)\n",
      "(0,)\n",
      "(0.0,)\n",
      "(0,)\n",
      "(0.0,)\n",
      "(0,)\n",
      "(24.0,)\n",
      "(4,)\n",
      "(-4.0,)\n",
      "(0,)\n",
      "(-288.0,)\n",
      "(4,)\n",
      "(-288.0,)\n",
      "(4,)\n",
      "(92.0,)\n",
      "(0,)\n",
      "(92.0,)\n",
      "(0,)\n",
      "(0.0,)\n",
      "(0,)\n",
      "(0.0,)\n",
      "(0,)\n",
      "(688.0,)\n",
      "(0,)\n",
      "(144.0,)\n",
      "(4,)\n",
      "(0.0,)\n",
      "(0,)\n",
      "(0.0,)\n",
      "(4,)\n",
      "(0.0,)\n",
      "(4,)\n",
      "(0.0,)\n",
      "(4,)\n",
      "(0.0,)\n",
      "(0,)\n",
      "(0.0,)\n",
      "(0,)\n",
      "(0.0,)\n",
      "(0,)\n",
      "(0.0,)\n",
      "(0,)\n",
      "(0.0,)\n",
      "(0,)\n",
      "(0.0,)\n",
      "(0,)\n",
      "(448.0,)\n",
      "(0,)\n",
      "(48.0,)\n",
      "(4,)\n",
      "(0.0,)\n",
      "(0,)\n",
      "(-24.0,)\n",
      "(0,)\n",
      "(0.0,)\n",
      "(0,)\n",
      "(0.0,)\n",
      "(0,)\n",
      "(0.0,)\n",
      "(0,)\n",
      "(0.0,)\n",
      "(0,)\n",
      "(0.0,)\n",
      "(0,)\n",
      "(0.0,)\n",
      "(0,)\n",
      "(0.0,)\n",
      "(0,)\n",
      "(0.0,)\n",
      "(0,)\n",
      "(0.0,)\n",
      "(0,)\n",
      "(0.0,)\n",
      "(0,)\n",
      "(0.0,)\n",
      "(0,)\n",
      "(0.0,)\n",
      "(4,)\n",
      "(0.0,)\n",
      "(0,)\n",
      "(0.0,)\n",
      "(0,)\n",
      "(0.0,)\n",
      "(0,)\n",
      "(0.0,)\n",
      "(0,)\n",
      "(0.0,)\n",
      "(0,)\n",
      "(0.0,)\n",
      "(0,)\n",
      "(0.0,)\n",
      "(0,)\n",
      "(0.0,)\n",
      "(0,)\n",
      "(0.0,)\n",
      "(0,)\n",
      "(0.0,)\n",
      "(0,)\n",
      "(0.0,)\n",
      "(0,)\n",
      "(0.0,)\n",
      "(0,)\n",
      "(0.0,)\n",
      "(4,)\n",
      "(0.0,)\n",
      "(4,)\n",
      "(0.0,)\n",
      "(0,)\n",
      "(0.0,)\n",
      "(0,)\n",
      "(-48.0,)\n",
      "(4,)\n",
      "(0.0,)\n",
      "(0,)\n",
      "(0.0,)\n",
      "(4,)\n",
      "(0.0,)\n",
      "(0,)\n",
      "(0.0,)\n",
      "(0,)\n",
      "(0.0,)\n",
      "(0,)\n",
      "(0.0,)\n",
      "(0,)\n",
      "(0.0,)\n",
      "(0,)\n",
      "(0.0,)\n",
      "(0,)\n",
      "(0.0,)\n",
      "(0,)\n",
      "(0.0,)\n",
      "(0,)\n",
      "(0.0,)\n",
      "(0,)\n",
      "(0.0,)\n",
      "(0,)\n",
      "(0.0,)\n",
      "(0,)\n",
      "(0.0,)\n",
      "(0,)\n",
      "(0.0,)\n",
      "(0,)\n",
      "(0.0,)\n",
      "(0,)\n",
      "(0.0,)\n",
      "(0,)\n",
      "(0.0,)\n",
      "(0,)\n",
      "(0.0,)\n",
      "(0,)\n",
      "  3.135212 seconds (15.30 M allocations: 695.904 MiB, 4.66% gc time, 37.54% compilation time)\n"
     ]
    },
    {
     "data": {
      "text/plain": [
       "false"
      ]
     },
     "execution_count": 263,
     "metadata": {},
     "output_type": "execute_result"
    }
   ],
   "source": [
    "function verification(C,V,Un)\n",
    "    cnt=0\n",
    "    for i in 1:100\n",
    "        substitution_dict = Dict()\n",
    "        for i in 1:64\n",
    "            substitution_dict[x[i]] = rand(0:1)\n",
    "        end\n",
    "\n",
    "        W=V*C\n",
    "        for i in 1:2\n",
    "            i=rand(1:3)\n",
    "            left=substitute.(W[1,i], (substitution_dict,))\n",
    "            right=substitute.(Un[1,i], (substitution_dict,))\n",
    "\n",
    "            if isequal(left,right)\n",
    "                cnt=cnt+1\n",
    "            end\n",
    "        end\n",
    "    end\n",
    "    return (cnt==200)\n",
    "#     cnt=0\n",
    "#     for i in 1:100\n",
    "#         substitution_dict = Dict()\n",
    "#         for i in 1:64\n",
    "#             substitution_dict[x[i]] = rand(0:1)\n",
    "#         end\n",
    "#         W = V * C\n",
    "#         left=substitute.(W, (substitution_dict,))\n",
    "#         right=substitute.(Un, (substitution_dict,))\n",
    "#         if isequal(left,right)\n",
    "#             cnt=cnt+1\n",
    "#         end\n",
    "#     end\n",
    "#     print(left)\n",
    "#     print(right)\n",
    "#     return println(cnt==100)\n",
    "    \n",
    "    \n",
    "#     W=V*C\n",
    "#     i=rand(1:5)\n",
    "#     Wi=simplify(expand(W[1,i]))\n",
    "#     if isequal(Wi,simplify(expand(Un[1,i])))\n",
    "#             println(\"good\")\n",
    "#             println(Un[1,i])\n",
    "#             println(Wi)\n",
    "#         end\n",
    "\n",
    "end\n",
    "\n",
    "@time verification(C,V,Un)"
   ]
  },
  {
   "cell_type": "code",
   "execution_count": 114,
   "id": "8785375b",
   "metadata": {},
   "outputs": [
    {
     "name": "stdout",
     "output_type": "stream",
     "text": [
      "  0.524456 seconds (3.54 M allocations: 157.964 MiB, 5.73% gc time)\n",
      "  0.502695 seconds (3.53 M allocations: 157.467 MiB, 7.68% gc time)\n",
      "  0.502109 seconds (3.52 M allocations: 157.230 MiB, 7.50% gc time)\n",
      "  0.492632 seconds (3.53 M allocations: 157.492 MiB, 5.80% gc time)\n",
      "  0.506448 seconds (3.53 M allocations: 157.637 MiB, 7.45% gc time)\n",
      "  0.489335 seconds (3.53 M allocations: 157.425 MiB, 5.80% gc time)\n",
      "  0.500354 seconds (3.51 M allocations: 156.967 MiB, 7.52% gc time)\n",
      "  0.502489 seconds (3.53 M allocations: 157.716 MiB, 7.46% gc time)\n",
      "  0.493044 seconds (3.52 M allocations: 157.263 MiB, 5.72% gc time)\n",
      "  0.506424 seconds (3.54 M allocations: 157.898 MiB, 7.60% gc time)\n",
      "  0.492461 seconds (3.53 M allocations: 157.605 MiB, 5.74% gc time)\n",
      "  0.501772 seconds (3.52 M allocations: 157.069 MiB, 7.58% gc time)\n",
      "  0.512693 seconds (3.54 M allocations: 157.839 MiB, 7.61% gc time)\n",
      "  0.499093 seconds (3.51 M allocations: 156.834 MiB, 5.88% gc time)\n",
      "  0.498052 seconds (3.53 M allocations: 157.605 MiB, 7.55% gc time)\n",
      "  0.491919 seconds (3.53 M allocations: 157.727 MiB, 5.63% gc time)\n",
      "  0.496696 seconds (3.52 M allocations: 157.156 MiB, 7.69% gc time)\n",
      "  0.501948 seconds (3.52 M allocations: 157.135 MiB, 7.66% gc time)\n",
      "  0.493689 seconds (3.53 M allocations: 157.494 MiB, 5.71% gc time)\n",
      "  0.502471 seconds (3.53 M allocations: 157.727 MiB, 7.47% gc time)\n",
      "  0.494963 seconds (3.54 M allocations: 158.021 MiB, 5.73% gc time)\n",
      "  0.505017 seconds (3.53 M allocations: 157.787 MiB, 7.51% gc time)\n",
      "  0.498989 seconds (3.53 M allocations: 157.783 MiB, 7.65% gc time)\n",
      "  0.483524 seconds (3.50 M allocations: 156.421 MiB, 5.86% gc time)\n",
      "  0.503305 seconds (3.52 M allocations: 157.312 MiB, 7.67% gc time)\n",
      "  0.493629 seconds (3.52 M allocations: 157.244 MiB, 5.88% gc time)\n",
      "  0.507928 seconds (3.54 M allocations: 157.906 MiB, 7.59% gc time)\n",
      "  0.494565 seconds (3.52 M allocations: 157.351 MiB, 7.59% gc time)\n",
      "  0.490722 seconds (3.52 M allocations: 157.393 MiB, 5.65% gc time)\n",
      "  0.489882 seconds (3.51 M allocations: 156.638 MiB, 7.54% gc time)\n",
      "  0.492392 seconds (3.52 M allocations: 157.215 MiB, 5.78% gc time)\n",
      "  0.506314 seconds (3.53 M allocations: 157.637 MiB, 7.48% gc time)\n",
      "  0.512482 seconds (3.53 M allocations: 157.673 MiB, 5.88% gc time)\n",
      "  0.544660 seconds (3.54 M allocations: 158.029 MiB, 7.42% gc time)\n",
      "  0.524069 seconds (3.52 M allocations: 157.302 MiB, 7.60% gc time)\n",
      "  0.527657 seconds (3.53 M allocations: 157.643 MiB, 6.52% gc time)\n",
      "  0.530880 seconds (3.53 M allocations: 157.720 MiB, 7.36% gc time)\n",
      "  0.524010 seconds (3.54 M allocations: 158.045 MiB, 7.44% gc time)\n",
      "  0.517358 seconds (3.53 M allocations: 157.421 MiB, 5.80% gc time)\n",
      "  0.502681 seconds (3.53 M allocations: 157.482 MiB, 7.50% gc time)\n",
      "  0.495231 seconds (3.54 M allocations: 158.011 MiB, 5.63% gc time)\n",
      "  0.507317 seconds (3.52 M allocations: 157.273 MiB, 7.74% gc time)\n",
      "  0.506732 seconds (3.52 M allocations: 157.206 MiB, 7.78% gc time)\n",
      "  0.505751 seconds (3.54 M allocations: 158.172 MiB, 5.83% gc time)\n",
      "  0.510610 seconds (3.52 M allocations: 157.026 MiB, 7.59% gc time)\n",
      "  0.487380 seconds (3.51 M allocations: 156.859 MiB, 5.86% gc time)\n",
      "  0.530615 seconds (3.54 M allocations: 158.008 MiB, 7.40% gc time)\n",
      "  0.503788 seconds (3.51 M allocations: 156.594 MiB, 5.75% gc time)\n",
      "  0.511765 seconds (3.52 M allocations: 157.053 MiB, 7.56% gc time)\n",
      "  0.498778 seconds (3.52 M allocations: 157.278 MiB, 7.57% gc time)\n",
      "  0.501787 seconds (3.52 M allocations: 157.208 MiB, 5.76% gc time)\n",
      "  0.527284 seconds (3.53 M allocations: 157.697 MiB, 7.58% gc time)\n",
      "  0.498942 seconds (3.54 M allocations: 157.960 MiB, 5.92% gc time)\n",
      "  0.521468 seconds (3.52 M allocations: 157.075 MiB, 7.61% gc time)\n",
      "  0.538557 seconds (3.52 M allocations: 157.027 MiB, 7.40% gc time)\n",
      "  0.538499 seconds (3.53 M allocations: 157.693 MiB, 5.56% gc time)\n",
      "  0.531189 seconds (3.53 M allocations: 157.636 MiB, 7.34% gc time)\n",
      "  0.516739 seconds (3.55 M allocations: 158.250 MiB, 5.68% gc time)\n",
      "  0.518191 seconds (3.53 M allocations: 157.546 MiB, 7.75% gc time)\n",
      "  0.512340 seconds (3.54 M allocations: 158.187 MiB, 7.62% gc time)\n",
      "  0.493074 seconds (3.52 M allocations: 157.205 MiB, 5.93% gc time)\n",
      "  0.501610 seconds (3.52 M allocations: 157.284 MiB, 7.53% gc time)\n",
      "  0.517624 seconds (3.52 M allocations: 157.224 MiB, 5.87% gc time)\n",
      "  0.544218 seconds (3.55 M allocations: 158.320 MiB, 7.30% gc time)\n",
      "  0.532472 seconds (3.53 M allocations: 157.537 MiB, 7.43% gc time)\n",
      "  0.508428 seconds (3.50 M allocations: 156.213 MiB, 5.90% gc time)\n",
      "  0.529289 seconds (3.52 M allocations: 157.137 MiB, 7.59% gc time)\n",
      "  0.513336 seconds (3.51 M allocations: 156.874 MiB, 5.81% gc time)\n",
      "  0.514066 seconds (3.53 M allocations: 157.512 MiB, 7.81% gc time)\n",
      "  0.505131 seconds (3.54 M allocations: 157.887 MiB, 7.60% gc time)\n",
      "  0.480905 seconds (3.52 M allocations: 157.257 MiB, 5.74% gc time)\n",
      "  0.508171 seconds (3.53 M allocations: 157.496 MiB, 7.39% gc time)\n",
      "  0.544247 seconds (3.52 M allocations: 157.102 MiB, 5.58% gc time)\n",
      "  0.548328 seconds (3.53 M allocations: 157.718 MiB, 7.28% gc time)\n",
      "  0.529873 seconds (3.53 M allocations: 157.405 MiB, 7.34% gc time)\n",
      "  0.511870 seconds (3.52 M allocations: 157.124 MiB, 5.84% gc time)\n",
      "  0.525996 seconds (3.52 M allocations: 157.017 MiB, 7.54% gc time)\n",
      "  0.495533 seconds (3.53 M allocations: 157.551 MiB, 5.85% gc time)\n",
      "  0.510830 seconds (3.53 M allocations: 157.656 MiB, 7.71% gc time)\n",
      "  0.509881 seconds (3.54 M allocations: 158.072 MiB, 7.63% gc time)\n",
      "  0.500954 seconds (3.52 M allocations: 157.106 MiB, 5.78% gc time)\n",
      "  0.520051 seconds (3.54 M allocations: 158.199 MiB, 7.53% gc time)\n",
      "  0.501687 seconds (3.53 M allocations: 157.673 MiB, 5.91% gc time)\n",
      "  0.512475 seconds (3.52 M allocations: 157.421 MiB, 7.64% gc time)\n",
      "  0.509291 seconds (3.54 M allocations: 158.228 MiB, 7.46% gc time)\n",
      "  0.495818 seconds (3.55 M allocations: 158.568 MiB, 5.73% gc time)\n",
      "  0.499135 seconds (3.52 M allocations: 157.205 MiB, 7.42% gc time)\n",
      "  0.494484 seconds (3.53 M allocations: 157.798 MiB, 7.49% gc time)\n",
      "  0.487247 seconds (3.53 M allocations: 157.637 MiB, 5.68% gc time)\n",
      "  0.500441 seconds (3.52 M allocations: 157.099 MiB, 7.54% gc time)\n",
      "  0.494598 seconds (3.56 M allocations: 158.663 MiB, 5.84% gc time)\n",
      "  0.500259 seconds (3.53 M allocations: 157.452 MiB, 7.41% gc time)\n",
      "  0.501594 seconds (3.52 M allocations: 157.338 MiB, 7.56% gc time)\n",
      "  0.512081 seconds (3.54 M allocations: 158.116 MiB, 5.82% gc time)\n",
      "  0.523262 seconds (3.53 M allocations: 157.786 MiB, 7.58% gc time)\n",
      "  0.507108 seconds (3.53 M allocations: 157.451 MiB, 5.91% gc time)\n",
      "  0.511509 seconds (3.53 M allocations: 157.763 MiB, 7.66% gc time)\n",
      "  0.518004 seconds (3.52 M allocations: 157.168 MiB, 7.62% gc time)\n",
      "  0.499321 seconds (3.52 M allocations: 157.054 MiB, 5.87% gc time)\n",
      "  0.504494 seconds (3.51 M allocations: 156.745 MiB, 7.86% gc time)\n"
     ]
    }
   ],
   "source": [
    "for i in 1:100\n",
    "    @time verification(C,V,Un)\n",
    "end"
   ]
  },
  {
   "cell_type": "code",
   "execution_count": null,
   "id": "af08b177",
   "metadata": {},
   "outputs": [],
   "source": []
  }
 ],
 "metadata": {
  "kernelspec": {
   "display_name": "Julia 1.6.7",
   "language": "julia",
   "name": "julia-1.6"
  },
  "language_info": {
   "file_extension": ".jl",
   "mimetype": "application/julia",
   "name": "julia",
   "version": "1.6.7"
  }
 },
 "nbformat": 4,
 "nbformat_minor": 5
}
