{
 "cells": [
  {
   "cell_type": "code",
   "execution_count": 97,
   "id": "964c1bd3",
   "metadata": {},
   "outputs": [],
   "source": [
    "using Symbolics\n",
    "using LinearAlgebra\n",
    "using SHA"
   ]
  },
  {
   "cell_type": "markdown",
   "id": "c2afb184",
   "metadata": {},
   "source": [
    "# generate sparse polynomials"
   ]
  },
  {
   "cell_type": "code",
   "execution_count": 2,
   "id": "46d3f9da",
   "metadata": {},
   "outputs": [
    {
     "data": {
      "text/plain": [
       "1-element Vector{Symbolics.Arr{Num, 1}}:\n",
       " x[1:36]"
      ]
     },
     "execution_count": 2,
     "metadata": {},
     "output_type": "execute_result"
    }
   ],
   "source": [
    "@variables x[1:36]"
   ]
  },
  {
   "cell_type": "code",
   "execution_count": 4,
   "id": "1a0f081e",
   "metadata": {},
   "outputs": [
    {
     "data": {
      "text/plain": [
       "modify_coeffcients (generic function with 1 method)"
      ]
     },
     "execution_count": 4,
     "metadata": {},
     "output_type": "execute_result"
    }
   ],
   "source": [
    "function modify_coeffcients(A,q)\n",
    "    \n",
    "    coeffs_map=Symbolics.value(A).dict#turn the polynomial into matrix\n",
    "    B=0#create our new polynomial\n",
    "    for (key, value) in coeffs_map#iterate through the dict(monomial, coeffcients)\n",
    "        if value>q\n",
    "            new_coef=value%q\n",
    "            B+=new_coef*key\n",
    "        else\n",
    "            B+=key*value\n",
    "        end  \n",
    "    end\n",
    "    B\n",
    "end"
   ]
  },
  {
   "cell_type": "code",
   "execution_count": 10,
   "id": "edd6f2b9",
   "metadata": {},
   "outputs": [
    {
     "data": {
      "text/latex": [
       "$$ \\begin{equation}\n",
       "2 x_3^{2} x_1 + 2 x_1^{2} x_3 + 2 x_2^{2} x_3 + 6 x_2 x_4 + x_1 x_2 x_4\n",
       "\\end{equation}\n",
       " $$"
      ],
      "text/plain": [
       "2(x[3]^2)*x[1] + 2(x[1]^2)*x[3] + 2(x[2]^2)*x[3] + 6x[2]*x[4] + x[1]*x[2]*x[4]"
      ]
     },
     "execution_count": 10,
     "metadata": {},
     "output_type": "execute_result"
    }
   ],
   "source": [
    "#t monomials\n",
    "#bound the degree of mononials by b, 1-b inclusive\n",
    "#coefficients go from 1 to q-1(inclusive)\n",
    "function sparse_polynomial(n,t,b,q)\n",
    "    @variables x[1:n]\n",
    "    \n",
    "    sparse_poly=0\n",
    "    \n",
    "    for i in 1:t #we want t monomials\n",
    "        deg=rand(1:b)\n",
    "        \n",
    "        monomial_d=1\n",
    "        for j in 1:deg\n",
    "            monomial_d*=x[rand(1:n)]\n",
    "        end\n",
    "        sparse_poly+=rand(1:q)*monomial_d\n",
    "        \n",
    "    end\n",
    "#     println(sparse_poly)\n",
    "    A=modify_coeffcients(sparse_poly,q)\n",
    "    return A\n",
    "end\n",
    "\n",
    "A=sparse_polynomial(4,5,3,6)\n",
    "A"
   ]
  },
  {
   "cell_type": "markdown",
   "id": "85298bc3",
   "metadata": {},
   "source": [
    "# Generate kl matrix"
   ]
  },
  {
   "cell_type": "code",
   "execution_count": 8,
   "id": "77117e18",
   "metadata": {},
   "outputs": [
    {
     "data": {
      "text/latex": [
       "$$ \\begin{equation}\n",
       "\\left[\n",
       "\\begin{array}{cccc}\n",
       "x_2 x_3 + x_1 & 0 & 0 & 0 \\\\\n",
       "0 & 1 & 0 & 0 \\\\\n",
       "0 & 0 & 1 & 0 \\\\\n",
       "0 & 0 & 0 & 1 \\\\\n",
       "\\end{array}\n",
       "\\right]\n",
       "\\end{equation}\n",
       " $$"
      ],
      "text/plain": [
       "4×4 Matrix{Num}:\n",
       " x[2]*x[3] + x[1]  0  0  0\n",
       "                0  1  0  0\n",
       "                0  0  1  0\n",
       "                0  0  0  1"
      ]
     },
     "execution_count": 8,
     "metadata": {},
     "output_type": "execute_result"
    }
   ],
   "source": [
    "function num_identity(k)\n",
    "    a=zeros(Num,k)\n",
    "    a[1]=1\n",
    "    for i in 2:k\n",
    "        b=zeros(Num,k)\n",
    "        b[i]=1\n",
    "        a=[a b] \n",
    "    end\n",
    "    return a\n",
    "end\n",
    "I_mat=num_identity(4)\n",
    "I_mat[1,1]=x[2]*x[3]+x[1]\n",
    "I_mat"
   ]
  },
  {
   "cell_type": "code",
   "execution_count": 11,
   "id": "015bc7f3",
   "metadata": {},
   "outputs": [
    {
     "data": {
      "text/latex": [
       "$$ \\begin{equation}\n",
       "\\left[\n",
       "\\begin{array}{cccc}\n",
       "1 & x_4 x_{2 1} + 3 x_{1 9} x_{2 9} + 5 x_1 x_{1 9} x_{2 6} + x_{1 0} & 0 & 4 x_7 + 3 x_{2 0} + 5 x_{1 4} + 3 x_6 x_{2 5} x_{3 2} \\\\\n",
       "0 & 1 & 0 & 4 x_{2 7} + 2 x_{3 1} + 2 x_4 x_{2 7} + 5 x_5 x_7 \\\\\n",
       "0 & 0 & 1 & 0 \\\\\n",
       "0 & 0 & 0 & 1 \\\\\n",
       "\\end{array}\n",
       "\\right]\n",
       "\\end{equation}\n",
       " $$"
      ],
      "text/plain": [
       "4×4 Matrix{Num}:\n",
       " 1  …  4x[7] + 3x[20] + 5x[14] + 3x[6]*x[25]*x[32]\n",
       " 0      4x[27] + 2x[31] + 2x[4]*x[27] + 5x[5]*x[7]\n",
       " 0                                               0\n",
       " 0                                               1"
      ]
     },
     "execution_count": 11,
     "metadata": {},
     "output_type": "execute_result"
    }
   ],
   "source": [
    "function generate_U(k,n,t,B,q)\n",
    "    I_matrix=num_identity(k)#generate a k by k identity matrix\n",
    "    for i in 1:Int((k*k-k)/2)\n",
    "        b=rand(2:k)\n",
    "        a=rand(1:(b-1))\n",
    "        I_matrix[a,b]=sparse_polynomial(n,t,B,q)\n",
    "    end\n",
    "\n",
    "    return I_matrix\n",
    "end \n",
    "U=generate_U(4,32,4,3,6)\n",
    "U"
   ]
  },
  {
   "cell_type": "code",
   "execution_count": 13,
   "id": "d0fb016f",
   "metadata": {},
   "outputs": [
    {
     "data": {
      "text/latex": [
       "$$ \\begin{equation}\n",
       "\\left[\n",
       "\\begin{array}{cccc}\n",
       "1.0 &  - x_{1 0} - x_4 x_{2 1} - 3 x_{1 9} x_{2 9} - 5 x_1 x_{1 9} x_{2 6} & 0.0 &  - 4 x_7 - 5 x_{1 4} - 3 x_{2 0} + 2 x_{1 0} x_{3 1} + 4 x_{1 0} x_{2 7} + 2 x_4^{2} x_{2 1} x_{2 7} + 5 x_5 x_7 x_{1 0} + 2 x_4 x_{1 0} x_{2 7} + 2 x_4 x_{2 1} x_{3 1} - 3 x_6 x_{2 5} x_{3 2} + 4 x_4 x_{2 1} x_{2 7} + 12 x_{1 9} x_{2 7} x_{2 9} + 6 x_{1 9} x_{2 9} x_{3 1} + 10 x_1 x_{1 9} x_{2 6} x_{3 1} + 20 x_1 x_{1 9} x_{2 6} x_{2 7} + 5 x_4 x_5 x_7 x_{2 1} + 6 x_4 x_{1 9} x_{2 7} x_{2 9} + 15 x_5 x_7 x_{1 9} x_{2 9} + 25 x_1 x_5 x_7 x_{1 9} x_{2 6} + 10 x_1 x_4 x_{1 9} x_{2 6} x_{2 7} \\\\\n",
       "0 & 1.0 & 0.0 &  - 4 x_{2 7} - 2 x_{3 1} - 2 x_4 x_{2 7} - 5 x_5 x_7 \\\\\n",
       "0 & 0 & 1.0 & 0.0 \\\\\n",
       "0 & 0 & 0 & 1.0 \\\\\n",
       "\\end{array}\n",
       "\\right]\n",
       "\\end{equation}\n",
       " $$"
      ],
      "text/plain": [
       "4×4 Matrix{Num}:\n",
       " 1.0  …  2x[10]*x[31] + 4x[10]*x[27] + 2(x[4]^2)*x[21]*x[27] + 5x[5]*x[7]*x[10] + 2x[4]*x[10]*x[27] + 2x[4]*x[21]*x[31] + 4x[4]*x[21]*x[27] + 12x[19]*x[27]*x[29] + 6x[19]*x[29]*x[31] + 10x[1]*x[19]*x[26]*x[31] + 20x[1]*x[19]*x[26]*x[27] + 5x[4]*x[5]*x[7]*x[21] + 6x[4]*x[19]*x[27]*x[29] + 15x[5]*x[7]*x[19]*x[29] + 25x[1]*x[5]*x[7]*x[19]*x[26] + 10x[1]*x[4]*x[19]*x[26]*x[27] - 4x[7] - 5x[14] - 3x[20] - 3x[6]*x[25]*x[32]\n",
       " 0                                                                                                                                                                                                                                                                                                                                                                                        -4x[27] - 2x[31] - 2x[4]*x[27] - 5x[5]*x[7]\n",
       " 0                                                                                                                                                                                                                                                                                                                                                                                                                                  0.0\n",
       " 0                                                                                                                                                                                                                                                                                                                                                                                                                                  1.0"
      ]
     },
     "execution_count": 13,
     "metadata": {},
     "output_type": "execute_result"
    }
   ],
   "source": [
    "# simplify.(expand.(inv(U)))\n",
    "# inv(U)"
   ]
  },
  {
   "cell_type": "code",
   "execution_count": 15,
   "id": "e09eb890",
   "metadata": {},
   "outputs": [
    {
     "data": {
      "text/plain": [
       "generate_L (generic function with 1 method)"
      ]
     },
     "execution_count": 15,
     "metadata": {},
     "output_type": "execute_result"
    }
   ],
   "source": [
    "function generate_L(k,n,t,B,q)\n",
    "    I_matrix=num_identity(k)#generate a k by k identity matrix\n",
    "    for i in 1:Int((k*k-k)/2)\n",
    "        a=rand(2:k)\n",
    "        b=rand(1:a-1)\n",
    "        I_matrix[a,b]=sparse_polynomial(n,t,B,q)\n",
    "    end\n",
    "    return I_matrix\n",
    "end"
   ]
  },
  {
   "cell_type": "code",
   "execution_count": 16,
   "id": "d05e5b9c",
   "metadata": {},
   "outputs": [
    {
     "data": {
      "text/plain": [
       "3-element Vector{Int64}:\n",
       " 1\n",
       " 2\n",
       " 3"
      ]
     },
     "execution_count": 16,
     "metadata": {},
     "output_type": "execute_result"
    }
   ],
   "source": [
    "function cols_to_keep(k,l)\n",
    "    col_opts=[i for i in 1:k]\n",
    "    for i in 1:(k-l)\n",
    "        random_number=size(col_opts,1)\n",
    "        splice!(col_opts, rand(1:random_number))\n",
    "    end\n",
    "    return col_opts\n",
    "end\n",
    "cols_to_keep(4,3)"
   ]
  },
  {
   "cell_type": "code",
   "execution_count": 17,
   "id": "4775740b",
   "metadata": {},
   "outputs": [
    {
     "data": {
      "text/plain": [
       "random_del_cols (generic function with 1 method)"
      ]
     },
     "execution_count": 17,
     "metadata": {},
     "output_type": "execute_result"
    }
   ],
   "source": [
    "function random_del_cols(k,l,matrix)\n",
    "#     col_opts=[i for i in 1:l]\n",
    "    col_opts=cols_to_keep(k,l)\n",
    "    matrix_kl=zeros(Num, k,l)\n",
    "    \n",
    "    j=1\n",
    "    for i in col_opts\n",
    "        matrix_kl[:,j]=matrix[:,i]\n",
    "        j+=1\n",
    "    end\n",
    "    return col_opts,matrix_kl\n",
    "end"
   ]
  },
  {
   "cell_type": "code",
   "execution_count": 18,
   "id": "3200ada8",
   "metadata": {},
   "outputs": [
    {
     "data": {
      "text/plain": [
       "find_kl_inverse (generic function with 1 method)"
      ]
     },
     "execution_count": 18,
     "metadata": {},
     "output_type": "execute_result"
    }
   ],
   "source": [
    "function find_kl_inverse(to_keep,S_inv)\n",
    "    k=size(S_inv,1)#find the number of rows\n",
    "    ml_inv=zeros(Num, length(to_keep),k)\n",
    "    \n",
    "    j=1\n",
    "    for i in to_keep\n",
    "        ml_inv[j,:]=S_inv[i,:]\n",
    "        j+=1\n",
    "    end\n",
    "    return ml_inv\n",
    "end"
   ]
  },
  {
   "cell_type": "code",
   "execution_count": 23,
   "id": "f5e2f754",
   "metadata": {},
   "outputs": [
    {
     "data": {
      "text/plain": [
       "modify_matrix_coef (generic function with 1 method)"
      ]
     },
     "execution_count": 23,
     "metadata": {},
     "output_type": "execute_result"
    }
   ],
   "source": [
    "function modify_neg_coeff(A,q)\n",
    "    \n",
    "    coeffs_map=Symbolics.value(A).dict#turn the polynomial into matrix\n",
    "    B=0#create our new polynomial\n",
    "    for (key, value) in coeffs_map#iterate through the dict(monomial, coeffcients)\n",
    "        if value>q || value<-q \n",
    "            new_coef=mod(value,q)\n",
    "            B+=new_coef*key\n",
    "        else\n",
    "            B+=key*value\n",
    "        end  \n",
    "    end\n",
    "    B\n",
    "end\n",
    "\n",
    "function modify_matrix_coef(matrix,q)\n",
    "    res=simplify.(expand.(matrix))#expand and then simplify\n",
    "    \n",
    "    for i in 1:size(res,1)\n",
    "        for j in 1:size(res,2)\n",
    "            a=res[i,j]\n",
    "\n",
    "            if isone(a)==false && iszero(a)==false            \n",
    "                res[i,j]=modify_neg_coeff(a,q)\n",
    "            end\n",
    "        end\n",
    "    end\n",
    "    return res\n",
    "end"
   ]
  },
  {
   "cell_type": "code",
   "execution_count": 46,
   "id": "87aee306",
   "metadata": {},
   "outputs": [
    {
     "data": {
      "text/latex": [
       "$$ \\begin{equation}\n",
       "\\left[\n",
       "\\begin{array}{cccc}\n",
       "1.0 & 0.0 & 0.0 & 0.0 \\\\\n",
       "0.0 & 1.0 & 0.0 & 0.0 \\\\\n",
       "0.0 & 0.0 & 1.0 & 0.0 \\\\\n",
       "0.0 & 0.0 & 0.0 & 1.0 \\\\\n",
       "\\end{array}\n",
       "\\right]\n",
       "\\end{equation}\n",
       " $$"
      ],
      "text/plain": [
       "4×4 Matrix{Num}:\n",
       " 1.0  0.0  0.0  0.0\n",
       " 0.0  1.0  0.0  0.0\n",
       " 0.0  0.0  1.0  0.0\n",
       " 0.0  0.0  0.0  1.0"
      ]
     },
     "execution_count": 46,
     "metadata": {},
     "output_type": "execute_result"
    }
   ],
   "source": [
    "function random_permutation(k)\n",
    "    cols=[i for i in 1:k]\n",
    "    ncols=[]\n",
    "    for i in 1:k\n",
    "        random_number=size(cols,1)\n",
    "        a=rand(1:random_number)\n",
    "        append!(ncols,cols[a])\n",
    "        splice!(cols, a)\n",
    "    end\n",
    "    A=zeros(Num,k,k)\n",
    "    \n",
    "    for i in 1:k\n",
    "        A[i,ncols[i]]=1\n",
    "    end\n",
    "    return A\n",
    "end\n",
    "    \n",
    "P=random_permutation(4)\n",
    "inv(P)*P\n"
   ]
  },
  {
   "cell_type": "code",
   "execution_count": 94,
   "id": "43be517e",
   "metadata": {},
   "outputs": [
    {
     "data": {
      "text/plain": [
       "matrix_kl (generic function with 1 method)"
      ]
     },
     "execution_count": 94,
     "metadata": {},
     "output_type": "execute_result"
    }
   ],
   "source": [
    "function matrix_kl(k,l,s,n,t,B,q)\n",
    "    Ls=[]\n",
    "    Us=[]\n",
    "    for i in 1:s\n",
    "        U=generate_U(k,n,t,B,q)\n",
    "        L=generate_L(k,n,t,B,q)\n",
    "        push!(Us,U)\n",
    "        push!(Ls,L)\n",
    "    end \n",
    "    U_new=Us[rand(1:s)]\n",
    "    L_new=Ls[rand(1:s)]\n",
    "    \n",
    "    P1=random_permutation(k)\n",
    "    P2=random_permutation(k)\n",
    "    kk_matrix=U_new*P1*L_new*P2\n",
    "    kk_matrix=simplify.(expand.(kk_matrix))\n",
    "#     kk_matrix=modify_matrix_coef(kk_matrix,q)#modify the coefficients for kk_matrix\n",
    "    kk_inv=inv(P2)*inv(L_new)*inv(P1)*inv(U_new)#able to compute, not able to verify the result\n",
    "    \n",
    "    col_keep,kl_matrix=random_del_cols(k,l,kk_matrix)\n",
    "    kl_inverse=find_kl_inverse(col_keep,kk_inv)\n",
    "  \n",
    "    return kk_matrix,kk_inv,kl_matrix, kl_inverse\n",
    "end "
   ]
  },
  {
   "cell_type": "code",
   "execution_count": 117,
   "id": "ee233f6a",
   "metadata": {},
   "outputs": [
    {
     "name": "stdout",
     "output_type": "stream",
     "text": [
      "(10, 5)\n",
      "(5, 10)"
     ]
    }
   ],
   "source": [
    "A,B,C,D=matrix_kl(10,5,5,32,3,5,6)\n",
    "println(size(C))\n",
    "print(size(D))"
   ]
  },
  {
   "cell_type": "code",
   "execution_count": 118,
   "id": "025902d3",
   "metadata": {},
   "outputs": [
    {
     "data": {
      "text/latex": [
       "$$ \\begin{equation}\n",
       "\\left[\n",
       "\\begin{array}{ccccc}\n",
       "1.0 & 0 & 0.0 & 0.0 & 0 \\\\\n",
       "0.0 & 1.0 & 0.0 & 0.0 & 0.0 \\\\\n",
       "0 & 0 & 1.0 & 0 & 0 \\\\\n",
       "0 & 0 & 0.0 & 1.0 & 0 \\\\\n",
       "0.0 & 0.0 & 0.0 & 0.0 & 1.0 \\\\\n",
       "\\end{array}\n",
       "\\right]\n",
       "\\end{equation}\n",
       " $$"
      ],
      "text/plain": [
       "5×5 Matrix{Num}:\n",
       " 1.0  0    0.0  0.0  0\n",
       " 0.0  1.0  0.0  0.0  0.0\n",
       " 0    0    1.0  0    0\n",
       " 0    0    0.0  1.0  0\n",
       " 0.0  0.0  0.0  0.0  1.0"
      ]
     },
     "execution_count": 118,
     "metadata": {},
     "output_type": "execute_result"
    }
   ],
   "source": [
    "res=simplify.(expand.(D*C))"
   ]
  },
  {
   "cell_type": "markdown",
   "id": "1d0c2d4e",
   "metadata": {},
   "source": [
    "# hashing "
   ]
  },
  {
   "cell_type": "code",
   "execution_count": 107,
   "id": "3dabb5ff",
   "metadata": {},
   "outputs": [
    {
     "data": {
      "text/plain": [
       "hashing512 (generic function with 1 method)"
      ]
     },
     "execution_count": 107,
     "metadata": {},
     "output_type": "execute_result"
    }
   ],
   "source": [
    "message = \"Hello, world!\"\n",
    "@variables x[1:64]\n",
    "function hashing512(message)\n",
    "    hash = sha2_512(message)\n",
    "    bitstring512=\"\"\n",
    "    for i in hash\n",
    "        bitstring512=bitstring512*bitstring(i)\n",
    "    end\n",
    "    \n",
    "    A512=[]\n",
    "    for i in bitstring512\n",
    "        append!(A512,Int(i)-48)\n",
    "    end\n",
    "    return A512\n",
    "end\n"
   ]
  },
  {
   "cell_type": "code",
   "execution_count": 123,
   "id": "aac5918c",
   "metadata": {},
   "outputs": [
    {
     "data": {
      "text/latex": [
       "$$ \\begin{equation}\n",
       "\\left[\n",
       "\\begin{array}{ccccc}\n",
       "4 x_{6 2} + 2 x_{1 0}^{3} x_2 x_8 x_{1 6} x_{4 9} x_{6 1} + x_6 x_{1 1} x_{1 3} x_{2 1} x_{2 5} x_{4 4} x_{4 9} x_{5 5} & x_6 x_{1 1} x_{2 5} x_{4 9} x_{5 5} + 2 x_{1 0}^{2} x_2 x_{4 9} x_{5 5} x_{6 1} + 4 x_{1 9} x_{2 4} x_{3 0} x_{4 6} x_{4 7} x_{5 1} x_{5 8} & x_{1 1} x_{1 3} x_{2 5} x_{4 4} + 2 x_2 x_8 x_{1 0} x_{5 5} + 4 x_{1 9} x_{3 0} x_{3 4} x_{4 6} x_{5 1} x_{5 4} & 2 x_{1 0}^{2} x_{4 9} + x_{1 0} x_{1 1} x_{1 3} x_{3 3} x_{4 4} + 4 x_{1 9} x_{3 0} x_{3 4} x_{4 7} x_{5 1} x_{5 4} & x_6 x_{1 0} x_{1 1} x_{1 3} x_{2 5} x_{3 3} x_{4 4} + 2 x_{1 0}^{3} x_8 x_{1 6} x_{2 2} x_{4 9} x_{6 1} + 4 x_{1 9} x_{2 4} x_{3 0} x_{4 6} x_{4 7} x_{5 1} x_{6 2} \\\\\n",
       "\\end{array}\n",
       "\\right]\n",
       "\\end{equation}\n",
       " $$"
      ],
      "text/plain": [
       "1×5 Matrix{Num}:\n",
       " 4x[62] + 2(x[10]^3)*x[2]*x[8]*x[16]*x[49]*x[61] + x[6]*x[11]*x[13]*x[21]*x[25]*x[44]*x[49]*x[55]  …  x[6]*x[10]*x[11]*x[13]*x[25]*x[33]*x[44] + 2(x[10]^3)*x[8]*x[16]*x[22]*x[49]*x[61] + 4x[19]*x[24]*x[30]*x[46]*x[47]*x[51]*x[62]"
      ]
     },
     "execution_count": 123,
     "metadata": {},
     "output_type": "execute_result"
    }
   ],
   "source": [
    "function polys(A512)\n",
    "    coeffs=[]\n",
    "    last12=A512[501:512,]\n",
    "    for i in 0:3\n",
    "        b3=last12[(1+3*i):3*(i+1),]\n",
    "        coef=0\n",
    "        for j in 1:3\n",
    "            coef=coef+2^(3-j)*b3[j]\n",
    "        end\n",
    "        coef=mod(coef,6)\n",
    "        append!(coeffs,coef)\n",
    "    end\n",
    "#     println(coeffs)\n",
    "    \n",
    "    first300=A512[1:300]\n",
    "    vars=[]\n",
    "    for i in 1:50\n",
    "        v=first300[(1+6*(i-1)):(6*i),]\n",
    "        vn=0\n",
    "        for j in 1:6\n",
    "            vn=vn+2^(6-j)*v[j]\n",
    "        end\n",
    "        vn=vn+1\n",
    "        append!(vars,vn)\n",
    "    end\n",
    "#     println(vars)\n",
    "    \n",
    "    middle200=A512[301:500]\n",
    "    mons=[]\n",
    "    for i in 1:5\n",
    "        b40=middle200[(1+40*(i-1)):(40*i)]\n",
    "\n",
    "        for j in 1:4\n",
    "            b10=b40[(1+10*(j-1)):(10*j)]\n",
    "            mon=1\n",
    "\n",
    "            for k in 1:10\n",
    "                if b10[k]==1 \n",
    "\n",
    "                    if vars[10*(j-1)+k]!=0\n",
    "                        mon=mon*x[vars[10*(j-1)+k]]\n",
    "                    end\n",
    "                end\n",
    "            end\n",
    "            append!(mons,mon)\n",
    "\n",
    "        end\n",
    "    end\n",
    "#     println(mons)\n",
    "    \n",
    "    polys=[]\n",
    "    for i in 1:5\n",
    "        pol=0\n",
    "        for j in 1:4\n",
    "            pol=pol+mons[4*(i-1)+j]*coeffs[j]\n",
    "        end\n",
    "        append!(polys,pol)\n",
    "    end\n",
    "    Un=zeros(Num,1,5)\n",
    "    for i in 1:5\n",
    "        Un[1,i]=U[i]\n",
    "    end\n",
    "    return Un\n",
    "end\n",
    "\n",
    "U=polys(A512)"
   ]
  },
  {
   "cell_type": "code",
   "execution_count": 130,
   "id": "99535677",
   "metadata": {},
   "outputs": [
    {
     "data": {
      "text/latex": [
       "$$ \\begin{equation}\n",
       "\\left[\n",
       "\\begin{array}{cccccccccc}\n",
       "x_{1 1} x_{1 3} x_{2 5} x_{4 4} + 2 x_2 x_8 x_{1 0} x_{5 5} + 4 x_{1 9} x_{3 0} x_{3 4} x_{4 6} x_{5 1} x_{5 4} & \\left(  - 3 x_{2 9} - x_2 x_{1 9} - 3 x_{1 9} x_{2 4} x_{2 5} \\right) \\left( x_{1 1} x_{1 3} x_{2 5} x_{4 4} + 2 x_2 x_8 x_{1 0} x_{5 5} + 4 x_{1 9} x_{3 0} x_{3 4} x_{4 6} x_{5 1} x_{5 4} \\right) + 2 x_{1 0}^{2} x_{4 9} + x_{1 0} x_{1 1} x_{1 3} x_{3 3} x_{4 4} + 4 x_{1 9} x_{3 0} x_{3 4} x_{4 7} x_{5 1} x_{5 4} & \\left(  - 6 x_{1 3} x_{1 8} x_{3 1} - 5 x_9 x_{1 1} x_{1 4} x_{2 1} - 3 x_1 x_3 x_9 x_{1 1} x_{2 7} \\right) \\left( 4 x_{6 2} + 2 x_{1 0}^{3} x_2 x_8 x_{1 6} x_{4 9} x_{6 1} + x_6 x_{1 1} x_{1 3} x_{2 1} x_{2 5} x_{4 4} x_{4 9} x_{5 5} \\right) + \\left( 2 x_{1 0}^{2} x_{4 9} + x_{1 0} x_{1 1} x_{1 3} x_{3 3} x_{4 4} + 4 x_{1 9} x_{3 0} x_{3 4} x_{4 7} x_{5 1} x_{5 4} \\right) \\left(  - x_{1 0} - \\left( 2 x_6 + 3 x_2^{2} x_{1 5} + 2 x_5 x_{1 4} x_{2 5} x_{2 6} \\right) \\left(  - \\left( 3 x_7 + 2 x_2 x_3 + 2 x_6 x_9 x_{1 8} x_{2 6} x_{2 8} \\right) \\left(  - \\left( x_{1 5} x_{3 0} + 3 x_{2 3}^{2} x_5 x_{1 4} + 6 x_{1 2} x_{1 5} x_{2 0} x_{2 1} \\right) \\left(  - 6 x_{1 3} x_{1 8} x_{3 1} - 5 x_9 x_{1 1} x_{1 4} x_{2 1} - 3 x_1 x_3 x_9 x_{1 1} x_{2 7} \\right) - 5 x_{1 1}^{2} x_{1 6} x_{1 9} - 6 x_3^{2} x_{2 1} x_{2 3} x_{2 6} - 4 x_{1 4} x_{2 0} x_{2 2} x_{2 3} \\right) - 2 x_5 x_{1 6} - 5 x_{1 0} x_{1 4} x_{2 2} - 4 x_{1 6} x_{1 9} x_{2 1} x_{2 7} x_{3 1} \\right) - \\left( 6 x_{1 9} + x_5 x_{2 0} + x_{1 1} \\right) \\left(  - 6 x_{1 3} x_{1 8} x_{3 1} - 5 x_9 x_{1 1} x_{1 4} x_{2 1} - 3 x_1 x_3 x_9 x_{1 1} x_{2 7} \\right) - 4 x_{1 6} x_{2 8} - 5 x_9 x_{1 8} x_{1 9} x_{2 9} \\right) + \\left( x_{1 1} x_{1 3} x_{2 5} x_{4 4} + 2 x_2 x_8 x_{1 0} x_{5 5} + 4 x_{1 9} x_{3 0} x_{3 4} x_{4 6} x_{5 1} x_{5 4} \\right) \\left(  - 2 x_{2 4} - 6 x_{2 7} - \\left( x_2 x_{1 9} + 3 x_{2 9} + 3 x_{1 9} x_{2 4} x_{2 5} \\right) \\left(  - x_{1 0} - 4 x_{1 6} x_{2 8} - 5 x_9 x_{1 8} x_{1 9} x_{2 9} \\right) - \\left( 4 x_3 x_{2 4} x_{2 5} + 3 x_2 x_8 x_{1 0} x_{1 6} x_{2 0} + x_{1 1} \\right) \\left(  - 6 x_{1 3} x_{1 8} x_{3 1} - 5 x_9 x_{1 1} x_{1 4} x_{2 1} - 3 x_1 x_3 x_9 x_{1 1} x_{2 7} \\right) - 2 x_3 x_{3 1} \\right) & \\left(  - 3 x_2 - 2 x_{2 9} - 5 x_3 x_{1 7} x_{2 9} \\right) \\left( x_{1 1} x_{1 3} x_{2 5} x_{4 4} + 2 x_2 x_8 x_{1 0} x_{5 5} + 4 x_{1 9} x_{3 0} x_{3 4} x_{4 6} x_{5 1} x_{5 4} \\right) & \\left( 2 x_{1 0}^{2} x_{4 9} + x_{1 0} x_{1 1} x_{1 3} x_{3 3} x_{4 4} + 4 x_{1 9} x_{3 0} x_{3 4} x_{4 7} x_{5 1} x_{5 4} \\right) \\left( \\left(  - \\left( 2 x_6 + 3 x_2^{2} x_{1 5} + 2 x_5 x_{1 4} x_{2 5} x_{2 6} \\right) \\left(  - \\left( 3 x_7 + 2 x_2 x_3 + 2 x_6 x_9 x_{1 8} x_{2 6} x_{2 8} \\right) \\left(  - \\left( x_{1 5} x_{3 0} + 3 x_{2 3}^{2} x_5 x_{1 4} + 6 x_{1 2} x_{1 5} x_{2 0} x_{2 1} \\right) \\left(  - 6 x_{1 3} x_{1 8} x_{3 1} - 5 x_9 x_{1 1} x_{1 4} x_{2 1} - 3 x_1 x_3 x_9 x_{1 1} x_{2 7} \\right) - 5 x_{1 1}^{2} x_{1 6} x_{1 9} - 6 x_3^{2} x_{2 1} x_{2 3} x_{2 6} - 4 x_{1 4} x_{2 0} x_{2 2} x_{2 3} \\right) - 2 x_5 x_{1 6} - 5 x_{1 0} x_{1 4} x_{2 2} - 4 x_{1 6} x_{1 9} x_{2 1} x_{2 7} x_{3 1} \\right) - \\left( 6 x_{1 9} + x_5 x_{2 0} + x_{1 1} \\right) \\left(  - 6 x_{1 3} x_{1 8} x_{3 1} - 5 x_9 x_{1 1} x_{1 4} x_{2 1} - 3 x_1 x_3 x_9 x_{1 1} x_{2 7} \\right) \\right) \\left(  - 6 x_5 x_{1 5} - 3 x_9 x_{1 2} x_{2 2} - 6 x_1 x_6 x_8 x_{1 5} x_{2 2} \\right) - \\left(  - 3 x_7 x_8 - 5 x_{1 1} x_{3 2} - 4 x_5 x_9 x_{2 1} \\right) \\left( 2 x_6 + 3 x_2^{2} x_{1 5} + 2 x_5 x_{1 4} x_{2 5} x_{2 6} \\right) - \\left( 4 x_{1 6} x_{2 8} + 5 x_9 x_{1 8} x_{1 9} x_{2 9} + x_{1 0} \\right) \\left(  - 6 x_5 x_{1 5} - 3 x_9 x_{1 2} x_{2 2} - 6 x_1 x_6 x_8 x_{1 5} x_{2 2} \\right) - 3 x_{1 0} x_{1 7} - 6 x_{2 0} x_{3 0} - 6 x_9^{2} x_7 x_{2 8} \\right) + \\left( x_{1 1} x_{1 3} x_{2 5} x_{4 4} + 2 x_2 x_8 x_{1 0} x_{5 5} + 4 x_{1 9} x_{3 0} x_{3 4} x_{4 6} x_{5 1} x_{5 4} \\right) \\left(  - 4 x_{1 3} - 4 x_{1 5} - \\left( x_2 x_{1 9} + 3 x_{2 9} + 3 x_{1 9} x_{2 4} x_{2 5} \\right) \\left(  - \\left( 4 x_{1 6} x_{2 8} + 5 x_9 x_{1 8} x_{1 9} x_{2 9} + x_{1 0} \\right) \\left(  - 6 x_5 x_{1 5} - 3 x_9 x_{1 2} x_{2 2} - 6 x_1 x_6 x_8 x_{1 5} x_{2 2} \\right) - 3 x_{1 0} x_{1 7} - 6 x_{2 0} x_{3 0} - 6 x_9^{2} x_7 x_{2 8} \\right) - \\left( 3 x_2 + 2 x_{2 9} + 5 x_3 x_{1 7} x_{2 9} \\right) \\left(  - 2 x_{1 8} x_{2 0} - 6 x_{1 5} x_{2 0} x_{2 3} - 5 x_6 x_9 x_{1 0} x_{1 9} x_{2 4} \\right) - \\left( 2 x_{2 4} + 6 x_{2 7} + 2 x_3 x_{3 1} \\right) \\left(  - 6 x_5 x_{1 5} - 3 x_9 x_{1 2} x_{2 2} - 6 x_1 x_6 x_8 x_{1 5} x_{2 2} \\right) - \\left(  - 6 x_{1 3} x_{1 8} x_{3 1} - 5 x_9 x_{1 1} x_{1 4} x_{2 1} - 3 x_1 x_3 x_9 x_{1 1} x_{2 7} \\right) \\left(  - 6 x_5 x_{1 5} - 3 x_9 x_{1 2} x_{2 2} - 6 x_1 x_6 x_8 x_{1 5} x_{2 2} \\right) \\left( 4 x_3 x_{2 4} x_{2 5} + 3 x_2 x_8 x_{1 0} x_{1 6} x_{2 0} + x_{1 1} \\right) - 2 x_1 x_9 x_{1 1} x_{2 0} - 6 x_{1 6}^{2} x_7 x_{2 6} x_{2 7} - 4 x_1 x_6 x_7 x_{1 8} x_{3 0} - 4 x_{1 3} x_{1 5} x_{2 2} x_{2 9} x_{3 0} \\right) + \\left(  - 6 x_{1 3} x_{1 8} x_{3 1} - 5 x_9 x_{1 1} x_{1 4} x_{2 1} - 3 x_1 x_3 x_9 x_{1 1} x_{2 7} \\right) \\left(  - 6 x_5 x_{1 5} - 3 x_9 x_{1 2} x_{2 2} - 6 x_1 x_6 x_8 x_{1 5} x_{2 2} \\right) \\left( 4 x_{6 2} + 2 x_{1 0}^{3} x_2 x_8 x_{1 6} x_{4 9} x_{6 1} + x_6 x_{1 1} x_{1 3} x_{2 1} x_{2 5} x_{4 4} x_{4 9} x_{5 5} \\right) & \\left( 2 x_{1 0}^{2} x_{4 9} + x_{1 0} x_{1 1} x_{1 3} x_{3 3} x_{4 4} + 4 x_{1 9} x_{3 0} x_{3 4} x_{4 7} x_{5 1} x_{5 4} \\right) \\left(  - 2 x_6 - \\left(  - x_{2 9} - 6 x_3 x_{2 1} x_{3 0} - 6 x_6 x_{1 2} x_{2 1} x_{2 5} \\right) \\left( 3 x_{1 0} x_{1 7} + 6 x_{2 0} x_{3 0} + 6 x_9^{2} x_7 x_{2 8} \\right) + \\left( 6 x_5 x_{1 5} + 3 x_9 x_{1 2} x_{2 2} + 6 x_1 x_6 x_8 x_{1 5} x_{2 2} \\right) \\left(  - x_{2 9} - 6 x_3 x_{2 1} x_{3 0} - 6 x_6 x_{1 2} x_{2 1} x_{2 5} \\right) \\left( 4 x_{1 6} x_{2 8} + 5 x_9 x_{1 8} x_{1 9} x_{2 9} + x_{1 0} \\right) - 3 x_2^{2} x_{1 5} - \\left(  - 3 x_7 x_8 - 5 x_{1 1} x_{3 2} - 4 x_5 x_9 x_{2 1} \\right) \\left(  - x_{2 9} - 6 x_3 x_{2 1} x_{3 0} - 6 x_6 x_{1 2} x_{2 1} x_{2 5} \\right) \\left( 2 x_6 + 3 x_2^{2} x_{1 5} + 2 x_5 x_{1 4} x_{2 5} x_{2 6} \\right) - \\left(  - \\left( 2 x_6 + 3 x_2^{2} x_{1 5} + 2 x_5 x_{1 4} x_{2 5} x_{2 6} \\right) \\left(  - \\left( 3 x_7 + 2 x_2 x_3 + 2 x_6 x_9 x_{1 8} x_{2 6} x_{2 8} \\right) \\left(  - \\left( x_{1 5} x_{3 0} + 3 x_{2 3}^{2} x_5 x_{1 4} + 6 x_{1 2} x_{1 5} x_{2 0} x_{2 1} \\right) \\left(  - 6 x_{1 3} x_{1 8} x_{3 1} - 5 x_9 x_{1 1} x_{1 4} x_{2 1} - 3 x_1 x_3 x_9 x_{1 1} x_{2 7} \\right) - 5 x_{1 1}^{2} x_{1 6} x_{1 9} - 6 x_3^{2} x_{2 1} x_{2 3} x_{2 6} - 4 x_{1 4} x_{2 0} x_{2 2} x_{2 3} \\right) - 2 x_5 x_{1 6} - 5 x_{1 0} x_{1 4} x_{2 2} - 4 x_{1 6} x_{1 9} x_{2 1} x_{2 7} x_{3 1} \\right) - \\left( 6 x_{1 9} + x_5 x_{2 0} + x_{1 1} \\right) \\left(  - 6 x_{1 3} x_{1 8} x_{3 1} - 5 x_9 x_{1 1} x_{1 4} x_{2 1} - 3 x_1 x_3 x_9 x_{1 1} x_{2 7} \\right) \\right) \\left( 6 x_5 x_{1 5} + 3 x_9 x_{1 2} x_{2 2} + 6 x_1 x_6 x_8 x_{1 5} x_{2 2} \\right) \\left(  - x_{2 9} - 6 x_3 x_{2 1} x_{3 0} - 6 x_6 x_{1 2} x_{2 1} x_{2 5} \\right) - 3 x_{1 6}^{2} x_9 x_{1 7} x_{2 9} - 2 x_5 x_{1 4} x_{2 5} x_{2 6} - 5 x_{1 2} x_{1 7} x_{3 1} x_{3 2} - 3 x_{1 0} x_{1 7} x_{2 8} x_{2 9} x_{3 1} \\right) + \\left( x_{1 1} x_{1 3} x_{2 5} x_{4 4} + 2 x_2 x_8 x_{1 0} x_{5 5} + 4 x_{1 9} x_{3 0} x_{3 4} x_{4 6} x_{5 1} x_{5 4} \\right) \\left( \\left(  - 4 x_{1 5} - 6 x_{1 6}^{2} x_7 x_{2 6} x_{2 7} - 4 x_{1 3} x_{1 5} x_{2 2} x_{2 9} x_{3 0} \\right) \\left(  - x_{2 9} - 6 x_3 x_{2 1} x_{3 0} - 6 x_6 x_{1 2} x_{2 1} x_{2 5} \\right) - \\left( 3 x_2 + 2 x_{2 9} + 5 x_3 x_{1 7} x_{2 9} \\right) \\left(  - \\left( 2 x_{1 8} x_{2 0} + 6 x_{1 5} x_{2 0} x_{2 3} + 5 x_6 x_9 x_{1 0} x_{1 9} x_{2 4} \\right) \\left(  - x_{2 9} - 6 x_3 x_{2 1} x_{3 0} - 6 x_6 x_{1 2} x_{2 1} x_{2 5} \\right) - 5 x_{3 0}^{2} x_5 x_{1 1} x_{1 2} - 5 x_{1 2}^{2} x_{1 0} x_{1 9} x_{3 2} - 4 x_2 x_{1 5} x_{1 6} x_{2 7} x_{3 1} \\right) - \\left(  - x_{2 9} - 6 x_3 x_{2 1} x_{3 0} - 6 x_6 x_{1 2} x_{2 1} x_{2 5} \\right) \\left( 4 x_{1 3} + 2 x_1 x_9 x_{1 1} x_{2 0} + 4 x_1 x_6 x_7 x_{1 8} x_{3 0} \\right) + \\left( 2 x_{2 4} + 6 x_{2 7} + 2 x_3 x_{3 1} \\right) \\left( 6 x_5 x_{1 5} + 3 x_9 x_{1 2} x_{2 2} + 6 x_1 x_6 x_8 x_{1 5} x_{2 2} \\right) \\left(  - x_{2 9} - 6 x_3 x_{2 1} x_{3 0} - 6 x_6 x_{1 2} x_{2 1} x_{2 5} \\right) - \\left( x_2 x_{1 9} + 3 x_{2 9} + 3 x_{1 9} x_{2 4} x_{2 5} \\right) \\left(  - \\left(  - x_{2 9} - 6 x_3 x_{2 1} x_{3 0} - 6 x_6 x_{1 2} x_{2 1} x_{2 5} \\right) \\left( 3 x_{1 0} x_{1 7} + 6 x_{2 0} x_{3 0} + 6 x_9^{2} x_7 x_{2 8} \\right) + \\left( 6 x_5 x_{1 5} + 3 x_9 x_{1 2} x_{2 2} + 6 x_1 x_6 x_8 x_{1 5} x_{2 2} \\right) \\left(  - x_{2 9} - 6 x_3 x_{2 1} x_{3 0} - 6 x_6 x_{1 2} x_{2 1} x_{2 5} \\right) \\left( 4 x_{1 6} x_{2 8} + 5 x_9 x_{1 8} x_{1 9} x_{2 9} + x_{1 0} \\right) - 3 x_{1 6}^{2} x_9 x_{1 7} x_{2 9} - 5 x_{1 2} x_{1 7} x_{3 1} x_{3 2} - 3 x_{1 0} x_{1 7} x_{2 8} x_{2 9} x_{3 1} \\right) + \\left( 6 x_5 x_{1 5} + 3 x_9 x_{1 2} x_{2 2} + 6 x_1 x_6 x_8 x_{1 5} x_{2 2} \\right) \\left(  - x_{2 9} - 6 x_3 x_{2 1} x_{3 0} - 6 x_6 x_{1 2} x_{2 1} x_{2 5} \\right) \\left( 4 x_3 x_{2 4} x_{2 5} + 3 x_2 x_8 x_{1 0} x_{1 6} x_{2 0} + x_{1 1} \\right) \\left(  - 6 x_{1 3} x_{1 8} x_{3 1} - 5 x_9 x_{1 1} x_{1 4} x_{2 1} - 3 x_1 x_3 x_9 x_{1 1} x_{2 7} \\right) \\right) - \\left( 6 x_5 x_{1 5} + 3 x_9 x_{1 2} x_{2 2} + 6 x_1 x_6 x_8 x_{1 5} x_{2 2} \\right) \\left(  - x_{2 9} - 6 x_3 x_{2 1} x_{3 0} - 6 x_6 x_{1 2} x_{2 1} x_{2 5} \\right) \\left(  - 6 x_{1 3} x_{1 8} x_{3 1} - 5 x_9 x_{1 1} x_{1 4} x_{2 1} - 3 x_1 x_3 x_9 x_{1 1} x_{2 7} \\right) \\left( 4 x_{6 2} + 2 x_{1 0}^{3} x_2 x_8 x_{1 6} x_{4 9} x_{6 1} + x_6 x_{1 1} x_{1 3} x_{2 1} x_{2 5} x_{4 4} x_{4 9} x_{5 5} \\right) & \\left(  - \\left(  - x_{1 2} - 6 x_{1 3} x_{2 8} - 3 x_{1 1} x_{1 8} x_{2 0} x_{2 2} \\right) \\left( 6 x_{1 3} x_{1 8} x_{3 1} + 5 x_9 x_{1 1} x_{1 4} x_{2 1} + 3 x_1 x_3 x_9 x_{1 1} x_{2 7} \\right) - \\left( 6 x_5 x_{1 5} + 3 x_9 x_{1 2} x_{2 2} + 6 x_1 x_6 x_8 x_{1 5} x_{2 2} \\right) \\left(  - 2 x_{2 6} - 2 x_4 x_{1 6} x_{2 1} - 4 x_{1 2}^{2} x_2 x_8 x_{2 4} \\right) \\left(  - 6 x_{1 3} x_{1 8} x_{3 1} - 5 x_9 x_{1 1} x_{1 4} x_{2 1} - 3 x_1 x_3 x_9 x_{1 1} x_{2 7} \\right) \\right) \\left( 4 x_{6 2} + 2 x_{1 0}^{3} x_2 x_8 x_{1 6} x_{4 9} x_{6 1} + x_6 x_{1 1} x_{1 3} x_{2 1} x_{2 5} x_{4 4} x_{4 9} x_{5 5} \\right) + \\left( 2 x_{1 0}^{2} x_{4 9} + x_{1 0} x_{1 1} x_{1 3} x_{3 3} x_{4 4} + 4 x_{1 9} x_{3 0} x_{3 4} x_{4 7} x_{5 1} x_{5 4} \\right) \\left( \\left( 6 x_{1 9} + x_5 x_{2 0} + x_{1 1} \\right) \\left(  - x_{1 2} - 6 x_{1 3} x_{2 8} - 3 x_{1 1} x_{1 8} x_{2 0} x_{2 2} \\right) \\left( 6 x_{1 3} x_{1 8} x_{3 1} + 5 x_9 x_{1 1} x_{1 4} x_{2 1} + 3 x_1 x_3 x_9 x_{1 1} x_{2 7} \\right) - \\left(  - 2 x_{2 6} - 2 x_4 x_{1 6} x_{2 1} - 4 x_{1 2}^{2} x_2 x_8 x_{2 4} \\right) \\left( 3 x_{1 0} x_{1 7} + 6 x_{2 0} x_{3 0} + 6 x_9^{2} x_7 x_{2 8} \\right) + \\left( 6 x_5 x_{1 5} + 3 x_9 x_{1 2} x_{2 2} + 6 x_1 x_6 x_8 x_{1 5} x_{2 2} \\right) \\left(  - 2 x_{2 6} - 2 x_4 x_{1 6} x_{2 1} - 4 x_{1 2}^{2} x_2 x_8 x_{2 4} \\right) \\left( 4 x_{1 6} x_{2 8} + 5 x_9 x_{1 8} x_{1 9} x_{2 9} + x_{1 0} \\right) - \\left(  - \\left(  - 4 x_{1 3} x_{3 0} - 3 x_8^{3} x_4 x_7 - 4 x_3 x_9 x_{2 1} \\right) \\left( 3 x_7 x_8 + 5 x_{1 1} x_{3 2} + 4 x_5 x_9 x_{2 1} \\right) - \\left(  - \\left(  - x_{1 2} - 6 x_{1 3} x_{2 8} - 3 x_{1 1} x_{1 8} x_{2 0} x_{2 2} \\right) \\left( 5 x_{1 1}^{2} x_{1 6} x_{1 9} + 6 x_3^{2} x_{2 1} x_{2 3} x_{2 6} + 4 x_{1 4} x_{2 0} x_{2 2} x_{2 3} \\right) + \\left(  - x_{1 2} - 6 x_{1 3} x_{2 8} - 3 x_{1 1} x_{1 8} x_{2 0} x_{2 2} \\right) \\left( x_{1 5} x_{3 0} + 3 x_{2 3}^{2} x_5 x_{1 4} + 6 x_{1 2} x_{1 5} x_{2 0} x_{2 1} \\right) \\left( 6 x_{1 3} x_{1 8} x_{3 1} + 5 x_9 x_{1 1} x_{1 4} x_{2 1} + 3 x_1 x_3 x_9 x_{1 1} x_{2 7} \\right) \\right) \\left( 3 x_7 + 2 x_2 x_3 + 2 x_6 x_9 x_{1 8} x_{2 6} x_{2 8} \\right) - \\left(  - x_{1 2} - 6 x_{1 3} x_{2 8} - 3 x_{1 1} x_{1 8} x_{2 0} x_{2 2} \\right) \\left( 2 x_5 x_{1 6} + 5 x_{1 0} x_{1 4} x_{2 2} + 4 x_{1 6} x_{1 9} x_{2 1} x_{2 7} x_{3 1} \\right) \\right) \\left( 2 x_6 + 3 x_2^{2} x_{1 5} + 2 x_5 x_{1 4} x_{2 5} x_{2 6} \\right) - \\left(  - \\left( 2 x_6 + 3 x_2^{2} x_{1 5} + 2 x_5 x_{1 4} x_{2 5} x_{2 6} \\right) \\left(  - \\left( 3 x_7 + 2 x_2 x_3 + 2 x_6 x_9 x_{1 8} x_{2 6} x_{2 8} \\right) \\left(  - \\left( x_{1 5} x_{3 0} + 3 x_{2 3}^{2} x_5 x_{1 4} + 6 x_{1 2} x_{1 5} x_{2 0} x_{2 1} \\right) \\left(  - 6 x_{1 3} x_{1 8} x_{3 1} - 5 x_9 x_{1 1} x_{1 4} x_{2 1} - 3 x_1 x_3 x_9 x_{1 1} x_{2 7} \\right) - 5 x_{1 1}^{2} x_{1 6} x_{1 9} - 6 x_3^{2} x_{2 1} x_{2 3} x_{2 6} - 4 x_{1 4} x_{2 0} x_{2 2} x_{2 3} \\right) - 2 x_5 x_{1 6} - 5 x_{1 0} x_{1 4} x_{2 2} - 4 x_{1 6} x_{1 9} x_{2 1} x_{2 7} x_{3 1} \\right) - \\left( 6 x_{1 9} + x_5 x_{2 0} + x_{1 1} \\right) \\left(  - 6 x_{1 3} x_{1 8} x_{3 1} - 5 x_9 x_{1 1} x_{1 4} x_{2 1} - 3 x_1 x_3 x_9 x_{1 1} x_{2 7} \\right) \\right) \\left( 6 x_5 x_{1 5} + 3 x_9 x_{1 2} x_{2 2} + 6 x_1 x_6 x_8 x_{1 5} x_{2 2} \\right) \\left(  - 2 x_{2 6} - 2 x_4 x_{1 6} x_{2 1} - 4 x_{1 2}^{2} x_2 x_8 x_{2 4} \\right) - \\left(  - 3 x_7 x_8 - 5 x_{1 1} x_{3 2} - 4 x_5 x_9 x_{2 1} \\right) \\left(  - 2 x_{2 6} - 2 x_4 x_{1 6} x_{2 1} - 4 x_{1 2}^{2} x_2 x_8 x_{2 4} \\right) \\left( 2 x_6 + 3 x_2^{2} x_{1 5} + 2 x_5 x_{1 4} x_{2 5} x_{2 6} \\right) \\right) + \\left( x_{1 1} x_{1 3} x_{2 5} x_{4 4} + 2 x_2 x_8 x_{1 0} x_{5 5} + 4 x_{1 9} x_{3 0} x_{3 4} x_{4 6} x_{5 1} x_{5 4} \\right) \\left( \\left(  - 4 x_{1 5} - 6 x_{1 6}^{2} x_7 x_{2 6} x_{2 7} - 4 x_{1 3} x_{1 5} x_{2 2} x_{2 9} x_{3 0} \\right) \\left(  - 2 x_{2 6} - 2 x_4 x_{1 6} x_{2 1} - 4 x_{1 2}^{2} x_2 x_8 x_{2 4} \\right) + \\left( 2 x_{2 4} + 6 x_{2 7} + 2 x_3 x_{3 1} \\right) \\left( 6 x_5 x_{1 5} + 3 x_9 x_{1 2} x_{2 2} + 6 x_1 x_6 x_8 x_{1 5} x_{2 2} \\right) \\left(  - 2 x_{2 6} - 2 x_4 x_{1 6} x_{2 1} - 4 x_{1 2}^{2} x_2 x_8 x_{2 4} \\right) - \\left(  - \\left(  - 2 x_{2 6} - 2 x_4 x_{1 6} x_{2 1} - 4 x_{1 2}^{2} x_2 x_8 x_{2 4} \\right) \\left( 3 x_{1 0} x_{1 7} + 6 x_{2 0} x_{3 0} + 6 x_9^{2} x_7 x_{2 8} \\right) + \\left( 6 x_5 x_{1 5} + 3 x_9 x_{1 2} x_{2 2} + 6 x_1 x_6 x_8 x_{1 5} x_{2 2} \\right) \\left(  - 2 x_{2 6} - 2 x_4 x_{1 6} x_{2 1} - 4 x_{1 2}^{2} x_2 x_8 x_{2 4} \\right) \\left( 4 x_{1 6} x_{2 8} + 5 x_9 x_{1 8} x_{1 9} x_{2 9} + x_{1 0} \\right) \\right) \\left( x_2 x_{1 9} + 3 x_{2 9} + 3 x_{1 9} x_{2 4} x_{2 5} \\right) + \\left( 3 x_2 + 2 x_{2 9} + 5 x_3 x_{1 7} x_{2 9} \\right) \\left(  - 2 x_{2 6} - 2 x_4 x_{1 6} x_{2 1} - 4 x_{1 2}^{2} x_2 x_8 x_{2 4} \\right) \\left( 2 x_{1 8} x_{2 0} + 6 x_{1 5} x_{2 0} x_{2 3} + 5 x_6 x_9 x_{1 0} x_{1 9} x_{2 4} \\right) + \\left(  - x_{1 2} - 6 x_{1 3} x_{2 8} - 3 x_{1 1} x_{1 8} x_{2 0} x_{2 2} \\right) \\left( 4 x_3 x_{2 4} x_{2 5} + 3 x_2 x_8 x_{1 0} x_{1 6} x_{2 0} + x_{1 1} \\right) \\left( 6 x_{1 3} x_{1 8} x_{3 1} + 5 x_9 x_{1 1} x_{1 4} x_{2 1} + 3 x_1 x_3 x_9 x_{1 1} x_{2 7} \\right) - \\left(  - 4 x_{1 3} x_{3 0} - 3 x_8^{3} x_4 x_7 - 4 x_3 x_9 x_{2 1} \\right) \\left( 4 x_{1 5} + 6 x_{1 6}^{2} x_7 x_{2 6} x_{2 7} + 4 x_{1 3} x_{1 5} x_{2 2} x_{2 9} x_{3 0} \\right) - \\left(  - 2 x_{2 6} - 2 x_4 x_{1 6} x_{2 1} - 4 x_{1 2}^{2} x_2 x_8 x_{2 4} \\right) \\left( 4 x_{1 3} + 2 x_1 x_9 x_{1 1} x_{2 0} + 4 x_1 x_6 x_7 x_{1 8} x_{3 0} \\right) - 3 x_2 x_{1 8} - 5 x_2 x_{3 0} + \\left( 6 x_5 x_{1 5} + 3 x_9 x_{1 2} x_{2 2} + 6 x_1 x_6 x_8 x_{1 5} x_{2 2} \\right) \\left(  - 2 x_{2 6} - 2 x_4 x_{1 6} x_{2 1} - 4 x_{1 2}^{2} x_2 x_8 x_{2 4} \\right) \\left( 4 x_3 x_{2 4} x_{2 5} + 3 x_2 x_8 x_{1 0} x_{1 6} x_{2 0} + x_{1 1} \\right) \\left(  - 6 x_{1 3} x_{1 8} x_{3 1} - 5 x_9 x_{1 1} x_{1 4} x_{2 1} - 3 x_1 x_3 x_9 x_{1 1} x_{2 7} \\right) - 6 x_1 x_2 x_3 x_{3 2} - 4 x_{1 8} x_{1 9} x_{2 0} x_{2 9} - 2 x_7 x_{1 7} x_{2 2} x_{2 6} - 3 x_5 x_9 x_{1 3} x_{2 0} x_{2 7} \\right) + x_6 x_{1 1} x_{2 5} x_{4 9} x_{5 5} + 2 x_{1 0}^{2} x_2 x_{4 9} x_{5 5} x_{6 1} + 4 x_{1 9} x_{2 4} x_{3 0} x_{4 6} x_{4 7} x_{5 1} x_{5 8} & \\left(  - \\left( 6 x_{1 3} x_{1 8} x_{3 1} + 5 x_9 x_{1 1} x_{1 4} x_{2 1} + 3 x_1 x_3 x_9 x_{1 1} x_{2 7} \\right) \\left(  - \\left(  - x_4 x_{2 8} x_{2 9} - 3 x_8 x_{1 3} x_{1 5} - 4 x_1 x_{2 4} x_{2 6} x_{3 0} \\right) \\left( 6 x_{1 3} x_{2 8} + 3 x_{1 1} x_{1 8} x_{2 0} x_{2 2} + x_{1 2} \\right) - 5 x_7 x_{1 3} x_{2 5} - 6 x_1 x_9 x_{1 1} x_{2 0} - 5 x_7 x_{1 5} x_{1 6} x_{2 6} \\right) - \\left(  - x_{1 2} - 6 x_{1 3} x_{2 8} - 3 x_{1 1} x_{1 8} x_{2 0} x_{2 2} \\right) \\left(  - 3 x_2 - 3 x_2 x_4 x_6 x_{1 0} - 4 x_2 x_6 x_{1 1} x_{2 4} x_{3 0} \\right) \\left( 6 x_{1 3} x_{1 8} x_{3 1} + 5 x_9 x_{1 1} x_{1 4} x_{2 1} + 3 x_1 x_3 x_9 x_{1 1} x_{2 7} \\right) - \\left(  - \\left(  - x_4 x_9 - 5 x_{1 0} x_{1 4} x_{1 5} - 4 x_2 x_{1 9} x_{2 8} \\right) \\left( 6 x_3 x_{2 1} x_{3 0} + 6 x_6 x_{1 2} x_{2 1} x_{2 5} + x_{2 9} \\right) - \\left(  - 3 x_2 - 3 x_2 x_4 x_6 x_{1 0} - 4 x_2 x_6 x_{1 1} x_{2 4} x_{3 0} \\right) \\left( 2 x_{2 6} + 2 x_4 x_{1 6} x_{2 1} + 4 x_{1 2}^{2} x_2 x_8 x_{2 4} \\right) \\right) \\left( 6 x_5 x_{1 5} + 3 x_9 x_{1 2} x_{2 2} + 6 x_1 x_6 x_8 x_{1 5} x_{2 2} \\right) \\left(  - 6 x_{1 3} x_{1 8} x_{3 1} - 5 x_9 x_{1 1} x_{1 4} x_{2 1} - 3 x_1 x_3 x_9 x_{1 1} x_{2 7} \\right) \\right) \\left( 4 x_{6 2} + 2 x_{1 0}^{3} x_2 x_8 x_{1 6} x_{4 9} x_{6 1} + x_6 x_{1 1} x_{1 3} x_{2 1} x_{2 5} x_{4 4} x_{4 9} x_{5 5} \\right) + \\left( x_{1 1} x_{1 3} x_{2 5} x_{4 4} + 2 x_2 x_8 x_{1 0} x_{5 5} + 4 x_{1 9} x_{3 0} x_{3 4} x_{4 6} x_{5 1} x_{5 4} \\right) \\left(  - x_{1 5} + \\left(  - \\left(  - x_4 x_9 - 5 x_{1 0} x_{1 4} x_{1 5} - 4 x_2 x_{1 9} x_{2 8} \\right) \\left( 6 x_3 x_{2 1} x_{3 0} + 6 x_6 x_{1 2} x_{2 1} x_{2 5} + x_{2 9} \\right) - \\left(  - 3 x_2 - 3 x_2 x_4 x_6 x_{1 0} - 4 x_2 x_6 x_{1 1} x_{2 4} x_{3 0} \\right) \\left( 2 x_{2 6} + 2 x_4 x_{1 6} x_{2 1} + 4 x_{1 2}^{2} x_2 x_8 x_{2 4} \\right) \\right) \\left(  - 4 x_{1 5} - 6 x_{1 6}^{2} x_7 x_{2 6} x_{2 7} - 4 x_{1 3} x_{1 5} x_{2 2} x_{2 9} x_{3 0} \\right) - 4 x_{2 7} + \\left(  - 3 x_2 - 3 x_2 x_4 x_6 x_{1 0} - 4 x_2 x_6 x_{1 1} x_{2 4} x_{3 0} \\right) \\left( \\left(  - x_{1 2} - 6 x_{1 3} x_{2 8} - 3 x_{1 1} x_{1 8} x_{2 0} x_{2 2} \\right) \\left( 4 x_3 x_{2 4} x_{2 5} + 3 x_2 x_8 x_{1 0} x_{1 6} x_{2 0} + x_{1 1} \\right) \\left( 6 x_{1 3} x_{1 8} x_{3 1} + 5 x_9 x_{1 1} x_{1 4} x_{2 1} + 3 x_1 x_3 x_9 x_{1 1} x_{2 7} \\right) - \\left(  - 4 x_{1 3} x_{3 0} - 3 x_8^{3} x_4 x_7 - 4 x_3 x_9 x_{2 1} \\right) \\left( 4 x_{1 5} + 6 x_{1 6}^{2} x_7 x_{2 6} x_{2 7} + 4 x_{1 3} x_{1 5} x_{2 2} x_{2 9} x_{3 0} \\right) - 6 x_1 x_2 x_3 x_{3 2} - 2 x_7 x_{1 7} x_{2 2} x_{2 6} - 3 x_5 x_9 x_{1 3} x_{2 0} x_{2 7} \\right) + \\left(  - \\left(  - x_4 x_9 - 5 x_{1 0} x_{1 4} x_{1 5} - 4 x_2 x_{1 9} x_{2 8} \\right) \\left( 6 x_3 x_{2 1} x_{3 0} + 6 x_6 x_{1 2} x_{2 1} x_{2 5} + x_{2 9} \\right) - \\left(  - 3 x_2 - 3 x_2 x_4 x_6 x_{1 0} - 4 x_2 x_6 x_{1 1} x_{2 4} x_{3 0} \\right) \\left( 2 x_{2 6} + 2 x_4 x_{1 6} x_{2 1} + 4 x_{1 2}^{2} x_2 x_8 x_{2 4} \\right) \\right) \\left( 2 x_{2 4} + 6 x_{2 7} + 2 x_3 x_{3 1} \\right) \\left( 6 x_5 x_{1 5} + 3 x_9 x_{1 2} x_{2 2} + 6 x_1 x_6 x_8 x_{1 5} x_{2 2} \\right) - \\left(  - x_4 x_{2 8} x_{2 9} - 3 x_8 x_{1 3} x_{1 5} - 4 x_1 x_{2 4} x_{2 6} x_{3 0} \\right) \\left( 6 x_1 x_2 x_3 x_{3 2} + 2 x_7 x_{1 7} x_{2 2} x_{2 6} + 3 x_5 x_9 x_{1 3} x_{2 0} x_{2 7} \\right) - \\left(  - \\left(  - x_4 x_9 - 5 x_{1 0} x_{1 4} x_{1 5} - 4 x_2 x_{1 9} x_{2 8} \\right) \\left( 6 x_3 x_{2 1} x_{3 0} + 6 x_6 x_{1 2} x_{2 1} x_{2 5} + x_{2 9} \\right) - \\left(  - 3 x_2 - 3 x_2 x_4 x_6 x_{1 0} - 4 x_2 x_6 x_{1 1} x_{2 4} x_{3 0} \\right) \\left( 2 x_{2 6} + 2 x_4 x_{1 6} x_{2 1} + 4 x_{1 2}^{2} x_2 x_8 x_{2 4} \\right) \\right) \\left( 4 x_{1 3} + 2 x_1 x_9 x_{1 1} x_{2 0} + 4 x_1 x_6 x_7 x_{1 8} x_{3 0} \\right) + \\left( 4 x_3 x_{2 4} x_{2 5} + 3 x_2 x_8 x_{1 0} x_{1 6} x_{2 0} + x_{1 1} \\right) \\left( 6 x_{1 3} x_{1 8} x_{3 1} + 5 x_9 x_{1 1} x_{1 4} x_{2 1} + 3 x_1 x_3 x_9 x_{1 1} x_{2 7} \\right) \\left(  - \\left(  - x_4 x_{2 8} x_{2 9} - 3 x_8 x_{1 3} x_{1 5} - 4 x_1 x_{2 4} x_{2 6} x_{3 0} \\right) \\left( 6 x_{1 3} x_{2 8} + 3 x_{1 1} x_{1 8} x_{2 0} x_{2 2} + x_{1 2} \\right) - 5 x_7 x_{1 3} x_{2 5} - 6 x_1 x_9 x_{1 1} x_{2 0} - 5 x_7 x_{1 5} x_{1 6} x_{2 6} \\right) + \\left( 4 x_{1 3} x_{3 0} + 3 x_8^{3} x_4 x_7 + 4 x_3 x_9 x_{2 1} \\right) \\left(  - x_4 x_{2 8} x_{2 9} - 3 x_8 x_{1 3} x_{1 5} - 4 x_1 x_{2 4} x_{2 6} x_{3 0} \\right) \\left( 4 x_{1 5} + 6 x_{1 6}^{2} x_7 x_{2 6} x_{2 7} + 4 x_{1 3} x_{1 5} x_{2 2} x_{2 9} x_{3 0} \\right) - \\left( x_2 x_{1 9} + 3 x_{2 9} + 3 x_{1 9} x_{2 4} x_{2 5} \\right) \\left(  - \\left(  - \\left(  - x_4 x_9 - 5 x_{1 0} x_{1 4} x_{1 5} - 4 x_2 x_{1 9} x_{2 8} \\right) \\left( 6 x_3 x_{2 1} x_{3 0} + 6 x_6 x_{1 2} x_{2 1} x_{2 5} + x_{2 9} \\right) - \\left(  - 3 x_2 - 3 x_2 x_4 x_6 x_{1 0} - 4 x_2 x_6 x_{1 1} x_{2 4} x_{3 0} \\right) \\left( 2 x_{2 6} + 2 x_4 x_{1 6} x_{2 1} + 4 x_{1 2}^{2} x_2 x_8 x_{2 4} \\right) \\right) \\left( 3 x_{1 0} x_{1 7} + 6 x_{2 0} x_{3 0} + 6 x_9^{2} x_7 x_{2 8} \\right) + \\left(  - \\left(  - x_4 x_9 - 5 x_{1 0} x_{1 4} x_{1 5} - 4 x_2 x_{1 9} x_{2 8} \\right) \\left( 6 x_3 x_{2 1} x_{3 0} + 6 x_6 x_{1 2} x_{2 1} x_{2 5} + x_{2 9} \\right) - \\left(  - 3 x_2 - 3 x_2 x_4 x_6 x_{1 0} - 4 x_2 x_6 x_{1 1} x_{2 4} x_{3 0} \\right) \\left( 2 x_{2 6} + 2 x_4 x_{1 6} x_{2 1} + 4 x_{1 2}^{2} x_2 x_8 x_{2 4} \\right) \\right) \\left( 6 x_5 x_{1 5} + 3 x_9 x_{1 2} x_{2 2} + 6 x_1 x_6 x_8 x_{1 5} x_{2 2} \\right) \\left( 4 x_{1 6} x_{2 8} + 5 x_9 x_{1 8} x_{1 9} x_{2 9} + x_{1 0} \\right) - \\left(  - x_4 x_9 - 5 x_{1 0} x_{1 4} x_{1 5} - 4 x_2 x_{1 9} x_{2 8} \\right) \\left( 3 x_{1 6}^{2} x_9 x_{1 7} x_{2 9} + 5 x_{1 2} x_{1 7} x_{3 1} x_{3 2} + 3 x_{1 0} x_{1 7} x_{2 8} x_{2 9} x_{3 1} \\right) - x_{2 8}^{2} x_1 x_3 - 2 x_1 x_{1 4} x_{2 0} - 6 x_7 x_{1 0} x_{1 1} x_{1 9} x_{2 4} \\right) - \\left( 3 x_2 + 2 x_{2 9} + 5 x_3 x_{1 7} x_{2 9} \\right) \\left(  - 3 x_1^{2} - 4 x_{2 6} - \\left(  - \\left(  - x_4 x_9 - 5 x_{1 0} x_{1 4} x_{1 5} - 4 x_2 x_{1 9} x_{2 8} \\right) \\left( 6 x_3 x_{2 1} x_{3 0} + 6 x_6 x_{1 2} x_{2 1} x_{2 5} + x_{2 9} \\right) - \\left(  - 3 x_2 - 3 x_2 x_4 x_6 x_{1 0} - 4 x_2 x_6 x_{1 1} x_{2 4} x_{3 0} \\right) \\left( 2 x_{2 6} + 2 x_4 x_{1 6} x_{2 1} + 4 x_{1 2}^{2} x_2 x_8 x_{2 4} \\right) \\right) \\left( 2 x_{1 8} x_{2 0} + 6 x_{1 5} x_{2 0} x_{2 3} + 5 x_6 x_9 x_{1 0} x_{1 9} x_{2 4} \\right) - \\left(  - x_4 x_9 - 5 x_{1 0} x_{1 4} x_{1 5} - 4 x_2 x_{1 9} x_{2 8} \\right) \\left( 5 x_{3 0}^{2} x_5 x_{1 1} x_{1 2} + 5 x_{1 2}^{2} x_{1 0} x_{1 9} x_{3 2} + 4 x_2 x_{1 5} x_{1 6} x_{2 7} x_{3 1} \\right) - 3 x_{1 0} x_{1 8} x_{3 1} x_{3 2} \\right) - \\left(  - 3 x_2 - 3 x_2 x_4 x_6 x_{1 0} - 4 x_2 x_6 x_{1 1} x_{2 4} x_{3 0} \\right) \\left( 3 x_2 x_{1 8} + 5 x_2 x_{3 0} + 4 x_{1 8} x_{1 9} x_{2 0} x_{2 9} \\right) - 6 x_{2 1} x_{2 8} - x_{1 3} x_{2 7} x_{3 1} + \\left(  - \\left(  - x_4 x_9 - 5 x_{1 0} x_{1 4} x_{1 5} - 4 x_2 x_{1 9} x_{2 8} \\right) \\left( 6 x_3 x_{2 1} x_{3 0} + 6 x_6 x_{1 2} x_{2 1} x_{2 5} + x_{2 9} \\right) - \\left(  - 3 x_2 - 3 x_2 x_4 x_6 x_{1 0} - 4 x_2 x_6 x_{1 1} x_{2 4} x_{3 0} \\right) \\left( 2 x_{2 6} + 2 x_4 x_{1 6} x_{2 1} + 4 x_{1 2}^{2} x_2 x_8 x_{2 4} \\right) \\right) \\left( 6 x_5 x_{1 5} + 3 x_9 x_{1 2} x_{2 2} + 6 x_1 x_6 x_8 x_{1 5} x_{2 2} \\right) \\left( 4 x_3 x_{2 4} x_{2 5} + 3 x_2 x_8 x_{1 0} x_{1 6} x_{2 0} + x_{1 1} \\right) \\left(  - 6 x_{1 3} x_{1 8} x_{3 1} - 5 x_9 x_{1 1} x_{1 4} x_{2 1} - 3 x_1 x_3 x_9 x_{1 1} x_{2 7} \\right) - 3 x_3^{2} x_6 x_7 x_9 - 2 x_3 x_{2 1} x_{2 3} x_{2 5} \\right) + \\left( x_6 x_{1 1} x_{2 5} x_{4 9} x_{5 5} + 2 x_{1 0}^{2} x_2 x_{4 9} x_{5 5} x_{6 1} + 4 x_{1 9} x_{2 4} x_{3 0} x_{4 6} x_{4 7} x_{5 1} x_{5 8} \\right) \\left(  - 3 x_2 - x_4 x_{2 8} x_{2 9} - 3 x_8 x_{1 3} x_{1 5} - 4 x_1 x_{2 4} x_{2 6} x_{3 0} - 3 x_2 x_4 x_6 x_{1 0} - 4 x_2 x_6 x_{1 1} x_{2 4} x_{3 0} \\right) + \\left( 2 x_{1 0}^{2} x_{4 9} + x_{1 0} x_{1 1} x_{1 3} x_{3 3} x_{4 4} + 4 x_{1 9} x_{3 0} x_{3 4} x_{4 7} x_{5 1} x_{5 4} \\right) \\left( \\left(  - \\left(  - \\left(  - 4 x_{1 3} x_{3 0} - 3 x_8^{3} x_4 x_7 - 4 x_3 x_9 x_{2 1} \\right) \\left( 3 x_7 x_8 + 5 x_{1 1} x_{3 2} + 4 x_5 x_9 x_{2 1} \\right) - \\left(  - \\left(  - x_{1 2} - 6 x_{1 3} x_{2 8} - 3 x_{1 1} x_{1 8} x_{2 0} x_{2 2} \\right) \\left( 5 x_{1 1}^{2} x_{1 6} x_{1 9} + 6 x_3^{2} x_{2 1} x_{2 3} x_{2 6} + 4 x_{1 4} x_{2 0} x_{2 2} x_{2 3} \\right) + \\left(  - x_{1 2} - 6 x_{1 3} x_{2 8} - 3 x_{1 1} x_{1 8} x_{2 0} x_{2 2} \\right) \\left( x_{1 5} x_{3 0} + 3 x_{2 3}^{2} x_5 x_{1 4} + 6 x_{1 2} x_{1 5} x_{2 0} x_{2 1} \\right) \\left( 6 x_{1 3} x_{1 8} x_{3 1} + 5 x_9 x_{1 1} x_{1 4} x_{2 1} + 3 x_1 x_3 x_9 x_{1 1} x_{2 7} \\right) \\right) \\left( 3 x_7 + 2 x_2 x_3 + 2 x_6 x_9 x_{1 8} x_{2 6} x_{2 8} \\right) - \\left(  - x_{1 2} - 6 x_{1 3} x_{2 8} - 3 x_{1 1} x_{1 8} x_{2 0} x_{2 2} \\right) \\left( 2 x_5 x_{1 6} + 5 x_{1 0} x_{1 4} x_{2 2} + 4 x_{1 6} x_{1 9} x_{2 1} x_{2 7} x_{3 1} \\right) \\right) \\left( 2 x_6 + 3 x_2^{2} x_{1 5} + 2 x_5 x_{1 4} x_{2 5} x_{2 6} \\right) + \\left( 6 x_{1 9} + x_5 x_{2 0} + x_{1 1} \\right) \\left(  - x_{1 2} - 6 x_{1 3} x_{2 8} - 3 x_{1 1} x_{1 8} x_{2 0} x_{2 2} \\right) \\left( 6 x_{1 3} x_{1 8} x_{3 1} + 5 x_9 x_{1 1} x_{1 4} x_{2 1} + 3 x_1 x_3 x_9 x_{1 1} x_{2 7} \\right) \\right) \\left(  - 3 x_2 - 3 x_2 x_4 x_6 x_{1 0} - 4 x_2 x_6 x_{1 1} x_{2 4} x_{3 0} \\right) + \\left(  - 2 x_6 - 3 x_2^{2} x_{1 5} - 2 x_5 x_{1 4} x_{2 5} x_{2 6} \\right) \\left(  - x_4 x_9 - 5 x_{1 0} x_{1 4} x_{1 5} - 4 x_2 x_{1 9} x_{2 8} \\right) - \\left( 2 x_6 + 3 x_2^{2} x_{1 5} + 2 x_5 x_{1 4} x_{2 5} x_{2 6} \\right) \\left(  - \\left( 2 x_5 x_{1 6} + 5 x_{1 0} x_{1 4} x_{2 2} + 4 x_{1 6} x_{1 9} x_{2 1} x_{2 7} x_{3 1} \\right) \\left(  - \\left(  - x_4 x_{2 8} x_{2 9} - 3 x_8 x_{1 3} x_{1 5} - 4 x_1 x_{2 4} x_{2 6} x_{3 0} \\right) \\left( 6 x_{1 3} x_{2 8} + 3 x_{1 1} x_{1 8} x_{2 0} x_{2 2} + x_{1 2} \\right) - 5 x_7 x_{1 3} x_{2 5} - 6 x_1 x_9 x_{1 1} x_{2 0} - 5 x_7 x_{1 5} x_{1 6} x_{2 6} \\right) - \\left( 3 x_7 + 2 x_2 x_3 + 2 x_6 x_9 x_{1 8} x_{2 6} x_{2 8} \\right) \\left(  - \\left( 5 x_{1 1}^{2} x_{1 6} x_{1 9} + 6 x_3^{2} x_{2 1} x_{2 3} x_{2 6} + 4 x_{1 4} x_{2 0} x_{2 2} x_{2 3} \\right) \\left(  - \\left(  - x_4 x_{2 8} x_{2 9} - 3 x_8 x_{1 3} x_{1 5} - 4 x_1 x_{2 4} x_{2 6} x_{3 0} \\right) \\left( 6 x_{1 3} x_{2 8} + 3 x_{1 1} x_{1 8} x_{2 0} x_{2 2} + x_{1 2} \\right) - 5 x_7 x_{1 3} x_{2 5} - 6 x_1 x_9 x_{1 1} x_{2 0} - 5 x_7 x_{1 5} x_{1 6} x_{2 6} \\right) - 2 x_{2 5}^{2} x_{2 1} - 6 x_{2 1} x_{3 2} + \\left( x_{1 5} x_{3 0} + 3 x_{2 3}^{2} x_5 x_{1 4} + 6 x_{1 2} x_{1 5} x_{2 0} x_{2 1} \\right) \\left( 6 x_{1 3} x_{1 8} x_{3 1} + 5 x_9 x_{1 1} x_{1 4} x_{2 1} + 3 x_1 x_3 x_9 x_{1 1} x_{2 7} \\right) \\left(  - \\left(  - x_4 x_{2 8} x_{2 9} - 3 x_8 x_{1 3} x_{1 5} - 4 x_1 x_{2 4} x_{2 6} x_{3 0} \\right) \\left( 6 x_{1 3} x_{2 8} + 3 x_{1 1} x_{1 8} x_{2 0} x_{2 2} + x_{1 2} \\right) - 5 x_7 x_{1 3} x_{2 5} - 6 x_1 x_9 x_{1 1} x_{2 0} - 5 x_7 x_{1 5} x_{1 6} x_{2 6} \\right) - 4 x_6 x_{1 2} x_{1 4} x_{1 8} \\right) + \\left( 4 x_{1 3} x_{3 0} + 3 x_8^{3} x_4 x_7 + 4 x_3 x_9 x_{2 1} \\right) \\left( 3 x_7 x_8 + 5 x_{1 1} x_{3 2} + 4 x_5 x_9 x_{2 1} \\right) \\left(  - x_4 x_{2 8} x_{2 9} - 3 x_8 x_{1 3} x_{1 5} - 4 x_1 x_{2 4} x_{2 6} x_{3 0} \\right) \\right) - \\left(  - \\left(  - x_4 x_9 - 5 x_{1 0} x_{1 4} x_{1 5} - 4 x_2 x_{1 9} x_{2 8} \\right) \\left( 6 x_3 x_{2 1} x_{3 0} + 6 x_6 x_{1 2} x_{2 1} x_{2 5} + x_{2 9} \\right) - \\left(  - 3 x_2 - 3 x_2 x_4 x_6 x_{1 0} - 4 x_2 x_6 x_{1 1} x_{2 4} x_{3 0} \\right) \\left( 2 x_{2 6} + 2 x_4 x_{1 6} x_{2 1} + 4 x_{1 2}^{2} x_2 x_8 x_{2 4} \\right) \\right) \\left( 3 x_{1 0} x_{1 7} + 6 x_{2 0} x_{3 0} + 6 x_9^{2} x_7 x_{2 8} \\right) + \\left(  - \\left(  - x_4 x_9 - 5 x_{1 0} x_{1 4} x_{1 5} - 4 x_2 x_{1 9} x_{2 8} \\right) \\left( 6 x_3 x_{2 1} x_{3 0} + 6 x_6 x_{1 2} x_{2 1} x_{2 5} + x_{2 9} \\right) - \\left(  - 3 x_2 - 3 x_2 x_4 x_6 x_{1 0} - 4 x_2 x_6 x_{1 1} x_{2 4} x_{3 0} \\right) \\left( 2 x_{2 6} + 2 x_4 x_{1 6} x_{2 1} + 4 x_{1 2}^{2} x_2 x_8 x_{2 4} \\right) \\right) \\left( 6 x_5 x_{1 5} + 3 x_9 x_{1 2} x_{2 2} + 6 x_1 x_6 x_8 x_{1 5} x_{2 2} \\right) \\left( 4 x_{1 6} x_{2 8} + 5 x_9 x_{1 8} x_{1 9} x_{2 9} + x_{1 0} \\right) - \\left(  - x_4 x_9 - 5 x_{1 0} x_{1 4} x_{1 5} - 4 x_2 x_{1 9} x_{2 8} \\right) \\left( 3 x_{1 6}^{2} x_9 x_{1 7} x_{2 9} + 5 x_{1 2} x_{1 7} x_{3 1} x_{3 2} + 3 x_{1 0} x_{1 7} x_{2 8} x_{2 9} x_{3 1} \\right) + \\left( 6 x_{1 9} + x_5 x_{2 0} + x_{1 1} \\right) \\left( 6 x_{1 3} x_{1 8} x_{3 1} + 5 x_9 x_{1 1} x_{1 4} x_{2 1} + 3 x_1 x_3 x_9 x_{1 1} x_{2 7} \\right) \\left(  - \\left(  - x_4 x_{2 8} x_{2 9} - 3 x_8 x_{1 3} x_{1 5} - 4 x_1 x_{2 4} x_{2 6} x_{3 0} \\right) \\left( 6 x_{1 3} x_{2 8} + 3 x_{1 1} x_{1 8} x_{2 0} x_{2 2} + x_{1 2} \\right) - 5 x_7 x_{1 3} x_{2 5} - 6 x_1 x_9 x_{1 1} x_{2 0} - 5 x_7 x_{1 5} x_{1 6} x_{2 6} \\right) - 6 x_{2 6} x_{3 1} - \\left(  - \\left(  - x_4 x_9 - 5 x_{1 0} x_{1 4} x_{1 5} - 4 x_2 x_{1 9} x_{2 8} \\right) \\left( 6 x_3 x_{2 1} x_{3 0} + 6 x_6 x_{1 2} x_{2 1} x_{2 5} + x_{2 9} \\right) - \\left(  - 3 x_2 - 3 x_2 x_4 x_6 x_{1 0} - 4 x_2 x_6 x_{1 1} x_{2 4} x_{3 0} \\right) \\left( 2 x_{2 6} + 2 x_4 x_{1 6} x_{2 1} + 4 x_{1 2}^{2} x_2 x_8 x_{2 4} \\right) \\right) \\left(  - \\left( 2 x_6 + 3 x_2^{2} x_{1 5} + 2 x_5 x_{1 4} x_{2 5} x_{2 6} \\right) \\left(  - \\left( 3 x_7 + 2 x_2 x_3 + 2 x_6 x_9 x_{1 8} x_{2 6} x_{2 8} \\right) \\left(  - \\left( x_{1 5} x_{3 0} + 3 x_{2 3}^{2} x_5 x_{1 4} + 6 x_{1 2} x_{1 5} x_{2 0} x_{2 1} \\right) \\left(  - 6 x_{1 3} x_{1 8} x_{3 1} - 5 x_9 x_{1 1} x_{1 4} x_{2 1} - 3 x_1 x_3 x_9 x_{1 1} x_{2 7} \\right) - 5 x_{1 1}^{2} x_{1 6} x_{1 9} - 6 x_3^{2} x_{2 1} x_{2 3} x_{2 6} - 4 x_{1 4} x_{2 0} x_{2 2} x_{2 3} \\right) - 2 x_5 x_{1 6} - 5 x_{1 0} x_{1 4} x_{2 2} - 4 x_{1 6} x_{1 9} x_{2 1} x_{2 7} x_{3 1} \\right) - \\left( 6 x_{1 9} + x_5 x_{2 0} + x_{1 1} \\right) \\left(  - 6 x_{1 3} x_{1 8} x_{3 1} - 5 x_9 x_{1 1} x_{1 4} x_{2 1} - 3 x_1 x_3 x_9 x_{1 1} x_{2 7} \\right) \\right) \\left( 6 x_5 x_{1 5} + 3 x_9 x_{1 2} x_{2 2} + 6 x_1 x_6 x_8 x_{1 5} x_{2 2} \\right) - \\left(  - \\left(  - x_4 x_9 - 5 x_{1 0} x_{1 4} x_{1 5} - 4 x_2 x_{1 9} x_{2 8} \\right) \\left( 6 x_3 x_{2 1} x_{3 0} + 6 x_6 x_{1 2} x_{2 1} x_{2 5} + x_{2 9} \\right) - \\left(  - 3 x_2 - 3 x_2 x_4 x_6 x_{1 0} - 4 x_2 x_6 x_{1 1} x_{2 4} x_{3 0} \\right) \\left( 2 x_{2 6} + 2 x_4 x_{1 6} x_{2 1} + 4 x_{1 2}^{2} x_2 x_8 x_{2 4} \\right) \\right) \\left(  - 3 x_7 x_8 - 5 x_{1 1} x_{3 2} - 4 x_5 x_9 x_{2 1} \\right) \\left( 2 x_6 + 3 x_2^{2} x_{1 5} + 2 x_5 x_{1 4} x_{2 5} x_{2 6} \\right) - x_{2 8}^{2} x_1 x_3 - 2 x_1 x_{1 4} x_{2 0} - 6 x_4 x_{1 8} x_{2 7} x_{3 1} - 5 x_1 x_{1 0} x_{1 2} x_{1 7} x_{2 4} - 6 x_7 x_{1 0} x_{1 1} x_{1 9} x_{2 4} \\right) + x_6 x_{1 0} x_{1 1} x_{1 3} x_{2 5} x_{3 3} x_{4 4} + 2 x_{1 0}^{3} x_8 x_{1 6} x_{2 2} x_{4 9} x_{6 1} + 4 x_{1 9} x_{2 4} x_{3 0} x_{4 6} x_{4 7} x_{5 1} x_{6 2} & \\left( 2 x_{1 0}^{2} x_{4 9} + x_{1 0} x_{1 1} x_{1 3} x_{3 3} x_{4 4} + 4 x_{1 9} x_{3 0} x_{3 4} x_{4 7} x_{5 1} x_{5 4} \\right) \\left( \\left(  - 2 x_6 - 3 x_2^{2} x_{1 5} - 2 x_5 x_{1 4} x_{2 5} x_{2 6} \\right) \\left(  - 4 x_{2 4} - 3 x_5 x_{3 2} - 2 x_1 x_6 x_{1 9} x_{2 2} x_{2 7} \\right) - x_{1 1} - 3 x_3 - \\left( 2 x_6 + 3 x_2^{2} x_{1 5} + 2 x_5 x_{1 4} x_{2 5} x_{2 6} \\right) \\left(  - 3 x_7 - 2 x_2 x_3 - 2 x_6 x_9 x_{1 8} x_{2 6} x_{2 8} \\right) - \\left(  - 4 x_{2 4} - 3 x_5 x_{3 2} - 2 x_1 x_6 x_{1 9} x_{2 2} x_{2 7} \\right) \\left( 3 x_{1 6}^{2} x_9 x_{1 7} x_{2 9} + 5 x_{1 2} x_{1 7} x_{3 1} x_{3 2} + 3 x_{1 0} x_{1 7} x_{2 8} x_{2 9} x_{3 1} \\right) - \\left( 3 x_{1 0} x_{1 7} + 6 x_{2 0} x_{3 0} + 6 x_9^{2} x_7 x_{2 8} \\right) \\left(  - \\left(  - 4 x_{2 4} - 3 x_5 x_{3 2} - 2 x_1 x_6 x_{1 9} x_{2 2} x_{2 7} \\right) \\left( 6 x_3 x_{2 1} x_{3 0} + 6 x_6 x_{1 2} x_{2 1} x_{2 5} + x_{2 9} \\right) - 5 x_8 x_{1 3} - 3 x_3 x_{1 6} - 3 x_{1 8} x_{2 0} x_{2 2} x_{2 9} \\right) + \\left( 6 x_5 x_{1 5} + 3 x_9 x_{1 2} x_{2 2} + 6 x_1 x_6 x_8 x_{1 5} x_{2 2} \\right) \\left( 4 x_{1 6} x_{2 8} + 5 x_9 x_{1 8} x_{1 9} x_{2 9} + x_{1 0} \\right) \\left(  - \\left(  - 4 x_{2 4} - 3 x_5 x_{3 2} - 2 x_1 x_6 x_{1 9} x_{2 2} x_{2 7} \\right) \\left( 6 x_3 x_{2 1} x_{3 0} + 6 x_6 x_{1 2} x_{2 1} x_{2 5} + x_{2 9} \\right) - 5 x_8 x_{1 3} - 3 x_3 x_{1 6} - 3 x_{1 8} x_{2 0} x_{2 2} x_{2 9} \\right) - \\left(  - 3 x_7 x_8 - 5 x_{1 1} x_{3 2} - 4 x_5 x_9 x_{2 1} \\right) \\left( 2 x_6 + 3 x_2^{2} x_{1 5} + 2 x_5 x_{1 4} x_{2 5} x_{2 6} \\right) \\left(  - \\left(  - 4 x_{2 4} - 3 x_5 x_{3 2} - 2 x_1 x_6 x_{1 9} x_{2 2} x_{2 7} \\right) \\left( 6 x_3 x_{2 1} x_{3 0} + 6 x_6 x_{1 2} x_{2 1} x_{2 5} + x_{2 9} \\right) - 5 x_8 x_{1 3} - 3 x_3 x_{1 6} - 3 x_{1 8} x_{2 0} x_{2 2} x_{2 9} \\right) - \\left(  - \\left( 2 x_6 + 3 x_2^{2} x_{1 5} + 2 x_5 x_{1 4} x_{2 5} x_{2 6} \\right) \\left(  - \\left( 3 x_7 + 2 x_2 x_3 + 2 x_6 x_9 x_{1 8} x_{2 6} x_{2 8} \\right) \\left(  - \\left( x_{1 5} x_{3 0} + 3 x_{2 3}^{2} x_5 x_{1 4} + 6 x_{1 2} x_{1 5} x_{2 0} x_{2 1} \\right) \\left(  - 6 x_{1 3} x_{1 8} x_{3 1} - 5 x_9 x_{1 1} x_{1 4} x_{2 1} - 3 x_1 x_3 x_9 x_{1 1} x_{2 7} \\right) - 5 x_{1 1}^{2} x_{1 6} x_{1 9} - 6 x_3^{2} x_{2 1} x_{2 3} x_{2 6} - 4 x_{1 4} x_{2 0} x_{2 2} x_{2 3} \\right) - 2 x_5 x_{1 6} - 5 x_{1 0} x_{1 4} x_{2 2} - 4 x_{1 6} x_{1 9} x_{2 1} x_{2 7} x_{3 1} \\right) - \\left( 6 x_{1 9} + x_5 x_{2 0} + x_{1 1} \\right) \\left(  - 6 x_{1 3} x_{1 8} x_{3 1} - 5 x_9 x_{1 1} x_{1 4} x_{2 1} - 3 x_1 x_3 x_9 x_{1 1} x_{2 7} \\right) \\right) \\left( 6 x_5 x_{1 5} + 3 x_9 x_{1 2} x_{2 2} + 6 x_1 x_6 x_8 x_{1 5} x_{2 2} \\right) \\left(  - \\left(  - 4 x_{2 4} - 3 x_5 x_{3 2} - 2 x_1 x_6 x_{1 9} x_{2 2} x_{2 7} \\right) \\left( 6 x_3 x_{2 1} x_{3 0} + 6 x_6 x_{1 2} x_{2 1} x_{2 5} + x_{2 9} \\right) - 5 x_8 x_{1 3} - 3 x_3 x_{1 6} - 3 x_{1 8} x_{2 0} x_{2 2} x_{2 9} \\right) - 5 x_8 x_{1 9} x_{2 3} x_{2 7} \\right) + \\left( x_{1 1} x_{1 3} x_{2 5} x_{4 4} + 2 x_2 x_8 x_{1 0} x_{5 5} + 4 x_{1 9} x_{3 0} x_{3 4} x_{4 6} x_{5 1} x_{5 4} \\right) \\left( \\left(  - 4 x_{1 5} - 6 x_{1 6}^{2} x_7 x_{2 6} x_{2 7} - 4 x_{1 3} x_{1 5} x_{2 2} x_{2 9} x_{3 0} \\right) \\left(  - \\left(  - 4 x_{2 4} - 3 x_5 x_{3 2} - 2 x_1 x_6 x_{1 9} x_{2 2} x_{2 7} \\right) \\left( 6 x_3 x_{2 1} x_{3 0} + 6 x_6 x_{1 2} x_{2 1} x_{2 5} + x_{2 9} \\right) - 5 x_8 x_{1 3} - 3 x_3 x_{1 6} - 3 x_{1 8} x_{2 0} x_{2 2} x_{2 9} \\right) + \\left( 2 x_{2 4} + 6 x_{2 7} + 2 x_3 x_{3 1} \\right) \\left( 6 x_5 x_{1 5} + 3 x_9 x_{1 2} x_{2 2} + 6 x_1 x_6 x_8 x_{1 5} x_{2 2} \\right) \\left(  - \\left(  - 4 x_{2 4} - 3 x_5 x_{3 2} - 2 x_1 x_6 x_{1 9} x_{2 2} x_{2 7} \\right) \\left( 6 x_3 x_{2 1} x_{3 0} + 6 x_6 x_{1 2} x_{2 1} x_{2 5} + x_{2 9} \\right) - 5 x_8 x_{1 3} - 3 x_3 x_{1 6} - 3 x_{1 8} x_{2 0} x_{2 2} x_{2 9} \\right) - \\left( 4 x_{1 3} + 2 x_1 x_9 x_{1 1} x_{2 0} + 4 x_1 x_6 x_7 x_{1 8} x_{3 0} \\right) \\left(  - \\left(  - 4 x_{2 4} - 3 x_5 x_{3 2} - 2 x_1 x_6 x_{1 9} x_{2 2} x_{2 7} \\right) \\left( 6 x_3 x_{2 1} x_{3 0} + 6 x_6 x_{1 2} x_{2 1} x_{2 5} + x_{2 9} \\right) - 5 x_8 x_{1 3} - 3 x_3 x_{1 6} - 3 x_{1 8} x_{2 0} x_{2 2} x_{2 9} \\right) - \\left( 3 x_2 + 2 x_{2 9} + 5 x_3 x_{1 7} x_{2 9} \\right) \\left(  - \\left( 2 x_{1 8} x_{2 0} + 6 x_{1 5} x_{2 0} x_{2 3} + 5 x_6 x_9 x_{1 0} x_{1 9} x_{2 4} \\right) \\left(  - \\left(  - 4 x_{2 4} - 3 x_5 x_{3 2} - 2 x_1 x_6 x_{1 9} x_{2 2} x_{2 7} \\right) \\left( 6 x_3 x_{2 1} x_{3 0} + 6 x_6 x_{1 2} x_{2 1} x_{2 5} + x_{2 9} \\right) - 5 x_8 x_{1 3} - 3 x_3 x_{1 6} - 3 x_{1 8} x_{2 0} x_{2 2} x_{2 9} \\right) - \\left( 5 x_{3 0}^{2} x_5 x_{1 1} x_{1 2} + 5 x_{1 2}^{2} x_{1 0} x_{1 9} x_{3 2} + 4 x_2 x_{1 5} x_{1 6} x_{2 7} x_{3 1} \\right) \\left(  - 4 x_{2 4} - 3 x_5 x_{3 2} - 2 x_1 x_6 x_{1 9} x_{2 2} x_{2 7} \\right) - 6 x_{3 0}^{2} x_{2 5} x_{3 2} - 3 x_2 x_{1 9} x_{2 2} x_{2 9} - 2 x_4 x_7 x_{1 6} x_{1 8} \\right) - \\left( x_2 x_{1 9} + 3 x_{2 9} + 3 x_{1 9} x_{2 4} x_{2 5} \\right) \\left(  - x_{1 1} - 3 x_3 - \\left(  - 4 x_{2 4} - 3 x_5 x_{3 2} - 2 x_1 x_6 x_{1 9} x_{2 2} x_{2 7} \\right) \\left( 3 x_{1 6}^{2} x_9 x_{1 7} x_{2 9} + 5 x_{1 2} x_{1 7} x_{3 1} x_{3 2} + 3 x_{1 0} x_{1 7} x_{2 8} x_{2 9} x_{3 1} \\right) - \\left( 3 x_{1 0} x_{1 7} + 6 x_{2 0} x_{3 0} + 6 x_9^{2} x_7 x_{2 8} \\right) \\left(  - \\left(  - 4 x_{2 4} - 3 x_5 x_{3 2} - 2 x_1 x_6 x_{1 9} x_{2 2} x_{2 7} \\right) \\left( 6 x_3 x_{2 1} x_{3 0} + 6 x_6 x_{1 2} x_{2 1} x_{2 5} + x_{2 9} \\right) - 5 x_8 x_{1 3} - 3 x_3 x_{1 6} - 3 x_{1 8} x_{2 0} x_{2 2} x_{2 9} \\right) + \\left( 6 x_5 x_{1 5} + 3 x_9 x_{1 2} x_{2 2} + 6 x_1 x_6 x_8 x_{1 5} x_{2 2} \\right) \\left( 4 x_{1 6} x_{2 8} + 5 x_9 x_{1 8} x_{1 9} x_{2 9} + x_{1 0} \\right) \\left(  - \\left(  - 4 x_{2 4} - 3 x_5 x_{3 2} - 2 x_1 x_6 x_{1 9} x_{2 2} x_{2 7} \\right) \\left( 6 x_3 x_{2 1} x_{3 0} + 6 x_6 x_{1 2} x_{2 1} x_{2 5} + x_{2 9} \\right) - 5 x_8 x_{1 3} - 3 x_3 x_{1 6} - 3 x_{1 8} x_{2 0} x_{2 2} x_{2 9} \\right) - 5 x_8 x_{1 9} x_{2 3} x_{2 7} \\right) - 3 x_5 x_{1 2} - 4 x_7 x_{1 8} x_{2 8} + \\left( 6 x_5 x_{1 5} + 3 x_9 x_{1 2} x_{2 2} + 6 x_1 x_6 x_8 x_{1 5} x_{2 2} \\right) \\left( 4 x_3 x_{2 4} x_{2 5} + 3 x_2 x_8 x_{1 0} x_{1 6} x_{2 0} + x_{1 1} \\right) \\left(  - 6 x_{1 3} x_{1 8} x_{3 1} - 5 x_9 x_{1 1} x_{1 4} x_{2 1} - 3 x_1 x_3 x_9 x_{1 1} x_{2 7} \\right) \\left(  - \\left(  - 4 x_{2 4} - 3 x_5 x_{3 2} - 2 x_1 x_6 x_{1 9} x_{2 2} x_{2 7} \\right) \\left( 6 x_3 x_{2 1} x_{3 0} + 6 x_6 x_{1 2} x_{2 1} x_{2 5} + x_{2 9} \\right) - 5 x_8 x_{1 3} - 3 x_3 x_{1 6} - 3 x_{1 8} x_{2 0} x_{2 2} x_{2 9} \\right) - x_6 x_{1 5} x_{2 4} x_{3 2} \\right) - \\left( 6 x_5 x_{1 5} + 3 x_9 x_{1 2} x_{2 2} + 6 x_1 x_6 x_8 x_{1 5} x_{2 2} \\right) \\left(  - 6 x_{1 3} x_{1 8} x_{3 1} - 5 x_9 x_{1 1} x_{1 4} x_{2 1} - 3 x_1 x_3 x_9 x_{1 1} x_{2 7} \\right) \\left( 4 x_{6 2} + 2 x_{1 0}^{3} x_2 x_8 x_{1 6} x_{4 9} x_{6 1} + x_6 x_{1 1} x_{1 3} x_{2 1} x_{2 5} x_{4 4} x_{4 9} x_{5 5} \\right) \\left(  - \\left(  - 4 x_{2 4} - 3 x_5 x_{3 2} - 2 x_1 x_6 x_{1 9} x_{2 2} x_{2 7} \\right) \\left( 6 x_3 x_{2 1} x_{3 0} + 6 x_6 x_{1 2} x_{2 1} x_{2 5} + x_{2 9} \\right) - 5 x_8 x_{1 3} - 3 x_3 x_{1 6} - 3 x_{1 8} x_{2 0} x_{2 2} x_{2 9} \\right) & \\left( 1.0 - \\left( 6 x_5 x_{1 5} + 3 x_9 x_{1 2} x_{2 2} + 6 x_1 x_6 x_8 x_{1 5} x_{2 2} \\right) \\left(  - 6 x_{1 3} x_{1 8} x_{3 1} - 5 x_9 x_{1 1} x_{1 4} x_{2 1} - 3 x_1 x_3 x_9 x_{1 1} x_{2 7} \\right) \\left(  - \\left(  - 6 x_{1 6} - x_{1 1} x_{2 0} - x_{1 6} x_{2 2} x_{2 5} x_{2 8} \\right) \\left( 5 x_8 x_{1 3} + 3 x_3 x_{1 6} + 3 x_{1 8} x_{2 0} x_{2 2} x_{2 9} \\right) - \\left( 6 x_3 x_{2 1} x_{3 0} + 6 x_6 x_{1 2} x_{2 1} x_{2 5} + x_{2 9} \\right) \\left(  - 3 x_{1 1} - \\left(  - 6 x_{1 6} - x_{1 1} x_{2 0} - x_{1 6} x_{2 2} x_{2 5} x_{2 8} \\right) \\left( 4 x_{2 4} + 3 x_5 x_{3 2} + 2 x_1 x_6 x_{1 9} x_{2 2} x_{2 7} \\right) - 6 x_{1 7} x_{1 9} x_{2 7} - 5 x_9 x_{1 6} x_{2 5} x_{2 7} \\right) - 4 x_2 x_{2 6} - 3 x_7 x_{3 1} x_{3 2} - 5 x_1 x_{1 0} x_{1 7} x_{2 0} x_{3 1} \\right) \\right) \\left( 4 x_{6 2} + 2 x_{1 0}^{3} x_2 x_8 x_{1 6} x_{4 9} x_{6 1} + x_6 x_{1 1} x_{1 3} x_{2 1} x_{2 5} x_{4 4} x_{4 9} x_{5 5} \\right) + \\left( 2 x_{1 0}^{2} x_{4 9} + x_{1 0} x_{1 1} x_{1 3} x_{3 3} x_{4 4} + 4 x_{1 9} x_{3 0} x_{3 4} x_{4 7} x_{5 1} x_{5 4} \\right) \\left( \\left(  - 2 x_6 - 3 x_2^{2} x_{1 5} - 2 x_5 x_{1 4} x_{2 5} x_{2 6} \\right) \\left(  - 3 x_{1 1} - \\left(  - 6 x_{1 6} - x_{1 1} x_{2 0} - x_{1 6} x_{2 2} x_{2 5} x_{2 8} \\right) \\left( 4 x_{2 4} + 3 x_5 x_{3 2} + 2 x_1 x_6 x_{1 9} x_{2 2} x_{2 7} \\right) - 6 x_{1 7} x_{1 9} x_{2 7} - 5 x_9 x_{1 6} x_{2 5} x_{2 7} \\right) - x_{1 1} - 6 x_{1 9} + \\left( 3 x_7 + 2 x_2 x_3 + 2 x_6 x_9 x_{1 8} x_{2 6} x_{2 8} \\right) \\left(  - x_{1 5} x_{3 0} - 3 x_{2 3}^{2} x_5 x_{1 4} - 6 x_{1 2} x_{1 5} x_{2 0} x_{2 1} \\right) \\left( 2 x_6 + 3 x_2^{2} x_{1 5} + 2 x_5 x_{1 4} x_{2 5} x_{2 6} \\right) - \\left( 3 x_{1 0} x_{1 7} + 6 x_{2 0} x_{3 0} + 6 x_9^{2} x_7 x_{2 8} \\right) \\left(  - \\left(  - 6 x_{1 6} - x_{1 1} x_{2 0} - x_{1 6} x_{2 2} x_{2 5} x_{2 8} \\right) \\left( 5 x_8 x_{1 3} + 3 x_3 x_{1 6} + 3 x_{1 8} x_{2 0} x_{2 2} x_{2 9} \\right) - \\left( 6 x_3 x_{2 1} x_{3 0} + 6 x_6 x_{1 2} x_{2 1} x_{2 5} + x_{2 9} \\right) \\left(  - 3 x_{1 1} - \\left(  - 6 x_{1 6} - x_{1 1} x_{2 0} - x_{1 6} x_{2 2} x_{2 5} x_{2 8} \\right) \\left( 4 x_{2 4} + 3 x_5 x_{3 2} + 2 x_1 x_6 x_{1 9} x_{2 2} x_{2 7} \\right) - 6 x_{1 7} x_{1 9} x_{2 7} - 5 x_9 x_{1 6} x_{2 5} x_{2 7} \\right) - 4 x_2 x_{2 6} - 3 x_7 x_{3 1} x_{3 2} - 5 x_1 x_{1 0} x_{1 7} x_{2 0} x_{3 1} \\right) - \\left(  - 6 x_{1 6} - x_{1 1} x_{2 0} - x_{1 6} x_{2 2} x_{2 5} x_{2 8} \\right) \\left( 3 x_3 + 5 x_8 x_{1 9} x_{2 3} x_{2 7} + x_{1 1} \\right) - \\left( 3 x_{1 6}^{2} x_9 x_{1 7} x_{2 9} + 5 x_{1 2} x_{1 7} x_{3 1} x_{3 2} + 3 x_{1 0} x_{1 7} x_{2 8} x_{2 9} x_{3 1} \\right) \\left(  - 3 x_{1 1} - \\left(  - 6 x_{1 6} - x_{1 1} x_{2 0} - x_{1 6} x_{2 2} x_{2 5} x_{2 8} \\right) \\left( 4 x_{2 4} + 3 x_5 x_{3 2} + 2 x_1 x_6 x_{1 9} x_{2 2} x_{2 7} \\right) - 6 x_{1 7} x_{1 9} x_{2 7} - 5 x_9 x_{1 6} x_{2 5} x_{2 7} \\right) - x_5 x_{2 0} + \\left( 6 x_5 x_{1 5} + 3 x_9 x_{1 2} x_{2 2} + 6 x_1 x_6 x_8 x_{1 5} x_{2 2} \\right) \\left( 4 x_{1 6} x_{2 8} + 5 x_9 x_{1 8} x_{1 9} x_{2 9} + x_{1 0} \\right) \\left(  - \\left(  - 6 x_{1 6} - x_{1 1} x_{2 0} - x_{1 6} x_{2 2} x_{2 5} x_{2 8} \\right) \\left( 5 x_8 x_{1 3} + 3 x_3 x_{1 6} + 3 x_{1 8} x_{2 0} x_{2 2} x_{2 9} \\right) - \\left( 6 x_3 x_{2 1} x_{3 0} + 6 x_6 x_{1 2} x_{2 1} x_{2 5} + x_{2 9} \\right) \\left(  - 3 x_{1 1} - \\left(  - 6 x_{1 6} - x_{1 1} x_{2 0} - x_{1 6} x_{2 2} x_{2 5} x_{2 8} \\right) \\left( 4 x_{2 4} + 3 x_5 x_{3 2} + 2 x_1 x_6 x_{1 9} x_{2 2} x_{2 7} \\right) - 6 x_{1 7} x_{1 9} x_{2 7} - 5 x_9 x_{1 6} x_{2 5} x_{2 7} \\right) - 4 x_2 x_{2 6} - 3 x_7 x_{3 1} x_{3 2} - 5 x_1 x_{1 0} x_{1 7} x_{2 0} x_{3 1} \\right) - \\left(  - 3 x_7 x_8 - 5 x_{1 1} x_{3 2} - 4 x_5 x_9 x_{2 1} \\right) \\left( 2 x_6 + 3 x_2^{2} x_{1 5} + 2 x_5 x_{1 4} x_{2 5} x_{2 6} \\right) \\left(  - \\left(  - 6 x_{1 6} - x_{1 1} x_{2 0} - x_{1 6} x_{2 2} x_{2 5} x_{2 8} \\right) \\left( 5 x_8 x_{1 3} + 3 x_3 x_{1 6} + 3 x_{1 8} x_{2 0} x_{2 2} x_{2 9} \\right) - \\left( 6 x_3 x_{2 1} x_{3 0} + 6 x_6 x_{1 2} x_{2 1} x_{2 5} + x_{2 9} \\right) \\left(  - 3 x_{1 1} - \\left(  - 6 x_{1 6} - x_{1 1} x_{2 0} - x_{1 6} x_{2 2} x_{2 5} x_{2 8} \\right) \\left( 4 x_{2 4} + 3 x_5 x_{3 2} + 2 x_1 x_6 x_{1 9} x_{2 2} x_{2 7} \\right) - 6 x_{1 7} x_{1 9} x_{2 7} - 5 x_9 x_{1 6} x_{2 5} x_{2 7} \\right) - 4 x_2 x_{2 6} - 3 x_7 x_{3 1} x_{3 2} - 5 x_1 x_{1 0} x_{1 7} x_{2 0} x_{3 1} \\right) - \\left(  - 6 x_{1 6} - x_{1 1} x_{2 0} - x_{1 6} x_{2 2} x_{2 5} x_{2 8} \\right) \\left( 2 x_6 + 3 x_2^{2} x_{1 5} + 2 x_5 x_{1 4} x_{2 5} x_{2 6} \\right) \\left(  - 3 x_7 - 2 x_2 x_3 - 2 x_6 x_9 x_{1 8} x_{2 6} x_{2 8} \\right) - \\left(  - \\left( 2 x_6 + 3 x_2^{2} x_{1 5} + 2 x_5 x_{1 4} x_{2 5} x_{2 6} \\right) \\left(  - \\left( 3 x_7 + 2 x_2 x_3 + 2 x_6 x_9 x_{1 8} x_{2 6} x_{2 8} \\right) \\left(  - \\left( x_{1 5} x_{3 0} + 3 x_{2 3}^{2} x_5 x_{1 4} + 6 x_{1 2} x_{1 5} x_{2 0} x_{2 1} \\right) \\left(  - 6 x_{1 3} x_{1 8} x_{3 1} - 5 x_9 x_{1 1} x_{1 4} x_{2 1} - 3 x_1 x_3 x_9 x_{1 1} x_{2 7} \\right) - 5 x_{1 1}^{2} x_{1 6} x_{1 9} - 6 x_3^{2} x_{2 1} x_{2 3} x_{2 6} - 4 x_{1 4} x_{2 0} x_{2 2} x_{2 3} \\right) - 2 x_5 x_{1 6} - 5 x_{1 0} x_{1 4} x_{2 2} - 4 x_{1 6} x_{1 9} x_{2 1} x_{2 7} x_{3 1} \\right) - \\left( 6 x_{1 9} + x_5 x_{2 0} + x_{1 1} \\right) \\left(  - 6 x_{1 3} x_{1 8} x_{3 1} - 5 x_9 x_{1 1} x_{1 4} x_{2 1} - 3 x_1 x_3 x_9 x_{1 1} x_{2 7} \\right) \\right) \\left( 6 x_5 x_{1 5} + 3 x_9 x_{1 2} x_{2 2} + 6 x_1 x_6 x_8 x_{1 5} x_{2 2} \\right) \\left(  - \\left(  - 6 x_{1 6} - x_{1 1} x_{2 0} - x_{1 6} x_{2 2} x_{2 5} x_{2 8} \\right) \\left( 5 x_8 x_{1 3} + 3 x_3 x_{1 6} + 3 x_{1 8} x_{2 0} x_{2 2} x_{2 9} \\right) - \\left( 6 x_3 x_{2 1} x_{3 0} + 6 x_6 x_{1 2} x_{2 1} x_{2 5} + x_{2 9} \\right) \\left(  - 3 x_{1 1} - \\left(  - 6 x_{1 6} - x_{1 1} x_{2 0} - x_{1 6} x_{2 2} x_{2 5} x_{2 8} \\right) \\left( 4 x_{2 4} + 3 x_5 x_{3 2} + 2 x_1 x_6 x_{1 9} x_{2 2} x_{2 7} \\right) - 6 x_{1 7} x_{1 9} x_{2 7} - 5 x_9 x_{1 6} x_{2 5} x_{2 7} \\right) - 4 x_2 x_{2 6} - 3 x_7 x_{3 1} x_{3 2} - 5 x_1 x_{1 0} x_{1 7} x_{2 0} x_{3 1} \\right) \\right) + \\left( x_{1 1} x_{1 3} x_{2 5} x_{4 4} + 2 x_2 x_8 x_{1 0} x_{5 5} + 4 x_{1 9} x_{3 0} x_{3 4} x_{4 6} x_{5 1} x_{5 4} \\right) \\left( \\left(  - 4 x_{1 5} - 6 x_{1 6}^{2} x_7 x_{2 6} x_{2 7} - 4 x_{1 3} x_{1 5} x_{2 2} x_{2 9} x_{3 0} \\right) \\left(  - \\left(  - 6 x_{1 6} - x_{1 1} x_{2 0} - x_{1 6} x_{2 2} x_{2 5} x_{2 8} \\right) \\left( 5 x_8 x_{1 3} + 3 x_3 x_{1 6} + 3 x_{1 8} x_{2 0} x_{2 2} x_{2 9} \\right) - \\left( 6 x_3 x_{2 1} x_{3 0} + 6 x_6 x_{1 2} x_{2 1} x_{2 5} + x_{2 9} \\right) \\left(  - 3 x_{1 1} - \\left(  - 6 x_{1 6} - x_{1 1} x_{2 0} - x_{1 6} x_{2 2} x_{2 5} x_{2 8} \\right) \\left( 4 x_{2 4} + 3 x_5 x_{3 2} + 2 x_1 x_6 x_{1 9} x_{2 2} x_{2 7} \\right) - 6 x_{1 7} x_{1 9} x_{2 7} - 5 x_9 x_{1 6} x_{2 5} x_{2 7} \\right) - 4 x_2 x_{2 6} - 3 x_7 x_{3 1} x_{3 2} - 5 x_1 x_{1 0} x_{1 7} x_{2 0} x_{3 1} \\right) - x_{1 1} - \\left( 4 x_{1 3} + 2 x_1 x_9 x_{1 1} x_{2 0} + 4 x_1 x_6 x_7 x_{1 8} x_{3 0} \\right) \\left(  - \\left(  - 6 x_{1 6} - x_{1 1} x_{2 0} - x_{1 6} x_{2 2} x_{2 5} x_{2 8} \\right) \\left( 5 x_8 x_{1 3} + 3 x_3 x_{1 6} + 3 x_{1 8} x_{2 0} x_{2 2} x_{2 9} \\right) - \\left( 6 x_3 x_{2 1} x_{3 0} + 6 x_6 x_{1 2} x_{2 1} x_{2 5} + x_{2 9} \\right) \\left(  - 3 x_{1 1} - \\left(  - 6 x_{1 6} - x_{1 1} x_{2 0} - x_{1 6} x_{2 2} x_{2 5} x_{2 8} \\right) \\left( 4 x_{2 4} + 3 x_5 x_{3 2} + 2 x_1 x_6 x_{1 9} x_{2 2} x_{2 7} \\right) - 6 x_{1 7} x_{1 9} x_{2 7} - 5 x_9 x_{1 6} x_{2 5} x_{2 7} \\right) - 4 x_2 x_{2 6} - 3 x_7 x_{3 1} x_{3 2} - 5 x_1 x_{1 0} x_{1 7} x_{2 0} x_{3 1} \\right) - \\left( 3 x_2 + 2 x_{2 9} + 5 x_3 x_{1 7} x_{2 9} \\right) \\left(  - \\left(  - 6 x_{1 6} - x_{1 1} x_{2 0} - x_{1 6} x_{2 2} x_{2 5} x_{2 8} \\right) \\left( 6 x_{3 0}^{2} x_{2 5} x_{3 2} + 3 x_2 x_{1 9} x_{2 2} x_{2 9} + 2 x_4 x_7 x_{1 6} x_{1 8} \\right) - \\left( 5 x_{3 0}^{2} x_5 x_{1 1} x_{1 2} + 5 x_{1 2}^{2} x_{1 0} x_{1 9} x_{3 2} + 4 x_2 x_{1 5} x_{1 6} x_{2 7} x_{3 1} \\right) \\left(  - 3 x_{1 1} - \\left(  - 6 x_{1 6} - x_{1 1} x_{2 0} - x_{1 6} x_{2 2} x_{2 5} x_{2 8} \\right) \\left( 4 x_{2 4} + 3 x_5 x_{3 2} + 2 x_1 x_6 x_{1 9} x_{2 2} x_{2 7} \\right) - 6 x_{1 7} x_{1 9} x_{2 7} - 5 x_9 x_{1 6} x_{2 5} x_{2 7} \\right) - \\left( 2 x_{1 8} x_{2 0} + 6 x_{1 5} x_{2 0} x_{2 3} + 5 x_6 x_9 x_{1 0} x_{1 9} x_{2 4} \\right) \\left(  - \\left(  - 6 x_{1 6} - x_{1 1} x_{2 0} - x_{1 6} x_{2 2} x_{2 5} x_{2 8} \\right) \\left( 5 x_8 x_{1 3} + 3 x_3 x_{1 6} + 3 x_{1 8} x_{2 0} x_{2 2} x_{2 9} \\right) - \\left( 6 x_3 x_{2 1} x_{3 0} + 6 x_6 x_{1 2} x_{2 1} x_{2 5} + x_{2 9} \\right) \\left(  - 3 x_{1 1} - \\left(  - 6 x_{1 6} - x_{1 1} x_{2 0} - x_{1 6} x_{2 2} x_{2 5} x_{2 8} \\right) \\left( 4 x_{2 4} + 3 x_5 x_{3 2} + 2 x_1 x_6 x_{1 9} x_{2 2} x_{2 7} \\right) - 6 x_{1 7} x_{1 9} x_{2 7} - 5 x_9 x_{1 6} x_{2 5} x_{2 7} \\right) - 4 x_2 x_{2 6} - 3 x_7 x_{3 1} x_{3 2} - 5 x_1 x_{1 0} x_{1 7} x_{2 0} x_{3 1} \\right) - 2 x_2 x_{1 1} - 4 x_{2 8}^{2} x_{2 4} - 5 x_3^{2} x_{1 0} x_{1 6} x_{3 0} \\right) - \\left( x_2 x_{1 9} + 3 x_{2 9} + 3 x_{1 9} x_{2 4} x_{2 5} \\right) \\left(  - \\left(  - 6 x_{1 6} - x_{1 1} x_{2 0} - x_{1 6} x_{2 2} x_{2 5} x_{2 8} \\right) \\left( 3 x_3 + 5 x_8 x_{1 9} x_{2 3} x_{2 7} + x_{1 1} \\right) - \\left( 3 x_{1 6}^{2} x_9 x_{1 7} x_{2 9} + 5 x_{1 2} x_{1 7} x_{3 1} x_{3 2} + 3 x_{1 0} x_{1 7} x_{2 8} x_{2 9} x_{3 1} \\right) \\left(  - 3 x_{1 1} - \\left(  - 6 x_{1 6} - x_{1 1} x_{2 0} - x_{1 6} x_{2 2} x_{2 5} x_{2 8} \\right) \\left( 4 x_{2 4} + 3 x_5 x_{3 2} + 2 x_1 x_6 x_{1 9} x_{2 2} x_{2 7} \\right) - 6 x_{1 7} x_{1 9} x_{2 7} - 5 x_9 x_{1 6} x_{2 5} x_{2 7} \\right) - \\left( 3 x_{1 0} x_{1 7} + 6 x_{2 0} x_{3 0} + 6 x_9^{2} x_7 x_{2 8} \\right) \\left(  - \\left(  - 6 x_{1 6} - x_{1 1} x_{2 0} - x_{1 6} x_{2 2} x_{2 5} x_{2 8} \\right) \\left( 5 x_8 x_{1 3} + 3 x_3 x_{1 6} + 3 x_{1 8} x_{2 0} x_{2 2} x_{2 9} \\right) - \\left( 6 x_3 x_{2 1} x_{3 0} + 6 x_6 x_{1 2} x_{2 1} x_{2 5} + x_{2 9} \\right) \\left(  - 3 x_{1 1} - \\left(  - 6 x_{1 6} - x_{1 1} x_{2 0} - x_{1 6} x_{2 2} x_{2 5} x_{2 8} \\right) \\left( 4 x_{2 4} + 3 x_5 x_{3 2} + 2 x_1 x_6 x_{1 9} x_{2 2} x_{2 7} \\right) - 6 x_{1 7} x_{1 9} x_{2 7} - 5 x_9 x_{1 6} x_{2 5} x_{2 7} \\right) - 4 x_2 x_{2 6} - 3 x_7 x_{3 1} x_{3 2} - 5 x_1 x_{1 0} x_{1 7} x_{2 0} x_{3 1} \\right) + \\left( 6 x_5 x_{1 5} + 3 x_9 x_{1 2} x_{2 2} + 6 x_1 x_6 x_8 x_{1 5} x_{2 2} \\right) \\left( 4 x_{1 6} x_{2 8} + 5 x_9 x_{1 8} x_{1 9} x_{2 9} + x_{1 0} \\right) \\left(  - \\left(  - 6 x_{1 6} - x_{1 1} x_{2 0} - x_{1 6} x_{2 2} x_{2 5} x_{2 8} \\right) \\left( 5 x_8 x_{1 3} + 3 x_3 x_{1 6} + 3 x_{1 8} x_{2 0} x_{2 2} x_{2 9} \\right) - \\left( 6 x_3 x_{2 1} x_{3 0} + 6 x_6 x_{1 2} x_{2 1} x_{2 5} + x_{2 9} \\right) \\left(  - 3 x_{1 1} - \\left(  - 6 x_{1 6} - x_{1 1} x_{2 0} - x_{1 6} x_{2 2} x_{2 5} x_{2 8} \\right) \\left( 4 x_{2 4} + 3 x_5 x_{3 2} + 2 x_1 x_6 x_{1 9} x_{2 2} x_{2 7} \\right) - 6 x_{1 7} x_{1 9} x_{2 7} - 5 x_9 x_{1 6} x_{2 5} x_{2 7} \\right) - 4 x_2 x_{2 6} - 3 x_7 x_{3 1} x_{3 2} - 5 x_1 x_{1 0} x_{1 7} x_{2 0} x_{3 1} \\right) \\right) - \\left(  - 6 x_{1 6} - x_{1 1} x_{2 0} - x_{1 6} x_{2 2} x_{2 5} x_{2 8} \\right) \\left( 3 x_5 x_{1 2} + 4 x_7 x_{1 8} x_{2 8} + x_6 x_{1 5} x_{2 4} x_{3 2} \\right) + \\left( 2 x_{2 4} + 6 x_{2 7} + 2 x_3 x_{3 1} \\right) \\left( 6 x_5 x_{1 5} + 3 x_9 x_{1 2} x_{2 2} + 6 x_1 x_6 x_8 x_{1 5} x_{2 2} \\right) \\left(  - \\left(  - 6 x_{1 6} - x_{1 1} x_{2 0} - x_{1 6} x_{2 2} x_{2 5} x_{2 8} \\right) \\left( 5 x_8 x_{1 3} + 3 x_3 x_{1 6} + 3 x_{1 8} x_{2 0} x_{2 2} x_{2 9} \\right) - \\left( 6 x_3 x_{2 1} x_{3 0} + 6 x_6 x_{1 2} x_{2 1} x_{2 5} + x_{2 9} \\right) \\left(  - 3 x_{1 1} - \\left(  - 6 x_{1 6} - x_{1 1} x_{2 0} - x_{1 6} x_{2 2} x_{2 5} x_{2 8} \\right) \\left( 4 x_{2 4} + 3 x_5 x_{3 2} + 2 x_1 x_6 x_{1 9} x_{2 2} x_{2 7} \\right) - 6 x_{1 7} x_{1 9} x_{2 7} - 5 x_9 x_{1 6} x_{2 5} x_{2 7} \\right) - 4 x_2 x_{2 6} - 3 x_7 x_{3 1} x_{3 2} - 5 x_1 x_{1 0} x_{1 7} x_{2 0} x_{3 1} \\right) - 4 x_3 x_{2 4} x_{2 5} + \\left( 6 x_5 x_{1 5} + 3 x_9 x_{1 2} x_{2 2} + 6 x_1 x_6 x_8 x_{1 5} x_{2 2} \\right) \\left( 4 x_3 x_{2 4} x_{2 5} + 3 x_2 x_8 x_{1 0} x_{1 6} x_{2 0} + x_{1 1} \\right) \\left(  - 6 x_{1 3} x_{1 8} x_{3 1} - 5 x_9 x_{1 1} x_{1 4} x_{2 1} - 3 x_1 x_3 x_9 x_{1 1} x_{2 7} \\right) \\left(  - \\left(  - 6 x_{1 6} - x_{1 1} x_{2 0} - x_{1 6} x_{2 2} x_{2 5} x_{2 8} \\right) \\left( 5 x_8 x_{1 3} + 3 x_3 x_{1 6} + 3 x_{1 8} x_{2 0} x_{2 2} x_{2 9} \\right) - \\left( 6 x_3 x_{2 1} x_{3 0} + 6 x_6 x_{1 2} x_{2 1} x_{2 5} + x_{2 9} \\right) \\left(  - 3 x_{1 1} - \\left(  - 6 x_{1 6} - x_{1 1} x_{2 0} - x_{1 6} x_{2 2} x_{2 5} x_{2 8} \\right) \\left( 4 x_{2 4} + 3 x_5 x_{3 2} + 2 x_1 x_6 x_{1 9} x_{2 2} x_{2 7} \\right) - 6 x_{1 7} x_{1 9} x_{2 7} - 5 x_9 x_{1 6} x_{2 5} x_{2 7} \\right) - 4 x_2 x_{2 6} - 3 x_7 x_{3 1} x_{3 2} - 5 x_1 x_{1 0} x_{1 7} x_{2 0} x_{3 1} \\right) - 3 x_2 x_8 x_{1 0} x_{1 6} x_{2 0} \\right) \\\\\n",
       "\\end{array}\n",
       "\\right]\n",
       "\\end{equation}\n",
       " $$"
      ],
      "text/plain": [
       "1×10 Matrix{Num}:\n",
       " x[11]*x[13]*x[25]*x[44] + 2x[2]*x[8]*x[10]*x[55] + 4x[19]*x[30]*x[34]*x[46]*x[51]*x[54]  …  (1.0 - (6x[5]*x[15] + 3x[9]*x[12]*x[22] + 6x[1]*x[6]*x[8]*x[15]*x[22])*(-6x[13]*x[18]*x[31] - 5x[9]*x[11]*x[14]*x[21] - 3x[1]*x[3]*x[9]*x[11]*x[27])*(-(-6x[16] - x[11]*x[20] - x[16]*x[22]*x[25]*x[28])*(5x[8]*x[13] + 3x[3]*x[16] + 3x[18]*x[20]*x[22]*x[29]) - (6x[3]*x[21]*x[30] + 6x[6]*x[12]*x[21]*x[25] + x[29])*(-3x[11] - (-6x[16] - x[11]*x[20] - x[16]*x[22]*x[25]*x[28])*(4x[24] + 3x[5]*x[32] + 2x[1]*x[6]*x[19]*x[22]*x[27]) - 6x[17]*x[19]*x[27] - 5x[9]*x[16]*x[25]*x[27]) - 4x[2]*x[26] - 3x[7]*x[31]*x[32] - 5x[1]*x[10]*x[17]*x[20]*x[31]))*(4x[62] + 2(x[10]^3)*x[2]*x[8]*x[16]*x[49]*x[61] + x[6]*x[11]*x[13]*x[21]*x[25]*x[44]*x[49]*x[55]) + (2(x[10]^2)*x[49] + x[10]*x[11]*x[13]*x[33]*x[44] + 4x[19]*x[30]*x[34]*x[47]*x[51]*x[54])*((-2x[6] - 3(x[2]^2)*x[15] - 2x[5]*x[14]*x[25]*x[26])*(-3x[11] - (-6x[16] - x[11]*x[20] - x[16]*x[22]*x[25]*x[28])*(4x[24] + 3x[5]*x[32] + 2x[1]*x[6]*x[19]*x[22]*x[27]) - 6x[17]*x[19]*x[27] - 5x[9]*x[16]*x[25]*x[27]) + (3x[7] + 2x[2]*x[3] + 2x[6]*x[9]*x[18]*x[26]*x[28])*(-x[15]*x[30] - 3(x[23]^2)*x[5]*x[14] - 6x[12]*x[15]*x[20]*x[21])*(2x[6] + 3(x[2]^2)*x[15] + 2x[5]*x[14]*x[25]*x[26]) + (6x[5]*x[15] + 3x[9]*x[12]*x[22] + 6x[1]*x[6]*x[8]*x[15]*x[22])*(4x[16]*x[28] + 5x[9]*x[18]*x[19]*x[29] + x[10])*(-(-6x[16] - x[11]*x[20] - x[16]*x[22]*x[25]*x[28])*(5x[8]*x[13] + 3x[3]*x[16] + 3x[18]*x[20]*x[22]*x[29]) - (6x[3]*x[21]*x[30] + 6x[6]*x[12]*x[21]*x[25] + x[29])*(-3x[11] - (-6x[16] - x[11]*x[20] - x[16]*x[22]*x[25]*x[28])*(4x[24] + 3x[5]*x[32] + 2x[1]*x[6]*x[19]*x[22]*x[27]) - 6x[17]*x[19]*x[27] - 5x[9]*x[16]*x[25]*x[27]) - 4x[2]*x[26] - 3x[7]*x[31]*x[32] - 5x[1]*x[10]*x[17]*x[20]*x[31]) - x[11] - 6x[19] - (3x[10]*x[17] + 6x[20]*x[30] + 6(x[9]^2)*x[7]*x[28])*(-(-6x[16] - x[11]*x[20] - x[16]*x[22]*x[25]*x[28])*(5x[8]*x[13] + 3x[3]*x[16] + 3x[18]*x[20]*x[22]*x[29]) - (6x[3]*x[21]*x[30] + 6x[6]*x[12]*x[21]*x[25] + x[29])*(-3x[11] - (-6x[16] - x[11]*x[20] - x[16]*x[22]*x[25]*x[28])*(4x[24] + 3x[5]*x[32] + 2x[1]*x[6]*x[19]*x[22]*x[27]) - 6x[17]*x[19]*x[27] - 5x[9]*x[16]*x[25]*x[27]) - 4x[2]*x[26] - 3x[7]*x[31]*x[32] - 5x[1]*x[10]*x[17]*x[20]*x[31]) - (-6x[16] - x[11]*x[20] - x[16]*x[22]*x[25]*x[28])*(3x[3] + 5x[8]*x[19]*x[23]*x[27] + x[11]) - (3(x[16]^2)*x[9]*x[17]*x[29] + 5x[12]*x[17]*x[31]*x[32] + 3x[10]*x[17]*x[28]*x[29]*x[31])*(-3x[11] - (-6x[16] - x[11]*x[20] - x[16]*x[22]*x[25]*x[28])*(4x[24] + 3x[5]*x[32] + 2x[1]*x[6]*x[19]*x[22]*x[27]) - 6x[17]*x[19]*x[27] - 5x[9]*x[16]*x[25]*x[27]) - x[5]*x[20] - (-3x[7]*x[8] - 5x[11]*x[32] - 4x[5]*x[9]*x[21])*(2x[6] + 3(x[2]^2)*x[15] + 2x[5]*x[14]*x[25]*x[26])*(-(-6x[16] - x[11]*x[20] - x[16]*x[22]*x[25]*x[28])*(5x[8]*x[13] + 3x[3]*x[16] + 3x[18]*x[20]*x[22]*x[29]) - (6x[3]*x[21]*x[30] + 6x[6]*x[12]*x[21]*x[25] + x[29])*(-3x[11] - (-6x[16] - x[11]*x[20] - x[16]*x[22]*x[25]*x[28])*(4x[24] + 3x[5]*x[32] + 2x[1]*x[6]*x[19]*x[22]*x[27]) - 6x[17]*x[19]*x[27] - 5x[9]*x[16]*x[25]*x[27]) - 4x[2]*x[26] - 3x[7]*x[31]*x[32] - 5x[1]*x[10]*x[17]*x[20]*x[31]) - (-6x[16] - x[11]*x[20] - x[16]*x[22]*x[25]*x[28])*(2x[6] + 3(x[2]^2)*x[15] + 2x[5]*x[14]*x[25]*x[26])*(-3x[7] - 2x[2]*x[3] - 2x[6]*x[9]*x[18]*x[26]*x[28]) - (-(2x[6] + 3(x[2]^2)*x[15] + 2x[5]*x[14]*x[25]*x[26])*(-(3x[7] + 2x[2]*x[3] + 2x[6]*x[9]*x[18]*x[26]*x[28])*(-(x[15]*x[30] + 3(x[23]^2)*x[5]*x[14] + 6x[12]*x[15]*x[20]*x[21])*(-6x[13]*x[18]*x[31] - 5x[9]*x[11]*x[14]*x[21] - 3x[1]*x[3]*x[9]*x[11]*x[27]) - 5(x[11]^2)*x[16]*x[19] - 6(x[3]^2)*x[21]*x[23]*x[26] - 4x[14]*x[20]*x[22]*x[23]) - 2x[5]*x[16] - 5x[10]*x[14]*x[22] - 4x[16]*x[19]*x[21]*x[27]*x[31]) - (6x[19] + x[5]*x[20] + x[11])*(-6x[13]*x[18]*x[31] - 5x[9]*x[11]*x[14]*x[21] - 3x[1]*x[3]*x[9]*x[11]*x[27]))*(6x[5]*x[15] + 3x[9]*x[12]*x[22] + 6x[1]*x[6]*x[8]*x[15]*x[22])*(-(-6x[16] - x[11]*x[20] - x[16]*x[22]*x[25]*x[28])*(5x[8]*x[13] + 3x[3]*x[16] + 3x[18]*x[20]*x[22]*x[29]) - (6x[3]*x[21]*x[30] + 6x[6]*x[12]*x[21]*x[25] + x[29])*(-3x[11] - (-6x[16] - x[11]*x[20] - x[16]*x[22]*x[25]*x[28])*(4x[24] + 3x[5]*x[32] + 2x[1]*x[6]*x[19]*x[22]*x[27]) - 6x[17]*x[19]*x[27] - 5x[9]*x[16]*x[25]*x[27]) - 4x[2]*x[26] - 3x[7]*x[31]*x[32] - 5x[1]*x[10]*x[17]*x[20]*x[31])) + (x[11]*x[13]*x[25]*x[44] + 2x[2]*x[8]*x[10]*x[55] + 4x[19]*x[30]*x[34]*x[46]*x[51]*x[54])*((-4x[15] - 6(x[16]^2)*x[7]*x[26]*x[27] - 4x[13]*x[15]*x[22]*x[29]*x[30])*(-(-6x[16] - x[11]*x[20] - x[16]*x[22]*x[25]*x[28])*(5x[8]*x[13] + 3x[3]*x[16] + 3x[18]*x[20]*x[22]*x[29]) - (6x[3]*x[21]*x[30] + 6x[6]*x[12]*x[21]*x[25] + x[29])*(-3x[11] - (-6x[16] - x[11]*x[20] - x[16]*x[22]*x[25]*x[28])*(4x[24] + 3x[5]*x[32] + 2x[1]*x[6]*x[19]*x[22]*x[27]) - 6x[17]*x[19]*x[27] - 5x[9]*x[16]*x[25]*x[27]) - 4x[2]*x[26] - 3x[7]*x[31]*x[32] - 5x[1]*x[10]*x[17]*x[20]*x[31]) + (2x[24] + 6x[27] + 2x[3]*x[31])*(6x[5]*x[15] + 3x[9]*x[12]*x[22] + 6x[1]*x[6]*x[8]*x[15]*x[22])*(-(-6x[16] - x[11]*x[20] - x[16]*x[22]*x[25]*x[28])*(5x[8]*x[13] + 3x[3]*x[16] + 3x[18]*x[20]*x[22]*x[29]) - (6x[3]*x[21]*x[30] + 6x[6]*x[12]*x[21]*x[25] + x[29])*(-3x[11] - (-6x[16] - x[11]*x[20] - x[16]*x[22]*x[25]*x[28])*(4x[24] + 3x[5]*x[32] + 2x[1]*x[6]*x[19]*x[22]*x[27]) - 6x[17]*x[19]*x[27] - 5x[9]*x[16]*x[25]*x[27]) - 4x[2]*x[26] - 3x[7]*x[31]*x[32] - 5x[1]*x[10]*x[17]*x[20]*x[31]) + (6x[5]*x[15] + 3x[9]*x[12]*x[22] + 6x[1]*x[6]*x[8]*x[15]*x[22])*(4x[3]*x[24]*x[25] + 3x[2]*x[8]*x[10]*x[16]*x[20] + x[11])*(-6x[13]*x[18]*x[31] - 5x[9]*x[11]*x[14]*x[21] - 3x[1]*x[3]*x[9]*x[11]*x[27])*(-(-6x[16] - x[11]*x[20] - x[16]*x[22]*x[25]*x[28])*(5x[8]*x[13] + 3x[3]*x[16] + 3x[18]*x[20]*x[22]*x[29]) - (6x[3]*x[21]*x[30] + 6x[6]*x[12]*x[21]*x[25] + x[29])*(-3x[11] - (-6x[16] - x[11]*x[20] - x[16]*x[22]*x[25]*x[28])*(4x[24] + 3x[5]*x[32] + 2x[1]*x[6]*x[19]*x[22]*x[27]) - 6x[17]*x[19]*x[27] - 5x[9]*x[16]*x[25]*x[27]) - 4x[2]*x[26] - 3x[7]*x[31]*x[32] - 5x[1]*x[10]*x[17]*x[20]*x[31]) - x[11] - (4x[13] + 2x[1]*x[9]*x[11]*x[20] + 4x[1]*x[6]*x[7]*x[18]*x[30])*(-(-6x[16] - x[11]*x[20] - x[16]*x[22]*x[25]*x[28])*(5x[8]*x[13] + 3x[3]*x[16] + 3x[18]*x[20]*x[22]*x[29]) - (6x[3]*x[21]*x[30] + 6x[6]*x[12]*x[21]*x[25] + x[29])*(-3x[11] - (-6x[16] - x[11]*x[20] - x[16]*x[22]*x[25]*x[28])*(4x[24] + 3x[5]*x[32] + 2x[1]*x[6]*x[19]*x[22]*x[27]) - 6x[17]*x[19]*x[27] - 5x[9]*x[16]*x[25]*x[27]) - 4x[2]*x[26] - 3x[7]*x[31]*x[32] - 5x[1]*x[10]*x[17]*x[20]*x[31]) - (3x[2] + 2x[29] + 5x[3]*x[17]*x[29])*(-(-6x[16] - x[11]*x[20] - x[16]*x[22]*x[25]*x[28])*(6(x[30]^2)*x[25]*x[32] + 3x[2]*x[19]*x[22]*x[29] + 2x[4]*x[7]*x[16]*x[18]) - (5(x[30]^2)*x[5]*x[11]*x[12] + 5(x[12]^2)*x[10]*x[19]*x[32] + 4x[2]*x[15]*x[16]*x[27]*x[31])*(-3x[11] - (-6x[16] - x[11]*x[20] - x[16]*x[22]*x[25]*x[28])*(4x[24] + 3x[5]*x[32] + 2x[1]*x[6]*x[19]*x[22]*x[27]) - 6x[17]*x[19]*x[27] - 5x[9]*x[16]*x[25]*x[27]) - (2x[18]*x[20] + 6x[15]*x[20]*x[23] + 5x[6]*x[9]*x[10]*x[19]*x[24])*(-(-6x[16] - x[11]*x[20] - x[16]*x[22]*x[25]*x[28])*(5x[8]*x[13] + 3x[3]*x[16] + 3x[18]*x[20]*x[22]*x[29]) - (6x[3]*x[21]*x[30] + 6x[6]*x[12]*x[21]*x[25] + x[29])*(-3x[11] - (-6x[16] - x[11]*x[20] - x[16]*x[22]*x[25]*x[28])*(4x[24] + 3x[5]*x[32] + 2x[1]*x[6]*x[19]*x[22]*x[27]) - 6x[17]*x[19]*x[27] - 5x[9]*x[16]*x[25]*x[27]) - 4x[2]*x[26] - 3x[7]*x[31]*x[32] - 5x[1]*x[10]*x[17]*x[20]*x[31]) - 2x[2]*x[11] - 4(x[28]^2)*x[24] - 5(x[3]^2)*x[10]*x[16]*x[30]) - (x[2]*x[19] + 3x[29] + 3x[19]*x[24]*x[25])*((6x[5]*x[15] + 3x[9]*x[12]*x[22] + 6x[1]*x[6]*x[8]*x[15]*x[22])*(4x[16]*x[28] + 5x[9]*x[18]*x[19]*x[29] + x[10])*(-(-6x[16] - x[11]*x[20] - x[16]*x[22]*x[25]*x[28])*(5x[8]*x[13] + 3x[3]*x[16] + 3x[18]*x[20]*x[22]*x[29]) - (6x[3]*x[21]*x[30] + 6x[6]*x[12]*x[21]*x[25] + x[29])*(-3x[11] - (-6x[16] - x[11]*x[20] - x[16]*x[22]*x[25]*x[28])*(4x[24] + 3x[5]*x[32] + 2x[1]*x[6]*x[19]*x[22]*x[27]) - 6x[17]*x[19]*x[27] - 5x[9]*x[16]*x[25]*x[27]) - 4x[2]*x[26] - 3x[7]*x[31]*x[32] - 5x[1]*x[10]*x[17]*x[20]*x[31]) - (-6x[16] - x[11]*x[20] - x[16]*x[22]*x[25]*x[28])*(3x[3] + 5x[8]*x[19]*x[23]*x[27] + x[11]) - (3(x[16]^2)*x[9]*x[17]*x[29] + 5x[12]*x[17]*x[31]*x[32] + 3x[10]*x[17]*x[28]*x[29]*x[31])*(-3x[11] - (-6x[16] - x[11]*x[20] - x[16]*x[22]*x[25]*x[28])*(4x[24] + 3x[5]*x[32] + 2x[1]*x[6]*x[19]*x[22]*x[27]) - 6x[17]*x[19]*x[27] - 5x[9]*x[16]*x[25]*x[27]) - (3x[10]*x[17] + 6x[20]*x[30] + 6(x[9]^2)*x[7]*x[28])*(-(-6x[16] - x[11]*x[20] - x[16]*x[22]*x[25]*x[28])*(5x[8]*x[13] + 3x[3]*x[16] + 3x[18]*x[20]*x[22]*x[29]) - (6x[3]*x[21]*x[30] + 6x[6]*x[12]*x[21]*x[25] + x[29])*(-3x[11] - (-6x[16] - x[11]*x[20] - x[16]*x[22]*x[25]*x[28])*(4x[24] + 3x[5]*x[32] + 2x[1]*x[6]*x[19]*x[22]*x[27]) - 6x[17]*x[19]*x[27] - 5x[9]*x[16]*x[25]*x[27]) - 4x[2]*x[26] - 3x[7]*x[31]*x[32] - 5x[1]*x[10]*x[17]*x[20]*x[31])) - (-6x[16] - x[11]*x[20] - x[16]*x[22]*x[25]*x[28])*(3x[5]*x[12] + 4x[7]*x[18]*x[28] + x[6]*x[15]*x[24]*x[32]) - 4x[3]*x[24]*x[25] - 3x[2]*x[8]*x[10]*x[16]*x[20])"
      ]
     },
     "execution_count": 130,
     "metadata": {},
     "output_type": "execute_result"
    }
   ],
   "source": [
    "V=Un*D\n",
    "V"
   ]
  },
  {
   "cell_type": "code",
   "execution_count": 132,
   "id": "e8d90bac",
   "metadata": {},
   "outputs": [
    {
     "data": {
      "text/latex": [
       "$$ \\begin{equation}\n",
       "\\left(  - 6 x_{1 3} x_{1 8} x_{3 1} - 5 x_9 x_{1 1} x_{1 4} x_{2 1} - 3 x_1 x_3 x_9 x_{1 1} x_{2 7} \\right) \\left( 4 x_{6 2} + 2 x_{1 0}^{3} x_2 x_8 x_{1 6} x_{4 9} x_{6 1} + x_6 x_{1 1} x_{1 3} x_{2 1} x_{2 5} x_{4 4} x_{4 9} x_{5 5} \\right) + \\left( 2 x_{1 0}^{2} x_{4 9} + x_{1 0} x_{1 1} x_{1 3} x_{3 3} x_{4 4} + 4 x_{1 9} x_{3 0} x_{3 4} x_{4 7} x_{5 1} x_{5 4} \\right) \\left(  - x_{1 0} - \\left( 2 x_6 + 3 x_2^{2} x_{1 5} + 2 x_5 x_{1 4} x_{2 5} x_{2 6} \\right) \\left(  - \\left( 3 x_7 + 2 x_2 x_3 + 2 x_6 x_9 x_{1 8} x_{2 6} x_{2 8} \\right) \\left(  - \\left( x_{1 5} x_{3 0} + 3 x_{2 3}^{2} x_5 x_{1 4} + 6 x_{1 2} x_{1 5} x_{2 0} x_{2 1} \\right) \\left(  - 6 x_{1 3} x_{1 8} x_{3 1} - 5 x_9 x_{1 1} x_{1 4} x_{2 1} - 3 x_1 x_3 x_9 x_{1 1} x_{2 7} \\right) - 5 x_{1 1}^{2} x_{1 6} x_{1 9} - 6 x_3^{2} x_{2 1} x_{2 3} x_{2 6} - 4 x_{1 4} x_{2 0} x_{2 2} x_{2 3} \\right) - 2 x_5 x_{1 6} - 5 x_{1 0} x_{1 4} x_{2 2} - 4 x_{1 6} x_{1 9} x_{2 1} x_{2 7} x_{3 1} \\right) - \\left( 6 x_{1 9} + x_5 x_{2 0} + x_{1 1} \\right) \\left(  - 6 x_{1 3} x_{1 8} x_{3 1} - 5 x_9 x_{1 1} x_{1 4} x_{2 1} - 3 x_1 x_3 x_9 x_{1 1} x_{2 7} \\right) - 4 x_{1 6} x_{2 8} - 5 x_9 x_{1 8} x_{1 9} x_{2 9} \\right) + \\left( x_{1 1} x_{1 3} x_{2 5} x_{4 4} + 2 x_2 x_8 x_{1 0} x_{5 5} + 4 x_{1 9} x_{3 0} x_{3 4} x_{4 6} x_{5 1} x_{5 4} \\right) \\left(  - 2 x_{2 4} - 6 x_{2 7} - \\left( x_2 x_{1 9} + 3 x_{2 9} + 3 x_{1 9} x_{2 4} x_{2 5} \\right) \\left(  - x_{1 0} - 4 x_{1 6} x_{2 8} - 5 x_9 x_{1 8} x_{1 9} x_{2 9} \\right) - \\left( 4 x_3 x_{2 4} x_{2 5} + 3 x_2 x_8 x_{1 0} x_{1 6} x_{2 0} + x_{1 1} \\right) \\left(  - 6 x_{1 3} x_{1 8} x_{3 1} - 5 x_9 x_{1 1} x_{1 4} x_{2 1} - 3 x_1 x_3 x_9 x_{1 1} x_{2 7} \\right) - 2 x_3 x_{3 1} \\right)\n",
       "\\end{equation}\n",
       " $$"
      ],
      "text/plain": [
       "(-6x[13]*x[18]*x[31] - 5x[9]*x[11]*x[14]*x[21] - 3x[1]*x[3]*x[9]*x[11]*x[27])*(4x[62] + 2(x[10]^3)*x[2]*x[8]*x[16]*x[49]*x[61] + x[6]*x[11]*x[13]*x[21]*x[25]*x[44]*x[49]*x[55]) + (2(x[10]^2)*x[49] + x[10]*x[11]*x[13]*x[33]*x[44] + 4x[19]*x[30]*x[34]*x[47]*x[51]*x[54])*(-x[10] - (2x[6] + 3(x[2]^2)*x[15] + 2x[5]*x[14]*x[25]*x[26])*(-(3x[7] + 2x[2]*x[3] + 2x[6]*x[9]*x[18]*x[26]*x[28])*(-(x[15]*x[30] + 3(x[23]^2)*x[5]*x[14] + 6x[12]*x[15]*x[20]*x[21])*(-6x[13]*x[18]*x[31] - 5x[9]*x[11]*x[14]*x[21] - 3x[1]*x[3]*x[9]*x[11]*x[27]) - 5(x[11]^2)*x[16]*x[19] - 6(x[3]^2)*x[21]*x[23]*x[26] - 4x[14]*x[20]*x[22]*x[23]) - 2x[5]*x[16] - 5x[10]*x[14]*x[22] - 4x[16]*x[19]*x[21]*x[27]*x[31]) - (6x[19] + x[5]*x[20] + x[11])*(-6x[13]*x[18]*x[31] - 5x[9]*x[11]*x[14]*x[21] - 3x[1]*x[3]*x[9]*x[11]*x[27]) - 4x[16]*x[28] - 5x[9]*x[18]*x[19]*x[29]) + (x[11]*x[13]*x[25]*x[44] + 2x[2]*x[8]*x[10]*x[55] + 4x[19]*x[30]*x[34]*x[46]*x[51]*x[54])*(-2x[24] - 6x[27] - (x[2]*x[19] + 3x[29] + 3x[19]*x[24]*x[25])*(-x[10] - 4x[16]*x[28] - 5x[9]*x[18]*x[19]*x[29]) - (4x[3]*x[24]*x[25] + 3x[2]*x[8]*x[10]*x[16]*x[20] + x[11])*(-6x[13]*x[18]*x[31] - 5x[9]*x[11]*x[14]*x[21] - 3x[1]*x[3]*x[9]*x[11]*x[27]) - 2x[3]*x[31])"
      ]
     },
     "execution_count": 132,
     "metadata": {},
     "output_type": "execute_result"
    }
   ],
   "source": [
    "V[3]"
   ]
  },
  {
   "cell_type": "code",
   "execution_count": null,
   "id": "b4697806",
   "metadata": {},
   "outputs": [],
   "source": []
  }
 ],
 "metadata": {
  "kernelspec": {
   "display_name": "Julia 1.6.7",
   "language": "julia",
   "name": "julia-1.6"
  },
  "language_info": {
   "file_extension": ".jl",
   "mimetype": "application/julia",
   "name": "julia",
   "version": "1.6.7"
  }
 },
 "nbformat": 4,
 "nbformat_minor": 5
}
