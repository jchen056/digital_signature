{
 "cells": [
  {
   "cell_type": "code",
   "execution_count": 1,
   "id": "964c1bd3",
   "metadata": {},
   "outputs": [],
   "source": [
    "using Symbolics\n",
    "using LinearAlgebra\n",
    "using SHA"
   ]
  },
  {
   "cell_type": "markdown",
   "id": "c2afb184",
   "metadata": {},
   "source": [
    "# generate sparse polynomials"
   ]
  },
  {
   "cell_type": "code",
   "execution_count": 2,
   "id": "46d3f9da",
   "metadata": {},
   "outputs": [
    {
     "data": {
      "text/plain": [
       "1-element Vector{Symbolics.Arr{Num, 1}}:\n",
       " x[1:36]"
      ]
     },
     "execution_count": 2,
     "metadata": {},
     "output_type": "execute_result"
    }
   ],
   "source": [
    "@variables x[1:36]"
   ]
  },
  {
   "cell_type": "code",
   "execution_count": 3,
   "id": "1a0f081e",
   "metadata": {},
   "outputs": [
    {
     "data": {
      "text/plain": [
       "modify_coeffcients (generic function with 1 method)"
      ]
     },
     "execution_count": 3,
     "metadata": {},
     "output_type": "execute_result"
    }
   ],
   "source": [
    "function modify_coeffcients(A,q)\n",
    "    \n",
    "    coeffs_map=Symbolics.value(A).dict#turn the polynomial into matrix\n",
    "    B=0#create our new polynomial\n",
    "    for (key, value) in coeffs_map#iterate through the dict(monomial, coeffcients)\n",
    "        if value>q\n",
    "            new_coef=value%q\n",
    "            B+=new_coef*key\n",
    "        else\n",
    "            B+=key*value\n",
    "        end  \n",
    "    end\n",
    "    B\n",
    "end"
   ]
  },
  {
   "cell_type": "code",
   "execution_count": 4,
   "id": "edd6f2b9",
   "metadata": {},
   "outputs": [
    {
     "data": {
      "text/latex": [
       "$$ \\begin{equation}\n",
       "6 x_2 + 5 x_4^{2} x_2 + 3 x_1^{2} x_3 + 4 x_2 x_3 x_4 + x_3\n",
       "\\end{equation}\n",
       " $$"
      ],
      "text/plain": [
       "6x[2] + 5(x[4]^2)*x[2] + 3(x[1]^2)*x[3] + 4x[2]*x[3]*x[4] + x[3]"
      ]
     },
     "execution_count": 4,
     "metadata": {},
     "output_type": "execute_result"
    }
   ],
   "source": [
    "#t monomials\n",
    "#bound the degree of mononials by b, 1-b inclusive\n",
    "#coefficients go from 1 to q-1(inclusive)\n",
    "function sparse_polynomial(n,t,b,q)\n",
    "    @variables x[1:n]\n",
    "    \n",
    "    sparse_poly=0\n",
    "    \n",
    "    for i in 1:t #we want t monomials\n",
    "        deg=rand(1:b)\n",
    "        \n",
    "        monomial_d=1\n",
    "        for j in 1:deg\n",
    "            monomial_d*=x[rand(1:n)]\n",
    "        end\n",
    "        sparse_poly+=rand(1:q)*monomial_d\n",
    "        \n",
    "    end\n",
    "#     println(sparse_poly)\n",
    "    A=modify_coeffcients(sparse_poly,q)\n",
    "    return A\n",
    "end\n",
    "\n",
    "A=sparse_polynomial(4,5,3,6)\n",
    "A"
   ]
  },
  {
   "cell_type": "markdown",
   "id": "85298bc3",
   "metadata": {},
   "source": [
    "# Generate kl matrix"
   ]
  },
  {
   "cell_type": "code",
   "execution_count": 5,
   "id": "77117e18",
   "metadata": {},
   "outputs": [
    {
     "data": {
      "text/plain": [
       "num_identity (generic function with 1 method)"
      ]
     },
     "execution_count": 5,
     "metadata": {},
     "output_type": "execute_result"
    }
   ],
   "source": [
    "function num_identity(k)\n",
    "    a=zeros(Num,k)\n",
    "    a[1]=1\n",
    "    for i in 2:k\n",
    "        b=zeros(Num,k)\n",
    "        b[i]=1\n",
    "        a=[a b] \n",
    "    end\n",
    "    return a\n",
    "end\n",
    "# I_mat=num_identity(4)\n",
    "# I_mat[1,1]=x[2]*x[3]+x[1]\n",
    "# I_mat"
   ]
  },
  {
   "cell_type": "code",
   "execution_count": 6,
   "id": "015bc7f3",
   "metadata": {},
   "outputs": [
    {
     "data": {
      "text/plain": [
       "generate_U (generic function with 1 method)"
      ]
     },
     "execution_count": 6,
     "metadata": {},
     "output_type": "execute_result"
    }
   ],
   "source": [
    "function generate_U(k,n,t,B,q)\n",
    "    I_matrix=num_identity(k)#generate a k by k identity matrix\n",
    "    for i in 1:Int((k*k-k)/2)\n",
    "        b=rand(2:k)\n",
    "        a=rand(1:(b-1))\n",
    "        I_matrix[a,b]=sparse_polynomial(n,t,B,q)\n",
    "    end\n",
    "\n",
    "    return I_matrix\n",
    "end \n",
    "# U=generate_U(4,32,4,3,6)\n",
    "# U"
   ]
  },
  {
   "cell_type": "code",
   "execution_count": 7,
   "id": "d0fb016f",
   "metadata": {},
   "outputs": [],
   "source": [
    "# simplify.(expand.(inv(U)))\n",
    "# inv(U)"
   ]
  },
  {
   "cell_type": "code",
   "execution_count": 8,
   "id": "e09eb890",
   "metadata": {},
   "outputs": [
    {
     "data": {
      "text/plain": [
       "generate_L (generic function with 1 method)"
      ]
     },
     "execution_count": 8,
     "metadata": {},
     "output_type": "execute_result"
    }
   ],
   "source": [
    "function generate_L(k,n,t,B,q)\n",
    "    I_matrix=num_identity(k)#generate a k by k identity matrix\n",
    "    for i in 1:Int((k*k-k)/2)\n",
    "        a=rand(2:k)\n",
    "        b=rand(1:a-1)\n",
    "        I_matrix[a,b]=sparse_polynomial(n,t,B,q)\n",
    "    end\n",
    "    return I_matrix\n",
    "end"
   ]
  },
  {
   "cell_type": "code",
   "execution_count": 9,
   "id": "d05e5b9c",
   "metadata": {},
   "outputs": [
    {
     "data": {
      "text/plain": [
       "cols_to_keep (generic function with 1 method)"
      ]
     },
     "execution_count": 9,
     "metadata": {},
     "output_type": "execute_result"
    }
   ],
   "source": [
    "function cols_to_keep(k,l)\n",
    "    col_opts=[i for i in 1:k]\n",
    "    for i in 1:(k-l)\n",
    "        random_number=size(col_opts,1)\n",
    "        splice!(col_opts, rand(1:random_number))\n",
    "    end\n",
    "    return col_opts\n",
    "end\n",
    "# cols_to_keep(4,3)"
   ]
  },
  {
   "cell_type": "code",
   "execution_count": 10,
   "id": "4775740b",
   "metadata": {},
   "outputs": [
    {
     "data": {
      "text/plain": [
       "random_del_cols (generic function with 1 method)"
      ]
     },
     "execution_count": 10,
     "metadata": {},
     "output_type": "execute_result"
    }
   ],
   "source": [
    "function random_del_cols(k,l,matrix)\n",
    "#     col_opts=[i for i in 1:l]\n",
    "    col_opts=cols_to_keep(k,l)\n",
    "    matrix_kl=zeros(Num, k,l)\n",
    "    \n",
    "    j=1\n",
    "    for i in col_opts\n",
    "        matrix_kl[:,j]=matrix[:,i]\n",
    "        j+=1\n",
    "    end\n",
    "    return col_opts,matrix_kl\n",
    "end"
   ]
  },
  {
   "cell_type": "code",
   "execution_count": 11,
   "id": "3200ada8",
   "metadata": {},
   "outputs": [
    {
     "data": {
      "text/plain": [
       "find_kl_inverse (generic function with 1 method)"
      ]
     },
     "execution_count": 11,
     "metadata": {},
     "output_type": "execute_result"
    }
   ],
   "source": [
    "function find_kl_inverse(to_keep,S_inv)\n",
    "    k=size(S_inv,1)#find the number of rows\n",
    "    ml_inv=zeros(Num, length(to_keep),k)\n",
    "    \n",
    "    j=1\n",
    "    for i in to_keep\n",
    "        ml_inv[j,:]=S_inv[i,:]\n",
    "        j+=1\n",
    "    end\n",
    "    return ml_inv\n",
    "end"
   ]
  },
  {
   "cell_type": "code",
   "execution_count": 12,
   "id": "f5e2f754",
   "metadata": {},
   "outputs": [
    {
     "data": {
      "text/plain": [
       "modify_matrix_coef (generic function with 1 method)"
      ]
     },
     "execution_count": 12,
     "metadata": {},
     "output_type": "execute_result"
    }
   ],
   "source": [
    "function modify_neg_coeff(A,q)\n",
    "    \n",
    "    coeffs_map=Symbolics.value(A).dict#turn the polynomial into matrix\n",
    "    B=0#create our new polynomial\n",
    "    for (key, value) in coeffs_map#iterate through the dict(monomial, coeffcients)\n",
    "        if value>q || value<-q \n",
    "            new_coef=mod(value,q)\n",
    "            B+=new_coef*key\n",
    "        else\n",
    "            B+=key*value\n",
    "        end  \n",
    "    end\n",
    "    B\n",
    "end\n",
    "\n",
    "function modify_matrix_coef(matrix,q)\n",
    "    res=simplify.(expand.(matrix))#expand and then simplify\n",
    "    \n",
    "    for i in 1:size(res,1)\n",
    "        for j in 1:size(res,2)\n",
    "            a=res[i,j]\n",
    "\n",
    "            if isone(a)==false && iszero(a)==false            \n",
    "                res[i,j]=modify_neg_coeff(a,q)\n",
    "            end\n",
    "        end\n",
    "    end\n",
    "    return res\n",
    "end"
   ]
  },
  {
   "cell_type": "code",
   "execution_count": 13,
   "id": "87aee306",
   "metadata": {},
   "outputs": [
    {
     "data": {
      "text/plain": [
       "random_permutation (generic function with 1 method)"
      ]
     },
     "execution_count": 13,
     "metadata": {},
     "output_type": "execute_result"
    }
   ],
   "source": [
    "function random_permutation(k)\n",
    "    cols=[i for i in 1:k]\n",
    "    ncols=[]\n",
    "    for i in 1:k\n",
    "        random_number=size(cols,1)\n",
    "        a=rand(1:random_number)\n",
    "        append!(ncols,cols[a])\n",
    "        splice!(cols, a)\n",
    "    end\n",
    "    A=zeros(Num,k,k)\n",
    "    \n",
    "    for i in 1:k\n",
    "        A[i,ncols[i]]=1\n",
    "    end\n",
    "    return A\n",
    "end\n",
    "    \n",
    "# P=random_permutation(4)\n",
    "# inv(P)*P\n"
   ]
  },
  {
   "cell_type": "code",
   "execution_count": 14,
   "id": "43be517e",
   "metadata": {},
   "outputs": [
    {
     "data": {
      "text/plain": [
       "matrix_kl (generic function with 1 method)"
      ]
     },
     "execution_count": 14,
     "metadata": {},
     "output_type": "execute_result"
    }
   ],
   "source": [
    "function matrix_kl(k,l,s,n,t,B,q)\n",
    "    Ls=[]\n",
    "    Us=[]\n",
    "    for i in 1:s\n",
    "        U=generate_U(k,n,t,B,q)\n",
    "        L=generate_L(k,n,t,B,q)\n",
    "        push!(Us,U)\n",
    "        push!(Ls,L)\n",
    "    end \n",
    "    U_new=Us[rand(1:s)]\n",
    "    L_new=Ls[rand(1:s)]\n",
    "    \n",
    "    P1=random_permutation(k)\n",
    "    P2=random_permutation(k)\n",
    "    kk_matrix=U_new*P1*L_new*P2\n",
    "    kk_matrix=simplify.(expand.(kk_matrix))\n",
    "#     kk_matrix=modify_matrix_coef(kk_matrix,q)#modify the coefficients for kk_matrix\n",
    "    kk_inv=inv(P2)*inv(L_new)*inv(P1)*inv(U_new)#able to compute, not able to verify the result\n",
    "    \n",
    "    col_keep,kl_matrix=random_del_cols(k,l,kk_matrix)\n",
    "    kl_inverse=find_kl_inverse(col_keep,kk_inv)\n",
    "  \n",
    "    return kk_matrix,kk_inv,kl_matrix, kl_inverse\n",
    "end "
   ]
  },
  {
   "cell_type": "code",
   "execution_count": 25,
   "id": "ee233f6a",
   "metadata": {},
   "outputs": [
    {
     "name": "stdout",
     "output_type": "stream",
     "text": [
      "(10, 5)\n",
      "(5, 10)"
     ]
    }
   ],
   "source": [
    "A,B,C,D=matrix_kl(10,5,5,32,3,5,6)\n",
    "println(size(C))\n",
    "print(size(D))"
   ]
  },
  {
   "cell_type": "code",
   "execution_count": 26,
   "id": "025902d3",
   "metadata": {},
   "outputs": [
    {
     "name": "stdout",
     "output_type": "stream",
     "text": [
      "(5, 5)1.00000\n",
      "01.0000\n",
      "00100\n",
      "0001.00\n",
      "00001.0\n"
     ]
    }
   ],
   "source": [
    "I=D*C\n",
    "print(size(I))\n",
    "for i in 1:5\n",
    "    for j in 1:5\n",
    "        print(simplify(expand(I[i,j])))\n",
    "    end\n",
    "    println()\n",
    "end\n"
   ]
  },
  {
   "cell_type": "markdown",
   "id": "1d0c2d4e",
   "metadata": {},
   "source": [
    "# hashing "
   ]
  },
  {
   "cell_type": "code",
   "execution_count": 27,
   "id": "3dabb5ff",
   "metadata": {},
   "outputs": [
    {
     "data": {
      "text/plain": [
       "hashing512 (generic function with 1 method)"
      ]
     },
     "execution_count": 27,
     "metadata": {},
     "output_type": "execute_result"
    }
   ],
   "source": [
    "message = \"Hello, world!\"\n",
    "@variables x[1:64]\n",
    "function hashing512(message)\n",
    "    hash = sha2_512(message)\n",
    "    bitstring512=\"\"\n",
    "    for i in hash\n",
    "        bitstring512=bitstring512*bitstring(i)\n",
    "    end\n",
    "    \n",
    "    A512=[]\n",
    "    for i in bitstring512\n",
    "        append!(A512,Int(i)-48)\n",
    "    end\n",
    "    return A512\n",
    "end\n"
   ]
  },
  {
   "cell_type": "code",
   "execution_count": 28,
   "id": "aac5918c",
   "metadata": {},
   "outputs": [
    {
     "name": "stdout",
     "output_type": "stream",
     "text": [
      "(5, 1)\n",
      "(1, 5)\n"
     ]
    }
   ],
   "source": [
    "function polys(message)\n",
    "    coeffs=[]\n",
    "    A512=hashing512(message)\n",
    "    last12=A512[501:512,]\n",
    "    for i in 0:3\n",
    "        b3=last12[(1+3*i):3*(i+1),]\n",
    "        coef=0\n",
    "        for j in 1:3\n",
    "            coef=coef+2^(3-j)*b3[j]\n",
    "        end\n",
    "        coef=mod(coef,6)\n",
    "        append!(coeffs,coef)\n",
    "    end\n",
    "#     println(coeffs)\n",
    "    \n",
    "    first300=A512[1:300]\n",
    "    vars=[]\n",
    "    for i in 1:50\n",
    "        v=first300[(1+6*(i-1)):(6*i),]\n",
    "        vn=0\n",
    "        for j in 1:6\n",
    "            vn=vn+2^(6-j)*v[j]\n",
    "        end\n",
    "        vn=vn+1\n",
    "        append!(vars,vn)\n",
    "    end\n",
    "#     println(vars)\n",
    "    \n",
    "    middle200=A512[301:500]\n",
    "    mons=[]\n",
    "    for i in 1:5\n",
    "        b40=middle200[(1+40*(i-1)):(40*i)]\n",
    "\n",
    "        for j in 1:4\n",
    "            b10=b40[(1+10*(j-1)):(10*j)]\n",
    "            mon=1\n",
    "\n",
    "            for k in 1:10\n",
    "                if b10[k]==1 \n",
    "\n",
    "                    if vars[10*(j-1)+k]!=0\n",
    "                        mon=mon*x[vars[10*(j-1)+k]]\n",
    "                    end\n",
    "                end\n",
    "            end\n",
    "            append!(mons,mon)\n",
    "\n",
    "        end\n",
    "    end\n",
    "#     println(mons)\n",
    "    \n",
    "    polys=[]\n",
    "    for i in 1:5\n",
    "        pol=0\n",
    "        for j in 1:4\n",
    "            pol=pol+mons[4*(i-1)+j]*coeffs[j]\n",
    "        end\n",
    "        append!(polys,pol)\n",
    "    end\n",
    " \n",
    "    \n",
    "    Un=zeros(Num,1,5)\n",
    "    for i in 1:5\n",
    "        Un[1,i]=polys[i]\n",
    "    end\n",
    "    \n",
    "    U=zeros(Num,5,1)\n",
    "    for i in 1:5\n",
    "        U[i,1]=polys[i]\n",
    "    end\n",
    "    return U,Un\n",
    "end\n",
    "\n",
    "U,Un=polys(message)\n",
    "println(size(U))\n",
    "println(size(Un))\n"
   ]
  },
  {
   "cell_type": "markdown",
   "id": "9cef95d3",
   "metadata": {},
   "source": [
    "# Verification"
   ]
  },
  {
   "cell_type": "code",
   "execution_count": 29,
   "id": "b28c8fd4",
   "metadata": {},
   "outputs": [
    {
     "name": "stdout",
     "output_type": "stream",
     "text": [
      "good\n",
      "4x[62] + 2(x[10]^3)*x[2]*x[8]*x[16]*x[49]*x[61] + x[6]*x[11]*x[13]*x[21]*x[25]*x[44]*x[49]*x[55]\n",
      "4.0x[62] + 2.0(x[10]^3)*x[2]*x[8]*x[16]*x[49]*x[61] + x[6]*x[11]*x[13]*x[21]*x[25]*x[44]*x[49]*x[55]\n",
      "good\n",
      "x[6]*x[11]*x[25]*x[49]*x[55] + 2(x[10]^2)*x[2]*x[49]*x[55]*x[61] + 4x[19]*x[24]*x[30]*x[46]*x[47]*x[51]*x[58]\n",
      "x[6]*x[11]*x[25]*x[49]*x[55] + 2.0(x[10]^2)*x[2]*x[49]*x[55]*x[61] + 4.0x[19]*x[24]*x[30]*x[46]*x[47]*x[51]*x[58]\n",
      "good\n",
      "x[11]*x[13]*x[25]*x[44] + 2x[2]*x[8]*x[10]*x[55] + 4x[19]*x[30]*x[34]*x[46]*x[51]*x[54]\n",
      "x[11]*x[13]*x[25]*x[44] + 2.0x[2]*x[8]*x[10]*x[55] + 4.0x[19]*x[30]*x[34]*x[46]*x[51]*x[54]\n",
      "good\n",
      "2(x[10]^2)*x[49] + x[10]*x[11]*x[13]*x[33]*x[44] + 4x[19]*x[30]*x[34]*x[47]*x[51]*x[54]\n",
      "2.0(x[10]^2)*x[49] + x[10]*x[11]*x[13]*x[33]*x[44] + 4.0x[19]*x[30]*x[34]*x[47]*x[51]*x[54]\n",
      "good\n",
      "x[6]*x[10]*x[11]*x[13]*x[25]*x[33]*x[44] + 2(x[10]^3)*x[8]*x[16]*x[22]*x[49]*x[61] + 4x[19]*x[24]*x[30]*x[46]*x[47]*x[51]*x[62]\n",
      "x[6]*x[10]*x[11]*x[13]*x[25]*x[33]*x[44] + 2.0(x[10]^3)*x[8]*x[16]*x[22]*x[49]*x[61] + 4.0x[19]*x[24]*x[30]*x[46]*x[47]*x[51]*x[62]\n"
     ]
    }
   ],
   "source": [
    "function verification(k,l,s,n,t,B,q,U,Un)\n",
    "    \n",
    "    A,B,C,D=matrix_kl(k,l,s,n,t,B,q)\n",
    "    \n",
    "    V=Un*D#Un has a size of 1,5 and D has a size of 5,10\n",
    "    V=Un*D\n",
    "    W=V*C\n",
    "    for i in 1:5\n",
    "        Wi=simplify(expand(W[1,i]))\n",
    "        if isequal(Wi,simplify(expand(Un[1,i])))\n",
    "            println(\"good\")\n",
    "            println(Un[1,i])\n",
    "            println(Wi)\n",
    "#         else\n",
    "#             break\n",
    "        end\n",
    "\n",
    "    end\n",
    "end\n",
    "\n",
    "verification(10,5,5,32,3,5,6,U,Un)\n",
    "\n"
   ]
  },
  {
   "cell_type": "code",
   "execution_count": null,
   "id": "5595bfaf",
   "metadata": {},
   "outputs": [],
   "source": []
  }
 ],
 "metadata": {
  "kernelspec": {
   "display_name": "Julia 1.6.7",
   "language": "julia",
   "name": "julia-1.6"
  },
  "language_info": {
   "file_extension": ".jl",
   "mimetype": "application/julia",
   "name": "julia",
   "version": "1.6.7"
  }
 },
 "nbformat": 4,
 "nbformat_minor": 5
}
