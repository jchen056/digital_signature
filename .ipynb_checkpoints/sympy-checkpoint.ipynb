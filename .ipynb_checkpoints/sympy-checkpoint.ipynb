{
 "cells": [
  {
   "cell_type": "code",
   "execution_count": 1,
   "id": "1170f694",
   "metadata": {},
   "outputs": [],
   "source": [
    "from sympy import symbols, Matrix\n",
    "from sympy import expand, factor #expand and factor expressions\n",
    "import random\n",
    "import numpy as np\n",
    "from sympy import Matrix,eye,det,zeros,simplify\n",
    "import time"
   ]
  },
  {
   "cell_type": "markdown",
   "id": "0fbe1dd4",
   "metadata": {},
   "source": [
    "[Sympy doc] (https://docs.sympy.org/latest/tutorials/intro-tutorial/index.html)\n",
    "\n",
    "1. Symbolic computation: manipulating irrational numbers exactly using SymPy, computing symbolic expressions with variables.\n",
    "2. most simplifications in Sympy are not performed automatically.\n",
    "3. SymPy can simplify expressions, compute derivatives, integrals, and limits, solve equations, work with matrices, and much, much more, and do it all symbolically.\n",
    "\n"
   ]
  },
  {
   "cell_type": "code",
   "execution_count": 2,
   "id": "11aead49",
   "metadata": {},
   "outputs": [
    {
     "data": {
      "text/latex": [
       "$\\displaystyle x \\left(x + 2 y\\right)$"
      ],
      "text/plain": [
       "x*(x + 2*y)"
      ]
     },
     "execution_count": 2,
     "metadata": {},
     "output_type": "execute_result"
    }
   ],
   "source": [
    "x,y=symbols('x y')\n",
    "expr=x+2*y\n",
    "expanded_expr=expand(x*expr)\n",
    "factor(expanded_expr)"
   ]
  },
  {
   "cell_type": "markdown",
   "id": "265e8e45",
   "metadata": {},
   "source": [
    "some rules:\n",
    "* To define variables, we must use symbols.\n",
    "* if a variable is changed, expressions that were already created with that variable do not change automatically\n",
    "* == represents exact structural equality testing. “Exact” here means that two expressions will compare equal with == only if they are exactly equal structurally.\n",
    "* the best way to check whether a-b: subtract, simplify(b-a), and see whether you get 0 or a.equals(b)"
   ]
  },
  {
   "cell_type": "code",
   "execution_count": 2,
   "id": "6331d1fa",
   "metadata": {},
   "outputs": [
    {
     "data": {
      "text/latex": [
       "$\\displaystyle 3$"
      ],
      "text/plain": [
       "3"
      ]
     },
     "execution_count": 2,
     "metadata": {},
     "output_type": "execute_result"
    }
   ],
   "source": [
    "x = symbols('x')\n",
    "expr = x + 1\n",
    "# x = 2\n",
    "#print(expr)#changes made to x has no effects in expr, which is created before the chg\n",
    "expr.subs(x, 2)"
   ]
  },
  {
   "cell_type": "markdown",
   "id": "3896f79f",
   "metadata": {},
   "source": [
    "Converting Strings to SymPy Expressions\n",
    "**sympify**, not to be confused with simplify"
   ]
  },
  {
   "cell_type": "markdown",
   "id": "5361c9d1",
   "metadata": {},
   "source": [
    "# Key Generation"
   ]
  },
  {
   "cell_type": "code",
   "execution_count": 4,
   "id": "67c369bf",
   "metadata": {},
   "outputs": [],
   "source": [
    "def modify_coefficients(A,q):\n",
    "    B=A.as_coefficients_dict()\n",
    "    sparse_poly_mod=0\n",
    "    for key, value in B.items():\n",
    "        if value>q-1:\n",
    "            if value%(q-1)==0:\n",
    "                sparse_poly_mod+=(q-1)*key\n",
    "            else:\n",
    "                sparse_poly_mod+=(value%(q-1))*key\n",
    "        else:\n",
    "            sparse_poly_mod+=value*key\n",
    "    return sparse_poly_mod\n"
   ]
  },
  {
   "cell_type": "code",
   "execution_count": 10,
   "id": "079c6210",
   "metadata": {},
   "outputs": [
    {
     "name": "stdout",
     "output_type": "stream",
     "text": [
      "2*x1**2*x3 + x1*x2 + x2 + 4*x3\n"
     ]
    },
    {
     "data": {
      "text/latex": [
       "$\\displaystyle 2 x_{1}^{2} x_{3} + x_{1} x_{2} + x_{2} + x_{3}$"
      ],
      "text/plain": [
       "2*x1**2*x3 + x1*x2 + x2 + x3"
      ]
     },
     "execution_count": 10,
     "metadata": {},
     "output_type": "execute_result"
    }
   ],
   "source": [
    "def poly_n_variables(n):\n",
    "    K=[]\n",
    "    for i in range(n):\n",
    "        x='x'+str(i)\n",
    "        K.append(x)\n",
    "    return K\n",
    "\n",
    "def sparse_polynomial(n,t,b,q):#t monomials, bound the degree of monomials by an integer b\n",
    "    K=poly_n_variables(n)\n",
    "    \n",
    "    sparse_poly=0\n",
    "    for i in range(t):\n",
    "        deg=random.randint(1,b)\n",
    "        monomoial_d=1\n",
    "        \n",
    "        for i in range(deg):\n",
    "            monomoial_d*=symbols(random.choice(K))\n",
    "            \n",
    "        sparse_poly+=random.randint(1,q-1)*monomoial_d\n",
    "        \n",
    "    print(sparse_poly)\n",
    "    return modify_coefficients(sparse_poly,q)\n",
    "     \n",
    "#do some maniculation about the coefficient of the monomial, making sure it is less than= 5; if greater, modulo 6\n",
    "\n",
    "sparse_polynomial(4,5,3,4)\n"
   ]
  },
  {
   "cell_type": "markdown",
   "id": "a524da5f",
   "metadata": {},
   "source": [
    "# Generate the matrix"
   ]
  },
  {
   "cell_type": "code",
   "execution_count": 11,
   "id": "3a633b6e",
   "metadata": {},
   "outputs": [
    {
     "name": "stdout",
     "output_type": "stream",
     "text": [
      "4*x1**2*x2*x22*x27 + 4*x13*x22*x25 + x19**2*x3 + 2*x19*x27 + x9\n",
      "3*x0*x11*x12*x24*x4*x7 + 2*x0*x15*x27*x3 + 2*x10*x22 + 5*x12*x20*x4 + x14*x15*x30\n",
      "x0*x18*x2*x31 + x1*x11*x15*x21*x22*x4 + 4*x10*x14*x17*x28 + 4*x13*x16*x17*x27 + 5*x18*x26\n",
      "4*x0*x10*x12*x8*x9 + 4*x17**2*x29*x6 + 3*x20*x25*x3 + 5*x30*x6 + 3*x7\n",
      "5*x0*x12*x15*x24 + 5*x0*x15*x19*x22*x4 + 3*x1*x17*x19*x22*x8 + 4*x11*x15*x24*x31*x4 + 4*x24*x30*x6*x9\n",
      "5*x1**2*x13*x2*x20*x8 + 3*x17*x2*x7 + x18*x23*x25*x3**2*x8 + x22 + 2*x5*x8\n"
     ]
    },
    {
     "data": {
      "text/latex": [
       "$\\displaystyle \\left[\\begin{matrix}1 & 0 & 0 & 0\\\\0 & 1 & 0 & 0\\\\0 & 0 & 1 & 0\\\\0 & 0 & 0 & 1\\end{matrix}\\right]$"
      ],
      "text/plain": [
       "Matrix([\n",
       "[1, 0, 0, 0],\n",
       "[0, 1, 0, 0],\n",
       "[0, 0, 1, 0],\n",
       "[0, 0, 0, 1]])"
      ]
     },
     "execution_count": 11,
     "metadata": {},
     "output_type": "execute_result"
    }
   ],
   "source": [
    "def generate_U(k,n,t,B,q):\n",
    "    I=eye(k)\n",
    "    \n",
    "    for i in range(int((k*k-k)/2)):\n",
    "        b=random.randint(1,k-1)\n",
    "        a=random.randint(0,b-1)\n",
    "        I[a,b]=sparse_polynomial(n,t,B,q)\n",
    "    return I\n",
    "    \n",
    "def generate_L(k,n,t,B,q):\n",
    "    I=eye(k)\n",
    "    \n",
    "    for i in range(int((k*k-k)/2)):\n",
    "        a=random.randint(1,k-1)\n",
    "        b=random.randint(0,a-1)\n",
    "        I[a,b]=sparse_polynomial(n,t,B,q)\n",
    "    return I\n",
    "\n",
    "A=generate_U(4,32,5,6,6)\n",
    "B=A.inv(method=\"LU\")\n",
    "A*B"
   ]
  },
  {
   "cell_type": "code",
   "execution_count": 90,
   "id": "167cd912",
   "metadata": {},
   "outputs": [
    {
     "data": {
      "text/latex": [
       "$\\displaystyle \\left[\\begin{matrix}0 & 0 & 0\\\\0 & 0 & 0\\end{matrix}\\right]$"
      ],
      "text/plain": [
       "Matrix([\n",
       "[0, 0, 0],\n",
       "[0, 0, 0]])"
      ]
     },
     "execution_count": 90,
     "metadata": {},
     "output_type": "execute_result"
    }
   ],
   "source": [
    "zeros(2,3)"
   ]
  },
  {
   "cell_type": "code",
   "execution_count": 12,
   "id": "13978a2d",
   "metadata": {},
   "outputs": [
    {
     "data": {
      "text/latex": [
       "$\\displaystyle \\left[\\begin{matrix}0 & 1 & 0\\\\0 & 0 & 1\\\\1 & 0 & 0\\end{matrix}\\right]$"
      ],
      "text/plain": [
       "Matrix([\n",
       "[0, 1, 0],\n",
       "[0, 0, 1],\n",
       "[1, 0, 0]])"
      ]
     },
     "execution_count": 12,
     "metadata": {},
     "output_type": "execute_result"
    }
   ],
   "source": [
    "\n",
    "def col_permutation(matrix):\n",
    "    col_permutation = random.sample(range(matrix.cols), matrix.cols)\n",
    "#     permuted_matrix = matrix.permute_cols(col_permutation)\n",
    "    \n",
    "    I=zeros(len(col_permutation))\n",
    "    for i in range(len(col_permutation)):\n",
    "        I[i,col_permutation[i]]=1\n",
    "#     print(I.inv())\n",
    "#     print(matrix*I.inv())\n",
    "    \n",
    "    return I.inv()\n",
    "col_permutation(Matrix([[1, 4, 7], [2, 5, 8], [3, 6, 9]]))\n"
   ]
  },
  {
   "cell_type": "code",
   "execution_count": 13,
   "id": "1799692d",
   "metadata": {},
   "outputs": [
    {
     "data": {
      "text/plain": [
       "{3}"
      ]
     },
     "execution_count": 13,
     "metadata": {},
     "output_type": "execute_result"
    }
   ],
   "source": [
    "def find_cols_rm(A,B):\n",
    "    cols=[]\n",
    "    for i in range(B.cols):\n",
    "        for j in range(A.cols):\n",
    "            if B[:,i]==A[:,j]:\n",
    "                cols.append(j)\n",
    "    col_rm=set(range(A.cols))\n",
    "    for i in cols:\n",
    "        col_rm.remove(i)\n",
    "    return col_rm\n",
    "            \n",
    "find_cols_rm(Matrix([[5, 6, 6,8], [2, 2, 2,8], [6, 6, 2,8],[2,3,6,7]]),Matrix([\n",
    "[5, 6, 6],\n",
    "[2, 2, 2],\n",
    "[6, 6, 2],\n",
    "[2, 3, 6]]))"
   ]
  },
  {
   "cell_type": "code",
   "execution_count": 39,
   "id": "bdfc3d63",
   "metadata": {},
   "outputs": [
    {
     "data": {
      "text/latex": [
       "$\\displaystyle \\left[\\begin{matrix}-17 & -9 & 12 & 16\\\\17 & \\frac{35}{4} & - \\frac{47}{4} & -16\\\\-4 & - \\frac{9}{4} & \\frac{11}{4} & 4\\\\1 & \\frac{3}{4} & - \\frac{3}{4} & -1\\end{matrix}\\right]$"
      ],
      "text/plain": [
       "Matrix([\n",
       "[-17,   -9,    12,  16],\n",
       "[ 17, 35/4, -47/4, -16],\n",
       "[ -4, -9/4,  11/4,   4],\n",
       "[  1,  3/4,  -3/4,  -1]])"
      ]
     },
     "execution_count": 39,
     "metadata": {},
     "output_type": "execute_result"
    }
   ],
   "source": [
    "\n",
    "# def random_del_columns(k,l,matrix):\n",
    "# #     col_indices = random.sample(range(matrix.cols), k-l)#ramdonly rm k-l cols\n",
    "# #     print(col_indices)\n",
    "#     temp=matrix.copy()\n",
    "#     for i in range(int(k-l)):\n",
    "#         j=random.randint(0,matrix.cols-1)\n",
    "#         matrix.col_del(j)\n",
    "#     col_rm=find_cols_rm(temp,matrix)\n",
    "# #     print(col_rm)\n",
    "# #     print(matrix)\n",
    "#     return col_rm,matrix\n",
    "\n",
    "# start = time.time()\n",
    "# a,b=random_del_columns(4,3,Matrix([[5, 6, 6,8], [2, 2, 2,8], [6, 6, 2,8],[2,3,6,7]]))\n",
    "# print(a)\n",
    "# print(b)\n",
    "Matrix([[5, 6, 6,8], [2, 2, 2,8], [6, 6, 2,8],[2,3,6,7]]).inv()"
   ]
  },
  {
   "cell_type": "code",
   "execution_count": 30,
   "id": "06fe0aed",
   "metadata": {},
   "outputs": [
    {
     "data": {
      "text/plain": [
       "([0],\n",
       " Matrix([\n",
       " [5],\n",
       " [2],\n",
       " [6],\n",
       " [2]]))"
      ]
     },
     "execution_count": 30,
     "metadata": {},
     "output_type": "execute_result"
    }
   ],
   "source": [
    "def random_del_columns(k,l,matrix):\n",
    "    col_opts=[i for i in range(l)]\n",
    "#     for i in range(k-l):\n",
    "#         random_element=random.choice(col_opts)\n",
    "#         col_opts.remove(random_element)\n",
    "    \n",
    "    matrix_kl=zeros(k,l)\n",
    "    \n",
    "    j=0\n",
    "    for i in col_opts:\n",
    "        matrix_kl[:,j]=matrix[:,i]\n",
    "        j+=1\n",
    "    return col_opts,matrix_kl\n",
    "\n",
    "random_del_columns(4,1,Matrix([[5, 6, 6,8], [2, 2, 2,8], [6, 6, 2,8],[2,3,6,7]]))"
   ]
  },
  {
   "cell_type": "code",
   "execution_count": 10,
   "id": "ce541d2e",
   "metadata": {},
   "outputs": [
    {
     "data": {
      "text/latex": [
       "$\\displaystyle \\left[\\begin{matrix}1 & 4 & 7\\\\2 & 5 & 8\\\\3 & 6 & 9\\end{matrix}\\right]$"
      ],
      "text/plain": [
       "Matrix([\n",
       "[1, 4, 7],\n",
       "[2, 5, 8],\n",
       "[3, 6, 9]])"
      ]
     },
     "execution_count": 10,
     "metadata": {},
     "output_type": "execute_result"
    }
   ],
   "source": [
    "def multiply_out(sample_M):\n",
    "    for i in range(sample_M.rows):\n",
    "        for j in range(sample_M.cols):\n",
    "            sample_M[i,j]=expand(sample_M[i,j])\n",
    "    return sample_M\n",
    "\n",
    "multiply_out(Matrix([[1, 4], [2, 5, 8], [3, 6, 9]]))"
   ]
  },
  {
   "cell_type": "code",
   "execution_count": 42,
   "id": "73f745e5",
   "metadata": {},
   "outputs": [
    {
     "data": {
      "text/latex": [
       "$\\displaystyle \\left[\\begin{matrix}-17 & -9 & 12 & 16\\end{matrix}\\right]$"
      ],
      "text/plain": [
       "Matrix([[-17, -9, 12, 16]])"
      ]
     },
     "execution_count": 42,
     "metadata": {},
     "output_type": "execute_result"
    }
   ],
   "source": [
    "def find_kl_inverse(to_keep,S_inv):#find the inverse of kl_matrix\n",
    "    \n",
    "    k=S_inv.rows\n",
    "    \n",
    "#     to_keep=set(range(k))#rows to keep\n",
    "    \n",
    "#     for i in col_rm:\n",
    "#         to_keep.remove(i)\n",
    "        \n",
    "    ml_inv=zeros(len(to_keep),k)\n",
    "    \n",
    "    j=0\n",
    "    for i in to_keep:\n",
    "        ml_inv[j,:]=S_inv[i,:]\n",
    "        j+=1\n",
    "    return ml_inv\n",
    "\n",
    "find_kl_inverse([0],Matrix([[-17,-9,12,16],[17,35/4,-47/4,-16],[-4,-9/4,11/4,4],[1,3/4,-3/4,-1]]))"
   ]
  },
  {
   "cell_type": "code",
   "execution_count": 51,
   "id": "0deb18aa",
   "metadata": {},
   "outputs": [
    {
     "name": "stdout",
     "output_type": "stream",
     "text": [
      "5*x0*x26 + 3*x14 + 3*x23**2*x30*x6\n",
      "5*x2**2 + 2*x29 + x6\n",
      "3*x26**2*x6 + x30*x31*x6*x9 + 3*x4\n",
      "3*x0*x21*x22*x25*x27 + x1*x8 + 4*x13*x21*x25*x3*x8\n",
      "5*x12*x14*x16*x8 + 3*x15*x27*x30 + x24*x26\n",
      "3*x12*x15*x28*x4 + 5*x15*x18*x5*x9 + 3*x5*x8**2\n",
      "3*x0*x10*x16*x24*x31 + 3*x24*x25*x27*x6*x9 + x26*x28\n",
      "3*x13*x5*x7 + 3*x15**2 + 4*x15*x4\n",
      "3*x20*x22*x27*x6*x8 + 3*x21*x5 + 5*x5\n",
      "x0*x15*x18*x22*x24 + 4*x13*x15*x22*x26*x4 + 5*x13*x30\n",
      "x11*x17*x19*x5 + 5*x13*x17*x20*x4 + 4*x21**2*x5\n",
      "5*x14**2*x28*x7 + 5*x14*x21*x23*x24*x4 + 4*x27*x29\n",
      "x0*x2*x8 + x11*x15*x26*x9 + 3*x15*x24*x3\n",
      "x10*x11*x30*x31 + 5*x13*x15*x22 + x18*x19*x30*x31\n",
      "4*x12*x25 + 2*x23 + 4*x24*x5\n",
      "2*x10*x12*x20*x6 + 2*x13**2*x29 + x17*x23*x29*x8\n",
      "x10*x17*x23*x27 + 3*x12*x16 + 3*x15*x19\n",
      "3*x11*x25*x30 + 3*x15*x28 + 5*x26\n",
      "2*x14*x20*x25*x5 + x15 + x4\n",
      "3*x0*x13*x5 + 3*x0*x17*x2 + 2*x28*x31*x5\n",
      "x11*x25*x3 + 3*x18*x28 + 5*x22*x26*x8*x9\n",
      "5*x12*x22 + 2*x17*x30 + 4*x29*x8\n",
      "x0*x10*x9**2 + 3*x0*x21*x25*x26 + 4*x24\n",
      "4*x11*x19*x25*x30*x4 + 3*x2*x23*x28 + 2*x25*x3**2*x31*x5\n",
      "4*x11*x12*x28 + 2*x14*x24*x27*x5 + 2*x16*x22*x24*x30*x31\n",
      "2*x13*x24*x25 + 5*x14*x23*x7*x8 + 5*x25**2*x31*x7\n",
      "x12*x15*x18**2*x7 + 4*x25*x28 + 5*x4*x9\n",
      "4*x10*x15*x16*x24 + 5*x13*x3 + 2*x16*x8\n",
      "3*x13**2*x24*x26*x30 + 3*x20*x28 + 5*x24*x5*x7\n",
      "4*x1*x21*x22*x9 + 3*x12*x13*x14*x5 + 4*x18*x30\n",
      "4*x14*x5**2 + 3*x15*x22*x4 + x15\n",
      "5*x0*x11*x12*x18**2 + 4*x1*x14*x3*x6 + 5*x20**2*x29\n",
      "3*x10*x16**2*x7 + 5*x25*x5 + x7*x8*x9\n",
      "3*x12*x20*x24*x4*x5 + 3*x24*x25*x31*x5*x9 + x4\n",
      "x0*x23 + 2*x11 + x14\n",
      "4*x14*x15*x30*x4 + 4*x18*x21*x23*x31*x7 + x29\n",
      "x11*x13*x18*x24**2 + x12**2*x14*x26*x30 + x17*x7\n",
      "3*x1*x18 + 4*x10*x19*x30*x6 + x11*x19*x22*x24*x26\n",
      "5*x10**2*x15*x22 + 3*x13*x2*x9 + 2*x27**2*x4\n",
      "x10 + 3*x23*x27*x7*x9 + 3*x30\n",
      "3*x11*x27 + 5*x21**2*x24*x31*x5 + 2*x28*x30\n",
      "4*x17*x20*x23*x28 + 5*x18*x4 + 5*x2*x22*x26\n",
      "3*x16*x18*x23*x4**2 + 4*x2*x22*x28 + 3*x26*x27\n",
      "5*x10*x24*x25*x31 + 5*x20*x25*x29*x3 + x6\n",
      "5*x10*x23*x6*x7*x9 + 4*x21 + 4*x27\n",
      "x10*x19*x27 + 4*x14*x23 + x15**2*x8\n",
      "3*x1*x2*x8*x9**2 + 4*x18 + x2*x21*x3\n",
      "5*x11*x13*x23*x27 + x11*x21*x24*x28*x5 + 3*x7**2\n",
      "2*x15*x18*x26*x30 + 4*x18*x21*x25 + 3*x5\n",
      "x0*x11*x12*x5 + 4*x0*x13*x26*x30*x31 + 4*x1\n",
      "x13**2 + 2*x13*x19*x20*x28 + 2*x14*x22*x24\n",
      "4*x11*x24*x26 + 5*x14*x9 + x29*x4\n",
      "x14*x21*x9 + x17*x24*x26 + 4*x2\n",
      "x0*x25*x5 + 2*x10*x21*x25*x30*x31 + 4*x12*x13*x22*x24*x9\n",
      "3*x0*x27*x3*x6 + 2*x0*x27 + 3*x12\n",
      "2*x16*x21*x8 + x24*x27 + 3*x25*x28*x8*x9\n",
      "2*x11*x13*x4*x5**2 + 4*x16**2*x19*x21*x9 + x22*x9\n",
      "5*x10 + 4*x15*x17*x20*x27 + x8**2\n",
      "5*x1**2*x13**2*x28 + 4*x13*x15*x19*x25*x26 + 5*x24\n",
      "4*x11*x19**2*x4**2 + 4*x20**2*x28*x9 + 2*x24*x26*x27\n",
      "0.18000006675720215\n"
     ]
    }
   ],
   "source": [
    "def matrix_kl(k,l,s,n,t,B,q):#k,l are the dimensions of the matrix, s is the several, a small number\n",
    "    Ls=[]\n",
    "    Us=[]\n",
    "    for i in range(s):\n",
    "        U=generate_U(k,n,t,B,q)\n",
    "        L=generate_L(k,n,t,B,q)\n",
    "        Us.append(U)\n",
    "        Ls.append(L)\n",
    "        \n",
    "    U_new=random.choice(Us)\n",
    "    L_new=random.choice(Ls)\n",
    "    Ms=Us+Ls\n",
    "    \n",
    "    P1=col_permutation(U_new)\n",
    "    T1=random.choice(Ms)\n",
    "    P2=col_permutation(U_new)\n",
    "#     T2=random.choice(Ms)\n",
    "    P3=col_permutation(U_new)\n",
    "    \n",
    "    \n",
    "#     kk_matrix=U_new*L_new*P1*T1*P2*T2*P3\n",
    "#     S_inv=P3.inv(method=\"LU\")*T2.inv(method=\"LU\")*P2.inv(method=\"LU\")*T1.inv(method=\"LU\")*P1.inv(method=\"LU\")*L_new.inv(method=\"LU\")*U_new.inv(method=\"LU\")\n",
    "#     kk_matrix=U_new*P1*L_new*P2*T1*P3\n",
    "    kk_matrix=L_new*U_new\n",
    "    kk=kk_matrix.copy()\n",
    "    #S_inv=P3.inv(method=\"LU\")*T1.inv(method=\"LU\")*P2.inv(method=\"LU\")*L_new.inv(method=\"LU\")*P1.inv(method=\"LU\")*U_new.inv(method=\"LU\")\n",
    "    S_inv=U_new.inv(method=\"LU\")*L_new.inv(method=\"LU\")\n",
    "#     print(kk*S_inv)\n",
    "\n",
    "    col_rm,kl_matrix=random_del_columns(k,l,kk_matrix)\n",
    "    \n",
    "    kl_inverse=find_kl_inverse(col_rm,S_inv)\n",
    "    return kk,S_inv,kl_matrix, kl_inverse\n",
    "\n",
    "\n",
    "start = time.time()\n",
    "kk,A,B,C=matrix_kl(4,2,5,32,3,5,6)\n",
    "end = time.time()\n",
    "print(end - start)"
   ]
  },
  {
   "cell_type": "code",
   "execution_count": 44,
   "id": "0101c35a",
   "metadata": {},
   "outputs": [
    {
     "data": {
      "text/plain": [
       "(3, 4)"
      ]
     },
     "execution_count": 44,
     "metadata": {},
     "output_type": "execute_result"
    }
   ],
   "source": [
    "C.shape"
   ]
  },
  {
   "cell_type": "code",
   "execution_count": 52,
   "id": "a80e8a3a",
   "metadata": {},
   "outputs": [],
   "source": [
    "substitution_ls=[]\n",
    "K=poly_n_variables(32)\n",
    "for i in range(0,32):\n",
    "    substitution_ls.append((symbols(K[i]),random.randint(0,5)))\n",
    "\n",
    "I_exp=B*C"
   ]
  },
  {
   "cell_type": "code",
   "execution_count": 53,
   "id": "2e3d1c6f",
   "metadata": {},
   "outputs": [
    {
     "data": {
      "text/latex": [
       "$\\displaystyle \\left[\\begin{matrix}12076 & 0 & -805 & 330050\\\\6327690 & 1 & -421846 & 172956860\\\\181140 & 0 & -12075 & 4950750\\\\0 & 0 & 0 & 0\\end{matrix}\\right]$"
      ],
      "text/plain": [
       "Matrix([\n",
       "[  12076, 0,    -805,    330050],\n",
       "[6327690, 1, -421846, 172956860],\n",
       "[ 181140, 0,  -12075,   4950750],\n",
       "[      0, 0,       0,         0]])"
      ]
     },
     "execution_count": 53,
     "metadata": {},
     "output_type": "execute_result"
    }
   ],
   "source": [
    "\n",
    "for i in range(I_exp.rows):\n",
    "    for j in range(I_exp.cols):\n",
    "        I_exp[i,j]=I_exp[i,j].subs(substitution_ls)\n",
    "        \n",
    "I_exp"
   ]
  },
  {
   "cell_type": "code",
   "execution_count": 25,
   "id": "889ed016",
   "metadata": {},
   "outputs": [
    {
     "data": {
      "text/latex": [
       "$\\displaystyle \\left[\\begin{matrix}1 & 0 & 0 & 0 & 0\\\\0 & 1 & 0 & 0 & 0\\\\0 & 0 & 1 & 0 & 0\\\\0 & 0 & 0 & 1 & 0\\\\0 & 0 & 0 & 0 & 1\\end{matrix}\\right]$"
      ],
      "text/plain": [
       "Matrix([\n",
       "[1, 0, 0, 0, 0],\n",
       "[0, 1, 0, 0, 0],\n",
       "[0, 0, 1, 0, 0],\n",
       "[0, 0, 0, 1, 0],\n",
       "[0, 0, 0, 0, 1]])"
      ]
     },
     "execution_count": 25,
     "metadata": {},
     "output_type": "execute_result"
    }
   ],
   "source": []
  },
  {
   "cell_type": "code",
   "execution_count": 43,
   "id": "f688c7ae",
   "metadata": {},
   "outputs": [
    {
     "data": {
      "text/latex": [
       "$\\displaystyle x^{2} - 1$"
      ],
      "text/plain": [
       "x**2 - 1"
      ]
     },
     "execution_count": 43,
     "metadata": {},
     "output_type": "execute_result"
    }
   ],
   "source": [
    "x, y, z = symbols('x y z')\n",
    "expand((x+1)*(x-1))"
   ]
  },
  {
   "cell_type": "markdown",
   "id": "4d137f9f",
   "metadata": {},
   "source": [
    "# Finding the inverse"
   ]
  },
  {
   "cell_type": "code",
   "execution_count": 28,
   "id": "919fe07b",
   "metadata": {},
   "outputs": [
    {
     "data": {
      "text/latex": [
       "$\\displaystyle 1$"
      ],
      "text/plain": [
       "1"
      ]
     },
     "execution_count": 28,
     "metadata": {},
     "output_type": "execute_result"
    }
   ],
   "source": [
    "M2=Matrix([[2,1],[7,4]])\n",
    "M2.inv(method=\"LU\")\n",
    "\n",
    "# M2.adjugate()#the transpose of the matrix of cofactors.\n",
    "# det(M2)"
   ]
  },
  {
   "cell_type": "code",
   "execution_count": null,
   "id": "b567d7d2",
   "metadata": {},
   "outputs": [],
   "source": []
  },
  {
   "cell_type": "code",
   "execution_count": 128,
   "id": "fd5c5790",
   "metadata": {},
   "outputs": [
    {
     "name": "stdout",
     "output_type": "stream",
     "text": [
      "generatingb l polynomials\n",
      "0.025541067123413086\n"
     ]
    },
    {
     "data": {
      "text/plain": [
       "(1, 5)"
      ]
     },
     "execution_count": 128,
     "metadata": {},
     "output_type": "execute_result"
    }
   ],
   "source": [
    "def vector_t_polynomials(n,l,t,b,q): #l is the number of polynomials, q the remainder of 256%l\n",
    "    U=[]\n",
    "    for i in range(l):\n",
    "        P=sparse_polynomial(n,t,b,q)\n",
    "        U.append(P)\n",
    "    return U\n",
    "\n",
    "print(\"generatingb l polynomials\")\n",
    "start = time.time()\n",
    "matrix_l_poly=Matrix(vector_t_polynomials(32,5,4,5,6)).T\n",
    "end = time.time()\n",
    "print(end - start)\n",
    "\n",
    "matrix_l_poly.shape\n"
   ]
  },
  {
   "cell_type": "code",
   "execution_count": 129,
   "id": "ddf02148",
   "metadata": {},
   "outputs": [
    {
     "name": "stdout",
     "output_type": "stream",
     "text": [
      "0.020200252532958984\n"
     ]
    }
   ],
   "source": [
    "start = time.time()\n",
    "D=matrix_l_poly*C\n",
    "end = time.time()\n",
    "print(end - start)"
   ]
  },
  {
   "cell_type": "code",
   "execution_count": 130,
   "id": "89da4204",
   "metadata": {},
   "outputs": [
    {
     "data": {
      "text/latex": [
       "$\\displaystyle \\left[\\begin{matrix}0 & 0 & 0 & 0 & 0 & 0 & 0 & x_{1} x_{12} x_{5}^{2} + 4 x_{11} x_{24} x_{27} x_{3} x_{7} + x_{13} x_{20} x_{27} + 5 x_{15} & \\left(- x_{0} x_{11} - 2 x_{0} x_{5}^{2} - 2 x_{15} x_{18} x_{28} x_{31} - 3 x_{26} x_{8}\\right) \\left(x_{1} x_{12} x_{5}^{2} + 4 x_{11} x_{24} x_{27} x_{3} x_{7} + x_{13} x_{20} x_{27} + 5 x_{15}\\right) & \\left(x_{1} x_{12} x_{5}^{2} + 4 x_{11} x_{24} x_{27} x_{3} x_{7} + x_{13} x_{20} x_{27} + 5 x_{15}\\right) \\left(- 3 x_{0}^{2} x_{1} x_{25} x_{9} - 2 x_{12} x_{24} x_{26} x_{29} - x_{18} - x_{29}\\right)\\end{matrix}\\right]$"
      ],
      "text/plain": [
       "Matrix([[0, 0, 0, 0, 0, 0, 0, x1*x12*x5**2 + 4*x11*x24*x27*x3*x7 + x13*x20*x27 + 5*x15, (-x0*x11 - 2*x0*x5**2 - 2*x15*x18*x28*x31 - 3*x26*x8)*(x1*x12*x5**2 + 4*x11*x24*x27*x3*x7 + x13*x20*x27 + 5*x15), (x1*x12*x5**2 + 4*x11*x24*x27*x3*x7 + x13*x20*x27 + 5*x15)*(-3*x0**2*x1*x25*x9 - 2*x12*x24*x26*x29 - x18 - x29)]])"
      ]
     },
     "execution_count": 130,
     "metadata": {},
     "output_type": "execute_result"
    }
   ],
   "source": []
  },
  {
   "cell_type": "code",
   "execution_count": null,
   "id": "461a6bfd",
   "metadata": {},
   "outputs": [],
   "source": []
  }
 ],
 "metadata": {
  "kernelspec": {
   "display_name": "Python 3 (ipykernel)",
   "language": "python",
   "name": "python3"
  },
  "language_info": {
   "codemirror_mode": {
    "name": "ipython",
    "version": 3
   },
   "file_extension": ".py",
   "mimetype": "text/x-python",
   "name": "python",
   "nbconvert_exporter": "python",
   "pygments_lexer": "ipython3",
   "version": "3.9.12"
  }
 },
 "nbformat": 4,
 "nbformat_minor": 5
}
