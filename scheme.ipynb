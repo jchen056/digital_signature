{
 "cells": [
  {
   "cell_type": "code",
   "execution_count": 1,
   "id": "964c1bd3",
   "metadata": {},
   "outputs": [],
   "source": [
    "using Symbolics\n",
    "using LinearAlgebra\n",
    "using SHA\n",
    "using Statistics"
   ]
  },
  {
   "cell_type": "code",
   "execution_count": 6,
   "id": "a9fc83d0",
   "metadata": {},
   "outputs": [],
   "source": [
    "# cnt=0\n",
    "# f=open(\"signature.txt\",\"r\")\n",
    "# for lines in readlines(f)\n",
    "#     cnt=cnt+count(i->(i=='x'), lines)\n",
    "# end\n",
    "# close(f)\n",
    "# println(cnt)\n"
   ]
  },
  {
   "cell_type": "markdown",
   "id": "c2afb184",
   "metadata": {},
   "source": [
    "# generate sparse polynomials"
   ]
  },
  {
   "cell_type": "code",
   "execution_count": 2,
   "id": "46d3f9da",
   "metadata": {},
   "outputs": [
    {
     "data": {
      "text/plain": [
       "1-element Vector{Symbolics.Arr{Num, 1}}:\n",
       " x[1:64]"
      ]
     },
     "execution_count": 2,
     "metadata": {},
     "output_type": "execute_result"
    }
   ],
   "source": [
    "@variables x[1:64]"
   ]
  },
  {
   "cell_type": "code",
   "execution_count": 3,
   "id": "1a0f081e",
   "metadata": {},
   "outputs": [
    {
     "data": {
      "text/plain": [
       "modify_coeffcients (generic function with 1 method)"
      ]
     },
     "execution_count": 3,
     "metadata": {},
     "output_type": "execute_result"
    }
   ],
   "source": [
    "function modify_coeffcients(A,q)\n",
    "    \n",
    "    coeffs_map=Symbolics.value(A).dict#turn the polynomial into matrix\n",
    "    B=0#create our new polynomial\n",
    "    for (key, value) in coeffs_map#iterate through the dict(monomial, coeffcients)\n",
    "        new_coef=value%q\n",
    "        B+=new_coef*key\n",
    "    end\n",
    "    return B\n",
    "end"
   ]
  },
  {
   "cell_type": "code",
   "execution_count": 4,
   "id": "edd6f2b9",
   "metadata": {},
   "outputs": [
    {
     "data": {
      "text/latex": [
       "$$ \\begin{equation}\n",
       "2 x_3 + 3 x_2^{2} x_1 + 2 x_3^{2} x_2\n",
       "\\end{equation}\n",
       " $$"
      ],
      "text/plain": [
       "2x[3] + 3(x[2]^2)*x[1] + 2(x[3]^2)*x[2]"
      ]
     },
     "execution_count": 4,
     "metadata": {},
     "output_type": "execute_result"
    }
   ],
   "source": [
    "#t monomials\n",
    "#bound the degree of mononials by b, 1-b inclusive\n",
    "#coefficients go from 1 to q-1(inclusive)\n",
    "function sparse_polynomial(n,t,b,q)\n",
    "    @variables x[1:n]\n",
    "    \n",
    "    sparse_poly=0\n",
    "    \n",
    "    for i in 1:t #we want t monomials\n",
    "        deg=rand(1:b)\n",
    "        \n",
    "        monomial_d=1\n",
    "        for j in 1:deg\n",
    "            monomial_d*=x[rand(1:n)]\n",
    "        end\n",
    "        sparse_poly+=rand(1:(q-1))*monomial_d\n",
    "        \n",
    "    end\n",
    "#     println(sparse_poly)\n",
    "    A=modify_coeffcients(sparse_poly,q)\n",
    "    return A\n",
    "end\n",
    "\n",
    "A=sparse_polynomial(3,5,3,6)\n",
    "A"
   ]
  },
  {
   "cell_type": "markdown",
   "id": "85298bc3",
   "metadata": {},
   "source": [
    "# Generate kl matrix"
   ]
  },
  {
   "cell_type": "code",
   "execution_count": 5,
   "id": "77117e18",
   "metadata": {},
   "outputs": [
    {
     "data": {
      "text/plain": [
       "num_identity (generic function with 1 method)"
      ]
     },
     "execution_count": 5,
     "metadata": {},
     "output_type": "execute_result"
    }
   ],
   "source": [
    "function num_identity(k)\n",
    "    a=zeros(Num,k)\n",
    "    a[1]=1\n",
    "    for i in 2:k\n",
    "        b=zeros(Num,k)\n",
    "        b[i]=1\n",
    "        a=[a b] \n",
    "    end\n",
    "    return a\n",
    "end\n",
    "# I_mat=num_identity(4)\n",
    "# I_mat[1,1]=x[2]*x[3]+x[1]\n",
    "# I_mat\n"
   ]
  },
  {
   "cell_type": "code",
   "execution_count": 74,
   "id": "015bc7f3",
   "metadata": {},
   "outputs": [
    {
     "data": {
      "text/latex": [
       "$$ \\begin{equation}\n",
       "\\left[\n",
       "\\begin{array}{ccccc}\n",
       "1 & 4 x_{2 1} + x_{1 3} x_{2 2} x_{2 4} + 3 x_5 x_{1 6} x_{2 7} & \\left( 4 x_{1 9} + 5 x_{1 1} x_{1 2} x_{1 8} + x_{2 2} \\right) \\left( 4 x_{2 1} + x_{1 3} x_{2 2} x_{2 4} + 3 x_5 x_{1 6} x_{2 7} \\right) + 5 x_{2 2}^{2} x_8 + 2 x_2 x_{1 8} x_{2 4} + x_{2 4} & 3 x_7 + \\left( 2 x_2 + 3 x_{2 0} x_{2 2} + 4 x_8 x_{1 6} x_{2 7} \\right) \\left( \\left( 4 x_{1 9} + 5 x_{1 1} x_{1 2} x_{1 8} + x_{2 2} \\right) \\left( 4 x_{2 1} + x_{1 3} x_{2 2} x_{2 4} + 3 x_5 x_{1 6} x_{2 7} \\right) + 5 x_{2 2}^{2} x_8 + 2 x_2 x_{1 8} x_{2 4} + x_{2 4} \\right) + \\left( 2 x_6 x_{3 1} + x_{1 1} x_{1 8} x_{2 9} + 4 x_{1 4} x_{2 7} x_{3 0} \\right) \\left( 4 x_{2 1} + x_{1 3} x_{2 2} x_{2 4} + 3 x_5 x_{1 6} x_{2 7} \\right) + 2 x_6 x_{1 9} + 4 x_{1 0} x_{2 3} x_{2 5} & \\left( 3 x_{2 3} + 3 x_6 x_{2 5} + 2 x_3 x_4 x_{2 8} \\right) \\left( 4 x_{2 1} + x_{1 3} x_{2 2} x_{2 4} + 3 x_5 x_{1 6} x_{2 7} \\right) + \\left( x_{1 5} x_{3 0} + 4 x_2 x_3 x_{3 0} + 5 x_6 x_{1 3} x_{3 2} \\right) \\left( 3 x_7 + \\left( 2 x_2 + 3 x_{2 0} x_{2 2} + 4 x_8 x_{1 6} x_{2 7} \\right) \\left( \\left( 4 x_{1 9} + 5 x_{1 1} x_{1 2} x_{1 8} + x_{2 2} \\right) \\left( 4 x_{2 1} + x_{1 3} x_{2 2} x_{2 4} + 3 x_5 x_{1 6} x_{2 7} \\right) + 5 x_{2 2}^{2} x_8 + 2 x_2 x_{1 8} x_{2 4} + x_{2 4} \\right) + \\left( 2 x_6 x_{3 1} + x_{1 1} x_{1 8} x_{2 9} + 4 x_{1 4} x_{2 7} x_{3 0} \\right) \\left( 4 x_{2 1} + x_{1 3} x_{2 2} x_{2 4} + 3 x_5 x_{1 6} x_{2 7} \\right) + 2 x_6 x_{1 9} + 4 x_{1 0} x_{2 3} x_{2 5} \\right) + \\left( 3 x_5 x_{1 1} + 5 x_{1 7} x_{2 0} + 5 x_1 x_{1 9} x_{2 1} \\right) \\left( \\left( 4 x_{1 9} + 5 x_{1 1} x_{1 2} x_{1 8} + x_{2 2} \\right) \\left( 4 x_{2 1} + x_{1 3} x_{2 2} x_{2 4} + 3 x_5 x_{1 6} x_{2 7} \\right) + 5 x_{2 2}^{2} x_8 + 2 x_2 x_{1 8} x_{2 4} + x_{2 4} \\right) + x_1 x_{1 3} + 4 x_6 x_{3 1} + 2 x_8 x_{1 6} x_{2 7} \\\\\n",
       "0 & 1 & 4 x_{1 9} + 5 x_{1 1} x_{1 2} x_{1 8} + x_{2 2} & \\left( 2 x_2 + 3 x_{2 0} x_{2 2} + 4 x_8 x_{1 6} x_{2 7} \\right) \\left( 4 x_{1 9} + 5 x_{1 1} x_{1 2} x_{1 8} + x_{2 2} \\right) + 2 x_6 x_{3 1} + x_{1 1} x_{1 8} x_{2 9} + 4 x_{1 4} x_{2 7} x_{3 0} & \\left( 3 x_5 x_{1 1} + 5 x_{1 7} x_{2 0} + 5 x_1 x_{1 9} x_{2 1} \\right) \\left( 4 x_{1 9} + 5 x_{1 1} x_{1 2} x_{1 8} + x_{2 2} \\right) + 3 x_{2 3} + \\left( x_{1 5} x_{3 0} + 4 x_2 x_3 x_{3 0} + 5 x_6 x_{1 3} x_{3 2} \\right) \\left( \\left( 2 x_2 + 3 x_{2 0} x_{2 2} + 4 x_8 x_{1 6} x_{2 7} \\right) \\left( 4 x_{1 9} + 5 x_{1 1} x_{1 2} x_{1 8} + x_{2 2} \\right) + 2 x_6 x_{3 1} + x_{1 1} x_{1 8} x_{2 9} + 4 x_{1 4} x_{2 7} x_{3 0} \\right) + 3 x_6 x_{2 5} + 2 x_3 x_4 x_{2 8} \\\\\n",
       "0 & 0 & 1 & 2 x_2 + 3 x_{2 0} x_{2 2} + 4 x_8 x_{1 6} x_{2 7} & \\left( x_{1 5} x_{3 0} + 4 x_2 x_3 x_{3 0} + 5 x_6 x_{1 3} x_{3 2} \\right) \\left( 2 x_2 + 3 x_{2 0} x_{2 2} + 4 x_8 x_{1 6} x_{2 7} \\right) + 3 x_5 x_{1 1} + 5 x_{1 7} x_{2 0} + 5 x_1 x_{1 9} x_{2 1} \\\\\n",
       "0 & 0 & 0 & 1 & x_{1 5} x_{3 0} + 4 x_2 x_3 x_{3 0} + 5 x_6 x_{1 3} x_{3 2} \\\\\n",
       "0 & 0 & 0 & 0 & 1 \\\\\n",
       "\\end{array}\n",
       "\\right]\n",
       "\\end{equation}\n",
       " $$"
      ],
      "text/plain": [
       "5×5 Matrix{Num}:\n",
       " 1  …  (3x[23] + 3x[6]*x[25] + 2x[3]*x[4]*x[28])*(4x[21] + x[13]*x[22]*x[24] + 3x[5]*x[16]*x[27]) + (x[15]*x[30] + 4x[2]*x[3]*x[30] + 5x[6]*x[13]*x[32])*(3x[7] + (2x[2] + 3x[20]*x[22] + 4x[8]*x[16]*x[27])*((4x[19] + 5x[11]*x[12]*x[18] + x[22])*(4x[21] + x[13]*x[22]*x[24] + 3x[5]*x[16]*x[27]) + 5(x[22]^2)*x[8] + 2x[2]*x[18]*x[24] + x[24]) + (2x[6]*x[31] + x[11]*x[18]*x[29] + 4x[14]*x[27]*x[30])*(4x[21] + x[13]*x[22]*x[24] + 3x[5]*x[16]*x[27]) + 2x[6]*x[19] + 4x[10]*x[23]*x[25]) + (3x[5]*x[11] + 5x[17]*x[20] + 5x[1]*x[19]*x[21])*((4x[19] + 5x[11]*x[12]*x[18] + x[22])*(4x[21] + x[13]*x[22]*x[24] + 3x[5]*x[16]*x[27]) + 5(x[22]^2)*x[8] + 2x[2]*x[18]*x[24] + x[24]) + x[1]*x[13] + 4x[6]*x[31] + 2x[8]*x[16]*x[27]\n",
       " 0                                                                                                                                                                                                                                                                                                                                                                                                       (3x[5]*x[11] + 5x[17]*x[20] + 5x[1]*x[19]*x[21])*(4x[19] + 5x[11]*x[12]*x[18] + x[22]) + 3x[23] + (x[15]*x[30] + 4x[2]*x[3]*x[30] + 5x[6]*x[13]*x[32])*((2x[2] + 3x[20]*x[22] + 4x[8]*x[16]*x[27])*(4x[19] + 5x[11]*x[12]*x[18] + x[22]) + 2x[6]*x[31] + x[11]*x[18]*x[29] + 4x[14]*x[27]*x[30]) + 3x[6]*x[25] + 2x[3]*x[4]*x[28]\n",
       " 0                                                                                                                                                                                                                                                                                                                                                                                                                                                                                                                                                                                        (x[15]*x[30] + 4x[2]*x[3]*x[30] + 5x[6]*x[13]*x[32])*(2x[2] + 3x[20]*x[22] + 4x[8]*x[16]*x[27]) + 3x[5]*x[11] + 5x[17]*x[20] + 5x[1]*x[19]*x[21]\n",
       " 0                                                                                                                                                                                                                                                                                                                                                                                                                                                                                                                                                                                                                                                                                      x[15]*x[30] + 4x[2]*x[3]*x[30] + 5x[6]*x[13]*x[32]\n",
       " 0                                                                                                                                                                                                                                                                                                                                                                                                                                                                                                                                                                                                                                                                                                                                       1"
      ]
     },
     "execution_count": 74,
     "metadata": {},
     "output_type": "execute_result"
    }
   ],
   "source": [
    "function generate_U(k,n,t,B,q)\n",
    "    Es=[]\n",
    "    for i in 1:(k-1)\n",
    "        for j in (i+1):k\n",
    "            I_matrix=num_identity(k)\n",
    "            I_matrix[i,j]=sparse_polynomial(n,t,B,q)\n",
    "            push!(Es,I_matrix)\n",
    "        end\n",
    "    end\n",
    "#     I_matrix=num_identity(k)#generate a k by k identity matrix\n",
    "#     for i in 1:Int((k*k-k)/2)\n",
    "#     b=rand(2:k)\n",
    "#     a=rand(1:(b-1))\n",
    "#     I_matrix[a,b]=sparse_polynomial(n,t,B,q)\n",
    "#     end\n",
    "\n",
    "    return Es\n",
    "end \n",
    "U=generate_U(5,32,3,3,6)\n",
    "\n",
    "\n",
    "res_U=U[1]\n",
    "for i in 2:Int(size(U)[1])\n",
    "    res_U=res_U*U[i]\n",
    "end\n",
    "res_U\n",
    "# simplify.(expand.(res_U))\n",
    "# simplify.(expand.(res_U*expand.(inv(res_U))))\n"
   ]
  },
  {
   "cell_type": "code",
   "execution_count": 514,
   "id": "23bcf820",
   "metadata": {},
   "outputs": [
    {
     "data": {
      "text/latex": [
       "$$ \\begin{equation}\n",
       "\\left[\n",
       "\\begin{array}{ccc}\n",
       "1 & 3 x_{1 5} x_{2 9} + 5 x_{2 8} x_{3 0} + x_{2 2} & \\left( x_{2 2} x_{2 8} + x_1 x_8 x_{2 7} + 3 x_{1 8} x_{2 1} \\right) \\left( 3 x_{1 5} x_{2 9} + 5 x_{2 8} x_{3 0} + x_{2 2} \\right) + 2 x_8 + x_3 x_8 x_{1 3} + 4 x_{2 1} x_{3 1} \\\\\n",
       "0 & 1 & x_{2 2} x_{2 8} + x_1 x_8 x_{2 7} + 3 x_{1 8} x_{2 1} \\\\\n",
       "0 & 0 & 1 \\\\\n",
       "\\end{array}\n",
       "\\right]\n",
       "\\end{equation}\n",
       " $$"
      ],
      "text/plain": [
       "3×3 Matrix{Num}:\n",
       " 1  …  (x[22]*x[28] + x[1]*x[8]*x[27] + 3x[18]*x[21])*(3x[15]*x[29] + 5x[28]*x[30] + x[22]) + 2x[8] + x[3]*x[8]*x[13] + 4x[21]*x[31]\n",
       " 0                                                                                      x[22]*x[28] + x[1]*x[8]*x[27] + 3x[18]*x[21]\n",
       " 0                                                                                                                                 1"
      ]
     },
     "execution_count": 514,
     "metadata": {},
     "output_type": "execute_result"
    }
   ],
   "source": [
    "# U[1]*U[2]*U[3]"
   ]
  },
  {
   "cell_type": "code",
   "execution_count": 75,
   "id": "d0fb016f",
   "metadata": {},
   "outputs": [
    {
     "data": {
      "text/latex": [
       "$$ \\begin{equation}\n",
       "\\left[\n",
       "\\begin{array}{ccccc}\n",
       "1.0 &  - 4 x_{2 1} - 3 x_5 x_{1 6} x_{2 7} - x_{1 3} x_{2 2} x_{2 4} &  - x_{2 4} - 5 x_{2 2}^{2} x_8 - 2 x_2 x_{1 8} x_{2 4} &  - 3 x_7 - 2 x_6 x_{1 9} - 4 x_{1 0} x_{2 3} x_{2 5} &  - x_1 x_{1 3} - 4 x_6 x_{3 1} - 2 x_8 x_{1 6} x_{2 7} \\\\\n",
       "0.0 & 1.0 &  - x_{2 2} - 4 x_{1 9} - 5 x_{1 1} x_{1 2} x_{1 8} &  - 2 x_6 x_{3 1} - x_{1 1} x_{1 8} x_{2 9} - 4 x_{1 4} x_{2 7} x_{3 0} &  - 3 x_{2 3} - 3 x_6 x_{2 5} - 2 x_3 x_4 x_{2 8} \\\\\n",
       "0.0 & 0.0 & 1.0 &  - 2 x_2 - 3 x_{2 0} x_{2 2} - 4 x_8 x_{1 6} x_{2 7} &  - 3 x_5 x_{1 1} - 5 x_{1 7} x_{2 0} - 5 x_1 x_{1 9} x_{2 1} \\\\\n",
       "0.0 & 0.0 & 0.0 & 1.0 &  - x_{1 5} x_{3 0} - 4 x_2 x_3 x_{3 0} - 5 x_6 x_{1 3} x_{3 2} \\\\\n",
       "0.0 & 0.0 & 0.0 & 0.0 & 1.0 \\\\\n",
       "\\end{array}\n",
       "\\right]\n",
       "\\end{equation}\n",
       " $$"
      ],
      "text/plain": [
       "5×5 Matrix{Num}:\n",
       " 1.0  …        -x[1]*x[13] - 4x[6]*x[31] - 2x[8]*x[16]*x[27]\n",
       " 0.0                -3x[23] - 3x[6]*x[25] - 2x[3]*x[4]*x[28]\n",
       " 0.0         -3x[5]*x[11] - 5x[17]*x[20] - 5x[1]*x[19]*x[21]\n",
       " 0.0     -x[15]*x[30] - 4x[2]*x[3]*x[30] - 5x[6]*x[13]*x[32]\n",
       " 0.0                                                       1.0"
      ]
     },
     "execution_count": 75,
     "metadata": {},
     "output_type": "execute_result"
    }
   ],
   "source": [
    "uSize=Int(size(U)[1])\n",
    "invU=inv(U[uSize])\n",
    "for i in 1:(uSize-1)\n",
    "    invU=invU*inv(U[uSize-i])\n",
    "end\n",
    "invU"
   ]
  },
  {
   "cell_type": "code",
   "execution_count": 76,
   "id": "d94e6f15",
   "metadata": {},
   "outputs": [
    {
     "data": {
      "text/latex": [
       "$$ \\begin{equation}\n",
       "\\left[\n",
       "\\begin{array}{ccccc}\n",
       "1.0 & 0 & 0 & 0 & 0 \\\\\n",
       "0.0 & 1.0 & 0 & 0 & 0 \\\\\n",
       "0.0 & 0.0 & 1.0 & 0 & 0 \\\\\n",
       "0.0 & 0.0 & 0.0 & 1.0 & 0 \\\\\n",
       "0.0 & 0.0 & 0.0 & 0.0 & 1.0 \\\\\n",
       "\\end{array}\n",
       "\\right]\n",
       "\\end{equation}\n",
       " $$"
      ],
      "text/plain": [
       "5×5 Matrix{Num}:\n",
       " 1.0  0    0    0    0\n",
       " 0.0  1.0  0    0    0\n",
       " 0.0  0.0  1.0  0    0\n",
       " 0.0  0.0  0.0  1.0  0\n",
       " 0.0  0.0  0.0  0.0  1.0"
      ]
     },
     "execution_count": 76,
     "metadata": {},
     "output_type": "execute_result"
    }
   ],
   "source": [
    "simplify.(expand.(invU*res_U))"
   ]
  },
  {
   "cell_type": "code",
   "execution_count": 77,
   "id": "4bad2225",
   "metadata": {},
   "outputs": [
    {
     "data": {
      "text/latex": [
       "$$ \\begin{equation}\n",
       "\\left[\n",
       "\\begin{array}{ccccc}\n",
       "1.0 & 0 & 0 & 0 & 0 \\\\\n",
       "0.0 & 1.0 & 0 & 0 & 0 \\\\\n",
       "0.0 & 0.0 & 1.0 & 0 & 0 \\\\\n",
       "0.0 & 0.0 & 0.0 & 1.0 & 0 \\\\\n",
       "0.0 & 0.0 & 0.0 & 0.0 & 1.0 \\\\\n",
       "\\end{array}\n",
       "\\right]\n",
       "\\end{equation}\n",
       " $$"
      ],
      "text/plain": [
       "5×5 Matrix{Num}:\n",
       " 1.0  0    0    0    0\n",
       " 0.0  1.0  0    0    0\n",
       " 0.0  0.0  1.0  0    0\n",
       " 0.0  0.0  0.0  1.0  0\n",
       " 0.0  0.0  0.0  0.0  1.0"
      ]
     },
     "execution_count": 77,
     "metadata": {},
     "output_type": "execute_result"
    }
   ],
   "source": [
    "res_U=modify_matrix_coef(res_U,6)\n",
    "invU=modify_matrix_coef(invU,6)\n",
    "modify_matrix_coef(res_U*invU,6)"
   ]
  },
  {
   "cell_type": "code",
   "execution_count": 79,
   "id": "e09eb890",
   "metadata": {},
   "outputs": [
    {
     "data": {
      "text/latex": [
       "$$ \\begin{equation}\n",
       "\\left[\n",
       "\\begin{array}{ccccc}\n",
       "1 & 0 & 0 & 0 & 0 \\\\\n",
       "3 x_{1 1} + 5 x_{1 7} x_{3 1} + x_3 & 1 & 0 & 0 & 0 \\\\\n",
       "2 x_2 x_7 + 2 x_{1 4} x_{2 4} x_{2 9} + x_{2 5} & 3 x_{1 2} x_{1 3} x_{1 4} + x_{1 9} + x_{2 2} & 1 & 0 & 0 \\\\\n",
       "2 x_{1 3} + x_{1 4}^{2} + 5 x_{1 1} x_{2 7} & 3 x_{1 3} + 3 x_{1 4} + 5 x_5 x_9 x_{2 4} & x_7^{2} + 2 x_{1 7} + 3 x_2 x_{1 3} x_{2 5} & 1 & 0 \\\\\n",
       "4 x_{1 8} + 4 x_{2 5} + 3 x_{1 3} x_{2 1} x_{2 2} & 3 x_{2 1} x_{3 0} + 4 x_1 x_{1 5} + x_4 x_{1 9} x_{2 8} & 3 x_{2 8} + 5 x_{2 7} + 3 x_{1 0} x_{1 8} x_{2 6} & x_{2 2} x_{2 6} + 4 x_8 x_{1 4} + 5 x_{1 7} x_{1 9} x_{2 1} & 1 \\\\\n",
       "\\end{array}\n",
       "\\right]\n",
       "\\end{equation}\n",
       " $$"
      ],
      "text/plain": [
       "5×5 Matrix{Num}:\n",
       "                                       1  …  0\n",
       "            3x[11] + 5x[17]*x[31] + x[3]     0\n",
       " 2x[2]*x[7] + 2x[14]*x[24]*x[29] + x[25]     0\n",
       "         2x[13] + x[14]^2 + 5x[11]*x[27]     0\n",
       "    4x[18] + 4x[25] + 3x[13]*x[21]*x[22]     1"
      ]
     },
     "execution_count": 79,
     "metadata": {},
     "output_type": "execute_result"
    }
   ],
   "source": [
    "function generate_L(k,n,t,B,q)\n",
    "    Es=[]\n",
    "    for i in 2:k\n",
    "        for j in 1:(i-1)\n",
    "            I_matrix=num_identity(k)\n",
    "            I_matrix[i,j]=sparse_polynomial(n,t,B,q)\n",
    "            push!(Es,I_matrix)\n",
    "        end\n",
    "    end\n",
    "#     I_matrix=num_identity(k)#generate a k by k identity matrix\n",
    "#     for i in 1:Int((k*k-k)/2)\n",
    "#         a=rand(2:k)\n",
    "#         b=rand(1:a-1)\n",
    "#         I_matrix[a,b]=sparse_polynomial(n,t,B,q)\n",
    "#     end\n",
    "\n",
    "    return Es\n",
    "end\n",
    "\n",
    "L=generate_L(5,32,3,3,6)\n",
    "\n",
    "res_L=L[1]\n",
    "for i in 2:Int(size(L)[1])\n",
    "    res_L=res_L*L[i]\n",
    "end\n",
    "res_L\n",
    "# simplify.(expand.(inv(L)))\n"
   ]
  },
  {
   "cell_type": "code",
   "execution_count": 520,
   "id": "a2ebc1a7",
   "metadata": {},
   "outputs": [
    {
     "data": {
      "text/latex": [
       "$$ \\begin{equation}\n",
       "\\left[\n",
       "\\begin{array}{ccc}\n",
       "1 & 0 & 0 \\\\\n",
       "2 x_{1 1} x_{3 0} + x_{1 4} x_{2 9} x_{4 4} + 5 x_{2 6} x_{3 1} x_{3 6} & 1 & 0 \\\\\n",
       "4 x_{3 8} + 2 x_{3 1} x_{4 4} x_{5 0} + x_{1 3} & 3 x_1 + 5 x_{3 6} + 2 x_2 x_{3 1} & 1 \\\\\n",
       "\\end{array}\n",
       "\\right]\n",
       "\\end{equation}\n",
       " $$"
      ],
      "text/plain": [
       "3×3 Matrix{Num}:\n",
       "                                                     1  …                             0  0\n",
       " 2x[11]*x[30] + x[14]*x[29]*x[44] + 5x[26]*x[31]*x[36]                                1  0\n",
       "                   4x[38] + 2x[31]*x[44]*x[50] + x[13]     3x[1] + 5x[36] + 2x[2]*x[31]  1"
      ]
     },
     "execution_count": 520,
     "metadata": {},
     "output_type": "execute_result"
    }
   ],
   "source": [
    "# L[1]*L[2]*L[3]"
   ]
  },
  {
   "cell_type": "code",
   "execution_count": 80,
   "id": "b10b41f3",
   "metadata": {},
   "outputs": [
    {
     "data": {
      "text/latex": [
       "$$ \\begin{equation}\n",
       "\\left[\n",
       "\\begin{array}{ccccc}\n",
       "1.0 & 0.0 & 0.0 & 0.0 & 0.0 \\\\\n",
       " - x_3 - 3 x_{1 1} - 5 x_{1 7} x_{3 1} & 1.0 & 0.0 & 0.0 & 0.0 \\\\\n",
       "\\left(  - x_3 - 3 x_{1 1} - 5 x_{1 7} x_{3 1} \\right) \\left(  - x_{1 9} - x_{2 2} - 3 x_{1 2} x_{1 3} x_{1 4} \\right) - x_{2 5} - 2 x_2 x_7 - 2 x_{1 4} x_{2 4} x_{2 9} &  - x_{1 9} - x_{2 2} - 3 x_{1 2} x_{1 3} x_{1 4} & 1.0 & 0.0 & 0.0 \\\\\n",
       " - x_{1 4}^{2} + \\left(  - x_3 - 3 x_{1 1} - 5 x_{1 7} x_{3 1} \\right) \\left( \\left(  - x_{1 9} - x_{2 2} - 3 x_{1 2} x_{1 3} x_{1 4} \\right) \\left(  - x_7^{2} - 2 x_{1 7} - 3 x_2 x_{1 3} x_{2 5} \\right) - 3 x_{1 3} - 3 x_{1 4} - 5 x_5 x_9 x_{2 4} \\right) + \\left(  - x_{2 5} - 2 x_2 x_7 - 2 x_{1 4} x_{2 4} x_{2 9} \\right) \\left(  - x_7^{2} - 2 x_{1 7} - 3 x_2 x_{1 3} x_{2 5} \\right) - 2 x_{1 3} - 5 x_{1 1} x_{2 7} & \\left(  - x_{1 9} - x_{2 2} - 3 x_{1 2} x_{1 3} x_{1 4} \\right) \\left(  - x_7^{2} - 2 x_{1 7} - 3 x_2 x_{1 3} x_{2 5} \\right) - 3 x_{1 3} - 3 x_{1 4} - 5 x_5 x_9 x_{2 4} &  - x_7^{2} - 2 x_{1 7} - 3 x_2 x_{1 3} x_{2 5} & 1.0 & 0.0 \\\\\n",
       " - 4 x_{1 8} + \\left(  - x_3 - 3 x_{1 1} - 5 x_{1 7} x_{3 1} \\right) \\left( \\left(  - x_{1 9} - x_{2 2} - 3 x_{1 2} x_{1 3} x_{1 4} \\right) \\left( \\left(  - x_{2 2} x_{2 6} - 4 x_8 x_{1 4} - 5 x_{1 7} x_{1 9} x_{2 1} \\right) \\left(  - x_7^{2} - 2 x_{1 7} - 3 x_2 x_{1 3} x_{2 5} \\right) - 3 x_{2 8} - 5 x_{2 7} - 3 x_{1 0} x_{1 8} x_{2 6} \\right) + \\left(  - x_{2 2} x_{2 6} - 4 x_8 x_{1 4} - 5 x_{1 7} x_{1 9} x_{2 1} \\right) \\left(  - 3 x_{1 3} - 3 x_{1 4} - 5 x_5 x_9 x_{2 4} \\right) - 3 x_{2 1} x_{3 0} - 4 x_1 x_{1 5} - x_4 x_{1 9} x_{2 8} \\right) - 4 x_{2 5} + \\left(  - x_{1 4}^{2} - 2 x_{1 3} - 5 x_{1 1} x_{2 7} \\right) \\left(  - x_{2 2} x_{2 6} - 4 x_8 x_{1 4} - 5 x_{1 7} x_{1 9} x_{2 1} \\right) + \\left(  - x_{2 5} - 2 x_2 x_7 - 2 x_{1 4} x_{2 4} x_{2 9} \\right) \\left( \\left(  - x_{2 2} x_{2 6} - 4 x_8 x_{1 4} - 5 x_{1 7} x_{1 9} x_{2 1} \\right) \\left(  - x_7^{2} - 2 x_{1 7} - 3 x_2 x_{1 3} x_{2 5} \\right) - 3 x_{2 8} - 5 x_{2 7} - 3 x_{1 0} x_{1 8} x_{2 6} \\right) - 3 x_{1 3} x_{2 1} x_{2 2} & \\left(  - x_{1 9} - x_{2 2} - 3 x_{1 2} x_{1 3} x_{1 4} \\right) \\left( \\left(  - x_{2 2} x_{2 6} - 4 x_8 x_{1 4} - 5 x_{1 7} x_{1 9} x_{2 1} \\right) \\left(  - x_7^{2} - 2 x_{1 7} - 3 x_2 x_{1 3} x_{2 5} \\right) - 3 x_{2 8} - 5 x_{2 7} - 3 x_{1 0} x_{1 8} x_{2 6} \\right) + \\left(  - x_{2 2} x_{2 6} - 4 x_8 x_{1 4} - 5 x_{1 7} x_{1 9} x_{2 1} \\right) \\left(  - 3 x_{1 3} - 3 x_{1 4} - 5 x_5 x_9 x_{2 4} \\right) - 3 x_{2 1} x_{3 0} - 4 x_1 x_{1 5} - x_4 x_{1 9} x_{2 8} & \\left(  - x_{2 2} x_{2 6} - 4 x_8 x_{1 4} - 5 x_{1 7} x_{1 9} x_{2 1} \\right) \\left(  - x_7^{2} - 2 x_{1 7} - 3 x_2 x_{1 3} x_{2 5} \\right) - 3 x_{2 8} - 5 x_{2 7} - 3 x_{1 0} x_{1 8} x_{2 6} &  - x_{2 2} x_{2 6} - 4 x_8 x_{1 4} - 5 x_{1 7} x_{1 9} x_{2 1} & 1.0 \\\\\n",
       "\\end{array}\n",
       "\\right]\n",
       "\\end{equation}\n",
       " $$"
      ],
      "text/plain": [
       "5×5 Matrix{Num}:\n",
       "                                                                                                                                                                                                                                                                                                                                                                                                                                                                                                                                                                                                                                                                      1.0  …  0.0\n",
       "                                                                                                                                                                                                                                                                                                                                                                                                                                                                                                                                                                                                                                          -x[3] - 3x[11] - 5x[17]*x[31]       0.0\n",
       "                                                                                                                                                                                                                                                                                                                                                                                                                                                                                                                                                        (-x[3] - 3x[11] - 5x[17]*x[31])*(-x[19] - x[22] - 3x[12]*x[13]*x[14]) - x[25] - 2x[2]*x[7] - 2x[14]*x[24]*x[29]       0.0\n",
       "                                                                                                                                                                                                                                                                                                                                                                                        (-x[3] - 3x[11] - 5x[17]*x[31])*((-x[19] - x[22] - 3x[12]*x[13]*x[14])*(-(x[7]^2) - 2x[17] - 3x[2]*x[13]*x[25]) - 3x[13] - 3x[14] - 5x[5]*x[9]*x[24]) + (-x[25] - 2x[2]*x[7] - 2x[14]*x[24]*x[29])*(-(x[7]^2) - 2x[17] - 3x[2]*x[13]*x[25]) - (x[14]^2) - 2x[13] - 5x[11]*x[27]       0.0\n",
       " (-x[3] - 3x[11] - 5x[17]*x[31])*((-x[19] - x[22] - 3x[12]*x[13]*x[14])*((-x[22]*x[26] - 4x[8]*x[14] - 5x[17]*x[19]*x[21])*(-(x[7]^2) - 2x[17] - 3x[2]*x[13]*x[25]) - 3x[28] - 5x[27] - 3x[10]*x[18]*x[26]) + (-x[22]*x[26] - 4x[8]*x[14] - 5x[17]*x[19]*x[21])*(-3x[13] - 3x[14] - 5x[5]*x[9]*x[24]) - 3x[21]*x[30] - 4x[1]*x[15] - x[4]*x[19]*x[28]) + (-(x[14]^2) - 2x[13] - 5x[11]*x[27])*(-x[22]*x[26] - 4x[8]*x[14] - 5x[17]*x[19]*x[21]) + (-x[25] - 2x[2]*x[7] - 2x[14]*x[24]*x[29])*((-x[22]*x[26] - 4x[8]*x[14] - 5x[17]*x[19]*x[21])*(-(x[7]^2) - 2x[17] - 3x[2]*x[13]*x[25]) - 3x[28] - 5x[27] - 3x[10]*x[18]*x[26]) - 4x[18] - 4x[25] - 3x[13]*x[21]*x[22]       1.0"
      ]
     },
     "execution_count": 80,
     "metadata": {},
     "output_type": "execute_result"
    }
   ],
   "source": [
    "lSize=Int(size(L)[1])\n",
    "invL=inv(L[lSize])\n",
    "for i in 1:(lSize-1)\n",
    "    invL=invL*inv(L[lSize-i])\n",
    "end\n",
    "invL"
   ]
  },
  {
   "cell_type": "code",
   "execution_count": 81,
   "id": "f98b7b5e",
   "metadata": {},
   "outputs": [
    {
     "data": {
      "text/latex": [
       "$$ \\begin{equation}\n",
       "\\left[\n",
       "\\begin{array}{ccccc}\n",
       "1.0 & 0.0 & 0.0 & 0.0 & 0.0 \\\\\n",
       "0.0 & 1.0 & 0.0 & 0.0 & 0.0 \\\\\n",
       "0 & 0.0 & 1.0 & 0.0 & 0.0 \\\\\n",
       "0 & 0 & 0.0 & 1.0 & 0.0 \\\\\n",
       "0 & 0 & 0 & 0 & 1.0 \\\\\n",
       "\\end{array}\n",
       "\\right]\n",
       "\\end{equation}\n",
       " $$"
      ],
      "text/plain": [
       "5×5 Matrix{Num}:\n",
       " 1.0  0.0  0.0  0.0  0.0\n",
       " 0.0  1.0  0.0  0.0  0.0\n",
       " 0    0.0  1.0  0.0  0.0\n",
       " 0    0    0.0  1.0  0.0\n",
       " 0    0    0    0    1.0"
      ]
     },
     "execution_count": 81,
     "metadata": {},
     "output_type": "execute_result"
    }
   ],
   "source": [
    "simplify.(expand.(invL*res_L))"
   ]
  },
  {
   "cell_type": "code",
   "execution_count": 82,
   "id": "a55437d6",
   "metadata": {},
   "outputs": [
    {
     "data": {
      "text/latex": [
       "$$ \\begin{equation}\n",
       "\\left[\n",
       "\\begin{array}{ccccc}\n",
       "1.0 & 0.0 & 0.0 & 0.0 & 0.0 \\\\\n",
       "0 & 1.0 & 0.0 & 0.0 & 0.0 \\\\\n",
       "0 & 0 & 1.0 & 0.0 & 0.0 \\\\\n",
       "0 & 0 & 0 & 1.0 & 0.0 \\\\\n",
       "0 & 0 & 0 & 0 & 1.0 \\\\\n",
       "\\end{array}\n",
       "\\right]\n",
       "\\end{equation}\n",
       " $$"
      ],
      "text/plain": [
       "5×5 Matrix{Num}:\n",
       " 1.0  0.0  0.0  0.0  0.0\n",
       " 0    1.0  0.0  0.0  0.0\n",
       " 0    0    1.0  0.0  0.0\n",
       " 0    0    0    1.0  0.0\n",
       " 0    0    0    0    1.0"
      ]
     },
     "execution_count": 82,
     "metadata": {},
     "output_type": "execute_result"
    }
   ],
   "source": [
    "res_L=modify_matrix_coef(res_L,6)\n",
    "invL=modify_matrix_coef(invL,6)\n",
    "modify_matrix_coef(res_L*invL,6)"
   ]
  },
  {
   "cell_type": "code",
   "execution_count": 568,
   "id": "50d50f63",
   "metadata": {},
   "outputs": [
    {
     "data": {
      "text/latex": [
       "$$ \\begin{equation}\n",
       "\\left[\n",
       "\\begin{array}{cc}\n",
       "2 x_{1 3}^{2} x_1^{2} x_7 + 3 x_{2 3} x_{2 5} x_{4 1} + 3 x_{2 3} x_{3 7} x_{4 2} + x_{1 3}^{2} x_1 x_{3 7} x_{4 2} + 3 x_{1 3}^{2} x_1 x_{2 5} x_{4 1} + 3 x_{1 3}^{2} x_{2 5} x_{3 1} x_{4 1} + 3 x_{1 3}^{2} x_{3 1} x_{3 7} x_{4 2} & 3 x_{2 3} + 3 x_{1 3}^{2} x_{3 1} + 5 x_{1 3}^{2} x_1 \\\\\n",
       "3 x_{2 5} x_{4 1} + 4 x_1 x_7 + 5 x_{3 7} x_{4 2} & 1 \\\\\n",
       "\\end{array}\n",
       "\\right]\n",
       "\\end{equation}\n",
       " $$"
      ],
      "text/plain": [
       "2×2 Matrix{Num}:\n",
       " 2(x[1]^2)*(x[13]^2)*x[7] + 3x[23]*x[25]*x[41] + 3x[23]*x[37]*x[42] + (x[13]^2)*x[1]*x[37]*x[42] + 3(x[13]^2)*x[1]*x[25]*x[41] + 3(x[13]^2)*x[25]*x[31]*x[41] + 3(x[13]^2)*x[31]*x[37]*x[42]  …  3x[23] + 3(x[13]^2)*x[31] + 5(x[13]^2)*x[1]\n",
       "                                                                                                                                                    3x[25]*x[41] + 4x[1]*x[7] + 5x[37]*x[42]                                               1"
      ]
     },
     "execution_count": 568,
     "metadata": {},
     "output_type": "execute_result"
    }
   ],
   "source": []
  },
  {
   "cell_type": "code",
   "execution_count": 592,
   "id": "6e57df17",
   "metadata": {},
   "outputs": [
    {
     "data": {
      "text/latex": [
       "$$ \\begin{equation}\n",
       "\\left[\n",
       "\\begin{array}{ccc}\n",
       "0 & x_{1 0} x_{1 5} + x_{1 0} x_{1 2} x_{1 5} + x_6 x_{1 0} x_{2 0} + 2.0 x_9^{2} x_{1 3} x_{1 5} + x_5 x_9 x_{1 0} x_{1 5} + 3.0 x_{3 2}^{2} x_{1 5} x_{2 3} + 2.0 x_9 x_{1 5} x_{3 2} + x_5 x_9 x_{1 0} x_{1 2} x_{1 5} + 2.0 x_6 x_9 x_{2 0} x_{3 2} + 2.0 x_9^{2} x_{1 2} x_{1 3} x_{1 5} + 3.0 x_{3 2}^{2} x_6 x_{2 0} x_{2 3} + 4.0 x_5 x_{1 1} x_{1 5} x_{3 2} + 2.0 x_9 x_{1 2} x_{1 5} x_{3 2} + x_5 x_6 x_9 x_{1 0} x_{2 0} + 2.0 x_5^{2} x_{1 0} x_{1 1} x_{1 5} + 2.0 x_9^{2} x_6 x_{1 3} x_{2 0} + 2.0 x_9 x_{1 3} x_{1 5} x_{2 7} + 2.0 x_{1 5} x_{1 8} x_{2 2} x_{3 2} + x_5 x_{1 0} x_{1 5} x_{1 8} x_{2 2} + 3.0 x_{3 2}^{2} x_{1 2} x_{1 5} x_{2 3} + 2.0 x_5^{2} x_6 x_{1 0} x_{1 1} x_{2 0} + 2.0 x_5^{2} x_{1 0} x_{1 1} x_{1 2} x_{1 5} + x_5 x_6 x_{1 0} x_{1 8} x_{2 0} x_{2 2} + 4.0 x_5 x_6 x_{1 1} x_{2 0} x_{3 2} + 2.0 x_6 x_9 x_{1 3} x_{2 0} x_{2 7} + 2.0 x_9 x_{1 2} x_{1 3} x_{1 5} x_{2 7} + 2.0 x_{1 3} x_{1 5} x_{1 8} x_{2 2} x_{2 7} + 2.0 x_{1 2} x_{1 5} x_{1 8} x_{2 2} x_{3 2} + 2.0 x_6 x_{1 8} x_{2 0} x_{2 2} x_{3 2} + x_5 x_{1 0} x_{1 2} x_{1 5} x_{1 8} x_{2 2} + 4.0 x_5 x_{1 1} x_{1 3} x_{1 5} x_{2 7} + 4.0 x_5 x_{1 1} x_{1 2} x_{1 5} x_{3 2} + 2.0 x_{1 2} x_{1 3} x_{1 5} x_{1 8} x_{2 2} x_{2 7} + 4.0 x_5 x_6 x_{1 1} x_{1 3} x_{2 0} x_{2 7} + 2.0 x_6 x_{1 3} x_{1 8} x_{2 0} x_{2 2} x_{2 7} + 4.0 x_5 x_{1 1} x_{1 2} x_{1 3} x_{1 5} x_{2 7} & x_5 x_9 x_{1 0} + 2.0 x_9 x_{3 2} + 2.0 x_5^{2} x_{1 0} x_{1 1} + 4.0 x_5 x_{1 1} x_{3 2} + x_5 x_{1 0} x_{1 8} x_{2 2} + 2.0 x_9 x_{1 3} x_{2 7} + 2.0 x_{1 8} x_{2 2} x_{3 2} + 2.0 x_{1 3} x_{1 8} x_{2 2} x_{2 7} + 4.0 x_5 x_{1 1} x_{1 3} x_{2 7} \\\\\n",
       "3 x_{1 6} x_{2 1} + 3 x_4 x_{1 5} x_{1 7} + 3 x_4 x_{2 3} x_{3 0} & x_9 x_{1 5} + x_6 x_9 x_{2 0} + x_9 x_{1 2} x_{1 5} + x_{1 5} x_{1 8} x_{2 2} + 2.0 x_5 x_{1 1} x_{1 5} + x_6 x_{1 8} x_{2 0} x_{2 2} + x_{1 2} x_{1 5} x_{1 8} x_{2 2} + 2.0 x_5 x_{1 1} x_{1 2} x_{1 5} + 2.0 x_5 x_6 x_{1 1} x_{2 0} + 3.0 x_5 x_{1 0} x_{1 6} x_{2 1} + 3.0 x_4 x_5 x_{1 0} x_{1 5} x_{1 7} + 3.0 x_4 x_5 x_{1 0} x_{2 3} x_{3 0} & 3.0 x_{1 0} x_{1 6} x_{2 1} + 3.0 x_4 x_{1 0} x_{1 5} x_{1 7} + 3.0 x_{3 2}^{2} x_{1 6} x_{2 1} x_{2 3} + 3.0 x_{3 2}^{2} x_{2 3}^{2} x_4 x_{3 0} + 3.0 x_4 x_{1 0} x_{2 3} x_{3 0} + 3.0 x_{3 2}^{2} x_4 x_{1 5} x_{1 7} x_{2 3} \\\\\n",
       "0 & 5.0 x_{1 5} + 5.0 x_{1 2} x_{1 5} + 5.0 x_6 x_{2 0} & 0.0 \\\\\n",
       "\\end{array}\n",
       "\\right]\n",
       "\\end{equation}\n",
       " $$"
      ],
      "text/plain": [
       "3×3 Matrix{Num}:\n",
       "                                                    0  …  x[5]*x[9]*x[10] + 2.0x[9]*x[32] + 2.0(x[5]^2)*x[10]*x[11] + 4.0x[5]*x[11]*x[32] + x[5]*x[10]*x[18]*x[22] + 2.0x[9]*x[13]*x[27] + 2.0x[18]*x[22]*x[32] + 2.0x[13]*x[18]*x[22]*x[27] + 4.0x[5]*x[11]*x[13]*x[27]\n",
       " 3x[16]*x[21] + 3x[4]*x[15]*x[17] + 3x[4]*x[23]*x[30]                       3.0x[10]*x[16]*x[21] + 3.0x[4]*x[10]*x[15]*x[17] + 3.0(x[32]^2)*x[16]*x[21]*x[23] + 3.0(x[23]^2)*(x[32]^2)*x[4]*x[30] + 3.0x[4]*x[10]*x[23]*x[30] + 3.0(x[32]^2)*x[4]*x[15]*x[17]*x[23]\n",
       "                                                    0                       0.0"
      ]
     },
     "execution_count": 592,
     "metadata": {},
     "output_type": "execute_result"
    }
   ],
   "source": [
    "# res_UL=modify_matrix_coef(res_U,6)*modify_matrix_coef(res_L,6)\n",
    "# res_UL=modify_matrix_coef(res_UL,6)\n",
    "# res_inv=modify_matrix_coef(inv(res_L),6)*modify_matrix_coef(inv(res_U),6)\n",
    "# res_inv=modify_matrix_coef(res_inv,6)\n",
    "\n",
    "res_UL=res_U*res_L\n",
    "res_UL=modify_matrix_coef(res_UL,6)\n",
    "\n",
    "res_inv=inv(res_L)*inv(res_U)\n",
    "res_inv=modify_matrix_coef(res_inv,6)\n",
    "modify_matrix_coef(res_UL*res_inv,6)"
   ]
  },
  {
   "cell_type": "code",
   "execution_count": 578,
   "id": "b66e62af",
   "metadata": {},
   "outputs": [
    {
     "data": {
      "text/latex": [
       "$$ \\begin{equation}\n",
       "\\left[\n",
       "\\begin{array}{cc}\n",
       "1 & 0 \\\\\n",
       "0 & 1.0 \\\\\n",
       "\\end{array}\n",
       "\\right]\n",
       "\\end{equation}\n",
       " $$"
      ],
      "text/plain": [
       "2×2 Matrix{Num}:\n",
       " 1  0\n",
       " 0  1.0"
      ]
     },
     "execution_count": 578,
     "metadata": {},
     "output_type": "execute_result"
    }
   ],
   "source": [
    "# res_UL=res_U*res_L\n",
    "# res_inv=inv(res_L)*inv(res_U)\n",
    "# simplify.(expand.(res_UL*res_inv))\n"
   ]
  },
  {
   "cell_type": "code",
   "execution_count": 593,
   "id": "085a8fdb",
   "metadata": {},
   "outputs": [
    {
     "data": {
      "text/latex": [
       "$$ \\begin{equation}\n",
       "\\left[\n",
       "\\begin{array}{ccc}\n",
       "0.0 & 8.0 & 4.0 \\\\\n",
       "0.0 & 16.0 & 12.0 \\\\\n",
       "0.0 & 4.0 & 6.0 \\\\\n",
       "\\end{array}\n",
       "\\right]\n",
       "\\end{equation}\n",
       " $$"
      ],
      "text/plain": [
       "3×3 Matrix{Num}:\n",
       " 0.0   8.0   4.0\n",
       " 0.0  16.0  12.0\n",
       " 0.0   4.0   6.0"
      ]
     },
     "execution_count": 593,
     "metadata": {},
     "output_type": "execute_result"
    }
   ],
   "source": [
    "#mod does not work for res_UL and res_inv\n",
    "# res_UL=modify_matrix_coef(res_UL,6)\n",
    "# res_inv=modify_matrix_coef(res_inv,6)\n",
    "# modify_matrix_coef(res_UL*res_inv,6)\n",
    "\n",
    "res_UL=substitute.(res_UL, (substitution_dict,))\n",
    "for i in 1:size(res_UL,1)\n",
    "    for j in 1:size(res_UL,2)\n",
    "        res_UL[i,j]=mod(res_UL[i,j],6)\n",
    "    end\n",
    "end\n",
    "res_inv=substitute.(res_inv, (substitution_dict,))\n",
    "for i in 1:size(res_inv,1)\n",
    "    for j in 1:size(res_inv,2)\n",
    "        res_inv[i,j]=mod(res_inv[i,j],6)\n",
    "    end\n",
    "end\n",
    "res_I=res_UL*res_inv\n",
    "res_I"
   ]
  },
  {
   "cell_type": "code",
   "execution_count": 545,
   "id": "dc2a9acf",
   "metadata": {},
   "outputs": [
    {
     "data": {
      "text/latex": [
       "$$ \\begin{equation}\n",
       "\\left[\n",
       "\\begin{array}{cc}\n",
       "1.0 & 3 x_{1 3} + 4 x_{1 0} x_{1 3} + 2 x_{1 5} x_{1 6} x_{2 3} \\\\\n",
       "3 x_8 + 3 x_{2 8}^{2} x_{1 6} + x_{1 9} & 3.0 x_8 x_{1 3} + 3.0 x_{1 3} x_{1 9} + 3.0 x_{2 8}^{2} x_{1 3} x_{1 6} + 4.0 x_{1 0} x_{1 3} x_{1 9} + 2.0 x_{1 5} x_{1 6} x_{1 9} x_{2 3} \\\\\n",
       "\\end{array}\n",
       "\\right]\n",
       "\\end{equation}\n",
       " $$"
      ],
      "text/plain": [
       "2×2 Matrix{Num}:\n",
       "                                1.0  …  3x[13] + 4x[10]*x[13] + 2x[15]*x[16]*x[23]\n",
       " 3x[8] + 3(x[28]^2)*x[16] + x[19]                                                3.0x[8]*x[13] + 3.0x[13]*x[19] + 3.0(x[28]^2)*x[13]*x[16] + 4.0x[10]*x[13]*x[19] + 2.0x[15]*x[16]*x[19]*x[23]"
      ]
     },
     "execution_count": 545,
     "metadata": {},
     "output_type": "execute_result"
    }
   ],
   "source": [
    "res_inv=modify_matrix_coef(res_inv,6)\n"
   ]
  },
  {
   "cell_type": "code",
   "execution_count": 546,
   "id": "637f9b67",
   "metadata": {},
   "outputs": [
    {
     "data": {
      "text/latex": [
       "$$ \\begin{equation}\n",
       "\\left[\n",
       "\\begin{array}{cc}\n",
       "0 & 0.0 \\\\\n",
       "0 & 0.0 \\\\\n",
       "\\end{array}\n",
       "\\right]\n",
       "\\end{equation}\n",
       " $$"
      ],
      "text/plain": [
       "2×2 Matrix{Num}:\n",
       " 0  0.0\n",
       " 0  0.0"
      ]
     },
     "execution_count": 546,
     "metadata": {},
     "output_type": "execute_result"
    }
   ],
   "source": []
  },
  {
   "cell_type": "code",
   "execution_count": 8,
   "id": "d05e5b9c",
   "metadata": {},
   "outputs": [
    {
     "data": {
      "text/plain": [
       "cols_to_keep (generic function with 1 method)"
      ]
     },
     "execution_count": 8,
     "metadata": {},
     "output_type": "execute_result"
    }
   ],
   "source": [
    "function cols_to_keep(k,l)\n",
    "    col_opts=[i for i in 1:k]\n",
    "    for i in 1:(k-l)\n",
    "        random_number=size(col_opts,1)\n",
    "        splice!(col_opts, rand(1:random_number))\n",
    "    end\n",
    "    return col_opts\n",
    "end\n",
    "# cols_to_keep(4,3)"
   ]
  },
  {
   "cell_type": "code",
   "execution_count": 9,
   "id": "4775740b",
   "metadata": {},
   "outputs": [
    {
     "data": {
      "text/plain": [
       "random_del_cols (generic function with 1 method)"
      ]
     },
     "execution_count": 9,
     "metadata": {},
     "output_type": "execute_result"
    }
   ],
   "source": [
    "function random_del_cols(k,l,matrix)\n",
    "#     col_opts=[i for i in 1:l]\n",
    "    col_opts=cols_to_keep(k,l)\n",
    "    matrix_kl=zeros(Num, k,l)\n",
    "    \n",
    "    j=1\n",
    "    for i in col_opts\n",
    "        matrix_kl[:,j]=matrix[:,i]\n",
    "        j+=1\n",
    "    end\n",
    "    return col_opts,matrix_kl\n",
    "end"
   ]
  },
  {
   "cell_type": "code",
   "execution_count": 10,
   "id": "3200ada8",
   "metadata": {},
   "outputs": [
    {
     "data": {
      "text/plain": [
       "find_kl_inverse (generic function with 1 method)"
      ]
     },
     "execution_count": 10,
     "metadata": {},
     "output_type": "execute_result"
    }
   ],
   "source": [
    "function find_kl_inverse(to_keep,S_inv)\n",
    "    k=size(S_inv,1)#find the number of rows\n",
    "    ml_inv=zeros(Num, length(to_keep),k)\n",
    "    \n",
    "    j=1\n",
    "    for i in to_keep\n",
    "        ml_inv[j,:]=S_inv[i,:]\n",
    "        j+=1\n",
    "    end\n",
    "    return ml_inv\n",
    "end"
   ]
  },
  {
   "cell_type": "code",
   "execution_count": 11,
   "id": "f5e2f754",
   "metadata": {},
   "outputs": [
    {
     "data": {
      "text/plain": [
       "modify_matrix_coef (generic function with 1 method)"
      ]
     },
     "execution_count": 11,
     "metadata": {},
     "output_type": "execute_result"
    }
   ],
   "source": [
    "function modify_neg_coeff(A,q)\n",
    "    \n",
    "    coeffs_map=Symbolics.value(A).dict#turn the polynomial into matrix\n",
    "    B=0#create our new polynomial\n",
    "    for (key, value) in coeffs_map#iterate through the dict(monomial, coeffcients) \n",
    "        new_coef=mod(value,q)\n",
    "        B+=new_coef*key\n",
    "    end\n",
    "    B\n",
    "end\n",
    "\n",
    "function modify_matrix_coef(matrix,q)\n",
    "    res=simplify.(expand.(matrix))#expand and then simplify\n",
    "    \n",
    "    for i in 1:size(res,1)\n",
    "        for j in 1:size(res,2)\n",
    "            a=res[i,j]\n",
    "\n",
    "            if isone(a)==false && iszero(a)==false            \n",
    "                res[i,j]=modify_neg_coeff(a,q)\n",
    "            end\n",
    "        end\n",
    "    end\n",
    "    return res\n",
    "end"
   ]
  },
  {
   "cell_type": "code",
   "execution_count": 12,
   "id": "87aee306",
   "metadata": {},
   "outputs": [
    {
     "data": {
      "text/plain": [
       "random_permutation (generic function with 1 method)"
      ]
     },
     "execution_count": 12,
     "metadata": {},
     "output_type": "execute_result"
    }
   ],
   "source": [
    "function random_permutation(k)\n",
    "    cols=[i for i in 1:k]\n",
    "    ncols=[]\n",
    "    for i in 1:k\n",
    "        random_number=size(cols,1)\n",
    "        a=rand(1:random_number)\n",
    "        append!(ncols,cols[a])\n",
    "        splice!(cols, a)\n",
    "    end\n",
    "    A=zeros(Num,k,k)\n",
    "    \n",
    "    for i in 1:k\n",
    "        A[i,ncols[i]]=1\n",
    "    end\n",
    "    return A\n",
    "end\n",
    "    \n",
    "# P=random_permutation(4)\n",
    "# inv(P)*P\n"
   ]
  },
  {
   "cell_type": "code",
   "execution_count": 13,
   "id": "aaca4c57",
   "metadata": {},
   "outputs": [
    {
     "data": {
      "text/plain": [
       "matrix_multiplication (generic function with 1 method)"
      ]
     },
     "execution_count": 13,
     "metadata": {},
     "output_type": "execute_result"
    }
   ],
   "source": [
    "# function matrix_multiplication(A,B)#make sure A and B are of appropriate size\n",
    "#     nrows=size(A)[1]\n",
    "#     ncols=size(B)[2]\n",
    "# #     println(nrows)\n",
    "# #     println(ncols)\n",
    "#     resM=zeros(Num,nrows,ncols)\n",
    "#     for i in 1:nrows\n",
    "#         for j in 1:ncols\n",
    "#             arr1=A[i,:]\n",
    "#             arr2=B[:,j]\n",
    "#             element=0\n",
    "#             for k in 1:length(arr1)\n",
    "#                 element=element+arr1[k]*arr2[k]\n",
    "#             end\n",
    "#             resM[i,j]=simplify(expand(element))\n",
    "#             end\n",
    "#     end\n",
    "#     return resM\n",
    "# end\n"
   ]
  },
  {
   "cell_type": "code",
   "execution_count": 63,
   "id": "70e659e2",
   "metadata": {},
   "outputs": [],
   "source": [
    "# A=num_identity(3)\n",
    "# A[1,1]=x[1]^2+x[2]^2\n",
    "# A[1,2]=x[2]+x[3]\n",
    "\n",
    "# B=num_identity(3)\n",
    "# B[1,3]=x[3]+x[5]^2\n",
    "# B[2,1]=x[1]\n",
    "# B\n",
    "\n",
    "# simplify(expand(A*B))\n",
    "# matrix_multiplication(D,C)"
   ]
  },
  {
   "cell_type": "code",
   "execution_count": 123,
   "id": "6fe12761",
   "metadata": {},
   "outputs": [
    {
     "data": {
      "text/plain": [
       "matrix_kl_mod (generic function with 2 methods)"
      ]
     },
     "execution_count": 123,
     "metadata": {},
     "output_type": "execute_result"
    }
   ],
   "source": [
    "function matrix_kl_mod(k,l,n,t,B,q)\n",
    "   \n",
    "    coin_toss=rand(0:1)\n",
    "    if coin_toss==2\n",
    "        U=generate_U(k,n,t,B,q)\n",
    "        res_U=U[1]\n",
    "        for i in 2:Int(size(U)[1])\n",
    "            res_U=res_U*U[i]\n",
    "        end\n",
    "\n",
    "        uSize=Int(size(U)[1])\n",
    "        invU=inv(U[uSize])\n",
    "        for i in 1:(uSize-1)\n",
    "            invU=invU*inv(U[uSize-i])\n",
    "        end\n",
    "\n",
    "        println(simplify.(expand.(res_U*invU)))\n",
    "        println(\"----------------------------\")\n",
    "        res_U=modify_matrix_coef(res_U,q)\n",
    "        invU=modify_matrix_coef(invU,q)  \n",
    "        println(modify_matrix_coef(res_U*invU,q))\n",
    "\n",
    "        col_keep,kl_matrix=random_del_cols(k,l,res_U)\n",
    "        kl_inverse=find_kl_inverse(col_keep,invU)\n",
    "        println(modify_matrix_coef(kl_inverse*kl_matrix,q))\n",
    "        println(\"----------------------------\")\n",
    "        return res_U,invU,kl_matrix,kl_inverse\n",
    "    else\n",
    "        L=generate_L(k,n,t,B,q)\n",
    "        res_L=L[1]\n",
    "        for i in 2:Int(size(L)[1])\n",
    "            res_L=res_L*L[i]\n",
    "        end\n",
    "        \n",
    "        lSize=Int(size(L)[1])\n",
    "        invL=inv(L[lSize])\n",
    "        for i in 1:(lSize-1)\n",
    "            invL=invL*inv(L[lSize-i])\n",
    "        end\n",
    "        println(simplify.(expand.(res_L*invL)))\n",
    "        println(\"----------------------------\")\n",
    "        res_L=modify_matrix_coef(res_L,q)\n",
    "        invL=modify_matrix_coef(invL,q)\n",
    "        println(modify_matrix_coef(res_L*invL,q))\n",
    "        println(\"----------------------------\")\n",
    "        \n",
    "        col_keep,kl_matrix=random_del_cols(k,l,res_L)\n",
    "        kl_inverse=find_kl_inverse(col_keep,invL)\n",
    "        println(modify_matrix_coef(kl_inverse*kl_matrix,q))\n",
    "        println(\"----------------------------\")\n",
    "        return res_L,invL,kl_matrix,kl_inverse\n",
    "    end\n",
    "    \n",
    "\n",
    "\n",
    "    \n",
    "end"
   ]
  },
  {
   "cell_type": "code",
   "execution_count": 135,
   "id": "42cdf283",
   "metadata": {},
   "outputs": [
    {
     "name": "stdout",
     "output_type": "stream",
     "text": [
      "Num[1.0 0.0 0.0 0.0 0.0 0.0; 0 1.0 0.0 0.0 0.0 0.0; 0 0 1.0 0.0 0.0 0.0; 0 0 0 1.0 0.0 0.0; 0 0 0 0 1.0 0.0; 0 0 0 0 0 1.0]\n",
      "----------------------------\n",
      "Num[1.0 0.0 0.0 0.0 0.0 0.0; 0 1.0 0.0 0.0 0.0 0.0; 0 x[3] + x[4] + x[5] 1.0 0.0 0.0 0.0; 0 0 0 1.0 0.0 0.0; 0 0 0 0 1.0 0.0; 0 0 0 0 0 1.0]\n",
      "----------------------------\n",
      "Num[1.0 0.0 0.0; 0 1.0 0.0; 0 0 1.0]\n",
      "----------------------------\n"
     ]
    },
    {
     "data": {
      "text/plain": [
       "(Num[1 0 … 0 0; 4x[22] + 2x[42] + 2x[10]*x[18]*x[48] 1 … 0 0; … ; 2x[9]*x[30] + 3x[29]*x[36] + 5x[20]*x[26] 3x[20] + 4x[7]*x[22] + 4x[11]*x[26]*x[40] … 1 0; 5x[5] + 2x[13] + 2x[8]*x[20]*x[25] 4(x[19]^2)*x[8] + 2x[1]*x[22] + 4x[23]*x[43] … 3x[4]*x[42] + 2x[40]*x[49] + 5x[28]*x[48]*x[50] 1], Num[1.0 0.0 … 0.0 0.0; 2x[22] + 4x[42] + 4x[10]*x[18]*x[48] 1.0 … 0.0 0.0; … ; x[20]*x[26] + 4(x[22]^2)*x[7] + 4x[9]*x[30] + 3x[29]*x[36] + 2x[3]*x[22]*x[32] + 2x[5]*x[22]*x[35] + 2x[5]*x[32]*x[42] + 4x[3]*x[22]*x[35] + 4x[3]*x[32]*x[42] + 4x[4]*x[22]*x[35] + 4x[4]*x[32]*x[42] + x[18]*x[25]*x[26]*x[36] + 2x[7]*x[22]*x[42] + 4x[5]*x[22]*x[32] + 2x[3]*x[35]*x[42] + 2x[4]*x[22]*x[32] + 2x[4]*x[35]*x[42] + 4x[5]*x[35]*x[42] + x[1]*x[25]*x[36]*x[45] + 2x[25]*x[26]*x[30]*x[36] + 4x[11]*x[22]*x[26]*x[40] + 3x[11]*x[27]*x[29]*x[45] + 2x[11]*x[26]*x[40]*x[42] + 3x[3]*x[12]*x[18]*x[26] + 2x[27]*x[29]*x[33]*x[35] + 4(x[45]^2)*x[1]*x[19]*x[43] + 3x[5]*x[11]*x[33]*x[34] + 3x[11]*x[27]*x[29]*x[33] + 2x[27]*x[29]*x[32]*x[45] + 4x[27]*x[29]*x[35]*x[45] + 2x[5]*x[32]*x[33]*x[34] + 4x[5]*x[33]*x[34]*x[35] + 3x[1]*x[3]*x[12]*x[45] + 4x[27]*x[29]*x[32]*x[33] + 2x[3]*x[6]*x[18]*x[22]*x[26] + 4x[3]*x[6]*x[22]*x[26]*x[30] + 4x[4]*x[6]*x[22]*x[26]*x[30] + 2x[5]*x[6]*x[18]*x[26]*x[42] + 4x[3]*x[6]*x[18]*x[26]*x[42] + 2(x[45]^2)*x[1]*x[6]*x[27]*x[29] + 2x[3]*x[6]*x[26]*x[30]*x[42] + 4x[5]*x[6]*x[26]*x[30]*x[42] + 2x[10]*x[21]*x[26]*x[30]*x[42] + 2x[1]*x[3]*x[6]*x[22]*x[45] + 4x[1]*x[3]*x[6]*x[42]*x[45] + 2x[5]*x[10]*x[18]*x[32]*x[48] + 2x[4]*x[10]*x[18]*x[35]*x[48] + 2x[10]*x[18]*x[21]*x[22]*x[26] + 4x[3]*x[10]*x[18]*x[32]*x[48] + 2x[3]*x[10]*x[18]*x[35]*x[48] + 2x[5]*x[6]*x[22]*x[26]*x[30] + 4(x[10]^2)*(x[18]^2)*x[21]*x[26]*x[48] + 2x[4]*x[6]*x[26]*x[30]*x[42] + 2x[1]*x[4]*x[6]*x[22]*x[45] + 4x[5]*x[10]*x[18]*x[35]*x[48] + 2x[1]*x[10]*x[21]*x[22]*x[45] + 4x[1]*x[5]*x[6]*x[22]*x[45] + 4x[4]*x[6]*x[18]*x[26]*x[42] + 4x[18]*x[19]*x[26]*x[43]*x[45] + 4x[4]*x[10]*x[18]*x[32]*x[48] + 2x[7]*x[10]*x[18]*x[22]*x[48] + 4x[1]*x[10]*x[21]*x[42]*x[45] + 4x[10]*x[18]*x[21]*x[26]*x[42] + 2x[1]*x[5]*x[6]*x[42]*x[45] + 2x[4]*x[6]*x[18]*x[22]*x[26] + 4x[5]*x[6]*x[18]*x[22]*x[26] + 2x[19]*x[26]*x[30]*x[43]*x[45] + 4x[1]*x[4]*x[6]*x[42]*x[45] + 4x[10]*x[21]*x[22]*x[26]*x[30] + 2(x[9]^2)*x[1]*x[4]*x[15]*x[22]*x[45] + 2x[10]*x[11]*x[18]*x[26]*x[40]*x[48] + 4(x[9]^2)*x[4]*x[15]*x[18]*x[26]*x[42] + 2x[6]*x[26]*x[27]*x[29]*x[30]*x[33] + 4x[1]*x[8]*x[15]*x[16]*x[22]*x[45] + (x[9]^2)*x[1]*x[15]*x[27]*x[29]*x[33]*x[45] + 4x[6]*x[26]*x[27]*x[29]*x[30]*x[45] + 2x[1]*x[5]*x[6]*x[33]*x[34]*x[45] + 2(x[9]^2)*x[4]*x[15]*x[18]*x[22]*x[26] + 2(x[9]^2)*x[4]*x[15]*x[26]*x[30]*x[42] + 2x[8]*x[15]*x[16]*x[22]*x[26]*x[30] + 2x[1]*x[8]*x[15]*x[16]*x[42]*x[45] + 4(x[9]^2)*x[3]*x[15]*x[22]*x[26]*x[30] + 4(x[9]^2)*x[5]*x[15]*x[26]*x[30]*x[42] + 2x[1]*x[8]*x[22]*x[39]*x[45]*x[48] + 4(x[18]^2)*x[3]*x[6]*x[10]*x[26]*x[48] + 5(x[9]^2)*(x[45]^2)*x[1]*x[15]*x[27]*x[29] + (x[9]^2)*x[15]*x[18]*x[26]*x[27]*x[29]*x[33] + 4(x[18]^2)*(x[48]^2)*x[8]*x[10]*x[26]*x[39] + 4x[8]*x[15]*x[16]*x[26]*x[30]*x[42] + 4(x[9]^2)*x[1]*x[5]*x[15]*x[22]*x[45] + 2(x[9]^2)*x[1]*x[5]*x[15]*x[42]*x[45] + 4x[6]*x[18]*x[26]*x[27]*x[29]*x[33] + 2x[8]*x[26]*x[30]*x[39]*x[42]*x[48] + 4(x[9]^2)*x[1]*x[4]*x[15]*x[42]*x[45] + 4(x[10]^2)*x[1]*x[18]*x[21]*x[45]*x[48] + 2(x[9]^2)*x[3]*x[15]*x[18]*x[22]*x[26] + 2(x[9]^2)*x[5]*x[15]*x[18]*x[26]*x[42] + 2(x[9]^2)*x[5]*x[15]*x[22]*x[26]*x[30] + 2(x[18]^2)*x[5]*x[6]*x[10]*x[26]*x[48] + 4(x[9]^2)*x[5]*x[15]*x[18]*x[22]*x[26] + 2x[8]*x[18]*x[22]*x[26]*x[39]*x[48] + 2(x[27]^2)*(x[45]^2)*x[1]*x[29]*x[37]*x[44] + 2x[8]*x[15]*x[16]*x[18]*x[26]*x[42] + 2x[6]*x[18]*x[26]*x[27]*x[29]*x[45] + 4(x[9]^2)*x[1]*x[3]*x[15]*x[42]*x[45] + 2x[5]*x[6]*x[18]*x[26]*x[33]*x[34] + 4(x[18]^2)*x[4]*x[6]*x[10]*x[26]*x[48] + 4(x[9]^2)*x[4]*x[15]*x[22]*x[26]*x[30] + 4x[5]*x[6]*x[26]*x[30]*x[33]*x[34] + 4(x[9]^2)*x[3]*x[15]*x[18]*x[26]*x[42] + 2(x[9]^2)*x[3]*x[15]*x[26]*x[30]*x[42] + 2(x[9]^2)*x[1]*x[3]*x[15]*x[22]*x[45] + 4x[8]*x[18]*x[26]*x[39]*x[42]*x[48] + 4x[8]*x[22]*x[26]*x[30]*x[39]*x[48] + 4x[1]*x[6]*x[27]*x[29]*x[33]*x[45] + 4x[1]*x[8]*x[39]*x[42]*x[45]*x[48] + 2(x[10]^2)*x[18]*x[21]*x[26]*x[30]*x[48] + 4x[8]*x[15]*x[16]*x[18]*x[22]*x[26] + 2(x[9]^2)*x[15]*x[26]*x[27]*x[29]*x[30]*x[33] + 2x[3]*x[26]*x[27]*x[30]*x[37]*x[42]*x[44] + 2x[4]*x[6]*x[10]*x[18]*x[26]*x[30]*x[48] + 4(x[9]^2)*(x[18]^2)*x[3]*x[10]*x[15]*x[26]*x[48] + 4x[5]*x[6]*x[10]*x[18]*x[26]*x[30]*x[48] + 2x[1]*x[4]*x[22]*x[27]*x[37]*x[44]*x[45] + 2x[3]*x[6]*x[10]*x[18]*x[26]*x[30]*x[48] + 4x[3]*x[22]*x[26]*x[27]*x[30]*x[37]*x[44] + 2(x[18]^2)*x[8]*x[10]*x[15]*x[16]*x[26]*x[48] + 4x[4]*x[22]*x[26]*x[27]*x[30]*x[37]*x[44] + 4(x[9]^2)*x[15]*x[26]*x[27]*x[29]*x[30]*x[45] + 4x[5]*x[26]*x[27]*x[30]*x[37]*x[42]*x[44] + 5(x[9]^2)*x[1]*x[5]*x[15]*x[33]*x[34]*x[45] + 4(x[9]^2)*x[5]*x[15]*x[26]*x[30]*x[33]*x[34] + 4x[1]*x[5]*x[22]*x[27]*x[37]*x[44]*x[45] + 2x[5]*x[22]*x[26]*x[27]*x[30]*x[37]*x[44] + 4x[5]*x[18]*x[22]*x[26]*x[27]*x[37]*x[44] + 2(x[27]^2)*x[18]*x[26]*x[29]*x[37]*x[44]*x[45] + 5(x[9]^2)*x[5]*x[15]*x[18]*x[26]*x[33]*x[34] + 2(x[9]^2)*(x[18]^2)*x[5]*x[10]*x[15]*x[26]*x[48] + 4x[1]*x[4]*x[6]*x[10]*x[18]*x[45]*x[48] + 2(x[27]^2)*x[26]*x[29]*x[30]*x[33]*x[37]*x[44] + 2x[1]*x[3]*x[22]*x[27]*x[37]*x[44]*x[45] + 2(x[48]^2)*x[8]*x[10]*x[18]*x[26]*x[30]*x[39] + 4x[4]*x[18]*x[26]*x[27]*x[37]*x[42]*x[44] + 2x[5]*x[18]*x[26]*x[27]*x[37]*x[42]*x[44] + 4(x[27]^2)*x[18]*x[26]*x[29]*x[33]*x[37]*x[44] + 2x[4]*x[18]*x[22]*x[26]*x[27]*x[37]*x[44] + 4x[1]*x[3]*x[6]*x[10]*x[18]*x[45]*x[48] + 4(x[27]^2)*x[1]*x[29]*x[33]*x[37]*x[44]*x[45] + 2x[3]*x[18]*x[22]*x[26]*x[27]*x[37]*x[44] + 4(x[9]^2)*(x[18]^2)*x[4]*x[10]*x[15]*x[26]*x[48] + 4x[3]*x[18]*x[26]*x[27]*x[37]*x[42]*x[44] + 4x[1]*x[4]*x[27]*x[37]*x[42]*x[44]*x[45] + 2x[1]*x[5]*x[6]*x[10]*x[18]*x[45]*x[48] + 2x[1]*x[5]*x[27]*x[37]*x[42]*x[44]*x[45] + 2x[4]*x[26]*x[27]*x[30]*x[37]*x[42]*x[44] + 5(x[9]^2)*x[15]*x[18]*x[26]*x[27]*x[29]*x[45] + 4(x[27]^2)*x[26]*x[29]*x[30]*x[37]*x[44]*x[45] + 4(x[48]^2)*x[1]*x[8]*x[10]*x[18]*x[39]*x[45] + 4x[1]*x[3]*x[27]*x[37]*x[42]*x[44]*x[45] + 2(x[9]^2)*x[3]*x[10]*x[15]*x[18]*x[26]*x[30]*x[48] + 4(x[9]^2)*x[5]*x[10]*x[15]*x[18]*x[26]*x[30]*x[48] + 4(x[9]^2)*x[1]*x[4]*x[10]*x[15]*x[18]*x[45]*x[48] + 2(x[18]^2)*x[5]*x[10]*x[26]*x[27]*x[37]*x[44]*x[48] + 4(x[18]^2)*x[3]*x[10]*x[26]*x[27]*x[37]*x[44]*x[48] + 4(x[18]^2)*x[4]*x[10]*x[26]*x[27]*x[37]*x[44]*x[48] + 2(x[9]^2)*x[1]*x[5]*x[10]*x[15]*x[18]*x[45]*x[48] + 2x[1]*x[8]*x[10]*x[15]*x[16]*x[18]*x[45]*x[48] + 4x[8]*x[10]*x[15]*x[16]*x[18]*x[26]*x[30]*x[48] + 4(x[9]^2)*x[1]*x[3]*x[10]*x[15]*x[18]*x[45]*x[48] + 2x[5]*x[18]*x[26]*x[27]*x[33]*x[34]*x[37]*x[44] + 4x[5]*x[26]*x[27]*x[30]*x[33]*x[34]*x[37]*x[44] + 2(x[9]^2)*x[4]*x[10]*x[15]*x[18]*x[26]*x[30]*x[48] + 2x[1]*x[5]*x[27]*x[33]*x[34]*x[37]*x[44]*x[45] + 2x[3]*x[10]*x[18]*x[26]*x[27]*x[30]*x[37]*x[44]*x[48] + 2x[4]*x[10]*x[18]*x[26]*x[27]*x[30]*x[37]*x[44]*x[48] + 4x[5]*x[10]*x[18]*x[26]*x[27]*x[30]*x[37]*x[44]*x[48] + 4x[1]*x[3]*x[10]*x[18]*x[27]*x[37]*x[44]*x[45]*x[48] + 4x[1]*x[4]*x[10]*x[18]*x[27]*x[37]*x[44]*x[45]*x[48] + 2x[1]*x[5]*x[10]*x[18]*x[27]*x[37]*x[44]*x[45]*x[48] 3x[20] + 2x[7]*x[22] + 2x[3]*x[35] + 2x[4]*x[35] + 4x[3]*x[32] + 4x[4]*x[32] + 2x[5]*x[32] + 3x[3]*x[11] + 3x[4]*x[11] + 4x[5]*x[35] + x[10]*x[18]*x[21]*x[26] + 2x[11]*x[26]*x[40] + x[1]*x[10]*x[21]*x[45] + 4x[4]*x[6]*x[18]*x[26] + 4x[1]*x[4]*x[6]*x[45] + 2x[3]*x[6]*x[26]*x[30] + 2x[4]*x[6]*x[26]*x[30] + 2x[1]*x[5]*x[6]*x[45] + (x[9]^2)*x[4]*x[15]*x[18]*x[26] + 4x[1]*x[3]*x[6]*x[45] + 2x[5]*x[6]*x[18]*x[26] + (x[9]^2)*x[1]*x[3]*x[15]*x[45] + 2x[10]*x[21]*x[26]*x[30] + 4x[3]*x[6]*x[18]*x[26] + 4x[5]*x[6]*x[26]*x[30] + (x[9]^2)*x[3]*x[15]*x[18]*x[26] + (x[9]^2)*x[1]*x[4]*x[15]*x[45] + x[8]*x[18]*x[26]*x[39]*x[48] + x[1]*x[8]*x[39]*x[45]*x[48] + 5x[8]*x[15]*x[16]*x[18]*x[26] + 5x[1]*x[8]*x[15]*x[16]*x[45] + 2(x[9]^2)*x[3]*x[15]*x[26]*x[30] + 2(x[9]^2)*x[4]*x[15]*x[26]*x[30] + 4(x[9]^2)*x[5]*x[15]*x[26]*x[30] + 4x[8]*x[15]*x[16]*x[26]*x[30] + 2(x[9]^2)*x[1]*x[5]*x[15]*x[45] + 2(x[9]^2)*x[5]*x[15]*x[18]*x[26] + 2x[8]*x[26]*x[30]*x[39]*x[48] + 4x[1]*x[3]*x[27]*x[37]*x[44]*x[45] + 4x[1]*x[4]*x[27]*x[37]*x[44]*x[45] + 4x[3]*x[18]*x[26]*x[27]*x[37]*x[44] + 2x[1]*x[5]*x[27]*x[37]*x[44]*x[45] + 2x[4]*x[26]*x[27]*x[30]*x[37]*x[44] + 4x[4]*x[18]*x[26]*x[27]*x[37]*x[44] + 2x[3]*x[26]*x[27]*x[30]*x[37]*x[44] + 2x[5]*x[18]*x[26]*x[27]*x[37]*x[44] + 4x[5]*x[26]*x[27]*x[30]*x[37]*x[44] … 1.0 0.0; 4x[13] + 4(x[4]^2)*x[42] + 2(x[22]^2)*x[1] + 2(x[4]^2)*x[22] + 4(x[19]^2)*x[8]*x[22] + 2(x[42]^2)*x[5]*x[6] + 2x[3]*x[4]*x[22] + 2x[3]*x[6]*x[42] + 2x[4]*x[6]*x[42] + 2x[5]*x[6]*x[22] + 2(x[19]^2)*x[8]*x[42] + 2x[23]*x[42]*x[43] + 4(x[42]^2)*x[3]*x[6] + 4(x[42]^2)*x[4]*x[6] + 4x[1]*x[22]*x[42] + 4x[4]*x[6]*x[22] + x[4]*x[27]*x[29]*x[33] + 4x[2]*x[25]*x[36] + 4x[4]*x[5]*x[22] + 4x[8]*x[20]*x[25] + 2x[4]*x[5]*x[42] + 4x[3]*x[6]*x[22] + 4(x[42]^2)*x[10]*x[21] + 4x[22]*x[23]*x[43] + x[6]*x[27]*x[29]*x[45] + 4x[25]*x[36]*x[42] + x[5]*x[6]*x[33]*x[34] + 4x[3]*x[4]*x[42] + 4x[5]*x[6]*x[42] + 2(x[9]^2)*(x[42]^2)*x[5]*x[15] + 2(x[42]^2)*x[8]*x[15]*x[16] + 2x[2]*x[3]*x[6]*x[22] + 2x[2]*x[5]*x[6]*x[42] + 2x[3]*x[6]*x[22]*x[42] + 2x[4]*x[6]*x[22]*x[42] + 2x[3]*x[7]*x[22]*x[37] + 2x[4]*x[7]*x[22]*x[37] + 2x[10]*x[21]*x[22]*x[42] + 2x[2]*x[16]*x[25]*x[36] + 4(x[4]^2)*x[10]*x[18]*x[48] + 2x[2]*x[4]*x[6]*x[22] + 4(x[9]^2)*(x[42]^2)*x[3]*x[15] + 4(x[9]^2)*(x[42]^2)*x[4]*x[15] + 4x[2]*x[19]*x[43]*x[45] + 5x[4]*x[5]*x[33]*x[34] + 4x[5]*x[6]*x[22]*x[42] + 4(x[42]^2)*x[8]*x[39]*x[48] + 5x[4]*x[27]*x[29]*x[45] + 4x[4]*x[7]*x[37]*x[42] + 2x[2]*x[10]*x[21]*x[22] + 4x[2]*x[3]*x[6]*x[42] + 4x[2]*x[4]*x[6]*x[42] + 4x[2]*x[10]*x[21]*x[42] + 4x[5]*x[7]*x[22]*x[37] + 3x[4]*x[20]*x[26]*x[42] + x[20]*x[26]*x[28]*x[48]*x[50] + 3x[4]*x[29]*x[36]*x[42] + 2x[5]*x[7]*x[37]*x[42] + 4x[19]*x[42]*x[43]*x[45] + 5x[6]*x[27]*x[29]*x[33] + 4(x[22]^2)*x[7]*x[40]*x[49] + 4x[2]*x[5]*x[6]*x[22] + 4x[20]*x[26]*x[40]*x[49] + x[7]*x[27]*x[29]*x[33]*x[37] + 4x[3]*x[7]*x[37]*x[42] + 4x[9]*x[30]*x[40]*x[49] + 2(x[9]^2)*x[2]*x[3]*x[15]*x[22] + 2(x[9]^2)*x[2]*x[4]*x[15]*x[22] + 4x[2]*x[3]*x[6]*x[16]*x[22] + 4x[2]*x[4]*x[6]*x[16]*x[22] + 2x[2]*x[5]*x[6]*x[16]*x[22] + 4x[2]*x[8]*x[15]*x[16]*x[22] + 4x[2]*x[10]*x[16]*x[21]*x[22] + 2(x[9]^2)*x[2]*x[5]*x[15]*x[42] + 2x[2]*x[4]*x[6]*x[16]*x[42] + 2(x[16]^2)*x[2]*x[8]*x[15]*x[22] + 4(x[16]^2)*x[2]*x[8]*x[15]*x[42] + 4x[5]*x[6]*x[10]*x[18]*x[48] + 2(x[9]^2)*x[3]*x[15]*x[22]*x[42] + 4(x[40]^2)*x[11]*x[22]*x[26]*x[49] + 2x[2]*x[5]*x[6]*x[33]*x[34] + 2x[2]*x[8]*x[15]*x[16]*x[42] + 2x[4]*x[22]*x[32]*x[40]*x[49] + 4x[4]*x[32]*x[40]*x[42]*x[49] + 4x[5]*x[22]*x[32]*x[40]*x[49] + 2x[5]*x[22]*x[35]*x[40]*x[49] + 2x[5]*x[32]*x[40]*x[42]*x[49] + 4(x[9]^2)*x[2]*x[4]*x[15]*x[42] + 4x[2]*x[5]*x[6]*x[16]*x[42] + 4(x[9]^2)*x[5]*x[15]*x[22]*x[42] + 2x[3]*x[6]*x[10]*x[18]*x[48] + 4x[5]*x[35]*x[40]*x[42]*x[49] + 2x[6]*x[27]*x[29]*x[42]*x[45] + 2x[2]*x[8]*x[22]*x[39]*x[48] + 2x[7]*x[22]*x[40]*x[42]*x[49] + 4x[6]*x[27]*x[29]*x[33]*x[42] + 5x[7]*x[27]*x[29]*x[37]*x[45] + 4(x[10]^2)*x[2]*x[18]*x[21]*x[48] + 4x[3]*x[22]*x[35]*x[40]*x[49] + 2x[4]*x[5]*x[10]*x[18]*x[48] + 2x[3]*x[22]*x[32]*x[40]*x[49] + 2x[4]*x[6]*x[10]*x[18]*x[48] + 2x[8]*x[22]*x[39]*x[42]*x[48] + 4(x[9]^2)*x[2]*x[5]*x[15]*x[22] + 2(x[40]^2)*x[11]*x[26]*x[42]*x[49] + 2x[2]*x[3]*x[6]*x[16]*x[42] + 4x[3]*x[32]*x[40]*x[42]*x[49] + 2x[3]*x[35]*x[40]*x[42]*x[49] + 4(x[42]^2)*x[4]*x[27]*x[37]*x[44] + 2(x[42]^2)*x[5]*x[27]*x[37]*x[44] + 4x[2]*x[6]*x[27]*x[29]*x[33] + 2(x[19]^2)*x[8]*x[10]*x[18]*x[48] + 2x[2]*x[16]*x[19]*x[43]*x[45] + 2x[10]*x[18]*x[23]*x[43]*x[48] + 2x[5]*x[6]*x[33]*x[34]*x[42] + 3x[28]*x[29]*x[36]*x[48]*x[50] + 4(x[9]^2)*x[2]*x[3]*x[15]*x[42] + 4x[1]*x[10]*x[18]*x[22]*x[48] + 2x[2]*x[6]*x[27]*x[29]*x[45] + 4x[4]*x[22]*x[35]*x[40]*x[49] + 2x[4]*x[35]*x[40]*x[42]*x[49] + 4x[2]*x[8]*x[39]*x[42]*x[48] + 4x[3]*x[4]*x[10]*x[18]*x[48] + 2(x[9]^2)*x[4]*x[15]*x[22]*x[42] + 2x[2]*x[10]*x[16]*x[21]*x[42] + 4x[8]*x[15]*x[16]*x[22]*x[42] + 4x[9]*x[28]*x[30]*x[48]*x[50] + 5x[5]*x[7]*x[33]*x[34]*x[37] + 4(x[22]^2)*x[7]*x[28]*x[48]*x[50] + 4(x[42]^2)*x[3]*x[27]*x[37]*x[44] + 4(x[10]^2)*x[18]*x[21]*x[42]*x[48] + 2(x[9]^2)*x[2]*x[5]*x[15]*x[16]*x[22] + 2(x[9]^2)*x[2]*x[5]*x[15]*x[33]*x[34] + 2(x[9]^2)*x[2]*x[3]*x[15]*x[16]*x[42] + 4x[2]*x[3]*x[27]*x[37]*x[42]*x[44] + 2x[2]*x[4]*x[22]*x[27]*x[37]*x[44] + 2x[25]*x[26]*x[30]*x[36]*x[40]*x[49] + 4x[2]*x[3]*x[6]*x[10]*x[18]*x[48] + 4x[3]*x[6]*x[10]*x[18]*x[42]*x[48] + 3x[4]*x[18]*x[25]*x[26]*x[36]*x[42] + 2x[5]*x[7]*x[10]*x[18]*x[37]*x[48] + 2x[2]*x[6]*x[16]*x[27]*x[29]*x[33] + 2x[3]*x[22]*x[28]*x[32]*x[48]*x[50] + 4x[4]*x[7]*x[10]*x[18]*x[37]*x[48] + 4x[2]*x[5]*x[22]*x[27]*x[37]*x[44] + 4(x[27]^2)*x[2]*x[29]*x[33]*x[37]*x[44] + 2(x[9]^2)*x[2]*x[15]*x[27]*x[29]*x[45] + 2x[3]*x[22]*x[27]*x[37]*x[42]*x[44] + 2x[2]*x[5]*x[6]*x[10]*x[18]*x[48] + 4(x[9]^2)*x[2]*x[4]*x[15]*x[16]*x[22] + 4x[2]*x[5]*x[6]*x[16]*x[33]*x[34] + 3x[4]*x[11]*x[27]*x[29]*x[33]*x[42] + 4x[4]*x[22]*x[28]*x[35]*x[48]*x[50] + 2(x[27]^2)*x[2]*x[29]*x[37]*x[44]*x[45] + 4x[4]*x[28]*x[32]*x[42]*x[48]*x[50] + 2x[3]*x[28]*x[35]*x[42]*x[48]*x[50] + 2x[4]*x[28]*x[35]*x[42]*x[48]*x[50] + 3x[1]*x[3]*x[4]*x[12]*x[42]*x[45] + 2x[5]*x[22]*x[28]*x[35]*x[48]*x[50] + 2x[5]*x[28]*x[32]*x[42]*x[48]*x[50] + 3x[3]*x[4]*x[12]*x[18]*x[26]*x[42] + 4(x[9]^2)*x[2]*x[5]*x[15]*x[16]*x[42] + 4(x[9]^2)*x[2]*x[15]*x[27]*x[29]*x[33] + 4x[2]*x[4]*x[27]*x[37]*x[42]*x[44] + 4(x[9]^2)*x[15]*x[27]*x[29]*x[33]*x[42] + 4x[5]*x[28]*x[35]*x[42]*x[48]*x[50] + 2x[5]*x[32]*x[33]*x[34]*x[40]*x[49] + 2x[7]*x[22]*x[28]*x[42]*x[48]*x[50] + 2x[27]*x[29]*x[33]*x[35]*x[40]*x[49] + 4x[2]*x[4]*x[6]*x[10]*x[18]*x[48] + 4x[3]*x[7]*x[10]*x[18]*x[37]*x[48] + 4x[27]*x[29]*x[32]*x[33]*x[40]*x[49] + x[18]*x[25]*x[26]*x[28]*x[36]*x[48]*x[50] + 2x[4]*x[22]*x[27]*x[37]*x[42]*x[44] + 2x[5]*x[6]*x[10]*x[18]*x[42]*x[48] + 4x[3]*x[28]*x[32]*x[42]*x[48]*x[50] + 4(x[27]^2)*x[29]*x[33]*x[37]*x[42]*x[44] + 4x[27]*x[29]*x[35]*x[40]*x[45]*x[49] + 4x[3]*x[22]*x[28]*x[35]*x[48]*x[50] + 4x[5]*x[22]*x[27]*x[37]*x[42]*x[44] + 3x[1]*x[4]*x[25]*x[36]*x[42]*x[45] + 4x[5]*x[22]*x[28]*x[32]*x[48]*x[50] + 4(x[45]^2)*x[1]*x[19]*x[40]*x[43]*x[49] + 2(x[9]^2)*x[2]*x[4]*x[15]*x[16]*x[42] + 4(x[9]^2)*x[2]*x[3]*x[15]*x[16]*x[22] + 2(x[9]^2)*x[5]*x[15]*x[33]*x[34]*x[42] + 4x[5]*x[33]*x[34]*x[35]*x[40]*x[49] + 4x[18]*x[25]*x[26]*x[36]*x[40]*x[49] + 2(x[27]^2)*x[29]*x[37]*x[42]*x[44]*x[45] + 2(x[10]^2)*x[2]*x[16]*x[18]*x[21]*x[48] + 3x[4]*x[5]*x[11]*x[33]*x[34]*x[42] + 2x[2]*x[5]*x[27]*x[37]*x[42]*x[44] + 4x[2]*x[8]*x[16]*x[22]*x[39]*x[48] + 3x[4]*x[11]*x[27]*x[29]*x[42]*x[45] + 4x[4]*x[6]*x[10]*x[18]*x[42]*x[48] + 2(x[9]^2)*x[15]*x[27]*x[29]*x[42]*x[45] + 4(x[48]^2)*x[8]*x[10]*x[18]*x[39]*x[42] + 4x[1]*x[25]*x[36]*x[40]*x[45]*x[49] + 2x[2]*x[8]*x[16]*x[39]*x[42]*x[48] + 4(x[48]^2)*x[2]*x[8]*x[10]*x[18]*x[39] + 2x[2]*x[3]*x[22]*x[27]*x[37]*x[44] + 2x[4]*x[22]*x[28]*x[32]*x[48]*x[50] + x[1]*x[25]*x[28]*x[36]*x[45]*x[48]*x[50] + 2x[27]*x[29]*x[32]*x[40]*x[45]*x[49] + 4x[2]*x[6]*x[16]*x[27]*x[29]*x[45] + 2(x[48]^2)*x[2]*x[8]*x[10]*x[16]*x[18]*x[39] + 2(x[9]^2)*x[2]*x[5]*x[10]*x[15]*x[18]*x[48] + 4(x[9]^2)*x[3]*x[10]*x[15]*x[18]*x[42]*x[48] + 2(x[40]^2)*x[10]*x[11]*x[18]*x[26]*x[48]*x[49] + 4(x[9]^2)*x[2]*x[15]*x[16]*x[27]*x[29]*x[45] + 2x[4]*x[6]*x[18]*x[22]*x[26]*x[40]*x[49] + 4x[2]*x[3]*x[16]*x[22]*x[27]*x[37]*x[44] + 2(x[27]^2)*x[2]*x[16]*x[29]*x[33]*x[37]*x[44] + 4x[4]*x[10]*x[18]*x[32]*x[40]*x[48]*x[49] + 2x[10]*x[18]*x[21]*x[22]*x[26]*x[40]*x[49] + 2x[10]*x[21]*x[26]*x[30]*x[40]*x[42]*x[49] + 4x[10]*x[18]*x[21]*x[26]*x[40]*x[42]*x[49] + 2(x[48]^2)*x[5]*x[10]*x[18]*x[28]*x[32]*x[50] + 2x[3]*x[6]*x[18]*x[22]*x[26]*x[40]*x[49] + 4x[5]*x[6]*x[18]*x[22]*x[26]*x[40]*x[49] + 4x[5]*x[6]*x[26]*x[30]*x[40]*x[42]*x[49] + 2x[4]*x[10]*x[18]*x[35]*x[40]*x[48]*x[49] + 4x[5]*x[10]*x[18]*x[35]*x[40]*x[48]*x[49] + 2(x[48]^2)*x[3]*x[10]*x[18]*x[28]*x[35]*x[50] + 2x[2]*x[4]*x[6]*x[10]*x[16]*x[18]*x[48] + 4x[5]*x[28]*x[33]*x[34]*x[35]*x[48]*x[50] + 2x[4]*x[6]*x[26]*x[30]*x[40]*x[42]*x[49] + 2x[7]*x[10]*x[18]*x[22]*x[40]*x[48]*x[49] + 4x[2]*x[5]*x[16]*x[27]*x[37]*x[42]*x[44] + 2x[5]*x[27]*x[33]*x[34]*x[37]*x[42]*x[44] + 4(x[9]^2)*x[2]*x[4]*x[10]*x[15]*x[18]*x[48] + 2x[2]*x[3]*x[6]*x[10]*x[16]*x[18]*x[48] + 2x[5]*x[28]*x[32]*x[33]*x[34]*x[48]*x[50] + 2x[5]*x[6]*x[18]*x[26]*x[40]*x[42]*x[49] + 2x[2]*x[8]*x[10]*x[15]*x[16]*x[18]*x[48] + 4x[2]*x[4]*x[16]*x[22]*x[27]*x[37]*x[44] + 4(x[16]^2)*x[2]*x[8]*x[10]*x[15]*x[18]*x[48] + 4(x[48]^2)*x[4]*x[10]*x[18]*x[28]*x[32]*x[50] + 3x[11]*x[27]*x[28]*x[29]*x[33]*x[48]*x[50] + 3x[11]*x[27]*x[28]*x[29]*x[45]*x[48]*x[50] + 4(x[9]^2)*x[2]*x[5]*x[15]*x[16]*x[33]*x[34] + 2x[1]*x[3]*x[6]*x[22]*x[40]*x[45]*x[49] + 4x[1]*x[5]*x[6]*x[22]*x[40]*x[45]*x[49] + 2(x[9]^2)*x[2]*x[15]*x[16]*x[27]*x[29]*x[33] + 4(x[27]^2)*x[2]*x[16]*x[29]*x[37]*x[44]*x[45] + 4(x[9]^2)*x[4]*x[10]*x[15]*x[18]*x[42]*x[48] + 4x[3]*x[6]*x[18]*x[26]*x[40]*x[42]*x[49] + 4x[3]*x[10]*x[18]*x[32]*x[40]*x[48]*x[49] + 2x[5]*x[6]*x[22]*x[26]*x[30]*x[40]*x[49] + 2x[25]*x[26]*x[28]*x[30]*x[36]*x[48]*x[50] + 2x[27]*x[28]*x[29]*x[33]*x[35]*x[48]*x[50] + 4(x[48]^2)*x[5]*x[10]*x[18]*x[28]*x[35]*x[50] + 2x[1]*x[10]*x[21]*x[22]*x[40]*x[45]*x[49] + 4(x[9]^2)*x[2]*x[3]*x[10]*x[15]*x[18]*x[48] + 2x[1]*x[4]*x[6]*x[22]*x[40]*x[45]*x[49] + 4(x[48]^2)*x[3]*x[10]*x[18]*x[28]*x[32]*x[50] + 4x[4]*x[6]*x[18]*x[26]*x[40]*x[42]*x[49] + 4(x[10]^2)*(x[18]^2)*x[21]*x[26]*x[40]*x[48]*x[49] + 4x[3]*x[6]*x[22]*x[26]*x[30]*x[40]*x[49] + 2x[2]*x[4]*x[16]*x[27]*x[37]*x[42]*x[44] + 4x[4]*x[6]*x[22]*x[26]*x[30]*x[40]*x[49] + 4x[11]*x[22]*x[26]*x[28]*x[40]*x[48]*x[50] + 4x[27]*x[28]*x[29]*x[35]*x[45]*x[48]*x[50] + 2x[1]*x[5]*x[6]*x[40]*x[42]*x[45]*x[49] + 2x[19]*x[26]*x[30]*x[40]*x[43]*x[45]*x[49] + 4x[2]*x[5]*x[6]*x[10]*x[16]*x[18]*x[48] + 4x[1]*x[10]*x[21]*x[40]*x[42]*x[45]*x[49] + 2x[2]*x[3]*x[16]*x[27]*x[37]*x[42]*x[44] + 2x[2]*x[5]*x[16]*x[22]*x[27]*x[37]*x[44] + 2(x[9]^2)*x[5]*x[10]*x[15]*x[18]*x[42]*x[48] + 2x[3]*x[6]*x[26]*x[30]*x[40]*x[42]*x[49] + 2x[27]*x[28]*x[29]*x[32]*x[45]*x[48]*x[50] + 4x[18]*x[19]*x[26]*x[40]*x[43]*x[45]*x[49] + 2x[5]*x[10]*x[18]*x[32]*x[40]*x[48]*x[49] + 2x[2]*x[5]*x[27]*x[33]*x[34]*x[37]*x[44] + 2(x[48]^2)*x[7]*x[10]*x[18]*x[22]*x[28]*x[50] + 2(x[48]^2)*x[4]*x[10]*x[18]*x[28]*x[35]*x[50] + 2x[11]*x[26]*x[28]*x[40]*x[42]*x[48]*x[50] + 3x[5]*x[11]*x[28]*x[33]*x[34]*x[48]*x[50] + 3x[1]*x[3]*x[12]*x[28]*x[45]*x[48]*x[50] + 4x[1]*x[4]*x[6]*x[40]*x[42]*x[45]*x[49] + 3x[3]*x[12]*x[18]*x[26]*x[28]*x[48]*x[50] + 4x[10]*x[21]*x[22]*x[26]*x[30]*x[40]*x[49] + 2(x[45]^2)*x[1]*x[6]*x[27]*x[29]*x[40]*x[49] + 4x[27]*x[28]*x[29]*x[32]*x[33]*x[48]*x[50] + 4x[1]*x[3]*x[6]*x[40]*x[42]*x[45]*x[49] + 2x[8]*x[10]*x[15]*x[16]*x[18]*x[42]*x[48] + 4(x[10]^2)*(x[18]^2)*(x[48]^2)*x[21]*x[26]*x[28]*x[50] + 4(x[45]^2)*x[1]*x[19]*x[28]*x[43]*x[48]*x[50] + 2x[3]*x[10]*x[18]*x[35]*x[40]*x[48]*x[49] + 2(x[9]^2)*x[2]*x[3]*x[10]*x[15]*x[16]*x[18]*x[48] + 2(x[9]^2)*x[2]*x[4]*x[10]*x[15]*x[16]*x[18]*x[48] + 4(x[9]^2)*x[2]*x[5]*x[10]*x[15]*x[16]*x[18]*x[48] + 3(x[9]^2)*(x[45]^2)*x[1]*x[4]*x[15]*x[27]*x[29]*x[42] + 4x[2]*x[3]*x[10]*x[18]*x[27]*x[37]*x[44]*x[48] + 4x[2]*x[4]*x[10]*x[18]*x[27]*x[37]*x[44]*x[48] + 4x[4]*x[10]*x[18]*x[27]*x[37]*x[42]*x[44]*x[48] + 4x[6]*x[18]*x[26]*x[27]*x[29]*x[33]*x[40]*x[49] + 4x[6]*x[26]*x[27]*x[29]*x[30]*x[40]*x[45]*x[49] + 2(x[45]^2)*x[1]*x[6]*x[27]*x[28]*x[29]*x[48]*x[50] + 4(x[18]^2)*(x[48]^2)*x[3]*x[6]*x[10]*x[26]*x[28]*x[50] + 2(x[9]^2)*x[1]*x[3]*x[15]*x[22]*x[40]*x[45]*x[49] + 2(x[9]^2)*x[4]*x[15]*x[26]*x[30]*x[40]*x[42]*x[49] + 2x[8]*x[15]*x[16]*x[22]*x[26]*x[30]*x[40]*x[49] + 4(x[48]^2)*x[8]*x[18]*x[26]*x[28]*x[39]*x[42]*x[50] + 2(x[18]^2)*x[5]*x[6]*x[10]*x[26]*x[40]*x[48]*x[49] + 2x[8]*x[15]*x[16]*x[18]*x[26]*x[40]*x[42]*x[49] + 4(x[9]^2)*x[4]*x[15]*x[18]*x[26]*x[40]*x[42]*x[49] + 2x[10]*x[18]*x[21]*x[22]*x[26]*x[28]*x[48]*x[50] + 4x[8]*x[15]*x[16]*x[18]*x[22]*x[26]*x[40]*x[49] + 4x[10]*x[18]*x[21]*x[26]*x[28]*x[42]*x[48]*x[50] + 2(x[27]^2)*(x[45]^2)*x[1]*x[29]*x[37]*x[40]*x[44]*x[49] + 2x[8]*x[26]*x[30]*x[39]*x[40]*x[42]*x[48]*x[49] + 2x[3]*x[6]*x[26]*x[28]*x[30]*x[42]*x[48]*x[50] + 4(x[18]^2)*(x[48]^2)*x[4]*x[6]*x[10]*x[26]*x[28]*x[50] + 2(x[9]^2)*x[4]*x[15]*x[18]*x[22]*x[26]*x[40]*x[49] + 4(x[9]^2)*x[4]*x[15]*x[22]*x[26]*x[30]*x[40]*x[49] + 4x[1]*x[10]*x[21]*x[28]*x[42]*x[45]*x[48]*x[50] + 4x[5]*x[6]*x[18]*x[22]*x[26]*x[28]*x[48]*x[50] + 2x[5]*x[6]*x[22]*x[26]*x[28]*x[30]*x[48]*x[50] + 2x[1]*x[8]*x[15]*x[16]*x[40]*x[42]*x[45]*x[49] + 4(x[9]^2)*x[1]*x[3]*x[15]*x[40]*x[42]*x[45]*x[49] + 4(x[18]^2)*x[4]*x[6]*x[10]*x[26]*x[40]*x[48]*x[49] + 4(x[9]^2)*x[3]*x[15]*x[22]*x[26]*x[30]*x[40]*x[49] + 4(x[9]^2)*x[3]*x[15]*x[18]*x[26]*x[40]*x[42]*x[49] + 4x[3]*x[6]*x[18]*x[26]*x[28]*x[42]*x[48]*x[50] + 4x[18]*x[19]*x[26]*x[28]*x[43]*x[45]*x[48]*x[50] + 2x[19]*x[26]*x[28]*x[30]*x[43]*x[45]*x[48]*x[50] + 4x[5]*x[6]*x[26]*x[30]*x[33]*x[34]*x[40]*x[49] + 2x[6]*x[26]*x[27]*x[29]*x[30]*x[33]*x[40]*x[49] + 2x[1]*x[5]*x[6]*x[33]*x[34]*x[40]*x[45]*x[49] + 4x[1]*x[8]*x[15]*x[16]*x[22]*x[40]*x[45]*x[49] + 4x[1]*x[8]*x[39]*x[40]*x[42]*x[45]*x[48]*x[49] + 2(x[10]^2)*(x[48]^2)*x[18]*x[21]*x[26]*x[28]*x[30]*x[50] + 4x[3]*x[6]*x[22]*x[26]*x[28]*x[30]*x[48]*x[50] + 4(x[18]^2)*x[3]*x[6]*x[10]*x[26]*x[40]*x[48]*x[49] + 4x[1]*x[3]*x[6]*x[28]*x[42]*x[45]*x[48]*x[50] + 2(x[9]^2)*x[5]*x[15]*x[18]*x[26]*x[40]*x[42]*x[49] + 4(x[18]^2)*(x[48]^2)*x[8]*x[10]*x[26]*x[39]*x[40]*x[49] + 4x[8]*x[18]*x[26]*x[39]*x[40]*x[42]*x[48]*x[49] + 2x[1]*x[3]*x[6]*x[22]*x[28]*x[45]*x[48]*x[50] + 4(x[9]^2)*x[5]*x[15]*x[18]*x[22]*x[26]*x[40]*x[49] + 4x[10]*x[21]*x[22]*x[26]*x[28]*x[30]*x[48]*x[50] + 2(x[9]^2)*x[1]*x[5]*x[15]*x[40]*x[42]*x[45]*x[49] + 2x[2]*x[5]*x[10]*x[18]*x[27]*x[37]*x[44]*x[48] + 4x[4]*x[6]*x[22]*x[26]*x[28]*x[30]*x[48]*x[50] + 2x[1]*x[5]*x[6]*x[28]*x[42]*x[45]*x[48]*x[50] + 4(x[18]^2)*(x[48]^3)*x[8]*x[10]*x[26]*x[28]*x[39]*x[50] + 4x[5]*x[6]*x[26]*x[28]*x[30]*x[42]*x[48]*x[50] + 4x[1]*x[6]*x[27]*x[29]*x[33]*x[40]*x[45]*x[49] + 4(x[48]^2)*x[1]*x[8]*x[28]*x[39]*x[42]*x[45]*x[50] + 4x[1]*x[5]*x[6]*x[22]*x[28]*x[45]*x[48]*x[50] + 2(x[9]^2)*x[5]*x[15]*x[22]*x[26]*x[30]*x[40]*x[49] + 2(x[9]^2)*x[3]*x[15]*x[26]*x[30]*x[40]*x[42]*x[49] + 4x[2]*x[5]*x[16]*x[27]*x[33]*x[34]*x[37]*x[44] + 2(x[48]^2)*x[8]*x[26]*x[28]*x[30]*x[39]*x[42]*x[50] + 2x[5]*x[10]*x[18]*x[27]*x[37]*x[42]*x[44]*x[48] + 4x[8]*x[15]*x[16]*x[26]*x[30]*x[40]*x[42]*x[49] + 2(x[10]^2)*x[18]*x[21]*x[26]*x[30]*x[40]*x[48]*x[49] + 2x[8]*x[18]*x[22]*x[26]*x[39]*x[40]*x[48]*x[49] + 2x[6]*x[18]*x[26]*x[27]*x[29]*x[40]*x[45]*x[49] + 2(x[48]^2)*x[1]*x[8]*x[22]*x[28]*x[39]*x[45]*x[50] + 2x[10]*x[21]*x[26]*x[28]*x[30]*x[42]*x[48]*x[50] + 4x[3]*x[10]*x[18]*x[27]*x[37]*x[42]*x[44]*x[48] + 2(x[9]^2)*x[1]*x[4]*x[15]*x[22]*x[40]*x[45]*x[49] + 2x[1]*x[4]*x[6]*x[22]*x[28]*x[45]*x[48]*x[50] + 2x[1]*x[10]*x[21]*x[22]*x[28]*x[45]*x[48]*x[50] + 2x[5]*x[6]*x[18]*x[26]*x[28]*x[42]*x[48]*x[50] + 2x[4]*x[6]*x[26]*x[28]*x[30]*x[42]*x[48]*x[50] + 2(x[48]^2)*x[10]*x[11]*x[18]*x[26]*x[28]*x[40]*x[50] + 2x[1]*x[8]*x[22]*x[39]*x[40]*x[45]*x[48]*x[49] + 4(x[9]^2)*x[1]*x[4]*x[15]*x[40]*x[42]*x[45]*x[49] + 2(x[9]^2)*x[3]*x[15]*x[18]*x[22]*x[26]*x[40]*x[49] + 4(x[48]^2)*x[8]*x[22]*x[26]*x[28]*x[30]*x[39]*x[50] + 2x[3]*x[6]*x[18]*x[22]*x[26]*x[28]*x[48]*x[50] + 4(x[10]^2)*(x[48]^2)*x[1]*x[18]*x[21]*x[28]*x[45]*x[50] + 2(x[18]^2)*(x[48]^2)*x[5]*x[6]*x[10]*x[26]*x[28]*x[50] + 4(x[9]^2)*x[1]*x[5]*x[15]*x[22]*x[40]*x[45]*x[49] + 4x[4]*x[6]*x[18]*x[26]*x[28]*x[42]*x[48]*x[50] + 4(x[9]^2)*x[5]*x[15]*x[26]*x[30]*x[40]*x[42]*x[49] + 4x[1]*x[4]*x[6]*x[28]*x[42]*x[45]*x[48]*x[50] + 2x[4]*x[6]*x[18]*x[22]*x[26]*x[28]*x[48]*x[50] + 4(x[10]^2)*x[1]*x[18]*x[21]*x[40]*x[45]*x[48]*x[49] + 4x[8]*x[22]*x[26]*x[30]*x[39]*x[40]*x[48]*x[49] + 2(x[48]^2)*x[8]*x[18]*x[22]*x[26]*x[28]*x[39]*x[50] + 2(x[9]^2)*(x[45]^2)*x[1]*x[15]*x[27]*x[29]*x[40]*x[49] + 2x[5]*x[6]*x[18]*x[26]*x[33]*x[34]*x[40]*x[49] + 4x[1]*x[3]*x[6]*x[10]*x[18]*x[40]*x[45]*x[48]*x[49] + 2(x[48]^2)*x[8]*x[10]*x[18]*x[26]*x[30]*x[39]*x[40]*x[49] + 3(x[9]^2)*x[4]*x[15]*x[18]*x[26]*x[27]*x[29]*x[33]*x[42] + 4(x[9]^2)*x[5]*x[15]*x[18]*x[22]*x[26]*x[28]*x[48]*x[50] + 4(x[9]^2)*x[3]*x[15]*x[22]*x[26]*x[28]*x[30]*x[48]*x[50] + 2(x[9]^2)*x[1]*x[3]*x[15]*x[22]*x[28]*x[45]*x[48]*x[50] + 2x[2]*x[4]*x[10]*x[16]*x[18]*x[27]*x[37]*x[44]*x[48] + 2x[1]*x[5]*x[6]*x[10]*x[18]*x[40]*x[45]*x[48]*x[49] + 2(x[18]^2)*x[8]*x[10]*x[15]*x[16]*x[26]*x[40]*x[48]*x[49] + 2x[3]*x[18]*x[22]*x[26]*x[27]*x[37]*x[40]*x[44]*x[49] + 4x[3]*x[18]*x[26]*x[27]*x[37]*x[40]*x[42]*x[44]*x[49] + 4(x[9]^2)*x[1]*x[15]*x[27]*x[29]*x[33]*x[40]*x[45]*x[49] + 2x[5]*x[6]*x[18]*x[26]*x[28]*x[33]*x[34]*x[48]*x[50] + 2(x[9]^2)*x[3]*x[15]*x[26]*x[28]*x[30]*x[42]*x[48]*x[50] + 2x[4]*x[6]*x[10]*x[18]*x[26]*x[30]*x[40]*x[48]*x[49] + 4x[5]*x[18]*x[22]*x[26]*x[27]*x[37]*x[40]*x[44]*x[49] + 2x[3]*x[6]*x[10]*x[18]*x[26]*x[30]*x[40]*x[48]*x[49] + 4(x[48]^3)*x[1]*x[8]*x[10]*x[18]*x[28]*x[39]*x[45]*x[50] + 2x[5]*x[18]*x[26]*x[27]*x[37]*x[40]*x[42]*x[44]*x[49] + 4(x[9]^2)*x[3]*x[15]*x[18]*x[26]*x[28]*x[42]*x[48]*x[50] + 2(x[9]^2)*x[4]*x[15]*x[26]*x[28]*x[30]*x[42]*x[48]*x[50] + 2(x[27]^2)*x[26]*x[29]*x[30]*x[33]*x[37]*x[40]*x[44]*x[49] + 4(x[9]^2)*x[1]*x[5]*x[15]*x[22]*x[28]*x[45]*x[48]*x[50] + 4x[4]*x[18]*x[26]*x[27]*x[37]*x[40]*x[42]*x[44]*x[49] + 4x[8]*x[15]*x[16]*x[26]*x[28]*x[30]*x[42]*x[48]*x[50] + 2x[3]*x[26]*x[27]*x[30]*x[37]*x[40]*x[42]*x[44]*x[49] + 4(x[48]^2)*x[5]*x[6]*x[10]*x[18]*x[26]*x[28]*x[30]*x[50] + 2(x[9]^2)*x[15]*x[18]*x[26]*x[27]*x[29]*x[40]*x[45]*x[49] + 4(x[9]^2)*x[15]*x[26]*x[27]*x[29]*x[30]*x[40]*x[45]*x[49] + 2(x[9]^2)*x[5]*x[15]*x[18]*x[26]*x[28]*x[42]*x[48]*x[50] + 2(x[9]^2)*x[5]*x[15]*x[18]*x[26]*x[33]*x[34]*x[40]*x[49] + 4(x[9]^2)*x[5]*x[15]*x[26]*x[30]*x[33]*x[34]*x[40]*x[49] + 4x[5]*x[26]*x[27]*x[30]*x[37]*x[40]*x[42]*x[44]*x[49] + 4(x[9]^2)*(x[18]^2)*(x[48]^2)*x[3]*x[10]*x[15]*x[26]*x[28]*x[50] + 2(x[48]^2)*x[1]*x[5]*x[6]*x[10]*x[18]*x[28]*x[45]*x[50] + 2(x[48]^2)*x[3]*x[6]*x[10]*x[18]*x[26]*x[28]*x[30]*x[50] + 2x[6]*x[18]*x[26]*x[27]*x[28]*x[29]*x[45]*x[48]*x[50] + 4(x[9]^2)*x[1]*x[4]*x[15]*x[28]*x[42]*x[45]*x[48]*x[50] + 2(x[9]^2)*x[1]*x[5]*x[15]*x[33]*x[34]*x[40]*x[45]*x[49] + 2(x[27]^2)*x[18]*x[26]*x[29]*x[37]*x[40]*x[44]*x[45]*x[49] + 4x[4]*x[22]*x[26]*x[27]*x[30]*x[37]*x[40]*x[44]*x[49] + 2x[1]*x[5]*x[27]*x[37]*x[40]*x[42]*x[44]*x[45]*x[49] + 3(x[9]^2)*x[4]*x[15]*x[18]*x[26]*x[27]*x[29]*x[42]*x[45] + 4x[3]*x[22]*x[26]*x[27]*x[30]*x[37]*x[40]*x[44]*x[49] + 4(x[9]^2)*(x[18]^2)*x[4]*x[10]*x[15]*x[26]*x[40]*x[48]*x[49] + 4x[5]*x[6]*x[10]*x[18]*x[26]*x[30]*x[40]*x[48]*x[49] + 4x[6]*x[18]*x[26]*x[27]*x[28]*x[29]*x[33]*x[48]*x[50] + 2x[1]*x[8]*x[15]*x[16]*x[28]*x[42]*x[45]*x[48]*x[50] + 2x[6]*x[26]*x[27]*x[28]*x[29]*x[30]*x[33]*x[48]*x[50] + 4(x[48]^2)*x[1]*x[4]*x[6]*x[10]*x[18]*x[28]*x[45]*x[50] + 3(x[9]^2)*x[4]*x[5]*x[15]*x[18]*x[26]*x[33]*x[34]*x[42] + 4x[1]*x[6]*x[27]*x[28]*x[29]*x[33]*x[45]*x[48]*x[50] + 4x[1]*x[5]*x[22]*x[27]*x[37]*x[40]*x[44]*x[45]*x[49] + 2(x[9]^2)*(x[18]^2)*(x[48]^2)*x[5]*x[10]*x[15]*x[26]*x[28]*x[50] + 4(x[9]^2)*x[4]*x[15]*x[18]*x[26]*x[28]*x[42]*x[48]*x[50] + 4(x[9]^2)*x[5]*x[15]*x[26]*x[28]*x[30]*x[42]*x[48]*x[50] + 4(x[27]^2)*x[18]*x[26]*x[29]*x[33]*x[37]*x[40]*x[44]*x[49] + 4(x[9]^2)*x[1]*x[3]*x[15]*x[28]*x[42]*x[45]*x[48]*x[50] + 3(x[9]^2)*x[1]*x[4]*x[5]*x[15]*x[33]*x[34]*x[42]*x[45] + 2(x[48]^2)*x[4]*x[6]*x[10]*x[18]*x[26]*x[28]*x[30]*x[50] + 2x[8]*x[15]*x[16]*x[18]*x[26]*x[28]*x[42]*x[48]*x[50] + 4x[2]*x[5]*x[10]*x[16]*x[18]*x[27]*x[37]*x[44]*x[48] + 2(x[9]^2)*x[4]*x[15]*x[18]*x[22]*x[26]*x[28]*x[48]*x[50] + 2(x[48]^3)*x[8]*x[10]*x[18]*x[26]*x[28]*x[30]*x[39]*x[50] + 2(x[9]^2)*x[3]*x[15]*x[18]*x[22]*x[26]*x[28]*x[48]*x[50] + 4(x[48]^2)*x[1]*x[3]*x[6]*x[10]*x[18]*x[28]*x[45]*x[50] + (x[9]^2)*x[15]*x[18]*x[26]*x[27]*x[28]*x[29]*x[33]*x[48]*x[50] + 2(x[9]^2)*x[1]*x[4]*x[15]*x[22]*x[28]*x[45]*x[48]*x[50] + 2(x[27]^2)*(x[45]^2)*x[1]*x[28]*x[29]*x[37]*x[44]*x[48]*x[50] + 4x[8]*x[15]*x[16]*x[18]*x[22]*x[26]*x[28]*x[48]*x[50] + 2x[1]*x[4]*x[22]*x[27]*x[37]*x[40]*x[44]*x[45]*x[49] + 2(x[9]^2)*x[1]*x[5]*x[15]*x[28]*x[42]*x[45]*x[48]*x[50] + 4x[1]*x[4]*x[6]*x[10]*x[18]*x[40]*x[45]*x[48]*x[49] + 4x[1]*x[4]*x[27]*x[37]*x[40]*x[42]*x[44]*x[45]*x[49] + 2x[4]*x[18]*x[22]*x[26]*x[27]*x[37]*x[40]*x[44]*x[49] + 5(x[9]^2)*(x[45]^2)*x[1]*x[15]*x[27]*x[28]*x[29]*x[48]*x[50] + 4x[1]*x[3]*x[27]*x[37]*x[40]*x[42]*x[44]*x[45]*x[49] + 2(x[18]^2)*(x[48]^2)*x[8]*x[10]*x[15]*x[16]*x[26]*x[28]*x[50] + (x[9]^2)*x[1]*x[15]*x[27]*x[28]*x[29]*x[33]*x[45]*x[48]*x[50] + 4(x[27]^2)*x[1]*x[29]*x[33]*x[37]*x[40]*x[44]*x[45]*x[49] + 4(x[9]^2)*x[4]*x[15]*x[22]*x[26]*x[28]*x[30]*x[48]*x[50] + 2(x[9]^2)*x[5]*x[15]*x[22]*x[26]*x[28]*x[30]*x[48]*x[50] + 4(x[9]^2)*(x[18]^2)*(x[48]^2)*x[4]*x[10]*x[15]*x[26]*x[28]*x[50] + 4x[6]*x[26]*x[27]*x[28]*x[29]*x[30]*x[45]*x[48]*x[50] + 4x[5]*x[6]*x[26]*x[28]*x[30]*x[33]*x[34]*x[48]*x[50] + 4x[1]*x[8]*x[15]*x[16]*x[22]*x[28]*x[45]*x[48]*x[50] + 2x[2]*x[3]*x[10]*x[16]*x[18]*x[27]*x[37]*x[44]*x[48] + 2x[1]*x[3]*x[22]*x[27]*x[37]*x[40]*x[44]*x[45]*x[49] + 2(x[9]^2)*(x[18]^2)*x[5]*x[10]*x[15]*x[26]*x[40]*x[48]*x[49] + 2x[1]*x[5]*x[6]*x[28]*x[33]*x[34]*x[45]*x[48]*x[50] + 2x[8]*x[15]*x[16]*x[22]*x[26]*x[28]*x[30]*x[48]*x[50] + 2(x[9]^2)*x[15]*x[26]*x[27]*x[29]*x[30]*x[33]*x[40]*x[49] + 3(x[9]^2)*x[1]*x[4]*x[15]*x[27]*x[29]*x[33]*x[42]*x[45] + 2x[5]*x[22]*x[26]*x[27]*x[30]*x[37]*x[40]*x[44]*x[49] + 4(x[9]^2)*x[15]*x[18]*x[26]*x[27]*x[29]*x[33]*x[40]*x[49] + 2x[4]*x[26]*x[27]*x[30]*x[37]*x[40]*x[42]*x[44]*x[49] + 4(x[48]^2)*x[1]*x[8]*x[10]*x[18]*x[39]*x[40]*x[45]*x[49] + 4(x[9]^2)*(x[18]^2)*x[3]*x[10]*x[15]*x[26]*x[40]*x[48]*x[49] + 4(x[27]^2)*x[26]*x[29]*x[30]*x[37]*x[40]*x[44]*x[45]*x[49] + 2(x[9]^2)*x[1]*x[5]*x[10]*x[15]*x[18]*x[40]*x[45]*x[48]*x[49] + 2(x[9]^2)*x[4]*x[10]*x[15]*x[18]*x[26]*x[30]*x[40]*x[48]*x[49] + 2(x[18]^2)*(x[48]^2)*x[5]*x[10]*x[26]*x[27]*x[28]*x[37]*x[44]*x[50] + 2(x[27]^2)*x[26]*x[28]*x[29]*x[30]*x[33]*x[37]*x[44]*x[48]*x[50] + 4(x[18]^2)*(x[48]^2)*x[3]*x[10]*x[26]*x[27]*x[28]*x[37]*x[44]*x[50] + 5(x[9]^2)*x[15]*x[18]*x[26]*x[27]*x[28]*x[29]*x[45]*x[48]*x[50] + 2x[1]*x[5]*x[27]*x[33]*x[34]*x[37]*x[40]*x[44]*x[45]*x[49] + 2x[3]*x[18]*x[22]*x[26]*x[27]*x[28]*x[37]*x[44]*x[48]*x[50] + 2x[4]*x[18]*x[22]*x[26]*x[27]*x[28]*x[37]*x[44]*x[48]*x[50] + 2x[5]*x[22]*x[26]*x[27]*x[28]*x[30]*x[37]*x[44]*x[48]*x[50] + 2x[5]*x[18]*x[26]*x[27]*x[28]*x[37]*x[42]*x[44]*x[48]*x[50] + 4(x[9]^2)*(x[48]^2)*x[5]*x[10]*x[15]*x[18]*x[26]*x[28]*x[30]*x[50] + 5(x[9]^2)*x[1]*x[5]*x[15]*x[28]*x[33]*x[34]*x[45]*x[48]*x[50] + 4(x[18]^2)*x[3]*x[10]*x[26]*x[27]*x[37]*x[40]*x[44]*x[48]*x[49] + 2(x[9]^2)*(x[48]^2)*x[3]*x[10]*x[15]*x[18]*x[26]*x[28]*x[30]*x[50] + 4(x[27]^2)*x[26]*x[28]*x[29]*x[30]*x[37]*x[44]*x[45]*x[48]*x[50] + 2x[1]*x[3]*x[22]*x[27]*x[28]*x[37]*x[44]*x[45]*x[48]*x[50] + 4(x[9]^2)*(x[48]^2)*x[1]*x[3]*x[10]*x[15]*x[18]*x[28]*x[45]*x[50] + 4x[1]*x[3]*x[27]*x[28]*x[37]*x[42]*x[44]*x[45]*x[48]*x[50] + 4(x[9]^2)*x[5]*x[15]*x[26]*x[28]*x[30]*x[33]*x[34]*x[48]*x[50] + 2(x[9]^2)*x[15]*x[26]*x[27]*x[28]*x[29]*x[30]*x[33]*x[48]*x[50] + 4x[3]*x[22]*x[26]*x[27]*x[28]*x[30]*x[37]*x[44]*x[48]*x[50] + 4x[1]*x[4]*x[27]*x[28]*x[37]*x[42]*x[44]*x[45]*x[48]*x[50] + 4x[4]*x[22]*x[26]*x[27]*x[28]*x[30]*x[37]*x[44]*x[48]*x[50] + 4(x[18]^2)*x[4]*x[10]*x[26]*x[27]*x[37]*x[40]*x[44]*x[48]*x[49] + 2x[1]*x[8]*x[10]*x[15]*x[16]*x[18]*x[40]*x[45]*x[48]*x[49] + 2(x[9]^2)*(x[48]^2)*x[4]*x[10]*x[15]*x[18]*x[26]*x[28]*x[30]*x[50] + 2x[5]*x[18]*x[26]*x[27]*x[33]*x[34]*x[37]*x[40]*x[44]*x[49] + 4(x[48]^2)*x[8]*x[10]*x[15]*x[16]*x[18]*x[26]*x[28]*x[30]*x[50] + 4x[4]*x[18]*x[26]*x[27]*x[28]*x[37]*x[42]*x[44]*x[48]*x[50] + 5(x[9]^2)*x[5]*x[15]*x[18]*x[26]*x[28]*x[33]*x[34]*x[48]*x[50] + 4(x[27]^2)*x[1]*x[28]*x[29]*x[33]*x[37]*x[44]*x[45]*x[48]*x[50] + 2(x[9]^2)*x[3]*x[10]*x[15]*x[18]*x[26]*x[30]*x[40]*x[48]*x[49] + 4(x[9]^2)*x[5]*x[10]*x[15]*x[18]*x[26]*x[30]*x[40]*x[48]*x[49] + 4x[8]*x[10]*x[15]*x[16]*x[18]*x[26]*x[30]*x[40]*x[48]*x[49] + 2x[3]*x[26]*x[27]*x[28]*x[30]*x[37]*x[42]*x[44]*x[48]*x[50] + 2x[4]*x[26]*x[27]*x[28]*x[30]*x[37]*x[42]*x[44]*x[48]*x[50] + 2x[1]*x[4]*x[22]*x[27]*x[28]*x[37]*x[44]*x[45]*x[48]*x[50] + 2x[1]*x[5]*x[27]*x[28]*x[37]*x[42]*x[44]*x[45]*x[48]*x[50] + 4x[5]*x[18]*x[22]*x[26]*x[27]*x[28]*x[37]*x[44]*x[48]*x[50] + 4x[5]*x[26]*x[27]*x[28]*x[30]*x[37]*x[42]*x[44]*x[48]*x[50] + 4x[5]*x[26]*x[27]*x[30]*x[33]*x[34]*x[37]*x[40]*x[44]*x[49] + 4(x[18]^2)*(x[48]^2)*x[4]*x[10]*x[26]*x[27]*x[28]*x[37]*x[44]*x[50] + 4x[3]*x[18]*x[26]*x[27]*x[28]*x[37]*x[42]*x[44]*x[48]*x[50] + 4(x[9]^2)*x[1]*x[3]*x[10]*x[15]*x[18]*x[40]*x[45]*x[48]*x[49] + 4(x[9]^2)*(x[48]^2)*x[1]*x[4]*x[10]*x[15]*x[18]*x[28]*x[45]*x[50] + 4(x[27]^2)*x[18]*x[26]*x[28]*x[29]*x[33]*x[37]*x[44]*x[48]*x[50] + 2(x[18]^2)*x[5]*x[10]*x[26]*x[27]*x[37]*x[40]*x[44]*x[48]*x[49] + 2(x[48]^2)*x[1]*x[8]*x[10]*x[15]*x[16]*x[18]*x[28]*x[45]*x[50] + 4(x[9]^2)*x[1]*x[4]*x[10]*x[15]*x[18]*x[40]*x[45]*x[48]*x[49] + 2(x[9]^2)*(x[48]^2)*x[1]*x[5]*x[10]*x[15]*x[18]*x[28]*x[45]*x[50] + 4x[1]*x[5]*x[22]*x[27]*x[28]*x[37]*x[44]*x[45]*x[48]*x[50] + 2(x[27]^2)*x[18]*x[26]*x[28]*x[29]*x[37]*x[44]*x[45]*x[48]*x[50] + 4(x[9]^2)*x[15]*x[26]*x[27]*x[28]*x[29]*x[30]*x[45]*x[48]*x[50] + 4x[1]*x[4]*x[10]*x[18]*x[27]*x[37]*x[40]*x[44]*x[45]*x[48]*x[49] + 2x[3]*x[10]*x[18]*x[26]*x[27]*x[30]*x[37]*x[40]*x[44]*x[48]*x[49] + 2x[4]*x[10]*x[18]*x[26]*x[27]*x[30]*x[37]*x[40]*x[44]*x[48]*x[49] + 2(x[48]^2)*x[3]*x[10]*x[18]*x[26]*x[27]*x[28]*x[30]*x[37]*x[44]*x[50] + 2(x[48]^2)*x[4]*x[10]*x[18]*x[26]*x[27]*x[28]*x[30]*x[37]*x[44]*x[50] + 2x[5]*x[18]*x[26]*x[27]*x[28]*x[33]*x[34]*x[37]*x[44]*x[48]*x[50] + 4(x[48]^2)*x[1]*x[3]*x[10]*x[18]*x[27]*x[28]*x[37]*x[44]*x[45]*x[50] + 2(x[48]^2)*x[1]*x[5]*x[10]*x[18]*x[27]*x[28]*x[37]*x[44]*x[45]*x[50] + 4(x[48]^2)*x[5]*x[10]*x[18]*x[26]*x[27]*x[28]*x[30]*x[37]*x[44]*x[50] + 4x[5]*x[26]*x[27]*x[28]*x[30]*x[33]*x[34]*x[37]*x[44]*x[48]*x[50] + 2x[1]*x[5]*x[10]*x[18]*x[27]*x[37]*x[40]*x[44]*x[45]*x[48]*x[49] + 4x[5]*x[10]*x[18]*x[26]*x[27]*x[30]*x[37]*x[40]*x[44]*x[48]*x[49] + 4(x[48]^2)*x[1]*x[4]*x[10]*x[18]*x[27]*x[28]*x[37]*x[44]*x[45]*x[50] + 2x[1]*x[5]*x[27]*x[28]*x[33]*x[34]*x[37]*x[44]*x[45]*x[48]*x[50] + 4x[1]*x[3]*x[10]*x[18]*x[27]*x[37]*x[40]*x[44]*x[45]*x[48]*x[49] + x[5] x[3]*x[4] + x[4]^2 + 5x[3]*x[6] + 2(x[19]^2)*x[8] + 5x[4]*x[6] + 4x[1]*x[22] + 2x[4]*x[5] + 4x[5]*x[6] + (x[3] + x[4])*x[7]*x[37] + 2x[23]*x[43] + 2x[2]*x[5]*x[6] + 3(x[4]^2)*x[11]*x[42] + 3x[4]*x[20]*x[42] + 4x[2]*x[3]*x[6] + 4x[3]*x[6]*x[42] + 4x[4]*x[6]*x[42] + 4x[2]*x[10]*x[21] + 2x[5]*x[7]*x[37] + 2x[5]*x[6]*x[42] + 4x[2]*x[4]*x[6] + 4x[10]*x[21]*x[42] + 2(x[9]^2)*x[2]*x[5]*x[15] + 2(x[9]^2)*x[5]*x[15]*x[42] + 2x[2]*x[10]*x[16]*x[21] + 2x[8]*x[15]*x[16]*x[42] + 3x[3]*x[4]*x[11]*x[42] + 4(x[9]^2)*x[2]*x[3]*x[15] + 2x[2]*x[3]*x[6]*x[16] + 4x[2]*x[5]*x[6]*x[16] + 4(x[9]^2)*x[4]*x[15]*x[42] + 2x[2]*x[8]*x[15]*x[16] + 4(x[16]^2)*x[2]*x[8]*x[15] + 4x[2]*x[8]*x[39]*x[48] + 4x[4]*x[32]*x[40]*x[49] + 2x[5]*x[32]*x[40]*x[49] + 4x[3]*x[32]*x[40]*x[49] + 2x[4]*x[35]*x[40]*x[49] + 4(x[9]^2)*x[2]*x[4]*x[15] + 4(x[9]^2)*x[3]*x[15]*x[42] + 2(x[40]^2)*x[11]*x[26]*x[49] + 2x[2]*x[4]*x[6]*x[16] + 2x[3]*x[35]*x[40]*x[49] + 4x[5]*x[35]*x[40]*x[49] + 2x[7]*x[22]*x[40]*x[49] + 3x[20]*x[28]*x[48]*x[50] + 4x[8]*x[39]*x[42]*x[48] + 2(x[9]^2)*x[2]*x[3]*x[15]*x[16] + 2(x[9]^2)*x[2]*x[4]*x[15]*x[16] + 2x[5]*x[28]*x[32]*x[48]*x[50] + 2x[4]*x[28]*x[35]*x[48]*x[50] + 4x[2]*x[4]*x[27]*x[37]*x[44] + 2x[2]*x[5]*x[27]*x[37]*x[44] + 4x[3]*x[27]*x[37]*x[42]*x[44] + 3x[3]*x[11]*x[28]*x[48]*x[50] + 4x[3]*x[28]*x[32]*x[48]*x[50] + 3x[4]*x[11]*x[28]*x[48]*x[50] + 4x[4]*x[28]*x[32]*x[48]*x[50] + 4x[4]*x[27]*x[37]*x[42]*x[44] + 2x[5]*x[27]*x[37]*x[42]*x[44] + 4(x[9]^2)*x[2]*x[5]*x[15]*x[16] + 2x[2]*x[8]*x[16]*x[39]*x[48] + 2x[7]*x[22]*x[28]*x[48]*x[50] + 2x[3]*x[28]*x[35]*x[48]*x[50] + 4x[2]*x[3]*x[27]*x[37]*x[44] + 4x[5]*x[28]*x[35]*x[48]*x[50] + 2x[5]*x[6]*x[18]*x[26]*x[40]*x[49] + 4x[2]*x[5]*x[16]*x[27]*x[37]*x[44] + 4x[3]*x[6]*x[18]*x[26]*x[40]*x[49] + 2x[4]*x[6]*x[26]*x[30]*x[40]*x[49] + 4x[5]*x[6]*x[26]*x[30]*x[40]*x[49] + 4x[1]*x[4]*x[6]*x[40]*x[45]*x[49] + 3x[4]*x[10]*x[18]*x[21]*x[26]*x[42] + 4x[10]*x[18]*x[21]*x[26]*x[40]*x[49] + 2x[1]*x[5]*x[6]*x[40]*x[45]*x[49] + 3x[1]*x[4]*x[10]*x[21]*x[42]*x[45] + 2x[10]*x[21]*x[26]*x[30]*x[40]*x[49] + 3(x[4]^2)*(x[9]^2)*x[15]*x[18]*x[26]*x[42] + 4x[4]*x[6]*x[18]*x[26]*x[40]*x[49] + 4x[1]*x[3]*x[6]*x[40]*x[45]*x[49] + 4x[1]*x[10]*x[21]*x[40]*x[45]*x[49] + (x[48]^2)*x[1]*x[8]*x[28]*x[39]*x[45]*x[50] + 2x[2]*x[3]*x[16]*x[27]*x[37]*x[44] + 2x[2]*x[4]*x[16]*x[27]*x[37]*x[44] + 2x[3]*x[6]*x[26]*x[30]*x[40]*x[49] + x[1]*x[10]*x[21]*x[28]*x[45]*x[48]*x[50] + 2x[11]*x[26]*x[28]*x[40]*x[48]*x[50] + (x[48]^2)*x[8]*x[18]*x[26]*x[28]*x[39]*x[50] + 3(x[4]^2)*(x[9]^2)*x[1]*x[15]*x[42]*x[45] + x[10]*x[18]*x[21]*x[26]*x[28]*x[48]*x[50] + 4(x[9]^2)*x[1]*x[4]*x[15]*x[40]*x[45]*x[49] + 2(x[9]^2)*x[1]*x[5]*x[15]*x[40]*x[45]*x[49] + 2x[5]*x[6]*x[18]*x[26]*x[28]*x[48]*x[50] + 2x[3]*x[6]*x[26]*x[28]*x[30]*x[48]*x[50] + 3(x[9]^2)*x[3]*x[4]*x[15]*x[18]*x[26]*x[42] + 4x[3]*x[6]*x[18]*x[26]*x[28]*x[48]*x[50] + 4x[4]*x[6]*x[18]*x[26]*x[28]*x[48]*x[50] + 4x[5]*x[6]*x[26]*x[28]*x[30]*x[48]*x[50] + (x[9]^2)*x[4]*x[15]*x[18]*x[26]*x[28]*x[48]*x[50] + 2x[8]*x[15]*x[16]*x[18]*x[26]*x[40]*x[49] + 4(x[9]^2)*x[3]*x[15]*x[18]*x[26]*x[40]*x[49] + 4(x[9]^2)*x[1]*x[3]*x[15]*x[40]*x[45]*x[49] + 4x[8]*x[18]*x[26]*x[39]*x[40]*x[48]*x[49] + 4x[1]*x[3]*x[6]*x[28]*x[45]*x[48]*x[50] + 4x[8]*x[15]*x[16]*x[26]*x[30]*x[40]*x[49] + 3x[1]*x[4]*x[8]*x[39]*x[42]*x[45]*x[48] + 2x[10]*x[21]*x[26]*x[28]*x[30]*x[48]*x[50] + 4(x[9]^2)*x[4]*x[15]*x[18]*x[26]*x[40]*x[49] + (x[9]^2)*x[3]*x[15]*x[18]*x[26]*x[28]*x[48]*x[50] + 4x[1]*x[4]*x[6]*x[28]*x[45]*x[48]*x[50] + 3x[1]*x[4]*x[8]*x[15]*x[16]*x[42]*x[45] + 2(x[9]^2)*x[3]*x[15]*x[26]*x[30]*x[40]*x[49] + 2(x[9]^2)*x[4]*x[15]*x[26]*x[30]*x[40]*x[49] + (x[9]^2)*x[1]*x[4]*x[15]*x[28]*x[45]*x[48]*x[50] + 4x[1]*x[8]*x[39]*x[40]*x[45]*x[48]*x[49] + 2(x[48]^2)*x[8]*x[26]*x[28]*x[30]*x[39]*x[50] + 2(x[9]^2)*x[5]*x[15]*x[18]*x[26]*x[40]*x[49] + 4(x[9]^2)*x[5]*x[15]*x[26]*x[30]*x[40]*x[49] + 2x[1]*x[8]*x[15]*x[16]*x[40]*x[45]*x[49] + 3(x[9]^2)*x[1]*x[3]*x[4]*x[15]*x[42]*x[45] + 3x[4]*x[8]*x[15]*x[16]*x[18]*x[26]*x[42] + 2x[4]*x[6]*x[26]*x[28]*x[30]*x[48]*x[50] + 2x[1]*x[5]*x[6]*x[28]*x[45]*x[48]*x[50] + 3x[4]*x[8]*x[18]*x[26]*x[39]*x[42]*x[48] + (x[9]^2)*x[1]*x[3]*x[15]*x[28]*x[45]*x[48]*x[50] + 2x[8]*x[26]*x[30]*x[39]*x[40]*x[48]*x[49] + 4x[3]*x[18]*x[26]*x[27]*x[37]*x[40]*x[44]*x[49] + 4x[4]*x[18]*x[26]*x[27]*x[37]*x[40]*x[44]*x[49] + 4x[1]*x[4]*x[27]*x[37]*x[40]*x[44]*x[45]*x[49] + 5x[1]*x[8]*x[15]*x[16]*x[28]*x[45]*x[48]*x[50] + 2x[5]*x[18]*x[26]*x[27]*x[37]*x[40]*x[44]*x[49] + 2x[1]*x[5]*x[27]*x[37]*x[40]*x[44]*x[45]*x[49] + 5x[8]*x[15]*x[16]*x[18]*x[26]*x[28]*x[48]*x[50] + 2x[3]*x[26]*x[27]*x[30]*x[37]*x[40]*x[44]*x[49] + 2x[4]*x[26]*x[27]*x[30]*x[37]*x[40]*x[44]*x[49] + 2(x[9]^2)*x[3]*x[15]*x[26]*x[28]*x[30]*x[48]*x[50] + 2(x[9]^2)*x[4]*x[15]*x[26]*x[28]*x[30]*x[48]*x[50] + 4x[8]*x[15]*x[16]*x[26]*x[28]*x[30]*x[48]*x[50] + 4x[1]*x[3]*x[27]*x[37]*x[40]*x[44]*x[45]*x[49] + 2(x[9]^2)*x[5]*x[15]*x[18]*x[26]*x[28]*x[48]*x[50] + 4x[5]*x[26]*x[27]*x[30]*x[37]*x[40]*x[44]*x[49] + 4(x[9]^2)*x[5]*x[15]*x[26]*x[28]*x[30]*x[48]*x[50] + 2(x[9]^2)*x[1]*x[5]*x[15]*x[28]*x[45]*x[48]*x[50] + 4x[1]*x[4]*x[27]*x[28]*x[37]*x[44]*x[45]*x[48]*x[50] + 4x[4]*x[18]*x[26]*x[27]*x[28]*x[37]*x[44]*x[48]*x[50] + 2x[3]*x[26]*x[27]*x[28]*x[30]*x[37]*x[44]*x[48]*x[50] + 2x[4]*x[26]*x[27]*x[28]*x[30]*x[37]*x[44]*x[48]*x[50] + 2x[5]*x[18]*x[26]*x[27]*x[28]*x[37]*x[44]*x[48]*x[50] + 4x[3]*x[18]*x[26]*x[27]*x[28]*x[37]*x[44]*x[48]*x[50] + 4x[5]*x[26]*x[27]*x[28]*x[30]*x[37]*x[44]*x[48]*x[50] + 4x[1]*x[3]*x[27]*x[28]*x[37]*x[44]*x[45]*x[48]*x[50] + 2x[1]*x[5]*x[27]*x[28]*x[37]*x[44]*x[45]*x[48]*x[50] … 3x[4]*x[42] + 4x[40]*x[49] + x[28]*x[48]*x[50] 1.0], Num[1 0 0; 4x[22] + 2x[42] + 2x[10]*x[18]*x[48] 1 0; … ; 2x[9]*x[30] + 3x[29]*x[36] + 5x[20]*x[26] 3x[20] + 4x[7]*x[22] + 4x[11]*x[26]*x[40] 5x[18]*x[26] + 5x[1]*x[45] + 4x[26]*x[30]; 5x[5] + 2x[13] + 2x[8]*x[20]*x[25] 4(x[19]^2)*x[8] + 2x[1]*x[22] + 4x[23]*x[43] 2(x[2] + x[42]) + 4x[2]*x[16]], Num[1.0 0.0 … 0.0 0.0; 2x[22] + 4x[42] + 4x[10]*x[18]*x[48] 1.0 … 0.0 0.0; x[25]*x[36] + 3x[3]*x[12] + 2x[3]*x[6]*x[22] + 2x[4]*x[6]*x[22] + 2x[10]*x[21]*x[22] + 4x[3]*x[6]*x[42] + 4x[4]*x[6]*x[42] + 4x[5]*x[6]*x[22] + 2x[5]*x[6]*x[42] + 4x[10]*x[21]*x[42] + 4x[19]*x[43]*x[45] + 2(x[9]^2)*x[3]*x[15]*x[22] + 2(x[9]^2)*x[4]*x[15]*x[22] + 4(x[9]^2)*x[5]*x[15]*x[22] + 2(x[9]^2)*x[5]*x[15]*x[42] + 2x[8]*x[15]*x[16]*x[42] + 2x[5]*x[6]*x[33]*x[34] + 4(x[9]^2)*x[4]*x[15]*x[42] + 4x[8]*x[15]*x[16]*x[22] + 4(x[10]^2)*x[18]*x[21]*x[48] + 2x[8]*x[22]*x[39]*x[48] + 2x[6]*x[27]*x[29]*x[45] + 4x[6]*x[27]*x[29]*x[33] + 4x[8]*x[39]*x[42]*x[48] + (x[9]^2)*x[15]*x[27]*x[29]*x[33] + 4(x[9]^2)*x[3]*x[15]*x[42] + 4(x[48]^2)*x[8]*x[10]*x[18]*x[39] + 5(x[9]^2)*x[5]*x[15]*x[33]*x[34] + 4x[3]*x[27]*x[37]*x[42]*x[44] + 2x[4]*x[22]*x[27]*x[37]*x[44] + 4x[5]*x[22]*x[27]*x[37]*x[44] + 4x[4]*x[6]*x[10]*x[18]*x[48] + 4x[4]*x[27]*x[37]*x[42]*x[44] + 2(x[27]^2)*x[29]*x[37]*x[44]*x[45] + 4(x[27]^2)*x[29]*x[33]*x[37]*x[44] + 2x[5]*x[27]*x[37]*x[42]*x[44] + 5(x[9]^2)*x[15]*x[27]*x[29]*x[45] + 2x[3]*x[22]*x[27]*x[37]*x[44] + 4x[3]*x[6]*x[10]*x[18]*x[48] + 2x[5]*x[6]*x[10]*x[18]*x[48] + 2x[5]*x[27]*x[33]*x[34]*x[37]*x[44] + 4(x[9]^2)*x[3]*x[10]*x[15]*x[18]*x[48] + 2(x[9]^2)*x[5]*x[10]*x[15]*x[18]*x[48] + 2x[8]*x[10]*x[15]*x[16]*x[18]*x[48] + 4(x[9]^2)*x[4]*x[10]*x[15]*x[18]*x[48] + 4x[3]*x[10]*x[18]*x[27]*x[37]*x[44]*x[48] + 4x[4]*x[10]*x[18]*x[27]*x[37]*x[44]*x[48] + 2x[5]*x[10]*x[18]*x[27]*x[37]*x[44]*x[48] x[10]*x[21] + 2x[5]*x[6] + 4x[3]*x[6] + 4x[4]*x[6] + (x[9]^2)*x[3]*x[15] + (x[9]^2)*x[4]*x[15] + x[8]*x[39]*x[48] + 2(x[9]^2)*x[5]*x[15] + 5x[8]*x[15]*x[16] + 4x[3]*x[27]*x[37]*x[44] + 2x[5]*x[27]*x[37]*x[44] + 4x[4]*x[27]*x[37]*x[44] … 0.0 0.0])"
      ]
     },
     "execution_count": 135,
     "metadata": {},
     "output_type": "execute_result"
    }
   ],
   "source": [
    "A,B,C,D=matrix_kl_mod(6,3,50,3,3,6)"
   ]
  },
  {
   "cell_type": "code",
   "execution_count": 130,
   "id": "16aafd3b",
   "metadata": {},
   "outputs": [
    {
     "data": {
      "text/latex": [
       "$$ \\begin{equation}\n",
       "\\left[\n",
       "\\begin{array}{ccccc}\n",
       "1.0 & 0.0 & 0.0 & 0.0 & 0.0 \\\\\n",
       "0 & 1.0 & 0.0 & 0.0 & 0.0 \\\\\n",
       "0 & 0 & 1.0 & 0.0 & 0.0 \\\\\n",
       "0 & 0 & 0 & 1.0 & 0.0 \\\\\n",
       "0 & 0 & 0 & 0 & 1.0 \\\\\n",
       "\\end{array}\n",
       "\\right]\n",
       "\\end{equation}\n",
       " $$"
      ],
      "text/plain": [
       "5×5 Matrix{Num}:\n",
       " 1.0  0.0  0.0  0.0  0.0\n",
       " 0    1.0  0.0  0.0  0.0\n",
       " 0    0    1.0  0.0  0.0\n",
       " 0    0    0    1.0  0.0\n",
       " 0    0    0    0    1.0"
      ]
     },
     "execution_count": 130,
     "metadata": {},
     "output_type": "execute_result"
    }
   ],
   "source": [
    "modify_matrix_coef(D*C,6)"
   ]
  },
  {
   "cell_type": "code",
   "execution_count": 278,
   "id": "43be517e",
   "metadata": {},
   "outputs": [
    {
     "data": {
      "text/plain": [
       "matrix_kl (generic function with 1 method)"
      ]
     },
     "execution_count": 278,
     "metadata": {},
     "output_type": "execute_result"
    }
   ],
   "source": [
    "# function matrix_kl(k,l,s,n,t,B,q)\n",
    "#     Ls=[]\n",
    "#     Us=[]\n",
    "#     for i in 1:s\n",
    "#         U=generate_U(k,n,t,B,q)\n",
    "#         L=generate_L(k,n,t,B,q)\n",
    "#         push!(Us,U)\n",
    "#         push!(Ls,L)\n",
    "#     end \n",
    "#     U_new=Us[rand(1:s)]\n",
    "#     L_new=Ls[rand(1:s)]\n",
    "    \n",
    "#     P1=random_permutation(k)\n",
    "#     P2=random_permutation(k)\n",
    "#     kk_matrix=matrix_multiplication(matrix_multiplication(matrix_multiplication(U_new,P1),L_new),P2)\n",
    "# #     kk_matrix=simplify.(expand.(kk_matrix))\n",
    "# #     kk_matrix=modify_matrix_coef(kk_matrix,q)#modify the coefficients for kk_matrix\n",
    "#     kk_inv=inv(P2)*inv(L_new)*inv(P1)*inv(U_new)#able to compute, not able to verify the result\n",
    "# #     kk_inv=simplify.(expand.(kk_inv))\n",
    "#     col_keep,kl_matrix=random_del_cols(k,l,kk_matrix)\n",
    "#     kl_inverse=find_kl_inverse(col_keep,kk_inv)\n",
    "  \n",
    "#     return kk_matrix,kk_inv,kl_matrix, kl_inverse\n",
    "# end \n",
    "\n",
    "# substitution_dict = Dict()\n",
    "# for i in 1:64\n",
    "#     substitution_dict[x[i]] = rand(0:1)\n",
    "# end\n",
    "\n",
    "function matrix_kl(k,l,n,t,B,q)\n",
    "    #generate upper unitriangular matrix\n",
    "    U=generate_U(k,n,t,B,q)\n",
    "    res_U=U[1]\n",
    "    for i in 2:Int(size(U)[1])\n",
    "        res_U=res_U*U[i]\n",
    "    end\n",
    "\n",
    "    #generate lower unitriangular matrix\n",
    "    L=generate_L(k,n,t,B,q)\n",
    "    res_L=L[1]\n",
    "    for i in 2:Int(size(L)[1])\n",
    "        res_L=res_L*L[i]\n",
    "    end\n",
    "\n",
    "    X=res_U*res_L\n",
    "\n",
    "    \n",
    "    uSize=Int(size(U)[1])\n",
    "    invU=inv(U[uSize])\n",
    "    for i in 1:(uSize-1)\n",
    "        invU=invU*(inv(U[uSize-i]))\n",
    "    end\n",
    "\n",
    "    \n",
    "    lSize=Int(size(L)[1])\n",
    "    invL=inv(L[lSize])\n",
    "    for i in 1:(lSize-1)\n",
    "        invL=invL*(inv(L[lSize-i]))\n",
    "    end\n",
    "\n",
    "\n",
    "#     println(simplify.(expand.(invU*res_U)))\n",
    "#     println(simplify.(expand.(invL*res_L)))\n",
    "    Y=(invL)*(invU)\n",
    "#     println(simplify.(expand.(X*Y)))\n",
    "\n",
    "    \n",
    "    col_keep,kl_matrix=random_del_cols(k,l,X)\n",
    "    kl_inverse=find_kl_inverse(col_keep,Y)\n",
    "    return X,Y,kl_matrix,kl_inverse\n",
    "end"
   ]
  },
  {
   "cell_type": "code",
   "execution_count": 285,
   "id": "ee233f6a",
   "metadata": {},
   "outputs": [
    {
     "name": "stdout",
     "output_type": "stream",
     "text": [
      "(5, 3)\n",
      "(3, 5)"
     ]
    }
   ],
   "source": [
    "# A,B,C,D=matrix_kl(4,4,50,3,3,6)\n",
    "\n",
    "A,B,C,D=matrix_kl(5,3,64,2,3,6)\n",
    "println(size(C))\n",
    "print(size(D))"
   ]
  },
  {
   "cell_type": "code",
   "execution_count": 286,
   "id": "e86daae2",
   "metadata": {},
   "outputs": [
    {
     "data": {
      "text/latex": [
       "$$ \\begin{equation}\n",
       "\\left[\n",
       "\\begin{array}{ccc}\n",
       "1.0 & 0 & 0 \\\\\n",
       "0 & 1.0 & 0 \\\\\n",
       "0 & 0 & 1.0 \\\\\n",
       "\\end{array}\n",
       "\\right]\n",
       "\\end{equation}\n",
       " $$"
      ],
      "text/plain": [
       "3×3 Matrix{Num}:\n",
       " 1.0  0    0\n",
       " 0    1.0  0\n",
       " 0    0    1.0"
      ]
     },
     "execution_count": 286,
     "metadata": {},
     "output_type": "execute_result"
    }
   ],
   "source": [
    "simplify.(expand.(D*C))"
   ]
  },
  {
   "cell_type": "code",
   "execution_count": 19,
   "id": "c77e73af",
   "metadata": {},
   "outputs": [
    {
     "data": {
      "text/latex": [
       "$$ \\begin{equation}\n",
       "\\left[\n",
       "\\begin{array}{cccc}\n",
       "1 & 0 & 0 & 0 \\\\\n",
       "0.0 & 1.0 & 0.0 & 0.0 \\\\\n",
       "0.0 & 0.0 & 1.0 & 0.0 \\\\\n",
       "0.0 & 0.0 & 0.0 & 1.0 \\\\\n",
       "\\end{array}\n",
       "\\right]\n",
       "\\end{equation}\n",
       " $$"
      ],
      "text/plain": [
       "4×4 Matrix{Num}:\n",
       " 1    0    0    0\n",
       " 0.0  1.0  0.0  0.0\n",
       " 0.0  0.0  1.0  0.0\n",
       " 0.0  0.0  0.0  1.0"
      ]
     },
     "execution_count": 19,
     "metadata": {},
     "output_type": "execute_result"
    }
   ],
   "source": [
    "# prod_AB=A*B\n",
    "# prod_inv=inv(A*B)\n",
    "# simplify.(expand.(prod_AB*prod_inv))\n",
    "# prod_AB=modify_matrix_coef(prod_AB,6)\n",
    "# prod_inv=modify_matrix_coef(prod_inv,6)\n",
    "# prod_AB*prod_inv"
   ]
  },
  {
   "cell_type": "code",
   "execution_count": 278,
   "id": "8022c817",
   "metadata": {},
   "outputs": [
    {
     "data": {
      "text/latex": [
       "$$ \\begin{equation}\n",
       "\\left[\n",
       "\\begin{array}{ccc}\n",
       "0.0 & 0 & 0.0 \\\\\n",
       "-2.0 & 0.0 & 0.0 \\\\\n",
       "0 & 0 & 0 \\\\\n",
       "\\end{array}\n",
       "\\right]\n",
       "\\end{equation}\n",
       " $$"
      ],
      "text/plain": [
       "3×3 Matrix{Num}:\n",
       "  0.0  0    0.0\n",
       " -2.0  0.0  0.0\n",
       "  0    0    0"
      ]
     },
     "execution_count": 278,
     "metadata": {},
     "output_type": "execute_result"
    }
   ],
   "source": [
    "# substitution_dict = Dict()\n",
    "# for i in 1:64\n",
    "#     substitution_dict[x[i]] = rand(0:1)\n",
    "# end\n",
    "# substitute.(modify_matrix_coef(simplify.(expand.(D*C)),6), (substitution_dict,))\n"
   ]
  },
  {
   "cell_type": "code",
   "execution_count": 194,
   "id": "13c7d284",
   "metadata": {},
   "outputs": [
    {
     "data": {
      "text/plain": [
       "12384"
      ]
     },
     "execution_count": 194,
     "metadata": {},
     "output_type": "execute_result"
    }
   ],
   "source": [
    "\n",
    "file=open(\"publicKey.txt\",\"w\")\n",
    "for i in 1:Int(size(C,1))\n",
    "    for j in 1:Int(size(C,2))\n",
    "        write(file,string(C[i,j]))\n",
    "        write(file,\" \")\n",
    "    end\n",
    "    write(file,\"\\n\")\n",
    "end\n",
    "close(file)\n",
    "filesize(\"publicKey.txt\")"
   ]
  },
  {
   "cell_type": "code",
   "execution_count": 195,
   "id": "7494e428",
   "metadata": {},
   "outputs": [
    {
     "data": {
      "text/plain": [
       "16853"
      ]
     },
     "execution_count": 195,
     "metadata": {},
     "output_type": "execute_result"
    }
   ],
   "source": [
    "file=open(\"privateKey.txt\",\"w\")\n",
    "for i in 1:Int(size(D,1))\n",
    "    for j in 1:Int(size(D,2))\n",
    "        write(file,string(D[i,j]))\n",
    "        write(file,\" \")\n",
    "    end\n",
    "    write(file,\"\\n\")\n",
    "end\n",
    "close(file)\n",
    "filesize(\"privateKey.txt\")"
   ]
  },
  {
   "cell_type": "code",
   "execution_count": 52,
   "id": "ad580155",
   "metadata": {},
   "outputs": [
    {
     "data": {
      "text/latex": [
       "$$ \\begin{equation}\n",
       "\\left[\n",
       "\\begin{array}{ccc}\n",
       "4 x_{3 1} + 4 x_{1 5} x_{3 2} + 5 x_1 x_{2 3} & 4 x_{2 2} + 5 x_{2 5} + 3 x_7 x_{2 6} & 3 x_{2 0} + 3 x_{2 9} + 4 x_6 x_{3 1} \\\\\n",
       "5 x_2 x_{1 8} + 4 x_6 x_{2 4} + 4 x_{1 0} x_{1 6} x_{3 2} & 0 & 2 x_8 x_{2 6} + 3 x_4 x_{2 1} + 5 x_{1 8} x_{2 2} x_{3 1} \\\\\n",
       "2 x_7 + 2 x_7 x_8 + x_8 x_{1 1} x_{1 7} & 4 x_{3 0} + 2 x_{2 4} x_{2 9} + 3 x_{1 0} x_{3 0} & 2 x_2 x_4 + 4 x_{1 2} x_{3 1} + 3 x_6 x_8 x_{2 4} \\\\\n",
       "\\end{array}\n",
       "\\right]\n",
       "\\end{equation}\n",
       " $$"
      ],
      "text/plain": [
       "3×3 Matrix{Num}:\n",
       "            4x[31] + 4x[15]*x[32] + 5x[1]*x[23]  …                   3x[20] + 3x[29] + 4x[6]*x[31]\n",
       " 5x[2]*x[18] + 4x[6]*x[24] + 4x[10]*x[16]*x[32]     2x[8]*x[26] + 3x[4]*x[21] + 5x[18]*x[22]*x[31]\n",
       "          2x[7] + 2x[7]*x[8] + x[8]*x[11]*x[17]       2x[2]*x[4] + 4x[12]*x[31] + 3x[6]*x[8]*x[24]"
      ]
     },
     "execution_count": 52,
     "metadata": {},
     "output_type": "execute_result"
    }
   ],
   "source": [
    "I66=zeros(Num,3,3)\n",
    "for i in 1:Int(3*3)\n",
    "    a=rand(1:3)\n",
    "    b=rand(1:3)\n",
    "    I66[a,b]=sparse_polynomial(32,3,3,6)\n",
    "end\n",
    "I66"
   ]
  },
  {
   "cell_type": "code",
   "execution_count": 53,
   "id": "558fa34f",
   "metadata": {},
   "outputs": [
    {
     "ename": "LoadError",
     "evalue": "InterruptException:",
     "output_type": "error",
     "traceback": [
      "InterruptException:",
      "",
      "Stacktrace:",
      "  [1] Array",
      "    @ ./boot.jl:448 [inlined]",
      "  [2] Array",
      "    @ ./boot.jl:457 [inlined]",
      "  [3] Array",
      "    @ ./boot.jl:465 [inlined]",
      "  [4] similar",
      "    @ ./abstractarray.jl:785 [inlined]",
      "  [5] similar",
      "    @ ./abstractarray.jl:784 [inlined]",
      "  [6] similar",
      "    @ ./broadcast.jl:197 [inlined]",
      "  [7] similar",
      "    @ ./broadcast.jl:196 [inlined]",
      "  [8] copy",
      "    @ ./broadcast.jl:908 [inlined]",
      "  [9] materialize",
      "    @ ./broadcast.jl:883 [inlined]",
      " [10] broadcast_preserving_zero_d",
      "    @ ./broadcast.jl:872 [inlined]",
      " [11] +(A::Vector{Int64}, Bs::Vector{Int64})",
      "    @ Base ./arraymath.jl:47",
      " [12] _mul(#unused#::Type{Int64}, p::DynamicPolynomials.Polynomial{true, Int64}, q::DynamicPolynomials.Polynomial{true, Int64})",
      "    @ DynamicPolynomials ~/.julia/packages/DynamicPolynomials/JQRi1/src/mult.jl:101",
      " [13] *",
      "    @ ~/.julia/packages/DynamicPolynomials/JQRi1/src/mult.jl:119 [inlined]",
      " [14] power_by_squaring(x_::DynamicPolynomials.Polynomial{true, Int64}, p::Int64)",
      "    @ Base ./intfuncs.jl:271",
      " [15] ^(x::DynamicPolynomials.Polynomial{true, Int64}, p::Int64)",
      "    @ MultivariatePolynomials ~/.julia/packages/MultivariatePolynomials/sWAOE/src/operators.jl:352",
      " [16] polyize(x::SymbolicUtils.BasicSymbolic{Real}, pvar2sym::Bijections.Bijection{Any, Any}, sym2term::Dict{SymbolicUtils.BasicSymbolic, Any}, vtype::Type, pow::Function, Fs::Type, recurse::Bool)",
      "    @ SymbolicUtils ~/.julia/packages/SymbolicUtils/Vzo2s/src/polyform.jl:116",
      " [17] (::SymbolicUtils.var\"#local_polyize#102\"{Bijections.Bijection{Any, Any}, Dict{SymbolicUtils.BasicSymbolic, Any}, DataType, typeof(SymbolicUtils.pow), Union, Bool})(y::SymbolicUtils.BasicSymbolic{Real})",
      "    @ SymbolicUtils ~/.julia/packages/SymbolicUtils/Vzo2s/src/polyform.jl:108",
      " [18] _mapreduce(f::SymbolicUtils.var\"#local_polyize#102\"{Bijections.Bijection{Any, Any}, Dict{SymbolicUtils.BasicSymbolic, Any}, DataType, typeof(SymbolicUtils.pow), Union, Bool}, op::typeof(Base.mul_prod), #unused#::IndexLinear, A::Vector{Any})",
      "    @ Base ./reduce.jl:408",
      " [19] _mapreduce_dim(f::Function, op::Function, #unused#::Base._InitialValue, A::Vector{Any}, #unused#::Colon)",
      "    @ Base ./reducedim.jl:318",
      " [20] #mapreduce#678",
      "    @ ./reducedim.jl:310 [inlined]",
      " [21] mapreduce",
      "    @ ./reducedim.jl:310 [inlined]",
      " [22] #_prod#692",
      "    @ ./reducedim.jl:878 [inlined]",
      " [23] _prod",
      "    @ ./reducedim.jl:878 [inlined]",
      " [24] #prod#690",
      "    @ ./reducedim.jl:874 [inlined]",
      " [25] prod(f::Function, a::Vector{Any})",
      "    @ Base ./reducedim.jl:874",
      " [26] polyize(x::SymbolicUtils.BasicSymbolic{Real}, pvar2sym::Bijections.Bijection{Any, Any}, sym2term::Dict{SymbolicUtils.BasicSymbolic, Any}, vtype::Type, pow::Function, Fs::Type, recurse::Bool)",
      "    @ SymbolicUtils ~/.julia/packages/SymbolicUtils/Vzo2s/src/polyform.jl:113",
      " [27] (::SymbolicUtils.var\"#local_polyize#102\"{Bijections.Bijection{Any, Any}, Dict{SymbolicUtils.BasicSymbolic, Any}, DataType, typeof(SymbolicUtils.pow), Union, Bool})(y::SymbolicUtils.BasicSymbolic{Real})",
      "    @ SymbolicUtils ~/.julia/packages/SymbolicUtils/Vzo2s/src/polyform.jl:108",
      " [28] _mapreduce(f::SymbolicUtils.var\"#local_polyize#102\"{Bijections.Bijection{Any, Any}, Dict{SymbolicUtils.BasicSymbolic, Any}, DataType, typeof(SymbolicUtils.pow), Union, Bool}, op::typeof(Base.add_sum), #unused#::IndexLinear, A::Vector{Any})",
      "    @ Base ./reduce.jl:408",
      " [29] _mapreduce_dim(f::Function, op::Function, #unused#::Base._InitialValue, A::Vector{Any}, #unused#::Colon)",
      "    @ Base ./reducedim.jl:318",
      " [30] #mapreduce#678",
      "    @ ./reducedim.jl:310 [inlined]",
      " [31] mapreduce",
      "    @ ./reducedim.jl:310 [inlined]",
      " [32] #_sum#688",
      "    @ ./reducedim.jl:878 [inlined]",
      " [33] _sum",
      "    @ ./reducedim.jl:878 [inlined]",
      " [34] #sum#686",
      "    @ ./reducedim.jl:874 [inlined]",
      " [35] sum(f::Function, a::Vector{Any})",
      "    @ Base ./reducedim.jl:874",
      " [36] polyize(x::SymbolicUtils.BasicSymbolic{Real}, pvar2sym::Bijections.Bijection{Any, Any}, sym2term::Dict{SymbolicUtils.BasicSymbolic, Any}, vtype::Type, pow::Function, Fs::Type, recurse::Bool)",
      "    @ SymbolicUtils ~/.julia/packages/SymbolicUtils/Vzo2s/src/polyform.jl:111",
      "--- the last 20 lines are repeated 1 more time ---",
      " [57] PolyForm(x::SymbolicUtils.BasicSymbolic{Real}, pvar2sym::Bijections.Bijection{Any, Any}, sym2term::Dict{SymbolicUtils.BasicSymbolic, Any}, vtype::Type; Fs::Type, recurse::Bool, metadata::Nothing)",
      "    @ SymbolicUtils ~/.julia/packages/SymbolicUtils/Vzo2s/src/polyform.jl:169",
      " [58] PolyForm (repeats 2 times)",
      "    @ ~/.julia/packages/SymbolicUtils/Vzo2s/src/polyform.jl:164 [inlined]",
      " [59] (::SymbolicUtils.var\"#123#125\"{Bijections.Bijection{Any, Any}, Dict{SymbolicUtils.BasicSymbolic, Any}})(x::SymbolicUtils.BasicSymbolic{Real})",
      "    @ SymbolicUtils ~/.julia/packages/SymbolicUtils/Vzo2s/src/polyform.jl:264",
      " [60] iterate",
      "    @ ./generator.jl:47 [inlined]",
      " [61] _collect(c::Vector{Any}, itr::Base.Generator{Vector{Any}, SymbolicUtils.var\"#123#125\"{Bijections.Bijection{Any, Any}, Dict{SymbolicUtils.BasicSymbolic, Any}}}, #unused#::Base.EltypeUnknown, isz::Base.HasShape{1})",
      "    @ Base ./array.jl:695",
      " [62] collect_similar",
      "    @ ./array.jl:606 [inlined]",
      " [63] map",
      "    @ ./abstractarray.jl:2294 [inlined]",
      " [64] (::SymbolicUtils.var\"#make#124\"{Bijections.Bijection{Any, Any}, Dict{SymbolicUtils.BasicSymbolic, Any}})(xs::Vector{Any})",
      "    @ SymbolicUtils ~/.julia/packages/SymbolicUtils/Vzo2s/src/polyform.jl:258",
      " [65] polyform_factors(d::SymbolicUtils.BasicSymbolic{Real}, pvar2sym::Bijections.Bijection{Any, Any}, sym2term::Dict{SymbolicUtils.BasicSymbolic, Any})",
      "    @ SymbolicUtils ~/.julia/packages/SymbolicUtils/Vzo2s/src/polyform.jl:268",
      " [66] simplify_div(d::SymbolicUtils.BasicSymbolic{Real})",
      "    @ SymbolicUtils ~/.julia/packages/SymbolicUtils/Vzo2s/src/polyform.jl:275",
      " [67] (::SymbolicUtils.var\"#sdiv#128\")(a::SymbolicUtils.BasicSymbolic{Real})",
      "    @ SymbolicUtils ~/.julia/packages/SymbolicUtils/Vzo2s/src/polyform.jl:329",
      " [68] (::ComposedFunction{SymbolicUtils.var\"#sdiv#128\", typeof(quick_cancel)})(x::SymbolicUtils.BasicSymbolic{Real})",
      "    @ Base ./operators.jl:938",
      " [69] (::SymbolicUtils.Rewriters.Walk{:post, ComposedFunction{SymbolicUtils.var\"#sdiv#128\", typeof(quick_cancel)}, typeof(SymbolicUtils.frac_similarterm), false})(x::SymbolicUtils.BasicSymbolic{Real})",
      "    @ SymbolicUtils.Rewriters ~/.julia/packages/SymbolicUtils/Vzo2s/src/rewriters.jl:200",
      " [70] simplify_fractions(x::SymbolicUtils.BasicSymbolic{Real}; polyform::Bool)",
      "    @ SymbolicUtils ~/.julia/packages/SymbolicUtils/Vzo2s/src/polyform.jl:331",
      " [71] simplify_fractions(x::SymbolicUtils.BasicSymbolic{Real})",
      "    @ SymbolicUtils ~/.julia/packages/SymbolicUtils/Vzo2s/src/polyform.jl:325",
      " [72] simplify(x::SymbolicUtils.BasicSymbolic{Real}; expand::Bool, polynorm::Nothing, threaded::Bool, simplify_fractions::Bool, thread_subtree_cutoff::Int64, rewriter::Nothing)",
      "    @ SymbolicUtils ~/.julia/packages/SymbolicUtils/Vzo2s/src/simplify.jl:42",
      " [73] simplify(x::SymbolicUtils.BasicSymbolic{Real})",
      "    @ SymbolicUtils ~/.julia/packages/SymbolicUtils/Vzo2s/src/simplify.jl:23",
      " [74] simplify(n::Num; kw::Base.Iterators.Pairs{Union{}, Union{}, Tuple{}, NamedTuple{(), Tuple{}}})",
      "    @ Symbolics ~/.julia/packages/Symbolics/5AM8W/src/Symbolics.jl:151",
      " [75] simplify(n::Num)",
      "    @ Symbolics ~/.julia/packages/Symbolics/5AM8W/src/Symbolics.jl:151",
      " [76] _broadcast_getindex_evalf",
      "    @ ./broadcast.jl:648 [inlined]",
      " [77] _broadcast_getindex",
      "    @ ./broadcast.jl:621 [inlined]",
      " [78] getindex",
      "    @ ./broadcast.jl:575 [inlined]",
      " [79] copyto_nonleaf!(dest::Matrix{Num}, bc::Base.Broadcast.Broadcasted{Base.Broadcast.DefaultArrayStyle{2}, Tuple{Base.OneTo{Int64}, Base.OneTo{Int64}}, typeof(simplify), Tuple{Base.Broadcast.Broadcasted{Base.Broadcast.DefaultArrayStyle{2}, Nothing, typeof(expand), Tuple{Base.Broadcast.Extruded{Matrix{Num}, Tuple{Bool, Bool}, Tuple{Int64, Int64}}}}}}, iter::CartesianIndices{2, Tuple{Base.OneTo{Int64}, Base.OneTo{Int64}}}, state::CartesianIndex{2}, count::Int64)",
      "    @ Base.Broadcast ./broadcast.jl:1078",
      " [80] copy",
      "    @ ./broadcast.jl:930 [inlined]",
      " [81] materialize(bc::Base.Broadcast.Broadcasted{Base.Broadcast.DefaultArrayStyle{2}, Nothing, typeof(simplify), Tuple{Base.Broadcast.Broadcasted{Base.Broadcast.DefaultArrayStyle{2}, Nothing, typeof(expand), Tuple{Matrix{Num}}}}})",
      "    @ Base.Broadcast ./broadcast.jl:883"
     ]
    }
   ],
   "source": [
    "simplify.(expand.(I66*inv(I66)))"
   ]
  },
  {
   "cell_type": "markdown",
   "id": "1d0c2d4e",
   "metadata": {},
   "source": [
    "# hashing "
   ]
  },
  {
   "cell_type": "code",
   "execution_count": 272,
   "id": "3dabb5ff",
   "metadata": {},
   "outputs": [
    {
     "data": {
      "text/plain": [
       "hashing512 (generic function with 1 method)"
      ]
     },
     "execution_count": 272,
     "metadata": {},
     "output_type": "execute_result"
    }
   ],
   "source": [
    "message = \"digital sig\"\n",
    "@variables x[1:64]\n",
    "function hashing512(message)\n",
    "    hash = sha2_512(message)\n",
    "    bitstring512=\"\"\n",
    "    for i in hash\n",
    "        bitstring512=bitstring512*bitstring(i)\n",
    "    end\n",
    "    \n",
    "    A512=[]\n",
    "    for i in bitstring512\n",
    "        append!(A512,Int(i)-48)\n",
    "    end\n",
    "    return A512\n",
    "end"
   ]
  },
  {
   "cell_type": "code",
   "execution_count": 287,
   "id": "aac5918c",
   "metadata": {},
   "outputs": [
    {
     "name": "stdout",
     "output_type": "stream",
     "text": [
      "(3, 1)\n",
      "(1, 3)\n"
     ]
    }
   ],
   "source": [
    "function polys(message)\n",
    "    coeffs=[]\n",
    "    A512=hashing512(message)\n",
    "    last12=A512[501:512,]\n",
    "    for i in 0:3\n",
    "        b3=last12[(1+3*i):3*(i+1),]\n",
    "        coef=0\n",
    "        for j in 1:3\n",
    "            coef=coef+2^(3-j)*b3[j]\n",
    "        end\n",
    "        coef=mod(coef,6)\n",
    "        append!(coeffs,coef)\n",
    "    end\n",
    "#     println(coeffs)\n",
    "    \n",
    "    first300=A512[1:300]\n",
    "    vars=[]\n",
    "    for i in 1:50\n",
    "        v=first300[(1+6*(i-1)):(6*i),]\n",
    "        vn=0\n",
    "        for j in 1:6\n",
    "            vn=vn+2^(6-j)*v[j]\n",
    "        end\n",
    "        vn=vn+1\n",
    "        append!(vars,vn)\n",
    "    end\n",
    "#     println(vars)\n",
    "    \n",
    "    middle200=A512[301:500]\n",
    "    mons=[]\n",
    "    for i in 1:5\n",
    "        b40=middle200[(1+40*(i-1)):(40*i)]\n",
    "\n",
    "        for j in 1:4\n",
    "            b10=b40[(1+10*(j-1)):(10*j)]\n",
    "            mon=1\n",
    "\n",
    "            for k in 1:10\n",
    "                if b10[k]==1 \n",
    "\n",
    "                    if vars[10*(j-1)+k]!=0\n",
    "                        mon=mon*x[vars[10*(j-1)+k]]\n",
    "                    end\n",
    "                end\n",
    "            end\n",
    "            append!(mons,mon)\n",
    "\n",
    "        end\n",
    "    end\n",
    "#     println(mons)\n",
    "    \n",
    "    polys=[]\n",
    "    for i in 1:5\n",
    "        pol=0\n",
    "        for j in 1:4\n",
    "            pol=pol+mons[4*(i-1)+j]*coeffs[j]\n",
    "        end\n",
    "        append!(polys,pol)\n",
    "    end\n",
    " \n",
    "    \n",
    "    Un=zeros(Num,1,3)\n",
    "    for i in 1:3\n",
    "        Un[1,i]=polys[i]\n",
    "    end\n",
    "    \n",
    "#     Un=simplify.(expand.(Un))\n",
    "    U=zeros(Num,3,1)\n",
    "    for i in 1:3\n",
    "        U[i,1]=polys[i]\n",
    "    end\n",
    "    return U,Un\n",
    "end\n",
    "\n",
    "U,Un=polys(message)\n",
    "println(size(U))\n",
    "println(size(Un))\n"
   ]
  },
  {
   "cell_type": "code",
   "execution_count": 288,
   "id": "c8b2ce96",
   "metadata": {},
   "outputs": [
    {
     "data": {
      "text/plain": [
       "40"
      ]
     },
     "execution_count": 288,
     "metadata": {},
     "output_type": "execute_result"
    }
   ],
   "source": [
    "V=Un*D\n",
    "sizeof(V)\n"
   ]
  },
  {
   "cell_type": "code",
   "execution_count": 275,
   "id": "814a6d11",
   "metadata": {},
   "outputs": [
    {
     "data": {
      "text/latex": [
       "$$ \\begin{equation}\n",
       "\\left[\n",
       "\\begin{array}{ccccc}\n",
       "\\left( 4 x_3 x_{3 1} x_{3 4} + 3 x_{1 6} x_{2 4} x_{2 5} x_{3 0} x_{4 4} x_{5 8} \\right) \\left( \\left(  - x_{3 0} x_{6 3} - 3 x_4 x_{1 8} x_{3 8} \\right) \\left(  - x_{3 9} - 5 x_{2 5} x_{3 3} x_{3 5} \\right) - 5 x_6 x_{2 7} x_{4 7} - 2 x_{1 0} x_{1 3} x_{2 7} \\right) + \\left( 3 x_{1 6} x_{2 5} x_{3 5} x_{4 3} x_{4 4} x_{5 8} + 4 x_3 x_9 x_{2 0} x_{2 9} x_{3 1} x_{3 4} x_{4 3} x_{5 2} x_{5 7} \\right) \\left( \\left(  - 5 x_6 x_{2 7} x_{4 7} - 2 x_{1 0} x_{1 3} x_{2 7} \\right) \\left( \\left(  - x_1 x_{4 5} - 5 x_{1 9} x_{4 9} \\right) \\left(  - 4 x_{3 7} x_{5 8} - 4 x_{2 4} x_{3 1} x_{6 2} \\right) - 4 x_{1 0} - x_{2 4} x_{5 4} \\right) + \\left(  - x_4 x_{1 4} - 3 x_{1 2} x_{4 7} x_{5 7} \\right) \\left(  - 4 x_{3 7} x_{5 8} - 4 x_{2 4} x_{3 1} x_{6 2} \\right) - 4 x_{5 7} + \\left(  - x_{3 0} x_{6 3} - 3 x_4 x_{1 8} x_{3 8} \\right) \\left( \\left(  - x_{3 9} - 5 x_{2 5} x_{3 3} x_{3 5} \\right) \\left( \\left(  - x_1 x_{4 5} - 5 x_{1 9} x_{4 9} \\right) \\left(  - 4 x_{3 7} x_{5 8} - 4 x_{2 4} x_{3 1} x_{6 2} \\right) - 4 x_{1 0} - x_{2 4} x_{5 4} \\right) + \\left(  - x_{2 6} x_{4 6} - 2 x_{2 2} x_{4 9} \\right) \\left(  - 4 x_{3 7} x_{5 8} - 4 x_{2 4} x_{3 1} x_{6 2} \\right) - 4 x_3 x_7 - 3 x_{4 3} x_{5 5} \\right) - 5 x_{1 6} x_{4 6} \\right) + 4 x_{4 3} x_{5 2} + 3 x_2 x_{1 6} x_{2 4} x_{3 9} x_{4 4} x_{5 8} & \\left(  - x_{2 3} x_{2 6} - x_{1 6} x_{3 5} x_{4 7} \\right) \\left( 4 x_{4 3} x_{5 2} + 3 x_2 x_{1 6} x_{2 4} x_{3 9} x_{4 4} x_{5 8} \\right) + \\left( 4 x_3 x_{3 1} x_{3 4} + 3 x_{1 6} x_{2 4} x_{2 5} x_{3 0} x_{4 4} x_{5 8} \\right) \\left( \\left(  - x_{2 3} x_{2 6} - x_{1 6} x_{3 5} x_{4 7} \\right) \\left( \\left(  - x_{3 0} x_{6 3} - 3 x_4 x_{1 8} x_{3 8} \\right) \\left(  - x_{3 9} - 5 x_{2 5} x_{3 3} x_{3 5} \\right) - 5 x_6 x_{2 7} x_{4 7} - 2 x_{1 0} x_{1 3} x_{2 7} \\right) - x_{3 9} - 5 x_{2 5} x_{3 3} x_{3 5} \\right) + \\left( 3 x_{1 6} x_{2 5} x_{3 5} x_{4 3} x_{4 4} x_{5 8} + 4 x_3 x_9 x_{2 0} x_{2 9} x_{3 1} x_{3 4} x_{4 3} x_{5 2} x_{5 7} \\right) \\left( \\left(  - x_{2 3} x_{2 6} - x_{1 6} x_{3 5} x_{4 7} \\right) \\left( \\left(  - 5 x_6 x_{2 7} x_{4 7} - 2 x_{1 0} x_{1 3} x_{2 7} \\right) \\left( \\left(  - x_1 x_{4 5} - 5 x_{1 9} x_{4 9} \\right) \\left(  - 4 x_{3 7} x_{5 8} - 4 x_{2 4} x_{3 1} x_{6 2} \\right) - 4 x_{1 0} - x_{2 4} x_{5 4} \\right) + \\left(  - x_4 x_{1 4} - 3 x_{1 2} x_{4 7} x_{5 7} \\right) \\left(  - 4 x_{3 7} x_{5 8} - 4 x_{2 4} x_{3 1} x_{6 2} \\right) - 4 x_{5 7} + \\left(  - x_{3 0} x_{6 3} - 3 x_4 x_{1 8} x_{3 8} \\right) \\left( \\left(  - x_{3 9} - 5 x_{2 5} x_{3 3} x_{3 5} \\right) \\left( \\left(  - x_1 x_{4 5} - 5 x_{1 9} x_{4 9} \\right) \\left(  - 4 x_{3 7} x_{5 8} - 4 x_{2 4} x_{3 1} x_{6 2} \\right) - 4 x_{1 0} - x_{2 4} x_{5 4} \\right) + \\left(  - x_{2 6} x_{4 6} - 2 x_{2 2} x_{4 9} \\right) \\left(  - 4 x_{3 7} x_{5 8} - 4 x_{2 4} x_{3 1} x_{6 2} \\right) - 4 x_3 x_7 - 3 x_{4 3} x_{5 5} \\right) - 5 x_{1 6} x_{4 6} \\right) + \\left(  - x_{3 9} - 5 x_{2 5} x_{3 3} x_{3 5} \\right) \\left( \\left(  - x_1 x_{4 5} - 5 x_{1 9} x_{4 9} \\right) \\left(  - 4 x_{3 7} x_{5 8} - 4 x_{2 4} x_{3 1} x_{6 2} \\right) - 4 x_{1 0} - x_{2 4} x_{5 4} \\right) + \\left(  - x_{2 6} x_{4 6} - 2 x_{2 2} x_{4 9} \\right) \\left(  - 4 x_{3 7} x_{5 8} - 4 x_{2 4} x_{3 1} x_{6 2} \\right) - 4 x_3 x_7 - 3 x_{4 3} x_{5 5} \\right) & \\left( 4 x_{4 3} x_{5 2} + 3 x_2 x_{1 6} x_{2 4} x_{3 9} x_{4 4} x_{5 8} \\right) \\left(  - x_{4 4} x_{6 4} - x_{2 8} x_{3 9} x_{4 3} \\right) + \\left( 4 x_3 x_{3 1} x_{3 4} + 3 x_{1 6} x_{2 4} x_{2 5} x_{3 0} x_{4 4} x_{5 8} \\right) \\left( 1.0 + \\left(  - x_{4 4} x_{6 4} - x_{2 8} x_{3 9} x_{4 3} \\right) \\left( \\left(  - x_{3 0} x_{6 3} - 3 x_4 x_{1 8} x_{3 8} \\right) \\left(  - x_{3 9} - 5 x_{2 5} x_{3 3} x_{3 5} \\right) - 5 x_6 x_{2 7} x_{4 7} - 2 x_{1 0} x_{1 3} x_{2 7} \\right) + \\left(  - 5 x_{3 6} - x_2 x_{5 4} x_{6 2} \\right) \\left(  - x_{3 9} - 5 x_{2 5} x_{3 3} x_{3 5} \\right) \\right) + \\left( 3 x_{1 6} x_{2 5} x_{3 5} x_{4 3} x_{4 4} x_{5 8} + 4 x_3 x_9 x_{2 0} x_{2 9} x_{3 1} x_{3 4} x_{4 3} x_{5 2} x_{5 7} \\right) \\left( \\left(  - x_1 x_{4 5} - 5 x_{1 9} x_{4 9} \\right) \\left(  - 4 x_{3 7} x_{5 8} - 4 x_{2 4} x_{3 1} x_{6 2} \\right) + \\left(  - x_{4 4} x_{6 4} - x_{2 8} x_{3 9} x_{4 3} \\right) \\left( \\left(  - 5 x_6 x_{2 7} x_{4 7} - 2 x_{1 0} x_{1 3} x_{2 7} \\right) \\left( \\left(  - x_1 x_{4 5} - 5 x_{1 9} x_{4 9} \\right) \\left(  - 4 x_{3 7} x_{5 8} - 4 x_{2 4} x_{3 1} x_{6 2} \\right) - 4 x_{1 0} - x_{2 4} x_{5 4} \\right) + \\left(  - x_4 x_{1 4} - 3 x_{1 2} x_{4 7} x_{5 7} \\right) \\left(  - 4 x_{3 7} x_{5 8} - 4 x_{2 4} x_{3 1} x_{6 2} \\right) - 4 x_{5 7} + \\left(  - x_{3 0} x_{6 3} - 3 x_4 x_{1 8} x_{3 8} \\right) \\left( \\left(  - x_{3 9} - 5 x_{2 5} x_{3 3} x_{3 5} \\right) \\left( \\left(  - x_1 x_{4 5} - 5 x_{1 9} x_{4 9} \\right) \\left(  - 4 x_{3 7} x_{5 8} - 4 x_{2 4} x_{3 1} x_{6 2} \\right) - 4 x_{1 0} - x_{2 4} x_{5 4} \\right) + \\left(  - x_{2 6} x_{4 6} - 2 x_{2 2} x_{4 9} \\right) \\left(  - 4 x_{3 7} x_{5 8} - 4 x_{2 4} x_{3 1} x_{6 2} \\right) - 4 x_3 x_7 - 3 x_{4 3} x_{5 5} \\right) - 5 x_{1 6} x_{4 6} \\right) - 4 x_{1 0} + \\left(  - 5 x_{3 6} - x_2 x_{5 4} x_{6 2} \\right) \\left( \\left(  - x_{3 9} - 5 x_{2 5} x_{3 3} x_{3 5} \\right) \\left( \\left(  - x_1 x_{4 5} - 5 x_{1 9} x_{4 9} \\right) \\left(  - 4 x_{3 7} x_{5 8} - 4 x_{2 4} x_{3 1} x_{6 2} \\right) - 4 x_{1 0} - x_{2 4} x_{5 4} \\right) + \\left(  - x_{2 6} x_{4 6} - 2 x_{2 2} x_{4 9} \\right) \\left(  - 4 x_{3 7} x_{5 8} - 4 x_{2 4} x_{3 1} x_{6 2} \\right) - 4 x_3 x_7 - 3 x_{4 3} x_{5 5} \\right) - x_{2 4} x_{5 4} \\right) & \\left(  - 4 x_{4 4} - 2 x_{2 4} x_{3 7} \\right) \\left( 4 x_{4 3} x_{5 2} + 3 x_2 x_{1 6} x_{2 4} x_{3 9} x_{4 4} x_{5 8} \\right) + \\left( 4 x_3 x_{3 1} x_{3 4} + 3 x_{1 6} x_{2 4} x_{2 5} x_{3 0} x_{4 4} x_{5 8} \\right) \\left( \\left(  - x_{3 9} - 5 x_{2 5} x_{3 3} x_{3 5} \\right) \\left(  - 3 x_{5 5} - 4 x_{3 8} x_{5 3} \\right) - 2 x_2 + \\left(  - 4 x_{4 4} - 2 x_{2 4} x_{3 7} \\right) \\left( \\left(  - x_{3 0} x_{6 3} - 3 x_4 x_{1 8} x_{3 8} \\right) \\left(  - x_{3 9} - 5 x_{2 5} x_{3 3} x_{3 5} \\right) - 5 x_6 x_{2 7} x_{4 7} - 2 x_{1 0} x_{1 3} x_{2 7} \\right) - 5 x_{2 2} x_{3 0} \\right) + \\left( 3 x_{1 6} x_{2 5} x_{3 5} x_{4 3} x_{4 4} x_{5 8} + 4 x_3 x_9 x_{2 0} x_{2 9} x_{3 1} x_{3 4} x_{4 3} x_{5 2} x_{5 7} \\right) \\left( \\left(  - 3 x_{5 5} - 4 x_{3 8} x_{5 3} \\right) \\left( \\left(  - x_{3 9} - 5 x_{2 5} x_{3 3} x_{3 5} \\right) \\left( \\left(  - x_1 x_{4 5} - 5 x_{1 9} x_{4 9} \\right) \\left(  - 4 x_{3 7} x_{5 8} - 4 x_{2 4} x_{3 1} x_{6 2} \\right) - 4 x_{1 0} - x_{2 4} x_{5 4} \\right) + \\left(  - x_{2 6} x_{4 6} - 2 x_{2 2} x_{4 9} \\right) \\left(  - 4 x_{3 7} x_{5 8} - 4 x_{2 4} x_{3 1} x_{6 2} \\right) - 4 x_3 x_7 - 3 x_{4 3} x_{5 5} \\right) + \\left(  - 4 x_{4 4} - 2 x_{2 4} x_{3 7} \\right) \\left( \\left(  - 5 x_6 x_{2 7} x_{4 7} - 2 x_{1 0} x_{1 3} x_{2 7} \\right) \\left( \\left(  - x_1 x_{4 5} - 5 x_{1 9} x_{4 9} \\right) \\left(  - 4 x_{3 7} x_{5 8} - 4 x_{2 4} x_{3 1} x_{6 2} \\right) - 4 x_{1 0} - x_{2 4} x_{5 4} \\right) + \\left(  - x_4 x_{1 4} - 3 x_{1 2} x_{4 7} x_{5 7} \\right) \\left(  - 4 x_{3 7} x_{5 8} - 4 x_{2 4} x_{3 1} x_{6 2} \\right) - 4 x_{5 7} + \\left(  - x_{3 0} x_{6 3} - 3 x_4 x_{1 8} x_{3 8} \\right) \\left( \\left(  - x_{3 9} - 5 x_{2 5} x_{3 3} x_{3 5} \\right) \\left( \\left(  - x_1 x_{4 5} - 5 x_{1 9} x_{4 9} \\right) \\left(  - 4 x_{3 7} x_{5 8} - 4 x_{2 4} x_{3 1} x_{6 2} \\right) - 4 x_{1 0} - x_{2 4} x_{5 4} \\right) + \\left(  - x_{2 6} x_{4 6} - 2 x_{2 2} x_{4 9} \\right) \\left(  - 4 x_{3 7} x_{5 8} - 4 x_{2 4} x_{3 1} x_{6 2} \\right) - 4 x_3 x_7 - 3 x_{4 3} x_{5 5} \\right) - 5 x_{1 6} x_{4 6} \\right) + \\left(  - 2 x_2 - 5 x_{2 2} x_{3 0} \\right) \\left( \\left(  - x_1 x_{4 5} - 5 x_{1 9} x_{4 9} \\right) \\left(  - 4 x_{3 7} x_{5 8} - 4 x_{2 4} x_{3 1} x_{6 2} \\right) - 4 x_{1 0} - x_{2 4} x_{5 4} \\right) - 4 x_{3 7} x_{5 8} - 4 x_{2 4} x_{3 1} x_{6 2} \\right) & \\left(  - 5 x_{2 3} x_{3 7} - 5 x_{1 3} x_{4 0} \\right) \\left( 4 x_{4 3} x_{5 2} + 3 x_2 x_{1 6} x_{2 4} x_{3 9} x_{4 4} x_{5 8} \\right) + \\left( 4 x_3 x_{3 1} x_{3 4} + 3 x_{1 6} x_{2 4} x_{2 5} x_{3 0} x_{4 4} x_{5 8} \\right) \\left( \\left(  - 4 x_3 x_{3 8} x_{5 7} - 2 x_{3 7} x_{4 1} x_{6 3} \\right) \\left(  - x_{3 9} - 5 x_{2 5} x_{3 3} x_{3 5} \\right) + \\left(  - 5 x_{2 3} x_{3 7} - 5 x_{1 3} x_{4 0} \\right) \\left( \\left(  - x_{3 0} x_{6 3} - 3 x_4 x_{1 8} x_{3 8} \\right) \\left(  - x_{3 9} - 5 x_{2 5} x_{3 3} x_{3 5} \\right) - 5 x_6 x_{2 7} x_{4 7} - 2 x_{1 0} x_{1 3} x_{2 7} \\right) - x_{1 8} - x_{2 2} x_{5 0} \\right) + \\left( 3 x_{1 6} x_{2 5} x_{3 5} x_{4 3} x_{4 4} x_{5 8} + 4 x_3 x_9 x_{2 0} x_{2 9} x_{3 1} x_{3 4} x_{4 3} x_{5 2} x_{5 7} \\right) \\left( 1.0 + \\left(  - 5 x_{2 3} x_{3 7} - 5 x_{1 3} x_{4 0} \\right) \\left( \\left(  - 5 x_6 x_{2 7} x_{4 7} - 2 x_{1 0} x_{1 3} x_{2 7} \\right) \\left( \\left(  - x_1 x_{4 5} - 5 x_{1 9} x_{4 9} \\right) \\left(  - 4 x_{3 7} x_{5 8} - 4 x_{2 4} x_{3 1} x_{6 2} \\right) - 4 x_{1 0} - x_{2 4} x_{5 4} \\right) + \\left(  - x_4 x_{1 4} - 3 x_{1 2} x_{4 7} x_{5 7} \\right) \\left(  - 4 x_{3 7} x_{5 8} - 4 x_{2 4} x_{3 1} x_{6 2} \\right) - 4 x_{5 7} + \\left(  - x_{3 0} x_{6 3} - 3 x_4 x_{1 8} x_{3 8} \\right) \\left( \\left(  - x_{3 9} - 5 x_{2 5} x_{3 3} x_{3 5} \\right) \\left( \\left(  - x_1 x_{4 5} - 5 x_{1 9} x_{4 9} \\right) \\left(  - 4 x_{3 7} x_{5 8} - 4 x_{2 4} x_{3 1} x_{6 2} \\right) - 4 x_{1 0} - x_{2 4} x_{5 4} \\right) + \\left(  - x_{2 6} x_{4 6} - 2 x_{2 2} x_{4 9} \\right) \\left(  - 4 x_{3 7} x_{5 8} - 4 x_{2 4} x_{3 1} x_{6 2} \\right) - 4 x_3 x_7 - 3 x_{4 3} x_{5 5} \\right) - 5 x_{1 6} x_{4 6} \\right) + \\left(  - x_{5 4} - 5 x_{1 8} x_{4 0} x_{5 0} \\right) \\left(  - 4 x_{3 7} x_{5 8} - 4 x_{2 4} x_{3 1} x_{6 2} \\right) + \\left(  - x_{1 8} - x_{2 2} x_{5 0} \\right) \\left( \\left(  - x_1 x_{4 5} - 5 x_{1 9} x_{4 9} \\right) \\left(  - 4 x_{3 7} x_{5 8} - 4 x_{2 4} x_{3 1} x_{6 2} \\right) - 4 x_{1 0} - x_{2 4} x_{5 4} \\right) + \\left(  - 4 x_3 x_{3 8} x_{5 7} - 2 x_{3 7} x_{4 1} x_{6 3} \\right) \\left( \\left(  - x_{3 9} - 5 x_{2 5} x_{3 3} x_{3 5} \\right) \\left( \\left(  - x_1 x_{4 5} - 5 x_{1 9} x_{4 9} \\right) \\left(  - 4 x_{3 7} x_{5 8} - 4 x_{2 4} x_{3 1} x_{6 2} \\right) - 4 x_{1 0} - x_{2 4} x_{5 4} \\right) + \\left(  - x_{2 6} x_{4 6} - 2 x_{2 2} x_{4 9} \\right) \\left(  - 4 x_{3 7} x_{5 8} - 4 x_{2 4} x_{3 1} x_{6 2} \\right) - 4 x_3 x_7 - 3 x_{4 3} x_{5 5} \\right) \\right) \\\\\n",
       "\\end{array}\n",
       "\\right]\n",
       "\\end{equation}\n",
       " $$"
      ],
      "text/plain": [
       "1×5 Matrix{Num}:\n",
       " (4x[3]*x[31]*x[34] + 3x[16]*x[24]*x[25]*x[30]*x[44]*x[58])*((-x[30]*x[63] - 3x[4]*x[18]*x[38])*(-x[39] - 5x[25]*x[33]*x[35]) - 5x[6]*x[27]*x[47] - 2x[10]*x[13]*x[27]) + (3x[16]*x[25]*x[35]*x[43]*x[44]*x[58] + 4x[3]*x[9]*x[20]*x[29]*x[31]*x[34]*x[43]*x[52]*x[57])*((-5x[6]*x[27]*x[47] - 2x[10]*x[13]*x[27])*((-x[1]*x[45] - 5x[19]*x[49])*(-4x[37]*x[58] - 4x[24]*x[31]*x[62]) - 4x[10] - x[24]*x[54]) + (-x[4]*x[14] - 3x[12]*x[47]*x[57])*(-4x[37]*x[58] - 4x[24]*x[31]*x[62]) + (-x[30]*x[63] - 3x[4]*x[18]*x[38])*((-x[39] - 5x[25]*x[33]*x[35])*((-x[1]*x[45] - 5x[19]*x[49])*(-4x[37]*x[58] - 4x[24]*x[31]*x[62]) - 4x[10] - x[24]*x[54]) + (-x[26]*x[46] - 2x[22]*x[49])*(-4x[37]*x[58] - 4x[24]*x[31]*x[62]) - 4x[3]*x[7] - 3x[43]*x[55]) - 4x[57] - 5x[16]*x[46]) + 4x[43]*x[52] + 3x[2]*x[16]*x[24]*x[39]*x[44]*x[58]  …  (-5x[23]*x[37] - 5x[13]*x[40])*(4x[43]*x[52] + 3x[2]*x[16]*x[24]*x[39]*x[44]*x[58]) + (4x[3]*x[31]*x[34] + 3x[16]*x[24]*x[25]*x[30]*x[44]*x[58])*((-4x[3]*x[38]*x[57] - 2x[37]*x[41]*x[63])*(-x[39] - 5x[25]*x[33]*x[35]) + (-5x[23]*x[37] - 5x[13]*x[40])*((-x[30]*x[63] - 3x[4]*x[18]*x[38])*(-x[39] - 5x[25]*x[33]*x[35]) - 5x[6]*x[27]*x[47] - 2x[10]*x[13]*x[27]) - x[18] - x[22]*x[50]) + (3x[16]*x[25]*x[35]*x[43]*x[44]*x[58] + 4x[3]*x[9]*x[20]*x[29]*x[31]*x[34]*x[43]*x[52]*x[57])*(1.0 + (-5x[23]*x[37] - 5x[13]*x[40])*((-5x[6]*x[27]*x[47] - 2x[10]*x[13]*x[27])*((-x[1]*x[45] - 5x[19]*x[49])*(-4x[37]*x[58] - 4x[24]*x[31]*x[62]) - 4x[10] - x[24]*x[54]) + (-x[4]*x[14] - 3x[12]*x[47]*x[57])*(-4x[37]*x[58] - 4x[24]*x[31]*x[62]) + (-x[30]*x[63] - 3x[4]*x[18]*x[38])*((-x[39] - 5x[25]*x[33]*x[35])*((-x[1]*x[45] - 5x[19]*x[49])*(-4x[37]*x[58] - 4x[24]*x[31]*x[62]) - 4x[10] - x[24]*x[54]) + (-x[26]*x[46] - 2x[22]*x[49])*(-4x[37]*x[58] - 4x[24]*x[31]*x[62]) - 4x[3]*x[7] - 3x[43]*x[55]) - 4x[57] - 5x[16]*x[46]) + (-x[54] - 5x[18]*x[40]*x[50])*(-4x[37]*x[58] - 4x[24]*x[31]*x[62]) + (-x[18] - x[22]*x[50])*((-x[1]*x[45] - 5x[19]*x[49])*(-4x[37]*x[58] - 4x[24]*x[31]*x[62]) - 4x[10] - x[24]*x[54]) + (-4x[3]*x[38]*x[57] - 2x[37]*x[41]*x[63])*((-x[39] - 5x[25]*x[33]*x[35])*((-x[1]*x[45] - 5x[19]*x[49])*(-4x[37]*x[58] - 4x[24]*x[31]*x[62]) - 4x[10] - x[24]*x[54]) + (-x[26]*x[46] - 2x[22]*x[49])*(-4x[37]*x[58] - 4x[24]*x[31]*x[62]) - 4x[3]*x[7] - 3x[43]*x[55]))"
      ]
     },
     "execution_count": 275,
     "metadata": {},
     "output_type": "execute_result"
    }
   ],
   "source": [
    "V"
   ]
  },
  {
   "cell_type": "code",
   "execution_count": 249,
   "id": "17b9bc98",
   "metadata": {},
   "outputs": [
    {
     "ename": "LoadError",
     "evalue": "Failed to apply rule ~(z::_isone) * ~x => ~x on expression x[8]*x[20]",
     "output_type": "error",
     "traceback": [
      "Failed to apply rule ~(z::_isone) * ~x => ~x on expression x[8]*x[20]",
      "",
      "Stacktrace:",
      "  [1] (::SymbolicUtils.Rule{SymbolicUtils.BasicSymbolic{Any}, SymbolicUtils.var\"#term_matcher#98\"{Tuple{SymbolicUtils.var\"#literal_matcher#94\"{typeof(*)}, SymbolicUtils.var\"#slot_matcher#95\"{SymbolicUtils.Slot{typeof(SymbolicUtils._isone)}}, SymbolicUtils.var\"#slot_matcher#95\"{SymbolicUtils.Slot{typeof(SymbolicUtils.alwaystrue)}}}}, SymbolicUtils.var\"#158#239\"})(term::SymbolicUtils.BasicSymbolic{Real})",
      "    @ SymbolicUtils ~/.julia/packages/SymbolicUtils/Vzo2s/src/rule.jl:145",
      "  [2] (::SymbolicUtils.ACRule{typeof(Combinatorics.combinations), SymbolicUtils.Rule{SymbolicUtils.BasicSymbolic{Any}, SymbolicUtils.var\"#term_matcher#98\"{Tuple{SymbolicUtils.var\"#literal_matcher#94\"{typeof(*)}, SymbolicUtils.var\"#slot_matcher#95\"{SymbolicUtils.Slot{typeof(SymbolicUtils._isone)}}, SymbolicUtils.var\"#slot_matcher#95\"{SymbolicUtils.Slot{typeof(SymbolicUtils.alwaystrue)}}}}, SymbolicUtils.var\"#158#239\"}})(term::SymbolicUtils.BasicSymbolic{Real})",
      "    @ SymbolicUtils ~/.julia/packages/SymbolicUtils/Vzo2s/src/rule.jl:407",
      "  [3] (::SymbolicUtils.Rewriters.Chain)(x::SymbolicUtils.BasicSymbolic{Real})",
      "    @ SymbolicUtils.Rewriters ~/.julia/packages/SymbolicUtils/Vzo2s/src/rewriters.jl:69",
      "  [4] (::SymbolicUtils.Rewriters.IfElse{SymbolicUtils.var\"#139#140\"{typeof(*)}, SymbolicUtils.Rewriters.Chain, SymbolicUtils.Rewriters.Empty})(x::SymbolicUtils.BasicSymbolic{Real})",
      "    @ SymbolicUtils.Rewriters ~/.julia/packages/SymbolicUtils/Vzo2s/src/rewriters.jl:58",
      "  [5] (::SymbolicUtils.Rewriters.Chain)(x::SymbolicUtils.BasicSymbolic{Real})",
      "    @ SymbolicUtils.Rewriters ~/.julia/packages/SymbolicUtils/Vzo2s/src/rewriters.jl:69",
      "  [6] (::SymbolicUtils.Rewriters.RestartedChain{Vector{SymbolicUtils.Rewriters.IfElse{F, SymbolicUtils.Rewriters.Chain, SymbolicUtils.Rewriters.Empty} where F}})(x::SymbolicUtils.BasicSymbolic{Real})",
      "    @ SymbolicUtils.Rewriters ~/.julia/packages/SymbolicUtils/Vzo2s/src/rewriters.jl:89",
      "  [7] (::SymbolicUtils.Rewriters.IfElse{SymbolicUtils.var\"#220#304\", SymbolicUtils.Rewriters.RestartedChain{Vector{SymbolicUtils.Rewriters.IfElse{F, SymbolicUtils.Rewriters.Chain, SymbolicUtils.Rewriters.Empty} where F}}, SymbolicUtils.Rewriters.Empty})(x::SymbolicUtils.BasicSymbolic{Real})",
      "    @ SymbolicUtils.Rewriters ~/.julia/packages/SymbolicUtils/Vzo2s/src/rewriters.jl:58",
      "  [8] (::SymbolicUtils.Rewriters.Chain)(x::SymbolicUtils.BasicSymbolic{Real})",
      "    @ SymbolicUtils.Rewriters ~/.julia/packages/SymbolicUtils/Vzo2s/src/rewriters.jl:69",
      "  [9] (::SymbolicUtils.Rewriters.Walk{:post, SymbolicUtils.Rewriters.Chain, typeof(similarterm), false})(x::SymbolicUtils.BasicSymbolic{Real})",
      "    @ SymbolicUtils.Rewriters ~/.julia/packages/SymbolicUtils/Vzo2s/src/rewriters.jl:200",
      " [10] (::SymbolicUtils.Rewriters.PassThrough{SymbolicUtils.Rewriters.Walk{:post, SymbolicUtils.Rewriters.Chain, typeof(similarterm), false}})(x::SymbolicUtils.BasicSymbolic{Real})",
      "    @ SymbolicUtils.Rewriters ~/.julia/packages/SymbolicUtils/Vzo2s/src/rewriters.jl:188",
      " [11] iterate",
      "    @ ./generator.jl:47 [inlined]",
      " [12] collect_to!(dest::Vector{SymbolicUtils.BasicSymbolic{Real}}, itr::Base.Generator{Vector{Any}, SymbolicUtils.Rewriters.PassThrough{SymbolicUtils.Rewriters.Walk{:post, SymbolicUtils.Rewriters.Chain, typeof(similarterm), false}}}, offs::Int64, st::Int64)",
      "    @ Base ./array.jl:728",
      " [13] collect_to_with_first!(dest::Vector{SymbolicUtils.BasicSymbolic{Real}}, v1::SymbolicUtils.BasicSymbolic{Real}, itr::Base.Generator{Vector{Any}, SymbolicUtils.Rewriters.PassThrough{SymbolicUtils.Rewriters.Walk{:post, SymbolicUtils.Rewriters.Chain, typeof(similarterm), false}}}, st::Int64)",
      "    @ Base ./array.jl:706",
      " [14] _collect(c::Vector{Any}, itr::Base.Generator{Vector{Any}, SymbolicUtils.Rewriters.PassThrough{SymbolicUtils.Rewriters.Walk{:post, SymbolicUtils.Rewriters.Chain, typeof(similarterm), false}}}, #unused#::Base.EltypeUnknown, isz::Base.HasShape{1})",
      "    @ Base ./array.jl:700",
      " [15] collect_similar",
      "    @ ./array.jl:606 [inlined]",
      " [16] map(f::SymbolicUtils.Rewriters.PassThrough{SymbolicUtils.Rewriters.Walk{:post, SymbolicUtils.Rewriters.Chain, typeof(similarterm), false}}, A::Vector{Any})",
      "    @ Base ./abstractarray.jl:2294",
      " [17] (::SymbolicUtils.Rewriters.Walk{:post, SymbolicUtils.Rewriters.Chain, typeof(similarterm), false})(x::SymbolicUtils.BasicSymbolic{Real})",
      "    @ SymbolicUtils.Rewriters ~/.julia/packages/SymbolicUtils/Vzo2s/src/rewriters.jl:198",
      " [18] IfElse",
      "    @ ~/.julia/packages/SymbolicUtils/Vzo2s/src/rewriters.jl:58 [inlined]",
      " [19] (::SymbolicUtils.Rewriters.Fixpoint{SymbolicUtils.Rewriters.IfElse{typeof(SymbolicUtils.has_trig_exp), SymbolicUtils.Rewriters.Walk{:post, SymbolicUtils.Rewriters.IfElse{SymbolicUtils.var\"#218#302\", SymbolicUtils.Rewriters.Chain, SymbolicUtils.Rewriters.IfElse{SymbolicUtils.var\"#219#303\", SymbolicUtils.Rewriters.Chain, SymbolicUtils.Rewriters.Empty}}, typeof(similarterm), false}, SymbolicUtils.Rewriters.Walk{:post, SymbolicUtils.Rewriters.Chain, typeof(similarterm), false}}})(x::SymbolicUtils.BasicSymbolic{Real})",
      "    @ SymbolicUtils.Rewriters ~/.julia/packages/SymbolicUtils/Vzo2s/src/rewriters.jl:118",
      " [20] IfElse",
      "    @ ~/.julia/packages/SymbolicUtils/Vzo2s/src/rewriters.jl:58 [inlined]",
      " [21] (::SymbolicUtils.Rewriters.PassThrough{SymbolicUtils.Rewriters.IfElse{typeof(istree), SymbolicUtils.Rewriters.Fixpoint{SymbolicUtils.Rewriters.IfElse{typeof(SymbolicUtils.has_trig_exp), SymbolicUtils.Rewriters.Walk{:post, SymbolicUtils.Rewriters.IfElse{SymbolicUtils.var\"#218#302\", SymbolicUtils.Rewriters.Chain, SymbolicUtils.Rewriters.IfElse{SymbolicUtils.var\"#219#303\", SymbolicUtils.Rewriters.Chain, SymbolicUtils.Rewriters.Empty}}, typeof(similarterm), false}, SymbolicUtils.Rewriters.Walk{:post, SymbolicUtils.Rewriters.Chain, typeof(similarterm), false}}}, SymbolicUtils.Rewriters.Empty}})(x::SymbolicUtils.BasicSymbolic{Real})",
      "    @ SymbolicUtils.Rewriters ~/.julia/packages/SymbolicUtils/Vzo2s/src/rewriters.jl:188",
      " [22] simplify(x::SymbolicUtils.BasicSymbolic{Real}; expand::Bool, polynorm::Nothing, threaded::Bool, simplify_fractions::Bool, thread_subtree_cutoff::Int64, rewriter::Nothing)",
      "    @ SymbolicUtils ~/.julia/packages/SymbolicUtils/Vzo2s/src/simplify.jl:41",
      " [23] simplify(x::SymbolicUtils.BasicSymbolic{Real})",
      "    @ SymbolicUtils ~/.julia/packages/SymbolicUtils/Vzo2s/src/simplify.jl:23",
      " [24] simplify(n::Num; kw::Base.Iterators.Pairs{Union{}, Union{}, Tuple{}, NamedTuple{(), Tuple{}}})",
      "    @ Symbolics ~/.julia/packages/Symbolics/5AM8W/src/Symbolics.jl:151",
      " [25] simplify(n::Num)",
      "    @ Symbolics ~/.julia/packages/Symbolics/5AM8W/src/Symbolics.jl:151",
      " [26] _broadcast_getindex_evalf",
      "    @ ./broadcast.jl:648 [inlined]",
      " [27] _broadcast_getindex",
      "    @ ./broadcast.jl:621 [inlined]",
      " [28] getindex",
      "    @ ./broadcast.jl:575 [inlined]",
      " [29] copyto_nonleaf!(dest::Matrix{Num}, bc::Base.Broadcast.Broadcasted{Base.Broadcast.DefaultArrayStyle{2}, Tuple{Base.OneTo{Int64}, Base.OneTo{Int64}}, typeof(simplify), Tuple{Base.Broadcast.Broadcasted{Base.Broadcast.DefaultArrayStyle{2}, Nothing, typeof(expand), Tuple{Base.Broadcast.Extruded{Matrix{Num}, Tuple{Bool, Bool}, Tuple{Int64, Int64}}}}}}, iter::CartesianIndices{2, Tuple{Base.OneTo{Int64}, Base.OneTo{Int64}}}, state::CartesianIndex{2}, count::Int64)",
      "    @ Base.Broadcast ./broadcast.jl:1078",
      " [30] copy",
      "    @ ./broadcast.jl:930 [inlined]",
      " [31] materialize(bc::Base.Broadcast.Broadcasted{Base.Broadcast.DefaultArrayStyle{2}, Nothing, typeof(simplify), Tuple{Base.Broadcast.Broadcasted{Base.Broadcast.DefaultArrayStyle{2}, Nothing, typeof(expand), Tuple{Matrix{Num}}}}})",
      "    @ Base.Broadcast ./broadcast.jl:883",
      " [32] top-level scope",
      "    @ In[249]:1"
     ]
    }
   ],
   "source": [
    "Vs=simplify.(expand.(V))\n"
   ]
  },
  {
   "cell_type": "code",
   "execution_count": 250,
   "id": "f404c12d",
   "metadata": {},
   "outputs": [
    {
     "name": "stdout",
     "output_type": "stream",
     "text": [
      "7422\n"
     ]
    }
   ],
   "source": [
    "\n",
    "file=open(\"signature.txt\",\"w\")\n",
    "for i in modify_matrix_coef(Vs,6)\n",
    "    write(file,string(i))\n",
    "    write(file,\"\\n\")\n",
    "end\n",
    "close(file)\n",
    "\n",
    "println(filesize(\"signature.txt\"))"
   ]
  },
  {
   "cell_type": "markdown",
   "id": "6ea47746",
   "metadata": {},
   "source": [
    "# Size of public key, private key, and signature vector"
   ]
  },
  {
   "cell_type": "code",
   "execution_count": 263,
   "id": "bd4153c8",
   "metadata": {},
   "outputs": [
    {
     "name": "stdout",
     "output_type": "stream",
     "text": [
      "2365\n",
      "3289\n",
      "5357\n",
      "5331\n",
      "6372\n",
      "3745\n",
      "5342\n",
      "3421\n",
      "4038\n",
      "2495\n",
      "6164\n",
      "6836\n",
      "6290\n",
      "2282\n",
      "5595\n",
      "5884\n",
      "5562\n",
      "7944\n",
      "6003\n",
      "5566\n",
      "3356\n",
      "2426\n",
      "3522\n",
      "6338\n",
      "7821\n",
      "5549\n",
      "5748\n",
      "2486\n",
      "6157\n",
      "5271\n",
      "2486\n",
      "3580\n",
      "7536\n",
      "6067\n",
      "4259\n",
      "3313\n",
      "4011\n",
      "3884\n",
      "6324\n",
      "3878\n",
      "6576\n",
      "3551\n",
      "5175\n",
      "6268\n",
      "4261\n",
      "5573\n",
      "4875\n",
      "3886\n",
      "6438\n",
      "2418\n",
      "Any[4437, 17906, 45165, 27231, 32790, 18109, 31044, 18102, 18643, 6042, 46776, 31328, 49498, 5984, 35326, 47028, 16743, 65994, 40792, 59248, 15619, 8388, 20824, 43628, 52872, 39788, 18025, 9618, 67288, 33368, 9567, 19342, 49066, 38821, 19291, 15970, 26597, 21487, 33336, 22315, 56787, 18953, 37694, 41896, 15845, 38392, 41052, 14049, 48347, 7188]\n",
      "30071.98\n",
      "Any[4646, 3781, 3693, 3789, 4083, 4519, 3935, 4631, 4313, 5059, 3848, 2918, 4039, 4879, 4099, 3709, 4161, 3767, 4343, 3910, 5245, 4756, 4209, 3974, 3481, 3902, 3862, 4826, 3695, 4330, 5081, 4797, 3854, 3755, 4476, 4443, 4229, 4313, 3728, 4076, 3534, 4420, 4153, 3872, 4230, 4067, 3881, 4222, 3785, 4397]\n",
      "4154.3\n",
      "Any[1296, 2223, 4288, 4262, 5295, 2676, 4273, 2352, 2961, 1426, 5087, 5759, 5221, 1213, 4526, 4807, 4493, 6867, 4934, 4497, 2287, 1357, 2453, 5261, 6744, 4480, 4679, 1417, 5080, 4202, 1417, 2511, 6467, 4990, 3190, 2244, 2934, 2815, 5255, 2809, 5507, 2482, 4106, 5199, 3192, 4504, 3806, 2817, 5369, 1349]\n",
      "3787.58\n"
     ]
    }
   ],
   "source": [
    "filesizes = []\n",
    "public_keys = []\n",
    "private_keys = []\n",
    "for i in 1:50\n",
    "    A, B, C, D = matrix_kl(5, 3, 64, 2, 3, 6)\n",
    "\n",
    "    file = open(\"publicKey.txt\", \"w\")\n",
    "    for i in 1:Int(size(C, 1))\n",
    "        for j in 1:Int(size(C, 2))\n",
    "            write(file, string(C[i, j]))\n",
    "            write(file, \" \")\n",
    "        end\n",
    "        write(file, \"\\n\")\n",
    "    end\n",
    "    close(file)\n",
    "    append!(public_keys, filesize(\"publicKey.txt\"))\n",
    "\n",
    "    file = open(\"privateKey.txt\", \"w\")\n",
    "    for i in 1:Int(size(D, 1))\n",
    "        for j in 1:Int(size(D, 2))\n",
    "            write(file, string(D[i, j]))\n",
    "            write(file, \" \")\n",
    "        end\n",
    "        write(file, \"\\n\")\n",
    "    end\n",
    "    close(file)\n",
    "    append!(private_keys, filesize(\"privateKey.txt\"))\n",
    "\n",
    "    \n",
    "    \n",
    "    U, Un = polys(message)\n",
    "    V = Un * D\n",
    "    Vs=simplify.(expand.(V))\n",
    "    \n",
    "    file = open(\"signature.txt\", \"w\")\n",
    "    for i in V\n",
    "        write(file, string(i))\n",
    "        write(file, \"\\n\")\n",
    "    end\n",
    "    close(file)\n",
    "    println(filesize(\"signature.txt\"))\n",
    "    \n",
    "    file=open(\"signature.txt\",\"w\")\n",
    "    for i in modify_matrix_coef(Vs,6)\n",
    "        write(file,string(i))\n",
    "        write(file,\"\\n\")\n",
    "    end\n",
    "    close(file)\n",
    "    append!(filesizes, filesize(\"signature.txt\"))\n",
    "    \n",
    "\n",
    "end\n",
    "println(filesizes)\n",
    "println(mean(filesizes))\n",
    "\n",
    "println(public_keys)\n",
    "println(mean(public_keys))\n",
    "\n",
    "println(private_keys)\n",
    "println(mean(private_keys))"
   ]
  },
  {
   "cell_type": "code",
   "execution_count": 227,
   "id": "5e242ea7",
   "metadata": {},
   "outputs": [
    {
     "data": {
      "text/plain": [
       "Dict{Any, Any} with 64 entries:\n",
       "  x[31] => 0\n",
       "  x[43] => 0\n",
       "  x[36] => 1\n",
       "  x[6]  => 1\n",
       "  x[37] => 1\n",
       "  x[49] => 1\n",
       "  x[46] => 0\n",
       "  x[56] => 0\n",
       "  x[16] => 1\n",
       "  x[57] => 0\n",
       "  x[5]  => 0\n",
       "  x[42] => 0\n",
       "  x[60] => 1\n",
       "  x[2]  => 0\n",
       "  x[47] => 0\n",
       "  x[61] => 1\n",
       "  x[38] => 0\n",
       "  x[50] => 0\n",
       "  x[29] => 0\n",
       "  x[8]  => 1\n",
       "  x[28] => 0\n",
       "  x[53] => 0\n",
       "  x[13] => 1\n",
       "  x[33] => 0\n",
       "  x[11] => 1\n",
       "  ⋮     => ⋮"
      ]
     },
     "execution_count": 227,
     "metadata": {},
     "output_type": "execute_result"
    }
   ],
   "source": [
    "substitution_dict = Dict()\n",
    "for i in 1:64\n",
    "    substitution_dict[x[i]] = rand(0:1)\n",
    "end\n",
    "substitution_dict"
   ]
  },
  {
   "cell_type": "code",
   "execution_count": 233,
   "id": "79e076a4",
   "metadata": {},
   "outputs": [
    {
     "data": {
      "text/latex": [
       "$$ \\begin{equation}\n",
       "\\left[\n",
       "\\begin{array}{ccc}\n",
       "\\left( 3 x_{2 0} x_{3 3} x_{4 7} + 2 x_{3 0} x_{3 2} x_{4 0} \\right) \\left( \\left(  - 4 x_8 x_{3 1} x_{4 6} - 5 x_{1 5} x_{2 0} x_{4 2} \\right) \\left( 4 x_{4 3} x_{5 2} + 3 x_2 x_{1 6} x_{2 4} x_{3 9} x_{4 4} x_{5 8} \\right) + \\left( 3 x_{1 6} x_{2 5} x_{3 5} x_{4 3} x_{4 4} x_{5 8} + 4 x_3 x_9 x_{2 0} x_{2 9} x_{3 1} x_{3 4} x_{4 3} x_{5 2} x_{5 7} \\right) \\left( 1.0 + \\left(  - 4 x_{1 0} - 2 x_5 x_{4 5} \\right) \\left(  - 2 x_{3 9} + \\left(  - x_1 x_9 - 5 x_{1 0} x_{4 5} \\right) \\left(  - 3 x_{4 3} x_{4 6} - 2 x_{1 1} x_{1 9} x_{2 4} \\right) - 5 x_{2 2} x_{2 6} x_{3 3} \\right) + \\left(  - 2 x_{3 8} - x_1 x_6 x_{2 4} \\right) \\left(  - 3 x_{4 3} x_{4 6} - 2 x_{1 1} x_{1 9} x_{2 4} \\right) + \\left(  - 5 x_{2 2}^{2} x_{1 7} - 4 x_2 x_{3 7} x_{4 8} \\right) \\left( \\left(  - x_7 - 5 x_1 x_{1 3} \\right) \\left(  - 2 x_{3 9} + \\left(  - x_1 x_9 - 5 x_{1 0} x_{4 5} \\right) \\left(  - 3 x_{4 3} x_{4 6} - 2 x_{1 1} x_{1 9} x_{2 4} \\right) - 5 x_{2 2} x_{2 6} x_{3 3} \\right) + \\left(  - 3 x_{4 3} x_{4 6} - 2 x_{1 1} x_{1 9} x_{2 4} \\right) \\left(  - x_{1 0} - 3 x_{1 2} x_{2 3} x_{5 0} \\right) - 5 x_5 x_{1 6} x_{2 2} - 5 x_{2 0} x_{2 3} x_{4 3} \\right) + \\left(  - 4 x_8 x_{3 1} x_{4 6} - 5 x_{1 5} x_{2 0} x_{4 2} \\right) \\left( \\left(  - 5 x_{1 9} - 3 x_{1 1} x_{2 0} x_{3 8} \\right) \\left( \\left(  - x_7 - 5 x_1 x_{1 3} \\right) \\left(  - 2 x_{3 9} + \\left(  - x_1 x_9 - 5 x_{1 0} x_{4 5} \\right) \\left(  - 3 x_{4 3} x_{4 6} - 2 x_{1 1} x_{1 9} x_{2 4} \\right) - 5 x_{2 2} x_{2 6} x_{3 3} \\right) + \\left(  - 3 x_{4 3} x_{4 6} - 2 x_{1 1} x_{1 9} x_{2 4} \\right) \\left(  - x_{1 0} - 3 x_{1 2} x_{2 3} x_{5 0} \\right) - 5 x_5 x_{1 6} x_{2 2} - 5 x_{2 0} x_{2 3} x_{4 3} \\right) + \\left(  - 3 x_5 x_{2 1} - 3 x_{1 2} x_{3 6} \\right) \\left(  - 2 x_{3 9} + \\left(  - x_1 x_9 - 5 x_{1 0} x_{4 5} \\right) \\left(  - 3 x_{4 3} x_{4 6} - 2 x_{1 1} x_{1 9} x_{2 4} \\right) - 5 x_{2 2} x_{2 6} x_{3 3} \\right) + \\left(  - 3 x_{4 3} x_{4 6} - 2 x_{1 1} x_{1 9} x_{2 4} \\right) \\left(  - 5 x_{4 0} - 4 x_3 x_{2 4} x_{4 2} \\right) - 3 x_{2 0} x_{3 3} x_{4 7} - 2 x_{3 0} x_{3 2} x_{4 0} \\right) \\right) + \\left( 4 x_3 x_{3 1} x_{3 4} + 3 x_{1 6} x_{2 4} x_{2 5} x_{3 0} x_{4 4} x_{5 8} \\right) \\left(  - 2 x_{3 8} + \\left(  - 4 x_{1 0} - 2 x_5 x_{4 5} \\right) \\left(  - x_1 x_9 - 5 x_{1 0} x_{4 5} \\right) + \\left(  - 5 x_{2 2}^{2} x_{1 7} - 4 x_2 x_{3 7} x_{4 8} \\right) \\left(  - x_{1 0} + \\left(  - x_7 - 5 x_1 x_{1 3} \\right) \\left(  - x_1 x_9 - 5 x_{1 0} x_{4 5} \\right) - 3 x_{1 2} x_{2 3} x_{5 0} \\right) + \\left(  - 4 x_8 x_{3 1} x_{4 6} - 5 x_{1 5} x_{2 0} x_{4 2} \\right) \\left(  - 5 x_{4 0} + \\left(  - x_1 x_9 - 5 x_{1 0} x_{4 5} \\right) \\left(  - 3 x_5 x_{2 1} - 3 x_{1 2} x_{3 6} \\right) + \\left(  - 5 x_{1 9} - 3 x_{1 1} x_{2 0} x_{3 8} \\right) \\left(  - x_{1 0} + \\left(  - x_7 - 5 x_1 x_{1 3} \\right) \\left(  - x_1 x_9 - 5 x_{1 0} x_{4 5} \\right) - 3 x_{1 2} x_{2 3} x_{5 0} \\right) - 4 x_3 x_{2 4} x_{4 2} \\right) - x_1 x_6 x_{2 4} \\right) \\right) + \\left( \\left(  - 5 x_{4 6} - 4 x_{3 9} x_{4 5} \\right) \\left( 4 x_{4 3} x_{5 2} + 3 x_2 x_{1 6} x_{2 4} x_{3 9} x_{4 4} x_{5 8} \\right) + \\left( 4 x_3 x_{3 1} x_{3 4} + 3 x_{1 6} x_{2 4} x_{2 5} x_{3 0} x_{4 4} x_{5 8} \\right) \\left( \\left(  - 5 x_{4 6} - 4 x_{3 9} x_{4 5} \\right) \\left(  - 5 x_{4 0} + \\left(  - x_1 x_9 - 5 x_{1 0} x_{4 5} \\right) \\left(  - 3 x_5 x_{2 1} - 3 x_{1 2} x_{3 6} \\right) + \\left(  - 5 x_{1 9} - 3 x_{1 1} x_{2 0} x_{3 8} \\right) \\left(  - x_{1 0} + \\left(  - x_7 - 5 x_1 x_{1 3} \\right) \\left(  - x_1 x_9 - 5 x_{1 0} x_{4 5} \\right) - 3 x_{1 2} x_{2 3} x_{5 0} \\right) - 4 x_3 x_{2 4} x_{4 2} \\right) + \\left(  - 5 x_9 x_{1 6} - 3 x_{2 6} x_{3 2} x_{4 8} \\right) \\left(  - x_{1 0} + \\left(  - x_7 - 5 x_1 x_{1 3} \\right) \\left(  - x_1 x_9 - 5 x_{1 0} x_{4 5} \\right) - 3 x_{1 2} x_{2 3} x_{5 0} \\right) - x_1 x_9 - 5 x_{1 0} x_{4 5} \\right) + \\left( 3 x_{1 6} x_{2 5} x_{3 5} x_{4 3} x_{4 4} x_{5 8} + 4 x_3 x_9 x_{2 0} x_{2 9} x_{3 1} x_{3 4} x_{4 3} x_{5 2} x_{5 7} \\right) \\left( \\left(  - 5 x_{4 6} - 4 x_{3 9} x_{4 5} \\right) \\left( \\left(  - 5 x_{1 9} - 3 x_{1 1} x_{2 0} x_{3 8} \\right) \\left( \\left(  - x_7 - 5 x_1 x_{1 3} \\right) \\left(  - 2 x_{3 9} + \\left(  - x_1 x_9 - 5 x_{1 0} x_{4 5} \\right) \\left(  - 3 x_{4 3} x_{4 6} - 2 x_{1 1} x_{1 9} x_{2 4} \\right) - 5 x_{2 2} x_{2 6} x_{3 3} \\right) + \\left(  - 3 x_{4 3} x_{4 6} - 2 x_{1 1} x_{1 9} x_{2 4} \\right) \\left(  - x_{1 0} - 3 x_{1 2} x_{2 3} x_{5 0} \\right) - 5 x_5 x_{1 6} x_{2 2} - 5 x_{2 0} x_{2 3} x_{4 3} \\right) + \\left(  - 3 x_5 x_{2 1} - 3 x_{1 2} x_{3 6} \\right) \\left(  - 2 x_{3 9} + \\left(  - x_1 x_9 - 5 x_{1 0} x_{4 5} \\right) \\left(  - 3 x_{4 3} x_{4 6} - 2 x_{1 1} x_{1 9} x_{2 4} \\right) - 5 x_{2 2} x_{2 6} x_{3 3} \\right) + \\left(  - 3 x_{4 3} x_{4 6} - 2 x_{1 1} x_{1 9} x_{2 4} \\right) \\left(  - 5 x_{4 0} - 4 x_3 x_{2 4} x_{4 2} \\right) - 3 x_{2 0} x_{3 3} x_{4 7} - 2 x_{3 0} x_{3 2} x_{4 0} \\right) - 2 x_{3 9} + \\left(  - x_1 x_9 - 5 x_{1 0} x_{4 5} \\right) \\left(  - 3 x_{4 3} x_{4 6} - 2 x_{1 1} x_{1 9} x_{2 4} \\right) + \\left(  - 5 x_9 x_{1 6} - 3 x_{2 6} x_{3 2} x_{4 8} \\right) \\left( \\left(  - x_7 - 5 x_1 x_{1 3} \\right) \\left(  - 2 x_{3 9} + \\left(  - x_1 x_9 - 5 x_{1 0} x_{4 5} \\right) \\left(  - 3 x_{4 3} x_{4 6} - 2 x_{1 1} x_{1 9} x_{2 4} \\right) - 5 x_{2 2} x_{2 6} x_{3 3} \\right) + \\left(  - 3 x_{4 3} x_{4 6} - 2 x_{1 1} x_{1 9} x_{2 4} \\right) \\left(  - x_{1 0} - 3 x_{1 2} x_{2 3} x_{5 0} \\right) - 5 x_5 x_{1 6} x_{2 2} - 5 x_{2 0} x_{2 3} x_{4 3} \\right) - 5 x_{2 2} x_{2 6} x_{3 3} \\right) \\right) \\left( \\left( 3 x_{2 0} x_{3 3} x_{4 7} + 2 x_{3 0} x_{3 2} x_{4 0} \\right) \\left( 4 x_{1 0} + \\left( 2 x_{3 8} + x_1 x_6 x_{2 4} \\right) \\left( 3 x_{1 9} x_{3 4} + x_{4 5} \\right) + 2 x_5 x_{4 5} \\right) + \\left( 5 x_{4 0} + 4 x_3 x_{2 4} x_{4 2} \\right) \\left( 3 x_{1 9} x_{3 4} + x_{4 5} \\right) + 3 x_5 x_{2 1} + 3 x_{1 2} x_{3 6} \\right) + \\left( \\left( 4 x_{4 3} x_{5 2} + 3 x_2 x_{1 6} x_{2 4} x_{3 9} x_{4 4} x_{5 8} \\right) \\left(  - 3 x_4 x_{1 7} x_{3 1} - 4 x_7 x_{2 5} x_{4 4} \\right) + \\left( 4 x_3 x_{3 1} x_{3 4} + 3 x_{1 6} x_{2 4} x_{2 5} x_{3 0} x_{4 4} x_{5 8} \\right) \\left( 1.0 + \\left(  - 3 x_{2 9} - 5 x_{4 6} \\right) \\left(  - x_{1 0} + \\left(  - x_7 - 5 x_1 x_{1 3} \\right) \\left(  - x_1 x_9 - 5 x_{1 0} x_{4 5} \\right) - 3 x_{1 2} x_{2 3} x_{5 0} \\right) + \\left(  - x_1 x_9 - 5 x_{1 0} x_{4 5} \\right) \\left(  - x_{4 5} - 3 x_{1 9} x_{3 4} \\right) + \\left(  - 3 x_4 x_{1 7} x_{3 1} - 4 x_7 x_{2 5} x_{4 4} \\right) \\left(  - 5 x_{4 0} + \\left(  - x_1 x_9 - 5 x_{1 0} x_{4 5} \\right) \\left(  - 3 x_5 x_{2 1} - 3 x_{1 2} x_{3 6} \\right) + \\left(  - 5 x_{1 9} - 3 x_{1 1} x_{2 0} x_{3 8} \\right) \\left(  - x_{1 0} + \\left(  - x_7 - 5 x_1 x_{1 3} \\right) \\left(  - x_1 x_9 - 5 x_{1 0} x_{4 5} \\right) - 3 x_{1 2} x_{2 3} x_{5 0} \\right) - 4 x_3 x_{2 4} x_{4 2} \\right) \\right) + \\left( 3 x_{1 6} x_{2 5} x_{3 5} x_{4 3} x_{4 4} x_{5 8} + 4 x_3 x_9 x_{2 0} x_{2 9} x_{3 1} x_{3 4} x_{4 3} x_{5 2} x_{5 7} \\right) \\left( \\left(  - x_{4 5} - 3 x_{1 9} x_{3 4} \\right) \\left(  - 2 x_{3 9} + \\left(  - x_1 x_9 - 5 x_{1 0} x_{4 5} \\right) \\left(  - 3 x_{4 3} x_{4 6} - 2 x_{1 1} x_{1 9} x_{2 4} \\right) - 5 x_{2 2} x_{2 6} x_{3 3} \\right) + \\left(  - 3 x_{2 9} - 5 x_{4 6} \\right) \\left( \\left(  - x_7 - 5 x_1 x_{1 3} \\right) \\left(  - 2 x_{3 9} + \\left(  - x_1 x_9 - 5 x_{1 0} x_{4 5} \\right) \\left(  - 3 x_{4 3} x_{4 6} - 2 x_{1 1} x_{1 9} x_{2 4} \\right) - 5 x_{2 2} x_{2 6} x_{3 3} \\right) + \\left(  - 3 x_{4 3} x_{4 6} - 2 x_{1 1} x_{1 9} x_{2 4} \\right) \\left(  - x_{1 0} - 3 x_{1 2} x_{2 3} x_{5 0} \\right) - 5 x_5 x_{1 6} x_{2 2} - 5 x_{2 0} x_{2 3} x_{4 3} \\right) + \\left(  - 3 x_4 x_{1 7} x_{3 1} - 4 x_7 x_{2 5} x_{4 4} \\right) \\left( \\left(  - 5 x_{1 9} - 3 x_{1 1} x_{2 0} x_{3 8} \\right) \\left( \\left(  - x_7 - 5 x_1 x_{1 3} \\right) \\left(  - 2 x_{3 9} + \\left(  - x_1 x_9 - 5 x_{1 0} x_{4 5} \\right) \\left(  - 3 x_{4 3} x_{4 6} - 2 x_{1 1} x_{1 9} x_{2 4} \\right) - 5 x_{2 2} x_{2 6} x_{3 3} \\right) + \\left(  - 3 x_{4 3} x_{4 6} - 2 x_{1 1} x_{1 9} x_{2 4} \\right) \\left(  - x_{1 0} - 3 x_{1 2} x_{2 3} x_{5 0} \\right) - 5 x_5 x_{1 6} x_{2 2} - 5 x_{2 0} x_{2 3} x_{4 3} \\right) + \\left(  - 3 x_5 x_{2 1} - 3 x_{1 2} x_{3 6} \\right) \\left(  - 2 x_{3 9} + \\left(  - x_1 x_9 - 5 x_{1 0} x_{4 5} \\right) \\left(  - 3 x_{4 3} x_{4 6} - 2 x_{1 1} x_{1 9} x_{2 4} \\right) - 5 x_{2 2} x_{2 6} x_{3 3} \\right) + \\left(  - 3 x_{4 3} x_{4 6} - 2 x_{1 1} x_{1 9} x_{2 4} \\right) \\left(  - 5 x_{4 0} - 4 x_3 x_{2 4} x_{4 2} \\right) - 3 x_{2 0} x_{3 3} x_{4 7} - 2 x_{3 0} x_{3 2} x_{4 0} \\right) - 3 x_{4 3} x_{4 6} - 2 x_{1 1} x_{1 9} x_{2 4} \\right) \\right) \\left( 5 x_{4 0} + \\left( 2 x_{3 8} + x_1 x_6 x_{2 4} \\right) \\left( 3 x_{2 0} x_{3 3} x_{4 7} + 2 x_{3 0} x_{3 2} x_{4 0} \\right) + 4 x_3 x_{2 4} x_{4 2} \\right) + \\left( \\left( 4 x_3 x_{3 1} x_{3 4} + 3 x_{1 6} x_{2 4} x_{2 5} x_{3 0} x_{4 4} x_{5 8} \\right) \\left(  - 5 x_{4 0} + \\left(  - x_1 x_9 - 5 x_{1 0} x_{4 5} \\right) \\left(  - 3 x_5 x_{2 1} - 3 x_{1 2} x_{3 6} \\right) + \\left(  - 5 x_{1 9} - 3 x_{1 1} x_{2 0} x_{3 8} \\right) \\left(  - x_{1 0} + \\left(  - x_7 - 5 x_1 x_{1 3} \\right) \\left(  - x_1 x_9 - 5 x_{1 0} x_{4 5} \\right) - 3 x_{1 2} x_{2 3} x_{5 0} \\right) - 4 x_3 x_{2 4} x_{4 2} \\right) + \\left( 3 x_{1 6} x_{2 5} x_{3 5} x_{4 3} x_{4 4} x_{5 8} + 4 x_3 x_9 x_{2 0} x_{2 9} x_{3 1} x_{3 4} x_{4 3} x_{5 2} x_{5 7} \\right) \\left( \\left(  - 5 x_{1 9} - 3 x_{1 1} x_{2 0} x_{3 8} \\right) \\left( \\left(  - x_7 - 5 x_1 x_{1 3} \\right) \\left(  - 2 x_{3 9} + \\left(  - x_1 x_9 - 5 x_{1 0} x_{4 5} \\right) \\left(  - 3 x_{4 3} x_{4 6} - 2 x_{1 1} x_{1 9} x_{2 4} \\right) - 5 x_{2 2} x_{2 6} x_{3 3} \\right) + \\left(  - 3 x_{4 3} x_{4 6} - 2 x_{1 1} x_{1 9} x_{2 4} \\right) \\left(  - x_{1 0} - 3 x_{1 2} x_{2 3} x_{5 0} \\right) - 5 x_5 x_{1 6} x_{2 2} - 5 x_{2 0} x_{2 3} x_{4 3} \\right) + \\left(  - 3 x_5 x_{2 1} - 3 x_{1 2} x_{3 6} \\right) \\left(  - 2 x_{3 9} + \\left(  - x_1 x_9 - 5 x_{1 0} x_{4 5} \\right) \\left(  - 3 x_{4 3} x_{4 6} - 2 x_{1 1} x_{1 9} x_{2 4} \\right) - 5 x_{2 2} x_{2 6} x_{3 3} \\right) + \\left(  - 3 x_{4 3} x_{4 6} - 2 x_{1 1} x_{1 9} x_{2 4} \\right) \\left(  - 5 x_{4 0} - 4 x_3 x_{2 4} x_{4 2} \\right) - 3 x_{2 0} x_{3 3} x_{4 7} - 2 x_{3 0} x_{3 2} x_{4 0} \\right) + 4 x_{4 3} x_{5 2} + 3 x_2 x_{1 6} x_{2 4} x_{3 9} x_{4 4} x_{5 8} \\right) \\left( 1 + \\left( 3 x_5 x_{2 1} + 3 x_{1 2} x_{3 6} \\right) \\left( \\left( 4 x_{2 9} + 5 x_{1 8}^{2} x_5 \\right) \\left( 5 x_9 x_{1 6} + 3 x_{2 6} x_{3 2} x_{4 8} \\right) + 5 x_{4 6} + 4 x_{3 9} x_{4 5} \\right) + \\left( 5 x_{1 9} + 3 x_{1 1} x_{2 0} x_{3 8} \\right) \\left( 4 x_{2 9} + 5 x_{1 8}^{2} x_5 \\right) + \\left( 3 x_{2 0} x_{3 3} x_{4 7} + 2 x_{3 0} x_{3 2} x_{4 0} \\right) \\left( \\left( 4 x_{1 0} + 2 x_5 x_{4 5} \\right) \\left( \\left( 4 x_{2 9} + 5 x_{1 8}^{2} x_5 \\right) \\left( 5 x_9 x_{1 6} + 3 x_{2 6} x_{3 2} x_{4 8} \\right) + 5 x_{4 6} + 4 x_{3 9} x_{4 5} \\right) + \\left( 4 x_{2 9} + 5 x_{1 8}^{2} x_5 \\right) \\left( 5 x_{2 2}^{2} x_{1 7} + 4 x_2 x_{3 7} x_{4 8} \\right) + \\left( 2 x_{3 8} + x_1 x_6 x_{2 4} \\right) \\left( \\left( 3 x_{2 9} + 5 x_{4 6} \\right) \\left( 4 x_{2 9} + 5 x_{1 8}^{2} x_5 \\right) + \\left( 3 x_{1 9} x_{3 4} + x_{4 5} \\right) \\left( \\left( 4 x_{2 9} + 5 x_{1 8}^{2} x_5 \\right) \\left( 5 x_9 x_{1 6} + 3 x_{2 6} x_{3 2} x_{4 8} \\right) + 5 x_{4 6} + 4 x_{3 9} x_{4 5} \\right) + 3 x_4 x_{1 7} x_{3 1} + 4 x_7 x_{2 5} x_{4 4} \\right) + 4 x_8 x_{3 1} x_{4 6} + 5 x_{1 5} x_{2 0} x_{4 2} \\right) + \\left( 5 x_{4 0} + 4 x_3 x_{2 4} x_{4 2} \\right) \\left( \\left( 3 x_{2 9} + 5 x_{4 6} \\right) \\left( 4 x_{2 9} + 5 x_{1 8}^{2} x_5 \\right) + \\left( 3 x_{1 9} x_{3 4} + x_{4 5} \\right) \\left( \\left( 4 x_{2 9} + 5 x_{1 8}^{2} x_5 \\right) \\left( 5 x_9 x_{1 6} + 3 x_{2 6} x_{3 2} x_{4 8} \\right) + 5 x_{4 6} + 4 x_{3 9} x_{4 5} \\right) + 3 x_4 x_{1 7} x_{3 1} + 4 x_7 x_{2 5} x_{4 4} \\right) \\right) + \\left( \\left(  - 4 x_{2 9} - 5 x_{1 8}^{2} x_5 \\right) \\left( 4 x_{4 3} x_{5 2} + 3 x_2 x_{1 6} x_{2 4} x_{3 9} x_{4 4} x_{5 8} \\right) + \\left( 4 x_3 x_{3 1} x_{3 4} + 3 x_{1 6} x_{2 4} x_{2 5} x_{3 0} x_{4 4} x_{5 8} \\right) \\left(  - x_{1 0} + \\left(  - 4 x_{2 9} - 5 x_{1 8}^{2} x_5 \\right) \\left(  - 5 x_{4 0} + \\left(  - x_1 x_9 - 5 x_{1 0} x_{4 5} \\right) \\left(  - 3 x_5 x_{2 1} - 3 x_{1 2} x_{3 6} \\right) + \\left(  - 5 x_{1 9} - 3 x_{1 1} x_{2 0} x_{3 8} \\right) \\left(  - x_{1 0} + \\left(  - x_7 - 5 x_1 x_{1 3} \\right) \\left(  - x_1 x_9 - 5 x_{1 0} x_{4 5} \\right) - 3 x_{1 2} x_{2 3} x_{5 0} \\right) - 4 x_3 x_{2 4} x_{4 2} \\right) + \\left(  - x_7 - 5 x_1 x_{1 3} \\right) \\left(  - x_1 x_9 - 5 x_{1 0} x_{4 5} \\right) - 3 x_{1 2} x_{2 3} x_{5 0} \\right) + \\left( 3 x_{1 6} x_{2 5} x_{3 5} x_{4 3} x_{4 4} x_{5 8} + 4 x_3 x_9 x_{2 0} x_{2 9} x_{3 1} x_{3 4} x_{4 3} x_{5 2} x_{5 7} \\right) \\left( \\left(  - 4 x_{2 9} - 5 x_{1 8}^{2} x_5 \\right) \\left( \\left(  - 5 x_{1 9} - 3 x_{1 1} x_{2 0} x_{3 8} \\right) \\left( \\left(  - x_7 - 5 x_1 x_{1 3} \\right) \\left(  - 2 x_{3 9} + \\left(  - x_1 x_9 - 5 x_{1 0} x_{4 5} \\right) \\left(  - 3 x_{4 3} x_{4 6} - 2 x_{1 1} x_{1 9} x_{2 4} \\right) - 5 x_{2 2} x_{2 6} x_{3 3} \\right) + \\left(  - 3 x_{4 3} x_{4 6} - 2 x_{1 1} x_{1 9} x_{2 4} \\right) \\left(  - x_{1 0} - 3 x_{1 2} x_{2 3} x_{5 0} \\right) - 5 x_5 x_{1 6} x_{2 2} - 5 x_{2 0} x_{2 3} x_{4 3} \\right) + \\left(  - 3 x_5 x_{2 1} - 3 x_{1 2} x_{3 6} \\right) \\left(  - 2 x_{3 9} + \\left(  - x_1 x_9 - 5 x_{1 0} x_{4 5} \\right) \\left(  - 3 x_{4 3} x_{4 6} - 2 x_{1 1} x_{1 9} x_{2 4} \\right) - 5 x_{2 2} x_{2 6} x_{3 3} \\right) + \\left(  - 3 x_{4 3} x_{4 6} - 2 x_{1 1} x_{1 9} x_{2 4} \\right) \\left(  - 5 x_{4 0} - 4 x_3 x_{2 4} x_{4 2} \\right) - 3 x_{2 0} x_{3 3} x_{4 7} - 2 x_{3 0} x_{3 2} x_{4 0} \\right) + \\left(  - x_7 - 5 x_1 x_{1 3} \\right) \\left(  - 2 x_{3 9} + \\left(  - x_1 x_9 - 5 x_{1 0} x_{4 5} \\right) \\left(  - 3 x_{4 3} x_{4 6} - 2 x_{1 1} x_{1 9} x_{2 4} \\right) - 5 x_{2 2} x_{2 6} x_{3 3} \\right) + \\left(  - 3 x_{4 3} x_{4 6} - 2 x_{1 1} x_{1 9} x_{2 4} \\right) \\left(  - x_{1 0} - 3 x_{1 2} x_{2 3} x_{5 0} \\right) - 5 x_5 x_{1 6} x_{2 2} - 5 x_{2 0} x_{2 3} x_{4 3} \\right) \\right) \\left( \\left( 3 x_5 x_{2 1} + 3 x_{1 2} x_{3 6} \\right) \\left( 5 x_9 x_{1 6} + 3 x_{2 6} x_{3 2} x_{4 8} \\right) + \\left( 3 x_{2 0} x_{3 3} x_{4 7} + 2 x_{3 0} x_{3 2} x_{4 0} \\right) \\left( \\left( 4 x_{1 0} + 2 x_5 x_{4 5} \\right) \\left( 5 x_9 x_{1 6} + 3 x_{2 6} x_{3 2} x_{4 8} \\right) + \\left( 2 x_{3 8} + x_1 x_6 x_{2 4} \\right) \\left( \\left( 5 x_9 x_{1 6} + 3 x_{2 6} x_{3 2} x_{4 8} \\right) \\left( 3 x_{1 9} x_{3 4} + x_{4 5} \\right) + 3 x_{2 9} + 5 x_{4 6} \\right) + 5 x_{2 2}^{2} x_{1 7} + 4 x_2 x_{3 7} x_{4 8} \\right) + \\left( 5 x_{4 0} + 4 x_3 x_{2 4} x_{4 2} \\right) \\left( \\left( 5 x_9 x_{1 6} + 3 x_{2 6} x_{3 2} x_{4 8} \\right) \\left( 3 x_{1 9} x_{3 4} + x_{4 5} \\right) + 3 x_{2 9} + 5 x_{4 6} \\right) + 5 x_{1 9} + 3 x_{1 1} x_{2 0} x_{3 8} \\right) & \\left( 3 x_{4 3} x_{4 6} + 2 x_{1 1} x_{1 9} x_{2 4} \\right) \\left( \\left(  - 4 x_8 x_{3 1} x_{4 6} - 5 x_{1 5} x_{2 0} x_{4 2} \\right) \\left( 4 x_{4 3} x_{5 2} + 3 x_2 x_{1 6} x_{2 4} x_{3 9} x_{4 4} x_{5 8} \\right) + \\left( 3 x_{1 6} x_{2 5} x_{3 5} x_{4 3} x_{4 4} x_{5 8} + 4 x_3 x_9 x_{2 0} x_{2 9} x_{3 1} x_{3 4} x_{4 3} x_{5 2} x_{5 7} \\right) \\left( 1.0 + \\left(  - 4 x_{1 0} - 2 x_5 x_{4 5} \\right) \\left(  - 2 x_{3 9} + \\left(  - x_1 x_9 - 5 x_{1 0} x_{4 5} \\right) \\left(  - 3 x_{4 3} x_{4 6} - 2 x_{1 1} x_{1 9} x_{2 4} \\right) - 5 x_{2 2} x_{2 6} x_{3 3} \\right) + \\left(  - 2 x_{3 8} - x_1 x_6 x_{2 4} \\right) \\left(  - 3 x_{4 3} x_{4 6} - 2 x_{1 1} x_{1 9} x_{2 4} \\right) + \\left(  - 5 x_{2 2}^{2} x_{1 7} - 4 x_2 x_{3 7} x_{4 8} \\right) \\left( \\left(  - x_7 - 5 x_1 x_{1 3} \\right) \\left(  - 2 x_{3 9} + \\left(  - x_1 x_9 - 5 x_{1 0} x_{4 5} \\right) \\left(  - 3 x_{4 3} x_{4 6} - 2 x_{1 1} x_{1 9} x_{2 4} \\right) - 5 x_{2 2} x_{2 6} x_{3 3} \\right) + \\left(  - 3 x_{4 3} x_{4 6} - 2 x_{1 1} x_{1 9} x_{2 4} \\right) \\left(  - x_{1 0} - 3 x_{1 2} x_{2 3} x_{5 0} \\right) - 5 x_5 x_{1 6} x_{2 2} - 5 x_{2 0} x_{2 3} x_{4 3} \\right) + \\left(  - 4 x_8 x_{3 1} x_{4 6} - 5 x_{1 5} x_{2 0} x_{4 2} \\right) \\left( \\left(  - 5 x_{1 9} - 3 x_{1 1} x_{2 0} x_{3 8} \\right) \\left( \\left(  - x_7 - 5 x_1 x_{1 3} \\right) \\left(  - 2 x_{3 9} + \\left(  - x_1 x_9 - 5 x_{1 0} x_{4 5} \\right) \\left(  - 3 x_{4 3} x_{4 6} - 2 x_{1 1} x_{1 9} x_{2 4} \\right) - 5 x_{2 2} x_{2 6} x_{3 3} \\right) + \\left(  - 3 x_{4 3} x_{4 6} - 2 x_{1 1} x_{1 9} x_{2 4} \\right) \\left(  - x_{1 0} - 3 x_{1 2} x_{2 3} x_{5 0} \\right) - 5 x_5 x_{1 6} x_{2 2} - 5 x_{2 0} x_{2 3} x_{4 3} \\right) + \\left(  - 3 x_5 x_{2 1} - 3 x_{1 2} x_{3 6} \\right) \\left(  - 2 x_{3 9} + \\left(  - x_1 x_9 - 5 x_{1 0} x_{4 5} \\right) \\left(  - 3 x_{4 3} x_{4 6} - 2 x_{1 1} x_{1 9} x_{2 4} \\right) - 5 x_{2 2} x_{2 6} x_{3 3} \\right) + \\left(  - 3 x_{4 3} x_{4 6} - 2 x_{1 1} x_{1 9} x_{2 4} \\right) \\left(  - 5 x_{4 0} - 4 x_3 x_{2 4} x_{4 2} \\right) - 3 x_{2 0} x_{3 3} x_{4 7} - 2 x_{3 0} x_{3 2} x_{4 0} \\right) \\right) + \\left( 4 x_3 x_{3 1} x_{3 4} + 3 x_{1 6} x_{2 4} x_{2 5} x_{3 0} x_{4 4} x_{5 8} \\right) \\left(  - 2 x_{3 8} + \\left(  - 4 x_{1 0} - 2 x_5 x_{4 5} \\right) \\left(  - x_1 x_9 - 5 x_{1 0} x_{4 5} \\right) + \\left(  - 5 x_{2 2}^{2} x_{1 7} - 4 x_2 x_{3 7} x_{4 8} \\right) \\left(  - x_{1 0} + \\left(  - x_7 - 5 x_1 x_{1 3} \\right) \\left(  - x_1 x_9 - 5 x_{1 0} x_{4 5} \\right) - 3 x_{1 2} x_{2 3} x_{5 0} \\right) + \\left(  - 4 x_8 x_{3 1} x_{4 6} - 5 x_{1 5} x_{2 0} x_{4 2} \\right) \\left(  - 5 x_{4 0} + \\left(  - x_1 x_9 - 5 x_{1 0} x_{4 5} \\right) \\left(  - 3 x_5 x_{2 1} - 3 x_{1 2} x_{3 6} \\right) + \\left(  - 5 x_{1 9} - 3 x_{1 1} x_{2 0} x_{3 8} \\right) \\left(  - x_{1 0} + \\left(  - x_7 - 5 x_1 x_{1 3} \\right) \\left(  - x_1 x_9 - 5 x_{1 0} x_{4 5} \\right) - 3 x_{1 2} x_{2 3} x_{5 0} \\right) - 4 x_3 x_{2 4} x_{4 2} \\right) - x_1 x_6 x_{2 4} \\right) \\right) + \\left( 1 + \\left( 2 x_{3 8} + x_1 x_6 x_{2 4} \\right) \\left( 3 x_{4 3} x_{4 6} + 2 x_{1 1} x_{1 9} x_{2 4} \\right) \\right) \\left( \\left( 4 x_{4 3} x_{5 2} + 3 x_2 x_{1 6} x_{2 4} x_{3 9} x_{4 4} x_{5 8} \\right) \\left(  - 3 x_4 x_{1 7} x_{3 1} - 4 x_7 x_{2 5} x_{4 4} \\right) + \\left( 4 x_3 x_{3 1} x_{3 4} + 3 x_{1 6} x_{2 4} x_{2 5} x_{3 0} x_{4 4} x_{5 8} \\right) \\left( 1.0 + \\left(  - 3 x_{2 9} - 5 x_{4 6} \\right) \\left(  - x_{1 0} + \\left(  - x_7 - 5 x_1 x_{1 3} \\right) \\left(  - x_1 x_9 - 5 x_{1 0} x_{4 5} \\right) - 3 x_{1 2} x_{2 3} x_{5 0} \\right) + \\left(  - x_1 x_9 - 5 x_{1 0} x_{4 5} \\right) \\left(  - x_{4 5} - 3 x_{1 9} x_{3 4} \\right) + \\left(  - 3 x_4 x_{1 7} x_{3 1} - 4 x_7 x_{2 5} x_{4 4} \\right) \\left(  - 5 x_{4 0} + \\left(  - x_1 x_9 - 5 x_{1 0} x_{4 5} \\right) \\left(  - 3 x_5 x_{2 1} - 3 x_{1 2} x_{3 6} \\right) + \\left(  - 5 x_{1 9} - 3 x_{1 1} x_{2 0} x_{3 8} \\right) \\left(  - x_{1 0} + \\left(  - x_7 - 5 x_1 x_{1 3} \\right) \\left(  - x_1 x_9 - 5 x_{1 0} x_{4 5} \\right) - 3 x_{1 2} x_{2 3} x_{5 0} \\right) - 4 x_3 x_{2 4} x_{4 2} \\right) \\right) + \\left( 3 x_{1 6} x_{2 5} x_{3 5} x_{4 3} x_{4 4} x_{5 8} + 4 x_3 x_9 x_{2 0} x_{2 9} x_{3 1} x_{3 4} x_{4 3} x_{5 2} x_{5 7} \\right) \\left( \\left(  - x_{4 5} - 3 x_{1 9} x_{3 4} \\right) \\left(  - 2 x_{3 9} + \\left(  - x_1 x_9 - 5 x_{1 0} x_{4 5} \\right) \\left(  - 3 x_{4 3} x_{4 6} - 2 x_{1 1} x_{1 9} x_{2 4} \\right) - 5 x_{2 2} x_{2 6} x_{3 3} \\right) + \\left(  - 3 x_{2 9} - 5 x_{4 6} \\right) \\left( \\left(  - x_7 - 5 x_1 x_{1 3} \\right) \\left(  - 2 x_{3 9} + \\left(  - x_1 x_9 - 5 x_{1 0} x_{4 5} \\right) \\left(  - 3 x_{4 3} x_{4 6} - 2 x_{1 1} x_{1 9} x_{2 4} \\right) - 5 x_{2 2} x_{2 6} x_{3 3} \\right) + \\left(  - 3 x_{4 3} x_{4 6} - 2 x_{1 1} x_{1 9} x_{2 4} \\right) \\left(  - x_{1 0} - 3 x_{1 2} x_{2 3} x_{5 0} \\right) - 5 x_5 x_{1 6} x_{2 2} - 5 x_{2 0} x_{2 3} x_{4 3} \\right) + \\left(  - 3 x_4 x_{1 7} x_{3 1} - 4 x_7 x_{2 5} x_{4 4} \\right) \\left( \\left(  - 5 x_{1 9} - 3 x_{1 1} x_{2 0} x_{3 8} \\right) \\left( \\left(  - x_7 - 5 x_1 x_{1 3} \\right) \\left(  - 2 x_{3 9} + \\left(  - x_1 x_9 - 5 x_{1 0} x_{4 5} \\right) \\left(  - 3 x_{4 3} x_{4 6} - 2 x_{1 1} x_{1 9} x_{2 4} \\right) - 5 x_{2 2} x_{2 6} x_{3 3} \\right) + \\left(  - 3 x_{4 3} x_{4 6} - 2 x_{1 1} x_{1 9} x_{2 4} \\right) \\left(  - x_{1 0} - 3 x_{1 2} x_{2 3} x_{5 0} \\right) - 5 x_5 x_{1 6} x_{2 2} - 5 x_{2 0} x_{2 3} x_{4 3} \\right) + \\left(  - 3 x_5 x_{2 1} - 3 x_{1 2} x_{3 6} \\right) \\left(  - 2 x_{3 9} + \\left(  - x_1 x_9 - 5 x_{1 0} x_{4 5} \\right) \\left(  - 3 x_{4 3} x_{4 6} - 2 x_{1 1} x_{1 9} x_{2 4} \\right) - 5 x_{2 2} x_{2 6} x_{3 3} \\right) + \\left(  - 3 x_{4 3} x_{4 6} - 2 x_{1 1} x_{1 9} x_{2 4} \\right) \\left(  - 5 x_{4 0} - 4 x_3 x_{2 4} x_{4 2} \\right) - 3 x_{2 0} x_{3 3} x_{4 7} - 2 x_{3 0} x_{3 2} x_{4 0} \\right) - 3 x_{4 3} x_{4 6} - 2 x_{1 1} x_{1 9} x_{2 4} \\right) \\right) + \\left( \\left(  - 4 x_{2 9} - 5 x_{1 8}^{2} x_5 \\right) \\left( 4 x_{4 3} x_{5 2} + 3 x_2 x_{1 6} x_{2 4} x_{3 9} x_{4 4} x_{5 8} \\right) + \\left( 4 x_3 x_{3 1} x_{3 4} + 3 x_{1 6} x_{2 4} x_{2 5} x_{3 0} x_{4 4} x_{5 8} \\right) \\left(  - x_{1 0} + \\left(  - 4 x_{2 9} - 5 x_{1 8}^{2} x_5 \\right) \\left(  - 5 x_{4 0} + \\left(  - x_1 x_9 - 5 x_{1 0} x_{4 5} \\right) \\left(  - 3 x_5 x_{2 1} - 3 x_{1 2} x_{3 6} \\right) + \\left(  - 5 x_{1 9} - 3 x_{1 1} x_{2 0} x_{3 8} \\right) \\left(  - x_{1 0} + \\left(  - x_7 - 5 x_1 x_{1 3} \\right) \\left(  - x_1 x_9 - 5 x_{1 0} x_{4 5} \\right) - 3 x_{1 2} x_{2 3} x_{5 0} \\right) - 4 x_3 x_{2 4} x_{4 2} \\right) + \\left(  - x_7 - 5 x_1 x_{1 3} \\right) \\left(  - x_1 x_9 - 5 x_{1 0} x_{4 5} \\right) - 3 x_{1 2} x_{2 3} x_{5 0} \\right) + \\left( 3 x_{1 6} x_{2 5} x_{3 5} x_{4 3} x_{4 4} x_{5 8} + 4 x_3 x_9 x_{2 0} x_{2 9} x_{3 1} x_{3 4} x_{4 3} x_{5 2} x_{5 7} \\right) \\left( \\left(  - 4 x_{2 9} - 5 x_{1 8}^{2} x_5 \\right) \\left( \\left(  - 5 x_{1 9} - 3 x_{1 1} x_{2 0} x_{3 8} \\right) \\left( \\left(  - x_7 - 5 x_1 x_{1 3} \\right) \\left(  - 2 x_{3 9} + \\left(  - x_1 x_9 - 5 x_{1 0} x_{4 5} \\right) \\left(  - 3 x_{4 3} x_{4 6} - 2 x_{1 1} x_{1 9} x_{2 4} \\right) - 5 x_{2 2} x_{2 6} x_{3 3} \\right) + \\left(  - 3 x_{4 3} x_{4 6} - 2 x_{1 1} x_{1 9} x_{2 4} \\right) \\left(  - x_{1 0} - 3 x_{1 2} x_{2 3} x_{5 0} \\right) - 5 x_5 x_{1 6} x_{2 2} - 5 x_{2 0} x_{2 3} x_{4 3} \\right) + \\left(  - 3 x_5 x_{2 1} - 3 x_{1 2} x_{3 6} \\right) \\left(  - 2 x_{3 9} + \\left(  - x_1 x_9 - 5 x_{1 0} x_{4 5} \\right) \\left(  - 3 x_{4 3} x_{4 6} - 2 x_{1 1} x_{1 9} x_{2 4} \\right) - 5 x_{2 2} x_{2 6} x_{3 3} \\right) + \\left(  - 3 x_{4 3} x_{4 6} - 2 x_{1 1} x_{1 9} x_{2 4} \\right) \\left(  - 5 x_{4 0} - 4 x_3 x_{2 4} x_{4 2} \\right) - 3 x_{2 0} x_{3 3} x_{4 7} - 2 x_{3 0} x_{3 2} x_{4 0} \\right) + \\left(  - x_7 - 5 x_1 x_{1 3} \\right) \\left(  - 2 x_{3 9} + \\left(  - x_1 x_9 - 5 x_{1 0} x_{4 5} \\right) \\left(  - 3 x_{4 3} x_{4 6} - 2 x_{1 1} x_{1 9} x_{2 4} \\right) - 5 x_{2 2} x_{2 6} x_{3 3} \\right) + \\left(  - 3 x_{4 3} x_{4 6} - 2 x_{1 1} x_{1 9} x_{2 4} \\right) \\left(  - x_{1 0} - 3 x_{1 2} x_{2 3} x_{5 0} \\right) - 5 x_5 x_{1 6} x_{2 2} - 5 x_{2 0} x_{2 3} x_{4 3} \\right) \\right) \\left( \\left( 3 x_{4 3} x_{4 6} + 2 x_{1 1} x_{1 9} x_{2 4} \\right) \\left( \\left( 4 x_{1 0} + 2 x_5 x_{4 5} \\right) \\left( 5 x_9 x_{1 6} + 3 x_{2 6} x_{3 2} x_{4 8} \\right) + \\left( 2 x_{3 8} + x_1 x_6 x_{2 4} \\right) \\left( \\left( 5 x_9 x_{1 6} + 3 x_{2 6} x_{3 2} x_{4 8} \\right) \\left( 3 x_{1 9} x_{3 4} + x_{4 5} \\right) + 3 x_{2 9} + 5 x_{4 6} \\right) + 5 x_{2 2}^{2} x_{1 7} + 4 x_2 x_{3 7} x_{4 8} \\right) + \\left( 5 x_9 x_{1 6} + 3 x_{2 6} x_{3 2} x_{4 8} \\right) \\left( 3 x_{1 9} x_{3 4} + x_{4 5} \\right) + 3 x_{2 9} + 5 x_{4 6} \\right) + \\left( \\left(  - 5 x_{4 6} - 4 x_{3 9} x_{4 5} \\right) \\left( 4 x_{4 3} x_{5 2} + 3 x_2 x_{1 6} x_{2 4} x_{3 9} x_{4 4} x_{5 8} \\right) + \\left( 4 x_3 x_{3 1} x_{3 4} + 3 x_{1 6} x_{2 4} x_{2 5} x_{3 0} x_{4 4} x_{5 8} \\right) \\left( \\left(  - 5 x_{4 6} - 4 x_{3 9} x_{4 5} \\right) \\left(  - 5 x_{4 0} + \\left(  - x_1 x_9 - 5 x_{1 0} x_{4 5} \\right) \\left(  - 3 x_5 x_{2 1} - 3 x_{1 2} x_{3 6} \\right) + \\left(  - 5 x_{1 9} - 3 x_{1 1} x_{2 0} x_{3 8} \\right) \\left(  - x_{1 0} + \\left(  - x_7 - 5 x_1 x_{1 3} \\right) \\left(  - x_1 x_9 - 5 x_{1 0} x_{4 5} \\right) - 3 x_{1 2} x_{2 3} x_{5 0} \\right) - 4 x_3 x_{2 4} x_{4 2} \\right) + \\left(  - 5 x_9 x_{1 6} - 3 x_{2 6} x_{3 2} x_{4 8} \\right) \\left(  - x_{1 0} + \\left(  - x_7 - 5 x_1 x_{1 3} \\right) \\left(  - x_1 x_9 - 5 x_{1 0} x_{4 5} \\right) - 3 x_{1 2} x_{2 3} x_{5 0} \\right) - x_1 x_9 - 5 x_{1 0} x_{4 5} \\right) + \\left( 3 x_{1 6} x_{2 5} x_{3 5} x_{4 3} x_{4 4} x_{5 8} + 4 x_3 x_9 x_{2 0} x_{2 9} x_{3 1} x_{3 4} x_{4 3} x_{5 2} x_{5 7} \\right) \\left( \\left(  - 5 x_{4 6} - 4 x_{3 9} x_{4 5} \\right) \\left( \\left(  - 5 x_{1 9} - 3 x_{1 1} x_{2 0} x_{3 8} \\right) \\left( \\left(  - x_7 - 5 x_1 x_{1 3} \\right) \\left(  - 2 x_{3 9} + \\left(  - x_1 x_9 - 5 x_{1 0} x_{4 5} \\right) \\left(  - 3 x_{4 3} x_{4 6} - 2 x_{1 1} x_{1 9} x_{2 4} \\right) - 5 x_{2 2} x_{2 6} x_{3 3} \\right) + \\left(  - 3 x_{4 3} x_{4 6} - 2 x_{1 1} x_{1 9} x_{2 4} \\right) \\left(  - x_{1 0} - 3 x_{1 2} x_{2 3} x_{5 0} \\right) - 5 x_5 x_{1 6} x_{2 2} - 5 x_{2 0} x_{2 3} x_{4 3} \\right) + \\left(  - 3 x_5 x_{2 1} - 3 x_{1 2} x_{3 6} \\right) \\left(  - 2 x_{3 9} + \\left(  - x_1 x_9 - 5 x_{1 0} x_{4 5} \\right) \\left(  - 3 x_{4 3} x_{4 6} - 2 x_{1 1} x_{1 9} x_{2 4} \\right) - 5 x_{2 2} x_{2 6} x_{3 3} \\right) + \\left(  - 3 x_{4 3} x_{4 6} - 2 x_{1 1} x_{1 9} x_{2 4} \\right) \\left(  - 5 x_{4 0} - 4 x_3 x_{2 4} x_{4 2} \\right) - 3 x_{2 0} x_{3 3} x_{4 7} - 2 x_{3 0} x_{3 2} x_{4 0} \\right) - 2 x_{3 9} + \\left(  - x_1 x_9 - 5 x_{1 0} x_{4 5} \\right) \\left(  - 3 x_{4 3} x_{4 6} - 2 x_{1 1} x_{1 9} x_{2 4} \\right) + \\left(  - 5 x_9 x_{1 6} - 3 x_{2 6} x_{3 2} x_{4 8} \\right) \\left( \\left(  - x_7 - 5 x_1 x_{1 3} \\right) \\left(  - 2 x_{3 9} + \\left(  - x_1 x_9 - 5 x_{1 0} x_{4 5} \\right) \\left(  - 3 x_{4 3} x_{4 6} - 2 x_{1 1} x_{1 9} x_{2 4} \\right) - 5 x_{2 2} x_{2 6} x_{3 3} \\right) + \\left(  - 3 x_{4 3} x_{4 6} - 2 x_{1 1} x_{1 9} x_{2 4} \\right) \\left(  - x_{1 0} - 3 x_{1 2} x_{2 3} x_{5 0} \\right) - 5 x_5 x_{1 6} x_{2 2} - 5 x_{2 0} x_{2 3} x_{4 3} \\right) - 5 x_{2 2} x_{2 6} x_{3 3} \\right) \\right) \\left( \\left( 3 x_{4 3} x_{4 6} + 2 x_{1 1} x_{1 9} x_{2 4} \\right) \\left( 4 x_{1 0} + \\left( 2 x_{3 8} + x_1 x_6 x_{2 4} \\right) \\left( 3 x_{1 9} x_{3 4} + x_{4 5} \\right) + 2 x_5 x_{4 5} \\right) + 3 x_{1 9} x_{3 4} + x_{4 5} \\right) + \\left( \\left( 4 x_3 x_{3 1} x_{3 4} + 3 x_{1 6} x_{2 4} x_{2 5} x_{3 0} x_{4 4} x_{5 8} \\right) \\left(  - 5 x_{4 0} + \\left(  - x_1 x_9 - 5 x_{1 0} x_{4 5} \\right) \\left(  - 3 x_5 x_{2 1} - 3 x_{1 2} x_{3 6} \\right) + \\left(  - 5 x_{1 9} - 3 x_{1 1} x_{2 0} x_{3 8} \\right) \\left(  - x_{1 0} + \\left(  - x_7 - 5 x_1 x_{1 3} \\right) \\left(  - x_1 x_9 - 5 x_{1 0} x_{4 5} \\right) - 3 x_{1 2} x_{2 3} x_{5 0} \\right) - 4 x_3 x_{2 4} x_{4 2} \\right) + \\left( 3 x_{1 6} x_{2 5} x_{3 5} x_{4 3} x_{4 4} x_{5 8} + 4 x_3 x_9 x_{2 0} x_{2 9} x_{3 1} x_{3 4} x_{4 3} x_{5 2} x_{5 7} \\right) \\left( \\left(  - 5 x_{1 9} - 3 x_{1 1} x_{2 0} x_{3 8} \\right) \\left( \\left(  - x_7 - 5 x_1 x_{1 3} \\right) \\left(  - 2 x_{3 9} + \\left(  - x_1 x_9 - 5 x_{1 0} x_{4 5} \\right) \\left(  - 3 x_{4 3} x_{4 6} - 2 x_{1 1} x_{1 9} x_{2 4} \\right) - 5 x_{2 2} x_{2 6} x_{3 3} \\right) + \\left(  - 3 x_{4 3} x_{4 6} - 2 x_{1 1} x_{1 9} x_{2 4} \\right) \\left(  - x_{1 0} - 3 x_{1 2} x_{2 3} x_{5 0} \\right) - 5 x_5 x_{1 6} x_{2 2} - 5 x_{2 0} x_{2 3} x_{4 3} \\right) + \\left(  - 3 x_5 x_{2 1} - 3 x_{1 2} x_{3 6} \\right) \\left(  - 2 x_{3 9} + \\left(  - x_1 x_9 - 5 x_{1 0} x_{4 5} \\right) \\left(  - 3 x_{4 3} x_{4 6} - 2 x_{1 1} x_{1 9} x_{2 4} \\right) - 5 x_{2 2} x_{2 6} x_{3 3} \\right) + \\left(  - 3 x_{4 3} x_{4 6} - 2 x_{1 1} x_{1 9} x_{2 4} \\right) \\left(  - 5 x_{4 0} - 4 x_3 x_{2 4} x_{4 2} \\right) - 3 x_{2 0} x_{3 3} x_{4 7} - 2 x_{3 0} x_{3 2} x_{4 0} \\right) + 4 x_{4 3} x_{5 2} + 3 x_2 x_{1 6} x_{2 4} x_{3 9} x_{4 4} x_{5 8} \\right) \\left( \\left( 3 x_{2 9} + 5 x_{4 6} \\right) \\left( 4 x_{2 9} + 5 x_{1 8}^{2} x_5 \\right) + \\left( 3 x_{4 3} x_{4 6} + 2 x_{1 1} x_{1 9} x_{2 4} \\right) \\left( \\left( 4 x_{1 0} + 2 x_5 x_{4 5} \\right) \\left( \\left( 4 x_{2 9} + 5 x_{1 8}^{2} x_5 \\right) \\left( 5 x_9 x_{1 6} + 3 x_{2 6} x_{3 2} x_{4 8} \\right) + 5 x_{4 6} + 4 x_{3 9} x_{4 5} \\right) + \\left( 4 x_{2 9} + 5 x_{1 8}^{2} x_5 \\right) \\left( 5 x_{2 2}^{2} x_{1 7} + 4 x_2 x_{3 7} x_{4 8} \\right) + \\left( 2 x_{3 8} + x_1 x_6 x_{2 4} \\right) \\left( \\left( 3 x_{2 9} + 5 x_{4 6} \\right) \\left( 4 x_{2 9} + 5 x_{1 8}^{2} x_5 \\right) + \\left( 3 x_{1 9} x_{3 4} + x_{4 5} \\right) \\left( \\left( 4 x_{2 9} + 5 x_{1 8}^{2} x_5 \\right) \\left( 5 x_9 x_{1 6} + 3 x_{2 6} x_{3 2} x_{4 8} \\right) + 5 x_{4 6} + 4 x_{3 9} x_{4 5} \\right) + 3 x_4 x_{1 7} x_{3 1} + 4 x_7 x_{2 5} x_{4 4} \\right) + 4 x_8 x_{3 1} x_{4 6} + 5 x_{1 5} x_{2 0} x_{4 2} \\right) + \\left( 3 x_{1 9} x_{3 4} + x_{4 5} \\right) \\left( \\left( 4 x_{2 9} + 5 x_{1 8}^{2} x_5 \\right) \\left( 5 x_9 x_{1 6} + 3 x_{2 6} x_{3 2} x_{4 8} \\right) + 5 x_{4 6} + 4 x_{3 9} x_{4 5} \\right) + 3 x_4 x_{1 7} x_{3 1} + 4 x_7 x_{2 5} x_{4 4} \\right) & \\left(  - 4 x_8 x_{3 1} x_{4 6} - 5 x_{1 5} x_{2 0} x_{4 2} \\right) \\left( 4 x_{4 3} x_{5 2} + 3 x_2 x_{1 6} x_{2 4} x_{3 9} x_{4 4} x_{5 8} \\right) + \\left( 4 x_{1 0} + \\left( 2 x_{3 8} + x_1 x_6 x_{2 4} \\right) \\left( 3 x_{1 9} x_{3 4} + x_{4 5} \\right) + 2 x_5 x_{4 5} \\right) \\left( \\left(  - 5 x_{4 6} - 4 x_{3 9} x_{4 5} \\right) \\left( 4 x_{4 3} x_{5 2} + 3 x_2 x_{1 6} x_{2 4} x_{3 9} x_{4 4} x_{5 8} \\right) + \\left( 4 x_3 x_{3 1} x_{3 4} + 3 x_{1 6} x_{2 4} x_{2 5} x_{3 0} x_{4 4} x_{5 8} \\right) \\left( \\left(  - 5 x_{4 6} - 4 x_{3 9} x_{4 5} \\right) \\left(  - 5 x_{4 0} + \\left(  - x_1 x_9 - 5 x_{1 0} x_{4 5} \\right) \\left(  - 3 x_5 x_{2 1} - 3 x_{1 2} x_{3 6} \\right) + \\left(  - 5 x_{1 9} - 3 x_{1 1} x_{2 0} x_{3 8} \\right) \\left(  - x_{1 0} + \\left(  - x_7 - 5 x_1 x_{1 3} \\right) \\left(  - x_1 x_9 - 5 x_{1 0} x_{4 5} \\right) - 3 x_{1 2} x_{2 3} x_{5 0} \\right) - 4 x_3 x_{2 4} x_{4 2} \\right) + \\left(  - 5 x_9 x_{1 6} - 3 x_{2 6} x_{3 2} x_{4 8} \\right) \\left(  - x_{1 0} + \\left(  - x_7 - 5 x_1 x_{1 3} \\right) \\left(  - x_1 x_9 - 5 x_{1 0} x_{4 5} \\right) - 3 x_{1 2} x_{2 3} x_{5 0} \\right) - x_1 x_9 - 5 x_{1 0} x_{4 5} \\right) + \\left( 3 x_{1 6} x_{2 5} x_{3 5} x_{4 3} x_{4 4} x_{5 8} + 4 x_3 x_9 x_{2 0} x_{2 9} x_{3 1} x_{3 4} x_{4 3} x_{5 2} x_{5 7} \\right) \\left( \\left(  - 5 x_{4 6} - 4 x_{3 9} x_{4 5} \\right) \\left( \\left(  - 5 x_{1 9} - 3 x_{1 1} x_{2 0} x_{3 8} \\right) \\left( \\left(  - x_7 - 5 x_1 x_{1 3} \\right) \\left(  - 2 x_{3 9} + \\left(  - x_1 x_9 - 5 x_{1 0} x_{4 5} \\right) \\left(  - 3 x_{4 3} x_{4 6} - 2 x_{1 1} x_{1 9} x_{2 4} \\right) - 5 x_{2 2} x_{2 6} x_{3 3} \\right) + \\left(  - 3 x_{4 3} x_{4 6} - 2 x_{1 1} x_{1 9} x_{2 4} \\right) \\left(  - x_{1 0} - 3 x_{1 2} x_{2 3} x_{5 0} \\right) - 5 x_5 x_{1 6} x_{2 2} - 5 x_{2 0} x_{2 3} x_{4 3} \\right) + \\left(  - 3 x_5 x_{2 1} - 3 x_{1 2} x_{3 6} \\right) \\left(  - 2 x_{3 9} + \\left(  - x_1 x_9 - 5 x_{1 0} x_{4 5} \\right) \\left(  - 3 x_{4 3} x_{4 6} - 2 x_{1 1} x_{1 9} x_{2 4} \\right) - 5 x_{2 2} x_{2 6} x_{3 3} \\right) + \\left(  - 3 x_{4 3} x_{4 6} - 2 x_{1 1} x_{1 9} x_{2 4} \\right) \\left(  - 5 x_{4 0} - 4 x_3 x_{2 4} x_{4 2} \\right) - 3 x_{2 0} x_{3 3} x_{4 7} - 2 x_{3 0} x_{3 2} x_{4 0} \\right) - 2 x_{3 9} + \\left(  - x_1 x_9 - 5 x_{1 0} x_{4 5} \\right) \\left(  - 3 x_{4 3} x_{4 6} - 2 x_{1 1} x_{1 9} x_{2 4} \\right) + \\left(  - 5 x_9 x_{1 6} - 3 x_{2 6} x_{3 2} x_{4 8} \\right) \\left( \\left(  - x_7 - 5 x_1 x_{1 3} \\right) \\left(  - 2 x_{3 9} + \\left(  - x_1 x_9 - 5 x_{1 0} x_{4 5} \\right) \\left(  - 3 x_{4 3} x_{4 6} - 2 x_{1 1} x_{1 9} x_{2 4} \\right) - 5 x_{2 2} x_{2 6} x_{3 3} \\right) + \\left(  - 3 x_{4 3} x_{4 6} - 2 x_{1 1} x_{1 9} x_{2 4} \\right) \\left(  - x_{1 0} - 3 x_{1 2} x_{2 3} x_{5 0} \\right) - 5 x_5 x_{1 6} x_{2 2} - 5 x_{2 0} x_{2 3} x_{4 3} \\right) - 5 x_{2 2} x_{2 6} x_{3 3} \\right) \\right) + \\left( 2 x_{3 8} + x_1 x_6 x_{2 4} \\right) \\left( \\left( 4 x_{4 3} x_{5 2} + 3 x_2 x_{1 6} x_{2 4} x_{3 9} x_{4 4} x_{5 8} \\right) \\left(  - 3 x_4 x_{1 7} x_{3 1} - 4 x_7 x_{2 5} x_{4 4} \\right) + \\left( 4 x_3 x_{3 1} x_{3 4} + 3 x_{1 6} x_{2 4} x_{2 5} x_{3 0} x_{4 4} x_{5 8} \\right) \\left( 1.0 + \\left(  - 3 x_{2 9} - 5 x_{4 6} \\right) \\left(  - x_{1 0} + \\left(  - x_7 - 5 x_1 x_{1 3} \\right) \\left(  - x_1 x_9 - 5 x_{1 0} x_{4 5} \\right) - 3 x_{1 2} x_{2 3} x_{5 0} \\right) + \\left(  - x_1 x_9 - 5 x_{1 0} x_{4 5} \\right) \\left(  - x_{4 5} - 3 x_{1 9} x_{3 4} \\right) + \\left(  - 3 x_4 x_{1 7} x_{3 1} - 4 x_7 x_{2 5} x_{4 4} \\right) \\left(  - 5 x_{4 0} + \\left(  - x_1 x_9 - 5 x_{1 0} x_{4 5} \\right) \\left(  - 3 x_5 x_{2 1} - 3 x_{1 2} x_{3 6} \\right) + \\left(  - 5 x_{1 9} - 3 x_{1 1} x_{2 0} x_{3 8} \\right) \\left(  - x_{1 0} + \\left(  - x_7 - 5 x_1 x_{1 3} \\right) \\left(  - x_1 x_9 - 5 x_{1 0} x_{4 5} \\right) - 3 x_{1 2} x_{2 3} x_{5 0} \\right) - 4 x_3 x_{2 4} x_{4 2} \\right) \\right) + \\left( 3 x_{1 6} x_{2 5} x_{3 5} x_{4 3} x_{4 4} x_{5 8} + 4 x_3 x_9 x_{2 0} x_{2 9} x_{3 1} x_{3 4} x_{4 3} x_{5 2} x_{5 7} \\right) \\left( \\left(  - x_{4 5} - 3 x_{1 9} x_{3 4} \\right) \\left(  - 2 x_{3 9} + \\left(  - x_1 x_9 - 5 x_{1 0} x_{4 5} \\right) \\left(  - 3 x_{4 3} x_{4 6} - 2 x_{1 1} x_{1 9} x_{2 4} \\right) - 5 x_{2 2} x_{2 6} x_{3 3} \\right) + \\left(  - 3 x_{2 9} - 5 x_{4 6} \\right) \\left( \\left(  - x_7 - 5 x_1 x_{1 3} \\right) \\left(  - 2 x_{3 9} + \\left(  - x_1 x_9 - 5 x_{1 0} x_{4 5} \\right) \\left(  - 3 x_{4 3} x_{4 6} - 2 x_{1 1} x_{1 9} x_{2 4} \\right) - 5 x_{2 2} x_{2 6} x_{3 3} \\right) + \\left(  - 3 x_{4 3} x_{4 6} - 2 x_{1 1} x_{1 9} x_{2 4} \\right) \\left(  - x_{1 0} - 3 x_{1 2} x_{2 3} x_{5 0} \\right) - 5 x_5 x_{1 6} x_{2 2} - 5 x_{2 0} x_{2 3} x_{4 3} \\right) + \\left(  - 3 x_4 x_{1 7} x_{3 1} - 4 x_7 x_{2 5} x_{4 4} \\right) \\left( \\left(  - 5 x_{1 9} - 3 x_{1 1} x_{2 0} x_{3 8} \\right) \\left( \\left(  - x_7 - 5 x_1 x_{1 3} \\right) \\left(  - 2 x_{3 9} + \\left(  - x_1 x_9 - 5 x_{1 0} x_{4 5} \\right) \\left(  - 3 x_{4 3} x_{4 6} - 2 x_{1 1} x_{1 9} x_{2 4} \\right) - 5 x_{2 2} x_{2 6} x_{3 3} \\right) + \\left(  - 3 x_{4 3} x_{4 6} - 2 x_{1 1} x_{1 9} x_{2 4} \\right) \\left(  - x_{1 0} - 3 x_{1 2} x_{2 3} x_{5 0} \\right) - 5 x_5 x_{1 6} x_{2 2} - 5 x_{2 0} x_{2 3} x_{4 3} \\right) + \\left(  - 3 x_5 x_{2 1} - 3 x_{1 2} x_{3 6} \\right) \\left(  - 2 x_{3 9} + \\left(  - x_1 x_9 - 5 x_{1 0} x_{4 5} \\right) \\left(  - 3 x_{4 3} x_{4 6} - 2 x_{1 1} x_{1 9} x_{2 4} \\right) - 5 x_{2 2} x_{2 6} x_{3 3} \\right) + \\left(  - 3 x_{4 3} x_{4 6} - 2 x_{1 1} x_{1 9} x_{2 4} \\right) \\left(  - 5 x_{4 0} - 4 x_3 x_{2 4} x_{4 2} \\right) - 3 x_{2 0} x_{3 3} x_{4 7} - 2 x_{3 0} x_{3 2} x_{4 0} \\right) - 3 x_{4 3} x_{4 6} - 2 x_{1 1} x_{1 9} x_{2 4} \\right) \\right) + \\left( 3 x_{1 6} x_{2 5} x_{3 5} x_{4 3} x_{4 4} x_{5 8} + 4 x_3 x_9 x_{2 0} x_{2 9} x_{3 1} x_{3 4} x_{4 3} x_{5 2} x_{5 7} \\right) \\left( 1.0 + \\left(  - 4 x_{1 0} - 2 x_5 x_{4 5} \\right) \\left(  - 2 x_{3 9} + \\left(  - x_1 x_9 - 5 x_{1 0} x_{4 5} \\right) \\left(  - 3 x_{4 3} x_{4 6} - 2 x_{1 1} x_{1 9} x_{2 4} \\right) - 5 x_{2 2} x_{2 6} x_{3 3} \\right) + \\left(  - 2 x_{3 8} - x_1 x_6 x_{2 4} \\right) \\left(  - 3 x_{4 3} x_{4 6} - 2 x_{1 1} x_{1 9} x_{2 4} \\right) + \\left(  - 5 x_{2 2}^{2} x_{1 7} - 4 x_2 x_{3 7} x_{4 8} \\right) \\left( \\left(  - x_7 - 5 x_1 x_{1 3} \\right) \\left(  - 2 x_{3 9} + \\left(  - x_1 x_9 - 5 x_{1 0} x_{4 5} \\right) \\left(  - 3 x_{4 3} x_{4 6} - 2 x_{1 1} x_{1 9} x_{2 4} \\right) - 5 x_{2 2} x_{2 6} x_{3 3} \\right) + \\left(  - 3 x_{4 3} x_{4 6} - 2 x_{1 1} x_{1 9} x_{2 4} \\right) \\left(  - x_{1 0} - 3 x_{1 2} x_{2 3} x_{5 0} \\right) - 5 x_5 x_{1 6} x_{2 2} - 5 x_{2 0} x_{2 3} x_{4 3} \\right) + \\left(  - 4 x_8 x_{3 1} x_{4 6} - 5 x_{1 5} x_{2 0} x_{4 2} \\right) \\left( \\left(  - 5 x_{1 9} - 3 x_{1 1} x_{2 0} x_{3 8} \\right) \\left( \\left(  - x_7 - 5 x_1 x_{1 3} \\right) \\left(  - 2 x_{3 9} + \\left(  - x_1 x_9 - 5 x_{1 0} x_{4 5} \\right) \\left(  - 3 x_{4 3} x_{4 6} - 2 x_{1 1} x_{1 9} x_{2 4} \\right) - 5 x_{2 2} x_{2 6} x_{3 3} \\right) + \\left(  - 3 x_{4 3} x_{4 6} - 2 x_{1 1} x_{1 9} x_{2 4} \\right) \\left(  - x_{1 0} - 3 x_{1 2} x_{2 3} x_{5 0} \\right) - 5 x_5 x_{1 6} x_{2 2} - 5 x_{2 0} x_{2 3} x_{4 3} \\right) + \\left(  - 3 x_5 x_{2 1} - 3 x_{1 2} x_{3 6} \\right) \\left(  - 2 x_{3 9} + \\left(  - x_1 x_9 - 5 x_{1 0} x_{4 5} \\right) \\left(  - 3 x_{4 3} x_{4 6} - 2 x_{1 1} x_{1 9} x_{2 4} \\right) - 5 x_{2 2} x_{2 6} x_{3 3} \\right) + \\left(  - 3 x_{4 3} x_{4 6} - 2 x_{1 1} x_{1 9} x_{2 4} \\right) \\left(  - 5 x_{4 0} - 4 x_3 x_{2 4} x_{4 2} \\right) - 3 x_{2 0} x_{3 3} x_{4 7} - 2 x_{3 0} x_{3 2} x_{4 0} \\right) \\right) + \\left( \\left(  - 4 x_{2 9} - 5 x_{1 8}^{2} x_5 \\right) \\left( 4 x_{4 3} x_{5 2} + 3 x_2 x_{1 6} x_{2 4} x_{3 9} x_{4 4} x_{5 8} \\right) + \\left( 4 x_3 x_{3 1} x_{3 4} + 3 x_{1 6} x_{2 4} x_{2 5} x_{3 0} x_{4 4} x_{5 8} \\right) \\left(  - x_{1 0} + \\left(  - 4 x_{2 9} - 5 x_{1 8}^{2} x_5 \\right) \\left(  - 5 x_{4 0} + \\left(  - x_1 x_9 - 5 x_{1 0} x_{4 5} \\right) \\left(  - 3 x_5 x_{2 1} - 3 x_{1 2} x_{3 6} \\right) + \\left(  - 5 x_{1 9} - 3 x_{1 1} x_{2 0} x_{3 8} \\right) \\left(  - x_{1 0} + \\left(  - x_7 - 5 x_1 x_{1 3} \\right) \\left(  - x_1 x_9 - 5 x_{1 0} x_{4 5} \\right) - 3 x_{1 2} x_{2 3} x_{5 0} \\right) - 4 x_3 x_{2 4} x_{4 2} \\right) + \\left(  - x_7 - 5 x_1 x_{1 3} \\right) \\left(  - x_1 x_9 - 5 x_{1 0} x_{4 5} \\right) - 3 x_{1 2} x_{2 3} x_{5 0} \\right) + \\left( 3 x_{1 6} x_{2 5} x_{3 5} x_{4 3} x_{4 4} x_{5 8} + 4 x_3 x_9 x_{2 0} x_{2 9} x_{3 1} x_{3 4} x_{4 3} x_{5 2} x_{5 7} \\right) \\left( \\left(  - 4 x_{2 9} - 5 x_{1 8}^{2} x_5 \\right) \\left( \\left(  - 5 x_{1 9} - 3 x_{1 1} x_{2 0} x_{3 8} \\right) \\left( \\left(  - x_7 - 5 x_1 x_{1 3} \\right) \\left(  - 2 x_{3 9} + \\left(  - x_1 x_9 - 5 x_{1 0} x_{4 5} \\right) \\left(  - 3 x_{4 3} x_{4 6} - 2 x_{1 1} x_{1 9} x_{2 4} \\right) - 5 x_{2 2} x_{2 6} x_{3 3} \\right) + \\left(  - 3 x_{4 3} x_{4 6} - 2 x_{1 1} x_{1 9} x_{2 4} \\right) \\left(  - x_{1 0} - 3 x_{1 2} x_{2 3} x_{5 0} \\right) - 5 x_5 x_{1 6} x_{2 2} - 5 x_{2 0} x_{2 3} x_{4 3} \\right) + \\left(  - 3 x_5 x_{2 1} - 3 x_{1 2} x_{3 6} \\right) \\left(  - 2 x_{3 9} + \\left(  - x_1 x_9 - 5 x_{1 0} x_{4 5} \\right) \\left(  - 3 x_{4 3} x_{4 6} - 2 x_{1 1} x_{1 9} x_{2 4} \\right) - 5 x_{2 2} x_{2 6} x_{3 3} \\right) + \\left(  - 3 x_{4 3} x_{4 6} - 2 x_{1 1} x_{1 9} x_{2 4} \\right) \\left(  - 5 x_{4 0} - 4 x_3 x_{2 4} x_{4 2} \\right) - 3 x_{2 0} x_{3 3} x_{4 7} - 2 x_{3 0} x_{3 2} x_{4 0} \\right) + \\left(  - x_7 - 5 x_1 x_{1 3} \\right) \\left(  - 2 x_{3 9} + \\left(  - x_1 x_9 - 5 x_{1 0} x_{4 5} \\right) \\left(  - 3 x_{4 3} x_{4 6} - 2 x_{1 1} x_{1 9} x_{2 4} \\right) - 5 x_{2 2} x_{2 6} x_{3 3} \\right) + \\left(  - 3 x_{4 3} x_{4 6} - 2 x_{1 1} x_{1 9} x_{2 4} \\right) \\left(  - x_{1 0} - 3 x_{1 2} x_{2 3} x_{5 0} \\right) - 5 x_5 x_{1 6} x_{2 2} - 5 x_{2 0} x_{2 3} x_{4 3} \\right) \\right) \\left( \\left( 4 x_{1 0} + 2 x_5 x_{4 5} \\right) \\left( 5 x_9 x_{1 6} + 3 x_{2 6} x_{3 2} x_{4 8} \\right) + \\left( 2 x_{3 8} + x_1 x_6 x_{2 4} \\right) \\left( \\left( 5 x_9 x_{1 6} + 3 x_{2 6} x_{3 2} x_{4 8} \\right) \\left( 3 x_{1 9} x_{3 4} + x_{4 5} \\right) + 3 x_{2 9} + 5 x_{4 6} \\right) + 5 x_{2 2}^{2} x_{1 7} + 4 x_2 x_{3 7} x_{4 8} \\right) + \\left( \\left( 4 x_3 x_{3 1} x_{3 4} + 3 x_{1 6} x_{2 4} x_{2 5} x_{3 0} x_{4 4} x_{5 8} \\right) \\left(  - 5 x_{4 0} + \\left(  - x_1 x_9 - 5 x_{1 0} x_{4 5} \\right) \\left(  - 3 x_5 x_{2 1} - 3 x_{1 2} x_{3 6} \\right) + \\left(  - 5 x_{1 9} - 3 x_{1 1} x_{2 0} x_{3 8} \\right) \\left(  - x_{1 0} + \\left(  - x_7 - 5 x_1 x_{1 3} \\right) \\left(  - x_1 x_9 - 5 x_{1 0} x_{4 5} \\right) - 3 x_{1 2} x_{2 3} x_{5 0} \\right) - 4 x_3 x_{2 4} x_{4 2} \\right) + \\left( 3 x_{1 6} x_{2 5} x_{3 5} x_{4 3} x_{4 4} x_{5 8} + 4 x_3 x_9 x_{2 0} x_{2 9} x_{3 1} x_{3 4} x_{4 3} x_{5 2} x_{5 7} \\right) \\left( \\left(  - 5 x_{1 9} - 3 x_{1 1} x_{2 0} x_{3 8} \\right) \\left( \\left(  - x_7 - 5 x_1 x_{1 3} \\right) \\left(  - 2 x_{3 9} + \\left(  - x_1 x_9 - 5 x_{1 0} x_{4 5} \\right) \\left(  - 3 x_{4 3} x_{4 6} - 2 x_{1 1} x_{1 9} x_{2 4} \\right) - 5 x_{2 2} x_{2 6} x_{3 3} \\right) + \\left(  - 3 x_{4 3} x_{4 6} - 2 x_{1 1} x_{1 9} x_{2 4} \\right) \\left(  - x_{1 0} - 3 x_{1 2} x_{2 3} x_{5 0} \\right) - 5 x_5 x_{1 6} x_{2 2} - 5 x_{2 0} x_{2 3} x_{4 3} \\right) + \\left(  - 3 x_5 x_{2 1} - 3 x_{1 2} x_{3 6} \\right) \\left(  - 2 x_{3 9} + \\left(  - x_1 x_9 - 5 x_{1 0} x_{4 5} \\right) \\left(  - 3 x_{4 3} x_{4 6} - 2 x_{1 1} x_{1 9} x_{2 4} \\right) - 5 x_{2 2} x_{2 6} x_{3 3} \\right) + \\left(  - 3 x_{4 3} x_{4 6} - 2 x_{1 1} x_{1 9} x_{2 4} \\right) \\left(  - 5 x_{4 0} - 4 x_3 x_{2 4} x_{4 2} \\right) - 3 x_{2 0} x_{3 3} x_{4 7} - 2 x_{3 0} x_{3 2} x_{4 0} \\right) + 4 x_{4 3} x_{5 2} + 3 x_2 x_{1 6} x_{2 4} x_{3 9} x_{4 4} x_{5 8} \\right) \\left( \\left( 4 x_{1 0} + 2 x_5 x_{4 5} \\right) \\left( \\left( 4 x_{2 9} + 5 x_{1 8}^{2} x_5 \\right) \\left( 5 x_9 x_{1 6} + 3 x_{2 6} x_{3 2} x_{4 8} \\right) + 5 x_{4 6} + 4 x_{3 9} x_{4 5} \\right) + \\left( 4 x_{2 9} + 5 x_{1 8}^{2} x_5 \\right) \\left( 5 x_{2 2}^{2} x_{1 7} + 4 x_2 x_{3 7} x_{4 8} \\right) + \\left( 2 x_{3 8} + x_1 x_6 x_{2 4} \\right) \\left( \\left( 3 x_{2 9} + 5 x_{4 6} \\right) \\left( 4 x_{2 9} + 5 x_{1 8}^{2} x_5 \\right) + \\left( 3 x_{1 9} x_{3 4} + x_{4 5} \\right) \\left( \\left( 4 x_{2 9} + 5 x_{1 8}^{2} x_5 \\right) \\left( 5 x_9 x_{1 6} + 3 x_{2 6} x_{3 2} x_{4 8} \\right) + 5 x_{4 6} + 4 x_{3 9} x_{4 5} \\right) + 3 x_4 x_{1 7} x_{3 1} + 4 x_7 x_{2 5} x_{4 4} \\right) + 4 x_8 x_{3 1} x_{4 6} + 5 x_{1 5} x_{2 0} x_{4 2} \\right) + \\left( 4 x_3 x_{3 1} x_{3 4} + 3 x_{1 6} x_{2 4} x_{2 5} x_{3 0} x_{4 4} x_{5 8} \\right) \\left(  - 2 x_{3 8} + \\left(  - 4 x_{1 0} - 2 x_5 x_{4 5} \\right) \\left(  - x_1 x_9 - 5 x_{1 0} x_{4 5} \\right) + \\left(  - 5 x_{2 2}^{2} x_{1 7} - 4 x_2 x_{3 7} x_{4 8} \\right) \\left(  - x_{1 0} + \\left(  - x_7 - 5 x_1 x_{1 3} \\right) \\left(  - x_1 x_9 - 5 x_{1 0} x_{4 5} \\right) - 3 x_{1 2} x_{2 3} x_{5 0} \\right) + \\left(  - 4 x_8 x_{3 1} x_{4 6} - 5 x_{1 5} x_{2 0} x_{4 2} \\right) \\left(  - 5 x_{4 0} + \\left(  - x_1 x_9 - 5 x_{1 0} x_{4 5} \\right) \\left(  - 3 x_5 x_{2 1} - 3 x_{1 2} x_{3 6} \\right) + \\left(  - 5 x_{1 9} - 3 x_{1 1} x_{2 0} x_{3 8} \\right) \\left(  - x_{1 0} + \\left(  - x_7 - 5 x_1 x_{1 3} \\right) \\left(  - x_1 x_9 - 5 x_{1 0} x_{4 5} \\right) - 3 x_{1 2} x_{2 3} x_{5 0} \\right) - 4 x_3 x_{2 4} x_{4 2} \\right) - x_1 x_6 x_{2 4} \\right) \\\\\n",
       "\\end{array}\n",
       "\\right]\n",
       "\\end{equation}\n",
       " $$"
      ],
      "text/plain": [
       "1×3 Matrix{Num}:\n",
       " (3x[20]*x[33]*x[47] + 2x[30]*x[32]*x[40])*((-4x[8]*x[31]*x[46] - 5x[15]*x[20]*x[42])*(4x[43]*x[52] + 3x[2]*x[16]*x[24]*x[39]*x[44]*x[58]) + (3x[16]*x[25]*x[35]*x[43]*x[44]*x[58] + 4x[3]*x[9]*x[20]*x[29]*x[31]*x[34]*x[43]*x[52]*x[57])*(1.0 + (-4x[10] - 2x[5]*x[45])*((-x[1]*x[9] - 5x[10]*x[45])*(-3x[43]*x[46] - 2x[11]*x[19]*x[24]) - 2x[39] - 5x[22]*x[26]*x[33]) + (-2x[38] - x[1]*x[6]*x[24])*(-3x[43]*x[46] - 2x[11]*x[19]*x[24]) + (-5(x[22]^2)*x[17] - 4x[2]*x[37]*x[48])*((-x[7] - 5x[1]*x[13])*((-x[1]*x[9] - 5x[10]*x[45])*(-3x[43]*x[46] - 2x[11]*x[19]*x[24]) - 2x[39] - 5x[22]*x[26]*x[33]) + (-3x[43]*x[46] - 2x[11]*x[19]*x[24])*(-x[10] - 3x[12]*x[23]*x[50]) - 5x[5]*x[16]*x[22] - 5x[20]*x[23]*x[43]) + (-4x[8]*x[31]*x[46] - 5x[15]*x[20]*x[42])*((-5x[19] - 3x[11]*x[20]*x[38])*((-x[7] - 5x[1]*x[13])*((-x[1]*x[9] - 5x[10]*x[45])*(-3x[43]*x[46] - 2x[11]*x[19]*x[24]) - 2x[39] - 5x[22]*x[26]*x[33]) + (-3x[43]*x[46] - 2x[11]*x[19]*x[24])*(-x[10] - 3x[12]*x[23]*x[50]) - 5x[5]*x[16]*x[22] - 5x[20]*x[23]*x[43]) + (-3x[5]*x[21] - 3x[12]*x[36])*((-x[1]*x[9] - 5x[10]*x[45])*(-3x[43]*x[46] - 2x[11]*x[19]*x[24]) - 2x[39] - 5x[22]*x[26]*x[33]) + (-3x[43]*x[46] - 2x[11]*x[19]*x[24])*(-5x[40] - 4x[3]*x[24]*x[42]) - 3x[20]*x[33]*x[47] - 2x[30]*x[32]*x[40])) + (4x[3]*x[31]*x[34] + 3x[16]*x[24]*x[25]*x[30]*x[44]*x[58])*((-4x[10] - 2x[5]*x[45])*(-x[1]*x[9] - 5x[10]*x[45]) + (-5(x[22]^2)*x[17] - 4x[2]*x[37]*x[48])*((-x[7] - 5x[1]*x[13])*(-x[1]*x[9] - 5x[10]*x[45]) - x[10] - 3x[12]*x[23]*x[50]) + (-4x[8]*x[31]*x[46] - 5x[15]*x[20]*x[42])*((-x[1]*x[9] - 5x[10]*x[45])*(-3x[5]*x[21] - 3x[12]*x[36]) + (-5x[19] - 3x[11]*x[20]*x[38])*((-x[7] - 5x[1]*x[13])*(-x[1]*x[9] - 5x[10]*x[45]) - x[10] - 3x[12]*x[23]*x[50]) - 5x[40] - 4x[3]*x[24]*x[42]) - 2x[38] - x[1]*x[6]*x[24])) + ((-5x[46] - 4x[39]*x[45])*(4x[43]*x[52] + 3x[2]*x[16]*x[24]*x[39]*x[44]*x[58]) + (4x[3]*x[31]*x[34] + 3x[16]*x[24]*x[25]*x[30]*x[44]*x[58])*((-5x[46] - 4x[39]*x[45])*((-x[1]*x[9] - 5x[10]*x[45])*(-3x[5]*x[21] - 3x[12]*x[36]) + (-5x[19] - 3x[11]*x[20]*x[38])*((-x[7] - 5x[1]*x[13])*(-x[1]*x[9] - 5x[10]*x[45]) - x[10] - 3x[12]*x[23]*x[50]) - 5x[40] - 4x[3]*x[24]*x[42]) + (-5x[9]*x[16] - 3x[26]*x[32]*x[48])*((-x[7] - 5x[1]*x[13])*(-x[1]*x[9] - 5x[10]*x[45]) - x[10] - 3x[12]*x[23]*x[50]) - x[1]*x[9] - 5x[10]*x[45]) + (3x[16]*x[25]*x[35]*x[43]*x[44]*x[58] + 4x[3]*x[9]*x[20]*x[29]*x[31]*x[34]*x[43]*x[52]*x[57])*((-5x[46] - 4x[39]*x[45])*((-5x[19] - 3x[11]*x[20]*x[38])*((-x[7] - 5x[1]*x[13])*((-x[1]*x[9] - 5x[10]*x[45])*(-3x[43]*x[46] - 2x[11]*x[19]*x[24]) - 2x[39] - 5x[22]*x[26]*x[33]) + (-3x[43]*x[46] - 2x[11]*x[19]*x[24])*(-x[10] - 3x[12]*x[23]*x[50]) - 5x[5]*x[16]*x[22] - 5x[20]*x[23]*x[43]) + (-3x[5]*x[21] - 3x[12]*x[36])*((-x[1]*x[9] - 5x[10]*x[45])*(-3x[43]*x[46] - 2x[11]*x[19]*x[24]) - 2x[39] - 5x[22]*x[26]*x[33]) + (-3x[43]*x[46] - 2x[11]*x[19]*x[24])*(-5x[40] - 4x[3]*x[24]*x[42]) - 3x[20]*x[33]*x[47] - 2x[30]*x[32]*x[40]) + (-x[1]*x[9] - 5x[10]*x[45])*(-3x[43]*x[46] - 2x[11]*x[19]*x[24]) + (-5x[9]*x[16] - 3x[26]*x[32]*x[48])*((-x[7] - 5x[1]*x[13])*((-x[1]*x[9] - 5x[10]*x[45])*(-3x[43]*x[46] - 2x[11]*x[19]*x[24]) - 2x[39] - 5x[22]*x[26]*x[33]) + (-3x[43]*x[46] - 2x[11]*x[19]*x[24])*(-x[10] - 3x[12]*x[23]*x[50]) - 5x[5]*x[16]*x[22] - 5x[20]*x[23]*x[43]) - 2x[39] - 5x[22]*x[26]*x[33]))*((3x[20]*x[33]*x[47] + 2x[30]*x[32]*x[40])*(4x[10] + (2x[38] + x[1]*x[6]*x[24])*(3x[19]*x[34] + x[45]) + 2x[5]*x[45]) + (5x[40] + 4x[3]*x[24]*x[42])*(3x[19]*x[34] + x[45]) + 3x[5]*x[21] + 3x[12]*x[36]) + ((4x[43]*x[52] + 3x[2]*x[16]*x[24]*x[39]*x[44]*x[58])*(-3x[4]*x[17]*x[31] - 4x[7]*x[25]*x[44]) + (4x[3]*x[31]*x[34] + 3x[16]*x[24]*x[25]*x[30]*x[44]*x[58])*(1.0 + (-3x[29] - 5x[46])*((-x[7] - 5x[1]*x[13])*(-x[1]*x[9] - 5x[10]*x[45]) - x[10] - 3x[12]*x[23]*x[50]) + (-x[1]*x[9] - 5x[10]*x[45])*(-x[45] - 3x[19]*x[34]) + (-3x[4]*x[17]*x[31] - 4x[7]*x[25]*x[44])*((-x[1]*x[9] - 5x[10]*x[45])*(-3x[5]*x[21] - 3x[12]*x[36]) + (-5x[19] - 3x[11]*x[20]*x[38])*((-x[7] - 5x[1]*x[13])*(-x[1]*x[9] - 5x[10]*x[45]) - x[10] - 3x[12]*x[23]*x[50]) - 5x[40] - 4x[3]*x[24]*x[42])) + (3x[16]*x[25]*x[35]*x[43]*x[44]*x[58] + 4x[3]*x[9]*x[20]*x[29]*x[31]*x[34]*x[43]*x[52]*x[57])*((-x[45] - 3x[19]*x[34])*((-x[1]*x[9] - 5x[10]*x[45])*(-3x[43]*x[46] - 2x[11]*x[19]*x[24]) - 2x[39] - 5x[22]*x[26]*x[33]) + (-3x[29] - 5x[46])*((-x[7] - 5x[1]*x[13])*((-x[1]*x[9] - 5x[10]*x[45])*(-3x[43]*x[46] - 2x[11]*x[19]*x[24]) - 2x[39] - 5x[22]*x[26]*x[33]) + (-3x[43]*x[46] - 2x[11]*x[19]*x[24])*(-x[10] - 3x[12]*x[23]*x[50]) - 5x[5]*x[16]*x[22] - 5x[20]*x[23]*x[43]) + (-3x[4]*x[17]*x[31] - 4x[7]*x[25]*x[44])*((-5x[19] - 3x[11]*x[20]*x[38])*((-x[7] - 5x[1]*x[13])*((-x[1]*x[9] - 5x[10]*x[45])*(-3x[43]*x[46] - 2x[11]*x[19]*x[24]) - 2x[39] - 5x[22]*x[26]*x[33]) + (-3x[43]*x[46] - 2x[11]*x[19]*x[24])*(-x[10] - 3x[12]*x[23]*x[50]) - 5x[5]*x[16]*x[22] - 5x[20]*x[23]*x[43]) + (-3x[5]*x[21] - 3x[12]*x[36])*((-x[1]*x[9] - 5x[10]*x[45])*(-3x[43]*x[46] - 2x[11]*x[19]*x[24]) - 2x[39] - 5x[22]*x[26]*x[33]) + (-3x[43]*x[46] - 2x[11]*x[19]*x[24])*(-5x[40] - 4x[3]*x[24]*x[42]) - 3x[20]*x[33]*x[47] - 2x[30]*x[32]*x[40]) - 3x[43]*x[46] - 2x[11]*x[19]*x[24]))*(5x[40] + (2x[38] + x[1]*x[6]*x[24])*(3x[20]*x[33]*x[47] + 2x[30]*x[32]*x[40]) + 4x[3]*x[24]*x[42]) + ((4x[3]*x[31]*x[34] + 3x[16]*x[24]*x[25]*x[30]*x[44]*x[58])*((-x[1]*x[9] - 5x[10]*x[45])*(-3x[5]*x[21] - 3x[12]*x[36]) + (-5x[19] - 3x[11]*x[20]*x[38])*((-x[7] - 5x[1]*x[13])*(-x[1]*x[9] - 5x[10]*x[45]) - x[10] - 3x[12]*x[23]*x[50]) - 5x[40] - 4x[3]*x[24]*x[42]) + (3x[16]*x[25]*x[35]*x[43]*x[44]*x[58] + 4x[3]*x[9]*x[20]*x[29]*x[31]*x[34]*x[43]*x[52]*x[57])*((-5x[19] - 3x[11]*x[20]*x[38])*((-x[7] - 5x[1]*x[13])*((-x[1]*x[9] - 5x[10]*x[45])*(-3x[43]*x[46] - 2x[11]*x[19]*x[24]) - 2x[39] - 5x[22]*x[26]*x[33]) + (-3x[43]*x[46] - 2x[11]*x[19]*x[24])*(-x[10] - 3x[12]*x[23]*x[50]) - 5x[5]*x[16]*x[22] - 5x[20]*x[23]*x[43]) + (-3x[5]*x[21] - 3x[12]*x[36])*((-x[1]*x[9] - 5x[10]*x[45])*(-3x[43]*x[46] - 2x[11]*x[19]*x[24]) - 2x[39] - 5x[22]*x[26]*x[33]) + (-3x[43]*x[46] - 2x[11]*x[19]*x[24])*(-5x[40] - 4x[3]*x[24]*x[42]) - 3x[20]*x[33]*x[47] - 2x[30]*x[32]*x[40]) + 4x[43]*x[52] + 3x[2]*x[16]*x[24]*x[39]*x[44]*x[58])*(1 + (3x[5]*x[21] + 3x[12]*x[36])*((4x[29] + 5(x[18]^2)*x[5])*(5x[9]*x[16] + 3x[26]*x[32]*x[48]) + 5x[46] + 4x[39]*x[45]) + (5x[19] + 3x[11]*x[20]*x[38])*(4x[29] + 5(x[18]^2)*x[5]) + (3x[20]*x[33]*x[47] + 2x[30]*x[32]*x[40])*((4x[10] + 2x[5]*x[45])*((4x[29] + 5(x[18]^2)*x[5])*(5x[9]*x[16] + 3x[26]*x[32]*x[48]) + 5x[46] + 4x[39]*x[45]) + (4x[29] + 5(x[18]^2)*x[5])*(5(x[22]^2)*x[17] + 4x[2]*x[37]*x[48]) + (2x[38] + x[1]*x[6]*x[24])*((3x[29] + 5x[46])*(4x[29] + 5(x[18]^2)*x[5]) + (3x[19]*x[34] + x[45])*((4x[29] + 5(x[18]^2)*x[5])*(5x[9]*x[16] + 3x[26]*x[32]*x[48]) + 5x[46] + 4x[39]*x[45]) + 3x[4]*x[17]*x[31] + 4x[7]*x[25]*x[44]) + 4x[8]*x[31]*x[46] + 5x[15]*x[20]*x[42]) + (5x[40] + 4x[3]*x[24]*x[42])*((3x[29] + 5x[46])*(4x[29] + 5(x[18]^2)*x[5]) + (3x[19]*x[34] + x[45])*((4x[29] + 5(x[18]^2)*x[5])*(5x[9]*x[16] + 3x[26]*x[32]*x[48]) + 5x[46] + 4x[39]*x[45]) + 3x[4]*x[17]*x[31] + 4x[7]*x[25]*x[44])) + ((-4x[29] - 5(x[18]^2)*x[5])*(4x[43]*x[52] + 3x[2]*x[16]*x[24]*x[39]*x[44]*x[58]) + (4x[3]*x[31]*x[34] + 3x[16]*x[24]*x[25]*x[30]*x[44]*x[58])*((-4x[29] - 5(x[18]^2)*x[5])*((-x[1]*x[9] - 5x[10]*x[45])*(-3x[5]*x[21] - 3x[12]*x[36]) + (-5x[19] - 3x[11]*x[20]*x[38])*((-x[7] - 5x[1]*x[13])*(-x[1]*x[9] - 5x[10]*x[45]) - x[10] - 3x[12]*x[23]*x[50]) - 5x[40] - 4x[3]*x[24]*x[42]) + (-x[7] - 5x[1]*x[13])*(-x[1]*x[9] - 5x[10]*x[45]) - x[10] - 3x[12]*x[23]*x[50]) + (3x[16]*x[25]*x[35]*x[43]*x[44]*x[58] + 4x[3]*x[9]*x[20]*x[29]*x[31]*x[34]*x[43]*x[52]*x[57])*((-4x[29] - 5(x[18]^2)*x[5])*((-5x[19] - 3x[11]*x[20]*x[38])*((-x[7] - 5x[1]*x[13])*((-x[1]*x[9] - 5x[10]*x[45])*(-3x[43]*x[46] - 2x[11]*x[19]*x[24]) - 2x[39] - 5x[22]*x[26]*x[33]) + (-3x[43]*x[46] - 2x[11]*x[19]*x[24])*(-x[10] - 3x[12]*x[23]*x[50]) - 5x[5]*x[16]*x[22] - 5x[20]*x[23]*x[43]) + (-3x[5]*x[21] - 3x[12]*x[36])*((-x[1]*x[9] - 5x[10]*x[45])*(-3x[43]*x[46] - 2x[11]*x[19]*x[24]) - 2x[39] - 5x[22]*x[26]*x[33]) + (-3x[43]*x[46] - 2x[11]*x[19]*x[24])*(-5x[40] - 4x[3]*x[24]*x[42]) - 3x[20]*x[33]*x[47] - 2x[30]*x[32]*x[40]) + (-x[7] - 5x[1]*x[13])*((-x[1]*x[9] - 5x[10]*x[45])*(-3x[43]*x[46] - 2x[11]*x[19]*x[24]) - 2x[39] - 5x[22]*x[26]*x[33]) + (-3x[43]*x[46] - 2x[11]*x[19]*x[24])*(-x[10] - 3x[12]*x[23]*x[50]) - 5x[5]*x[16]*x[22] - 5x[20]*x[23]*x[43]))*((3x[5]*x[21] + 3x[12]*x[36])*(5x[9]*x[16] + 3x[26]*x[32]*x[48]) + (3x[20]*x[33]*x[47] + 2x[30]*x[32]*x[40])*((4x[10] + 2x[5]*x[45])*(5x[9]*x[16] + 3x[26]*x[32]*x[48]) + (2x[38] + x[1]*x[6]*x[24])*((5x[9]*x[16] + 3x[26]*x[32]*x[48])*(3x[19]*x[34] + x[45]) + 3x[29] + 5x[46]) + 5(x[22]^2)*x[17] + 4x[2]*x[37]*x[48]) + (5x[40] + 4x[3]*x[24]*x[42])*((5x[9]*x[16] + 3x[26]*x[32]*x[48])*(3x[19]*x[34] + x[45]) + 3x[29] + 5x[46]) + 5x[19] + 3x[11]*x[20]*x[38])  …  (-4x[8]*x[31]*x[46] - 5x[15]*x[20]*x[42])*(4x[43]*x[52] + 3x[2]*x[16]*x[24]*x[39]*x[44]*x[58]) + (4x[10] + (2x[38] + x[1]*x[6]*x[24])*(3x[19]*x[34] + x[45]) + 2x[5]*x[45])*((-5x[46] - 4x[39]*x[45])*(4x[43]*x[52] + 3x[2]*x[16]*x[24]*x[39]*x[44]*x[58]) + (4x[3]*x[31]*x[34] + 3x[16]*x[24]*x[25]*x[30]*x[44]*x[58])*((-5x[46] - 4x[39]*x[45])*((-x[1]*x[9] - 5x[10]*x[45])*(-3x[5]*x[21] - 3x[12]*x[36]) + (-5x[19] - 3x[11]*x[20]*x[38])*((-x[7] - 5x[1]*x[13])*(-x[1]*x[9] - 5x[10]*x[45]) - x[10] - 3x[12]*x[23]*x[50]) - 5x[40] - 4x[3]*x[24]*x[42]) + (-5x[9]*x[16] - 3x[26]*x[32]*x[48])*((-x[7] - 5x[1]*x[13])*(-x[1]*x[9] - 5x[10]*x[45]) - x[10] - 3x[12]*x[23]*x[50]) - x[1]*x[9] - 5x[10]*x[45]) + (3x[16]*x[25]*x[35]*x[43]*x[44]*x[58] + 4x[3]*x[9]*x[20]*x[29]*x[31]*x[34]*x[43]*x[52]*x[57])*((-5x[46] - 4x[39]*x[45])*((-5x[19] - 3x[11]*x[20]*x[38])*((-x[7] - 5x[1]*x[13])*((-x[1]*x[9] - 5x[10]*x[45])*(-3x[43]*x[46] - 2x[11]*x[19]*x[24]) - 2x[39] - 5x[22]*x[26]*x[33]) + (-3x[43]*x[46] - 2x[11]*x[19]*x[24])*(-x[10] - 3x[12]*x[23]*x[50]) - 5x[5]*x[16]*x[22] - 5x[20]*x[23]*x[43]) + (-3x[5]*x[21] - 3x[12]*x[36])*((-x[1]*x[9] - 5x[10]*x[45])*(-3x[43]*x[46] - 2x[11]*x[19]*x[24]) - 2x[39] - 5x[22]*x[26]*x[33]) + (-3x[43]*x[46] - 2x[11]*x[19]*x[24])*(-5x[40] - 4x[3]*x[24]*x[42]) - 3x[20]*x[33]*x[47] - 2x[30]*x[32]*x[40]) + (-x[1]*x[9] - 5x[10]*x[45])*(-3x[43]*x[46] - 2x[11]*x[19]*x[24]) + (-5x[9]*x[16] - 3x[26]*x[32]*x[48])*((-x[7] - 5x[1]*x[13])*((-x[1]*x[9] - 5x[10]*x[45])*(-3x[43]*x[46] - 2x[11]*x[19]*x[24]) - 2x[39] - 5x[22]*x[26]*x[33]) + (-3x[43]*x[46] - 2x[11]*x[19]*x[24])*(-x[10] - 3x[12]*x[23]*x[50]) - 5x[5]*x[16]*x[22] - 5x[20]*x[23]*x[43]) - 2x[39] - 5x[22]*x[26]*x[33])) + (2x[38] + x[1]*x[6]*x[24])*((4x[43]*x[52] + 3x[2]*x[16]*x[24]*x[39]*x[44]*x[58])*(-3x[4]*x[17]*x[31] - 4x[7]*x[25]*x[44]) + (4x[3]*x[31]*x[34] + 3x[16]*x[24]*x[25]*x[30]*x[44]*x[58])*(1.0 + (-3x[29] - 5x[46])*((-x[7] - 5x[1]*x[13])*(-x[1]*x[9] - 5x[10]*x[45]) - x[10] - 3x[12]*x[23]*x[50]) + (-x[1]*x[9] - 5x[10]*x[45])*(-x[45] - 3x[19]*x[34]) + (-3x[4]*x[17]*x[31] - 4x[7]*x[25]*x[44])*((-x[1]*x[9] - 5x[10]*x[45])*(-3x[5]*x[21] - 3x[12]*x[36]) + (-5x[19] - 3x[11]*x[20]*x[38])*((-x[7] - 5x[1]*x[13])*(-x[1]*x[9] - 5x[10]*x[45]) - x[10] - 3x[12]*x[23]*x[50]) - 5x[40] - 4x[3]*x[24]*x[42])) + (3x[16]*x[25]*x[35]*x[43]*x[44]*x[58] + 4x[3]*x[9]*x[20]*x[29]*x[31]*x[34]*x[43]*x[52]*x[57])*((-x[45] - 3x[19]*x[34])*((-x[1]*x[9] - 5x[10]*x[45])*(-3x[43]*x[46] - 2x[11]*x[19]*x[24]) - 2x[39] - 5x[22]*x[26]*x[33]) + (-3x[29] - 5x[46])*((-x[7] - 5x[1]*x[13])*((-x[1]*x[9] - 5x[10]*x[45])*(-3x[43]*x[46] - 2x[11]*x[19]*x[24]) - 2x[39] - 5x[22]*x[26]*x[33]) + (-3x[43]*x[46] - 2x[11]*x[19]*x[24])*(-x[10] - 3x[12]*x[23]*x[50]) - 5x[5]*x[16]*x[22] - 5x[20]*x[23]*x[43]) + (-3x[4]*x[17]*x[31] - 4x[7]*x[25]*x[44])*((-5x[19] - 3x[11]*x[20]*x[38])*((-x[7] - 5x[1]*x[13])*((-x[1]*x[9] - 5x[10]*x[45])*(-3x[43]*x[46] - 2x[11]*x[19]*x[24]) - 2x[39] - 5x[22]*x[26]*x[33]) + (-3x[43]*x[46] - 2x[11]*x[19]*x[24])*(-x[10] - 3x[12]*x[23]*x[50]) - 5x[5]*x[16]*x[22] - 5x[20]*x[23]*x[43]) + (-3x[5]*x[21] - 3x[12]*x[36])*((-x[1]*x[9] - 5x[10]*x[45])*(-3x[43]*x[46] - 2x[11]*x[19]*x[24]) - 2x[39] - 5x[22]*x[26]*x[33]) + (-3x[43]*x[46] - 2x[11]*x[19]*x[24])*(-5x[40] - 4x[3]*x[24]*x[42]) - 3x[20]*x[33]*x[47] - 2x[30]*x[32]*x[40]) - 3x[43]*x[46] - 2x[11]*x[19]*x[24])) + (3x[16]*x[25]*x[35]*x[43]*x[44]*x[58] + 4x[3]*x[9]*x[20]*x[29]*x[31]*x[34]*x[43]*x[52]*x[57])*(1.0 + (-4x[10] - 2x[5]*x[45])*((-x[1]*x[9] - 5x[10]*x[45])*(-3x[43]*x[46] - 2x[11]*x[19]*x[24]) - 2x[39] - 5x[22]*x[26]*x[33]) + (-2x[38] - x[1]*x[6]*x[24])*(-3x[43]*x[46] - 2x[11]*x[19]*x[24]) + (-5(x[22]^2)*x[17] - 4x[2]*x[37]*x[48])*((-x[7] - 5x[1]*x[13])*((-x[1]*x[9] - 5x[10]*x[45])*(-3x[43]*x[46] - 2x[11]*x[19]*x[24]) - 2x[39] - 5x[22]*x[26]*x[33]) + (-3x[43]*x[46] - 2x[11]*x[19]*x[24])*(-x[10] - 3x[12]*x[23]*x[50]) - 5x[5]*x[16]*x[22] - 5x[20]*x[23]*x[43]) + (-4x[8]*x[31]*x[46] - 5x[15]*x[20]*x[42])*((-5x[19] - 3x[11]*x[20]*x[38])*((-x[7] - 5x[1]*x[13])*((-x[1]*x[9] - 5x[10]*x[45])*(-3x[43]*x[46] - 2x[11]*x[19]*x[24]) - 2x[39] - 5x[22]*x[26]*x[33]) + (-3x[43]*x[46] - 2x[11]*x[19]*x[24])*(-x[10] - 3x[12]*x[23]*x[50]) - 5x[5]*x[16]*x[22] - 5x[20]*x[23]*x[43]) + (-3x[5]*x[21] - 3x[12]*x[36])*((-x[1]*x[9] - 5x[10]*x[45])*(-3x[43]*x[46] - 2x[11]*x[19]*x[24]) - 2x[39] - 5x[22]*x[26]*x[33]) + (-3x[43]*x[46] - 2x[11]*x[19]*x[24])*(-5x[40] - 4x[3]*x[24]*x[42]) - 3x[20]*x[33]*x[47] - 2x[30]*x[32]*x[40])) + ((-4x[29] - 5(x[18]^2)*x[5])*(4x[43]*x[52] + 3x[2]*x[16]*x[24]*x[39]*x[44]*x[58]) + (4x[3]*x[31]*x[34] + 3x[16]*x[24]*x[25]*x[30]*x[44]*x[58])*((-4x[29] - 5(x[18]^2)*x[5])*((-x[1]*x[9] - 5x[10]*x[45])*(-3x[5]*x[21] - 3x[12]*x[36]) + (-5x[19] - 3x[11]*x[20]*x[38])*((-x[7] - 5x[1]*x[13])*(-x[1]*x[9] - 5x[10]*x[45]) - x[10] - 3x[12]*x[23]*x[50]) - 5x[40] - 4x[3]*x[24]*x[42]) + (-x[7] - 5x[1]*x[13])*(-x[1]*x[9] - 5x[10]*x[45]) - x[10] - 3x[12]*x[23]*x[50]) + (3x[16]*x[25]*x[35]*x[43]*x[44]*x[58] + 4x[3]*x[9]*x[20]*x[29]*x[31]*x[34]*x[43]*x[52]*x[57])*((-4x[29] - 5(x[18]^2)*x[5])*((-5x[19] - 3x[11]*x[20]*x[38])*((-x[7] - 5x[1]*x[13])*((-x[1]*x[9] - 5x[10]*x[45])*(-3x[43]*x[46] - 2x[11]*x[19]*x[24]) - 2x[39] - 5x[22]*x[26]*x[33]) + (-3x[43]*x[46] - 2x[11]*x[19]*x[24])*(-x[10] - 3x[12]*x[23]*x[50]) - 5x[5]*x[16]*x[22] - 5x[20]*x[23]*x[43]) + (-3x[5]*x[21] - 3x[12]*x[36])*((-x[1]*x[9] - 5x[10]*x[45])*(-3x[43]*x[46] - 2x[11]*x[19]*x[24]) - 2x[39] - 5x[22]*x[26]*x[33]) + (-3x[43]*x[46] - 2x[11]*x[19]*x[24])*(-5x[40] - 4x[3]*x[24]*x[42]) - 3x[20]*x[33]*x[47] - 2x[30]*x[32]*x[40]) + (-x[7] - 5x[1]*x[13])*((-x[1]*x[9] - 5x[10]*x[45])*(-3x[43]*x[46] - 2x[11]*x[19]*x[24]) - 2x[39] - 5x[22]*x[26]*x[33]) + (-3x[43]*x[46] - 2x[11]*x[19]*x[24])*(-x[10] - 3x[12]*x[23]*x[50]) - 5x[5]*x[16]*x[22] - 5x[20]*x[23]*x[43]))*((4x[10] + 2x[5]*x[45])*(5x[9]*x[16] + 3x[26]*x[32]*x[48]) + (2x[38] + x[1]*x[6]*x[24])*((5x[9]*x[16] + 3x[26]*x[32]*x[48])*(3x[19]*x[34] + x[45]) + 3x[29] + 5x[46]) + 5(x[22]^2)*x[17] + 4x[2]*x[37]*x[48]) + ((4x[3]*x[31]*x[34] + 3x[16]*x[24]*x[25]*x[30]*x[44]*x[58])*((-x[1]*x[9] - 5x[10]*x[45])*(-3x[5]*x[21] - 3x[12]*x[36]) + (-5x[19] - 3x[11]*x[20]*x[38])*((-x[7] - 5x[1]*x[13])*(-x[1]*x[9] - 5x[10]*x[45]) - x[10] - 3x[12]*x[23]*x[50]) - 5x[40] - 4x[3]*x[24]*x[42]) + (3x[16]*x[25]*x[35]*x[43]*x[44]*x[58] + 4x[3]*x[9]*x[20]*x[29]*x[31]*x[34]*x[43]*x[52]*x[57])*((-5x[19] - 3x[11]*x[20]*x[38])*((-x[7] - 5x[1]*x[13])*((-x[1]*x[9] - 5x[10]*x[45])*(-3x[43]*x[46] - 2x[11]*x[19]*x[24]) - 2x[39] - 5x[22]*x[26]*x[33]) + (-3x[43]*x[46] - 2x[11]*x[19]*x[24])*(-x[10] - 3x[12]*x[23]*x[50]) - 5x[5]*x[16]*x[22] - 5x[20]*x[23]*x[43]) + (-3x[5]*x[21] - 3x[12]*x[36])*((-x[1]*x[9] - 5x[10]*x[45])*(-3x[43]*x[46] - 2x[11]*x[19]*x[24]) - 2x[39] - 5x[22]*x[26]*x[33]) + (-3x[43]*x[46] - 2x[11]*x[19]*x[24])*(-5x[40] - 4x[3]*x[24]*x[42]) - 3x[20]*x[33]*x[47] - 2x[30]*x[32]*x[40]) + 4x[43]*x[52] + 3x[2]*x[16]*x[24]*x[39]*x[44]*x[58])*((4x[10] + 2x[5]*x[45])*((4x[29] + 5(x[18]^2)*x[5])*(5x[9]*x[16] + 3x[26]*x[32]*x[48]) + 5x[46] + 4x[39]*x[45]) + (4x[29] + 5(x[18]^2)*x[5])*(5(x[22]^2)*x[17] + 4x[2]*x[37]*x[48]) + (2x[38] + x[1]*x[6]*x[24])*((3x[29] + 5x[46])*(4x[29] + 5(x[18]^2)*x[5]) + (3x[19]*x[34] + x[45])*((4x[29] + 5(x[18]^2)*x[5])*(5x[9]*x[16] + 3x[26]*x[32]*x[48]) + 5x[46] + 4x[39]*x[45]) + 3x[4]*x[17]*x[31] + 4x[7]*x[25]*x[44]) + 4x[8]*x[31]*x[46] + 5x[15]*x[20]*x[42]) + (4x[3]*x[31]*x[34] + 3x[16]*x[24]*x[25]*x[30]*x[44]*x[58])*((-4x[10] - 2x[5]*x[45])*(-x[1]*x[9] - 5x[10]*x[45]) + (-5(x[22]^2)*x[17] - 4x[2]*x[37]*x[48])*((-x[7] - 5x[1]*x[13])*(-x[1]*x[9] - 5x[10]*x[45]) - x[10] - 3x[12]*x[23]*x[50]) + (-4x[8]*x[31]*x[46] - 5x[15]*x[20]*x[42])*((-x[1]*x[9] - 5x[10]*x[45])*(-3x[5]*x[21] - 3x[12]*x[36]) + (-5x[19] - 3x[11]*x[20]*x[38])*((-x[7] - 5x[1]*x[13])*(-x[1]*x[9] - 5x[10]*x[45]) - x[10] - 3x[12]*x[23]*x[50]) - 5x[40] - 4x[3]*x[24]*x[42]) - 2x[38] - x[1]*x[6]*x[24])"
      ]
     },
     "execution_count": 233,
     "metadata": {},
     "output_type": "execute_result"
    }
   ],
   "source": [
    "W = V * C"
   ]
  },
  {
   "cell_type": "code",
   "execution_count": 234,
   "id": "4e61b914",
   "metadata": {},
   "outputs": [
    {
     "data": {
      "text/latex": [
       "$$ \\begin{equation}\n",
       "\\left[\n",
       "\\begin{array}{ccc}\n",
       "0.0 & 0.0 & 0.0 \\\\\n",
       "\\end{array}\n",
       "\\right]\n",
       "\\end{equation}\n",
       " $$"
      ],
      "text/plain": [
       "1×3 Matrix{Num}:\n",
       " 0.0  0.0  0.0"
      ]
     },
     "execution_count": 234,
     "metadata": {},
     "output_type": "execute_result"
    }
   ],
   "source": [
    "substitute.(W, (substitution_dict,))"
   ]
  },
  {
   "cell_type": "markdown",
   "id": "9cef95d3",
   "metadata": {},
   "source": [
    "# Verification"
   ]
  },
  {
   "cell_type": "code",
   "execution_count": 331,
   "id": "0e39bf52",
   "metadata": {},
   "outputs": [
    {
     "data": {
      "text/latex": [
       "$$ \\begin{equation}\n",
       "\\left[\n",
       "\\begin{array}{ccccc}\n",
       "\\left(  - x_{2 2} - 5 x_{3 1} x_{4 3} \\right) \\left( 4 x_{4 3} x_{5 2} + 3 x_2 x_{1 6} x_{2 4} x_{3 9} x_{4 4} x_{5 8} \\right) + \\left( 4 x_3 x_{3 1} x_{3 4} + 3 x_{1 6} x_{2 4} x_{2 5} x_{3 0} x_{4 4} x_{5 8} \\right) \\left(  - 2 x_{4 5} + \\left(  - x_{2 2} x_{4 8} - x_{5 8} x_{6 2} \\right) \\left(  - x_{2 2} - 5 x_{3 1} x_{4 3} \\right) - 5 x_{4 9} \\right) + \\left( 3 x_{1 6} x_{2 5} x_{3 5} x_{4 3} x_{4 4} x_{5 8} + 4 x_3 x_9 x_{2 0} x_{2 9} x_{3 1} x_{3 4} x_{4 3} x_{5 2} x_{5 7} \\right) \\left( \\left(  - x_{2 2} - 5 x_{3 1} x_{4 3} \\right) \\left(  - x_{2 8} + \\left(  - 3 x_{1 7} x_{2 3} - 5 x_4 x_8 x_{6 1} \\right) \\left(  - x_{2 2} x_{4 8} - x_{5 8} x_{6 2} \\right) - 2 x_{3 1} x_{5 3} x_{6 2} \\right) + \\left(  - 2 x_{4 5} - 5 x_{4 9} \\right) \\left(  - 3 x_{1 7} x_{2 3} - 5 x_4 x_8 x_{6 1} \\right) - x_2 x_{2 4} x_{4 5} - 2 x_1 x_{1 4} x_{5 9} \\right) & \\left( 1.0 + \\left(  - x_{2 2} - 5 x_{3 1} x_{4 3} \\right) \\left(  - 4 x_{3 5} x_{5 7} - 5 x_{3 6} x_{5 4} \\right) \\right) \\left( 4 x_{4 3} x_{5 2} + 3 x_2 x_{1 6} x_{2 4} x_{3 9} x_{4 4} x_{5 8} \\right) + \\left( 4 x_3 x_{3 1} x_{3 4} + 3 x_{1 6} x_{2 4} x_{2 5} x_{3 0} x_{4 4} x_{5 8} \\right) \\left( \\left(  - 4 x_{3 5} x_{5 7} - 5 x_{3 6} x_{5 4} \\right) \\left(  - 2 x_{4 5} + \\left(  - x_{2 2} x_{4 8} - x_{5 8} x_{6 2} \\right) \\left(  - x_{2 2} - 5 x_{3 1} x_{4 3} \\right) - 5 x_{4 9} \\right) - x_{2 2} x_{4 8} - x_{5 8} x_{6 2} \\right) + \\left( 3 x_{1 6} x_{2 5} x_{3 5} x_{4 3} x_{4 4} x_{5 8} + 4 x_3 x_9 x_{2 0} x_{2 9} x_{3 1} x_{3 4} x_{4 3} x_{5 2} x_{5 7} \\right) \\left(  - x_{2 8} + \\left(  - 3 x_{1 7} x_{2 3} - 5 x_4 x_8 x_{6 1} \\right) \\left(  - x_{2 2} x_{4 8} - x_{5 8} x_{6 2} \\right) + \\left(  - 4 x_{3 5} x_{5 7} - 5 x_{3 6} x_{5 4} \\right) \\left( \\left(  - x_{2 2} - 5 x_{3 1} x_{4 3} \\right) \\left(  - x_{2 8} + \\left(  - 3 x_{1 7} x_{2 3} - 5 x_4 x_8 x_{6 1} \\right) \\left(  - x_{2 2} x_{4 8} - x_{5 8} x_{6 2} \\right) - 2 x_{3 1} x_{5 3} x_{6 2} \\right) + \\left(  - 2 x_{4 5} - 5 x_{4 9} \\right) \\left(  - 3 x_{1 7} x_{2 3} - 5 x_4 x_8 x_{6 1} \\right) - x_2 x_{2 4} x_{4 5} - 2 x_1 x_{1 4} x_{5 9} \\right) - 2 x_{3 1} x_{5 3} x_{6 2} \\right) & \\left( 4 x_3 x_{3 1} x_{3 4} + 3 x_{1 6} x_{2 4} x_{2 5} x_{3 0} x_{4 4} x_{5 8} \\right) \\left( 1.0 + \\left(  - 5 x_{4 2} - 3 x_9 x_{1 7} x_{5 5} \\right) \\left(  - 2 x_{4 5} + \\left(  - x_{2 2} x_{4 8} - x_{5 8} x_{6 2} \\right) \\left(  - x_{2 2} - 5 x_{3 1} x_{4 3} \\right) - 5 x_{4 9} \\right) + \\left(  - x_{2 2} x_{4 8} - x_{5 8} x_{6 2} \\right) \\left(  - 3 x_{3 6} x_{5 3} - 5 x_{3 6} x_{4 1} x_{5 5} \\right) \\right) + \\left( 4 x_{4 3} x_{5 2} + 3 x_2 x_{1 6} x_{2 4} x_{3 9} x_{4 4} x_{5 8} \\right) \\left( \\left(  - x_{2 2} - 5 x_{3 1} x_{4 3} \\right) \\left(  - 5 x_{4 2} - 3 x_9 x_{1 7} x_{5 5} \\right) - 3 x_{3 6} x_{5 3} - 5 x_{3 6} x_{4 1} x_{5 5} \\right) + \\left( 3 x_{1 6} x_{2 5} x_{3 5} x_{4 3} x_{4 4} x_{5 8} + 4 x_3 x_9 x_{2 0} x_{2 9} x_{3 1} x_{3 4} x_{4 3} x_{5 2} x_{5 7} \\right) \\left( \\left(  - 5 x_{4 2} - 3 x_9 x_{1 7} x_{5 5} \\right) \\left( \\left(  - x_{2 2} - 5 x_{3 1} x_{4 3} \\right) \\left(  - x_{2 8} + \\left(  - 3 x_{1 7} x_{2 3} - 5 x_4 x_8 x_{6 1} \\right) \\left(  - x_{2 2} x_{4 8} - x_{5 8} x_{6 2} \\right) - 2 x_{3 1} x_{5 3} x_{6 2} \\right) + \\left(  - 2 x_{4 5} - 5 x_{4 9} \\right) \\left(  - 3 x_{1 7} x_{2 3} - 5 x_4 x_8 x_{6 1} \\right) - x_2 x_{2 4} x_{4 5} - 2 x_1 x_{1 4} x_{5 9} \\right) + \\left(  - 3 x_{3 6} x_{5 3} - 5 x_{3 6} x_{4 1} x_{5 5} \\right) \\left(  - x_{2 8} + \\left(  - 3 x_{1 7} x_{2 3} - 5 x_4 x_8 x_{6 1} \\right) \\left(  - x_{2 2} x_{4 8} - x_{5 8} x_{6 2} \\right) - 2 x_{3 1} x_{5 3} x_{6 2} \\right) - 3 x_{1 7} x_{2 3} - 5 x_4 x_8 x_{6 1} \\right) & \\left( 4 x_{4 3} x_{5 2} + 3 x_2 x_{1 6} x_{2 4} x_{3 9} x_{4 4} x_{5 8} \\right) \\left(  - 4 x_{1 7} - 3 x_{2 3} + \\left(  - x_8 x_{2 2} - 4 x_{3 8} x_{4 5} \\right) \\left(  - x_{2 2} - 5 x_{3 1} x_{4 3} \\right) \\right) + \\left( 3 x_{1 6} x_{2 5} x_{3 5} x_{4 3} x_{4 4} x_{5 8} + 4 x_3 x_9 x_{2 0} x_{2 9} x_{3 1} x_{3 4} x_{4 3} x_{5 2} x_{5 7} \\right) \\left( 1.0 + \\left(  - 4 x_{4 7} - 2 x_{1 1} x_{1 2} \\right) \\left(  - 3 x_{1 7} x_{2 3} - 5 x_4 x_8 x_{6 1} \\right) + \\left(  - 4 x_{1 7} - 3 x_{2 3} \\right) \\left(  - x_{2 8} + \\left(  - 3 x_{1 7} x_{2 3} - 5 x_4 x_8 x_{6 1} \\right) \\left(  - x_{2 2} x_{4 8} - x_{5 8} x_{6 2} \\right) - 2 x_{3 1} x_{5 3} x_{6 2} \\right) + \\left(  - x_8 x_{2 2} - 4 x_{3 8} x_{4 5} \\right) \\left( \\left(  - x_{2 2} - 5 x_{3 1} x_{4 3} \\right) \\left(  - x_{2 8} + \\left(  - 3 x_{1 7} x_{2 3} - 5 x_4 x_8 x_{6 1} \\right) \\left(  - x_{2 2} x_{4 8} - x_{5 8} x_{6 2} \\right) - 2 x_{3 1} x_{5 3} x_{6 2} \\right) + \\left(  - 2 x_{4 5} - 5 x_{4 9} \\right) \\left(  - 3 x_{1 7} x_{2 3} - 5 x_4 x_8 x_{6 1} \\right) - x_2 x_{2 4} x_{4 5} - 2 x_1 x_{1 4} x_{5 9} \\right) \\right) + \\left( 4 x_3 x_{3 1} x_{3 4} + 3 x_{1 6} x_{2 4} x_{2 5} x_{3 0} x_{4 4} x_{5 8} \\right) \\left(  - 4 x_{4 7} + \\left(  - 4 x_{1 7} - 3 x_{2 3} \\right) \\left(  - x_{2 2} x_{4 8} - x_{5 8} x_{6 2} \\right) + \\left(  - x_8 x_{2 2} - 4 x_{3 8} x_{4 5} \\right) \\left(  - 2 x_{4 5} + \\left(  - x_{2 2} x_{4 8} - x_{5 8} x_{6 2} \\right) \\left(  - x_{2 2} - 5 x_{3 1} x_{4 3} \\right) - 5 x_{4 9} \\right) - 2 x_{1 1} x_{1 2} \\right) & \\left( 4 x_3 x_{3 1} x_{3 4} + 3 x_{1 6} x_{2 4} x_{2 5} x_{3 0} x_{4 4} x_{5 8} \\right) \\left( \\left(  - x_{2 2} x_{4 8} - x_{5 8} x_{6 2} \\right) \\left(  - 4 x_{2 1} x_{2 7} - 5 x_{3 2} x_{4 6} \\right) + \\left(  - 5 x_{1 5} x_{3 5} x_{4 3} - 2 x_{2 4} x_{5 4} x_{5 7} \\right) \\left(  - 2 x_{4 5} + \\left(  - x_{2 2} x_{4 8} - x_{5 8} x_{6 2} \\right) \\left(  - x_{2 2} - 5 x_{3 1} x_{4 3} \\right) - 5 x_{4 9} \\right) - 3 x_6^{2} x_{6 0} - 4 x_{2 0} x_{5 5} \\right) + \\left( 4 x_{4 3} x_{5 2} + 3 x_2 x_{1 6} x_{2 4} x_{3 9} x_{4 4} x_{5 8} \\right) \\left( \\left(  - x_{2 2} - 5 x_{3 1} x_{4 3} \\right) \\left(  - 5 x_{1 5} x_{3 5} x_{4 3} - 2 x_{2 4} x_{5 4} x_{5 7} \\right) - 4 x_{2 1} x_{2 7} - 5 x_{3 2} x_{4 6} \\right) + \\left( 3 x_{1 6} x_{2 5} x_{3 5} x_{4 3} x_{4 4} x_{5 8} + 4 x_3 x_9 x_{2 0} x_{2 9} x_{3 1} x_{3 4} x_{4 3} x_{5 2} x_{5 7} \\right) \\left( \\left(  - 4 x_{2 1} x_{2 7} - 5 x_{3 2} x_{4 6} \\right) \\left(  - x_{2 8} + \\left(  - 3 x_{1 7} x_{2 3} - 5 x_4 x_8 x_{6 1} \\right) \\left(  - x_{2 2} x_{4 8} - x_{5 8} x_{6 2} \\right) - 2 x_{3 1} x_{5 3} x_{6 2} \\right) + \\left(  - 5 x_{1 5} x_{3 5} x_{4 3} - 2 x_{2 4} x_{5 4} x_{5 7} \\right) \\left( \\left(  - x_{2 2} - 5 x_{3 1} x_{4 3} \\right) \\left(  - x_{2 8} + \\left(  - 3 x_{1 7} x_{2 3} - 5 x_4 x_8 x_{6 1} \\right) \\left(  - x_{2 2} x_{4 8} - x_{5 8} x_{6 2} \\right) - 2 x_{3 1} x_{5 3} x_{6 2} \\right) + \\left(  - 2 x_{4 5} - 5 x_{4 9} \\right) \\left(  - 3 x_{1 7} x_{2 3} - 5 x_4 x_8 x_{6 1} \\right) - x_2 x_{2 4} x_{4 5} - 2 x_1 x_{1 4} x_{5 9} \\right) + \\left(  - 3 x_{1 7} x_{2 3} - 5 x_4 x_8 x_{6 1} \\right) \\left(  - 3 x_6^{2} x_{6 0} - 4 x_{2 0} x_{5 5} \\right) - 2 x_{2 6} x_{4 4} - x_{1 1} x_{3 1} x_{4 7} \\right) \\\\\n",
       "\\end{array}\n",
       "\\right]\n",
       "\\end{equation}\n",
       " $$"
      ],
      "text/plain": [
       "1×5 Matrix{Num}:\n",
       " (-x[22] - 5x[31]*x[43])*(4x[43]*x[52] + 3x[2]*x[16]*x[24]*x[39]*x[44]*x[58]) + (4x[3]*x[31]*x[34] + 3x[16]*x[24]*x[25]*x[30]*x[44]*x[58])*((-x[22]*x[48] - x[58]*x[62])*(-x[22] - 5x[31]*x[43]) - 2x[45] - 5x[49]) + (3x[16]*x[25]*x[35]*x[43]*x[44]*x[58] + 4x[3]*x[9]*x[20]*x[29]*x[31]*x[34]*x[43]*x[52]*x[57])*((-x[22] - 5x[31]*x[43])*((-3x[17]*x[23] - 5x[4]*x[8]*x[61])*(-x[22]*x[48] - x[58]*x[62]) - x[28] - 2x[31]*x[53]*x[62]) + (-2x[45] - 5x[49])*(-3x[17]*x[23] - 5x[4]*x[8]*x[61]) - x[2]*x[24]*x[45] - 2x[1]*x[14]*x[59])  …  (4x[3]*x[31]*x[34] + 3x[16]*x[24]*x[25]*x[30]*x[44]*x[58])*((-x[22]*x[48] - x[58]*x[62])*(-4x[21]*x[27] - 5x[32]*x[46]) + (-5x[15]*x[35]*x[43] - 2x[24]*x[54]*x[57])*((-x[22]*x[48] - x[58]*x[62])*(-x[22] - 5x[31]*x[43]) - 2x[45] - 5x[49]) - 3(x[6]^2)*x[60] - 4x[20]*x[55]) + (4x[43]*x[52] + 3x[2]*x[16]*x[24]*x[39]*x[44]*x[58])*((-x[22] - 5x[31]*x[43])*(-5x[15]*x[35]*x[43] - 2x[24]*x[54]*x[57]) - 4x[21]*x[27] - 5x[32]*x[46]) + (3x[16]*x[25]*x[35]*x[43]*x[44]*x[58] + 4x[3]*x[9]*x[20]*x[29]*x[31]*x[34]*x[43]*x[52]*x[57])*((-4x[21]*x[27] - 5x[32]*x[46])*((-3x[17]*x[23] - 5x[4]*x[8]*x[61])*(-x[22]*x[48] - x[58]*x[62]) - x[28] - 2x[31]*x[53]*x[62]) + (-5x[15]*x[35]*x[43] - 2x[24]*x[54]*x[57])*((-x[22] - 5x[31]*x[43])*((-3x[17]*x[23] - 5x[4]*x[8]*x[61])*(-x[22]*x[48] - x[58]*x[62]) - x[28] - 2x[31]*x[53]*x[62]) + (-2x[45] - 5x[49])*(-3x[17]*x[23] - 5x[4]*x[8]*x[61]) - x[2]*x[24]*x[45] - 2x[1]*x[14]*x[59]) + (-3x[17]*x[23] - 5x[4]*x[8]*x[61])*(-3(x[6]^2)*x[60] - 4x[20]*x[55]) - 2x[26]*x[44] - x[11]*x[31]*x[47])"
      ]
     },
     "execution_count": 331,
     "metadata": {},
     "output_type": "execute_result"
    }
   ],
   "source": [
    "A, B, C, D = matrix_kl(5, 3, 64, 2, 3, 6)\n",
    "U, Un = polys(message)\n",
    "V = Un * D"
   ]
  },
  {
   "cell_type": "code",
   "execution_count": 332,
   "id": "b28c8fd4",
   "metadata": {},
   "outputs": [
    {
     "name": "stdout",
     "output_type": "stream",
     "text": [
      "true\n",
      "  0.211834 seconds (1.27 M allocations: 57.003 MiB, 15.61% compilation time)\n"
     ]
    }
   ],
   "source": [
    "function verification(C,V,Un)\n",
    "#     cnt=0\n",
    "#     for i in 1:100\n",
    "#         substitution_dict = Dict()\n",
    "#         for i in 1:64\n",
    "#             substitution_dict[x[i]] = rand(0:1)\n",
    "#         end\n",
    "\n",
    "#         W=V*C\n",
    "#         for i in 1:2\n",
    "#             i=rand(1:3)\n",
    "#             left=substitute.(W[1,i], (substitution_dict,))\n",
    "#             right=substitute.(Un[1,i], (substitution_dict,))\n",
    "\n",
    "#             if isequal(left,right)\n",
    "#                 cnt=cnt+1\n",
    "#             end\n",
    "#         end\n",
    "#     end\n",
    "#     return (cnt==200)\n",
    "    cnt=0\n",
    "    for i in 1:20\n",
    "        substitution_dict = Dict()\n",
    "        for i in 1:64\n",
    "            substitution_dict[x[i]] = rand(0:1)\n",
    "        end\n",
    "        \n",
    "        W = V * C\n",
    "        left=substitute.(W, (substitution_dict,))\n",
    "        right=substitute.(Un, (substitution_dict,))\n",
    "        if isequal(left,right)\n",
    "            cnt=cnt+1\n",
    "        end\n",
    "    end\n",
    "    return println(cnt==20)\n",
    "    \n",
    "    \n",
    "#     W=V*C\n",
    "#     i=rand(1:5)\n",
    "#     Wi=simplify(expand(W[1,i]))\n",
    "#     if isequal(Wi,simplify(expand(Un[1,i])))\n",
    "#             println(\"good\")\n",
    "#             println(Un[1,i])\n",
    "#             println(Wi)\n",
    "#         end\n",
    "\n",
    "end\n",
    "\n",
    "@time verification(C,V,Un)"
   ]
  },
  {
   "cell_type": "code",
   "execution_count": 333,
   "id": "8785375b",
   "metadata": {},
   "outputs": [
    {
     "name": "stdout",
     "output_type": "stream",
     "text": [
      "true\n",
      "  0.170951 seconds (1.20 M allocations: 52.616 MiB)\n",
      "true\n",
      "  0.175531 seconds (1.20 M allocations: 52.624 MiB)\n",
      "true\n",
      "  0.232069 seconds (1.20 M allocations: 52.624 MiB, 26.66% gc time)\n",
      "true\n",
      "  0.168339 seconds (1.20 M allocations: 52.625 MiB)\n",
      "true\n",
      "  0.168074 seconds (1.20 M allocations: 52.624 MiB)\n",
      "true\n",
      "  0.166027 seconds (1.20 M allocations: 52.625 MiB)\n",
      "true\n",
      "  0.166360 seconds (1.20 M allocations: 52.625 MiB)\n",
      "true\n",
      "  0.174281 seconds (1.20 M allocations: 52.624 MiB)\n",
      "true\n",
      "  0.210677 seconds (1.20 M allocations: 52.625 MiB, 16.19% gc time)\n",
      "true\n",
      "  0.172824 seconds (1.20 M allocations: 52.625 MiB)\n",
      "true\n",
      "  0.174351 seconds (1.20 M allocations: 52.624 MiB)\n",
      "true\n",
      "  0.172459 seconds (1.20 M allocations: 52.624 MiB)\n",
      "true\n",
      "  0.177409 seconds (1.20 M allocations: 52.625 MiB)\n",
      "true\n",
      "  0.168525 seconds (1.20 M allocations: 52.624 MiB)\n",
      "true\n",
      "  0.205698 seconds (1.20 M allocations: 52.624 MiB, 15.70% gc time)\n",
      "true\n",
      "  0.174629 seconds (1.20 M allocations: 52.625 MiB)\n",
      "true\n",
      "  0.166003 seconds (1.20 M allocations: 52.625 MiB)\n",
      "true\n",
      "  0.171520 seconds (1.20 M allocations: 52.625 MiB)\n",
      "true\n",
      "  0.165898 seconds (1.20 M allocations: 52.626 MiB)\n",
      "true\n",
      "  0.170025 seconds (1.20 M allocations: 52.624 MiB)\n",
      "true\n",
      "  0.205074 seconds (1.20 M allocations: 52.624 MiB, 15.87% gc time)\n",
      "true\n",
      "  0.172756 seconds (1.20 M allocations: 52.625 MiB)\n",
      "true\n",
      "  0.167796 seconds (1.20 M allocations: 52.624 MiB)\n",
      "true\n",
      "  0.172829 seconds (1.20 M allocations: 52.624 MiB)\n",
      "true\n",
      "  0.171708 seconds (1.20 M allocations: 52.625 MiB)\n",
      "true\n",
      "  0.171770 seconds (1.20 M allocations: 52.624 MiB)\n",
      "true\n",
      "  0.201659 seconds (1.20 M allocations: 52.624 MiB, 15.64% gc time)\n",
      "true\n",
      "  0.175670 seconds (1.20 M allocations: 52.624 MiB)\n",
      "true\n",
      "  0.173309 seconds (1.20 M allocations: 52.624 MiB)\n",
      "true\n",
      "  0.172064 seconds (1.20 M allocations: 52.625 MiB)\n",
      "true\n",
      "  0.168803 seconds (1.20 M allocations: 52.624 MiB)\n",
      "true\n",
      "  0.174038 seconds (1.20 M allocations: 52.624 MiB)\n",
      "true\n",
      "  0.215104 seconds (1.20 M allocations: 52.625 MiB, 15.42% gc time)\n",
      "true\n",
      "  0.208195 seconds (1.20 M allocations: 52.625 MiB)\n",
      "true\n",
      "  0.179801 seconds (1.20 M allocations: 52.624 MiB)\n",
      "true\n",
      "  0.172750 seconds (1.20 M allocations: 52.624 MiB)\n",
      "true\n",
      "  0.174041 seconds (1.20 M allocations: 52.625 MiB)\n",
      "true\n",
      "  0.170259 seconds (1.20 M allocations: 52.625 MiB)\n",
      "true\n",
      "  0.209108 seconds (1.20 M allocations: 52.624 MiB, 15.28% gc time)\n",
      "true\n",
      "  0.182950 seconds (1.20 M allocations: 52.625 MiB)\n",
      "true\n",
      "  0.174014 seconds (1.20 M allocations: 52.624 MiB)\n",
      "true\n",
      "  0.176316 seconds (1.20 M allocations: 52.624 MiB)\n",
      "true\n",
      "  0.175547 seconds (1.20 M allocations: 52.625 MiB)\n",
      "true\n",
      "  0.175234 seconds (1.20 M allocations: 52.624 MiB)\n",
      "true\n",
      "  0.211270 seconds (1.20 M allocations: 52.624 MiB, 15.31% gc time)\n",
      "true\n",
      "  0.184753 seconds (1.20 M allocations: 52.625 MiB)\n",
      "true\n",
      "  0.172692 seconds (1.20 M allocations: 52.624 MiB)\n",
      "true\n",
      "  0.178168 seconds (1.20 M allocations: 52.624 MiB)\n",
      "true\n",
      "  0.170812 seconds (1.20 M allocations: 52.625 MiB)\n",
      "true\n",
      "  0.171516 seconds (1.20 M allocations: 52.624 MiB)\n",
      "true\n",
      "  0.207498 seconds (1.20 M allocations: 52.624 MiB, 15.45% gc time)\n",
      "true\n",
      "  0.174977 seconds (1.20 M allocations: 52.625 MiB)\n",
      "true\n",
      "  0.173576 seconds (1.20 M allocations: 52.625 MiB)\n",
      "true\n",
      "  0.182098 seconds (1.20 M allocations: 52.624 MiB)\n",
      "true\n",
      "  0.169918 seconds (1.20 M allocations: 52.624 MiB)\n",
      "true\n",
      "  0.191681 seconds (1.20 M allocations: 52.624 MiB)\n",
      "true\n",
      "  0.213851 seconds (1.20 M allocations: 52.624 MiB, 15.66% gc time)\n",
      "true\n",
      "  0.175954 seconds (1.20 M allocations: 52.625 MiB)\n",
      "true\n",
      "  0.176292 seconds (1.20 M allocations: 52.625 MiB)\n",
      "true\n",
      "  0.174524 seconds (1.20 M allocations: 52.624 MiB)\n",
      "true\n",
      "  0.168467 seconds (1.20 M allocations: 52.625 MiB)\n",
      "true\n",
      "  0.197558 seconds (1.20 M allocations: 52.625 MiB, 16.27% gc time)\n",
      "true\n",
      "  0.171067 seconds (1.20 M allocations: 52.624 MiB)\n",
      "true\n",
      "  0.169444 seconds (1.20 M allocations: 52.624 MiB)\n",
      "true\n",
      "  0.172657 seconds (1.20 M allocations: 52.624 MiB)\n",
      "true\n",
      "  0.213663 seconds (1.20 M allocations: 52.624 MiB)\n",
      "true\n",
      "  0.171192 seconds (1.20 M allocations: 52.625 MiB)\n",
      "true\n",
      "  0.198486 seconds (1.20 M allocations: 52.625 MiB, 16.04% gc time)\n",
      "true\n",
      "  0.174642 seconds (1.20 M allocations: 52.625 MiB)\n",
      "true\n",
      "  0.176802 seconds (1.20 M allocations: 52.625 MiB)\n",
      "true\n",
      "  0.177041 seconds (1.20 M allocations: 52.625 MiB)\n",
      "true\n",
      "  0.169717 seconds (1.20 M allocations: 52.625 MiB)\n",
      "true\n",
      "  0.179191 seconds (1.20 M allocations: 52.625 MiB)\n",
      "true\n",
      "  0.206133 seconds (1.20 M allocations: 52.624 MiB, 15.64% gc time)\n",
      "true\n",
      "  0.169494 seconds (1.20 M allocations: 52.624 MiB)\n",
      "true\n",
      "  0.164622 seconds (1.20 M allocations: 52.624 MiB)\n",
      "true\n",
      "  0.172057 seconds (1.20 M allocations: 52.625 MiB)\n",
      "true\n",
      "  0.169406 seconds (1.20 M allocations: 52.624 MiB)\n",
      "true\n",
      "  0.162233 seconds (1.20 M allocations: 52.625 MiB)\n",
      "true\n",
      "  0.196702 seconds (1.20 M allocations: 52.624 MiB, 16.20% gc time)\n",
      "true\n",
      "  0.168788 seconds (1.20 M allocations: 52.624 MiB)\n",
      "true\n",
      "  0.168305 seconds (1.20 M allocations: 52.624 MiB)\n",
      "true\n",
      "  0.162405 seconds (1.20 M allocations: 52.624 MiB)\n",
      "true\n",
      "  0.164591 seconds (1.20 M allocations: 52.624 MiB)\n",
      "true\n",
      "  0.163950 seconds (1.20 M allocations: 52.625 MiB)\n",
      "true\n",
      "  0.201116 seconds (1.20 M allocations: 52.624 MiB, 15.93% gc time)\n",
      "true\n",
      "  0.174502 seconds (1.20 M allocations: 52.624 MiB)\n",
      "true\n",
      "  0.173361 seconds (1.20 M allocations: 52.624 MiB)\n",
      "true\n",
      "  0.170167 seconds (1.20 M allocations: 52.624 MiB)\n",
      "true\n",
      "  0.167188 seconds (1.20 M allocations: 52.624 MiB)\n",
      "true\n",
      "  0.172123 seconds (1.20 M allocations: 52.625 MiB)\n",
      "true\n",
      "  0.201725 seconds (1.20 M allocations: 52.625 MiB, 15.77% gc time)\n",
      "true\n",
      "  0.165518 seconds (1.20 M allocations: 52.624 MiB)\n",
      "true\n",
      "  0.168693 seconds (1.20 M allocations: 52.625 MiB)\n",
      "true\n",
      "  0.173993 seconds (1.20 M allocations: 52.624 MiB)\n",
      "true\n",
      "  0.171617 seconds (1.20 M allocations: 52.625 MiB)\n",
      "true\n",
      "  0.166046 seconds (1.20 M allocations: 52.625 MiB)\n",
      "true\n",
      "  0.198300 seconds (1.20 M allocations: 52.624 MiB, 16.10% gc time)\n",
      "true\n",
      "  0.164452 seconds (1.20 M allocations: 52.625 MiB)\n",
      "true\n",
      "  0.170924 seconds (1.20 M allocations: 52.625 MiB)\n"
     ]
    }
   ],
   "source": [
    "for i in 1:100\n",
    "    @time verification(C,V,Un)\n",
    "end"
   ]
  },
  {
   "cell_type": "code",
   "execution_count": null,
   "id": "af08b177",
   "metadata": {},
   "outputs": [],
   "source": []
  }
 ],
 "metadata": {
  "kernelspec": {
   "display_name": "Julia 1.6.7",
   "language": "julia",
   "name": "julia-1.6"
  },
  "language_info": {
   "file_extension": ".jl",
   "mimetype": "application/julia",
   "name": "julia",
   "version": "1.6.7"
  }
 },
 "nbformat": 4,
 "nbformat_minor": 5
}
