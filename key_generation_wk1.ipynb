{
 "cells": [
  {
   "cell_type": "code",
   "execution_count": 4,
   "id": "5a084242",
   "metadata": {},
   "outputs": [],
   "source": [
    "import gpkit\n",
    "from gpkit import Variable, VectorVariable, Model\n",
    "from gpkit.nomials import Monomial, Posynomial, PosynomialInequality\n",
    "\n",
    "import random\n",
    "import numpy as np"
   ]
  },
  {
   "cell_type": "markdown",
   "id": "16ae3e9c",
   "metadata": {},
   "source": [
    "# Key generation"
   ]
  },
  {
   "cell_type": "code",
   "execution_count": 5,
   "id": "bb502337",
   "metadata": {},
   "outputs": [
    {
     "data": {
      "text/plain": [
       "gpkit.nomials.math.Posynomial"
      ]
     },
     "execution_count": 5,
     "metadata": {},
     "output_type": "execute_result"
    }
   ],
   "source": [
    "def poly_n_variables(n):\n",
    "    K=[]\n",
    "    for i in range(n):\n",
    "        x='x'+str(i)\n",
    "        K.append(x)\n",
    "    return K\n",
    "\n",
    "def sparse_polynomial(n,t,b,q):#t monomials, bound the degree of monomials by an integer b\n",
    "    K=poly_n_variables(n)\n",
    "    sparse_poly=0\n",
    "    for i in range(t):\n",
    "        deg=random.randint(1,b)\n",
    "        monomoial_d=1\n",
    "        \n",
    "        for i in range(deg):\n",
    "            \n",
    "            monomoial_d*=Variable(random.choice(K))\n",
    "        sparse_poly+=random.randint(1,q-1)*monomoial_d\n",
    "    return sparse_poly\n",
    "type(sparse_polynomial(32,5,6,6))"
   ]
  },
  {
   "cell_type": "code",
   "execution_count": 8,
   "id": "c141ba9e",
   "metadata": {},
   "outputs": [
    {
     "data": {
      "text/plain": [
       "array([[1., 0., 0., 0.],\n",
       "       [5., 1., 0., 0.],\n",
       "       [0., 5., 1., 0.],\n",
       "       [0., 0., 0., 1.]])"
      ]
     },
     "execution_count": 8,
     "metadata": {},
     "output_type": "execute_result"
    }
   ],
   "source": [
    "def generate_U(k,s):\n",
    "    I=np.identity(k)\n",
    "    \n",
    "    for i in range(s):\n",
    "        b=random.randint(1,k-1)\n",
    "        a=random.randint(0,b-1)\n",
    "        I[a][b]=5#sparse polynomial instead\n",
    "    return I\n",
    "    \n",
    "def generate_L(k,s):\n",
    "    I=np.identity(k)\n",
    "    \n",
    "    for i in range(s):\n",
    "        a=random.randint(1,k-1)\n",
    "        b=random.randint(0,a-1)\n",
    "        I[a][b]=5#sparse polynomial instead\n",
    "    return I\n",
    "\n",
    "generate_L(4,2)"
   ]
  },
  {
   "cell_type": "code",
   "execution_count": null,
   "id": "55eb0cc3",
   "metadata": {},
   "outputs": [],
   "source": []
  },
  {
   "cell_type": "code",
   "execution_count": null,
   "id": "f5d214c1",
   "metadata": {},
   "outputs": [],
   "source": []
  }
 ],
 "metadata": {
  "kernelspec": {
   "display_name": "Python 3 (ipykernel)",
   "language": "python",
   "name": "python3"
  },
  "language_info": {
   "codemirror_mode": {
    "name": "ipython",
    "version": 3
   },
   "file_extension": ".py",
   "mimetype": "text/x-python",
   "name": "python",
   "nbconvert_exporter": "python",
   "pygments_lexer": "ipython3",
   "version": "3.9.12"
  }
 },
 "nbformat": 4,
 "nbformat_minor": 5
}
