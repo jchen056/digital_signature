{
 "cells": [
  {
   "cell_type": "markdown",
   "id": "7693592e",
   "metadata": {},
   "source": [
    "# Getting started\n",
    "topics:\n",
    "* how to print: using **println()** to print\n",
    "* how to assign variables\n",
    "* how to comment\n",
    "* how to do basic math\n",
    "\n",
    "resources:\n",
    "1. Julia Manual: https://docs.julialang.org/en/v1/manual/getting-started/\n",
    "2. Other resoucees: https://julialang.org/learning/ "
   ]
  },
  {
   "cell_type": "code",
   "execution_count": 1,
   "id": "40f94bf9",
   "metadata": {},
   "outputs": [
    {
     "name": "stdout",
     "output_type": "stream",
     "text": [
      "getting started with Julia\n"
     ]
    }
   ],
   "source": [
    "println(\"getting started with Julia\")\n",
    "\n",
    "# single line comment\n",
    "\n",
    "#=\n",
    "for multiple-line comment\n",
    "use the #==#\n",
    "=#"
   ]
  },
  {
   "cell_type": "code",
   "execution_count": 14,
   "id": "52df7d92",
   "metadata": {},
   "outputs": [
    {
     "data": {
      "text/plain": [
       "1"
      ]
     },
     "execution_count": 14,
     "metadata": {},
     "output_type": "execute_result"
    }
   ],
   "source": [
    "my_ans=42\n",
    "typeof(my_ans) #Int64\n",
    "\n",
    "my_pi=3.14\n",
    "typeof(my_pi) #Float64\n",
    "\n",
    "#you can use unicode(emoji) to make valid variables\n",
    "\n",
    "days=365\n",
    "days_float=convert(Float64,days)#convert() try convert function\n",
    "typeof(days_float)\n",
    "\n",
    "#convert(Int64, \"1\")#`convert` an object of type String to an object of type Int64\n",
    "parse(Int64, \"1\")# use parse() instead"
   ]
  },
  {
   "cell_type": "code",
   "execution_count": 8,
   "id": "b4dc93a5",
   "metadata": {},
   "outputs": [
    {
     "data": {
      "text/plain": [
       "1"
      ]
     },
     "execution_count": 8,
     "metadata": {},
     "output_type": "execute_result"
    }
   ],
   "source": [
    "# basic math\n",
    "sum=3+7\n",
    "diff=10-3\n",
    "power=2^2\n",
    "mod=101%2"
   ]
  },
  {
   "cell_type": "markdown",
   "id": "f6e503f4",
   "metadata": {},
   "source": [
    "# strings\n",
    "topics:\n",
    "* how to get a string\n",
    "* string interpolation\n",
    "* string concatenation"
   ]
  },
  {
   "cell_type": "code",
   "execution_count": 18,
   "id": "5733aa1e",
   "metadata": {},
   "outputs": [
    {
     "data": {
      "text/plain": [
       "Char"
      ]
     },
     "execution_count": 18,
     "metadata": {},
     "output_type": "execute_result"
    }
   ],
   "source": [
    "s1=\"I am a string\"\n",
    "s2=\"\"\"I am another string\"\"\"\n",
    "\n",
    "typeof('a')#single quotation '' defines a char"
   ]
  },
  {
   "cell_type": "code",
   "execution_count": 19,
   "id": "360ec099",
   "metadata": {},
   "outputs": [
    {
     "name": "stdout",
     "output_type": "stream",
     "text": [
      "hello, my name is Jerry. I am 20 years old.\n"
     ]
    }
   ],
   "source": [
    "#string interpolation\n",
    "my_name=\"Jerry\"\n",
    "my_age=20\n",
    "println(\"hello, my name is $my_name. I am $my_age years old.\")"
   ]
  },
  {
   "cell_type": "code",
   "execution_count": 24,
   "id": "581a2bb6",
   "metadata": {},
   "outputs": [
    {
     "data": {
      "text/plain": [
       "\"I am Jerry\""
      ]
     },
     "execution_count": 24,
     "metadata": {},
     "output_type": "execute_result"
    }
   ],
   "source": [
    "# string concatenation\n",
    "#1. string function: arbitrary # of arguments\n",
    "string(\"I am \",\"Jerry\")\n",
    "string(\"I have \",10,\" fingers\")\n",
    "#2. using *\n",
    "s3=\"I am \"\n",
    "s4=\"Jerry\"\n",
    "s3*s4"
   ]
  },
  {
   "cell_type": "markdown",
   "id": "f457f217",
   "metadata": {},
   "source": [
    "# data structures \n",
    "\n",
    "Types of data structures covered:\n",
    "1. Tuples\n",
    "2. Dictionaries\n",
    "3. Arrays\n",
    "\n",
    "tuples and arrays are both ordered sequences of elements (so we can index into them). Dictionaries and arrays are both mutable."
   ]
  },
  {
   "cell_type": "code",
   "execution_count": 32,
   "id": "9a9c0e28",
   "metadata": {},
   "outputs": [
    {
     "data": {
      "text/plain": [
       "\"penguins\""
      ]
     },
     "execution_count": 32,
     "metadata": {},
     "output_type": "execute_result"
    }
   ],
   "source": [
    "# tuples: tuples are ordered, you can use index\n",
    "myfavoriteanimals = (\"penguins\", \"cats\", \"sugargliders\")\n",
    "\n",
    "myfavoriteanimals[1]# indexing starts at 1\n",
    "#but since tuples are immutable, we can't update it"
   ]
  },
  {
   "cell_type": "code",
   "execution_count": 34,
   "id": "bea9b10f",
   "metadata": {},
   "outputs": [
    {
     "data": {
      "text/plain": [
       "Dict{String, Int64} with 2 entries:\n",
       "  \"Jerry\" => 21\n",
       "  \"Yu\"    => 41"
      ]
     },
     "execution_count": 34,
     "metadata": {},
     "output_type": "execute_result"
    }
   ],
   "source": [
    "# dictionaries\n",
    "peoplebk=Dict(\"Jerry\"=>21,\"Yu\"=>41)\n",
    "\n",
    "# add another entry\n",
    "peoplebk[\"Lindi\"]=42\n",
    "peoplebk\n",
    "\n",
    "#del using pop!\n",
    "pop!(peoplebk,\"Lindi\")\n",
    "peoplebk"
   ]
  },
  {
   "cell_type": "code",
   "execution_count": 42,
   "id": "5bb31f50",
   "metadata": {},
   "outputs": [
    {
     "data": {
      "text/plain": [
       "3-element Vector{String}:\n",
       " \"D\"\n",
       " \"Abby\"\n",
       " \"KK\""
      ]
     },
     "execution_count": 42,
     "metadata": {},
     "output_type": "execute_result"
    }
   ],
   "source": [
    "# arrays: []\n",
    "myfriends=[\"D\",\"Abby\",\"K\"]\n",
    "mixed_elment_type=[\"D\",'a',12]\n",
    "\n",
    "#indexing\n",
    "myfriends[3]\n",
    "\n",
    "#arrays are mutable\n",
    "myfriends[3]=\"KK\"\n",
    "myfriends\n",
    "\n",
    "#push! and pop!\n",
    "push!(myfriends,\"21\")#add to the end\n",
    "pop!(myfriends)\n",
    "myfriends"
   ]
  },
  {
   "cell_type": "code",
   "execution_count": 44,
   "id": "cb00dab4",
   "metadata": {},
   "outputs": [
    {
     "data": {
      "text/plain": [
       "4×3×2 Array{Float64, 3}:\n",
       "[:, :, 1] =\n",
       " 0.888418  0.467293  0.667778\n",
       " 0.695265  0.552508  0.398844\n",
       " 0.891489  0.391124  0.619558\n",
       " 0.464392  0.41798   0.989198\n",
       "\n",
       "[:, :, 2] =\n",
       " 0.81106    0.727234  0.99061\n",
       " 0.0897128  0.769991  0.589503\n",
       " 0.12522    0.920703  0.863909\n",
       " 0.805383   0.363087  0.987041"
      ]
     },
     "execution_count": 44,
     "metadata": {},
     "output_type": "execute_result"
    }
   ],
   "source": [
    "rand(4,3)#create array of any dim pop with rand numbers\n",
    "rand(4,3,2)"
   ]
  },
  {
   "cell_type": "markdown",
   "id": "4610a766",
   "metadata": {},
   "source": [
    "# loops\n",
    "topics:\n",
    "1. while loops\n",
    "\n",
    "\n",
    "2. for loops"
   ]
  },
  {
   "cell_type": "code",
   "execution_count": 47,
   "id": "57b6f4fb",
   "metadata": {},
   "outputs": [
    {
     "name": "stdout",
     "output_type": "stream",
     "text": [
      "1\n",
      "2\n",
      "3\n",
      "4\n",
      "5\n",
      "6\n",
      "7\n",
      "8\n",
      "9\n",
      "10\n"
     ]
    }
   ],
   "source": [
    "#while loop\n",
    "n=0\n",
    "while n<10\n",
    "    n+=1\n",
    "    println(n)\n",
    "end"
   ]
  },
  {
   "cell_type": "code",
   "execution_count": 49,
   "id": "9629812e",
   "metadata": {},
   "outputs": [
    {
     "name": "stdout",
     "output_type": "stream",
     "text": [
      "1\n",
      "2\n",
      "3\n",
      "4\n",
      "5\n",
      "6\n",
      "7\n",
      "8\n",
      "9\n",
      "10\n",
      "hello, Terry\n",
      "hello, Jane\n",
      "hello, Lily\n"
     ]
    }
   ],
   "source": [
    "for i in 1:10\n",
    "    println(i)\n",
    "end\n",
    "\n",
    "myfriends=[\"Terry\",\"Jane\",\"Lily\"]\n",
    "for friend in myfriends\n",
    "    println(\"hello, $friend\")\n",
    "end"
   ]
  },
  {
   "cell_type": "code",
   "execution_count": 52,
   "id": "114e7e03",
   "metadata": {},
   "outputs": [
    {
     "data": {
      "text/plain": [
       "5×5 Matrix{Int64}:\n",
       " 2  3  4  5   6\n",
       " 3  4  5  6   7\n",
       " 4  5  6  7   8\n",
       " 5  6  7  8   9\n",
       " 6  7  8  9  10"
      ]
     },
     "execution_count": 52,
     "metadata": {},
     "output_type": "execute_result"
    }
   ],
   "source": [
    "m,n=5,5\n",
    "A=fill(0,(m,n))\n",
    "\n",
    "# for i in 1:m\n",
    "#     for j in 1:n\n",
    "#         A[i,j]=i+j\n",
    "#     end\n",
    "# end\n",
    "# A\n",
    "for i in 1:m, j in 1:n\n",
    "    A[i,j]=i+j\n",
    "end\n",
    "A"
   ]
  },
  {
   "cell_type": "code",
   "execution_count": 53,
   "id": "923d87c6",
   "metadata": {},
   "outputs": [
    {
     "data": {
      "text/plain": [
       "5×5 Matrix{Int64}:\n",
       " 2  3  4  5   6\n",
       " 3  4  5  6   7\n",
       " 4  5  6  7   8\n",
       " 5  6  7  8   9\n",
       " 6  7  8  9  10"
      ]
     },
     "execution_count": 53,
     "metadata": {},
     "output_type": "execute_result"
    }
   ],
   "source": [
    "\n",
    "C = [i + j for i in 1:m, j in 1:n]"
   ]
  },
  {
   "cell_type": "markdown",
   "id": "64de4a0c",
   "metadata": {},
   "source": [
    "# conditional statements\n"
   ]
  },
  {
   "cell_type": "code",
   "execution_count": 58,
   "id": "ee4f6cdb",
   "metadata": {},
   "outputs": [
    {
     "name": "stdout",
     "output_type": "stream",
     "text": [
      "FizzBuzz\n"
     ]
    }
   ],
   "source": [
    "N=15\n",
    "if (N%3==0) && (N%5==0)# `&&` means \"AND\";\n",
    "    println(\"FizzBuzz\")\n",
    "elseif N%3==0\n",
    "    println(\"Fizz\")\n",
    "elseif N%5==0\n",
    "    println(\"Buzz\")\n",
    "end"
   ]
  },
  {
   "cell_type": "code",
   "execution_count": 61,
   "id": "b9c3ce74",
   "metadata": {},
   "outputs": [
    {
     "data": {
      "text/plain": [
       "30"
      ]
     },
     "execution_count": 61,
     "metadata": {},
     "output_type": "execute_result"
    }
   ],
   "source": [
    "#ternary statements: (condition)?x:y\n",
    "x,y=10,30\n",
    "(x>y) ? x : y"
   ]
  },
  {
   "cell_type": "markdown",
   "id": "21c831cf",
   "metadata": {},
   "source": [
    "# Functions\n",
    "Topics:\n",
    "1. How to declare a function\n",
    "2. Duck-typing in Julia\n",
    "3. Mutating vs. non-mutating functions: By convention, functions followed by ! alter their contents and functions lacking ! do not.\n",
    "4. Some higher order functions\n",
    "* **map** is a \"higher-order\" function in Julia that takes a function as one of its input arguments. map then applies that function to every element of the data structure you pass it\n",
    "* **broadcast**:a generalization of map, so it can do every thing map can do and more; broadcast(f, [1, 2, 3]) <=> f.([1, 2, 3])"
   ]
  },
  {
   "cell_type": "code",
   "execution_count": 68,
   "id": "600079e5",
   "metadata": {},
   "outputs": [
    {
     "name": "stdout",
     "output_type": "stream",
     "text": [
      "hello, Jerry\n",
      "Hi R2D2, it's great to see you!\n",
      "nice to meet you, k\n"
     ]
    }
   ],
   "source": [
    "# declare a function\n",
    "function sayhi(name)\n",
    "    println(\"hello, $name\")\n",
    "end\n",
    "sayhi(\"Jerry\")\n",
    "\n",
    "sayhi2(name) = println(\"Hi $name, it's great to see you!\")\n",
    "sayhi2(\"R2D2\")\n",
    "\n",
    "sayhi3=name->println(\"nice to meet you, $name\")\n",
    "sayhi3(\"k\")"
   ]
  },
  {
   "cell_type": "code",
   "execution_count": 65,
   "id": "a85cd1b0",
   "metadata": {},
   "outputs": [
    {
     "data": {
      "text/plain": [
       "1764"
      ]
     },
     "execution_count": 65,
     "metadata": {},
     "output_type": "execute_result"
    }
   ],
   "source": [
    "function f(x)\n",
    "    x^2\n",
    "end\n",
    "\n",
    "f(42)"
   ]
  },
  {
   "cell_type": "code",
   "execution_count": 70,
   "id": "ce102255",
   "metadata": {},
   "outputs": [
    {
     "data": {
      "text/plain": [
       "3-element Vector{Int64}:\n",
       " 3\n",
       " 5\n",
       " 2"
      ]
     },
     "execution_count": 70,
     "metadata": {},
     "output_type": "execute_result"
    }
   ],
   "source": [
    "# mutating and non-mutating functions\n",
    "v=[3,5,2]\n",
    "\n",
    "sort(v)\n",
    "v#sort is non-mutationg; it does not make any changes to v"
   ]
  },
  {
   "cell_type": "code",
   "execution_count": 72,
   "id": "a9b65f29",
   "metadata": {},
   "outputs": [
    {
     "data": {
      "text/plain": [
       "3-element Vector{Int64}:\n",
       " 2\n",
       " 3\n",
       " 5"
      ]
     },
     "execution_count": 72,
     "metadata": {},
     "output_type": "execute_result"
    }
   ],
   "source": [
    "sort!(v)#mutating function; v is being modified\n",
    "v"
   ]
  },
  {
   "cell_type": "code",
   "execution_count": 77,
   "id": "9c26912b",
   "metadata": {},
   "outputs": [
    {
     "data": {
      "text/plain": [
       "3-element Vector{Int64}:\n",
       " 1\n",
       " 4\n",
       " 9"
      ]
     },
     "execution_count": 77,
     "metadata": {},
     "output_type": "execute_result"
    }
   ],
   "source": [
    "#higher order fucntions\n",
    "#1. map\n",
    "map(x->x^3,[1,2,3])\n",
    "# 2. broadcast\n",
    "broadcast(f,[1,2,3])\n",
    "f.([1,2,3])#We can square every element of a vector, but we can't square a vector!\n",
    "# f([1,2,3])#it does not work"
   ]
  },
  {
   "cell_type": "code",
   "execution_count": 83,
   "id": "0e7e20c7",
   "metadata": {},
   "outputs": [
    {
     "data": {
      "text/plain": [
       "3×3 Matrix{Float64}:\n",
       "  3.0   6.0   9.0\n",
       " 12.0  15.0  18.0\n",
       " 21.0  24.0  27.0"
      ]
     },
     "execution_count": 83,
     "metadata": {},
     "output_type": "execute_result"
    }
   ],
   "source": [
    "A=[i+3*j for j in 0:2, i in 1:3]\n",
    "A .+ 2 .* f.(A) ./ A\n",
    "\n",
    "broadcast(x->x+2*f(x)/x,A)"
   ]
  },
  {
   "cell_type": "code",
   "execution_count": null,
   "id": "ae50935d",
   "metadata": {},
   "outputs": [],
   "source": []
  }
 ],
 "metadata": {
  "kernelspec": {
   "display_name": "Julia 1.6.7",
   "language": "julia",
   "name": "julia-1.6"
  },
  "language_info": {
   "file_extension": ".jl",
   "mimetype": "application/julia",
   "name": "julia",
   "version": "1.6.7"
  }
 },
 "nbformat": 4,
 "nbformat_minor": 5
}
