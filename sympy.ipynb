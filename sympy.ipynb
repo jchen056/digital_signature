{
 "cells": [
  {
   "cell_type": "code",
   "execution_count": 1,
   "id": "1170f694",
   "metadata": {},
   "outputs": [],
   "source": [
    "from sympy import symbols, Matrix\n",
    "from sympy import expand, factor #expand and factor expressions\n",
    "import random\n",
    "import numpy as np\n",
    "from sympy import Matrix,eye,det,zeros,simplify\n",
    "import time"
   ]
  },
  {
   "cell_type": "markdown",
   "id": "0fbe1dd4",
   "metadata": {},
   "source": [
    "[Sympy doc] (https://docs.sympy.org/latest/tutorials/intro-tutorial/index.html)\n",
    "\n",
    "1. Symbolic computation: manipulating irrational numbers exactly using SymPy, computing symbolic expressions with variables.\n",
    "2. most simplifications in Sympy are not performed automatically.\n",
    "3. SymPy can simplify expressions, compute derivatives, integrals, and limits, solve equations, work with matrices, and much, much more, and do it all symbolically.\n",
    "\n"
   ]
  },
  {
   "cell_type": "code",
   "execution_count": 2,
   "id": "11aead49",
   "metadata": {},
   "outputs": [
    {
     "data": {
      "text/latex": [
       "$\\displaystyle x \\left(x + 2 y\\right)$"
      ],
      "text/plain": [
       "x*(x + 2*y)"
      ]
     },
     "execution_count": 2,
     "metadata": {},
     "output_type": "execute_result"
    }
   ],
   "source": [
    "x,y=symbols('x y')\n",
    "expr=x+2*y\n",
    "expanded_expr=expand(x*expr)\n",
    "factor(expanded_expr)"
   ]
  },
  {
   "cell_type": "markdown",
   "id": "265e8e45",
   "metadata": {},
   "source": [
    "some rules:\n",
    "* To define variables, we must use symbols.\n",
    "* if a variable is changed, expressions that were already created with that variable do not change automatically\n",
    "* == represents exact structural equality testing. “Exact” here means that two expressions will compare equal with == only if they are exactly equal structurally.\n",
    "* the best way to check whether a-b: subtract, simplify(b-a), and see whether you get 0 or a.equals(b)"
   ]
  },
  {
   "cell_type": "code",
   "execution_count": 2,
   "id": "6331d1fa",
   "metadata": {},
   "outputs": [
    {
     "data": {
      "text/latex": [
       "$\\displaystyle 3$"
      ],
      "text/plain": [
       "3"
      ]
     },
     "execution_count": 2,
     "metadata": {},
     "output_type": "execute_result"
    }
   ],
   "source": [
    "x = symbols('x')\n",
    "expr = x + 1\n",
    "# x = 2\n",
    "#print(expr)#changes made to x has no effects in expr, which is created before the chg\n",
    "expr.subs(x, 2)"
   ]
  },
  {
   "cell_type": "markdown",
   "id": "3896f79f",
   "metadata": {},
   "source": [
    "Converting Strings to SymPy Expressions\n",
    "**sympify**, not to be confused with simplify"
   ]
  },
  {
   "cell_type": "markdown",
   "id": "5361c9d1",
   "metadata": {},
   "source": [
    "# Key Generation"
   ]
  },
  {
   "cell_type": "code",
   "execution_count": 3,
   "id": "67c369bf",
   "metadata": {},
   "outputs": [],
   "source": [
    "def modify_coefficients(A,q):\n",
    "    B=A.as_coefficients_dict()\n",
    "    sparse_poly_mod=0\n",
    "    for key, value in B.items():\n",
    "        if value>q-1:\n",
    "            if value%(q-1)==0:\n",
    "                sparse_poly_mod+=(q-1)*key\n",
    "            else:\n",
    "                sparse_poly_mod+=(value%(q))*key\n",
    "        else:\n",
    "            sparse_poly_mod+=value*key\n",
    "    return sparse_poly_mod\n"
   ]
  },
  {
   "cell_type": "code",
   "execution_count": 5,
   "id": "079c6210",
   "metadata": {},
   "outputs": [
    {
     "data": {
      "text/plain": [
       "defaultdict(int, {x3: 1, x3**3: 1, x2: 3, x1: 4, x2*x3**2: 5})"
      ]
     },
     "execution_count": 5,
     "metadata": {},
     "output_type": "execute_result"
    }
   ],
   "source": [
    "def poly_n_variables(n):\n",
    "    K=[]\n",
    "    for i in range(n):\n",
    "        x='x'+str(i)\n",
    "        K.append(x)\n",
    "    return K\n",
    "\n",
    "def sparse_polynomial(n,t,b,q):#t monomials, bound the degree of monomials by an integer b\n",
    "    K=poly_n_variables(n)\n",
    "    \n",
    "    sparse_poly=0\n",
    "    for i in range(t):\n",
    "        deg=random.randint(1,b)\n",
    "        monomoial_d=1\n",
    "        \n",
    "        for i in range(deg):\n",
    "            monomoial_d*=symbols(random.choice(K))\n",
    "            \n",
    "        sparse_poly+=random.randint(1,q-1)*monomoial_d\n",
    "        \n",
    "#     print(sparse_poly)\n",
    "    return modify_coefficients(sparse_poly,q)\n",
    "     \n",
    "#do some maniculation about the coefficient of the monomial, making sure it is less than= 5; if greater, modulo 6\n",
    "\n",
    "sparse_polynomial(4,5,3,6).as_coefficients_dict()\n"
   ]
  },
  {
   "cell_type": "markdown",
   "id": "a524da5f",
   "metadata": {},
   "source": [
    "# Generate the matrix"
   ]
  },
  {
   "cell_type": "code",
   "execution_count": 9,
   "id": "3a633b6e",
   "metadata": {},
   "outputs": [
    {
     "data": {
      "text/latex": [
       "$\\displaystyle \\left[\\begin{matrix}1 & 0 & 0 & 0\\\\0 & 1 & 0 & 0\\\\0 & 0 & 1 & 0\\\\0 & 0 & 0 & 1\\end{matrix}\\right]$"
      ],
      "text/plain": [
       "Matrix([\n",
       "[1, 0, 0, 0],\n",
       "[0, 1, 0, 0],\n",
       "[0, 0, 1, 0],\n",
       "[0, 0, 0, 1]])"
      ]
     },
     "execution_count": 9,
     "metadata": {},
     "output_type": "execute_result"
    }
   ],
   "source": [
    "def generate_U(k,n,t,B,q):\n",
    "    I=eye(k)\n",
    "    \n",
    "    for i in range(int((k*k-k)/2)):\n",
    "        b=random.randint(1,k-1)\n",
    "        a=random.randint(0,b-1)\n",
    "        I[a,b]=sparse_polynomial(n,t,B,q)\n",
    "    return I\n",
    "    \n",
    "def generate_L(k,n,t,B,q):\n",
    "    I=eye(k)\n",
    "    \n",
    "    for i in range(int((k*k-k)/2)):\n",
    "        a=random.randint(1,k-1)\n",
    "        b=random.randint(0,a-1)\n",
    "        I[a,b]=sparse_polynomial(n,t,B,q)\n",
    "    return I\n",
    "\n",
    "A=generate_U(4,32,5,6,6)\n",
    "B=A.inv(method=\"LU\")\n",
    "A*B"
   ]
  },
  {
   "cell_type": "code",
   "execution_count": 90,
   "id": "167cd912",
   "metadata": {},
   "outputs": [
    {
     "data": {
      "text/latex": [
       "$\\displaystyle \\left[\\begin{matrix}0 & 0 & 0\\\\0 & 0 & 0\\end{matrix}\\right]$"
      ],
      "text/plain": [
       "Matrix([\n",
       "[0, 0, 0],\n",
       "[0, 0, 0]])"
      ]
     },
     "execution_count": 90,
     "metadata": {},
     "output_type": "execute_result"
    }
   ],
   "source": [
    "zeros(2,3)"
   ]
  },
  {
   "cell_type": "code",
   "execution_count": 10,
   "id": "13978a2d",
   "metadata": {},
   "outputs": [
    {
     "data": {
      "text/latex": [
       "$\\displaystyle \\left[\\begin{matrix}1 & 0 & 0\\\\0 & 0 & 1\\\\0 & 1 & 0\\end{matrix}\\right]$"
      ],
      "text/plain": [
       "Matrix([\n",
       "[1, 0, 0],\n",
       "[0, 0, 1],\n",
       "[0, 1, 0]])"
      ]
     },
     "execution_count": 10,
     "metadata": {},
     "output_type": "execute_result"
    }
   ],
   "source": [
    "\n",
    "def col_permutation(matrix):\n",
    "    col_permutation = random.sample(range(matrix.cols), matrix.cols)\n",
    "#     permuted_matrix = matrix.permute_cols(col_permutation)\n",
    "    \n",
    "    I=zeros(len(col_permutation))\n",
    "    for i in range(len(col_permutation)):\n",
    "        I[i,col_permutation[i]]=1\n",
    "#     print(I.inv())\n",
    "#     print(matrix*I.inv())\n",
    "    \n",
    "    return I.inv()\n",
    "col_permutation(Matrix([[1, 4, 7], [2, 5, 8], [3, 6, 9]]))\n"
   ]
  },
  {
   "cell_type": "code",
   "execution_count": 13,
   "id": "1799692d",
   "metadata": {},
   "outputs": [
    {
     "data": {
      "text/plain": [
       "{3}"
      ]
     },
     "execution_count": 13,
     "metadata": {},
     "output_type": "execute_result"
    }
   ],
   "source": [
    "def find_cols_rm(A,B):\n",
    "    cols=[]\n",
    "    for i in range(B.cols):\n",
    "        for j in range(A.cols):\n",
    "            if B[:,i]==A[:,j]:\n",
    "                cols.append(j)\n",
    "    col_rm=set(range(A.cols))\n",
    "    for i in cols:\n",
    "        col_rm.remove(i)\n",
    "    return col_rm\n",
    "            \n",
    "find_cols_rm(Matrix([[5, 6, 6,8], [2, 2, 2,8], [6, 6, 2,8],[2,3,6,7]]),Matrix([\n",
    "[5, 6, 6],\n",
    "[2, 2, 2],\n",
    "[6, 6, 2],\n",
    "[2, 3, 6]]))"
   ]
  },
  {
   "cell_type": "code",
   "execution_count": 39,
   "id": "bdfc3d63",
   "metadata": {},
   "outputs": [
    {
     "data": {
      "text/latex": [
       "$\\displaystyle \\left[\\begin{matrix}-17 & -9 & 12 & 16\\\\17 & \\frac{35}{4} & - \\frac{47}{4} & -16\\\\-4 & - \\frac{9}{4} & \\frac{11}{4} & 4\\\\1 & \\frac{3}{4} & - \\frac{3}{4} & -1\\end{matrix}\\right]$"
      ],
      "text/plain": [
       "Matrix([\n",
       "[-17,   -9,    12,  16],\n",
       "[ 17, 35/4, -47/4, -16],\n",
       "[ -4, -9/4,  11/4,   4],\n",
       "[  1,  3/4,  -3/4,  -1]])"
      ]
     },
     "execution_count": 39,
     "metadata": {},
     "output_type": "execute_result"
    }
   ],
   "source": [
    "\n",
    "# def random_del_columns(k,l,matrix):\n",
    "# #     col_indices = random.sample(range(matrix.cols), k-l)#ramdonly rm k-l cols\n",
    "# #     print(col_indices)\n",
    "#     temp=matrix.copy()\n",
    "#     for i in range(int(k-l)):\n",
    "#         j=random.randint(0,matrix.cols-1)\n",
    "#         matrix.col_del(j)\n",
    "#     col_rm=find_cols_rm(temp,matrix)\n",
    "# #     print(col_rm)\n",
    "# #     print(matrix)\n",
    "#     return col_rm,matrix\n",
    "\n",
    "# start = time.time()\n",
    "# a,b=random_del_columns(4,3,Matrix([[5, 6, 6,8], [2, 2, 2,8], [6, 6, 2,8],[2,3,6,7]]))\n",
    "# print(a)\n",
    "# print(b)\n",
    "Matrix([[5, 6, 6,8], [2, 2, 2,8], [6, 6, 2,8],[2,3,6,7]]).inv()"
   ]
  },
  {
   "cell_type": "code",
   "execution_count": 13,
   "id": "06fe0aed",
   "metadata": {},
   "outputs": [
    {
     "data": {
      "text/plain": [
       "([0, 1],\n",
       " Matrix([\n",
       " [5, 6],\n",
       " [2, 2],\n",
       " [6, 6],\n",
       " [2, 3]]))"
      ]
     },
     "execution_count": 13,
     "metadata": {},
     "output_type": "execute_result"
    }
   ],
   "source": [
    "def random_del_columns(k,l,matrix):\n",
    "    col_opts=[i for i in range(l)]\n",
    "#     for i in range(k-l):\n",
    "#         random_element=random.choice(col_opts)\n",
    "#         col_opts.remove(random_element)\n",
    "    \n",
    "    matrix_kl=zeros(k,l)\n",
    "    \n",
    "    j=0\n",
    "    for i in col_opts:\n",
    "        matrix_kl[:,j]=matrix[:,i]\n",
    "        j+=1\n",
    "    return col_opts,matrix_kl\n",
    "\n",
    "random_del_columns(4,2,Matrix([[5, 6, 6,8], [2, 2, 2,8], [6, 6, 2,8],[2,3,6,7]]))"
   ]
  },
  {
   "cell_type": "code",
   "execution_count": 10,
   "id": "ce541d2e",
   "metadata": {},
   "outputs": [
    {
     "data": {
      "text/latex": [
       "$\\displaystyle \\left[\\begin{matrix}1 & 4 & 7\\\\2 & 5 & 8\\\\3 & 6 & 9\\end{matrix}\\right]$"
      ],
      "text/plain": [
       "Matrix([\n",
       "[1, 4, 7],\n",
       "[2, 5, 8],\n",
       "[3, 6, 9]])"
      ]
     },
     "execution_count": 10,
     "metadata": {},
     "output_type": "execute_result"
    }
   ],
   "source": [
    "def multiply_out(sample_M):\n",
    "    for i in range(sample_M.rows):\n",
    "        for j in range(sample_M.cols):\n",
    "            sample_M[i,j]=expand(sample_M[i,j])\n",
    "    return sample_M\n",
    "\n",
    "multiply_out(Matrix([[1, 4], [2, 5, 8], [3, 6, 9]]))"
   ]
  },
  {
   "cell_type": "code",
   "execution_count": 15,
   "id": "73f745e5",
   "metadata": {},
   "outputs": [
    {
     "data": {
      "text/latex": [
       "$\\displaystyle \\left[\\begin{matrix}-17 & -9 & 12 & 16\\\\17 & 8.75 & -11.75 & -16\\end{matrix}\\right]$"
      ],
      "text/plain": [
       "Matrix([\n",
       "[-17,   -9,     12,  16],\n",
       "[ 17, 8.75, -11.75, -16]])"
      ]
     },
     "execution_count": 15,
     "metadata": {},
     "output_type": "execute_result"
    }
   ],
   "source": [
    "def find_kl_inverse(to_keep,S_inv):#find the inverse of kl_matrix\n",
    "    \n",
    "    k=S_inv.rows\n",
    "    \n",
    "#     to_keep=set(range(k))#rows to keep\n",
    "    \n",
    "#     for i in col_rm:\n",
    "#         to_keep.remove(i)\n",
    "        \n",
    "    ml_inv=zeros(len(to_keep),k)\n",
    "    \n",
    "    j=0\n",
    "    for i in to_keep:\n",
    "        ml_inv[j,:]=S_inv[i,:]\n",
    "        j+=1\n",
    "    return ml_inv\n",
    "\n",
    "find_kl_inverse([0,1],Matrix([[-17,-9,12,16],[17,35/4,-47/4,-16],[-4,-9/4,11/4,4],[1,3/4,-3/4,-1]]))"
   ]
  },
  {
   "cell_type": "code",
   "execution_count": 24,
   "id": "0deb18aa",
   "metadata": {},
   "outputs": [
    {
     "name": "stdout",
     "output_type": "stream",
     "text": [
      "0.17069506645202637\n"
     ]
    }
   ],
   "source": [
    "def matrix_kl(k,l,s,n,t,B,q):#k,l are the dimensions of the matrix, s is the several, a small number\n",
    "    Ls=[]\n",
    "    Us=[]\n",
    "    for i in range(s):\n",
    "        U=generate_U(k,n,t,B,q)\n",
    "        L=generate_L(k,n,t,B,q)\n",
    "        Us.append(U)\n",
    "        Ls.append(L)\n",
    "        \n",
    "    U_new=random.choice(Us)\n",
    "    L_new=random.choice(Ls)\n",
    "    Ms=Us+Ls\n",
    "    \n",
    "    P1=col_permutation(U_new)\n",
    "    T1=random.choice(Ms)\n",
    "    P2=col_permutation(U_new)\n",
    "#     T2=random.choice(Ms)\n",
    "    P3=col_permutation(U_new)\n",
    "    \n",
    "    \n",
    "#     kk_matrix=U_new*L_new*P1*T1*P2*T2*P3\n",
    "#     S_inv=P3.inv(method=\"LU\")*T2.inv(method=\"LU\")*P2.inv(method=\"LU\")*T1.inv(method=\"LU\")*P1.inv(method=\"LU\")*L_new.inv(method=\"LU\")*U_new.inv(method=\"LU\")\n",
    "#     kk_matrix=U_new*P1*L_new*P2*T1*P3\n",
    "    kk_matrix=L_new*U_new\n",
    "    kk=kk_matrix.copy()\n",
    "    #S_inv=P3.inv(method=\"LU\")*T1.inv(method=\"LU\")*P2.inv(method=\"LU\")*L_new.inv(method=\"LU\")*P1.inv(method=\"LU\")*U_new.inv(method=\"LU\")\n",
    "    S_inv=U_new.inv(method=\"LU\")*L_new.inv(method=\"LU\")\n",
    "#     print(kk*S_inv)\n",
    "\n",
    "    col_rm,kl_matrix=random_del_columns(k,l,kk_matrix)\n",
    "    \n",
    "    kl_inverse=find_kl_inverse(col_rm,S_inv)\n",
    "    return kk,S_inv,kl_matrix, kl_inverse\n",
    "\n",
    "\n",
    "start = time.time()\n",
    "kk,A,B,C=matrix_kl(4,3,5,32,3,5,6)\n",
    "end = time.time()\n",
    "print(end - start)"
   ]
  },
  {
   "cell_type": "code",
   "execution_count": 44,
   "id": "0101c35a",
   "metadata": {},
   "outputs": [
    {
     "data": {
      "text/plain": [
       "(3, 4)"
      ]
     },
     "execution_count": 44,
     "metadata": {},
     "output_type": "execute_result"
    }
   ],
   "source": []
  },
  {
   "cell_type": "code",
   "execution_count": 25,
   "id": "a80e8a3a",
   "metadata": {},
   "outputs": [],
   "source": [
    "substitution_ls=[]\n",
    "K=poly_n_variables(32)\n",
    "for i in range(0,32):\n",
    "    substitution_ls.append((symbols(K[i]),random.randint(0,5)))\n",
    "\n",
    "I_exp=B*C"
   ]
  },
  {
   "cell_type": "code",
   "execution_count": 26,
   "id": "2e3d1c6f",
   "metadata": {},
   "outputs": [
    {
     "data": {
      "text/latex": [
       "$\\displaystyle \\left[\\begin{matrix}44438005 & -1571436 & 18720 & -18\\\\1733082156 & -61286003 & 730080 & -702\\\\39994203600 & -1414292400 & 16848001 & -16200\\\\2468778 & -87302 & 1040 & 0\\end{matrix}\\right]$"
      ],
      "text/plain": [
       "Matrix([\n",
       "[   44438005,    -1571436,    18720,    -18],\n",
       "[ 1733082156,   -61286003,   730080,   -702],\n",
       "[39994203600, -1414292400, 16848001, -16200],\n",
       "[    2468778,      -87302,     1040,      0]])"
      ]
     },
     "execution_count": 26,
     "metadata": {},
     "output_type": "execute_result"
    }
   ],
   "source": [
    "\n",
    "for i in range(I_exp.rows):\n",
    "    for j in range(I_exp.cols):\n",
    "        I_exp[i,j]=I_exp[i,j].subs(substitution_ls)\n",
    "        \n",
    "I_exp"
   ]
  },
  {
   "cell_type": "code",
   "execution_count": 25,
   "id": "889ed016",
   "metadata": {},
   "outputs": [
    {
     "data": {
      "text/latex": [
       "$\\displaystyle \\left[\\begin{matrix}1 & 0 & 0 & 0 & 0\\\\0 & 1 & 0 & 0 & 0\\\\0 & 0 & 1 & 0 & 0\\\\0 & 0 & 0 & 1 & 0\\\\0 & 0 & 0 & 0 & 1\\end{matrix}\\right]$"
      ],
      "text/plain": [
       "Matrix([\n",
       "[1, 0, 0, 0, 0],\n",
       "[0, 1, 0, 0, 0],\n",
       "[0, 0, 1, 0, 0],\n",
       "[0, 0, 0, 1, 0],\n",
       "[0, 0, 0, 0, 1]])"
      ]
     },
     "execution_count": 25,
     "metadata": {},
     "output_type": "execute_result"
    }
   ],
   "source": []
  },
  {
   "cell_type": "code",
   "execution_count": 43,
   "id": "f688c7ae",
   "metadata": {},
   "outputs": [
    {
     "data": {
      "text/latex": [
       "$\\displaystyle x^{2} - 1$"
      ],
      "text/plain": [
       "x**2 - 1"
      ]
     },
     "execution_count": 43,
     "metadata": {},
     "output_type": "execute_result"
    }
   ],
   "source": [
    "x, y, z = symbols('x y z')\n",
    "expand((x+1)*(x-1))"
   ]
  },
  {
   "cell_type": "markdown",
   "id": "4d137f9f",
   "metadata": {},
   "source": [
    "# Finding the inverse"
   ]
  },
  {
   "cell_type": "code",
   "execution_count": 28,
   "id": "919fe07b",
   "metadata": {},
   "outputs": [
    {
     "data": {
      "text/latex": [
       "$\\displaystyle 1$"
      ],
      "text/plain": [
       "1"
      ]
     },
     "execution_count": 28,
     "metadata": {},
     "output_type": "execute_result"
    }
   ],
   "source": [
    "M2=Matrix([[2,1],[7,4]])\n",
    "M2.inv(method=\"LU\")\n",
    "\n",
    "# M2.adjugate()#the transpose of the matrix of cofactors.\n",
    "# det(M2)"
   ]
  },
  {
   "cell_type": "code",
   "execution_count": null,
   "id": "b567d7d2",
   "metadata": {},
   "outputs": [],
   "source": []
  },
  {
   "cell_type": "code",
   "execution_count": 128,
   "id": "fd5c5790",
   "metadata": {},
   "outputs": [
    {
     "name": "stdout",
     "output_type": "stream",
     "text": [
      "generatingb l polynomials\n",
      "0.025541067123413086\n"
     ]
    },
    {
     "data": {
      "text/plain": [
       "(1, 5)"
      ]
     },
     "execution_count": 128,
     "metadata": {},
     "output_type": "execute_result"
    }
   ],
   "source": [
    "def vector_t_polynomials(n,l,t,b,q): #l is the number of polynomials, q the remainder of 256%l\n",
    "    U=[]\n",
    "    for i in range(l):\n",
    "        P=sparse_polynomial(n,t,b,q)\n",
    "        U.append(P)\n",
    "    return U\n",
    "\n",
    "print(\"generatingb l polynomials\")\n",
    "start = time.time()\n",
    "matrix_l_poly=Matrix(vector_t_polynomials(32,5,4,5,6)).T\n",
    "end = time.time()\n",
    "print(end - start)\n",
    "\n",
    "matrix_l_poly.shape\n"
   ]
  },
  {
   "cell_type": "code",
   "execution_count": 129,
   "id": "ddf02148",
   "metadata": {},
   "outputs": [
    {
     "name": "stdout",
     "output_type": "stream",
     "text": [
      "0.020200252532958984\n"
     ]
    }
   ],
   "source": [
    "start = time.time()\n",
    "D=matrix_l_poly*C\n",
    "end = time.time()\n",
    "print(end - start)"
   ]
  },
  {
   "cell_type": "code",
   "execution_count": 130,
   "id": "89da4204",
   "metadata": {},
   "outputs": [
    {
     "data": {
      "text/latex": [
       "$\\displaystyle \\left[\\begin{matrix}0 & 0 & 0 & 0 & 0 & 0 & 0 & x_{1} x_{12} x_{5}^{2} + 4 x_{11} x_{24} x_{27} x_{3} x_{7} + x_{13} x_{20} x_{27} + 5 x_{15} & \\left(- x_{0} x_{11} - 2 x_{0} x_{5}^{2} - 2 x_{15} x_{18} x_{28} x_{31} - 3 x_{26} x_{8}\\right) \\left(x_{1} x_{12} x_{5}^{2} + 4 x_{11} x_{24} x_{27} x_{3} x_{7} + x_{13} x_{20} x_{27} + 5 x_{15}\\right) & \\left(x_{1} x_{12} x_{5}^{2} + 4 x_{11} x_{24} x_{27} x_{3} x_{7} + x_{13} x_{20} x_{27} + 5 x_{15}\\right) \\left(- 3 x_{0}^{2} x_{1} x_{25} x_{9} - 2 x_{12} x_{24} x_{26} x_{29} - x_{18} - x_{29}\\right)\\end{matrix}\\right]$"
      ],
      "text/plain": [
       "Matrix([[0, 0, 0, 0, 0, 0, 0, x1*x12*x5**2 + 4*x11*x24*x27*x3*x7 + x13*x20*x27 + 5*x15, (-x0*x11 - 2*x0*x5**2 - 2*x15*x18*x28*x31 - 3*x26*x8)*(x1*x12*x5**2 + 4*x11*x24*x27*x3*x7 + x13*x20*x27 + 5*x15), (x1*x12*x5**2 + 4*x11*x24*x27*x3*x7 + x13*x20*x27 + 5*x15)*(-3*x0**2*x1*x25*x9 - 2*x12*x24*x26*x29 - x18 - x29)]])"
      ]
     },
     "execution_count": 130,
     "metadata": {},
     "output_type": "execute_result"
    }
   ],
   "source": []
  },
  {
   "cell_type": "code",
   "execution_count": null,
   "id": "461a6bfd",
   "metadata": {},
   "outputs": [],
   "source": []
  }
 ],
 "metadata": {
  "kernelspec": {
   "display_name": "Python 3 (ipykernel)",
   "language": "python",
   "name": "python3"
  },
  "language_info": {
   "codemirror_mode": {
    "name": "ipython",
    "version": 3
   },
   "file_extension": ".py",
   "mimetype": "text/x-python",
   "name": "python",
   "nbconvert_exporter": "python",
   "pygments_lexer": "ipython3",
   "version": "3.9.12"
  }
 },
 "nbformat": 4,
 "nbformat_minor": 5
}
