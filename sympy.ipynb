{
 "cells": [
  {
   "cell_type": "code",
   "execution_count": 16,
   "id": "1170f694",
   "metadata": {},
   "outputs": [],
   "source": [
    "from sympy import symbols, Matrix\n",
    "from sympy import expand, factor #expand and factor expressions\n",
    "import random\n",
    "import numpy as np\n",
    "from sympy import Matrix,eye,det,zeros"
   ]
  },
  {
   "cell_type": "markdown",
   "id": "0fbe1dd4",
   "metadata": {},
   "source": [
    "[Sympy doc] (https://docs.sympy.org/latest/tutorials/intro-tutorial/index.html)\n",
    "\n",
    "1. Symbolic computation: manipulating irrational numbers exactly using SymPy, computing symbolic expressions with variables.\n",
    "2. most simplifications in Sympy are not performed automatically.\n",
    "3. SymPy can simplify expressions, compute derivatives, integrals, and limits, solve equations, work with matrices, and much, much more, and do it all symbolically.\n",
    "\n"
   ]
  },
  {
   "cell_type": "code",
   "execution_count": 4,
   "id": "11aead49",
   "metadata": {},
   "outputs": [
    {
     "data": {
      "text/latex": [
       "$\\displaystyle x \\left(x + 2 y\\right)$"
      ],
      "text/plain": [
       "x*(x + 2*y)"
      ]
     },
     "execution_count": 4,
     "metadata": {},
     "output_type": "execute_result"
    }
   ],
   "source": [
    "x,y=symbols('x y')\n",
    "expr=x+2*y\n",
    "expanded_expr=expand(x*expr)\n",
    "factor(expanded_expr)"
   ]
  },
  {
   "cell_type": "markdown",
   "id": "265e8e45",
   "metadata": {},
   "source": [
    "some rules:\n",
    "* To define variables, we must use symbols.\n",
    "* if a variable is changed, expressions that were already created with that variable do not change automatically\n",
    "* == represents exact structural equality testing. “Exact” here means that two expressions will compare equal with == only if they are exactly equal structurally.\n",
    "* the best way to check whether a-b: subtract, simplify(b-a), and see whether you get 0 or a.equals(b)"
   ]
  },
  {
   "cell_type": "code",
   "execution_count": 33,
   "id": "6331d1fa",
   "metadata": {},
   "outputs": [
    {
     "data": {
      "text/latex": [
       "$\\displaystyle 3$"
      ],
      "text/plain": [
       "3"
      ]
     },
     "execution_count": 33,
     "metadata": {},
     "output_type": "execute_result"
    }
   ],
   "source": [
    "x = symbols('x')\n",
    "expr = x + 1\n",
    "# x = 2\n",
    "#print(expr)#changes made to x has no effects in expr, which is created before the chg\n",
    "expr.subs(x, 2)"
   ]
  },
  {
   "cell_type": "markdown",
   "id": "3896f79f",
   "metadata": {},
   "source": [
    "Converting Strings to SymPy Expressions\n",
    "**sympify**, not to be confused with simplify"
   ]
  },
  {
   "cell_type": "markdown",
   "id": "5361c9d1",
   "metadata": {},
   "source": [
    "# Key Generation"
   ]
  },
  {
   "cell_type": "code",
   "execution_count": 2,
   "id": "079c6210",
   "metadata": {},
   "outputs": [
    {
     "data": {
      "text/latex": [
       "$\\displaystyle 2 x_{0} + x_{14} x_{17} x_{9}^{2} + 5 x_{14} x_{29} x_{7} + 2 x_{16} + x_{18} x_{22}$"
      ],
      "text/plain": [
       "2*x0 + x14*x17*x9**2 + 5*x14*x29*x7 + 2*x16 + x18*x22"
      ]
     },
     "execution_count": 2,
     "metadata": {},
     "output_type": "execute_result"
    }
   ],
   "source": [
    "def poly_n_variables(n):\n",
    "    K=[]\n",
    "    for i in range(n):\n",
    "        x='x'+str(i)\n",
    "        K.append(x)\n",
    "    return K\n",
    "\n",
    "def sparse_polynomial(n,t,b,q):#t monomials, bound the degree of monomials by an integer b\n",
    "    K=poly_n_variables(n)\n",
    "    sparse_poly=0\n",
    "    \n",
    "    for i in range(t):\n",
    "        deg=random.randint(1,b)\n",
    "        monomoial_d=1\n",
    "        \n",
    "        for i in range(deg):\n",
    "            monomoial_d*=symbols(random.choice(K))\n",
    "        sparse_poly+=random.randint(1,q-1)*monomoial_d\n",
    "    return sparse_poly\n",
    "\n",
    "sparse_polynomial(32,5,5,6)"
   ]
  },
  {
   "cell_type": "markdown",
   "id": "a524da5f",
   "metadata": {},
   "source": [
    "# Generate the matrix"
   ]
  },
  {
   "cell_type": "code",
   "execution_count": 6,
   "id": "3a633b6e",
   "metadata": {},
   "outputs": [
    {
     "data": {
      "text/latex": [
       "$\\displaystyle \\left[\\begin{matrix}1 & 0 & 0 & 0\\\\0 & 1 & 0 & 0\\\\0 & 0 & 1 & 0\\\\0 & 0 & 0 & 1\\end{matrix}\\right]$"
      ],
      "text/plain": [
       "Matrix([\n",
       "[1, 0, 0, 0],\n",
       "[0, 1, 0, 0],\n",
       "[0, 0, 1, 0],\n",
       "[0, 0, 0, 1]])"
      ]
     },
     "execution_count": 6,
     "metadata": {},
     "output_type": "execute_result"
    }
   ],
   "source": [
    "def generate_U(k,n,t,B,q):\n",
    "    I=eye(k)\n",
    "    \n",
    "    for i in range(int((k*k-k)/2)):\n",
    "        b=random.randint(1,k-1)\n",
    "        a=random.randint(0,b-1)\n",
    "        I[a,b]=sparse_polynomial(n,t,B,q)\n",
    "    return I\n",
    "    \n",
    "def generate_L(k,n,t,B,q):\n",
    "    I=eye(k)\n",
    "    \n",
    "    for i in range(int((k*k-k)/2)):\n",
    "        a=random.randint(1,k-1)\n",
    "        b=random.randint(0,a-1)\n",
    "        I[a,b]=sparse_polynomial(n,t,B,q)\n",
    "    return I\n",
    "\n",
    "A=generate_U(4,32,5,6,6)\n",
    "B=A.inv(method=\"LU\")\n",
    "A*B"
   ]
  },
  {
   "cell_type": "code",
   "execution_count": 17,
   "id": "167cd912",
   "metadata": {},
   "outputs": [
    {
     "data": {
      "text/latex": [
       "$\\displaystyle \\left[\\begin{matrix}0 & 0 & 0\\\\0 & 0 & 0\\\\0 & 0 & 0\\end{matrix}\\right]$"
      ],
      "text/plain": [
       "Matrix([\n",
       "[0, 0, 0],\n",
       "[0, 0, 0],\n",
       "[0, 0, 0]])"
      ]
     },
     "execution_count": 17,
     "metadata": {},
     "output_type": "execute_result"
    }
   ],
   "source": [
    "zeros(3)"
   ]
  },
  {
   "cell_type": "code",
   "execution_count": 28,
   "id": "13978a2d",
   "metadata": {},
   "outputs": [
    {
     "data": {
      "text/latex": [
       "$\\displaystyle \\left[\\begin{matrix}0 & 0 & 1\\\\1 & 0 & 0\\\\0 & 1 & 0\\end{matrix}\\right]$"
      ],
      "text/plain": [
       "Matrix([\n",
       "[0, 0, 1],\n",
       "[1, 0, 0],\n",
       "[0, 1, 0]])"
      ]
     },
     "execution_count": 28,
     "metadata": {},
     "output_type": "execute_result"
    }
   ],
   "source": [
    "\n",
    "def col_permutation(matrix):\n",
    "    col_permutation = random.sample(range(matrix.cols), matrix.cols)\n",
    "#     permuted_matrix = matrix.permute_cols(col_permutation)\n",
    "    \n",
    "    I=zeros(len(col_permutation))\n",
    "    for i in range(len(col_permutation)):\n",
    "        I[i,col_permutation[i]]=1\n",
    "#     print(I.inv())\n",
    "#     print(matrix*I.inv())\n",
    "    \n",
    "    return I.inv()\n",
    "col_permutation(Matrix([[1, 4, 7], [2, 5, 8], [3, 6, 9]]))\n"
   ]
  },
  {
   "cell_type": "code",
   "execution_count": 29,
   "id": "bdfc3d63",
   "metadata": {},
   "outputs": [
    {
     "data": {
      "text/latex": [
       "$\\displaystyle \\left[\\begin{matrix}1 & 3\\\\4 & 6\\\\7 & 9\\end{matrix}\\right]$"
      ],
      "text/plain": [
       "Matrix([\n",
       "[1, 3],\n",
       "[4, 6],\n",
       "[7, 9]])"
      ]
     },
     "execution_count": 29,
     "metadata": {},
     "output_type": "execute_result"
    }
   ],
   "source": [
    "\n",
    "def random_del_columns(k,l,matrix):\n",
    "    col_indices = random.sample(range(matrix.cols), k-l)#ramdonly rm k-l cols\n",
    "    for i in col_indices:\n",
    "        matrix.col_del(i)\n",
    "\n",
    "    return matrix\n",
    "\n",
    "random_del_columns(3,2,Matrix([[1, 2, 3], [4, 5, 6], [7, 8, 9]]))"
   ]
  },
  {
   "cell_type": "code",
   "execution_count": 103,
   "id": "ce541d2e",
   "metadata": {},
   "outputs": [
    {
     "data": {
      "text/latex": [
       "$\\displaystyle \\left[\\begin{matrix}1 & 4 & 7\\\\2 & 5 & 8\\\\3 & 6 & 9\\end{matrix}\\right]$"
      ],
      "text/plain": [
       "Matrix([\n",
       "[1, 4, 7],\n",
       "[2, 5, 8],\n",
       "[3, 6, 9]])"
      ]
     },
     "execution_count": 103,
     "metadata": {},
     "output_type": "execute_result"
    }
   ],
   "source": [
    "def multiply_out(sample_M):\n",
    "    for i in range(sample_M.rows):\n",
    "        for j in range(sample_M.cols):\n",
    "            sample_M[i,j]=expand(sample_M[i,j])\n",
    "    return sample_M\n",
    "\n",
    "multiply_out(Matrix([[1, 4, 7], [2, 5, 8], [3, 6, 9]]))"
   ]
  },
  {
   "cell_type": "code",
   "execution_count": 33,
   "id": "0deb18aa",
   "metadata": {},
   "outputs": [
    {
     "data": {
      "text/plain": [
       "(4, 3)"
      ]
     },
     "execution_count": 33,
     "metadata": {},
     "output_type": "execute_result"
    }
   ],
   "source": [
    "def matrix_kl(k,l,s,n,t,B,q):#k,l are the dimensions of the matrix, s is the several, a small number\n",
    "    Ls=[]\n",
    "    Us=[]\n",
    "    for i in range(s):\n",
    "        U=generate_U(k,n,t,B,q)\n",
    "        L=generate_L(k,n,t,B,q)\n",
    "        Us.append(U)\n",
    "        Ls.append(L)\n",
    "        \n",
    "    U_new=random.choice(Us)\n",
    "    L_new=random.choice(Ls)\n",
    "    Ms=Us+Ls\n",
    "    \n",
    "    P1=col_permutation(U_new)\n",
    "    T1=random.choice(Ms)\n",
    "    P2=col_permutation(U_new)\n",
    "    T2=random.choice(Ms)\n",
    "    P3=col_permutation(U_new)\n",
    "    \n",
    "    kk_matrix=U_new*L_new*P1*T1*P2*T2*P3\n",
    "    S_inv=P3.inv(method=\"LU\")*T2.inv(method=\"LU\")*P2.inv(method=\"LU\")*T1.inv(method=\"LU\")*P1.inv(method=\"LU\")*L_new.inv(method=\"LU\")*U_new.inv(method=\"LU\")\n",
    "    \n",
    "    kl_matrix=random_del_columns(k,l,kk_matrix)\n",
    "    return S_inv,kl_matrix\n",
    "\n",
    "\n",
    "A,B=matrix_kl(4,3,4,32,3,4,6)\n",
    "B.shape\n"
   ]
  },
  {
   "cell_type": "markdown",
   "id": "4d137f9f",
   "metadata": {},
   "source": [
    "# Finding the inverse"
   ]
  },
  {
   "cell_type": "code",
   "execution_count": 28,
   "id": "919fe07b",
   "metadata": {},
   "outputs": [
    {
     "data": {
      "text/latex": [
       "$\\displaystyle 1$"
      ],
      "text/plain": [
       "1"
      ]
     },
     "execution_count": 28,
     "metadata": {},
     "output_type": "execute_result"
    }
   ],
   "source": [
    "M2=Matrix([[2,1],[7,4]])\n",
    "M2.inv(method=\"LU\")\n",
    "\n",
    "M2.adjugate()#the transpose of the matrix of cofactors.\n",
    "det(M2)"
   ]
  },
  {
   "cell_type": "code",
   "execution_count": null,
   "id": "b567d7d2",
   "metadata": {},
   "outputs": [],
   "source": []
  },
  {
   "cell_type": "code",
   "execution_count": 20,
   "id": "fd5c5790",
   "metadata": {},
   "outputs": [
    {
     "data": {
      "text/plain": [
       "[5*x0*x10*x16*x18*x4 + 4*x11*x13*x15*x20 + 5*x14 + x18*x26*x5 + 6*x24*x9,\n",
       " 4*x0*x12*x26*x27*x29 + 3*x0*x14*x27**2*x29 + 2*x1*x23*x25*x3*x7 + 6*x10**3*x6*x8 + 6*x12*x25*x28*x3,\n",
       " 4*x0 + 3*x12*x14 + 3*x18 + 4*x19*x27 + 6*x4,\n",
       " 3*x12*x17*x27*x6*x8 + 5*x15*x20 + 3*x21*x9 + 6*x30*x4 + 6*x4*x6,\n",
       " 2*x10*x2*x3 + 8*x14 + 2*x24*x5*x8 + 5*x25,\n",
       " 6*x11*x16*x2 + 6*x12*x16*x22*x3 + 6*x14**2*x17*x7*x9 + 4*x19*x20*x21*x24*x7 + x25*x7,\n",
       " x10 + x25*x29 + 2*x3 + 4*x30*x7 + 4*x9,\n",
       " 6*x0*x19*x20*x23*x6 + 2*x1*x2*x23*x3 + 4*x16*x24*x30*x6 + 3*x2*x21 + 5*x2*x25*x6,\n",
       " 3*x11*x12*x22*x27 + 4*x11*x13*x7 + 6*x15*x18*x24*x25*x31 + x22 + 5*x30,\n",
       " 2*x10*x14*x15 + 4*x10*x19 + x12*x18*x22*x30*x5 + 6*x12*x8 + 6*x13*x15*x21*x4*x6]"
      ]
     },
     "execution_count": 20,
     "metadata": {},
     "output_type": "execute_result"
    }
   ],
   "source": [
    "def vector_t_polynomials(n,l,t,b,q): #l is the number of polynomials, q the remainder of 256%l\n",
    "    U=[]\n",
    "    for i in range(l):\n",
    "        P=sparse_polynomial(n,t,b,q+1)#coefficient of original sparse_polynomials goes from 1 to q-1\n",
    "        U.append(P)\n",
    "    return U\n",
    "\n",
    "vector_t_polynomials(32,10,5,5,6)"
   ]
  },
  {
   "cell_type": "code",
   "execution_count": null,
   "id": "ddf02148",
   "metadata": {},
   "outputs": [],
   "source": []
  }
 ],
 "metadata": {
  "kernelspec": {
   "display_name": "Python 3 (ipykernel)",
   "language": "python",
   "name": "python3"
  },
  "language_info": {
   "codemirror_mode": {
    "name": "ipython",
    "version": 3
   },
   "file_extension": ".py",
   "mimetype": "text/x-python",
   "name": "python",
   "nbconvert_exporter": "python",
   "pygments_lexer": "ipython3",
   "version": "3.9.12"
  }
 },
 "nbformat": 4,
 "nbformat_minor": 5
}
