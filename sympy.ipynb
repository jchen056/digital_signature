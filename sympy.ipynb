{
 "cells": [
  {
   "cell_type": "code",
   "execution_count": 23,
   "id": "1170f694",
   "metadata": {},
   "outputs": [],
   "source": [
    "from sympy import symbols, Matrix\n",
    "from sympy import expand, factor #expand and factor expressions\n",
    "import random\n",
    "import numpy as np\n",
    "from sympy import Matrix,eye"
   ]
  },
  {
   "cell_type": "markdown",
   "id": "0fbe1dd4",
   "metadata": {},
   "source": [
    "[Sympy doc] (https://docs.sympy.org/latest/tutorials/intro-tutorial/index.html)\n",
    "\n",
    "1. Symbolic computation: manipulating irrational numbers exactly using SymPy, computing symbolic expressions with variables.\n",
    "2. most simplifications in Sympy are not performed automatically.\n",
    "3. SymPy can simplify expressions, compute derivatives, integrals, and limits, solve equations, work with matrices, and much, much more, and do it all symbolically.\n",
    "\n"
   ]
  },
  {
   "cell_type": "code",
   "execution_count": 4,
   "id": "11aead49",
   "metadata": {},
   "outputs": [
    {
     "data": {
      "text/latex": [
       "$\\displaystyle x \\left(x + 2 y\\right)$"
      ],
      "text/plain": [
       "x*(x + 2*y)"
      ]
     },
     "execution_count": 4,
     "metadata": {},
     "output_type": "execute_result"
    }
   ],
   "source": [
    "x,y=symbols('x y')\n",
    "expr=x+2*y\n",
    "expanded_expr=expand(x*expr)\n",
    "factor(expanded_expr)"
   ]
  },
  {
   "cell_type": "markdown",
   "id": "265e8e45",
   "metadata": {},
   "source": [
    "some rules:\n",
    "* To define variables, we must use symbols.\n",
    "* if a variable is changed, expressions that were already created with that variable do not change automatically\n",
    "* == represents exact structural equality testing. “Exact” here means that two expressions will compare equal with == only if they are exactly equal structurally.\n",
    "* the best way to check whether a-b: subtract, simplify(b-a), and see whether you get 0 or a.equals(b)"
   ]
  },
  {
   "cell_type": "code",
   "execution_count": 33,
   "id": "6331d1fa",
   "metadata": {},
   "outputs": [
    {
     "data": {
      "text/latex": [
       "$\\displaystyle 3$"
      ],
      "text/plain": [
       "3"
      ]
     },
     "execution_count": 33,
     "metadata": {},
     "output_type": "execute_result"
    }
   ],
   "source": [
    "x = symbols('x')\n",
    "expr = x + 1\n",
    "# x = 2\n",
    "#print(expr)#changes made to x has no effects in expr, which is created before the chg\n",
    "expr.subs(x, 2)"
   ]
  },
  {
   "cell_type": "markdown",
   "id": "3896f79f",
   "metadata": {},
   "source": [
    "Converting Strings to SymPy Expressions\n",
    "**sympify**, not to be confused with simplify"
   ]
  },
  {
   "cell_type": "markdown",
   "id": "5361c9d1",
   "metadata": {},
   "source": [
    "# Key Generation"
   ]
  },
  {
   "cell_type": "code",
   "execution_count": 34,
   "id": "079c6210",
   "metadata": {},
   "outputs": [
    {
     "data": {
      "text/latex": [
       "$\\displaystyle x_{0} x_{13} x_{16} x_{23} x_{7} + 3 x_{10} x_{27} + 5 x_{12} x_{2} x_{8} + 2 x_{2} + 3 x_{25} x_{3} x_{6} x_{7}$"
      ],
      "text/plain": [
       "x0*x13*x16*x23*x7 + 3*x10*x27 + 5*x12*x2*x8 + 2*x2 + 3*x25*x3*x6*x7"
      ]
     },
     "execution_count": 34,
     "metadata": {},
     "output_type": "execute_result"
    }
   ],
   "source": [
    "def poly_n_variables(n):\n",
    "    K=[]\n",
    "    for i in range(n):\n",
    "        x='x'+str(i)\n",
    "        K.append(x)\n",
    "    return K\n",
    "\n",
    "def sparse_polynomial(n,t,b,q):#t monomials, bound the degree of monomials by an integer b\n",
    "    K=poly_n_variables(n)\n",
    "    sparse_poly=0\n",
    "    \n",
    "    for i in range(t):\n",
    "        deg=random.randint(1,b)\n",
    "        monomoial_d=1\n",
    "        \n",
    "        for i in range(deg):\n",
    "            monomoial_d*=symbols(random.choice(K))\n",
    "        sparse_poly+=random.randint(1,q-1)*monomoial_d\n",
    "    return sparse_poly\n",
    "\n",
    "sparse_polynomial(32,5,6,6)"
   ]
  },
  {
   "cell_type": "markdown",
   "id": "a524da5f",
   "metadata": {},
   "source": [
    "# Generate the matrix"
   ]
  },
  {
   "cell_type": "code",
   "execution_count": 94,
   "id": "3a633b6e",
   "metadata": {},
   "outputs": [
    {
     "data": {
      "text/latex": [
       "$\\displaystyle \\left[\\begin{matrix}1 & 2 x_{12} x_{14} x_{2} x_{26} + 4 x_{14} x_{15}^{2} x_{21} x_{3} + 5 x_{14} x_{25} x_{26} + 4 x_{20} + 2 x_{21} x_{22} x_{25} x_{29} x_{3} & 4 x_{10} x_{16} x_{20} x_{26}^{2} + 5 x_{10} x_{8} + 5 x_{11} x_{22} x_{6} + 5 x_{2} + 3 x_{21} x_{28} & 0\\\\0 & 1 & 3 x_{0} x_{2} x_{23} + 3 x_{14} x_{15} x_{2}^{2} + 4 x_{14} x_{19}^{2} x_{20} x_{29} x_{5} + x_{16} x_{19} x_{24} x_{30} x_{9} + x_{26} & 0\\\\0 & 0 & 1 & 0\\\\0 & 0 & 0 & 1\\end{matrix}\\right]$"
      ],
      "text/plain": [
       "Matrix([\n",
       "[1, 2*x12*x14*x2*x26 + 4*x14*x15**2*x21*x3 + 5*x14*x25*x26 + 4*x20 + 2*x21*x22*x25*x29*x3,                  4*x10*x16*x20*x26**2 + 5*x10*x8 + 5*x11*x22*x6 + 5*x2 + 3*x21*x28, 0],\n",
       "[0,                                                                                     1, 3*x0*x2*x23 + 3*x14*x15*x2**2 + 4*x14*x19**2*x20*x29*x5 + x16*x19*x24*x30*x9 + x26, 0],\n",
       "[0,                                                                                     0,                                                                                  1, 0],\n",
       "[0,                                                                                     0,                                                                                  0, 1]])"
      ]
     },
     "execution_count": 94,
     "metadata": {},
     "output_type": "execute_result"
    }
   ],
   "source": [
    "def generate_U(k,n,t,B,q):\n",
    "    I=eye(k)\n",
    "    \n",
    "    for i in range(int((k*k-k)/2)):\n",
    "        b=random.randint(1,k-1)\n",
    "        a=random.randint(0,b-1)\n",
    "        I[a,b]=sparse_polynomial(n,t,B,q)\n",
    "    return I\n",
    "    \n",
    "def generate_L(k,n,t,B,q):\n",
    "    I=eye(k)\n",
    "    \n",
    "    for i in range(int((k*k-k)/2)):\n",
    "        a=random.randint(1,k-1)\n",
    "        b=random.randint(0,a-1)\n",
    "        I[a,b]=sparse_polynomial(n,t,B,q)\n",
    "    return I\n",
    "\n",
    "generate_U(4,32,5,6,6)"
   ]
  },
  {
   "cell_type": "code",
   "execution_count": 70,
   "id": "13978a2d",
   "metadata": {},
   "outputs": [
    {
     "data": {
      "text/latex": [
       "$\\displaystyle \\left[\\begin{matrix}4 & 7 & 1\\\\5 & 8 & 2\\\\6 & 9 & 3\\end{matrix}\\right]$"
      ],
      "text/plain": [
       "Matrix([\n",
       "[4, 7, 1],\n",
       "[5, 8, 2],\n",
       "[6, 9, 3]])"
      ]
     },
     "execution_count": 70,
     "metadata": {},
     "output_type": "execute_result"
    }
   ],
   "source": [
    "\n",
    "def col_permutation(matrix):\n",
    "    col_permutation = random.sample(range(matrix.cols), matrix.cols)\n",
    "    permuted_matrix = matrix.permute_cols(col_permutation)\n",
    "    \n",
    "    return permuted_matrix\n",
    "col_permutation(Matrix([[1, 4, 7], [2, 5, 8], [3, 6, 9]]))"
   ]
  },
  {
   "cell_type": "code",
   "execution_count": 86,
   "id": "bdfc3d63",
   "metadata": {},
   "outputs": [
    {
     "data": {
      "text/latex": [
       "$\\displaystyle \\left[\\begin{matrix}2 & 3\\\\5 & 6\\\\8 & 9\\end{matrix}\\right]$"
      ],
      "text/plain": [
       "Matrix([\n",
       "[2, 3],\n",
       "[5, 6],\n",
       "[8, 9]])"
      ]
     },
     "execution_count": 86,
     "metadata": {},
     "output_type": "execute_result"
    }
   ],
   "source": [
    "\n",
    "def random_del_columns(k,l,matrix):\n",
    "    col_indices = random.sample(range(matrix.cols), k-l)#ramdonly rm k-l cols\n",
    "    for i in col_indices:\n",
    "        matrix.col_del(i)\n",
    "\n",
    "    return matrix\n",
    "\n",
    "random_del_columns(3,2,Matrix([[1, 2, 3], [4, 5, 6], [7, 8, 9]]))"
   ]
  },
  {
   "cell_type": "code",
   "execution_count": 103,
   "id": "ce541d2e",
   "metadata": {},
   "outputs": [
    {
     "data": {
      "text/latex": [
       "$\\displaystyle \\left[\\begin{matrix}1 & 4 & 7\\\\2 & 5 & 8\\\\3 & 6 & 9\\end{matrix}\\right]$"
      ],
      "text/plain": [
       "Matrix([\n",
       "[1, 4, 7],\n",
       "[2, 5, 8],\n",
       "[3, 6, 9]])"
      ]
     },
     "execution_count": 103,
     "metadata": {},
     "output_type": "execute_result"
    }
   ],
   "source": [
    "def multiply_out(sample_M):\n",
    "    for i in range(sample_M.rows):\n",
    "        for j in range(sample_M.cols):\n",
    "            sample_M[i,j]=expand(sample_M[i,j])\n",
    "    return sample_M\n",
    "\n",
    "multiply_out(Matrix([[1, 4, 7], [2, 5, 8], [3, 6, 9]]))"
   ]
  },
  {
   "cell_type": "code",
   "execution_count": 111,
   "id": "0deb18aa",
   "metadata": {},
   "outputs": [
    {
     "name": "stdout",
     "output_type": "stream",
     "text": [
      "3*x10*x7 + 4*x18*x9 + x20*x21*x23*x25 + ((3*x10*x7 + 4*x18*x9 + x20*x21*x23*x25)*(5*x1*x12*x22*x5 + 3*x1 + 3*x10*x14*x29*x5) + 2*(3*x10*x7 + 4*x18*x9 + x20*x21*x23*x25)*(3*x15*x26*x30*x4 + 2*x24 + 4*x28*x5) + (5*x1*x12*x22*x5 + 3*x1 + 3*x10*x14*x29*x5)*(2*x11*x15*x29*x8 + 5*x17*x22*x3*x6 + 4*x30*x4*x6))*(4*x10*x2*x26*x3 + x10*x24 + 5*x27) + (3*x15*x26*x30*x4 + 2*x24 + 4*x28*x5)*(((3*x10*x7 + 4*x18*x9 + x20*x21*x23*x25)*(3*x15*x26*x30*x4 + 2*x24 + 4*x28*x5) + (5*x1*x12*x22*x5 + 3*x1 + 3*x10*x14*x29*x5)*(2*x11*x15*x29*x8 + 5*x17*x22*x3*x6 + 4*x30*x4*x6))*(5*x1*x12*x22*x5 + 3*x1 + 3*x10*x14*x29*x5) + (x1 + 5*x15*x27*x8 + x31)*(3*x10*x7 + 4*x18*x9 + x20*x21*x23*x25) + (5*x1*x12*x22*x5 + 3*x1 + 3*x10*x14*x29*x5)**2*(2*x11*x15*x29*x8 + 5*x17*x22*x3*x6 + 4*x30*x4*x6) + 1)\n"
     ]
    }
   ],
   "source": [
    "def matrix_kl(k,l,s,n,t,B,q):#k,l are the dimensions of the matrix, s is the several, a small number\n",
    "    Ls=[]\n",
    "    Us=[]\n",
    "    for i in range(s):\n",
    "        U=generate_U(k,n,t,B,q)\n",
    "        L=generate_L(k,n,t,B,q)\n",
    "        Us.append(U)\n",
    "        Ls.append(L)\n",
    "        \n",
    "    U_new=random.choice(Us)\n",
    "    L_new=random.choice(Ls)\n",
    "    Ms=Us+Ls\n",
    "    \n",
    "    T1=random.choice(Ms)\n",
    "    P1=col_permutation(T1)\n",
    "    T2=random.choice(Ms)\n",
    "    P2=col_permutation(T2)\n",
    "    T3=random.choice(Ms)\n",
    "    P3=col_permutation(T3)\n",
    "    kk_matrix=U_new*L_new*P1*T1*P2*T2*P3\n",
    "    \n",
    "    kl_matrix=random_del_columns(k,l,kk_matrix)\n",
    "    return kl_matrix\n",
    "\n",
    "print(matrix_kl(4,3,4,32,3,4,6)[1,1])\n",
    "\n"
   ]
  },
  {
   "cell_type": "code",
   "execution_count": null,
   "id": "fe7a8f06",
   "metadata": {},
   "outputs": [],
   "source": [
    "\n"
   ]
  },
  {
   "cell_type": "code",
   "execution_count": null,
   "id": "fd5c5790",
   "metadata": {},
   "outputs": [],
   "source": []
  },
  {
   "cell_type": "code",
   "execution_count": null,
   "id": "ddf02148",
   "metadata": {},
   "outputs": [],
   "source": []
  }
 ],
 "metadata": {
  "kernelspec": {
   "display_name": "Python 3 (ipykernel)",
   "language": "python",
   "name": "python3"
  },
  "language_info": {
   "codemirror_mode": {
    "name": "ipython",
    "version": 3
   },
   "file_extension": ".py",
   "mimetype": "text/x-python",
   "name": "python",
   "nbconvert_exporter": "python",
   "pygments_lexer": "ipython3",
   "version": "3.9.12"
  }
 },
 "nbformat": 4,
 "nbformat_minor": 5
}
