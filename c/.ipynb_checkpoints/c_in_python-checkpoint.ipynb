{
 "cells": [
  {
   "cell_type": "markdown",
   "id": "a3070c85",
   "metadata": {},
   "source": [
    "### Write contents in a C file"
   ]
  },
  {
   "cell_type": "code",
   "execution_count": 8,
   "id": "bc40bd5f",
   "metadata": {},
   "outputs": [
    {
     "name": "stdout",
     "output_type": "stream",
     "text": [
      "Overwriting symbolic.c\n"
     ]
    }
   ],
   "source": [
    "\n",
    "%%file symbolic.c\n",
    "#include <stdio.h>\n",
    "#include <julia.h>\n",
    "JULIA_DEFINE_FAST_TLS\n",
    "\n",
    "int main (void)\n",
    "{\n",
    "    /* required: setup the Julia context */\n",
    "    jl_init();\n",
    "\n",
    "    /* run Julia commands */\n",
    "    jl_eval_string(\"print(sqrt(2.0))\");\n",
    "\n",
    "    /* strongly recommended: notify Julia that the\n",
    "         program is about to terminate. this allows\n",
    "         Julia time to cleanup pending write requests\n",
    "         and run all finalizers\n",
    "    */\n",
    "    jl_atexit_hook(0);\n",
    "    \n",
    "    printf(\"Hello\");\n",
    "    return 0;\n",
    "}"
   ]
  },
  {
   "cell_type": "markdown",
   "id": "559f6d1d",
   "metadata": {},
   "source": [
    "### Compile codes"
   ]
  },
  {
   "cell_type": "code",
   "execution_count": 9,
   "id": "7e2dbcdf",
   "metadata": {},
   "outputs": [],
   "source": [
    "%%bash\n",
    "gcc symbolic.c -g -o symbolic"
   ]
  },
  {
   "cell_type": "code",
   "execution_count": 10,
   "id": "c228328c",
   "metadata": {},
   "outputs": [
    {
     "name": "stdout",
     "output_type": "stream",
     "text": [
      "Hello"
     ]
    }
   ],
   "source": [
    "%%bash\n",
    "./symbolic"
   ]
  },
  {
   "cell_type": "code",
   "execution_count": null,
   "id": "18bc83e2",
   "metadata": {},
   "outputs": [],
   "source": []
  }
 ],
 "metadata": {
  "kernelspec": {
   "display_name": "Python 3 (ipykernel)",
   "language": "python",
   "name": "python3"
  },
  "language_info": {
   "codemirror_mode": {
    "name": "ipython",
    "version": 3
   },
   "file_extension": ".py",
   "mimetype": "text/x-python",
   "name": "python",
   "nbconvert_exporter": "python",
   "pygments_lexer": "ipython3",
   "version": "3.9.12"
  }
 },
 "nbformat": 4,
 "nbformat_minor": 5
}
