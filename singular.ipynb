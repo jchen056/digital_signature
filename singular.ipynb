{
 "cells": [
  {
   "cell_type": "code",
   "execution_count": 1,
   "id": "1b705f84",
   "metadata": {},
   "outputs": [
    {
     "name": "stdout",
     "output_type": "stream",
     "text": [
      "Singular.jl, based on\n",
      "                     SINGULAR                               /\n",
      " A Computer Algebra System for Polynomial Computations     /  Singular.jl: 0.16.1\n",
      "                                                         0<   Singular   : 4.3.1p2\n",
      " by: W. Decker, G.-M. Greuel, G. Pfister, H. Schoenemann   \\\n",
      "FB Mathematik der Universitaet, D-67653 Kaiserslautern      \\\n",
      "     \n"
     ]
    }
   ],
   "source": [
    "using Singular\n",
    "# using Oscar\n",
    "# using AbstractAlgebra\n",
    "using Random"
   ]
  },
  {
   "cell_type": "code",
   "execution_count": 7,
   "id": "fd7254ba",
   "metadata": {},
   "outputs": [
    {
     "name": "stdout",
     "output_type": "stream",
     "text": [
      "search: \u001b[0m\u001b[1mO\u001b[22m\u001b[0m\u001b[1ms\u001b[22m\u001b[0m\u001b[1mc\u001b[22m\u001b[0m\u001b[1ma\u001b[22m\u001b[0m\u001b[1mr\u001b[22m \u001b[0m\u001b[1mo\u001b[22m\u001b[0m\u001b[1ms\u001b[22m\u001b[0m\u001b[1mc\u001b[22m\u001b[0m\u001b[1ma\u001b[22m\u001b[0m\u001b[1mr\u001b[22m \u001b[0m\u001b[1mO\u001b[22m\u001b[0m\u001b[1mS\u001b[22m\u001b[0m\u001b[1mC\u001b[22m\u001b[0m\u001b[1mA\u001b[22m\u001b[0m\u001b[1mR\u001b[22m \u001b[0m\u001b[1mo\u001b[22mrder\u001b[0m\u001b[1ms\u001b[22m_\u001b[0m\u001b[1mc\u001b[22ml\u001b[0m\u001b[1ma\u001b[22mss_\u001b[0m\u001b[1mr\u001b[22mepresentatives\n",
      "\n"
     ]
    },
    {
     "data": {
      "text/markdown": [
       "Welcome to OSCAR version v\"0.11.3\"\n",
       "\n",
       "OSCAR is developed by a large group of international collaborators, coordinated currently, mainly at the Technische Universität Kaiserslautern.\n",
       "\n",
       "Written in Julia, it combines the well established systems\n",
       "\n",
       "  * [`Singular`](@ref Singular)\n",
       "  * [`GAP`](@ref GAP)\n",
       "  * [`Polymake`](@ref Polymake)\n",
       "  * [`ANTIC`](@ref ANTIC) (comprising [`Hecke`](@ref Hecke), [`Nemo`](@ref Nemo) and [`AbstractAlgebra`](@ref AbstractAlgebra))\n",
       "\n",
       "into a comprehensive tool for computational algebra.\n",
       "\n",
       "For more information please visit\n",
       "\n",
       "`https://oscar.computeralgebra.de`\n",
       "\n",
       "OSCAR is licensed under the GPL v3+ (see LICENSE.md).\n"
      ],
      "text/plain": [
       "  Welcome to OSCAR version v\"0.11.3\"\n",
       "\n",
       "  OSCAR is developed by a large group of international collaborators,\n",
       "  coordinated currently, mainly at the Technische Universität Kaiserslautern.\n",
       "\n",
       "  Written in Julia, it combines the well established systems\n",
       "\n",
       "    •  \u001b[36mSingular\u001b[39m\n",
       "\n",
       "    •  \u001b[36mGAP\u001b[39m\n",
       "\n",
       "    •  \u001b[36mPolymake\u001b[39m\n",
       "\n",
       "    •  \u001b[36mANTIC\u001b[39m (comprising \u001b[36mHecke\u001b[39m, \u001b[36mNemo\u001b[39m and \u001b[36mAbstractAlgebra\u001b[39m)\n",
       "\n",
       "  into a comprehensive tool for computational algebra.\n",
       "\n",
       "  For more information please visit\n",
       "\n",
       "  \u001b[36mhttps://oscar.computeralgebra.de\u001b[39m\n",
       "\n",
       "  OSCAR is licensed under the GPL v3+ (see LICENSE.md)."
      ]
     },
     "execution_count": 7,
     "metadata": {},
     "output_type": "execute_result"
    }
   ],
   "source": [
    "?Oscar"
   ]
  },
  {
   "cell_type": "markdown",
   "id": "48bcb443",
   "metadata": {},
   "source": [
    "# Integer operations\n",
    "\n",
    "* <mark>Integers mod n</mark> are implemented via the Singular n_Zn type for any positive modulus that can fit in a Julia Int"
   ]
  },
  {
   "cell_type": "code",
   "execution_count": 2,
   "id": "6f10d333",
   "metadata": {},
   "outputs": [
    {
     "data": {
      "text/plain": [
       "Integer Ring"
      ]
     },
     "execution_count": 2,
     "metadata": {},
     "output_type": "execute_result"
    }
   ],
   "source": [
    "# # The associated ring of integers is represented by the constant parent object\n",
    "#ZZ = Singular.Integers()# integers can be constructed using ZZ\n",
    "# a = ZZ(-12)\n",
    "\n",
    "# # basic manipulation\n",
    "# n = numerator(a)\n",
    "# d = denominator(a)\n",
    "# c = abs(a)\n",
    "\n",
    "# a = ZZ(-12)\n",
    "# b = ZZ(5)\n",
    "# q, r = divrem(a, b)#q representing return of the quotient and r representing return of the remainder\n",
    "# r = mod(a, b)\n",
    "# # c = a % b"
   ]
  },
  {
   "cell_type": "code",
   "execution_count": 35,
   "id": "a962eddd",
   "metadata": {},
   "outputs": [
    {
     "data": {
      "text/plain": [
       "false"
      ]
     },
     "execution_count": 35,
     "metadata": {},
     "output_type": "execute_result"
    }
   ],
   "source": [
    "ZZ(12)\n",
    "zero(ZZ)\n",
    "one(ZZ)\n",
    "isone(zero(ZZ))"
   ]
  },
  {
   "cell_type": "code",
   "execution_count": 18,
   "id": "b46a5f29",
   "metadata": {},
   "outputs": [
    {
     "data": {
      "text/plain": [
       "3"
      ]
     },
     "execution_count": 18,
     "metadata": {},
     "output_type": "execute_result"
    }
   ],
   "source": [
    "coefficients = ResidueRing(ZZ, 6)\n",
    "a = coefficients(-27)\n"
   ]
  },
  {
   "cell_type": "markdown",
   "id": "704068c9",
   "metadata": {},
   "source": [
    "# [Multivariate polynomials](https://oscar-system.github.io/Singular.jl/latest/polynomial/)\n",
    "* Singular.jl allows the creation of multivariate polynomials over any of the coefficient rings.\n",
    "* The default multivariate polynomial type in Singular.jl is the Singular <mark>spoly</mark> type.\n",
    "* In particular, Singular polynomials are **sparse distributed**\n",
    "* PolynomialRing returns a tuple, (S,x); S is a multivariate polynomial ring and x is an array of variables (from which polynomials can be constructed)\n",
    "* there will only be one Singular polynomial ring in the system for each combination of (1)coefficient ring, (2)list of variable names, (3)ordering and (4)degree bound"
   ]
  },
  {
   "cell_type": "code",
   "execution_count": 3,
   "id": "4606519c",
   "metadata": {},
   "outputs": [
    {
     "data": {
      "text/plain": [
       "(Singular Polynomial Ring (ZZ),(x,y),(Dp(2),C), spoly{n_Z}[x, y])"
      ]
     },
     "execution_count": 3,
     "metadata": {},
     "output_type": "execute_result"
    }
   ],
   "source": [
    "R, (x, y) = PolynomialRing(ZZ, [\"x\", \"y\"]; ordering=:deglex)"
   ]
  },
  {
   "cell_type": "code",
   "execution_count": 63,
   "id": "3c76de18",
   "metadata": {},
   "outputs": [
    {
     "data": {
      "text/plain": [
       "(Singular Polynomial Ring (ZZ/(6)),(x1,x2,x3),(dp(3),C,L(3)), spoly{n_Zn}[x1, x2, x3])"
      ]
     },
     "execution_count": 63,
     "metadata": {},
     "output_type": "execute_result"
    }
   ],
   "source": [
    "n = 3\n",
    "max_degree = 3\n",
    "R, xs = PolynomialRing(coefficients, [\"x$i\" for i in 1:n],\n",
    "                       ordering = :degrevlex,degree_bound=max_degree)"
   ]
  },
  {
   "cell_type": "code",
   "execution_count": 3,
   "id": "c13b4e0c",
   "metadata": {},
   "outputs": [
    {
     "data": {
      "text/plain": [
       "Vector{Int64} (alias for Array{Int64, 1})"
      ]
     },
     "execution_count": 3,
     "metadata": {},
     "output_type": "execute_result"
    }
   ],
   "source": [
    "function exp_vector_building(n,q)#create a vector of length n and max degree is q\n",
    "    vectors=[0 for i in 1:n]#create a vector of zeros\n",
    "    for i in 1:q#max degree is q; therefore loop through q times\n",
    "        vectors[rand(1:n)]+=1\n",
    "    end\n",
    "    return vectors\n",
    "end\n",
    "typeof(exp_vector_building(3,5))\n",
    "# typeof([0, 0])\n",
    "    "
   ]
  },
  {
   "cell_type": "code",
   "execution_count": 2,
   "id": "e3fff0b2",
   "metadata": {},
   "outputs": [
    {
     "ename": "LoadError",
     "evalue": "UndefVarError: R not defined",
     "output_type": "error",
     "traceback": [
      "UndefVarError: R not defined",
      "",
      "Stacktrace:",
      " [1] top-level scope",
      "   @ In[2]:1"
     ]
    }
   ],
   "source": [
    "# C=MPolyBuildCtx(R)\n",
    "# exp_arr=exp_vector_building(n,max_degree)\n",
    "# push_term!(C, coefficients(2),exp_arr)\n",
    "# push_term!(C, coefficients(2),exp_vector_building(n,max_degree))\n",
    "# f = finish(C)\n",
    "# f\n",
    "\n"
   ]
  },
  {
   "cell_type": "code",
   "execution_count": 20,
   "id": "1501264b",
   "metadata": {},
   "outputs": [
    {
     "name": "stdout",
     "output_type": "stream",
     "text": [
      "value\n",
      "x1^4*x3\n"
     ]
    },
    {
     "name": "stderr",
     "output_type": "stream",
     "text": [
      "\n",
      "// ***dError: Equal monomials in p_Merge_q"
     ]
    }
   ],
   "source": [
    "function sparse_polynomial(n,t,b,q)\n",
    "    coefficients = ResidueRing(ZZ, q)#integer modulo q\n",
    "    \n",
    "    R,x=PolynomialRing(coefficients, [\"x$i\" for i in 1:n],\n",
    "                       ordering = :degrevlex,degree_bound=b)\n",
    "    C=MPolyBuildCtx(R)\n",
    "    for i in 1:t\n",
    "        push_term!(C,coefficients(rand(1:100)),exp_vector_building(n,q))\n",
    "    end\n",
    "    f=finish(C)\n",
    "    while f==0\n",
    "        f=sparse_polynomial(n,t,b,q)\n",
    "        return f\n",
    "    end\n",
    "    return f\n",
    "end\n",
    "a=sparse_polynomial(4,4,5,5)\n",
    "println(\"value\")\n",
    "println(a)"
   ]
  },
  {
   "cell_type": "code",
   "execution_count": null,
   "id": "3f79db0d",
   "metadata": {},
   "outputs": [],
   "source": []
  }
 ],
 "metadata": {
  "kernelspec": {
   "display_name": "Julia 1.6.7",
   "language": "julia",
   "name": "julia-1.6"
  },
  "language_info": {
   "file_extension": ".jl",
   "mimetype": "application/julia",
   "name": "julia",
   "version": "1.6.7"
  }
 },
 "nbformat": 4,
 "nbformat_minor": 5
}
