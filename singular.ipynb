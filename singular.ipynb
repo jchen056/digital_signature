{
 "cells": [
  {
   "cell_type": "code",
   "execution_count": 10,
   "id": "8d083052",
   "metadata": {},
   "outputs": [
    {
     "name": "stderr",
     "output_type": "stream",
     "text": [
      "\u001b[32m\u001b[1m   Resolving\u001b[22m\u001b[39m package versions...\n",
      "\u001b[32m\u001b[1m  No Changes\u001b[22m\u001b[39m to `~/.julia/environments/v1.6/Project.toml`\n",
      "\u001b[32m\u001b[1m  No Changes\u001b[22m\u001b[39m to `~/.julia/environments/v1.6/Manifest.toml`\n"
     ]
    }
   ],
   "source": [
    "using Pkg\n",
    "Pkg.add(\"Singular\")"
   ]
  },
  {
   "cell_type": "code",
   "execution_count": 1,
   "id": "1b705f84",
   "metadata": {},
   "outputs": [
    {
     "name": "stdout",
     "output_type": "stream",
     "text": [
      "Singular.jl, based on\n",
      "                     SINGULAR                               /\n",
      " A Computer Algebra System for Polynomial Computations     /  Singular.jl: 0.16.1\n",
      "                                                         0<   Singular   : 4.3.1p2\n",
      " by: W. Decker, G.-M. Greuel, G. Pfister, H. Schoenemann   \\\n",
      "FB Mathematik der Universitaet, D-67653 Kaiserslautern      \\\n",
      "     \n"
     ]
    }
   ],
   "source": [
    "using Singular\n",
    "# using Oscar\n",
    "# using AbstractAlgebra\n",
    "using Random\n",
    "using Symbolics\n",
    "using LinearAlgebra\n",
    "using SparseArrays, StaticPolynomials\n",
    "# using Nemo\n",
    "# using SymPy\n",
    "# using PolynomialMatrices"
   ]
  },
  {
   "cell_type": "markdown",
   "id": "48bcb443",
   "metadata": {},
   "source": [
    "# Integer operations\n",
    "\n",
    "* <mark>Integers mod n</mark> are implemented via the Singular n_Zn type for any positive modulus that can fit in a Julia Int"
   ]
  },
  {
   "cell_type": "code",
   "execution_count": 2,
   "id": "6f10d333",
   "metadata": {},
   "outputs": [
    {
     "data": {
      "text/plain": [
       "Integer Ring"
      ]
     },
     "execution_count": 2,
     "metadata": {},
     "output_type": "execute_result"
    }
   ],
   "source": [
    "# # The associated ring of integers is represented by the constant parent object\n",
    "#ZZ = Singular.Integers()# integers can be constructed using ZZ\n",
    "# a = ZZ(-12)\n",
    "\n",
    "# # basic manipulation\n",
    "# n = numerator(a)\n",
    "# d = denominator(a)\n",
    "# c = abs(a)\n",
    "\n",
    "# a = ZZ(-12)\n",
    "# b = ZZ(5)\n",
    "# q, r = divrem(a, b)#q representing return of the quotient and r representing return of the remainder\n",
    "# r = mod(a, b)\n",
    "# # c = a % b"
   ]
  },
  {
   "cell_type": "code",
   "execution_count": 11,
   "id": "a962eddd",
   "metadata": {},
   "outputs": [
    {
     "data": {
      "text/plain": [
       "false"
      ]
     },
     "execution_count": 11,
     "metadata": {},
     "output_type": "execute_result"
    }
   ],
   "source": [
    "ZZ(12)\n",
    "zero(ZZ)\n",
    "one(ZZ)\n",
    "isone(zero(ZZ))"
   ]
  },
  {
   "cell_type": "code",
   "execution_count": 13,
   "id": "b46a5f29",
   "metadata": {},
   "outputs": [
    {
     "data": {
      "text/plain": [
       "1"
      ]
     },
     "execution_count": 13,
     "metadata": {},
     "output_type": "execute_result"
    }
   ],
   "source": [
    "coefficients = ResidueRing(ZZ, 6)\n",
    "a = coefficients(7)\n"
   ]
  },
  {
   "cell_type": "markdown",
   "id": "704068c9",
   "metadata": {},
   "source": [
    "# [Multivariate polynomials](https://oscar-system.github.io/Singular.jl/latest/polynomial/)\n",
    "* Singular.jl allows the creation of multivariate polynomials over any of the coefficient rings.\n",
    "* The default multivariate polynomial type in Singular.jl is the Singular <mark>spoly</mark> type.\n",
    "* In particular, Singular polynomials are **sparse distributed**\n",
    "* PolynomialRing returns a tuple, (S,x); S is a multivariate polynomial ring and x is an array of variables (from which polynomials can be constructed)\n",
    "* there will only be one Singular polynomial ring in the system for each combination of (1)coefficient ring, (2)list of variable names, (3)ordering and (4)degree bound"
   ]
  },
  {
   "cell_type": "code",
   "execution_count": 14,
   "id": "4606519c",
   "metadata": {},
   "outputs": [
    {
     "data": {
      "text/plain": [
       "2"
      ]
     },
     "execution_count": 14,
     "metadata": {},
     "output_type": "execute_result"
    }
   ],
   "source": [
    "R, (x, y) = PolynomialRing(ZZ, [\"x\", \"y\"]; ordering=:deglex)\n",
    "coefficients = ResidueRing(ZZ, 6)#integer modulo 6\n",
    "coefficients(8)"
   ]
  },
  {
   "cell_type": "code",
   "execution_count": 15,
   "id": "3c76de18",
   "metadata": {},
   "outputs": [
    {
     "data": {
      "text/plain": [
       "(Singular Polynomial Ring (ZZ/(6)),(x1,x2,x3),(dp(3),C), spoly{n_Zn}[x1, x2, x3])"
      ]
     },
     "execution_count": 15,
     "metadata": {},
     "output_type": "execute_result"
    }
   ],
   "source": [
    "n = 3\n",
    "max_degree = 3\n",
    "R, xs = PolynomialRing(coefficients, [\"x$i\" for i in 1:n],\n",
    "                       ordering = :degrevlex,degree_bound=max_degree)\n"
   ]
  },
  {
   "cell_type": "code",
   "execution_count": 16,
   "id": "c13b4e0c",
   "metadata": {},
   "outputs": [
    {
     "data": {
      "text/plain": [
       "3-element Vector{Int64}:\n",
       " 0\n",
       " 3\n",
       " 2"
      ]
     },
     "execution_count": 16,
     "metadata": {},
     "output_type": "execute_result"
    }
   ],
   "source": [
    "function exp_vector_building(n,q)#create a vector of length n and max degree is q\n",
    "    vectors=[0 for i in 1:n]#create a vector of zeros\n",
    "    for i in 1:q#max degree is q; therefore loop through q times\n",
    "        vectors[rand(1:n)]+=1\n",
    "    end\n",
    "    return vectors\n",
    "end\n",
    "exp_vector_building(3,5)\n",
    "# typeof([0, 0])\n",
    "    "
   ]
  },
  {
   "cell_type": "code",
   "execution_count": 17,
   "id": "e3fff0b2",
   "metadata": {},
   "outputs": [
    {
     "data": {
      "text/plain": [
       "2*x1^2*x3 + 2*x2^2*x3"
      ]
     },
     "execution_count": 17,
     "metadata": {},
     "output_type": "execute_result"
    }
   ],
   "source": [
    "C=MPolyBuildCtx(R)\n",
    "exp_arr=exp_vector_building(n,max_degree)\n",
    "push_term!(C, coefficients(2),exp_arr)\n",
    "push_term!(C, coefficients(2),exp_vector_building(n,max_degree))\n",
    "f = finish(C)\n",
    "f\n",
    "\n"
   ]
  },
  {
   "cell_type": "code",
   "execution_count": 4,
   "id": "1501264b",
   "metadata": {},
   "outputs": [
    {
     "ename": "LoadError",
     "evalue": "UndefVarError: ZZ not defined",
     "output_type": "error",
     "traceback": [
      "UndefVarError: ZZ not defined",
      "",
      "Stacktrace:",
      " [1] sparse_polynomial(n::Int64, t::Int64, b::Int64, q::Int64)",
      "   @ Main ./In[4]:2",
      " [2] top-level scope",
      "   @ In[4]:17"
     ]
    }
   ],
   "source": [
    "function sparse_polynomial(n,t,b,q)\n",
    "    coefficients = ResidueRing(ZZ, q)#integer modulo q\n",
    "    \n",
    "    R,x=PolynomialRing(coefficients, [\"x$i\" for i in 1:n],\n",
    "                       ordering = :degrevlex,degree_bound=b)\n",
    "    C=MPolyBuildCtx(R)\n",
    "    for i in 1:t\n",
    "        push_term!(C,coefficients(rand(1:100)),exp_vector_building(n,q))\n",
    "    end\n",
    "    f=finish(C)\n",
    "    while f==0\n",
    "        f=sparse_polynomial(n,t,b,q)\n",
    "#         return f\n",
    "    end\n",
    "    return f\n",
    "end\n",
    "a=sparse_polynomial(4,4,5,5)\n",
    "println(\"value\")\n",
    "println(a)\n"
   ]
  },
  {
   "cell_type": "code",
   "execution_count": 42,
   "id": "0e8bb02a",
   "metadata": {},
   "outputs": [
    {
     "data": {
      "text/plain": [
       "1"
      ]
     },
     "execution_count": 42,
     "metadata": {},
     "output_type": "execute_result"
    }
   ],
   "source": [
    "typeof(a)\n",
    "Int(1)"
   ]
  },
  {
   "cell_type": "markdown",
   "id": "9399f93b",
   "metadata": {},
   "source": [
    "# Linear Algebra"
   ]
  },
  {
   "cell_type": "code",
   "execution_count": 40,
   "id": "92e562c0",
   "metadata": {},
   "outputs": [
    {
     "data": {
      "text/plain": [
       "identity_matrix (generic function with 1 method)"
      ]
     },
     "execution_count": 40,
     "metadata": {},
     "output_type": "execute_result"
    }
   ],
   "source": [
    "function identity_matrix(n)\n",
    "    A=Sym[0 for i in 1:n]#create the first column\n",
    "    A[1]=1#initialize the first element of the first col with value 1\n",
    "    \n",
    "    for i in 2:n\n",
    "        B=Sym[0 for j in 1:n]#create other columns\n",
    "        B[i]=1\n",
    "        A=hcat(A,B)\n",
    "    end \n",
    "    \n",
    "    return A\n",
    "end\n"
   ]
  },
  {
   "cell_type": "code",
   "execution_count": 49,
   "id": "d63044fb",
   "metadata": {},
   "outputs": [
    {
     "ename": "LoadError",
     "evalue": "MethodError: \u001b[0mCannot `convert` an object of type \u001b[92mInt64\u001b[39m\u001b[0m to an object of type \u001b[91mspoly{n_Zn}\u001b[39m\n\u001b[0mClosest candidates are:\n\u001b[0m  convert(::Type{T}, \u001b[91m::T\u001b[39m) where T at essentials.jl:205",
     "output_type": "error",
     "traceback": [
      "MethodError: \u001b[0mCannot `convert` an object of type \u001b[92mInt64\u001b[39m\u001b[0m to an object of type \u001b[91mspoly{n_Zn}\u001b[39m\n\u001b[0mClosest candidates are:\n\u001b[0m  convert(::Type{T}, \u001b[91m::T\u001b[39m) where T at essentials.jl:205",
      "",
      "Stacktrace:",
      " [1] setindex!(::Matrix{spoly{n_Zn}}, ::Int64, ::Int64, ::Int64)",
      "   @ Base ./array.jl:845",
      " [2] top-level scope",
      "   @ In[49]:11"
     ]
    }
   ],
   "source": [
    "function identity_matrix(k,n,B,q)#generate a kbyk identity matrix\n",
    "    coefficients = ResidueRing(ZZ, q)#integer modulo q\n",
    "    R,x=PolynomialRing(coefficients, [\"x$i\" for i in 1:n],\n",
    "                       ordering = :degrevlex,degree_bound=B) \n",
    "    S=zeros(R,k,k)\n",
    "    \n",
    "    return S\n",
    "end\n",
    "\n",
    "\n",
    "    "
   ]
  },
  {
   "cell_type": "code",
   "execution_count": null,
   "id": "e0df6b04",
   "metadata": {},
   "outputs": [],
   "source": []
  }
 ],
 "metadata": {
  "kernelspec": {
   "display_name": "Julia 1.6.7",
   "language": "julia",
   "name": "julia-1.6"
  },
  "language_info": {
   "file_extension": ".jl",
   "mimetype": "application/julia",
   "name": "julia",
   "version": "1.6.7"
  }
 },
 "nbformat": 4,
 "nbformat_minor": 5
}
