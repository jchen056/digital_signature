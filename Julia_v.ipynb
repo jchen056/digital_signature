{
 "cells": [
  {
   "cell_type": "code",
   "execution_count": 1,
   "id": "1abaa874",
   "metadata": {},
   "outputs": [
    {
     "name": "stderr",
     "output_type": "stream",
     "text": [
      "\u001b[32m\u001b[1m    Updating\u001b[22m\u001b[39m registry at `~/.julia/registries/General`\n",
      "\u001b[32m\u001b[1m   Resolving\u001b[22m\u001b[39m package versions...\n",
      "\u001b[32m\u001b[1m  No Changes\u001b[22m\u001b[39m to `~/.julia/environments/v1.6/Project.toml`\n",
      "\u001b[32m\u001b[1m  No Changes\u001b[22m\u001b[39m to `~/.julia/environments/v1.6/Manifest.toml`\n"
     ]
    }
   ],
   "source": [
    "using Pkg\n",
    "Pkg.add(\"SymPy\")"
   ]
  },
  {
   "cell_type": "code",
   "execution_count": 7,
   "id": "f201bade",
   "metadata": {},
   "outputs": [],
   "source": [
    "using SymPy\n",
    "using LinearAlgebra"
   ]
  },
  {
   "cell_type": "code",
   "execution_count": 11,
   "id": "21942154",
   "metadata": {},
   "outputs": [
    {
     "data": {
      "text/plain": [
       "Sym"
      ]
     },
     "execution_count": 11,
     "metadata": {},
     "output_type": "execute_result"
    }
   ],
   "source": [
    "x=Sym(\"x\")\n",
    "y=Sym(\"y\")\n",
    "\n",
    "expr=x+2*y\n",
    "\n",
    "\n",
    "x*y\n",
    "typeof(x)"
   ]
  },
  {
   "cell_type": "code",
   "execution_count": 5,
   "id": "f1efc88a",
   "metadata": {},
   "outputs": [
    {
     "name": "stderr",
     "output_type": "stream",
     "text": [
      "\u001b[32m\u001b[1m   Resolving\u001b[22m\u001b[39m package versions...\n",
      "\u001b[32m\u001b[1m  No Changes\u001b[22m\u001b[39m to `~/.julia/environments/v1.6/Project.toml`\n",
      "\u001b[32m\u001b[1m  No Changes\u001b[22m\u001b[39m to `~/.julia/environments/v1.6/Manifest.toml`\n"
     ]
    }
   ],
   "source": [
    "using Pkg\n",
    "Pkg.add(\"Symbolics\")"
   ]
  },
  {
   "cell_type": "code",
   "execution_count": 6,
   "id": "430900a7",
   "metadata": {},
   "outputs": [
    {
     "data": {
      "text/plain": [
       "Num"
      ]
     },
     "execution_count": 6,
     "metadata": {},
     "output_type": "execute_result"
    }
   ],
   "source": [
    "using Symbolics\n",
    "@variables x y\n",
    "typeof(y)"
   ]
  },
  {
   "cell_type": "code",
   "execution_count": 13,
   "id": "82ca458b",
   "metadata": {},
   "outputs": [
    {
     "data": {
      "text/plain": [
       "Float64"
      ]
     },
     "execution_count": 13,
     "metadata": {},
     "output_type": "execute_result"
    }
   ],
   "source": [
    "typeof(1.0)"
   ]
  },
  {
   "cell_type": "markdown",
   "id": "ca9a00bc",
   "metadata": {},
   "source": [
    "# key generation"
   ]
  },
  {
   "cell_type": "code",
   "execution_count": 3,
   "id": "1d3b4452",
   "metadata": {},
   "outputs": [
    {
     "data": {
      "text/plain": [
       "12-element Vector{Any}:\n",
       " \"x1\"\n",
       " \"x2\"\n",
       " \"x3\"\n",
       " \"x4\"\n",
       " \"x5\"\n",
       " \"x6\"\n",
       " \"x7\"\n",
       " \"x8\"\n",
       " \"x9\"\n",
       " \"x10\"\n",
       " \"x11\"\n",
       " \"x12\""
      ]
     },
     "execution_count": 3,
     "metadata": {},
     "output_type": "execute_result"
    }
   ],
   "source": [
    "function poly_n_variables(n)\n",
    "    K=[]#an array; push! to add to the end of array\n",
    "    for i in 1:n\n",
    "        x=\"x\"*string(i)#string concatenation using *; convert int to string using string()\n",
    "        push!(K,x)\n",
    "    end\n",
    "    K\n",
    "end\n",
    "\n",
    "poly_n_variables(12)     "
   ]
  },
  {
   "cell_type": "code",
   "execution_count": 38,
   "id": "dcc4dd08",
   "metadata": {},
   "outputs": [
    {
     "name": "stdout",
     "output_type": "stream",
     "text": [
      "apple\n",
      "apple\n",
      "apple\n",
      "apple\n",
      "date\n",
      "apple\n",
      "banana\n",
      "apple\n",
      "cherry\n",
      "apple\n"
     ]
    }
   ],
   "source": [
    "for i in 1:10\n",
    "    println(rand([\"apple\", \"banana\", \"cherry\", \"date\"]))\n",
    "end"
   ]
  },
  {
   "cell_type": "code",
   "execution_count": 6,
   "id": "8372ac8d",
   "metadata": {},
   "outputs": [
    {
     "data": {
      "text/plain": [
       "Sym"
      ]
     },
     "execution_count": 6,
     "metadata": {},
     "output_type": "execute_result"
    }
   ],
   "source": [
    "#t monomials\n",
    "#bound the degree of monials by b\n",
    "#coefficients go from 1 to q-1(inclusive)\n",
    "function sparse_polynomial(n,t,b,q)\n",
    "    K=poly_n_variables(n)\n",
    "    \n",
    "    sparse_poly=0\n",
    "    \n",
    "    B=[]\n",
    "    for i in 1:t#we want t monomials\n",
    "        deg=rand(1:b)#generate an int between 1 and b, inclusive\n",
    "        monomial_d=1\n",
    "        for j in 1:deg\n",
    "            monomial_d*=Sym(rand(K))\n",
    "        end\n",
    "        while monomial_d in B\n",
    "            for j in 1:deg\n",
    "                monomial_d*=Sym(rand(K))\n",
    "            end\n",
    "        end\n",
    "        push!(B,monomial_d)\n",
    "    end\n",
    "    for i in B\n",
    "        sparse_poly+=i*rand(1:(q-1))\n",
    "    end\n",
    "    sparse_poly\n",
    "end\n",
    "A=sparse_polynomial(4,5,3,6)\n",
    "typeof(A)"
   ]
  },
  {
   "cell_type": "markdown",
   "id": "d4c06a1d",
   "metadata": {},
   "source": [
    "# generate the matrix"
   ]
  },
  {
   "cell_type": "code",
   "execution_count": 45,
   "id": "a0a3d14a",
   "metadata": {},
   "outputs": [
    {
     "data": {
      "text/latex": [
       "$\\left[ \\begin{array}{rr}3 x_{1}^{2} x_{2} + 5 x_{1}^{2} + 2 x_{1} + 4 x_{2} x_{3} + 5 x_{3} x_{4}^{2}&0\\\\2&0\\end{array}\\right]$\n"
      ],
      "text/plain": [
       "2×2 Matrix{Sym}:\n",
       " 3*x1^2*x2 + 5*x1^2 + 2*x1 + 4*x2*x3 + 5*x3*x4^2  0\n",
       "                                               2  0"
      ]
     },
     "execution_count": 45,
     "metadata": {},
     "output_type": "execute_result"
    }
   ],
   "source": [
    "A = Sym[1,2]\n",
    "B=Sym[3,4]\n",
    "newA=hcat(A,Sym[0 for i in 1:2])\n",
    "newA[1,1]=sparse_polynomial(4,5,3,6)\n",
    "newA\n"
   ]
  },
  {
   "cell_type": "code",
   "execution_count": 48,
   "id": "fd0febea",
   "metadata": {},
   "outputs": [
    {
     "data": {
      "text/latex": [
       "$\\left[ \\begin{array}{rrr}4 x_{1}^{2} + 2 x_{1} x_{3} + 2 x_{3} x_{4} + x_{3} + 3 x_{4}^{3}&0&0\\\\0&1&0\\\\0&0&1\\end{array}\\right]$\n"
      ],
      "text/plain": [
       "3×3 Matrix{Sym}:\n",
       " 4*x1^2 + 2*x1*x3 + 2*x3*x4 + x3 + 3*x4^3  0  0\n",
       "                                        0  1  0\n",
       "                                        0  0  1"
      ]
     },
     "execution_count": 48,
     "metadata": {},
     "output_type": "execute_result"
    }
   ],
   "source": [
    "function identity_matrix(n)\n",
    "    A=Sym[0 for i in 1:n]#create the first column\n",
    "    A[1]=1#initialize the first element of the first col with value 1\n",
    "    \n",
    "    for i in 2:n\n",
    "        B=Sym[0 for j in 1:n]#create other columns\n",
    "        B[i]=1\n",
    "        A=hcat(A,B)\n",
    "    end \n",
    "    \n",
    "    return A\n",
    "end\n",
    "\n",
    "I_matrix=identity_matrix(3)\n",
    "I_matrix[1,1]=sparse_polynomial(4,5,3,6)\n",
    "I_matrix"
   ]
  },
  {
   "cell_type": "code",
   "execution_count": 49,
   "id": "b0bf5d99",
   "metadata": {},
   "outputs": [
    {
     "data": {
      "text/latex": [
       "$\\left[ \\begin{array}{rrrr}1&2 x_{12} x_{4}^{2} + 2 x_{15} + 2 x_{19} x_{5} + 4 x_{21}&2 x_{1} x_{28} + x_{12} + 2 x_{18} x_{29} + 3 x_{21}&3 x_{12} x_{13} x_{31} + 3 x_{13} x_{20} x_{5} + 5 x_{17} x_{25} x_{28} + 3 x_{27}\\\\0&1&2 x_{1} x_{24} x_{3} + 3 x_{18} x_{6} + 2 x_{28} x_{5} + 4 x_{32} x_{8}&0\\\\0&0&1&0\\\\0&0&0&1\\end{array}\\right]$\n"
      ],
      "text/plain": [
       "4×4 Matrix{Sym}:\n",
       " 1  …  3⋅x₁₂⋅x₁₃⋅x₃₁ + 3⋅x₁₃⋅x₂₀⋅x₅ + 5⋅x₁₇⋅x₂₅⋅x₂₈ + 3⋅x₂₇\n",
       " 0                                                        0\n",
       " 0                                                        0\n",
       " 0                                                        1"
      ]
     },
     "execution_count": 49,
     "metadata": {},
     "output_type": "execute_result"
    }
   ],
   "source": [
    "function generate_U(k,n,t,B,q)\n",
    "    I_matrix=identity_matrix(k)#generate a kbyk identity matrix\n",
    "    for i in 1:Int((k*k-k)/2)\n",
    "        b=rand(2:k)\n",
    "        a=rand(1:(b-1))\n",
    "        I_matrix[a,b]=sparse_polynomial(n,t,B,q)\n",
    "    end\n",
    "    return I_matrix\n",
    "end\n",
    "U=generate_U(4,32,4,3,6)"
   ]
  },
  {
   "cell_type": "code",
   "execution_count": 50,
   "id": "6c61d541",
   "metadata": {},
   "outputs": [
    {
     "data": {
      "text/latex": [
       "$\\left[ \\begin{array}{rrrr}1&0&0&0\\\\0&1&0&0\\\\0&0&1&0\\\\0&0&0&1\\end{array}\\right]$\n"
      ],
      "text/plain": [
       "4×4 Matrix{Sym}:\n",
       " 1  0  0  0\n",
       " 0  1  0  0\n",
       " 0  0  1  0\n",
       " 0  0  0  1"
      ]
     },
     "execution_count": 50,
     "metadata": {},
     "output_type": "execute_result"
    }
   ],
   "source": [
    "function generate_L(k,n,t,B,q)\n",
    "    I_matrix=identity_matrix(k)#generate a k by k identity matrix\n",
    "    \n",
    "    for i in 1:Int((k*k-k)/2)\n",
    "        a=rand(2:k)\n",
    "        b=rand(1:a-1)\n",
    "        I_matrix[a,b]=sparse_polynomial(n,t,B,q)\n",
    "    end\n",
    "    return I_matrix\n",
    "end\n",
    "\n",
    "L=generate_L(4,32,4,3,6)\n",
    "expand.(simplify.(inv(L)*L))"
   ]
  },
  {
   "cell_type": "code",
   "execution_count": 56,
   "id": "f930ec4a",
   "metadata": {},
   "outputs": [
    {
     "name": "stdout",
     "output_type": "stream",
     "text": [
      "2\n"
     ]
    },
    {
     "data": {
      "text/plain": [
       "2-element Vector{Int64}:\n",
       " 1\n",
       " 3"
      ]
     },
     "execution_count": 56,
     "metadata": {},
     "output_type": "execute_result"
    }
   ],
   "source": [
    "A=[]\n",
    "push!(A,1)\n",
    "push!(A,'a')\n",
    "println(size(A,1))\n",
    "\n",
    "function cols_to_keep(k,l)#select l elements from a list of k elements; k choose l\n",
    "    col_opts=[i for i in 1:k]#a list with all possible column indexes\n",
    "    for i in 1:(k-l)#let us remove k-l elements from the list\n",
    "        random_number=size(col_opts,1)\n",
    "        splice!(col_opts, rand(1:random_number))\n",
    "    end\n",
    "    return col_opts\n",
    "end\n",
    "\n",
    "cols_to_keep(5,2)"
   ]
  },
  {
   "cell_type": "code",
   "execution_count": 57,
   "id": "63d33856",
   "metadata": {},
   "outputs": [
    {
     "data": {
      "text/latex": [
       "$\\left[ \\begin{array}{rrrr}0&0&0&0\\\\0&0&0&0\\\\0&0&0&0\\\\0&0&0&0\\\\0&0&0&0\\end{array}\\right]$\n"
      ],
      "text/plain": [
       "5×4 Matrix{Sym}:\n",
       " 0  0  0  0\n",
       " 0  0  0  0\n",
       " 0  0  0  0\n",
       " 0  0  0  0\n",
       " 0  0  0  0"
      ]
     },
     "execution_count": 57,
     "metadata": {},
     "output_type": "execute_result"
    }
   ],
   "source": [
    "zeros(Sym,5,4)\n"
   ]
  },
  {
   "cell_type": "markdown",
   "id": "550944f0",
   "metadata": {},
   "source": [
    "# utility functions"
   ]
  },
  {
   "cell_type": "code",
   "execution_count": 58,
   "id": "ebfc5215",
   "metadata": {},
   "outputs": [
    {
     "data": {
      "text/plain": [
       "([2, 3], Sym[6 6; 2 2; 6 2; 3 6])"
      ]
     },
     "execution_count": 58,
     "metadata": {},
     "output_type": "execute_result"
    }
   ],
   "source": [
    "function random_del_cols(k,l,matrix)\n",
    "    #     col_opts=[i for i in 1:l]\n",
    "    col_opts=cols_to_keep(k,l)\n",
    "    matrix_kl=zeros(Sym, k,l)\n",
    "    \n",
    "    j=1\n",
    "    for i in col_opts#columns to keep from the original matrix\n",
    "        matrix_kl[:,j]=matrix[:,i]\n",
    "        j+=1\n",
    "    end\n",
    "    return col_opts,matrix_kl\n",
    "end\n",
    "random_del_cols(4,2,[5 6 6 8; 2 2 2 8; 6 6 2 8; 2 3 6 7])\n",
    "    "
   ]
  },
  {
   "cell_type": "code",
   "execution_count": 60,
   "id": "8e936711",
   "metadata": {},
   "outputs": [
    {
     "data": {
      "text/latex": [
       "$\\left[ \\begin{array}{rrrr}17.0&8.75&-11.75&-16.0\\\\-4.0&-2.25&2.75&4.0\\end{array}\\right]$\n"
      ],
      "text/plain": [
       "2×4 Matrix{Sym}:\n",
       "  17.0000000000000   8.75000000000000  -11.7500000000000  -16.0000000000000\n",
       " -4.00000000000000  -2.25000000000000   2.75000000000000   4.00000000000000"
      ]
     },
     "execution_count": 60,
     "metadata": {},
     "output_type": "execute_result"
    }
   ],
   "source": [
    "function find_kl_inverse(to_keep,S_inv)\n",
    "    k=size(S_inv,1)#find the number of columns\n",
    "    ml_inv=zeros(Sym, length(to_keep),k)\n",
    "    \n",
    "    j=1\n",
    "    for i in to_keep\n",
    "        ml_inv[j,:]=S_inv[i,:]\n",
    "        j+=1\n",
    "    end\n",
    "    return ml_inv\n",
    "end\n",
    "find_kl_inverse([2 3],[-17 -9 12 16;17 35/4 -47/4 -16;-4 -9/4 11/4 4; 1 3/4 -3/4 -1])"
   ]
  },
  {
   "cell_type": "code",
   "execution_count": null,
   "id": "23ed30de",
   "metadata": {},
   "outputs": [],
   "source": []
  }
 ],
 "metadata": {
  "kernelspec": {
   "display_name": "Julia 1.6.7",
   "language": "julia",
   "name": "julia-1.6"
  },
  "language_info": {
   "file_extension": ".jl",
   "mimetype": "application/julia",
   "name": "julia",
   "version": "1.6.7"
  }
 },
 "nbformat": 4,
 "nbformat_minor": 5
}
