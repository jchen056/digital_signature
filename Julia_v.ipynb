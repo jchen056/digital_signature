{
 "cells": [
  {
   "cell_type": "code",
   "execution_count": 1,
   "id": "1abaa874",
   "metadata": {},
   "outputs": [
    {
     "name": "stderr",
     "output_type": "stream",
     "text": [
      "\u001b[32m\u001b[1m    Updating\u001b[22m\u001b[39m registry at `~/.julia/registries/General`\n",
      "\u001b[32m\u001b[1m   Resolving\u001b[22m\u001b[39m package versions...\n",
      "\u001b[32m\u001b[1m  No Changes\u001b[22m\u001b[39m to `~/.julia/environments/v1.6/Project.toml`\n",
      "\u001b[32m\u001b[1m  No Changes\u001b[22m\u001b[39m to `~/.julia/environments/v1.6/Manifest.toml`\n"
     ]
    }
   ],
   "source": [
    "using Pkg\n",
    "Pkg.add(\"SymPy\")"
   ]
  },
  {
   "cell_type": "code",
   "execution_count": 8,
   "id": "f201bade",
   "metadata": {},
   "outputs": [],
   "source": [
    "using SymPy"
   ]
  },
  {
   "cell_type": "code",
   "execution_count": 11,
   "id": "21942154",
   "metadata": {},
   "outputs": [
    {
     "data": {
      "text/plain": [
       "Sym"
      ]
     },
     "execution_count": 11,
     "metadata": {},
     "output_type": "execute_result"
    }
   ],
   "source": [
    "x=Sym(\"x\")\n",
    "y=Sym(\"y\")\n",
    "\n",
    "expr=x+2*y\n",
    "\n",
    "\n",
    "x*y\n",
    "typeof(x)"
   ]
  },
  {
   "cell_type": "code",
   "execution_count": 5,
   "id": "f1efc88a",
   "metadata": {},
   "outputs": [
    {
     "name": "stderr",
     "output_type": "stream",
     "text": [
      "\u001b[32m\u001b[1m   Resolving\u001b[22m\u001b[39m package versions...\n",
      "\u001b[32m\u001b[1m  No Changes\u001b[22m\u001b[39m to `~/.julia/environments/v1.6/Project.toml`\n",
      "\u001b[32m\u001b[1m  No Changes\u001b[22m\u001b[39m to `~/.julia/environments/v1.6/Manifest.toml`\n"
     ]
    }
   ],
   "source": [
    "using Pkg\n",
    "Pkg.add(\"Symbolics\")"
   ]
  },
  {
   "cell_type": "code",
   "execution_count": 6,
   "id": "430900a7",
   "metadata": {},
   "outputs": [
    {
     "data": {
      "text/plain": [
       "Num"
      ]
     },
     "execution_count": 6,
     "metadata": {},
     "output_type": "execute_result"
    }
   ],
   "source": [
    "using Symbolics\n",
    "@variables x y\n",
    "typeof(y)"
   ]
  },
  {
   "cell_type": "code",
   "execution_count": 13,
   "id": "82ca458b",
   "metadata": {},
   "outputs": [
    {
     "data": {
      "text/plain": [
       "Float64"
      ]
     },
     "execution_count": 13,
     "metadata": {},
     "output_type": "execute_result"
    }
   ],
   "source": [
    "typeof(1.0)"
   ]
  },
  {
   "cell_type": "markdown",
   "id": "ca9a00bc",
   "metadata": {},
   "source": [
    "# key generation"
   ]
  },
  {
   "cell_type": "code",
   "execution_count": 4,
   "id": "1d3b4452",
   "metadata": {},
   "outputs": [
    {
     "data": {
      "text/plain": [
       "12-element Vector{Any}:\n",
       " \"x1\"\n",
       " \"x2\"\n",
       " \"x3\"\n",
       " \"x4\"\n",
       " \"x5\"\n",
       " \"x6\"\n",
       " \"x7\"\n",
       " \"x8\"\n",
       " \"x9\"\n",
       " \"x10\"\n",
       " \"x11\"\n",
       " \"x12\""
      ]
     },
     "execution_count": 4,
     "metadata": {},
     "output_type": "execute_result"
    }
   ],
   "source": [
    "function poly_n_variables(n)\n",
    "    K=[]#an array; push! to add to the end of array\n",
    "    for i in 1:n\n",
    "        x=\"x\"*string(i)#string concatenation using *; convert int to string using string()\n",
    "        push!(K,x)\n",
    "    end\n",
    "    K\n",
    "end\n",
    "\n",
    "poly_n_variables(12)     "
   ]
  },
  {
   "cell_type": "code",
   "execution_count": 38,
   "id": "dcc4dd08",
   "metadata": {},
   "outputs": [
    {
     "name": "stdout",
     "output_type": "stream",
     "text": [
      "apple\n",
      "apple\n",
      "apple\n",
      "apple\n",
      "date\n",
      "apple\n",
      "banana\n",
      "apple\n",
      "cherry\n",
      "apple\n"
     ]
    }
   ],
   "source": [
    "for i in 1:10\n",
    "    println(rand([\"apple\", \"banana\", \"cherry\", \"date\"]))\n",
    "end"
   ]
  },
  {
   "cell_type": "code",
   "execution_count": 149,
   "id": "8372ac8d",
   "metadata": {},
   "outputs": [
    {
     "data": {
      "text/latex": [
       "$3 x_{1} x_{2} + 3 x_{1} x_{3} x_{4} + 4 x_{1} + 4 x_{2} + x_{4}$"
      ],
      "text/plain": [
       "3⋅x₁⋅x₂ + 3⋅x₁⋅x₃⋅x₄ + 4⋅x₁ + 4⋅x₂ + x₄"
      ]
     },
     "execution_count": 149,
     "metadata": {},
     "output_type": "execute_result"
    }
   ],
   "source": [
    "#t monomials\n",
    "#bound the degree of monials by b\n",
    "#coefficients go from 1 to q-1(inclusive)\n",
    "function sparse_polynomial(n,t,b,q)\n",
    "    K=poly_n_variables(n)\n",
    "    \n",
    "    sparse_poly=0\n",
    "    \n",
    "    B=[]\n",
    "    for i in 1:t#we want t monomials\n",
    "        deg=rand(1:b)#generate an int between 1 and b, inclusive\n",
    "        monomial_d=1\n",
    "        for j in 1:deg\n",
    "            monomial_d*=Sym(rand(K))\n",
    "        end\n",
    "        while monomial_d in B\n",
    "            for j in 1:deg\n",
    "                monomial_d*=Sym(rand(K))\n",
    "            end\n",
    "        end\n",
    "        push!(B,monomial_d)\n",
    "    end\n",
    "    for i in B\n",
    "        sparse_poly+=i*rand(1:(q-1))\n",
    "    end\n",
    "    sparse_poly\n",
    "end\n",
    "A=sparse_polynomial(4,5,3,6)"
   ]
  },
  {
   "cell_type": "markdown",
   "id": "d4c06a1d",
   "metadata": {},
   "source": [
    "# generate the matrix"
   ]
  },
  {
   "cell_type": "code",
   "execution_count": 158,
   "id": "fd0febea",
   "metadata": {},
   "outputs": [
    {
     "ename": "LoadError",
     "evalue": "PyError (ccall(#= /Users/jchen056/.julia/packages/PyCall/twYvK/src/conversions.jl:59 =# @pysym(:PyFloat_AsDouble), Cdouble, (PyPtr,), po)) <class 'TypeError'>\nTypeError('Cannot convert expression to float')\n  File \"/Users/jchen056/.julia/conda/3/x86_64/lib/python3.10/site-packages/sympy/core/expr.py\", line 351, in __float__\n    raise TypeError(\"Cannot convert expression to float\")\n",
     "output_type": "error",
     "traceback": [
      "PyError (ccall(#= /Users/jchen056/.julia/packages/PyCall/twYvK/src/conversions.jl:59 =# @pysym(:PyFloat_AsDouble), Cdouble, (PyPtr,), po)) <class 'TypeError'>\nTypeError('Cannot convert expression to float')\n  File \"/Users/jchen056/.julia/conda/3/x86_64/lib/python3.10/site-packages/sympy/core/expr.py\", line 351, in __float__\n    raise TypeError(\"Cannot convert expression to float\")\n",
      "",
      "Stacktrace:",
      " [1] pyerr_check",
      "   @ ~/.julia/packages/PyCall/twYvK/src/exception.jl:75 [inlined]",
      " [2] convert(#unused#::Type{Float64}, po::PyCall.PyObject)",
      "   @ PyCall ~/.julia/packages/PyCall/twYvK/src/conversions.jl:58",
      " [3] convert(#unused#::Type{Float64}, x::Sym)",
      "   @ SymPy ~/.julia/packages/SymPy/gkr7m/src/numbers.jl:23",
      " [4] setindex!(::Matrix{Float64}, ::Sym, ::Int64, ::Int64)",
      "   @ Base ./array.jl:845",
      " [5] top-level scope",
      "   @ In[158]:8"
     ]
    }
   ],
   "source": [
    "function identity_matrix(n)\n",
    "    A=\n",
    "    for i in 1:n\n",
    "        A[i,i]=1\n",
    "    end\n",
    "    A\n",
    "end\n",
    "identity_matrix(4)[1,1]=sparse_polynomial(4,5,3,6)\n",
    "\n"
   ]
  },
  {
   "cell_type": "code",
   "execution_count": 165,
   "id": "b0bf5d99",
   "metadata": {},
   "outputs": [
    {
     "ename": "LoadError",
     "evalue": "UndefVarError: I not defined",
     "output_type": "error",
     "traceback": [
      "UndefVarError: I not defined",
      "",
      "Stacktrace:",
      " [1] top-level scope",
      "   @ In[165]:2"
     ]
    }
   ],
   "source": [
    "zeros(4,4)\n",
    "I(4)"
   ]
  },
  {
   "cell_type": "code",
   "execution_count": null,
   "id": "6c61d541",
   "metadata": {},
   "outputs": [],
   "source": []
  }
 ],
 "metadata": {
  "kernelspec": {
   "display_name": "Julia 1.6.7",
   "language": "julia",
   "name": "julia-1.6"
  },
  "language_info": {
   "file_extension": ".jl",
   "mimetype": "application/julia",
   "name": "julia",
   "version": "1.6.7"
  }
 },
 "nbformat": 4,
 "nbformat_minor": 5
}
