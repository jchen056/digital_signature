{
 "cells": [
  {
   "cell_type": "code",
   "execution_count": 2,
   "id": "ed72a66c",
   "metadata": {},
   "outputs": [],
   "source": [
    "using Symbolics\n",
    "using LinearAlgebra"
   ]
  },
  {
   "cell_type": "markdown",
   "id": "9883ab1d",
   "metadata": {},
   "source": [
    "Julia documention: https://docs.julialang.org/en/v1/\n"
   ]
  },
  {
   "cell_type": "markdown",
   "id": "a82844cf",
   "metadata": {},
   "source": [
    "# Key generation"
   ]
  },
  {
   "cell_type": "code",
   "execution_count": 3,
   "id": "0f2be83a",
   "metadata": {},
   "outputs": [
    {
     "name": "stdout",
     "output_type": "stream",
     "text": [
      "x[35]\n"
     ]
    }
   ],
   "source": [
    "@variables x[1:36]\n",
    "\n",
    "\n",
    "\n",
    "# @variables a,b,c,t,x,y\n",
    "# typeof(a+b)\n",
    "\n",
    "# B=simplify.([t^2 + t + t^2  2t + 4t;\n",
    "#                   x + y + y + 2t  x^2 - x^2 + y^2])\n",
    "# B\n",
    "expand(x[36]*(x[35]+x[33]))\n",
    "println(x[35])"
   ]
  },
  {
   "cell_type": "code",
   "execution_count": 3,
   "id": "9a227fdb",
   "metadata": {},
   "outputs": [
    {
     "data": {
      "text/plain": [
       "modify_coeffcients (generic function with 1 method)"
      ]
     },
     "execution_count": 3,
     "metadata": {},
     "output_type": "execute_result"
    }
   ],
   "source": [
    "function modify_coeffcients(A,q)\n",
    "    \n",
    "    coeffs_map=Symbolics.value(A).dict#turn the polynomial into matrix\n",
    "    B=0#create our new polynomial\n",
    "    for (key, value) in coeffs_map#iterate through the dict(monomial, coeffcients)\n",
    "        if value>q\n",
    "            new_coef=value%q\n",
    "            B+=new_coef*key\n",
    "        else\n",
    "            B+=key*value\n",
    "        end  \n",
    "    end\n",
    "    B\n",
    "end"
   ]
  },
  {
   "cell_type": "code",
   "execution_count": 4,
   "id": "a0bf9da3",
   "metadata": {},
   "outputs": [
    {
     "data": {
      "text/latex": [
       "$$ \\begin{equation}\n",
       "2 x_1 + x_1 x_4 + x_1 x_2 x_4 + 2 x_1 x_2 x_3 + x_2\n",
       "\\end{equation}\n",
       " $$"
      ],
      "text/plain": [
       "2x[1] + x[1]*x[4] + x[1]*x[2]*x[4] + 2x[1]*x[2]*x[3] + x[2]"
      ]
     },
     "execution_count": 4,
     "metadata": {},
     "output_type": "execute_result"
    }
   ],
   "source": [
    "#t monomials\n",
    "#bound the degree of mononials by b, 1-b inclusive\n",
    "#coefficients go from 1 to q-1(inclusive)\n",
    "function sparse_polynomial(n,t,b,q)\n",
    "    @variables x[1:n]\n",
    "    \n",
    "    sparse_poly=0\n",
    "    \n",
    "    for i in 1:t #we want t monomials\n",
    "        deg=rand(1:b)\n",
    "        \n",
    "        monomial_d=1\n",
    "        for j in 1:deg\n",
    "            monomial_d*=x[rand(1:n)]\n",
    "        end\n",
    "        sparse_poly+=rand(1:(q-1))*monomial_d\n",
    "        \n",
    "    end\n",
    "#     println(sparse_poly)\n",
    "    A=modify_coeffcients(sparse_poly,q)\n",
    "    return A\n",
    "end\n",
    "\n",
    "A=sparse_polynomial(4,5,3,6)\n",
    "A"
   ]
  },
  {
   "cell_type": "markdown",
   "id": "8ab0be83",
   "metadata": {},
   "source": [
    "# matrix utility functions"
   ]
  },
  {
   "cell_type": "code",
   "execution_count": 5,
   "id": "c0294644",
   "metadata": {},
   "outputs": [
    {
     "data": {
      "text/plain": [
       "3×3 Matrix{Float64}:\n",
       " 1.0  0.0  0.0\n",
       " 0.0  1.0  0.0\n",
       " 0.0  0.0  1.0"
      ]
     },
     "execution_count": 5,
     "metadata": {},
     "output_type": "execute_result"
    }
   ],
   "source": [
    "A1 = [1 2 3; 4 1 6; 7 8 1]\n",
    "det(A1)\n",
    "I=diagm(0=>ones(3))#scalar*Identity matrix\n",
    "I\n"
   ]
  },
  {
   "cell_type": "code",
   "execution_count": 6,
   "id": "a13a157a",
   "metadata": {},
   "outputs": [
    {
     "ename": "LoadError",
     "evalue": "UndefVarError: x not defined",
     "output_type": "error",
     "traceback": [
      "UndefVarError: x not defined",
      "",
      "Stacktrace:",
      " [1] top-level scope",
      "   @ In[6]:12"
     ]
    }
   ],
   "source": [
    "function num_identity(k)\n",
    "    a=zeros(Num,k)\n",
    "    a[1]=1\n",
    "    for i in 2:k\n",
    "        b=zeros(Num,k)\n",
    "        b[i]=1\n",
    "        a=[a b] \n",
    "    end\n",
    "    return a\n",
    "end\n",
    "I_mat=num_identity(4)\n",
    "I_mat[1,1]=x[2]*x[3]+x[1]\n",
    "I_mat\n",
    "\n"
   ]
  },
  {
   "cell_type": "code",
   "execution_count": 7,
   "id": "f2f24d6d",
   "metadata": {},
   "outputs": [
    {
     "data": {
      "text/latex": [
       "$$ \\begin{equation}\n",
       "\\left[\n",
       "\\begin{array}{cccc}\n",
       "1 & 3 x_{1 7} + 4 x_{1 8} + 2 x_{2 7} + 3 x_{2 2} & 3 x_{1 5} x_{1 7} + 2 x_{1 8} x_{2 1} x_{2 9} + 4 x_2 x_{1 6} x_{3 1} + x_{1 9} & 0 \\\\\n",
       "0 & 1 & 3 x_{3 1} + 3 x_{2 7}^{2} x_{1 5} + 4 x_7 x_{1 3} + x_{2 2} & 0 \\\\\n",
       "0 & 0 & 1 & 0 \\\\\n",
       "0 & 0 & 0 & 1 \\\\\n",
       "\\end{array}\n",
       "\\right]\n",
       "\\end{equation}\n",
       " $$"
      ],
      "text/plain": [
       "4×4 Matrix{Num}:\n",
       " 1  3x[17] + 4x[18] + 2x[27] + 3x[22]  …  0\n",
       " 0                                  1     0\n",
       " 0                                  0     0\n",
       " 0                                  0     1"
      ]
     },
     "execution_count": 7,
     "metadata": {},
     "output_type": "execute_result"
    }
   ],
   "source": [
    "function generate_U(k,n,t,B,q)\n",
    "    I_matrix=num_identity(k)#generate a k by k identity matrix\n",
    "    for i in 1:Int((k*k-k)/2)\n",
    "        b=rand(2:k)\n",
    "        a=rand(1:(b-1))\n",
    "        I_matrix[a,b]=sparse_polynomial(n,t,B,q)\n",
    "    end\n",
    "\n",
    "    return I_matrix\n",
    "end \n",
    "\n",
    "U=generate_U(4,32,4,3,6)\n",
    "U\n",
    "# println(U)\n",
    "# simplify.(expand.(inv(U)*U))\n"
   ]
  },
  {
   "cell_type": "code",
   "execution_count": 8,
   "id": "84fb2f1a",
   "metadata": {},
   "outputs": [
    {
     "data": {
      "text/latex": [
       "$$ \\begin{equation}\n",
       "\\left[\n",
       "\\begin{array}{cccc}\n",
       "1.0 &  - 3 x_{1 7} - 4 x_{1 8} - 2 x_{2 7} - 3 x_{2 2} &  - x_{1 9} - \\left( 3 x_{1 7} + 4 x_{1 8} + 2 x_{2 7} + 3 x_{2 2} \\right) \\left(  - x_{2 2} - 3 x_{3 1} - 3 x_{2 7}^{2} x_{1 5} - 4 x_7 x_{1 3} \\right) - 3 x_{1 5} x_{1 7} - 2 x_{1 8} x_{2 1} x_{2 9} - 4 x_2 x_{1 6} x_{3 1} & 0.0 \\\\\n",
       "0 & 1.0 &  - x_{2 2} - 3 x_{3 1} - 3 x_{2 7}^{2} x_{1 5} - 4 x_7 x_{1 3} & 0.0 \\\\\n",
       "0 & 0 & 1.0 & 0.0 \\\\\n",
       "0 & 0 & 0 & 1.0 \\\\\n",
       "\\end{array}\n",
       "\\right]\n",
       "\\end{equation}\n",
       " $$"
      ],
      "text/plain": [
       "4×4 Matrix{Num}:\n",
       " 1.0  -3x[17] - 4x[18] - 2x[27] - 3x[22]    …  0.0\n",
       " 0                                     1.0     0.0\n",
       " 0                                     0       0.0\n",
       " 0                                     0       1.0"
      ]
     },
     "execution_count": 8,
     "metadata": {},
     "output_type": "execute_result"
    }
   ],
   "source": [
    "inv(U)"
   ]
  },
  {
   "cell_type": "code",
   "execution_count": 9,
   "id": "db9bee80",
   "metadata": {},
   "outputs": [
    {
     "data": {
      "text/latex": [
       "$$ \\begin{equation}\n",
       "\\left[\n",
       "\\begin{array}{cccc}\n",
       "1.0 & 0.0 & 0.0 & 0.0 \\\\\n",
       "0 & 1.0 & 0.0 & 0.0 \\\\\n",
       "0 & 0 & 1.0 & 0.0 \\\\\n",
       "0 & 0 & 0.0 & 1.0 \\\\\n",
       "\\end{array}\n",
       "\\right]\n",
       "\\end{equation}\n",
       " $$"
      ],
      "text/plain": [
       "4×4 Matrix{Num}:\n",
       " 1.0  0.0  0.0  0.0\n",
       " 0    1.0  0.0  0.0\n",
       " 0    0    1.0  0.0\n",
       " 0    0    0.0  1.0"
      ]
     },
     "execution_count": 9,
     "metadata": {},
     "output_type": "execute_result"
    }
   ],
   "source": [
    "function generate_L(k,n,t,B,q)\n",
    "    I_matrix=num_identity(k)#generate a k by k identity matrix\n",
    "    for i in 1:Int((k*k-k)/2)\n",
    "        a=rand(2:k)\n",
    "        b=rand(1:a-1)\n",
    "        I_matrix[a,b]=sparse_polynomial(n,t,B,q)\n",
    "    end\n",
    "    return I_matrix\n",
    "end\n",
    "L=generate_L(4,32,4,3,6)\n",
    "expand.(simplify.(inv(L)*L))\n",
    "\n",
    "# substitute.(inv(U)*U,(substitution_dict,))"
   ]
  },
  {
   "cell_type": "code",
   "execution_count": 10,
   "id": "9b87b641",
   "metadata": {},
   "outputs": [
    {
     "name": "stdout",
     "output_type": "stream",
     "text": [
      "2\n"
     ]
    },
    {
     "data": {
      "text/plain": [
       "3-element Vector{Int64}:\n",
       " 2\n",
       " 3\n",
       " 4"
      ]
     },
     "execution_count": 10,
     "metadata": {},
     "output_type": "execute_result"
    }
   ],
   "source": [
    "A=[]\n",
    "push!(A,1)\n",
    "push!(A,'a')\n",
    "println(size(A,1))\n",
    "B=[\"kk\",1]\n",
    "vcat(A,B)\n",
    "[i for i in 1:3]\n",
    "zeros(Num,3,4)[:,2]\n",
    "\n",
    "\n",
    "function cols_to_keep(k,l)\n",
    "    col_opts=[i for i in 1:k]\n",
    "    for i in 1:(k-l)\n",
    "        random_number=size(col_opts,1)\n",
    "        splice!(col_opts, rand(1:random_number))\n",
    "    end\n",
    "    return col_opts\n",
    "end\n",
    "cols_to_keep(4,3)"
   ]
  },
  {
   "cell_type": "markdown",
   "id": "dc9dd33b",
   "metadata": {},
   "source": [
    "# utility functions"
   ]
  },
  {
   "cell_type": "code",
   "execution_count": 11,
   "id": "5ebd2d38",
   "metadata": {},
   "outputs": [
    {
     "data": {
      "text/plain": [
       "([1, 3], Num[5 6; 2 2; 6 2; 2 6])"
      ]
     },
     "execution_count": 11,
     "metadata": {},
     "output_type": "execute_result"
    }
   ],
   "source": [
    "function random_del_cols(k,l,matrix)\n",
    "#     col_opts=[i for i in 1:l]\n",
    "    col_opts=cols_to_keep(k,l)\n",
    "    matrix_kl=zeros(Num, k,l)\n",
    "    \n",
    "    j=1\n",
    "    for i in col_opts\n",
    "        matrix_kl[:,j]=matrix[:,i]\n",
    "        j+=1\n",
    "    end\n",
    "    return col_opts,matrix_kl\n",
    "end\n",
    "\n",
    "random_del_cols(4,2,[5 6 6 8; 2 2 2 8; 6 6 2 8; 2 3 6 7])\n",
    "# size([5 6 6 8; 2 2 2 8; 6 6 2 8; 2 3 6 7],2)\n",
    "# size([5 6; 2 2; 6 6; 2 3])"
   ]
  },
  {
   "cell_type": "code",
   "execution_count": 12,
   "id": "5003b746",
   "metadata": {},
   "outputs": [
    {
     "data": {
      "text/latex": [
       "$$ \\begin{equation}\n",
       "\\left[\n",
       "\\begin{array}{cccc}\n",
       "-17.0 & -9.0 & 12.0 & 16.0 \\\\\n",
       "17.0 & 8.75 & -11.75 & -16.0 \\\\\n",
       "\\end{array}\n",
       "\\right]\n",
       "\\end{equation}\n",
       " $$"
      ],
      "text/plain": [
       "2×4 Matrix{Num}:\n",
       " -17.0  -9.0    12.0    16.0\n",
       "  17.0   8.75  -11.75  -16.0"
      ]
     },
     "execution_count": 12,
     "metadata": {},
     "output_type": "execute_result"
    }
   ],
   "source": [
    "function find_kl_inverse(to_keep,S_inv)\n",
    "    k=size(S_inv,1)#find the number of rows\n",
    "    ml_inv=zeros(Num, length(to_keep),k)\n",
    "    \n",
    "    j=1\n",
    "    for i in to_keep\n",
    "        ml_inv[j,:]=S_inv[i,:]\n",
    "        j+=1\n",
    "    end\n",
    "    return ml_inv\n",
    "end\n",
    "find_kl_inverse([1 2],[-17 -9 12 16;17 35/4 -47/4 -16;-4 -9/4 11/4 4; 1 3/4 -3/4 -1])\n",
    "#*[5 6; 2 2; 6 6; 2 3]\n",
    "    "
   ]
  },
  {
   "cell_type": "code",
   "execution_count": 15,
   "id": "f5bb60c6",
   "metadata": {},
   "outputs": [
    {
     "data": {
      "text/plain": [
       "true"
      ]
     },
     "execution_count": 15,
     "metadata": {},
     "output_type": "execute_result"
    }
   ],
   "source": [
    "1==1 && 4+5==9"
   ]
  },
  {
   "cell_type": "code",
   "execution_count": 6,
   "id": "338b03ec",
   "metadata": {},
   "outputs": [
    {
     "data": {
      "text/latex": [
       "$$ \\begin{equation}\n",
       " - 4 x_{1 0}^{2} x_5 x_{2 5} x_{2 6} + 5 x_{1 0} x_{1 3} x_{2 5} x_{2 9} + 4 x_4 x_{1 2} x_{2 1} x_{2 5} x_{2 8} - 5 x_{1 0}^{2} x_1^{3} x_5 x_8 x_{2 0} x_{2 6} - 5 x_1^{3} x_8 x_{1 0} x_{1 3} x_{2 0} x_{2 9} + 2 x_1^{3} x_4 x_8 x_{1 2} x_{2 0} x_{2 1} x_{2 8} - x_{1 3}^{2} x_5 x_{1 0} x_{2 2} x_{2 3} x_{2 9} x_{3 0} - x_{1 0}^{2} x_5^{2} x_{1 3} x_{2 2} x_{2 3} x_{2 6} x_{3 0} - 2 x_4 x_5 x_{1 2} x_{1 3} x_{2 1} x_{2 2} x_{2 3} x_{2 8} x_{3 0}\n",
       "\\end{equation}\n",
       " $$"
      ],
      "text/plain": [
       "5x[10]*x[13]*x[25]*x[29] + 4x[4]*x[12]*x[21]*x[25]*x[28] + 2(x[1]^3)*x[4]*x[8]*x[12]*x[20]*x[21]*x[28] - 4(x[10]^2)*x[5]*x[25]*x[26] - 5(x[1]^3)*(x[10]^2)*x[5]*x[8]*x[20]*x[26] - 5(x[1]^3)*x[8]*x[10]*x[13]*x[20]*x[29] - (x[13]^2)*x[5]*x[10]*x[22]*x[23]*x[29]*x[30] - (x[5]^2)*(x[10]^2)*x[13]*x[22]*x[23]*x[26]*x[30] - 2x[4]*x[5]*x[12]*x[13]*x[21]*x[22]*x[23]*x[28]*x[30]"
      ]
     },
     "execution_count": 6,
     "metadata": {},
     "output_type": "execute_result"
    }
   ],
   "source": [
    "function modify_neg_coeff(A,q)\n",
    "    \n",
    "    coeffs_map=Symbolics.value(A).dict#turn the polynomial into matrix\n",
    "    B=0#create our new polynomial\n",
    "    for (key, value) in coeffs_map#iterate through the dict(monomial, coeffcients)\n",
    "        if value>q || value<-q \n",
    "            new_coef=mod(value,q)\n",
    "            B+=new_coef*key\n",
    "        else\n",
    "            B+=key*value\n",
    "        end  \n",
    "    end\n",
    "    B\n",
    "end\n",
    "\n",
    "\n",
    "modify_neg_coeff(-4(x[10]^2)*x[5]*x[25]*x[26] - 7x[10]*x[13]*x[25]*x[29] - 8x[4]*x[12]*x[21]*x[25]*x[28] - 5(x[1]^3)*(x[10]^2)*x[5]*x[8]*x[20]*x[26] - 5(x[1]^3)*x[8]*x[10]*x[13]*x[20]*x[29] - 10(x[1]^3)*x[4]*x[8]*x[12]*x[20]*x[21]*x[28] - (x[13]^2)*x[5]*x[10]*x[22]*x[23]*x[29]*x[30] - (x[5]^2)*(x[10]^2)*x[13]*x[22]*x[23]*x[26]*x[30] - 2x[4]*x[5]*x[12]*x[13]*x[21]*x[22]*x[23]*x[28]*x[30],6)\n",
    "\n",
    "# modify_neg_coeff((x[10]^2)*x[5]*x[26] + x[10]*x[13]*x[29] + 2.0x[4]*x[12]*x[21]*x[28],6)\n"
   ]
  },
  {
   "cell_type": "code",
   "execution_count": 17,
   "id": "330c829e",
   "metadata": {},
   "outputs": [
    {
     "data": {
      "text/plain": [
       "Dict{Any, Any} with 9 entries:\n",
       "  x[1]*x[6]*x[8]*x[9]*x[18]*x[20]*x[22]*x[23]                => 15\n",
       "  x[3]*x[10]*x[11]*x[12]*x[19]*x[26]*x[30]*x[31]             => 15\n",
       "  x[1]*x[3]*x[8]*x[9]*x[10]*x[11]                            => 9\n",
       "  x[6]*x[12]*x[18]*x[19]*x[20]*x[22]*x[23]*x[26]*x[30]*x[31] => 25\n",
       "  (x[10]^2)*x[1]*x[3]*x[4]*x[11]*x[17]                       => 9\n",
       "  x[9]*x[12]*x[19]*x[23]*x[26]*x[30]*x[31]                   => 15\n",
       "  (x[9]^2)*x[1]*x[8]*x[23]                                   => 9\n",
       "  x[1]*x[4]*x[6]*x[10]*x[17]*x[18]*x[20]*x[22]*x[23]         => 15\n",
       "  x[1]*x[4]*x[9]*x[10]*x[17]*x[23]                           => 9"
      ]
     },
     "execution_count": 17,
     "metadata": {},
     "output_type": "execute_result"
    }
   ],
   "source": [
    "Num(0)!=0.0\n",
    "isone((x[10]^2)*x[5]*x[26] + x[10]*x[13]*x[29] + 2.0x[4]*x[12]*x[21]*x[28])\n",
    "iszero((x[10]^2)*x[5]*x[26] + x[10]*x[13]*x[29] + 2.0x[4]*x[12]*x[21]*x[28])\n",
    "isone(1.0)==true\n",
    "Symbolics.value(1 + 9(x[9]^2)*x[1]*x[8]*x[23] + 9(x[10]^2)*x[1]*x[3]*x[4]*x[11]*x[17] + 9x[1]*x[3]*x[8]*x[9]*x[10]*x[11] + 9x[1]*x[4]*x[9]*x[10]*x[17]*x[23] + 15x[9]*x[12]*x[19]*x[23]*x[26]*x[30]*x[31] + 15x[1]*x[6]*x[8]*x[9]*x[18]*x[20]*x[22]*x[23] + 15x[3]*x[10]*x[11]*x[12]*x[19]*x[26]*x[30]*x[31] + 15x[1]*x[4]*x[6]*x[10]*x[17]*x[18]*x[20]*x[22]*x[23] + 25x[6]*x[12]*x[18]*x[19]*x[20]*x[22]*x[23]*x[26]*x[30]*x[31]).dict"
   ]
  },
  {
   "cell_type": "code",
   "execution_count": 14,
   "id": "b85a48e4",
   "metadata": {},
   "outputs": [
    {
     "ename": "LoadError",
     "evalue": "UndefVarError: x not defined",
     "output_type": "error",
     "traceback": [
      "UndefVarError: x not defined",
      "",
      "Stacktrace:",
      " [1] top-level scope",
      "   @ In[14]:16"
     ]
    }
   ],
   "source": [
    "function modify_matrix_coef(matrix,q)\n",
    "    res=simplify.(expand.(matrix))#expand and then simplify\n",
    "    \n",
    "    for i in 1:size(res,1)\n",
    "        for j in 1:size(res,2)\n",
    "            a=res[i,j]\n",
    "\n",
    "            if isone(a)==false && iszero(a)==false            \n",
    "                res[i,j]=modify_neg_coeff(a,q)\n",
    "            end\n",
    "        end\n",
    "    end\n",
    "    return res\n",
    "end\n",
    "\n",
    "modify_matrix_coef([1.0 0 0 0.0; 0 1.0 0 0.0; 0 0 1 0.0; -4(x[10]^2)*x[5]*x[25]*x[26] - 4x[10]*x[13]*x[25]*x[29] - 8x[4]*x[12]*x[21]*x[25]*x[28] - 5(x[1]^3)*(x[10]^2)*x[5]*x[8]*x[20]*x[26] - 5(x[1]^3)*x[8]*x[10]*x[13]*x[20]*x[29] - 10(x[1]^3)*x[4]*x[8]*x[12]*x[20]*x[21]*x[28] - (x[13]^2)*x[5]*x[10]*x[22]*x[23]*x[29]*x[30] - (x[5]^2)*(x[10]^2)*x[13]*x[22]*x[23]*x[26]*x[30] - 2x[4]*x[5]*x[12]*x[13]*x[21]*x[22]*x[23]*x[28]*x[30] (x[10]^2)*x[5]*x[26] + x[10]*x[13]*x[29] + 2.0x[4]*x[12]*x[21]*x[28] 0 0.0],6)"
   ]
  },
  {
   "cell_type": "code",
   "execution_count": 15,
   "id": "70ce3461",
   "metadata": {},
   "outputs": [
    {
     "name": "stdout",
     "output_type": "stream",
     "text": [
      "(4, 3)\n",
      "(3, 4)"
     ]
    }
   ],
   "source": [
    "function matrix_kl(k,l,s,n,t,B,q)\n",
    "    Ls=[]\n",
    "    Us=[]\n",
    "    for i in 1:s\n",
    "        U=generate_U(k,n,t,B,q)\n",
    "        L=generate_L(k,n,t,B,q)\n",
    "        push!(Us,U)\n",
    "        push!(Ls,L)\n",
    "    end \n",
    "    U_new=Us[rand(1:s)]\n",
    "    L_new=Ls[rand(1:s)]\n",
    "    kk_matrix=L_new*U_new\n",
    "    kk_matrix=modify_matrix_coef(kk_matrix,q)#modify the coefficients for kk_matrix\n",
    "    kk_inv=inv(U_new)*inv(L_new)#able to compute, not able to verify the result\n",
    "    #kk_inv=inv(U_new)*inv(L_new)\n",
    "    \n",
    "    #make modifications to the coefficients of each entry in kk_matrix and kk_inv\n",
    "#     kk_matrix=modify_matrix_coef(kk_matrix,q)\n",
    "#     kk_inv=modify_matrix_coef(kk_inv,q)\n",
    "    \n",
    "    col_keep,kl_matrix=random_del_cols(k,l,kk_matrix)\n",
    "    kl_inverse=find_kl_inverse(col_keep,kk_inv)\n",
    "    \n",
    "    #modify coefficients\n",
    "#     kl_matrix=modify_matrix_coef(kl_matrix,q)\n",
    "#     kl_inverse=modify_matrix_coef(kl_inverse,q)\n",
    "    \n",
    "    return kk_matrix,kk_inv,kl_matrix, kl_inverse\n",
    "end \n",
    "\n",
    "\n",
    "A,B,C,D=matrix_kl(4,3,5,32,3,5,6)\n",
    "\n",
    "println(size(C))\n",
    "print(size(D))\n"
   ]
  },
  {
   "cell_type": "code",
   "execution_count": 16,
   "id": "15619141",
   "metadata": {},
   "outputs": [
    {
     "data": {
      "text/latex": [
       "$$ \\begin{equation}\n",
       "\\left[\n",
       "\\begin{array}{ccc}\n",
       "1 & 2 x_9 x_{1 0} x_{1 6} x_{2 5} + 2 x_2 x_{1 0} x_{2 1} x_{2 2} + 4 x_{1 5} x_{2 4} x_{2 7} x_{2 9} & 5 x_{1 7}^{2} x_{1 1} + 2 x_{3 1}^{2} x_2 x_{1 8} + 2 x_{1 1} x_{1 9} x_{3 1} x_{3 2} \\\\\n",
       "4 x_{2 4} + x_2 x_{3 2} + 5 x_9 x_{2 3} x_{2 6} x_{2 8} & 5 x_{1 6} x_{2 6} + 5 x_{2 0} x_{2 2} + 2 x_5 x_{1 0} x_{1 6} + 4 x_{2 4}^{2} x_{1 5} x_{2 7} x_{2 9} + 2 x_2 x_{1 0} x_{2 1} x_{2 2} x_{2 4} + 2 x_9 x_{1 0} x_{1 6} x_{2 4} x_{2 5} + 2 x_2^{2} x_{1 0} x_{2 1} x_{2 2} x_{3 2} + 2 x_2 x_9 x_{1 0} x_{1 6} x_{2 5} x_{3 2} + 4 x_2 x_{1 5} x_{2 4} x_{2 7} x_{2 9} x_{3 2} + 4 x_9^{2} x_{1 0} x_{1 6} x_{2 3} x_{2 5} x_{2 6} x_{2 8} + 4 x_2 x_9 x_{1 0} x_{2 1} x_{2 2} x_{2 3} x_{2 6} x_{2 8} + 2 x_9 x_{1 5} x_{2 3} x_{2 4} x_{2 6} x_{2 7} x_{2 8} x_{2 9} & 2 x_4 x_{1 3} + 2 x_{1 7}^{2} x_{1 1} x_{2 4} + 2 x_{3 1}^{2} x_2^{2} x_{1 8} x_{3 2} + 2 x_{3 1}^{2} x_2 x_{1 8} x_{2 4} + 5 x_{1 7}^{2} x_2 x_{1 1} x_{3 2} + 2 x_9^{2} x_8 x_{1 2} x_{2 0} + 2 x_{3 2}^{2} x_2 x_{1 1} x_{1 9} x_{3 1} + 2 x_{1 1} x_{1 9} x_{2 4} x_{3 1} x_{3 2} + x_{1 7}^{2} x_9 x_{1 1} x_{2 3} x_{2 6} x_{2 8} + 4 x_{2 3} x_{2 5} x_{2 6} x_{2 9} x_{3 2} + 4 x_{3 1}^{2} x_2 x_9 x_{1 8} x_{2 3} x_{2 6} x_{2 8} + 4 x_9 x_{1 1} x_{1 9} x_{2 3} x_{2 6} x_{2 8} x_{3 1} x_{3 2} \\\\\n",
       "5 x_7 x_{2 0} + 5 x_{1 1} x_{2 0} x_{2 3} x_{2 6} + 4 x_8 x_{1 7} x_{2 1} x_{2 8} & x_{2 2}^{2} x_{1 6} x_{1 9} x_{2 0} x_{2 7} + x_{2 2}^{2} x_{2 0}^{2} x_2 x_3 x_{2 8} + x_{1 6}^{2} x_{1 9} x_{2 2} x_{2 6} x_{2 7} + 2 x_7 x_{1 5} x_{2 0} x_{2 4} x_{2 7} x_{2 9} + 5 x_{3 1}^{2} x_8 x_{1 2} x_{1 6} x_{2 1} x_{2 6} + 5 x_{3 1}^{2} x_8 x_{1 2} x_{2 0} x_{2 1} x_{2 2} + 4 x_{1 6}^{2} x_5 x_{1 0} x_{1 9} x_{2 2} x_{2 7} + 4 x_7 x_9 x_{1 0} x_{1 6} x_{2 0} x_{2 5} + 4 x_2 x_7 x_{1 0} x_{2 0} x_{2 1} x_{2 2} + x_2 x_3 x_{1 6} x_{2 0} x_{2 2} x_{2 6} x_{2 8} + 2 x_{2 1}^{2} x_2 x_8 x_{1 0} x_{1 7} x_{2 2} x_{2 8} + 2 x_{3 1}^{2} x_5 x_8 x_{1 0} x_{1 2} x_{1 6} x_{2 1} + 4 x_2 x_{1 0} x_{1 1} x_{2 0} x_{2 1} x_{2 2} x_{2 3} x_{2 6} + 4 x_9 x_{1 0} x_{1 1} x_{1 6} x_{2 0} x_{2 3} x_{2 5} x_{2 6} + 4 x_2 x_3 x_5 x_{1 0} x_{1 6} x_{2 0} x_{2 2} x_{2 8} + 2 x_8 x_9 x_{1 0} x_{1 6} x_{1 7} x_{2 1} x_{2 5} x_{2 8} + 4 x_8 x_{1 5} x_{1 7} x_{2 1} x_{2 4} x_{2 7} x_{2 8} x_{2 9} + 2 x_{1 1} x_{1 5} x_{2 0} x_{2 3} x_{2 4} x_{2 6} x_{2 7} x_{2 9} & x_{1 7}^{2} x_7 x_{1 1} x_{2 0} + x_{1 7}^{2} x_{1 1}^{2} x_{2 0} x_{2 3} x_{2 6} + 2 x_{1 7}^{3} x_8 x_{1 1} x_{2 1} x_{2 8} + 4 x_{3 1}^{2} x_2 x_7 x_{1 8} x_{2 0} + 2 x_{3 1}^{2} x_4 x_8 x_{1 2} x_{1 3} x_{2 1} + 2 x_{3 1}^{2} x_{1 2}^{2} x_9^{2} x_8^{2} x_{2 0} x_{2 1} + 4 x_4 x_{1 3} x_{1 6} x_{1 9} x_{2 2} x_{2 7} + 4 x_7 x_{1 1} x_{1 9} x_{2 0} x_{3 1} x_{3 2} + 4 x_{3 1}^{2} x_2 x_{1 1} x_{1 8} x_{2 0} x_{2 3} x_{2 6} + 2 x_{3 1}^{2} x_2 x_8 x_{1 7} x_{1 8} x_{2 1} x_{2 8} + 4 x_{1 1}^{2} x_{1 9} x_{2 0} x_{2 3} x_{2 6} x_{3 1} x_{3 2} + 4 x_2 x_3 x_4 x_{1 3} x_{2 0} x_{2 2} x_{2 8} + 4 x_{2 0}^{2} x_9^{2} x_2 x_3 x_8 x_{1 2} x_{2 2} x_{2 8} + 4 x_9^{2} x_8 x_{1 2} x_{1 6} x_{1 9} x_{2 0} x_{2 2} x_{2 7} + 2 x_8 x_{1 1} x_{1 7} x_{1 9} x_{2 1} x_{2 8} x_{3 1} x_{3 2} + 4 x_{3 1}^{2} x_8 x_{1 2} x_{2 1} x_{2 3} x_{2 5} x_{2 6} x_{2 9} x_{3 2} + 2 x_{1 6} x_{1 9} x_{2 2} x_{2 3} x_{2 5} x_{2 6} x_{2 7} x_{2 9} x_{3 2} + 2 x_2 x_3 x_{2 0} x_{2 2} x_{2 3} x_{2 5} x_{2 6} x_{2 8} x_{2 9} x_{3 2} \\\\\n",
       "0 & 2 x_2 + x_5 x_{2 2} + 5 x_3 x_6 x_{1 7} & 1 \\\\\n",
       "\\end{array}\n",
       "\\right]\n",
       "\\end{equation}\n",
       " $$"
      ],
      "text/plain": [
       "4×3 Matrix{Num}:\n",
       "                                                                1  …                                                                                                                                                                                                                                                                                                                                                                                                                                                                                                                                                                                                                                                                                                                                                                                            5(x[17]^2)*x[11] + 2(x[31]^2)*x[2]*x[18] + 2x[11]*x[19]*x[31]*x[32]\n",
       "                    4x[24] + x[2]*x[32] + 5x[9]*x[23]*x[26]*x[28]                                                                                                                                                                                                                                                                                                                                                                                                                                                   2x[4]*x[13] + 2(x[17]^2)*x[11]*x[24] + 2(x[2]^2)*(x[31]^2)*x[18]*x[32] + 2(x[31]^2)*x[2]*x[18]*x[24] + 5(x[17]^2)*x[2]*x[11]*x[32] + 2(x[9]^2)*x[8]*x[12]*x[20] + 2(x[32]^2)*x[2]*x[11]*x[19]*x[31] + 2x[11]*x[19]*x[24]*x[31]*x[32] + (x[17]^2)*x[9]*x[11]*x[23]*x[26]*x[28] + 4x[23]*x[25]*x[26]*x[29]*x[32] + 4(x[31]^2)*x[2]*x[9]*x[18]*x[23]*x[26]*x[28] + 4x[9]*x[11]*x[19]*x[23]*x[26]*x[28]*x[31]*x[32]\n",
       " 5x[7]*x[20] + 5x[11]*x[20]*x[23]*x[26] + 4x[8]*x[17]*x[21]*x[28]     (x[17]^2)*x[7]*x[11]*x[20] + (x[11]^2)*(x[17]^2)*x[20]*x[23]*x[26] + 2(x[17]^3)*x[8]*x[11]*x[21]*x[28] + 4(x[31]^2)*x[2]*x[7]*x[18]*x[20] + 2(x[31]^2)*x[4]*x[8]*x[12]*x[13]*x[21] + 2(x[8]^2)*(x[9]^2)*(x[12]^2)*(x[31]^2)*x[20]*x[21] + 4x[4]*x[13]*x[16]*x[19]*x[22]*x[27] + 4x[7]*x[11]*x[19]*x[20]*x[31]*x[32] + 4(x[31]^2)*x[2]*x[11]*x[18]*x[20]*x[23]*x[26] + 2(x[31]^2)*x[2]*x[8]*x[17]*x[18]*x[21]*x[28] + 4(x[11]^2)*x[19]*x[20]*x[23]*x[26]*x[31]*x[32] + 4x[2]*x[3]*x[4]*x[13]*x[20]*x[22]*x[28] + 4(x[9]^2)*(x[20]^2)*x[2]*x[3]*x[8]*x[12]*x[22]*x[28] + 4(x[9]^2)*x[8]*x[12]*x[16]*x[19]*x[20]*x[22]*x[27] + 2x[8]*x[11]*x[17]*x[19]*x[21]*x[28]*x[31]*x[32] + 4(x[31]^2)*x[8]*x[12]*x[21]*x[23]*x[25]*x[26]*x[29]*x[32] + 2x[16]*x[19]*x[22]*x[23]*x[25]*x[26]*x[27]*x[29]*x[32] + 2x[2]*x[3]*x[20]*x[22]*x[23]*x[25]*x[26]*x[28]*x[29]*x[32]\n",
       "                                                                0                                                                                                                                                                                                                                                                                                                                                                                                                                                                                                                                                                                                                                                                                                                                                                                                                                                                 1"
      ]
     },
     "execution_count": 16,
     "metadata": {},
     "output_type": "execute_result"
    }
   ],
   "source": [
    "C"
   ]
  },
  {
   "cell_type": "code",
   "execution_count": 239,
   "id": "0c31be23",
   "metadata": {},
   "outputs": [
    {
     "data": {
      "text/latex": [
       "$$ \\begin{equation}\n",
       "a^{3} + y^{3} + z^{3} + 3 z \\left( a^{2} + y^{2} \\right) + 3 a \\left( y^{2} + z^{2} \\right) + 3 y \\left( a^{2} + z^{2} \\right) + 6 a y z\n",
       "\\end{equation}\n",
       " $$"
      ],
      "text/plain": [
       "a^3 + y^3 + z^3 + 3z*(a^2 + y^2) + 3a*(y^2 + z^2) + 3y*(a^2 + z^2) + 6a*y*z"
      ]
     },
     "execution_count": 239,
     "metadata": {},
     "output_type": "execute_result"
    }
   ],
   "source": [
    "@variables a,y,z\n",
    "simplify(expand((a+y+z)^3))"
   ]
  },
  {
   "cell_type": "code",
   "execution_count": 17,
   "id": "8951b3de",
   "metadata": {},
   "outputs": [
    {
     "data": {
      "text/latex": [
       "$$ \\begin{equation}\n",
       "\\left[\n",
       "\\begin{array}{ccc}\n",
       "1.0 + \\left(  - x_{1 3} - 2 x_{1 4} - 3 x_4 x_{2 3} x_{2 8} \\right) \\left(  - 4 x_{2 4} - x_2 x_{3 2} - 5 x_9 x_{2 3} x_{2 6} x_{2 8} \\right) + \\left(  - \\left( 2 x_{1 4} + 3 x_4 x_{2 3} x_{2 8} + x_{1 3} \\right) \\left(  - 5 x_{1 6} x_{2 6} - 5 x_{2 0} x_{2 2} - 2 x_5 x_{1 0} x_{1 6} \\right) - 2 x_9 x_{1 0} x_{1 6} x_{2 5} - 2 x_2 x_{1 0} x_{2 1} x_{2 2} - 4 x_{1 5} x_{2 4} x_{2 7} x_{2 9} \\right) \\left(  - \\left(  - 4 x_{2 4} - x_2 x_{3 2} - 5 x_9 x_{2 3} x_{2 6} x_{2 8} \\right) \\left( x_{3 1}^{2} x_8 x_{1 2} x_{2 1} + 5 x_{1 6} x_{1 9} x_{2 2} x_{2 7} + 5 x_2 x_3 x_{2 0} x_{2 2} x_{2 8} \\right) - 5 x_7 x_{2 0} - 5 x_{1 1} x_{2 0} x_{2 3} x_{2 6} - 4 x_8 x_{1 7} x_{2 1} x_{2 8} \\right) + \\left( 4 x_{2 4} + x_2 x_{3 2} + 5 x_9 x_{2 3} x_{2 6} x_{2 8} \\right) \\left( \\left(  - x_{3 1}^{2} x_8 x_{1 2} x_{2 1} - 5 x_{1 6} x_{1 9} x_{2 2} x_{2 7} - 5 x_2 x_3 x_{2 0} x_{2 2} x_{2 8} \\right) \\left(  - \\left( 2 x_{1 4} + 3 x_4 x_{2 3} x_{2 8} + x_{1 3} \\right) \\left(  - 5 x_{1 6} x_{2 6} - 5 x_{2 0} x_{2 2} - 2 x_5 x_{1 0} x_{1 6} \\right) - 2 x_9 x_{1 0} x_{1 6} x_{2 5} - 2 x_2 x_{1 0} x_{2 1} x_{2 2} - 4 x_{1 5} x_{2 4} x_{2 7} x_{2 9} \\right) - x_{1 3} - 2 x_{1 4} - \\left( 2 x_2 + x_5 x_{2 2} + 5 x_3 x_6 x_{1 7} \\right) \\left(  - x_{3 1}^{2} x_8 x_{1 2} x_{2 1} - 5 x_{1 6} x_{1 9} x_{2 2} x_{2 7} - 5 x_2 x_3 x_{2 0} x_{2 2} x_{2 8} \\right) \\left(  - \\left(  - 2 x_4 x_{1 3} - 2 x_9^{2} x_8 x_{1 2} x_{2 0} - 4 x_{2 3} x_{2 5} x_{2 6} x_{2 9} x_{3 2} \\right) \\left( 2 x_{1 4} + 3 x_4 x_{2 3} x_{2 8} + x_{1 3} \\right) - 5 x_{1 7}^{2} x_{1 1} - 2 x_{3 1}^{2} x_2 x_{1 8} - 2 x_{1 1} x_{1 9} x_{3 1} x_{3 2} \\right) - 3 x_4 x_{2 3} x_{2 8} \\right) + \\left( 5 x_7 x_{2 0} + 5 x_{1 1} x_{2 0} x_{2 3} x_{2 6} + 4 x_8 x_{1 7} x_{2 1} x_{2 8} \\right) \\left( \\left(  - 2 x_2 - x_5 x_{2 2} - 5 x_3 x_6 x_{1 7} \\right) \\left(  - \\left(  - 2 x_4 x_{1 3} - 2 x_9^{2} x_8 x_{1 2} x_{2 0} - 4 x_{2 3} x_{2 5} x_{2 6} x_{2 9} x_{3 2} \\right) \\left( 2 x_{1 4} + 3 x_4 x_{2 3} x_{2 8} + x_{1 3} \\right) - 5 x_{1 7}^{2} x_{1 1} - 2 x_{3 1}^{2} x_2 x_{1 8} - 2 x_{1 1} x_{1 9} x_{3 1} x_{3 2} \\right) - \\left( 2 x_{1 4} + 3 x_4 x_{2 3} x_{2 8} + x_{1 3} \\right) \\left(  - 5 x_{1 6} x_{2 6} - 5 x_{2 0} x_{2 2} - 2 x_5 x_{1 0} x_{1 6} \\right) - 2 x_9 x_{1 0} x_{1 6} x_{2 5} - 2 x_2 x_{1 0} x_{2 1} x_{2 2} - 4 x_{1 5} x_{2 4} x_{2 7} x_{2 9} \\right) - \\left( 2 x_2 + x_5 x_{2 2} + 5 x_3 x_6 x_{1 7} \\right) \\left(  - \\left(  - 4 x_{2 4} - x_2 x_{3 2} - 5 x_9 x_{2 3} x_{2 6} x_{2 8} \\right) \\left( x_{3 1}^{2} x_8 x_{1 2} x_{2 1} + 5 x_{1 6} x_{1 9} x_{2 2} x_{2 7} + 5 x_2 x_3 x_{2 0} x_{2 2} x_{2 8} \\right) - 5 x_7 x_{2 0} - 5 x_{1 1} x_{2 0} x_{2 3} x_{2 6} - 4 x_8 x_{1 7} x_{2 1} x_{2 8} \\right) \\left(  - \\left(  - 2 x_4 x_{1 3} - 2 x_9^{2} x_8 x_{1 2} x_{2 0} - 4 x_{2 3} x_{2 5} x_{2 6} x_{2 9} x_{3 2} \\right) \\left( 2 x_{1 4} + 3 x_4 x_{2 3} x_{2 8} + x_{1 3} \\right) - 5 x_{1 7}^{2} x_{1 1} - 2 x_{3 1}^{2} x_2 x_{1 8} - 2 x_{1 1} x_{1 9} x_{3 1} x_{3 2} \\right) & \\left( 2 x_2 + x_5 x_{2 2} + 5 x_3 x_6 x_{1 7} \\right) \\left(  - \\left(  - 2 x_4 x_{1 3} - 2 x_9^{2} x_8 x_{1 2} x_{2 0} - 4 x_{2 3} x_{2 5} x_{2 6} x_{2 9} x_{3 2} \\right) \\left( 2 x_{1 4} + 3 x_4 x_{2 3} x_{2 8} + x_{1 3} \\right) - 5 x_{1 7}^{2} x_{1 1} - 2 x_{3 1}^{2} x_2 x_{1 8} - 2 x_{1 1} x_{1 9} x_{3 1} x_{3 2} \\right) + \\left( 2 x_9 x_{1 0} x_{1 6} x_{2 5} + 2 x_2 x_{1 0} x_{2 1} x_{2 2} + 4 x_{1 5} x_{2 4} x_{2 7} x_{2 9} \\right) \\left( 1.0 + \\left(  - x_{1 3} - 2 x_{1 4} - 3 x_4 x_{2 3} x_{2 8} \\right) \\left(  - 4 x_{2 4} - x_2 x_{3 2} - 5 x_9 x_{2 3} x_{2 6} x_{2 8} \\right) + \\left(  - \\left( 2 x_{1 4} + 3 x_4 x_{2 3} x_{2 8} + x_{1 3} \\right) \\left(  - 5 x_{1 6} x_{2 6} - 5 x_{2 0} x_{2 2} - 2 x_5 x_{1 0} x_{1 6} \\right) - 2 x_9 x_{1 0} x_{1 6} x_{2 5} - 2 x_2 x_{1 0} x_{2 1} x_{2 2} - 4 x_{1 5} x_{2 4} x_{2 7} x_{2 9} \\right) \\left(  - \\left(  - 4 x_{2 4} - x_2 x_{3 2} - 5 x_9 x_{2 3} x_{2 6} x_{2 8} \\right) \\left( x_{3 1}^{2} x_8 x_{1 2} x_{2 1} + 5 x_{1 6} x_{1 9} x_{2 2} x_{2 7} + 5 x_2 x_3 x_{2 0} x_{2 2} x_{2 8} \\right) - 5 x_7 x_{2 0} - 5 x_{1 1} x_{2 0} x_{2 3} x_{2 6} - 4 x_8 x_{1 7} x_{2 1} x_{2 8} \\right) - \\left( 2 x_2 + x_5 x_{2 2} + 5 x_3 x_6 x_{1 7} \\right) \\left(  - \\left(  - 4 x_{2 4} - x_2 x_{3 2} - 5 x_9 x_{2 3} x_{2 6} x_{2 8} \\right) \\left( x_{3 1}^{2} x_8 x_{1 2} x_{2 1} + 5 x_{1 6} x_{1 9} x_{2 2} x_{2 7} + 5 x_2 x_3 x_{2 0} x_{2 2} x_{2 8} \\right) - 5 x_7 x_{2 0} - 5 x_{1 1} x_{2 0} x_{2 3} x_{2 6} - 4 x_8 x_{1 7} x_{2 1} x_{2 8} \\right) \\left(  - \\left(  - 2 x_4 x_{1 3} - 2 x_9^{2} x_8 x_{1 2} x_{2 0} - 4 x_{2 3} x_{2 5} x_{2 6} x_{2 9} x_{3 2} \\right) \\left( 2 x_{1 4} + 3 x_4 x_{2 3} x_{2 8} + x_{1 3} \\right) - 5 x_{1 7}^{2} x_{1 1} - 2 x_{3 1}^{2} x_2 x_{1 8} - 2 x_{1 1} x_{1 9} x_{3 1} x_{3 2} \\right) \\right) + \\left( \\left(  - x_{3 1}^{2} x_8 x_{1 2} x_{2 1} - 5 x_{1 6} x_{1 9} x_{2 2} x_{2 7} - 5 x_2 x_3 x_{2 0} x_{2 2} x_{2 8} \\right) \\left(  - \\left( 2 x_{1 4} + 3 x_4 x_{2 3} x_{2 8} + x_{1 3} \\right) \\left(  - 5 x_{1 6} x_{2 6} - 5 x_{2 0} x_{2 2} - 2 x_5 x_{1 0} x_{1 6} \\right) - 2 x_9 x_{1 0} x_{1 6} x_{2 5} - 2 x_2 x_{1 0} x_{2 1} x_{2 2} - 4 x_{1 5} x_{2 4} x_{2 7} x_{2 9} \\right) - x_{1 3} - 2 x_{1 4} - \\left( 2 x_2 + x_5 x_{2 2} + 5 x_3 x_6 x_{1 7} \\right) \\left(  - x_{3 1}^{2} x_8 x_{1 2} x_{2 1} - 5 x_{1 6} x_{1 9} x_{2 2} x_{2 7} - 5 x_2 x_3 x_{2 0} x_{2 2} x_{2 8} \\right) \\left(  - \\left(  - 2 x_4 x_{1 3} - 2 x_9^{2} x_8 x_{1 2} x_{2 0} - 4 x_{2 3} x_{2 5} x_{2 6} x_{2 9} x_{3 2} \\right) \\left( 2 x_{1 4} + 3 x_4 x_{2 3} x_{2 8} + x_{1 3} \\right) - 5 x_{1 7}^{2} x_{1 1} - 2 x_{3 1}^{2} x_2 x_{1 8} - 2 x_{1 1} x_{1 9} x_{3 1} x_{3 2} \\right) - 3 x_4 x_{2 3} x_{2 8} \\right) \\left( 5 x_{1 6} x_{2 6} + 5 x_{2 0} x_{2 2} + 2 x_5 x_{1 0} x_{1 6} + 4 x_{2 4}^{2} x_{1 5} x_{2 7} x_{2 9} + 2 x_2 x_{1 0} x_{2 1} x_{2 2} x_{2 4} + 2 x_9 x_{1 0} x_{1 6} x_{2 4} x_{2 5} + 2 x_2^{2} x_{1 0} x_{2 1} x_{2 2} x_{3 2} + 2 x_2 x_9 x_{1 0} x_{1 6} x_{2 5} x_{3 2} + 4 x_2 x_{1 5} x_{2 4} x_{2 7} x_{2 9} x_{3 2} + 4 x_9^{2} x_{1 0} x_{1 6} x_{2 3} x_{2 5} x_{2 6} x_{2 8} + 4 x_2 x_9 x_{1 0} x_{2 1} x_{2 2} x_{2 3} x_{2 6} x_{2 8} + 2 x_9 x_{1 5} x_{2 3} x_{2 4} x_{2 6} x_{2 7} x_{2 8} x_{2 9} \\right) + \\left( \\left(  - 2 x_2 - x_5 x_{2 2} - 5 x_3 x_6 x_{1 7} \\right) \\left(  - \\left(  - 2 x_4 x_{1 3} - 2 x_9^{2} x_8 x_{1 2} x_{2 0} - 4 x_{2 3} x_{2 5} x_{2 6} x_{2 9} x_{3 2} \\right) \\left( 2 x_{1 4} + 3 x_4 x_{2 3} x_{2 8} + x_{1 3} \\right) - 5 x_{1 7}^{2} x_{1 1} - 2 x_{3 1}^{2} x_2 x_{1 8} - 2 x_{1 1} x_{1 9} x_{3 1} x_{3 2} \\right) - \\left( 2 x_{1 4} + 3 x_4 x_{2 3} x_{2 8} + x_{1 3} \\right) \\left(  - 5 x_{1 6} x_{2 6} - 5 x_{2 0} x_{2 2} - 2 x_5 x_{1 0} x_{1 6} \\right) - 2 x_9 x_{1 0} x_{1 6} x_{2 5} - 2 x_2 x_{1 0} x_{2 1} x_{2 2} - 4 x_{1 5} x_{2 4} x_{2 7} x_{2 9} \\right) \\left( x_{2 2}^{2} x_{1 6} x_{1 9} x_{2 0} x_{2 7} + x_{2 2}^{2} x_{2 0}^{2} x_2 x_3 x_{2 8} + x_{1 6}^{2} x_{1 9} x_{2 2} x_{2 6} x_{2 7} + 2 x_7 x_{1 5} x_{2 0} x_{2 4} x_{2 7} x_{2 9} + 5 x_{3 1}^{2} x_8 x_{1 2} x_{1 6} x_{2 1} x_{2 6} + 5 x_{3 1}^{2} x_8 x_{1 2} x_{2 0} x_{2 1} x_{2 2} + 4 x_{1 6}^{2} x_5 x_{1 0} x_{1 9} x_{2 2} x_{2 7} + 4 x_7 x_9 x_{1 0} x_{1 6} x_{2 0} x_{2 5} + 4 x_2 x_7 x_{1 0} x_{2 0} x_{2 1} x_{2 2} + x_2 x_3 x_{1 6} x_{2 0} x_{2 2} x_{2 6} x_{2 8} + 2 x_{2 1}^{2} x_2 x_8 x_{1 0} x_{1 7} x_{2 2} x_{2 8} + 2 x_{3 1}^{2} x_5 x_8 x_{1 0} x_{1 2} x_{1 6} x_{2 1} + 4 x_2 x_{1 0} x_{1 1} x_{2 0} x_{2 1} x_{2 2} x_{2 3} x_{2 6} + 4 x_9 x_{1 0} x_{1 1} x_{1 6} x_{2 0} x_{2 3} x_{2 5} x_{2 6} + 4 x_2 x_3 x_5 x_{1 0} x_{1 6} x_{2 0} x_{2 2} x_{2 8} + 2 x_8 x_9 x_{1 0} x_{1 6} x_{1 7} x_{2 1} x_{2 5} x_{2 8} + 4 x_8 x_{1 5} x_{1 7} x_{2 1} x_{2 4} x_{2 7} x_{2 8} x_{2 9} + 2 x_{1 1} x_{1 5} x_{2 0} x_{2 3} x_{2 4} x_{2 6} x_{2 7} x_{2 9} \\right) & \\left( 5 x_{1 7}^{2} x_{1 1} + 2 x_{3 1}^{2} x_2 x_{1 8} + 2 x_{1 1} x_{1 9} x_{3 1} x_{3 2} \\right) \\left( 1.0 + \\left(  - x_{1 3} - 2 x_{1 4} - 3 x_4 x_{2 3} x_{2 8} \\right) \\left(  - 4 x_{2 4} - x_2 x_{3 2} - 5 x_9 x_{2 3} x_{2 6} x_{2 8} \\right) + \\left(  - \\left( 2 x_{1 4} + 3 x_4 x_{2 3} x_{2 8} + x_{1 3} \\right) \\left(  - 5 x_{1 6} x_{2 6} - 5 x_{2 0} x_{2 2} - 2 x_5 x_{1 0} x_{1 6} \\right) - 2 x_9 x_{1 0} x_{1 6} x_{2 5} - 2 x_2 x_{1 0} x_{2 1} x_{2 2} - 4 x_{1 5} x_{2 4} x_{2 7} x_{2 9} \\right) \\left(  - \\left(  - 4 x_{2 4} - x_2 x_{3 2} - 5 x_9 x_{2 3} x_{2 6} x_{2 8} \\right) \\left( x_{3 1}^{2} x_8 x_{1 2} x_{2 1} + 5 x_{1 6} x_{1 9} x_{2 2} x_{2 7} + 5 x_2 x_3 x_{2 0} x_{2 2} x_{2 8} \\right) - 5 x_7 x_{2 0} - 5 x_{1 1} x_{2 0} x_{2 3} x_{2 6} - 4 x_8 x_{1 7} x_{2 1} x_{2 8} \\right) - \\left( 2 x_2 + x_5 x_{2 2} + 5 x_3 x_6 x_{1 7} \\right) \\left(  - \\left(  - 4 x_{2 4} - x_2 x_{3 2} - 5 x_9 x_{2 3} x_{2 6} x_{2 8} \\right) \\left( x_{3 1}^{2} x_8 x_{1 2} x_{2 1} + 5 x_{1 6} x_{1 9} x_{2 2} x_{2 7} + 5 x_2 x_3 x_{2 0} x_{2 2} x_{2 8} \\right) - 5 x_7 x_{2 0} - 5 x_{1 1} x_{2 0} x_{2 3} x_{2 6} - 4 x_8 x_{1 7} x_{2 1} x_{2 8} \\right) \\left(  - \\left(  - 2 x_4 x_{1 3} - 2 x_9^{2} x_8 x_{1 2} x_{2 0} - 4 x_{2 3} x_{2 5} x_{2 6} x_{2 9} x_{3 2} \\right) \\left( 2 x_{1 4} + 3 x_4 x_{2 3} x_{2 8} + x_{1 3} \\right) - 5 x_{1 7}^{2} x_{1 1} - 2 x_{3 1}^{2} x_2 x_{1 8} - 2 x_{1 1} x_{1 9} x_{3 1} x_{3 2} \\right) \\right) + \\left( \\left(  - x_{3 1}^{2} x_8 x_{1 2} x_{2 1} - 5 x_{1 6} x_{1 9} x_{2 2} x_{2 7} - 5 x_2 x_3 x_{2 0} x_{2 2} x_{2 8} \\right) \\left(  - \\left( 2 x_{1 4} + 3 x_4 x_{2 3} x_{2 8} + x_{1 3} \\right) \\left(  - 5 x_{1 6} x_{2 6} - 5 x_{2 0} x_{2 2} - 2 x_5 x_{1 0} x_{1 6} \\right) - 2 x_9 x_{1 0} x_{1 6} x_{2 5} - 2 x_2 x_{1 0} x_{2 1} x_{2 2} - 4 x_{1 5} x_{2 4} x_{2 7} x_{2 9} \\right) - x_{1 3} - 2 x_{1 4} - \\left( 2 x_2 + x_5 x_{2 2} + 5 x_3 x_6 x_{1 7} \\right) \\left(  - x_{3 1}^{2} x_8 x_{1 2} x_{2 1} - 5 x_{1 6} x_{1 9} x_{2 2} x_{2 7} - 5 x_2 x_3 x_{2 0} x_{2 2} x_{2 8} \\right) \\left(  - \\left(  - 2 x_4 x_{1 3} - 2 x_9^{2} x_8 x_{1 2} x_{2 0} - 4 x_{2 3} x_{2 5} x_{2 6} x_{2 9} x_{3 2} \\right) \\left( 2 x_{1 4} + 3 x_4 x_{2 3} x_{2 8} + x_{1 3} \\right) - 5 x_{1 7}^{2} x_{1 1} - 2 x_{3 1}^{2} x_2 x_{1 8} - 2 x_{1 1} x_{1 9} x_{3 1} x_{3 2} \\right) - 3 x_4 x_{2 3} x_{2 8} \\right) \\left( 2 x_4 x_{1 3} + 2 x_{1 7}^{2} x_{1 1} x_{2 4} + 2 x_{3 1}^{2} x_2^{2} x_{1 8} x_{3 2} + 2 x_{3 1}^{2} x_2 x_{1 8} x_{2 4} + 5 x_{1 7}^{2} x_2 x_{1 1} x_{3 2} + 2 x_9^{2} x_8 x_{1 2} x_{2 0} + 2 x_{3 2}^{2} x_2 x_{1 1} x_{1 9} x_{3 1} + 2 x_{1 1} x_{1 9} x_{2 4} x_{3 1} x_{3 2} + x_{1 7}^{2} x_9 x_{1 1} x_{2 3} x_{2 6} x_{2 8} + 4 x_{2 3} x_{2 5} x_{2 6} x_{2 9} x_{3 2} + 4 x_{3 1}^{2} x_2 x_9 x_{1 8} x_{2 3} x_{2 6} x_{2 8} + 4 x_9 x_{1 1} x_{1 9} x_{2 3} x_{2 6} x_{2 8} x_{3 1} x_{3 2} \\right) + \\left( \\left(  - 2 x_2 - x_5 x_{2 2} - 5 x_3 x_6 x_{1 7} \\right) \\left(  - \\left(  - 2 x_4 x_{1 3} - 2 x_9^{2} x_8 x_{1 2} x_{2 0} - 4 x_{2 3} x_{2 5} x_{2 6} x_{2 9} x_{3 2} \\right) \\left( 2 x_{1 4} + 3 x_4 x_{2 3} x_{2 8} + x_{1 3} \\right) - 5 x_{1 7}^{2} x_{1 1} - 2 x_{3 1}^{2} x_2 x_{1 8} - 2 x_{1 1} x_{1 9} x_{3 1} x_{3 2} \\right) - \\left( 2 x_{1 4} + 3 x_4 x_{2 3} x_{2 8} + x_{1 3} \\right) \\left(  - 5 x_{1 6} x_{2 6} - 5 x_{2 0} x_{2 2} - 2 x_5 x_{1 0} x_{1 6} \\right) - 2 x_9 x_{1 0} x_{1 6} x_{2 5} - 2 x_2 x_{1 0} x_{2 1} x_{2 2} - 4 x_{1 5} x_{2 4} x_{2 7} x_{2 9} \\right) \\left( x_{1 7}^{2} x_7 x_{1 1} x_{2 0} + x_{1 7}^{2} x_{1 1}^{2} x_{2 0} x_{2 3} x_{2 6} + 2 x_{1 7}^{3} x_8 x_{1 1} x_{2 1} x_{2 8} + 4 x_{3 1}^{2} x_2 x_7 x_{1 8} x_{2 0} + 2 x_{3 1}^{2} x_4 x_8 x_{1 2} x_{1 3} x_{2 1} + 2 x_{3 1}^{2} x_{1 2}^{2} x_9^{2} x_8^{2} x_{2 0} x_{2 1} + 4 x_4 x_{1 3} x_{1 6} x_{1 9} x_{2 2} x_{2 7} + 4 x_7 x_{1 1} x_{1 9} x_{2 0} x_{3 1} x_{3 2} + 4 x_{3 1}^{2} x_2 x_{1 1} x_{1 8} x_{2 0} x_{2 3} x_{2 6} + 2 x_{3 1}^{2} x_2 x_8 x_{1 7} x_{1 8} x_{2 1} x_{2 8} + 4 x_{1 1}^{2} x_{1 9} x_{2 0} x_{2 3} x_{2 6} x_{3 1} x_{3 2} + 4 x_2 x_3 x_4 x_{1 3} x_{2 0} x_{2 2} x_{2 8} + 4 x_{2 0}^{2} x_9^{2} x_2 x_3 x_8 x_{1 2} x_{2 2} x_{2 8} + 4 x_9^{2} x_8 x_{1 2} x_{1 6} x_{1 9} x_{2 0} x_{2 2} x_{2 7} + 2 x_8 x_{1 1} x_{1 7} x_{1 9} x_{2 1} x_{2 8} x_{3 1} x_{3 2} + 4 x_{3 1}^{2} x_8 x_{1 2} x_{2 1} x_{2 3} x_{2 5} x_{2 6} x_{2 9} x_{3 2} + 2 x_{1 6} x_{1 9} x_{2 2} x_{2 3} x_{2 5} x_{2 6} x_{2 7} x_{2 9} x_{3 2} + 2 x_2 x_3 x_{2 0} x_{2 2} x_{2 3} x_{2 5} x_{2 6} x_{2 8} x_{2 9} x_{3 2} \\right) - \\left(  - 2 x_4 x_{1 3} - 2 x_9^{2} x_8 x_{1 2} x_{2 0} - 4 x_{2 3} x_{2 5} x_{2 6} x_{2 9} x_{3 2} \\right) \\left( 2 x_{1 4} + 3 x_4 x_{2 3} x_{2 8} + x_{1 3} \\right) - 5 x_{1 7}^{2} x_{1 1} - 2 x_{3 1}^{2} x_2 x_{1 8} - 2 x_{1 1} x_{1 9} x_{3 1} x_{3 2} \\\\\n",
       "\\left( 4 x_{2 4} + x_2 x_{3 2} + 5 x_9 x_{2 3} x_{2 6} x_{2 8} \\right) \\left(  - x_{3 1}^{2} x_8 x_{1 2} x_{2 1} - 5 x_{1 6} x_{1 9} x_{2 2} x_{2 7} - 5 x_2 x_3 x_{2 0} x_{2 2} x_{2 8} \\right) - \\left(  - 4 x_{2 4} - x_2 x_{3 2} - 5 x_9 x_{2 3} x_{2 6} x_{2 8} \\right) \\left( x_{3 1}^{2} x_8 x_{1 2} x_{2 1} + 5 x_{1 6} x_{1 9} x_{2 2} x_{2 7} + 5 x_2 x_3 x_{2 0} x_{2 2} x_{2 8} \\right) & \\left( 2 x_9 x_{1 0} x_{1 6} x_{2 5} + 2 x_2 x_{1 0} x_{2 1} x_{2 2} + 4 x_{1 5} x_{2 4} x_{2 7} x_{2 9} \\right) \\left(  - \\left(  - 4 x_{2 4} - x_2 x_{3 2} - 5 x_9 x_{2 3} x_{2 6} x_{2 8} \\right) \\left( x_{3 1}^{2} x_8 x_{1 2} x_{2 1} + 5 x_{1 6} x_{1 9} x_{2 2} x_{2 7} + 5 x_2 x_3 x_{2 0} x_{2 2} x_{2 8} \\right) - 5 x_7 x_{2 0} - 5 x_{1 1} x_{2 0} x_{2 3} x_{2 6} - 4 x_8 x_{1 7} x_{2 1} x_{2 8} \\right) + \\left(  - x_{3 1}^{2} x_8 x_{1 2} x_{2 1} - 5 x_{1 6} x_{1 9} x_{2 2} x_{2 7} - 5 x_2 x_3 x_{2 0} x_{2 2} x_{2 8} \\right) \\left( 5 x_{1 6} x_{2 6} + 5 x_{2 0} x_{2 2} + 2 x_5 x_{1 0} x_{1 6} + 4 x_{2 4}^{2} x_{1 5} x_{2 7} x_{2 9} + 2 x_2 x_{1 0} x_{2 1} x_{2 2} x_{2 4} + 2 x_9 x_{1 0} x_{1 6} x_{2 4} x_{2 5} + 2 x_2^{2} x_{1 0} x_{2 1} x_{2 2} x_{3 2} + 2 x_2 x_9 x_{1 0} x_{1 6} x_{2 5} x_{3 2} + 4 x_2 x_{1 5} x_{2 4} x_{2 7} x_{2 9} x_{3 2} + 4 x_9^{2} x_{1 0} x_{1 6} x_{2 3} x_{2 5} x_{2 6} x_{2 8} + 4 x_2 x_9 x_{1 0} x_{2 1} x_{2 2} x_{2 3} x_{2 6} x_{2 8} + 2 x_9 x_{1 5} x_{2 3} x_{2 4} x_{2 6} x_{2 7} x_{2 8} x_{2 9} \\right) + x_{2 2}^{2} x_{1 6} x_{1 9} x_{2 0} x_{2 7} + x_{2 2}^{2} x_{2 0}^{2} x_2 x_3 x_{2 8} + x_{1 6}^{2} x_{1 9} x_{2 2} x_{2 6} x_{2 7} + 2 x_7 x_{1 5} x_{2 0} x_{2 4} x_{2 7} x_{2 9} + 5 x_{3 1}^{2} x_8 x_{1 2} x_{1 6} x_{2 1} x_{2 6} + 5 x_{3 1}^{2} x_8 x_{1 2} x_{2 0} x_{2 1} x_{2 2} + 4 x_{1 6}^{2} x_5 x_{1 0} x_{1 9} x_{2 2} x_{2 7} + 4 x_7 x_9 x_{1 0} x_{1 6} x_{2 0} x_{2 5} + 4 x_2 x_7 x_{1 0} x_{2 0} x_{2 1} x_{2 2} + x_2 x_3 x_{1 6} x_{2 0} x_{2 2} x_{2 6} x_{2 8} + 2 x_{2 1}^{2} x_2 x_8 x_{1 0} x_{1 7} x_{2 2} x_{2 8} + 2 x_{3 1}^{2} x_5 x_8 x_{1 0} x_{1 2} x_{1 6} x_{2 1} + 4 x_2 x_{1 0} x_{1 1} x_{2 0} x_{2 1} x_{2 2} x_{2 3} x_{2 6} + 4 x_9 x_{1 0} x_{1 1} x_{1 6} x_{2 0} x_{2 3} x_{2 5} x_{2 6} + 4 x_2 x_3 x_5 x_{1 0} x_{1 6} x_{2 0} x_{2 2} x_{2 8} + 2 x_8 x_9 x_{1 0} x_{1 6} x_{1 7} x_{2 1} x_{2 5} x_{2 8} + 4 x_8 x_{1 5} x_{1 7} x_{2 1} x_{2 4} x_{2 7} x_{2 8} x_{2 9} + 2 x_{1 1} x_{1 5} x_{2 0} x_{2 3} x_{2 4} x_{2 6} x_{2 7} x_{2 9} & \\left( 5 x_{1 7}^{2} x_{1 1} + 2 x_{3 1}^{2} x_2 x_{1 8} + 2 x_{1 1} x_{1 9} x_{3 1} x_{3 2} \\right) \\left(  - \\left(  - 4 x_{2 4} - x_2 x_{3 2} - 5 x_9 x_{2 3} x_{2 6} x_{2 8} \\right) \\left( x_{3 1}^{2} x_8 x_{1 2} x_{2 1} + 5 x_{1 6} x_{1 9} x_{2 2} x_{2 7} + 5 x_2 x_3 x_{2 0} x_{2 2} x_{2 8} \\right) - 5 x_7 x_{2 0} - 5 x_{1 1} x_{2 0} x_{2 3} x_{2 6} - 4 x_8 x_{1 7} x_{2 1} x_{2 8} \\right) + \\left(  - x_{3 1}^{2} x_8 x_{1 2} x_{2 1} - 5 x_{1 6} x_{1 9} x_{2 2} x_{2 7} - 5 x_2 x_3 x_{2 0} x_{2 2} x_{2 8} \\right) \\left( 2 x_4 x_{1 3} + 2 x_{1 7}^{2} x_{1 1} x_{2 4} + 2 x_{3 1}^{2} x_2^{2} x_{1 8} x_{3 2} + 2 x_{3 1}^{2} x_2 x_{1 8} x_{2 4} + 5 x_{1 7}^{2} x_2 x_{1 1} x_{3 2} + 2 x_9^{2} x_8 x_{1 2} x_{2 0} + 2 x_{3 2}^{2} x_2 x_{1 1} x_{1 9} x_{3 1} + 2 x_{1 1} x_{1 9} x_{2 4} x_{3 1} x_{3 2} + x_{1 7}^{2} x_9 x_{1 1} x_{2 3} x_{2 6} x_{2 8} + 4 x_{2 3} x_{2 5} x_{2 6} x_{2 9} x_{3 2} + 4 x_{3 1}^{2} x_2 x_9 x_{1 8} x_{2 3} x_{2 6} x_{2 8} + 4 x_9 x_{1 1} x_{1 9} x_{2 3} x_{2 6} x_{2 8} x_{3 1} x_{3 2} \\right) + x_{1 7}^{2} x_7 x_{1 1} x_{2 0} + x_{1 7}^{2} x_{1 1}^{2} x_{2 0} x_{2 3} x_{2 6} + 2 x_{1 7}^{3} x_8 x_{1 1} x_{2 1} x_{2 8} + 4 x_{3 1}^{2} x_2 x_7 x_{1 8} x_{2 0} + 2 x_{3 1}^{2} x_4 x_8 x_{1 2} x_{1 3} x_{2 1} + 2 x_{3 1}^{2} x_{1 2}^{2} x_9^{2} x_8^{2} x_{2 0} x_{2 1} + 4 x_4 x_{1 3} x_{1 6} x_{1 9} x_{2 2} x_{2 7} + 4 x_7 x_{1 1} x_{1 9} x_{2 0} x_{3 1} x_{3 2} + 4 x_{3 1}^{2} x_2 x_{1 1} x_{1 8} x_{2 0} x_{2 3} x_{2 6} + 2 x_{3 1}^{2} x_2 x_8 x_{1 7} x_{1 8} x_{2 1} x_{2 8} + 4 x_{1 1}^{2} x_{1 9} x_{2 0} x_{2 3} x_{2 6} x_{3 1} x_{3 2} + 4 x_2 x_3 x_4 x_{1 3} x_{2 0} x_{2 2} x_{2 8} + 4 x_{2 0}^{2} x_9^{2} x_2 x_3 x_8 x_{1 2} x_{2 2} x_{2 8} + 4 x_9^{2} x_8 x_{1 2} x_{1 6} x_{1 9} x_{2 0} x_{2 2} x_{2 7} + 2 x_8 x_{1 1} x_{1 7} x_{1 9} x_{2 1} x_{2 8} x_{3 1} x_{3 2} + 4 x_{3 1}^{2} x_8 x_{1 2} x_{2 1} x_{2 3} x_{2 5} x_{2 6} x_{2 9} x_{3 2} + 2 x_{1 6} x_{1 9} x_{2 2} x_{2 3} x_{2 5} x_{2 6} x_{2 7} x_{2 9} x_{3 2} + 2 x_2 x_3 x_{2 0} x_{2 2} x_{2 3} x_{2 5} x_{2 6} x_{2 8} x_{2 9} x_{3 2} \\\\\n",
       "\\left(  - 2 x_2 - x_5 x_{2 2} - 5 x_3 x_6 x_{1 7} \\right) \\left( 5 x_7 x_{2 0} + 5 x_{1 1} x_{2 0} x_{2 3} x_{2 6} + 4 x_8 x_{1 7} x_{2 1} x_{2 8} \\right) - \\left( 2 x_2 + x_5 x_{2 2} + 5 x_3 x_6 x_{1 7} \\right) \\left(  - \\left(  - 4 x_{2 4} - x_2 x_{3 2} - 5 x_9 x_{2 3} x_{2 6} x_{2 8} \\right) \\left( x_{3 1}^{2} x_8 x_{1 2} x_{2 1} + 5 x_{1 6} x_{1 9} x_{2 2} x_{2 7} + 5 x_2 x_3 x_{2 0} x_{2 2} x_{2 8} \\right) - 5 x_7 x_{2 0} - 5 x_{1 1} x_{2 0} x_{2 3} x_{2 6} - 4 x_8 x_{1 7} x_{2 1} x_{2 8} \\right) - \\left( 4 x_{2 4} + x_2 x_{3 2} + 5 x_9 x_{2 3} x_{2 6} x_{2 8} \\right) \\left( 2 x_2 + x_5 x_{2 2} + 5 x_3 x_6 x_{1 7} \\right) \\left(  - x_{3 1}^{2} x_8 x_{1 2} x_{2 1} - 5 x_{1 6} x_{1 9} x_{2 2} x_{2 7} - 5 x_2 x_3 x_{2 0} x_{2 2} x_{2 8} \\right) & \\left(  - 2 x_2 - x_5 x_{2 2} - 5 x_3 x_6 x_{1 7} \\right) \\left( x_{2 2}^{2} x_{1 6} x_{1 9} x_{2 0} x_{2 7} + x_{2 2}^{2} x_{2 0}^{2} x_2 x_3 x_{2 8} + x_{1 6}^{2} x_{1 9} x_{2 2} x_{2 6} x_{2 7} + 2 x_7 x_{1 5} x_{2 0} x_{2 4} x_{2 7} x_{2 9} + 5 x_{3 1}^{2} x_8 x_{1 2} x_{1 6} x_{2 1} x_{2 6} + 5 x_{3 1}^{2} x_8 x_{1 2} x_{2 0} x_{2 1} x_{2 2} + 4 x_{1 6}^{2} x_5 x_{1 0} x_{1 9} x_{2 2} x_{2 7} + 4 x_7 x_9 x_{1 0} x_{1 6} x_{2 0} x_{2 5} + 4 x_2 x_7 x_{1 0} x_{2 0} x_{2 1} x_{2 2} + x_2 x_3 x_{1 6} x_{2 0} x_{2 2} x_{2 6} x_{2 8} + 2 x_{2 1}^{2} x_2 x_8 x_{1 0} x_{1 7} x_{2 2} x_{2 8} + 2 x_{3 1}^{2} x_5 x_8 x_{1 0} x_{1 2} x_{1 6} x_{2 1} + 4 x_2 x_{1 0} x_{1 1} x_{2 0} x_{2 1} x_{2 2} x_{2 3} x_{2 6} + 4 x_9 x_{1 0} x_{1 1} x_{1 6} x_{2 0} x_{2 3} x_{2 5} x_{2 6} + 4 x_2 x_3 x_5 x_{1 0} x_{1 6} x_{2 0} x_{2 2} x_{2 8} + 2 x_8 x_9 x_{1 0} x_{1 6} x_{1 7} x_{2 1} x_{2 5} x_{2 8} + 4 x_8 x_{1 5} x_{1 7} x_{2 1} x_{2 4} x_{2 7} x_{2 8} x_{2 9} + 2 x_{1 1} x_{1 5} x_{2 0} x_{2 3} x_{2 4} x_{2 6} x_{2 7} x_{2 9} \\right) + 2 x_2 + x_5 x_{2 2} - \\left( 2 x_2 + x_5 x_{2 2} + 5 x_3 x_6 x_{1 7} \\right) \\left(  - x_{3 1}^{2} x_8 x_{1 2} x_{2 1} - 5 x_{1 6} x_{1 9} x_{2 2} x_{2 7} - 5 x_2 x_3 x_{2 0} x_{2 2} x_{2 8} \\right) \\left( 5 x_{1 6} x_{2 6} + 5 x_{2 0} x_{2 2} + 2 x_5 x_{1 0} x_{1 6} + 4 x_{2 4}^{2} x_{1 5} x_{2 7} x_{2 9} + 2 x_2 x_{1 0} x_{2 1} x_{2 2} x_{2 4} + 2 x_9 x_{1 0} x_{1 6} x_{2 4} x_{2 5} + 2 x_2^{2} x_{1 0} x_{2 1} x_{2 2} x_{3 2} + 2 x_2 x_9 x_{1 0} x_{1 6} x_{2 5} x_{3 2} + 4 x_2 x_{1 5} x_{2 4} x_{2 7} x_{2 9} x_{3 2} + 4 x_9^{2} x_{1 0} x_{1 6} x_{2 3} x_{2 5} x_{2 6} x_{2 8} + 4 x_2 x_9 x_{1 0} x_{2 1} x_{2 2} x_{2 3} x_{2 6} x_{2 8} + 2 x_9 x_{1 5} x_{2 3} x_{2 4} x_{2 6} x_{2 7} x_{2 8} x_{2 9} \\right) - \\left( 2 x_2 + x_5 x_{2 2} + 5 x_3 x_6 x_{1 7} \\right) \\left( 2 x_9 x_{1 0} x_{1 6} x_{2 5} + 2 x_2 x_{1 0} x_{2 1} x_{2 2} + 4 x_{1 5} x_{2 4} x_{2 7} x_{2 9} \\right) \\left(  - \\left(  - 4 x_{2 4} - x_2 x_{3 2} - 5 x_9 x_{2 3} x_{2 6} x_{2 8} \\right) \\left( x_{3 1}^{2} x_8 x_{1 2} x_{2 1} + 5 x_{1 6} x_{1 9} x_{2 2} x_{2 7} + 5 x_2 x_3 x_{2 0} x_{2 2} x_{2 8} \\right) - 5 x_7 x_{2 0} - 5 x_{1 1} x_{2 0} x_{2 3} x_{2 6} - 4 x_8 x_{1 7} x_{2 1} x_{2 8} \\right) + 5 x_3 x_6 x_{1 7} & 1.0 + \\left(  - 2 x_2 - x_5 x_{2 2} - 5 x_3 x_6 x_{1 7} \\right) \\left( x_{1 7}^{2} x_7 x_{1 1} x_{2 0} + x_{1 7}^{2} x_{1 1}^{2} x_{2 0} x_{2 3} x_{2 6} + 2 x_{1 7}^{3} x_8 x_{1 1} x_{2 1} x_{2 8} + 4 x_{3 1}^{2} x_2 x_7 x_{1 8} x_{2 0} + 2 x_{3 1}^{2} x_4 x_8 x_{1 2} x_{1 3} x_{2 1} + 2 x_{3 1}^{2} x_{1 2}^{2} x_9^{2} x_8^{2} x_{2 0} x_{2 1} + 4 x_4 x_{1 3} x_{1 6} x_{1 9} x_{2 2} x_{2 7} + 4 x_7 x_{1 1} x_{1 9} x_{2 0} x_{3 1} x_{3 2} + 4 x_{3 1}^{2} x_2 x_{1 1} x_{1 8} x_{2 0} x_{2 3} x_{2 6} + 2 x_{3 1}^{2} x_2 x_8 x_{1 7} x_{1 8} x_{2 1} x_{2 8} + 4 x_{1 1}^{2} x_{1 9} x_{2 0} x_{2 3} x_{2 6} x_{3 1} x_{3 2} + 4 x_2 x_3 x_4 x_{1 3} x_{2 0} x_{2 2} x_{2 8} + 4 x_{2 0}^{2} x_9^{2} x_2 x_3 x_8 x_{1 2} x_{2 2} x_{2 8} + 4 x_9^{2} x_8 x_{1 2} x_{1 6} x_{1 9} x_{2 0} x_{2 2} x_{2 7} + 2 x_8 x_{1 1} x_{1 7} x_{1 9} x_{2 1} x_{2 8} x_{3 1} x_{3 2} + 4 x_{3 1}^{2} x_8 x_{1 2} x_{2 1} x_{2 3} x_{2 5} x_{2 6} x_{2 9} x_{3 2} + 2 x_{1 6} x_{1 9} x_{2 2} x_{2 3} x_{2 5} x_{2 6} x_{2 7} x_{2 9} x_{3 2} + 2 x_2 x_3 x_{2 0} x_{2 2} x_{2 3} x_{2 5} x_{2 6} x_{2 8} x_{2 9} x_{3 2} \\right) - \\left( 2 x_2 + x_5 x_{2 2} + 5 x_3 x_6 x_{1 7} \\right) \\left( 5 x_{1 7}^{2} x_{1 1} + 2 x_{3 1}^{2} x_2 x_{1 8} + 2 x_{1 1} x_{1 9} x_{3 1} x_{3 2} \\right) \\left(  - \\left(  - 4 x_{2 4} - x_2 x_{3 2} - 5 x_9 x_{2 3} x_{2 6} x_{2 8} \\right) \\left( x_{3 1}^{2} x_8 x_{1 2} x_{2 1} + 5 x_{1 6} x_{1 9} x_{2 2} x_{2 7} + 5 x_2 x_3 x_{2 0} x_{2 2} x_{2 8} \\right) - 5 x_7 x_{2 0} - 5 x_{1 1} x_{2 0} x_{2 3} x_{2 6} - 4 x_8 x_{1 7} x_{2 1} x_{2 8} \\right) - \\left( 2 x_2 + x_5 x_{2 2} + 5 x_3 x_6 x_{1 7} \\right) \\left(  - x_{3 1}^{2} x_8 x_{1 2} x_{2 1} - 5 x_{1 6} x_{1 9} x_{2 2} x_{2 7} - 5 x_2 x_3 x_{2 0} x_{2 2} x_{2 8} \\right) \\left( 2 x_4 x_{1 3} + 2 x_{1 7}^{2} x_{1 1} x_{2 4} + 2 x_{3 1}^{2} x_2^{2} x_{1 8} x_{3 2} + 2 x_{3 1}^{2} x_2 x_{1 8} x_{2 4} + 5 x_{1 7}^{2} x_2 x_{1 1} x_{3 2} + 2 x_9^{2} x_8 x_{1 2} x_{2 0} + 2 x_{3 2}^{2} x_2 x_{1 1} x_{1 9} x_{3 1} + 2 x_{1 1} x_{1 9} x_{2 4} x_{3 1} x_{3 2} + x_{1 7}^{2} x_9 x_{1 1} x_{2 3} x_{2 6} x_{2 8} + 4 x_{2 3} x_{2 5} x_{2 6} x_{2 9} x_{3 2} + 4 x_{3 1}^{2} x_2 x_9 x_{1 8} x_{2 3} x_{2 6} x_{2 8} + 4 x_9 x_{1 1} x_{1 9} x_{2 3} x_{2 6} x_{2 8} x_{3 1} x_{3 2} \\right) \\\\\n",
       "\\end{array}\n",
       "\\right]\n",
       "\\end{equation}\n",
       " $$"
      ],
      "text/plain": [
       "3×3 Matrix{Num}:\n",
       "                                                                                                                                                                                                                                                                                                                                                                                                                                                                                                                                                     1.0 + (-x[13] - 2x[14] - 3x[4]*x[23]*x[28])*(-4x[24] - x[2]*x[32] - 5x[9]*x[23]*x[26]*x[28]) + (-(2x[14] + 3x[4]*x[23]*x[28] + x[13])*(-5x[16]*x[26] - 5x[20]*x[22] - 2x[5]*x[10]*x[16]) - 2x[9]*x[10]*x[16]*x[25] - 2x[2]*x[10]*x[21]*x[22] - 4x[15]*x[24]*x[27]*x[29])*(-(-4x[24] - x[2]*x[32] - 5x[9]*x[23]*x[26]*x[28])*((x[31]^2)*x[8]*x[12]*x[21] + 5x[16]*x[19]*x[22]*x[27] + 5x[2]*x[3]*x[20]*x[22]*x[28]) - 5x[7]*x[20] - 5x[11]*x[20]*x[23]*x[26] - 4x[8]*x[17]*x[21]*x[28]) + (4x[24] + x[2]*x[32] + 5x[9]*x[23]*x[26]*x[28])*((-(x[31]^2)*x[8]*x[12]*x[21] - 5x[16]*x[19]*x[22]*x[27] - 5x[2]*x[3]*x[20]*x[22]*x[28])*(-(2x[14] + 3x[4]*x[23]*x[28] + x[13])*(-5x[16]*x[26] - 5x[20]*x[22] - 2x[5]*x[10]*x[16]) - 2x[9]*x[10]*x[16]*x[25] - 2x[2]*x[10]*x[21]*x[22] - 4x[15]*x[24]*x[27]*x[29]) - x[13] - 2x[14] - (2x[2] + x[5]*x[22] + 5x[3]*x[6]*x[17])*(-(x[31]^2)*x[8]*x[12]*x[21] - 5x[16]*x[19]*x[22]*x[27] - 5x[2]*x[3]*x[20]*x[22]*x[28])*(-(-2x[4]*x[13] - 2(x[9]^2)*x[8]*x[12]*x[20] - 4x[23]*x[25]*x[26]*x[29]*x[32])*(2x[14] + 3x[4]*x[23]*x[28] + x[13]) - 5(x[17]^2)*x[11] - 2(x[31]^2)*x[2]*x[18] - 2x[11]*x[19]*x[31]*x[32]) - 3x[4]*x[23]*x[28]) + (5x[7]*x[20] + 5x[11]*x[20]*x[23]*x[26] + 4x[8]*x[17]*x[21]*x[28])*((-2x[2] - x[5]*x[22] - 5x[3]*x[6]*x[17])*(-(-2x[4]*x[13] - 2(x[9]^2)*x[8]*x[12]*x[20] - 4x[23]*x[25]*x[26]*x[29]*x[32])*(2x[14] + 3x[4]*x[23]*x[28] + x[13]) - 5(x[17]^2)*x[11] - 2(x[31]^2)*x[2]*x[18] - 2x[11]*x[19]*x[31]*x[32]) - (2x[14] + 3x[4]*x[23]*x[28] + x[13])*(-5x[16]*x[26] - 5x[20]*x[22] - 2x[5]*x[10]*x[16]) - 2x[9]*x[10]*x[16]*x[25] - 2x[2]*x[10]*x[21]*x[22] - 4x[15]*x[24]*x[27]*x[29]) - (2x[2] + x[5]*x[22] + 5x[3]*x[6]*x[17])*(-(-4x[24] - x[2]*x[32] - 5x[9]*x[23]*x[26]*x[28])*((x[31]^2)*x[8]*x[12]*x[21] + 5x[16]*x[19]*x[22]*x[27] + 5x[2]*x[3]*x[20]*x[22]*x[28]) - 5x[7]*x[20] - 5x[11]*x[20]*x[23]*x[26] - 4x[8]*x[17]*x[21]*x[28])*(-(-2x[4]*x[13] - 2(x[9]^2)*x[8]*x[12]*x[20] - 4x[23]*x[25]*x[26]*x[29]*x[32])*(2x[14] + 3x[4]*x[23]*x[28] + x[13]) - 5(x[17]^2)*x[11] - 2(x[31]^2)*x[2]*x[18] - 2x[11]*x[19]*x[31]*x[32])  …                                                                                                                                                                                                                                                                                                                                                                                                                                                                                                                                                                                                                                                                                                                                                                                                                                                                                                                                                                                                                                                                                                                                                                                                                                                                                                                                                                                                                                                                                                                                                                                         (5(x[17]^2)*x[11] + 2(x[31]^2)*x[2]*x[18] + 2x[11]*x[19]*x[31]*x[32])*(1.0 + (-x[13] - 2x[14] - 3x[4]*x[23]*x[28])*(-4x[24] - x[2]*x[32] - 5x[9]*x[23]*x[26]*x[28]) + (-(2x[14] + 3x[4]*x[23]*x[28] + x[13])*(-5x[16]*x[26] - 5x[20]*x[22] - 2x[5]*x[10]*x[16]) - 2x[9]*x[10]*x[16]*x[25] - 2x[2]*x[10]*x[21]*x[22] - 4x[15]*x[24]*x[27]*x[29])*(-(-4x[24] - x[2]*x[32] - 5x[9]*x[23]*x[26]*x[28])*((x[31]^2)*x[8]*x[12]*x[21] + 5x[16]*x[19]*x[22]*x[27] + 5x[2]*x[3]*x[20]*x[22]*x[28]) - 5x[7]*x[20] - 5x[11]*x[20]*x[23]*x[26] - 4x[8]*x[17]*x[21]*x[28]) - (2x[2] + x[5]*x[22] + 5x[3]*x[6]*x[17])*(-(-4x[24] - x[2]*x[32] - 5x[9]*x[23]*x[26]*x[28])*((x[31]^2)*x[8]*x[12]*x[21] + 5x[16]*x[19]*x[22]*x[27] + 5x[2]*x[3]*x[20]*x[22]*x[28]) - 5x[7]*x[20] - 5x[11]*x[20]*x[23]*x[26] - 4x[8]*x[17]*x[21]*x[28])*(-(-2x[4]*x[13] - 2(x[9]^2)*x[8]*x[12]*x[20] - 4x[23]*x[25]*x[26]*x[29]*x[32])*(2x[14] + 3x[4]*x[23]*x[28] + x[13]) - 5(x[17]^2)*x[11] - 2(x[31]^2)*x[2]*x[18] - 2x[11]*x[19]*x[31]*x[32])) + ((-(x[31]^2)*x[8]*x[12]*x[21] - 5x[16]*x[19]*x[22]*x[27] - 5x[2]*x[3]*x[20]*x[22]*x[28])*(-(2x[14] + 3x[4]*x[23]*x[28] + x[13])*(-5x[16]*x[26] - 5x[20]*x[22] - 2x[5]*x[10]*x[16]) - 2x[9]*x[10]*x[16]*x[25] - 2x[2]*x[10]*x[21]*x[22] - 4x[15]*x[24]*x[27]*x[29]) - x[13] - 2x[14] - (2x[2] + x[5]*x[22] + 5x[3]*x[6]*x[17])*(-(x[31]^2)*x[8]*x[12]*x[21] - 5x[16]*x[19]*x[22]*x[27] - 5x[2]*x[3]*x[20]*x[22]*x[28])*(-(-2x[4]*x[13] - 2(x[9]^2)*x[8]*x[12]*x[20] - 4x[23]*x[25]*x[26]*x[29]*x[32])*(2x[14] + 3x[4]*x[23]*x[28] + x[13]) - 5(x[17]^2)*x[11] - 2(x[31]^2)*x[2]*x[18] - 2x[11]*x[19]*x[31]*x[32]) - 3x[4]*x[23]*x[28])*(2x[4]*x[13] + 2(x[17]^2)*x[11]*x[24] + 2(x[2]^2)*(x[31]^2)*x[18]*x[32] + 2(x[31]^2)*x[2]*x[18]*x[24] + 5(x[17]^2)*x[2]*x[11]*x[32] + 2(x[9]^2)*x[8]*x[12]*x[20] + 2(x[32]^2)*x[2]*x[11]*x[19]*x[31] + 2x[11]*x[19]*x[24]*x[31]*x[32] + (x[17]^2)*x[9]*x[11]*x[23]*x[26]*x[28] + 4x[23]*x[25]*x[26]*x[29]*x[32] + 4(x[31]^2)*x[2]*x[9]*x[18]*x[23]*x[26]*x[28] + 4x[9]*x[11]*x[19]*x[23]*x[26]*x[28]*x[31]*x[32]) + ((-2x[2] - x[5]*x[22] - 5x[3]*x[6]*x[17])*(-(-2x[4]*x[13] - 2(x[9]^2)*x[8]*x[12]*x[20] - 4x[23]*x[25]*x[26]*x[29]*x[32])*(2x[14] + 3x[4]*x[23]*x[28] + x[13]) - 5(x[17]^2)*x[11] - 2(x[31]^2)*x[2]*x[18] - 2x[11]*x[19]*x[31]*x[32]) - (2x[14] + 3x[4]*x[23]*x[28] + x[13])*(-5x[16]*x[26] - 5x[20]*x[22] - 2x[5]*x[10]*x[16]) - 2x[9]*x[10]*x[16]*x[25] - 2x[2]*x[10]*x[21]*x[22] - 4x[15]*x[24]*x[27]*x[29])*((x[17]^2)*x[7]*x[11]*x[20] + (x[11]^2)*(x[17]^2)*x[20]*x[23]*x[26] + 2(x[17]^3)*x[8]*x[11]*x[21]*x[28] + 4(x[31]^2)*x[2]*x[7]*x[18]*x[20] + 2(x[31]^2)*x[4]*x[8]*x[12]*x[13]*x[21] + 2(x[8]^2)*(x[9]^2)*(x[12]^2)*(x[31]^2)*x[20]*x[21] + 4x[4]*x[13]*x[16]*x[19]*x[22]*x[27] + 4x[7]*x[11]*x[19]*x[20]*x[31]*x[32] + 4(x[31]^2)*x[2]*x[11]*x[18]*x[20]*x[23]*x[26] + 2(x[31]^2)*x[2]*x[8]*x[17]*x[18]*x[21]*x[28] + 4(x[11]^2)*x[19]*x[20]*x[23]*x[26]*x[31]*x[32] + 4x[2]*x[3]*x[4]*x[13]*x[20]*x[22]*x[28] + 4(x[9]^2)*(x[20]^2)*x[2]*x[3]*x[8]*x[12]*x[22]*x[28] + 4(x[9]^2)*x[8]*x[12]*x[16]*x[19]*x[20]*x[22]*x[27] + 2x[8]*x[11]*x[17]*x[19]*x[21]*x[28]*x[31]*x[32] + 4(x[31]^2)*x[8]*x[12]*x[21]*x[23]*x[25]*x[26]*x[29]*x[32] + 2x[16]*x[19]*x[22]*x[23]*x[25]*x[26]*x[27]*x[29]*x[32] + 2x[2]*x[3]*x[20]*x[22]*x[23]*x[25]*x[26]*x[28]*x[29]*x[32]) - (-2x[4]*x[13] - 2(x[9]^2)*x[8]*x[12]*x[20] - 4x[23]*x[25]*x[26]*x[29]*x[32])*(2x[14] + 3x[4]*x[23]*x[28] + x[13]) - 5(x[17]^2)*x[11] - 2(x[31]^2)*x[2]*x[18] - 2x[11]*x[19]*x[31]*x[32]\n",
       "                                                                                                                                                                                                                                                                     (4x[24] + x[2]*x[32] + 5x[9]*x[23]*x[26]*x[28])*(-(x[31]^2)*x[8]*x[12]*x[21] - 5x[16]*x[19]*x[22]*x[27] - 5x[2]*x[3]*x[20]*x[22]*x[28]) - (-4x[24] - x[2]*x[32] - 5x[9]*x[23]*x[26]*x[28])*((x[31]^2)*x[8]*x[12]*x[21] + 5x[16]*x[19]*x[22]*x[27] + 5x[2]*x[3]*x[20]*x[22]*x[28])                                                                                                                                                                                                                                                                                                                                                                                                                                                                                                                                                                                                                                                                                                                                                                                                                                                                                                                                                                                                                                                                                                                                                                                                                                                                                                                                                                                                                                                                                                                                                                                                                                                                                                                                                                                                                                                                                                                                                                                                                                                                                                                         (5(x[17]^2)*x[11] + 2(x[31]^2)*x[2]*x[18] + 2x[11]*x[19]*x[31]*x[32])*(-(-4x[24] - x[2]*x[32] - 5x[9]*x[23]*x[26]*x[28])*((x[31]^2)*x[8]*x[12]*x[21] + 5x[16]*x[19]*x[22]*x[27] + 5x[2]*x[3]*x[20]*x[22]*x[28]) - 5x[7]*x[20] - 5x[11]*x[20]*x[23]*x[26] - 4x[8]*x[17]*x[21]*x[28]) + (-(x[31]^2)*x[8]*x[12]*x[21] - 5x[16]*x[19]*x[22]*x[27] - 5x[2]*x[3]*x[20]*x[22]*x[28])*(2x[4]*x[13] + 2(x[17]^2)*x[11]*x[24] + 2(x[2]^2)*(x[31]^2)*x[18]*x[32] + 2(x[31]^2)*x[2]*x[18]*x[24] + 5(x[17]^2)*x[2]*x[11]*x[32] + 2(x[9]^2)*x[8]*x[12]*x[20] + 2(x[32]^2)*x[2]*x[11]*x[19]*x[31] + 2x[11]*x[19]*x[24]*x[31]*x[32] + (x[17]^2)*x[9]*x[11]*x[23]*x[26]*x[28] + 4x[23]*x[25]*x[26]*x[29]*x[32] + 4(x[31]^2)*x[2]*x[9]*x[18]*x[23]*x[26]*x[28] + 4x[9]*x[11]*x[19]*x[23]*x[26]*x[28]*x[31]*x[32]) + (x[17]^2)*x[7]*x[11]*x[20] + (x[11]^2)*(x[17]^2)*x[20]*x[23]*x[26] + 2(x[17]^3)*x[8]*x[11]*x[21]*x[28] + 4(x[31]^2)*x[2]*x[7]*x[18]*x[20] + 2(x[31]^2)*x[4]*x[8]*x[12]*x[13]*x[21] + 2(x[8]^2)*(x[9]^2)*(x[12]^2)*(x[31]^2)*x[20]*x[21] + 4x[4]*x[13]*x[16]*x[19]*x[22]*x[27] + 4x[7]*x[11]*x[19]*x[20]*x[31]*x[32] + 4(x[31]^2)*x[2]*x[11]*x[18]*x[20]*x[23]*x[26] + 2(x[31]^2)*x[2]*x[8]*x[17]*x[18]*x[21]*x[28] + 4(x[11]^2)*x[19]*x[20]*x[23]*x[26]*x[31]*x[32] + 4x[2]*x[3]*x[4]*x[13]*x[20]*x[22]*x[28] + 4(x[9]^2)*(x[20]^2)*x[2]*x[3]*x[8]*x[12]*x[22]*x[28] + 4(x[9]^2)*x[8]*x[12]*x[16]*x[19]*x[20]*x[22]*x[27] + 2x[8]*x[11]*x[17]*x[19]*x[21]*x[28]*x[31]*x[32] + 4(x[31]^2)*x[8]*x[12]*x[21]*x[23]*x[25]*x[26]*x[29]*x[32] + 2x[16]*x[19]*x[22]*x[23]*x[25]*x[26]*x[27]*x[29]*x[32] + 2x[2]*x[3]*x[20]*x[22]*x[23]*x[25]*x[26]*x[28]*x[29]*x[32]\n",
       " (-2x[2] - x[5]*x[22] - 5x[3]*x[6]*x[17])*(5x[7]*x[20] + 5x[11]*x[20]*x[23]*x[26] + 4x[8]*x[17]*x[21]*x[28]) - (2x[2] + x[5]*x[22] + 5x[3]*x[6]*x[17])*(-(-4x[24] - x[2]*x[32] - 5x[9]*x[23]*x[26]*x[28])*((x[31]^2)*x[8]*x[12]*x[21] + 5x[16]*x[19]*x[22]*x[27] + 5x[2]*x[3]*x[20]*x[22]*x[28]) - 5x[7]*x[20] - 5x[11]*x[20]*x[23]*x[26] - 4x[8]*x[17]*x[21]*x[28]) - (4x[24] + x[2]*x[32] + 5x[9]*x[23]*x[26]*x[28])*(2x[2] + x[5]*x[22] + 5x[3]*x[6]*x[17])*(-(x[31]^2)*x[8]*x[12]*x[21] - 5x[16]*x[19]*x[22]*x[27] - 5x[2]*x[3]*x[20]*x[22]*x[28])                                                                                                                                                                                                                                                                                                                                                                                                                                                                                                                                                                                                                                                                                                                                                                                                                                                                                                                                                                                                                                                                                                                                                                                                                                                                                                                                                                                                                                                                                                                                                                                                                                                                                                                                                                                                                                                                                                                                                                                                                                                                                                                                                                                                                                                                                                                                                                                                                                                                                                                                                                                                                                                                                                                                                                                                                                                                                                                                                                                                                                                                                                                                                                                                                                                                                                                                                                                                                                                                                                                                                                                                                                                                                                                                                                                       1.0 + (-2x[2] - x[5]*x[22] - 5x[3]*x[6]*x[17])*((x[17]^2)*x[7]*x[11]*x[20] + (x[11]^2)*(x[17]^2)*x[20]*x[23]*x[26] + 2(x[17]^3)*x[8]*x[11]*x[21]*x[28] + 4(x[31]^2)*x[2]*x[7]*x[18]*x[20] + 2(x[31]^2)*x[4]*x[8]*x[12]*x[13]*x[21] + 2(x[8]^2)*(x[9]^2)*(x[12]^2)*(x[31]^2)*x[20]*x[21] + 4x[4]*x[13]*x[16]*x[19]*x[22]*x[27] + 4x[7]*x[11]*x[19]*x[20]*x[31]*x[32] + 4(x[31]^2)*x[2]*x[11]*x[18]*x[20]*x[23]*x[26] + 2(x[31]^2)*x[2]*x[8]*x[17]*x[18]*x[21]*x[28] + 4(x[11]^2)*x[19]*x[20]*x[23]*x[26]*x[31]*x[32] + 4x[2]*x[3]*x[4]*x[13]*x[20]*x[22]*x[28] + 4(x[9]^2)*(x[20]^2)*x[2]*x[3]*x[8]*x[12]*x[22]*x[28] + 4(x[9]^2)*x[8]*x[12]*x[16]*x[19]*x[20]*x[22]*x[27] + 2x[8]*x[11]*x[17]*x[19]*x[21]*x[28]*x[31]*x[32] + 4(x[31]^2)*x[8]*x[12]*x[21]*x[23]*x[25]*x[26]*x[29]*x[32] + 2x[16]*x[19]*x[22]*x[23]*x[25]*x[26]*x[27]*x[29]*x[32] + 2x[2]*x[3]*x[20]*x[22]*x[23]*x[25]*x[26]*x[28]*x[29]*x[32]) - (2x[2] + x[5]*x[22] + 5x[3]*x[6]*x[17])*(5(x[17]^2)*x[11] + 2(x[31]^2)*x[2]*x[18] + 2x[11]*x[19]*x[31]*x[32])*(-(-4x[24] - x[2]*x[32] - 5x[9]*x[23]*x[26]*x[28])*((x[31]^2)*x[8]*x[12]*x[21] + 5x[16]*x[19]*x[22]*x[27] + 5x[2]*x[3]*x[20]*x[22]*x[28]) - 5x[7]*x[20] - 5x[11]*x[20]*x[23]*x[26] - 4x[8]*x[17]*x[21]*x[28]) - (2x[2] + x[5]*x[22] + 5x[3]*x[6]*x[17])*(-(x[31]^2)*x[8]*x[12]*x[21] - 5x[16]*x[19]*x[22]*x[27] - 5x[2]*x[3]*x[20]*x[22]*x[28])*(2x[4]*x[13] + 2(x[17]^2)*x[11]*x[24] + 2(x[2]^2)*(x[31]^2)*x[18]*x[32] + 2(x[31]^2)*x[2]*x[18]*x[24] + 5(x[17]^2)*x[2]*x[11]*x[32] + 2(x[9]^2)*x[8]*x[12]*x[20] + 2(x[32]^2)*x[2]*x[11]*x[19]*x[31] + 2x[11]*x[19]*x[24]*x[31]*x[32] + (x[17]^2)*x[9]*x[11]*x[23]*x[26]*x[28] + 4x[23]*x[25]*x[26]*x[29]*x[32] + 4(x[31]^2)*x[2]*x[9]*x[18]*x[23]*x[26]*x[28] + 4x[9]*x[11]*x[19]*x[23]*x[26]*x[28]*x[31]*x[32])"
      ]
     },
     "execution_count": 17,
     "metadata": {},
     "output_type": "execute_result"
    }
   ],
   "source": [
    "res=D*C#please do inverse of kl matrix * kl matrix\n"
   ]
  },
  {
   "cell_type": "code",
   "execution_count": 19,
   "id": "b2ccc757",
   "metadata": {},
   "outputs": [
    {
     "ename": "LoadError",
     "evalue": "Failed to apply rule (*)(~(~x)) + ~β * ~(~x) => *(1 + ~β, ~(~x)...) on expression -3x[2]*x[3]*x[9]*x[15]*x[17]*x[18]*x[26]*x[27]*x[28]*x[30] - 6x[2]*x[3]*x[6]*x[8]*x[9]*x[15]*x[17]*x[18]*x[24]*x[25]*x[26]*x[28]*x[30]",
     "output_type": "error",
     "traceback": [
      "Failed to apply rule (*)(~(~x)) + ~β * ~(~x) => *(1 + ~β, ~(~x)...) on expression -3x[2]*x[3]*x[9]*x[15]*x[17]*x[18]*x[26]*x[27]*x[28]*x[30] - 6x[2]*x[3]*x[6]*x[8]*x[9]*x[15]*x[17]*x[18]*x[24]*x[25]*x[26]*x[28]*x[30]",
      "",
      "Stacktrace:",
      "  [1] (::SymbolicUtils.Rule{SymbolicUtils.BasicSymbolic{Any}, SymbolicUtils.var\"#term_matcher#98\"{Tuple{SymbolicUtils.var\"#literal_matcher#94\"{typeof(+)}, SymbolicUtils.var\"#term_matcher#98\"{Tuple{SymbolicUtils.var\"#literal_matcher#94\"{typeof(*)}, SymbolicUtils.var\"#segment_matcher#96\"{SymbolicUtils.Segment{typeof(SymbolicUtils.alwaystrue)}}}}, SymbolicUtils.var\"#term_matcher#98\"{Tuple{SymbolicUtils.var\"#literal_matcher#94\"{typeof(*)}, SymbolicUtils.var\"#slot_matcher#95\"{SymbolicUtils.Slot{typeof(SymbolicUtils.alwaystrue)}}, SymbolicUtils.var\"#segment_matcher#96\"{SymbolicUtils.Segment{typeof(SymbolicUtils.alwaystrue)}}}}}}, SymbolicUtils.var\"#144#225\"})(term::SymbolicUtils.BasicSymbolic{Real})",
      "    @ SymbolicUtils ~/.julia/packages/SymbolicUtils/Vzo2s/src/rule.jl:145",
      "  [2] (::SymbolicUtils.ACRule{typeof(Combinatorics.permutations), SymbolicUtils.Rule{SymbolicUtils.BasicSymbolic{Any}, SymbolicUtils.var\"#term_matcher#98\"{Tuple{SymbolicUtils.var\"#literal_matcher#94\"{typeof(+)}, SymbolicUtils.var\"#term_matcher#98\"{Tuple{SymbolicUtils.var\"#literal_matcher#94\"{typeof(*)}, SymbolicUtils.var\"#segment_matcher#96\"{SymbolicUtils.Segment{typeof(SymbolicUtils.alwaystrue)}}}}, SymbolicUtils.var\"#term_matcher#98\"{Tuple{SymbolicUtils.var\"#literal_matcher#94\"{typeof(*)}, SymbolicUtils.var\"#slot_matcher#95\"{SymbolicUtils.Slot{typeof(SymbolicUtils.alwaystrue)}}, SymbolicUtils.var\"#segment_matcher#96\"{SymbolicUtils.Segment{typeof(SymbolicUtils.alwaystrue)}}}}}}, SymbolicUtils.var\"#144#225\"}})(term::SymbolicUtils.BasicSymbolic{Real})",
      "    @ SymbolicUtils ~/.julia/packages/SymbolicUtils/Vzo2s/src/rule.jl:407",
      "  [3] (::SymbolicUtils.Rewriters.Chain)(x::SymbolicUtils.BasicSymbolic{Real})",
      "    @ SymbolicUtils.Rewriters ~/.julia/packages/SymbolicUtils/Vzo2s/src/rewriters.jl:69",
      "  [4] (::SymbolicUtils.Rewriters.IfElse{SymbolicUtils.var\"#139#140\"{typeof(+)}, SymbolicUtils.Rewriters.Chain, SymbolicUtils.Rewriters.Empty})(x::SymbolicUtils.BasicSymbolic{Real})",
      "    @ SymbolicUtils.Rewriters ~/.julia/packages/SymbolicUtils/Vzo2s/src/rewriters.jl:58",
      "  [5] (::SymbolicUtils.Rewriters.Chain)(x::SymbolicUtils.BasicSymbolic{Real})",
      "    @ SymbolicUtils.Rewriters ~/.julia/packages/SymbolicUtils/Vzo2s/src/rewriters.jl:69",
      "  [6] (::SymbolicUtils.Rewriters.RestartedChain{Vector{SymbolicUtils.Rewriters.IfElse{F, SymbolicUtils.Rewriters.Chain, SymbolicUtils.Rewriters.Empty} where F}})(x::SymbolicUtils.BasicSymbolic{Real})",
      "    @ SymbolicUtils.Rewriters ~/.julia/packages/SymbolicUtils/Vzo2s/src/rewriters.jl:89",
      "  [7] (::SymbolicUtils.Rewriters.IfElse{SymbolicUtils.var\"#220#304\", SymbolicUtils.Rewriters.RestartedChain{Vector{SymbolicUtils.Rewriters.IfElse{F, SymbolicUtils.Rewriters.Chain, SymbolicUtils.Rewriters.Empty} where F}}, SymbolicUtils.Rewriters.Empty})(x::SymbolicUtils.BasicSymbolic{Real})",
      "    @ SymbolicUtils.Rewriters ~/.julia/packages/SymbolicUtils/Vzo2s/src/rewriters.jl:58",
      "  [8] (::SymbolicUtils.Rewriters.Chain)(x::SymbolicUtils.BasicSymbolic{Real})",
      "    @ SymbolicUtils.Rewriters ~/.julia/packages/SymbolicUtils/Vzo2s/src/rewriters.jl:69",
      "  [9] (::SymbolicUtils.Rewriters.Walk{:post, SymbolicUtils.Rewriters.Chain, typeof(similarterm), false})(x::SymbolicUtils.BasicSymbolic{Real})",
      "    @ SymbolicUtils.Rewriters ~/.julia/packages/SymbolicUtils/Vzo2s/src/rewriters.jl:200",
      " [10] (::SymbolicUtils.Rewriters.PassThrough{SymbolicUtils.Rewriters.Walk{:post, SymbolicUtils.Rewriters.Chain, typeof(similarterm), false}})(x::SymbolicUtils.BasicSymbolic{Real})",
      "    @ SymbolicUtils.Rewriters ~/.julia/packages/SymbolicUtils/Vzo2s/src/rewriters.jl:188",
      " [11] iterate",
      "    @ ./generator.jl:47 [inlined]",
      " [12] _collect(c::Vector{Any}, itr::Base.Generator{Vector{Any}, SymbolicUtils.Rewriters.PassThrough{SymbolicUtils.Rewriters.Walk{:post, SymbolicUtils.Rewriters.Chain, typeof(similarterm), false}}}, #unused#::Base.EltypeUnknown, isz::Base.HasShape{1})",
      "    @ Base ./array.jl:695",
      " [13] collect_similar",
      "    @ ./array.jl:606 [inlined]",
      " [14] map(f::SymbolicUtils.Rewriters.PassThrough{SymbolicUtils.Rewriters.Walk{:post, SymbolicUtils.Rewriters.Chain, typeof(similarterm), false}}, A::Vector{Any})",
      "    @ Base ./abstractarray.jl:2294",
      " [15] (::SymbolicUtils.Rewriters.Walk{:post, SymbolicUtils.Rewriters.Chain, typeof(similarterm), false})(x::SymbolicUtils.BasicSymbolic{Real})",
      "    @ SymbolicUtils.Rewriters ~/.julia/packages/SymbolicUtils/Vzo2s/src/rewriters.jl:198",
      " [16] (::SymbolicUtils.Rewriters.PassThrough{SymbolicUtils.Rewriters.Walk{:post, SymbolicUtils.Rewriters.Chain, typeof(similarterm), false}})(x::SymbolicUtils.BasicSymbolic{Real})",
      "    @ SymbolicUtils.Rewriters ~/.julia/packages/SymbolicUtils/Vzo2s/src/rewriters.jl:188",
      " [17] iterate",
      "    @ ./generator.jl:47 [inlined]",
      " [18] collect_to!(dest::Vector{SymbolicUtils.BasicSymbolic{Real}}, itr::Base.Generator{Vector{Any}, SymbolicUtils.Rewriters.PassThrough{SymbolicUtils.Rewriters.Walk{:post, SymbolicUtils.Rewriters.Chain, typeof(similarterm), false}}}, offs::Int64, st::Int64)",
      "    @ Base ./array.jl:728",
      " [19] collect_to_with_first!(dest::Vector{SymbolicUtils.BasicSymbolic{Real}}, v1::SymbolicUtils.BasicSymbolic{Real}, itr::Base.Generator{Vector{Any}, SymbolicUtils.Rewriters.PassThrough{SymbolicUtils.Rewriters.Walk{:post, SymbolicUtils.Rewriters.Chain, typeof(similarterm), false}}}, st::Int64)",
      "    @ Base ./array.jl:706",
      " [20] _collect(c::Vector{Any}, itr::Base.Generator{Vector{Any}, SymbolicUtils.Rewriters.PassThrough{SymbolicUtils.Rewriters.Walk{:post, SymbolicUtils.Rewriters.Chain, typeof(similarterm), false}}}, #unused#::Base.EltypeUnknown, isz::Base.HasShape{1})",
      "    @ Base ./array.jl:700",
      "--- the last 8 lines are repeated 3 more times ---",
      " [45] collect_similar",
      "    @ ./array.jl:606 [inlined]",
      " [46] map(f::SymbolicUtils.Rewriters.PassThrough{SymbolicUtils.Rewriters.Walk{:post, SymbolicUtils.Rewriters.Chain, typeof(similarterm), false}}, A::Vector{Any})",
      "    @ Base ./abstractarray.jl:2294",
      " [47] (::SymbolicUtils.Rewriters.Walk{:post, SymbolicUtils.Rewriters.Chain, typeof(similarterm), false})(x::SymbolicUtils.BasicSymbolic{Real})",
      "    @ SymbolicUtils.Rewriters ~/.julia/packages/SymbolicUtils/Vzo2s/src/rewriters.jl:198",
      " [48] (::SymbolicUtils.Rewriters.PassThrough{SymbolicUtils.Rewriters.Walk{:post, SymbolicUtils.Rewriters.Chain, typeof(similarterm), false}})(x::SymbolicUtils.BasicSymbolic{Real})",
      "    @ SymbolicUtils.Rewriters ~/.julia/packages/SymbolicUtils/Vzo2s/src/rewriters.jl:188",
      " [49] iterate",
      "    @ ./generator.jl:47 [inlined]",
      " [50] _collect(c::Vector{Any}, itr::Base.Generator{Vector{Any}, SymbolicUtils.Rewriters.PassThrough{SymbolicUtils.Rewriters.Walk{:post, SymbolicUtils.Rewriters.Chain, typeof(similarterm), false}}}, #unused#::Base.EltypeUnknown, isz::Base.HasShape{1})",
      "    @ Base ./array.jl:695",
      " [51] collect_similar",
      "    @ ./array.jl:606 [inlined]",
      " [52] map(f::SymbolicUtils.Rewriters.PassThrough{SymbolicUtils.Rewriters.Walk{:post, SymbolicUtils.Rewriters.Chain, typeof(similarterm), false}}, A::Vector{Any})",
      "    @ Base ./abstractarray.jl:2294",
      " [53] (::SymbolicUtils.Rewriters.Walk{:post, SymbolicUtils.Rewriters.Chain, typeof(similarterm), false})(x::SymbolicUtils.BasicSymbolic{Real})",
      "    @ SymbolicUtils.Rewriters ~/.julia/packages/SymbolicUtils/Vzo2s/src/rewriters.jl:198",
      " [54] (::SymbolicUtils.Rewriters.PassThrough{SymbolicUtils.Rewriters.Walk{:post, SymbolicUtils.Rewriters.Chain, typeof(similarterm), false}})(x::SymbolicUtils.BasicSymbolic{Real})",
      "    @ SymbolicUtils.Rewriters ~/.julia/packages/SymbolicUtils/Vzo2s/src/rewriters.jl:188",
      " [55] iterate",
      "    @ ./generator.jl:47 [inlined]",
      " [56] collect_to!(dest::Vector{SymbolicUtils.BasicSymbolic{Real}}, itr::Base.Generator{Vector{Any}, SymbolicUtils.Rewriters.PassThrough{SymbolicUtils.Rewriters.Walk{:post, SymbolicUtils.Rewriters.Chain, typeof(similarterm), false}}}, offs::Int64, st::Int64)",
      "    @ Base ./array.jl:728",
      " [57] collect_to_with_first!(dest::Vector{SymbolicUtils.BasicSymbolic{Real}}, v1::SymbolicUtils.BasicSymbolic{Real}, itr::Base.Generator{Vector{Any}, SymbolicUtils.Rewriters.PassThrough{SymbolicUtils.Rewriters.Walk{:post, SymbolicUtils.Rewriters.Chain, typeof(similarterm), false}}}, st::Int64)",
      "    @ Base ./array.jl:706",
      " [58] _collect(c::Vector{Any}, itr::Base.Generator{Vector{Any}, SymbolicUtils.Rewriters.PassThrough{SymbolicUtils.Rewriters.Walk{:post, SymbolicUtils.Rewriters.Chain, typeof(similarterm), false}}}, #unused#::Base.EltypeUnknown, isz::Base.HasShape{1})",
      "    @ Base ./array.jl:700",
      " [59] collect_similar",
      "    @ ./array.jl:606 [inlined]",
      " [60] map(f::SymbolicUtils.Rewriters.PassThrough{SymbolicUtils.Rewriters.Walk{:post, SymbolicUtils.Rewriters.Chain, typeof(similarterm), false}}, A::Vector{Any})",
      "    @ Base ./abstractarray.jl:2294",
      " [61] (::SymbolicUtils.Rewriters.Walk{:post, SymbolicUtils.Rewriters.Chain, typeof(similarterm), false})(x::SymbolicUtils.BasicSymbolic{Real})",
      "    @ SymbolicUtils.Rewriters ~/.julia/packages/SymbolicUtils/Vzo2s/src/rewriters.jl:198",
      " [62] (::SymbolicUtils.Rewriters.PassThrough{SymbolicUtils.Rewriters.Walk{:post, SymbolicUtils.Rewriters.Chain, typeof(similarterm), false}})(x::SymbolicUtils.BasicSymbolic{Real})",
      "    @ SymbolicUtils.Rewriters ~/.julia/packages/SymbolicUtils/Vzo2s/src/rewriters.jl:188",
      " [63] iterate",
      "    @ ./generator.jl:47 [inlined]",
      " [64] _collect(c::Vector{Any}, itr::Base.Generator{Vector{Any}, SymbolicUtils.Rewriters.PassThrough{SymbolicUtils.Rewriters.Walk{:post, SymbolicUtils.Rewriters.Chain, typeof(similarterm), false}}}, #unused#::Base.EltypeUnknown, isz::Base.HasShape{1})",
      "    @ Base ./array.jl:695",
      "--- the last 6 lines are repeated 1 more time ---",
      " [71] collect_similar",
      "    @ ./array.jl:606 [inlined]",
      " [72] map(f::SymbolicUtils.Rewriters.PassThrough{SymbolicUtils.Rewriters.Walk{:post, SymbolicUtils.Rewriters.Chain, typeof(similarterm), false}}, A::Vector{Any})",
      "    @ Base ./abstractarray.jl:2294",
      " [73] (::SymbolicUtils.Rewriters.Walk{:post, SymbolicUtils.Rewriters.Chain, typeof(similarterm), false})(x::SymbolicUtils.BasicSymbolic{Real})",
      "    @ SymbolicUtils.Rewriters ~/.julia/packages/SymbolicUtils/Vzo2s/src/rewriters.jl:198",
      " [74] (::SymbolicUtils.Rewriters.PassThrough{SymbolicUtils.Rewriters.Walk{:post, SymbolicUtils.Rewriters.Chain, typeof(similarterm), false}})(x::SymbolicUtils.BasicSymbolic{Real})",
      "    @ SymbolicUtils.Rewriters ~/.julia/packages/SymbolicUtils/Vzo2s/src/rewriters.jl:188",
      " [75] iterate",
      "    @ ./generator.jl:47 [inlined]",
      " [76] collect_to!(dest::Vector{Any}, itr::Base.Generator{Vector{Any}, SymbolicUtils.Rewriters.PassThrough{SymbolicUtils.Rewriters.Walk{:post, SymbolicUtils.Rewriters.Chain, typeof(similarterm), false}}}, offs::Int64, st::Int64)",
      "    @ Base ./array.jl:728",
      " [77] collect_to!(dest::Vector{Int64}, itr::Base.Generator{Vector{Any}, SymbolicUtils.Rewriters.PassThrough{SymbolicUtils.Rewriters.Walk{:post, SymbolicUtils.Rewriters.Chain, typeof(similarterm), false}}}, offs::Int64, st::Int64)",
      "    @ Base ./array.jl:736",
      " [78] collect_to_with_first!(dest::Vector{Int64}, v1::Int64, itr::Base.Generator{Vector{Any}, SymbolicUtils.Rewriters.PassThrough{SymbolicUtils.Rewriters.Walk{:post, SymbolicUtils.Rewriters.Chain, typeof(similarterm), false}}}, st::Int64)",
      "    @ Base ./array.jl:706",
      " [79] _collect(c::Vector{Any}, itr::Base.Generator{Vector{Any}, SymbolicUtils.Rewriters.PassThrough{SymbolicUtils.Rewriters.Walk{:post, SymbolicUtils.Rewriters.Chain, typeof(similarterm), false}}}, #unused#::Base.EltypeUnknown, isz::Base.HasShape{1})",
      "    @ Base ./array.jl:700",
      " [80] collect_similar",
      "    @ ./array.jl:606 [inlined]",
      " [81] map(f::SymbolicUtils.Rewriters.PassThrough{SymbolicUtils.Rewriters.Walk{:post, SymbolicUtils.Rewriters.Chain, typeof(similarterm), false}}, A::Vector{Any})",
      "    @ Base ./abstractarray.jl:2294",
      " [82] (::SymbolicUtils.Rewriters.Walk{:post, SymbolicUtils.Rewriters.Chain, typeof(similarterm), false})(x::SymbolicUtils.BasicSymbolic{Real})",
      "    @ SymbolicUtils.Rewriters ~/.julia/packages/SymbolicUtils/Vzo2s/src/rewriters.jl:198",
      " [83] IfElse",
      "    @ ~/.julia/packages/SymbolicUtils/Vzo2s/src/rewriters.jl:58 [inlined]",
      " [84] (::SymbolicUtils.Rewriters.Fixpoint{SymbolicUtils.Rewriters.IfElse{typeof(SymbolicUtils.has_trig_exp), SymbolicUtils.Rewriters.Walk{:post, SymbolicUtils.Rewriters.IfElse{SymbolicUtils.var\"#218#302\", SymbolicUtils.Rewriters.Chain, SymbolicUtils.Rewriters.IfElse{SymbolicUtils.var\"#219#303\", SymbolicUtils.Rewriters.Chain, SymbolicUtils.Rewriters.Empty}}, typeof(similarterm), false}, SymbolicUtils.Rewriters.Walk{:post, SymbolicUtils.Rewriters.Chain, typeof(similarterm), false}}})(x::SymbolicUtils.BasicSymbolic{Real})",
      "    @ SymbolicUtils.Rewriters ~/.julia/packages/SymbolicUtils/Vzo2s/src/rewriters.jl:118",
      " [85] IfElse",
      "    @ ~/.julia/packages/SymbolicUtils/Vzo2s/src/rewriters.jl:58 [inlined]",
      " [86] (::SymbolicUtils.Rewriters.PassThrough{SymbolicUtils.Rewriters.IfElse{typeof(istree), SymbolicUtils.Rewriters.Fixpoint{SymbolicUtils.Rewriters.IfElse{typeof(SymbolicUtils.has_trig_exp), SymbolicUtils.Rewriters.Walk{:post, SymbolicUtils.Rewriters.IfElse{SymbolicUtils.var\"#218#302\", SymbolicUtils.Rewriters.Chain, SymbolicUtils.Rewriters.IfElse{SymbolicUtils.var\"#219#303\", SymbolicUtils.Rewriters.Chain, SymbolicUtils.Rewriters.Empty}}, typeof(similarterm), false}, SymbolicUtils.Rewriters.Walk{:post, SymbolicUtils.Rewriters.Chain, typeof(similarterm), false}}}, SymbolicUtils.Rewriters.Empty}})(x::SymbolicUtils.BasicSymbolic{Real})",
      "    @ SymbolicUtils.Rewriters ~/.julia/packages/SymbolicUtils/Vzo2s/src/rewriters.jl:188",
      " [87] simplify(x::SymbolicUtils.BasicSymbolic{Real}; expand::Bool, polynorm::Nothing, threaded::Bool, simplify_fractions::Bool, thread_subtree_cutoff::Int64, rewriter::Nothing)",
      "    @ SymbolicUtils ~/.julia/packages/SymbolicUtils/Vzo2s/src/simplify.jl:41",
      " [88] simplify(x::SymbolicUtils.BasicSymbolic{Real})",
      "    @ SymbolicUtils ~/.julia/packages/SymbolicUtils/Vzo2s/src/simplify.jl:23",
      " [89] simplify(n::Num; kw::Base.Iterators.Pairs{Union{}, Union{}, Tuple{}, NamedTuple{(), Tuple{}}})",
      "    @ Symbolics ~/.julia/packages/Symbolics/5AM8W/src/Symbolics.jl:151",
      " [90] simplify(n::Num)",
      "    @ Symbolics ~/.julia/packages/Symbolics/5AM8W/src/Symbolics.jl:151",
      " [91] _broadcast_getindex_evalf",
      "    @ ./broadcast.jl:648 [inlined]",
      " [92] _broadcast_getindex",
      "    @ ./broadcast.jl:621 [inlined]",
      " [93] getindex",
      "    @ ./broadcast.jl:575 [inlined]",
      " [94] copy",
      "    @ ./broadcast.jl:922 [inlined]",
      " [95] materialize(bc::Base.Broadcast.Broadcasted{Base.Broadcast.DefaultArrayStyle{2}, Nothing, typeof(simplify), Tuple{Base.Broadcast.Broadcasted{Base.Broadcast.DefaultArrayStyle{2}, Nothing, typeof(expand), Tuple{Matrix{Num}}}}})",
      "    @ Base.Broadcast ./broadcast.jl:883"
     ]
    }
   ],
   "source": [
    "# res=simplify.(expand.(res))\n"
   ]
  },
  {
   "cell_type": "markdown",
   "id": "394740cb",
   "metadata": {},
   "source": [
    "# Substitution to verify"
   ]
  },
  {
   "cell_type": "code",
   "execution_count": 21,
   "id": "d7525d47",
   "metadata": {},
   "outputs": [
    {
     "data": {
      "text/plain": [
       "Dict{Any, Any} with 36 entries:\n",
       "  x[29] => 5\n",
       "  x[8]  => 3\n",
       "  x[31] => 4\n",
       "  x[36] => 1\n",
       "  x[6]  => 5\n",
       "  x[17] => 4\n",
       "  x[28] => 2\n",
       "  x[13] => 8\n",
       "  x[33] => 9\n",
       "  x[11] => 8\n",
       "  x[16] => 7\n",
       "  x[20] => 2\n",
       "  x[26] => 2\n",
       "  x[34] => 4\n",
       "  x[30] => 8\n",
       "  x[7]  => 7\n",
       "  x[27] => 2\n",
       "  x[21] => 8\n",
       "  x[5]  => 4\n",
       "  x[1]  => 9\n",
       "  x[9]  => 4\n",
       "  x[12] => 2\n",
       "  x[3]  => 4\n",
       "  x[4]  => 1\n",
       "  x[18] => 4\n",
       "  ⋮     => ⋮"
      ]
     },
     "execution_count": 21,
     "metadata": {},
     "output_type": "execute_result"
    }
   ],
   "source": [
    "substitution_dict=Dict()\n",
    "for i in 1:36\n",
    "    substitution_dict[x[i]]=rand(1:10)\n",
    "end \n",
    "substitution_dict"
   ]
  },
  {
   "cell_type": "code",
   "execution_count": 22,
   "id": "e029ca54",
   "metadata": {},
   "outputs": [
    {
     "data": {
      "text/latex": [
       "$$ \\begin{equation}\n",
       "\\left[\n",
       "\\begin{array}{ccc}\n",
       "0.9999999999999982 & 0.0 & -1.0658141036401503e-14 \\\\\n",
       "-9.486769009248164e-20 & 0.9999999999999973 & -4.336808689942018e-19 \\\\\n",
       "-9.107298248878237e-18 & 1.4566126083082054e-13 & 1.0 \\\\\n",
       "\\end{array}\n",
       "\\right]\n",
       "\\end{equation}\n",
       " $$"
      ],
      "text/plain": [
       "3×3 Matrix{Num}:\n",
       "  1.0          0.0          -1.06581e-14\n",
       " -9.48677e-20  1.0          -4.33681e-19\n",
       " -9.1073e-18   1.45661e-13   1.0"
      ]
     },
     "execution_count": 22,
     "metadata": {},
     "output_type": "execute_result"
    }
   ],
   "source": [
    "\n",
    "substitute.(res,(substitution_dict,))"
   ]
  },
  {
   "cell_type": "code",
   "execution_count": null,
   "id": "8aba7470",
   "metadata": {},
   "outputs": [],
   "source": []
  }
 ],
 "metadata": {
  "kernelspec": {
   "display_name": "Julia 1.6.7",
   "language": "julia",
   "name": "julia-1.6"
  },
  "language_info": {
   "file_extension": ".jl",
   "mimetype": "application/julia",
   "name": "julia",
   "version": "1.6.7"
  }
 },
 "nbformat": 4,
 "nbformat_minor": 5
}
