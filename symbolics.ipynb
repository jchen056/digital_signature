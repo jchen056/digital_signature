{
 "cells": [
  {
   "cell_type": "code",
   "execution_count": 1,
   "id": "ed72a66c",
   "metadata": {},
   "outputs": [],
   "source": [
    "using Symbolics\n",
    "using LinearAlgebra"
   ]
  },
  {
   "cell_type": "markdown",
   "id": "9883ab1d",
   "metadata": {},
   "source": [
    "Julia documention: https://docs.julialang.org/en/v1/\n"
   ]
  },
  {
   "cell_type": "markdown",
   "id": "a82844cf",
   "metadata": {},
   "source": [
    "# Key generation"
   ]
  },
  {
   "cell_type": "code",
   "execution_count": 5,
   "id": "0f2be83a",
   "metadata": {},
   "outputs": [
    {
     "data": {
      "text/latex": [
       "$$ \\begin{equation}\n",
       "x_{3 6}\n",
       "\\end{equation}\n",
       " $$"
      ],
      "text/plain": [
       "x[36]"
      ]
     },
     "execution_count": 5,
     "metadata": {},
     "output_type": "execute_result"
    }
   ],
   "source": [
    "@variables x[1:36]\n",
    "x[36]\n",
    "\n",
    "\n",
    "# @variables a,b,c,t,x,y\n",
    "# typeof(a+b)\n",
    "\n",
    "# B=simplify.([t^2 + t + t^2  2t + 4t;\n",
    "#                   x + y + y + 2t  x^2 - x^2 + y^2])\n",
    "# B\n",
    "x[36]"
   ]
  },
  {
   "cell_type": "code",
   "execution_count": 2,
   "id": "9a227fdb",
   "metadata": {},
   "outputs": [
    {
     "data": {
      "text/plain": [
       "modify_coeffcients (generic function with 1 method)"
      ]
     },
     "execution_count": 2,
     "metadata": {},
     "output_type": "execute_result"
    }
   ],
   "source": [
    "function modify_coeffcients(A,q)\n",
    "    \n",
    "    coeffs_map=Symbolics.value(A).dict#turn the polynomial into matrix\n",
    "    B=0#create our new polynomial\n",
    "    for (key, value) in coeffs_map#iterate through the dict(monomial, coeffcients)\n",
    "        if value>=q\n",
    "            new_coef=value%q\n",
    "            B+=new_coef*key\n",
    "        else\n",
    "            B+=key*value\n",
    "        end  \n",
    "    end\n",
    "    B\n",
    "end"
   ]
  },
  {
   "cell_type": "code",
   "execution_count": 3,
   "id": "a0bf9da3",
   "metadata": {},
   "outputs": [
    {
     "data": {
      "text/latex": [
       "$$ \\begin{equation}\n",
       "2 x_1 + 3 x_3^{2} + 3 x_4 + x_3 x_4 + 2 x_3^{2} x_1\n",
       "\\end{equation}\n",
       " $$"
      ],
      "text/plain": [
       "2x[1] + 3(x[3]^2) + 3x[4] + x[3]*x[4] + 2(x[3]^2)*x[1]"
      ]
     },
     "execution_count": 3,
     "metadata": {},
     "output_type": "execute_result"
    }
   ],
   "source": [
    "#t monomials\n",
    "#bound the degree of mononials by b\n",
    "#coefficients go from 1 to q-1(inclusive)\n",
    "function sparse_polynomial(n,t,b,q)\n",
    "    @variables x[1:n]\n",
    "    \n",
    "    sparse_poly=0\n",
    "    \n",
    "    for i in 1:t #we want t monomials\n",
    "        deg=rand(1:b)\n",
    "        \n",
    "        monomial_d=1\n",
    "        for j in 1:deg\n",
    "            monomial_d*=x[rand(1:n)]\n",
    "        end\n",
    "        sparse_poly+=rand(1:(q-1))*monomial_d\n",
    "        \n",
    "    end\n",
    "#     println(sparse_poly)\n",
    "    A=modify_coeffcients(sparse_poly,q)\n",
    "    return A\n",
    "end\n",
    "\n",
    "A=sparse_polynomial(4,5,3,6)\n",
    "A"
   ]
  },
  {
   "cell_type": "markdown",
   "id": "8ab0be83",
   "metadata": {},
   "source": [
    "# matrix utility functions"
   ]
  },
  {
   "cell_type": "code",
   "execution_count": 41,
   "id": "c0294644",
   "metadata": {},
   "outputs": [
    {
     "data": {
      "text/plain": [
       "3×3 Matrix{Float64}:\n",
       " 1.0  0.0  0.0\n",
       " 0.0  1.0  0.0\n",
       " 0.0  0.0  1.0"
      ]
     },
     "execution_count": 41,
     "metadata": {},
     "output_type": "execute_result"
    }
   ],
   "source": [
    "A1 = [1 2 3; 4 1 6; 7 8 1]\n",
    "det(A1)\n",
    "I=diagm(0=>ones(3))#scalar*Identity matrix\n",
    "I\n"
   ]
  },
  {
   "cell_type": "code",
   "execution_count": 6,
   "id": "a13a157a",
   "metadata": {},
   "outputs": [
    {
     "data": {
      "text/latex": [
       "$$ \\begin{equation}\n",
       "\\left[\n",
       "\\begin{array}{cccc}\n",
       "x_2 x_3 + x_1 & 0 & 0 & 0 \\\\\n",
       "0 & 1 & 0 & 0 \\\\\n",
       "0 & 0 & 1 & 0 \\\\\n",
       "0 & 0 & 0 & 1 \\\\\n",
       "\\end{array}\n",
       "\\right]\n",
       "\\end{equation}\n",
       " $$"
      ],
      "text/plain": [
       "4×4 Matrix{Num}:\n",
       " x[2]*x[3] + x[1]  0  0  0\n",
       "                0  1  0  0\n",
       "                0  0  1  0\n",
       "                0  0  0  1"
      ]
     },
     "execution_count": 6,
     "metadata": {},
     "output_type": "execute_result"
    }
   ],
   "source": [
    "function num_identity(k)\n",
    "    a=zeros(Num,k)\n",
    "    a[1]=1\n",
    "    for i in 2:k\n",
    "        b=zeros(Num,k)\n",
    "        b[i]=1\n",
    "        a=[a b] \n",
    "    end\n",
    "    return a\n",
    "end\n",
    "I_mat=num_identity(4)\n",
    "I_mat[1,1]=x[2]*x[3]+x[1]\n",
    "I_mat\n",
    "\n"
   ]
  },
  {
   "cell_type": "code",
   "execution_count": 7,
   "id": "f2f24d6d",
   "metadata": {},
   "outputs": [
    {
     "data": {
      "text/latex": [
       "$$ \\begin{equation}\n",
       "\\left[\n",
       "\\begin{array}{cccc}\n",
       "1 & 5 x_9 x_{2 5} + x_1 x_{2 8} x_{2 9} + 3 x_3 x_4 x_{2 1} + 5 x_{1 6} x_{2 8} x_{3 1} & 5 x_9 + 4 x_9 x_{2 9} + 4 x_2 x_{1 9} x_{2 0} + x_{2 0} & 0 \\\\\n",
       "0 & 1 & 3 x_{2 8} + 3 x_{1 7} x_{2 5} + 4 x_{1 4} x_{1 5} x_{1 6} + 4 x_5 x_{1 2} x_{2 7} & 4 x_{2 4} + 5 x_1 x_5 + x_4 x_{1 5} x_{1 6} + 3 x_5 x_{3 1} \\\\\n",
       "0 & 0 & 1 & 0 \\\\\n",
       "0 & 0 & 0 & 1 \\\\\n",
       "\\end{array}\n",
       "\\right]\n",
       "\\end{equation}\n",
       " $$"
      ],
      "text/plain": [
       "4×4 Matrix{Num}:\n",
       " 1  …                                                     0\n",
       " 0     4x[24] + 5x[1]*x[5] + x[4]*x[15]*x[16] + 3x[5]*x[31]\n",
       " 0                                                        0\n",
       " 0                                                        1"
      ]
     },
     "execution_count": 7,
     "metadata": {},
     "output_type": "execute_result"
    }
   ],
   "source": [
    "function generate_U(k,n,t,B,q)\n",
    "    I_matrix=num_identity(k)#generate a k by k identity matrix\n",
    "    for i in 1:Int((k*k-k)/2)\n",
    "        b=rand(2:k)\n",
    "        a=rand(1:(b-1))\n",
    "        I_matrix[a,b]=sparse_polynomial(n,t,B,q)\n",
    "    end\n",
    "\n",
    "    return I_matrix\n",
    "end \n",
    "\n",
    "U=generate_U(4,32,4,3,6)\n",
    "U\n",
    "# println(U)\n",
    "# simplify.(expand.(inv(U)*U))\n"
   ]
  },
  {
   "cell_type": "code",
   "execution_count": 8,
   "id": "db9bee80",
   "metadata": {},
   "outputs": [
    {
     "data": {
      "text/latex": [
       "$$ \\begin{equation}\n",
       "\\left[\n",
       "\\begin{array}{cccc}\n",
       "1.0 & 0.0 & 0.0 & 0.0 \\\\\n",
       "0 & 1.0 & 0.0 & 0.0 \\\\\n",
       "0 & 0.0 & 1.0 & 0.0 \\\\\n",
       "0 & 0 & 0.0 & 1.0 \\\\\n",
       "\\end{array}\n",
       "\\right]\n",
       "\\end{equation}\n",
       " $$"
      ],
      "text/plain": [
       "4×4 Matrix{Num}:\n",
       " 1.0  0.0  0.0  0.0\n",
       " 0    1.0  0.0  0.0\n",
       " 0    0.0  1.0  0.0\n",
       " 0    0    0.0  1.0"
      ]
     },
     "execution_count": 8,
     "metadata": {},
     "output_type": "execute_result"
    }
   ],
   "source": [
    "function generate_L(k,n,t,B,q)\n",
    "    I_matrix=num_identity(k)#generate a k by k identity matrix\n",
    "    for i in 1:Int((k*k-k)/2)\n",
    "        a=rand(2:k)\n",
    "        b=rand(1:a-1)\n",
    "        I_matrix[a,b]=sparse_polynomial(n,t,B,q)\n",
    "    end\n",
    "    return I_matrix\n",
    "end\n",
    "L=generate_L(4,32,4,3,6)\n",
    "expand.(simplify.(inv(L)*L))\n",
    "\n",
    "# substitute.(inv(U)*U,(substitution_dict,))"
   ]
  },
  {
   "cell_type": "code",
   "execution_count": 21,
   "id": "9b87b641",
   "metadata": {},
   "outputs": [
    {
     "name": "stdout",
     "output_type": "stream",
     "text": [
      "2\n"
     ]
    },
    {
     "data": {
      "text/plain": [
       "3-element Vector{Int64}:\n",
       " 2\n",
       " 3\n",
       " 4"
      ]
     },
     "execution_count": 21,
     "metadata": {},
     "output_type": "execute_result"
    }
   ],
   "source": [
    "A=[]\n",
    "push!(A,1)\n",
    "push!(A,'a')\n",
    "println(size(A,1))\n",
    "B=[\"kk\",1]\n",
    "vcat(A,B)\n",
    "[i for i in 1:3]\n",
    "zeros(Num,3,4)[:,2]\n",
    "\n",
    "\n",
    "function cols_to_keep(k,l)\n",
    "    col_opts=[i for i in 1:k]\n",
    "    for i in 1:(k-l)\n",
    "        random_number=size(col_opts,1)\n",
    "        splice!(col_opts, rand(1:random_number))\n",
    "    end\n",
    "    return col_opts\n",
    "end\n",
    "cols_to_keep(4,3)"
   ]
  },
  {
   "cell_type": "markdown",
   "id": "dc9dd33b",
   "metadata": {},
   "source": [
    "# utility functions"
   ]
  },
  {
   "cell_type": "code",
   "execution_count": 24,
   "id": "5ebd2d38",
   "metadata": {},
   "outputs": [
    {
     "data": {
      "text/plain": [
       "([1, 3], Num[5 6; 2 2; 6 2; 2 6])"
      ]
     },
     "execution_count": 24,
     "metadata": {},
     "output_type": "execute_result"
    }
   ],
   "source": [
    "function random_del_cols(k,l,matrix)\n",
    "#     col_opts=[i for i in 1:l]\n",
    "    col_opts=cols_to_keep(k,l)\n",
    "    matrix_kl=zeros(Num, k,l)\n",
    "    \n",
    "    j=1\n",
    "    for i in col_opts\n",
    "        matrix_kl[:,j]=matrix[:,i]\n",
    "        j+=1\n",
    "    end\n",
    "    return col_opts,matrix_kl\n",
    "end\n",
    "\n",
    "random_del_cols(4,2,[5 6 6 8; 2 2 2 8; 6 6 2 8; 2 3 6 7])\n",
    "# size([5 6 6 8; 2 2 2 8; 6 6 2 8; 2 3 6 7],2)\n",
    "# size([5 6; 2 2; 6 6; 2 3])"
   ]
  },
  {
   "cell_type": "code",
   "execution_count": 25,
   "id": "5003b746",
   "metadata": {},
   "outputs": [
    {
     "data": {
      "text/latex": [
       "$$ \\begin{equation}\n",
       "\\left[\n",
       "\\begin{array}{cccc}\n",
       "-17.0 & -9.0 & 12.0 & 16.0 \\\\\n",
       "17.0 & 8.75 & -11.75 & -16.0 \\\\\n",
       "\\end{array}\n",
       "\\right]\n",
       "\\end{equation}\n",
       " $$"
      ],
      "text/plain": [
       "2×4 Matrix{Num}:\n",
       " -17.0  -9.0    12.0    16.0\n",
       "  17.0   8.75  -11.75  -16.0"
      ]
     },
     "execution_count": 25,
     "metadata": {},
     "output_type": "execute_result"
    }
   ],
   "source": [
    "function find_kl_inverse(to_keep,S_inv)\n",
    "    k=size(S_inv,1)#find the number of rows\n",
    "    ml_inv=zeros(Num, length(to_keep),k)\n",
    "    \n",
    "    j=1\n",
    "    for i in to_keep\n",
    "        ml_inv[j,:]=S_inv[i,:]\n",
    "        j+=1\n",
    "    end\n",
    "    return ml_inv\n",
    "end\n",
    "find_kl_inverse([1 2],[-17 -9 12 16;17 35/4 -47/4 -16;-4 -9/4 11/4 4; 1 3/4 -3/4 -1])\n",
    "#*[5 6; 2 2; 6 6; 2 3]\n",
    "    "
   ]
  },
  {
   "cell_type": "code",
   "execution_count": 261,
   "id": "f5bb60c6",
   "metadata": {},
   "outputs": [
    {
     "data": {
      "text/plain": [
       "true"
      ]
     },
     "execution_count": 261,
     "metadata": {},
     "output_type": "execute_result"
    }
   ],
   "source": [
    "1==1 && 4+5==9"
   ]
  },
  {
   "cell_type": "code",
   "execution_count": 32,
   "id": "338b03ec",
   "metadata": {},
   "outputs": [
    {
     "data": {
      "text/latex": [
       "$$ \\begin{equation}\n",
       " - 4 x_{1 0}^{2} x_5 x_{2 5} x_{2 6} - 4 x_{1 0} x_{1 3} x_{2 5} x_{2 9} - 2 x_4 x_{1 2} x_{2 1} x_{2 5} x_{2 8} - 5 x_{1 0}^{2} x_1^{3} x_5 x_8 x_{2 0} x_{2 6} - 5 x_1^{3} x_8 x_{1 0} x_{1 3} x_{2 0} x_{2 9} - 4 x_1^{3} x_4 x_8 x_{1 2} x_{2 0} x_{2 1} x_{2 8} - x_{1 3}^{2} x_5 x_{1 0} x_{2 2} x_{2 3} x_{2 9} x_{3 0} - x_{1 0}^{2} x_5^{2} x_{1 3} x_{2 2} x_{2 3} x_{2 6} x_{3 0} - 2 x_4 x_5 x_{1 2} x_{1 3} x_{2 1} x_{2 2} x_{2 3} x_{2 8} x_{3 0}\n",
       "\\end{equation}\n",
       " $$"
      ],
      "text/plain": [
       "-4(x[10]^2)*x[5]*x[25]*x[26] - 4x[10]*x[13]*x[25]*x[29] - 2x[4]*x[12]*x[21]*x[25]*x[28] - 5(x[1]^3)*(x[10]^2)*x[5]*x[8]*x[20]*x[26] - 5(x[1]^3)*x[8]*x[10]*x[13]*x[20]*x[29] - 4(x[1]^3)*x[4]*x[8]*x[12]*x[20]*x[21]*x[28] - (x[13]^2)*x[5]*x[10]*x[22]*x[23]*x[29]*x[30] - (x[5]^2)*(x[10]^2)*x[13]*x[22]*x[23]*x[26]*x[30] - 2x[4]*x[5]*x[12]*x[13]*x[21]*x[22]*x[23]*x[28]*x[30]"
      ]
     },
     "execution_count": 32,
     "metadata": {},
     "output_type": "execute_result"
    }
   ],
   "source": [
    "function modify_neg_coeff(A,q)\n",
    "    \n",
    "    coeffs_map=Symbolics.value(A).dict#turn the polynomial into matrix\n",
    "    B=0#create our new polynomial\n",
    "    for (key, value) in coeffs_map#iterate through the dict(monomial, coeffcients)\n",
    "        if value>=q || value<0 \n",
    "            new_coef=value%6\n",
    "            B+=new_coef*key\n",
    "        else\n",
    "            B+=key*value\n",
    "        end  \n",
    "    end\n",
    "    B\n",
    "end\n",
    "\n",
    "\n",
    "modify_neg_coeff(-4(x[10]^2)*x[5]*x[25]*x[26] - 4x[10]*x[13]*x[25]*x[29] - 8x[4]*x[12]*x[21]*x[25]*x[28] - 5(x[1]^3)*(x[10]^2)*x[5]*x[8]*x[20]*x[26] - 5(x[1]^3)*x[8]*x[10]*x[13]*x[20]*x[29] - 10(x[1]^3)*x[4]*x[8]*x[12]*x[20]*x[21]*x[28] - (x[13]^2)*x[5]*x[10]*x[22]*x[23]*x[29]*x[30] - (x[5]^2)*(x[10]^2)*x[13]*x[22]*x[23]*x[26]*x[30] - 2x[4]*x[5]*x[12]*x[13]*x[21]*x[22]*x[23]*x[28]*x[30],6)\n",
    "\n",
    "# modify_neg_coeff((x[10]^2)*x[5]*x[26] + x[10]*x[13]*x[29] + 2.0x[4]*x[12]*x[21]*x[28],6)\n"
   ]
  },
  {
   "cell_type": "code",
   "execution_count": 44,
   "id": "330c829e",
   "metadata": {},
   "outputs": [
    {
     "data": {
      "text/plain": [
       "Dict{Any, Any} with 9 entries:\n",
       "  x[1]*x[6]*x[8]*x[9]*x[18]*x[20]*x[22]*x[23]                => 15\n",
       "  x[3]*x[10]*x[11]*x[12]*x[19]*x[26]*x[30]*x[31]             => 15\n",
       "  x[1]*x[3]*x[8]*x[9]*x[10]*x[11]                            => 9\n",
       "  x[6]*x[12]*x[18]*x[19]*x[20]*x[22]*x[23]*x[26]*x[30]*x[31] => 25\n",
       "  (x[10]^2)*x[1]*x[3]*x[4]*x[11]*x[17]                       => 9\n",
       "  x[9]*x[12]*x[19]*x[23]*x[26]*x[30]*x[31]                   => 15\n",
       "  (x[9]^2)*x[1]*x[8]*x[23]                                   => 9\n",
       "  x[1]*x[4]*x[6]*x[10]*x[17]*x[18]*x[20]*x[22]*x[23]         => 15\n",
       "  x[1]*x[4]*x[9]*x[10]*x[17]*x[23]                           => 9"
      ]
     },
     "execution_count": 44,
     "metadata": {},
     "output_type": "execute_result"
    }
   ],
   "source": [
    "Num(0)!=0.0\n",
    "isone((x[10]^2)*x[5]*x[26] + x[10]*x[13]*x[29] + 2.0x[4]*x[12]*x[21]*x[28])\n",
    "iszero((x[10]^2)*x[5]*x[26] + x[10]*x[13]*x[29] + 2.0x[4]*x[12]*x[21]*x[28])\n",
    "isone(1.0)==true\n",
    "Symbolics.value(1 + 9(x[9]^2)*x[1]*x[8]*x[23] + 9(x[10]^2)*x[1]*x[3]*x[4]*x[11]*x[17] + 9x[1]*x[3]*x[8]*x[9]*x[10]*x[11] + 9x[1]*x[4]*x[9]*x[10]*x[17]*x[23] + 15x[9]*x[12]*x[19]*x[23]*x[26]*x[30]*x[31] + 15x[1]*x[6]*x[8]*x[9]*x[18]*x[20]*x[22]*x[23] + 15x[3]*x[10]*x[11]*x[12]*x[19]*x[26]*x[30]*x[31] + 15x[1]*x[4]*x[6]*x[10]*x[17]*x[18]*x[20]*x[22]*x[23] + 25x[6]*x[12]*x[18]*x[19]*x[20]*x[22]*x[23]*x[26]*x[30]*x[31]).dict"
   ]
  },
  {
   "cell_type": "code",
   "execution_count": 39,
   "id": "b85a48e4",
   "metadata": {},
   "outputs": [
    {
     "data": {
      "text/latex": [
       "$$ \\begin{equation}\n",
       "\\left[\n",
       "\\begin{array}{cccc}\n",
       "1.0 & 0 & 0 & 0.0 \\\\\n",
       "0 & 1.0 & 0 & 0.0 \\\\\n",
       "0 & 0 & 1 & 0.0 \\\\\n",
       " - 4 x_{1 0}^{2} x_5 x_{2 5} x_{2 6} - 4 x_{1 0} x_{1 3} x_{2 5} x_{2 9} - 2 x_4 x_{1 2} x_{2 1} x_{2 5} x_{2 8} - 5 x_{1 0}^{2} x_1^{3} x_5 x_8 x_{2 0} x_{2 6} - 5 x_1^{3} x_8 x_{1 0} x_{1 3} x_{2 0} x_{2 9} - 4 x_1^{3} x_4 x_8 x_{1 2} x_{2 0} x_{2 1} x_{2 8} - x_{1 3}^{2} x_5 x_{1 0} x_{2 2} x_{2 3} x_{2 9} x_{3 0} - x_{1 0}^{2} x_5^{2} x_{1 3} x_{2 2} x_{2 3} x_{2 6} x_{3 0} - 2 x_4 x_5 x_{1 2} x_{1 3} x_{2 1} x_{2 2} x_{2 3} x_{2 8} x_{3 0} & x_{1 0}^{2} x_5 x_{2 6} + x_{1 0} x_{1 3} x_{2 9} + 2.0 x_4 x_{1 2} x_{2 1} x_{2 8} & 0 & 0.0 \\\\\n",
       "\\end{array}\n",
       "\\right]\n",
       "\\end{equation}\n",
       " $$"
      ],
      "text/plain": [
       "4×4 Matrix{Num}:\n",
       "                                                                                                                                                                                                                                                                                                                                                                                   1.0  …  0  0.0\n",
       "                                                                                                                                                                                                                                                                                                                                                                                   0       0  0.0\n",
       "                                                                                                                                                                                                                                                                                                                                                                                   0       1  0.0\n",
       " -4(x[10]^2)*x[5]*x[25]*x[26] - 4x[10]*x[13]*x[25]*x[29] - 2x[4]*x[12]*x[21]*x[25]*x[28] - 5(x[1]^3)*(x[10]^2)*x[5]*x[8]*x[20]*x[26] - 5(x[1]^3)*x[8]*x[10]*x[13]*x[20]*x[29] - 4(x[1]^3)*x[4]*x[8]*x[12]*x[20]*x[21]*x[28] - (x[13]^2)*x[5]*x[10]*x[22]*x[23]*x[29]*x[30] - (x[5]^2)*(x[10]^2)*x[13]*x[22]*x[23]*x[26]*x[30] - 2x[4]*x[5]*x[12]*x[13]*x[21]*x[22]*x[23]*x[28]*x[30]       0  0.0"
      ]
     },
     "execution_count": 39,
     "metadata": {},
     "output_type": "execute_result"
    }
   ],
   "source": [
    "function modify_matrix_coef(matrix,q)\n",
    "    res=simplify.(expand.(matrix))#expand and then simplify\n",
    "    \n",
    "    for i in 1:size(res,1)\n",
    "        for j in 1:size(res,2)\n",
    "            a=res[i,j]\n",
    "\n",
    "            if isone(a)==false && iszero(a)==false            \n",
    "                res[i,j]=modify_neg_coeff(a,q)\n",
    "            end\n",
    "        end\n",
    "    end\n",
    "    return res\n",
    "end\n",
    "\n",
    "modify_matrix_coef([1.0 0 0 0.0; 0 1.0 0 0.0; 0 0 1 0.0; -4(x[10]^2)*x[5]*x[25]*x[26] - 4x[10]*x[13]*x[25]*x[29] - 8x[4]*x[12]*x[21]*x[25]*x[28] - 5(x[1]^3)*(x[10]^2)*x[5]*x[8]*x[20]*x[26] - 5(x[1]^3)*x[8]*x[10]*x[13]*x[20]*x[29] - 10(x[1]^3)*x[4]*x[8]*x[12]*x[20]*x[21]*x[28] - (x[13]^2)*x[5]*x[10]*x[22]*x[23]*x[29]*x[30] - (x[5]^2)*(x[10]^2)*x[13]*x[22]*x[23]*x[26]*x[30] - 2x[4]*x[5]*x[12]*x[13]*x[21]*x[22]*x[23]*x[28]*x[30] (x[10]^2)*x[5]*x[26] + x[10]*x[13]*x[29] + 2.0x[4]*x[12]*x[21]*x[28] 0 0.0],6)"
   ]
  },
  {
   "cell_type": "code",
   "execution_count": 67,
   "id": "70ce3461",
   "metadata": {},
   "outputs": [
    {
     "name": "stdout",
     "output_type": "stream",
     "text": [
      "(4, 3)\n",
      "(3, 4)"
     ]
    }
   ],
   "source": [
    "function matrix_kl(k,l,s,n,t,B,q)\n",
    "    Ls=[]\n",
    "    Us=[]\n",
    "    for i in 1:s\n",
    "        U=generate_U(k,n,t,B,q)\n",
    "        L=generate_L(k,n,t,B,q)\n",
    "        push!(Us,U)\n",
    "        push!(Ls,L)\n",
    "    end \n",
    "    U_new=Us[rand(1:s)]\n",
    "    L_new=Ls[rand(1:s)]\n",
    "    kk_matrix=L_new*U_new\n",
    "    kk_matrix=modify_matrix_coef(kk_matrix,q)#modify the coefficients for kk_matrix\n",
    "    kk_inv=inv(kk_matrix)#able to compute, not able to verify the result\n",
    "    #kk_inv=inv(U_new)*inv(L_new)\n",
    "    \n",
    "    #make modifications to the coefficients of each entry in kk_matrix and kk_inv\n",
    "#     kk_matrix=modify_matrix_coef(kk_matrix,q)\n",
    "#     kk_inv=modify_matrix_coef(kk_inv,q)\n",
    "    \n",
    "    col_keep,kl_matrix=random_del_cols(k,l,kk_matrix)\n",
    "    kl_inverse=find_kl_inverse(col_keep,kk_inv)\n",
    "    \n",
    "    #modify coefficients\n",
    "#     kl_matrix=modify_matrix_coef(kl_matrix,q)\n",
    "#     kl_inverse=modify_matrix_coef(kl_inverse,q)\n",
    "    \n",
    "    return kk_matrix,kk_inv,kl_matrix, kl_inverse\n",
    "end \n",
    "\n",
    "\n",
    "A,B,C,D=matrix_kl(4,3,5,32,3,5,6)\n",
    "\n",
    "println(size(C))\n",
    "print(size(D))\n"
   ]
  },
  {
   "cell_type": "code",
   "execution_count": 239,
   "id": "0c31be23",
   "metadata": {},
   "outputs": [
    {
     "data": {
      "text/latex": [
       "$$ \\begin{equation}\n",
       "a^{3} + y^{3} + z^{3} + 3 z \\left( a^{2} + y^{2} \\right) + 3 a \\left( y^{2} + z^{2} \\right) + 3 y \\left( a^{2} + z^{2} \\right) + 6 a y z\n",
       "\\end{equation}\n",
       " $$"
      ],
      "text/plain": [
       "a^3 + y^3 + z^3 + 3z*(a^2 + y^2) + 3a*(y^2 + z^2) + 3y*(a^2 + z^2) + 6a*y*z"
      ]
     },
     "execution_count": 239,
     "metadata": {},
     "output_type": "execute_result"
    }
   ],
   "source": [
    "@variables a,y,z\n",
    "simplify(expand((a+y+z)^3))"
   ]
  },
  {
   "cell_type": "code",
   "execution_count": 70,
   "id": "8951b3de",
   "metadata": {},
   "outputs": [
    {
     "data": {
      "text/latex": [
       "$$ \\begin{equation}\n",
       "\\left[\n",
       "\\begin{array}{ccc}\n",
       "\\frac{\\left( true + \\frac{\\left( 3 x_7 x_{1 0} x_{2 0} x_{2 9} + 4 x_7 x_{1 2} x_{1 3} x_{2 1} + 4 x_{1 0} x_{2 3} x_{2 5} x_{2 8} x_{3 1} \\right) \\frac{2 x_1 + x_1 x_9 x_{1 2} x_{2 2} x_{3 2} + x_{2 6}}{ - \\left( x_{2 0} x_{2 2} + x_5 x_7 x_{2 6} + 2 x_{2 1}^{2} x_4 x_{2 6} x_{2 7} \\right) \\left( x_5 x_{2 2} + 3 x_{1 9} x_{2 1} x_{2 3} x_{2 4} + 4 x_8 x_{1 2} x_{1 6} x_{2 7} \\right) + x_{2 2}^{2} x_5 x_{2 0} + x_5^{2} x_7 x_{2 2} x_{2 6} + 3 x_{1 9} x_{2 0} x_{2 1} x_{2 2} x_{2 3} x_{2 4} + 2 x_{2 1}^{2} x_4 x_5 x_{2 2} x_{2 6} x_{2 7} + 4 x_8 x_{1 2} x_{1 6} x_{2 0} x_{2 2} x_{2 7} + 2 x_{2 7}^{2} x_{2 1}^{2} x_4 x_8 x_{1 2} x_{1 6} x_{2 6} + 4 x_5 x_7 x_8 x_{1 2} x_{1 6} x_{2 6} x_{2 7} + 3 x_5 x_7 x_{1 9} x_{2 1} x_{2 3} x_{2 4} x_{2 6}}}{\\frac{ - \\left( 2 x_1 + x_1 x_9 x_{1 2} x_{2 2} x_{3 2} + x_{2 6} \\right) \\left( 3 x_7 x_{1 0} x_{2 0} x_{2 9} + 4 x_7 x_{1 2} x_{1 3} x_{2 1} + 4 x_{1 0} x_{2 3} x_{2 5} x_{2 8} x_{3 1} \\right)}{ - \\left( x_{2 0} x_{2 2} + x_5 x_7 x_{2 6} + 2 x_{2 1}^{2} x_4 x_{2 6} x_{2 7} \\right) \\left( x_5 x_{2 2} + 3 x_{1 9} x_{2 1} x_{2 3} x_{2 4} + 4 x_8 x_{1 2} x_{1 6} x_{2 7} \\right) + x_{2 2}^{2} x_5 x_{2 0} + x_5^{2} x_7 x_{2 2} x_{2 6} + 3 x_{1 9} x_{2 0} x_{2 1} x_{2 2} x_{2 3} x_{2 4} + 2 x_{2 1}^{2} x_4 x_5 x_{2 2} x_{2 6} x_{2 7} + 4 x_8 x_{1 2} x_{1 6} x_{2 0} x_{2 2} x_{2 7} + 2 x_{2 7}^{2} x_{2 1}^{2} x_4 x_8 x_{1 2} x_{1 6} x_{2 6} + 4 x_5 x_7 x_8 x_{1 2} x_{1 6} x_{2 6} x_{2 7} + 3 x_5 x_7 x_{1 9} x_{2 1} x_{2 3} x_{2 4} x_{2 6}} + 2 x_1 x_7 x_{1 2} x_{1 3} x_{2 1} + 4 x_7 x_{1 2} x_{1 3} x_{2 1} x_{2 6} + 3 x_7 x_{1 0} x_{2 0} x_{2 6} x_{2 9} + 2 x_1 x_{1 0} x_{2 3} x_{2 5} x_{2 8} x_{3 1} + 4 x_{1 0} x_{2 3} x_{2 5} x_{2 6} x_{2 8} x_{3 1} + 4 x_{1 2}^{2} x_1 x_7 x_9 x_{1 3} x_{2 1} x_{2 2} x_{3 2} + 3 x_1 x_7 x_9 x_{1 0} x_{1 2} x_{2 0} x_{2 2} x_{2 9} x_{3 2} + 4 x_1 x_9 x_{1 0} x_{1 2} x_{2 2} x_{2 3} x_{2 5} x_{2 8} x_{3 1} x_{3 2}} \\right) \\left( x_{2 2}^{2} x_5 x_{2 0} + x_5^{2} x_7 x_{2 2} x_{2 6} + 3 x_{1 9} x_{2 0} x_{2 1} x_{2 2} x_{2 3} x_{2 4} + 2 x_{2 1}^{2} x_4 x_5 x_{2 2} x_{2 6} x_{2 7} + 4 x_8 x_{1 2} x_{1 6} x_{2 0} x_{2 2} x_{2 7} + 2 x_{2 7}^{2} x_{2 1}^{2} x_4 x_8 x_{1 2} x_{1 6} x_{2 6} + 4 x_5 x_7 x_8 x_{1 2} x_{1 6} x_{2 6} x_{2 7} + 3 x_5 x_7 x_{1 9} x_{2 1} x_{2 3} x_{2 4} x_{2 6} \\right)}{ - \\left( x_{2 0} x_{2 2} + x_5 x_7 x_{2 6} + 2 x_{2 1}^{2} x_4 x_{2 6} x_{2 7} \\right) \\left( x_5 x_{2 2} + 3 x_{1 9} x_{2 1} x_{2 3} x_{2 4} + 4 x_8 x_{1 2} x_{1 6} x_{2 7} \\right) + x_{2 2}^{2} x_5 x_{2 0} + x_5^{2} x_7 x_{2 2} x_{2 6} + 3 x_{1 9} x_{2 0} x_{2 1} x_{2 2} x_{2 3} x_{2 4} + 2 x_{2 1}^{2} x_4 x_5 x_{2 2} x_{2 6} x_{2 7} + 4 x_8 x_{1 2} x_{1 6} x_{2 0} x_{2 2} x_{2 7} + 2 x_{2 7}^{2} x_{2 1}^{2} x_4 x_8 x_{1 2} x_{1 6} x_{2 6} + 4 x_5 x_7 x_8 x_{1 2} x_{1 6} x_{2 6} x_{2 7} + 3 x_5 x_7 x_{1 9} x_{2 1} x_{2 3} x_{2 4} x_{2 6}} + \\frac{\\left( x_5 x_{2 2} + 3 x_{1 9} x_{2 1} x_{2 3} x_{2 4} + 4 x_8 x_{1 2} x_{1 6} x_{2 7} \\right) \\left( \\frac{\\left( 3 x_7 x_{1 0} x_{2 0} x_{2 9} + 4 x_7 x_{1 2} x_{1 3} x_{2 1} + 4 x_{1 0} x_{2 3} x_{2 5} x_{2 8} x_{3 1} \\right) \\frac{\\left(  - x_{2 0} x_{2 2} - x_5 x_7 x_{2 6} - 2 x_{2 1}^{2} x_4 x_{2 6} x_{2 7} \\right) \\left( 2 x_1 + x_1 x_9 x_{1 2} x_{2 2} x_{3 2} + x_{2 6} \\right)}{ - \\left( x_{2 0} x_{2 2} + x_5 x_7 x_{2 6} + 2 x_{2 1}^{2} x_4 x_{2 6} x_{2 7} \\right) \\left( x_5 x_{2 2} + 3 x_{1 9} x_{2 1} x_{2 3} x_{2 4} + 4 x_8 x_{1 2} x_{1 6} x_{2 7} \\right) + x_{2 2}^{2} x_5 x_{2 0} + x_5^{2} x_7 x_{2 2} x_{2 6} + 3 x_{1 9} x_{2 0} x_{2 1} x_{2 2} x_{2 3} x_{2 4} + 2 x_{2 1}^{2} x_4 x_5 x_{2 2} x_{2 6} x_{2 7} + 4 x_8 x_{1 2} x_{1 6} x_{2 0} x_{2 2} x_{2 7} + 2 x_{2 7}^{2} x_{2 1}^{2} x_4 x_8 x_{1 2} x_{1 6} x_{2 6} + 4 x_5 x_7 x_8 x_{1 2} x_{1 6} x_{2 6} x_{2 7} + 3 x_5 x_7 x_{1 9} x_{2 1} x_{2 3} x_{2 4} x_{2 6}}}{\\frac{ - \\left( 2 x_1 + x_1 x_9 x_{1 2} x_{2 2} x_{3 2} + x_{2 6} \\right) \\left( 3 x_7 x_{1 0} x_{2 0} x_{2 9} + 4 x_7 x_{1 2} x_{1 3} x_{2 1} + 4 x_{1 0} x_{2 3} x_{2 5} x_{2 8} x_{3 1} \\right)}{ - \\left( x_{2 0} x_{2 2} + x_5 x_7 x_{2 6} + 2 x_{2 1}^{2} x_4 x_{2 6} x_{2 7} \\right) \\left( x_5 x_{2 2} + 3 x_{1 9} x_{2 1} x_{2 3} x_{2 4} + 4 x_8 x_{1 2} x_{1 6} x_{2 7} \\right) + x_{2 2}^{2} x_5 x_{2 0} + x_5^{2} x_7 x_{2 2} x_{2 6} + 3 x_{1 9} x_{2 0} x_{2 1} x_{2 2} x_{2 3} x_{2 4} + 2 x_{2 1}^{2} x_4 x_5 x_{2 2} x_{2 6} x_{2 7} + 4 x_8 x_{1 2} x_{1 6} x_{2 0} x_{2 2} x_{2 7} + 2 x_{2 7}^{2} x_{2 1}^{2} x_4 x_8 x_{1 2} x_{1 6} x_{2 6} + 4 x_5 x_7 x_8 x_{1 2} x_{1 6} x_{2 6} x_{2 7} + 3 x_5 x_7 x_{1 9} x_{2 1} x_{2 3} x_{2 4} x_{2 6}} + 2 x_1 x_7 x_{1 2} x_{1 3} x_{2 1} + 4 x_7 x_{1 2} x_{1 3} x_{2 1} x_{2 6} + 3 x_7 x_{1 0} x_{2 0} x_{2 6} x_{2 9} + 2 x_1 x_{1 0} x_{2 3} x_{2 5} x_{2 8} x_{3 1} + 4 x_{1 0} x_{2 3} x_{2 5} x_{2 6} x_{2 8} x_{3 1} + 4 x_{1 2}^{2} x_1 x_7 x_9 x_{1 3} x_{2 1} x_{2 2} x_{3 2} + 3 x_1 x_7 x_9 x_{1 0} x_{1 2} x_{2 0} x_{2 2} x_{2 9} x_{3 2} + 4 x_1 x_9 x_{1 0} x_{1 2} x_{2 2} x_{2 3} x_{2 5} x_{2 8} x_{3 1} x_{3 2}} - x_{2 0} x_{2 2} - x_5 x_7 x_{2 6} - 2 x_{2 1}^{2} x_4 x_{2 6} x_{2 7} \\right)}{ - \\left( x_{2 0} x_{2 2} + x_5 x_7 x_{2 6} + 2 x_{2 1}^{2} x_4 x_{2 6} x_{2 7} \\right) \\left( x_5 x_{2 2} + 3 x_{1 9} x_{2 1} x_{2 3} x_{2 4} + 4 x_8 x_{1 2} x_{1 6} x_{2 7} \\right) + x_{2 2}^{2} x_5 x_{2 0} + x_5^{2} x_7 x_{2 2} x_{2 6} + 3 x_{1 9} x_{2 0} x_{2 1} x_{2 2} x_{2 3} x_{2 4} + 2 x_{2 1}^{2} x_4 x_5 x_{2 2} x_{2 6} x_{2 7} + 4 x_8 x_{1 2} x_{1 6} x_{2 0} x_{2 2} x_{2 7} + 2 x_{2 7}^{2} x_{2 1}^{2} x_4 x_8 x_{1 2} x_{1 6} x_{2 6} + 4 x_5 x_7 x_8 x_{1 2} x_{1 6} x_{2 6} x_{2 7} + 3 x_5 x_7 x_{1 9} x_{2 1} x_{2 3} x_{2 4} x_{2 6}} + \\frac{ - \\left( 2 x_1 + x_1 x_9 x_{1 2} x_{2 2} x_{3 2} + x_{2 6} \\right) \\frac{3 x_7 x_{1 0} x_{2 0} x_{2 9} + 4 x_7 x_{1 2} x_{1 3} x_{2 1} + 4 x_{1 0} x_{2 3} x_{2 5} x_{2 8} x_{3 1}}{\\frac{ - \\left( 2 x_1 + x_1 x_9 x_{1 2} x_{2 2} x_{3 2} + x_{2 6} \\right) \\left( 3 x_7 x_{1 0} x_{2 0} x_{2 9} + 4 x_7 x_{1 2} x_{1 3} x_{2 1} + 4 x_{1 0} x_{2 3} x_{2 5} x_{2 8} x_{3 1} \\right)}{ - \\left( x_{2 0} x_{2 2} + x_5 x_7 x_{2 6} + 2 x_{2 1}^{2} x_4 x_{2 6} x_{2 7} \\right) \\left( x_5 x_{2 2} + 3 x_{1 9} x_{2 1} x_{2 3} x_{2 4} + 4 x_8 x_{1 2} x_{1 6} x_{2 7} \\right) + x_{2 2}^{2} x_5 x_{2 0} + x_5^{2} x_7 x_{2 2} x_{2 6} + 3 x_{1 9} x_{2 0} x_{2 1} x_{2 2} x_{2 3} x_{2 4} + 2 x_{2 1}^{2} x_4 x_5 x_{2 2} x_{2 6} x_{2 7} + 4 x_8 x_{1 2} x_{1 6} x_{2 0} x_{2 2} x_{2 7} + 2 x_{2 7}^{2} x_{2 1}^{2} x_4 x_8 x_{1 2} x_{1 6} x_{2 6} + 4 x_5 x_7 x_8 x_{1 2} x_{1 6} x_{2 6} x_{2 7} + 3 x_5 x_7 x_{1 9} x_{2 1} x_{2 3} x_{2 4} x_{2 6}} + 2 x_1 x_7 x_{1 2} x_{1 3} x_{2 1} + 4 x_7 x_{1 2} x_{1 3} x_{2 1} x_{2 6} + 3 x_7 x_{1 0} x_{2 0} x_{2 6} x_{2 9} + 2 x_1 x_{1 0} x_{2 3} x_{2 5} x_{2 8} x_{3 1} + 4 x_{1 0} x_{2 3} x_{2 5} x_{2 6} x_{2 8} x_{3 1} + 4 x_{1 2}^{2} x_1 x_7 x_9 x_{1 3} x_{2 1} x_{2 2} x_{3 2} + 3 x_1 x_7 x_9 x_{1 0} x_{1 2} x_{2 0} x_{2 2} x_{2 9} x_{3 2} + 4 x_1 x_9 x_{1 0} x_{1 2} x_{2 2} x_{2 3} x_{2 5} x_{2 8} x_{3 1} x_{3 2}}}{ - \\left( x_{2 0} x_{2 2} + x_5 x_7 x_{2 6} + 2 x_{2 1}^{2} x_4 x_{2 6} x_{2 7} \\right) \\left( x_5 x_{2 2} + 3 x_{1 9} x_{2 1} x_{2 3} x_{2 4} + 4 x_8 x_{1 2} x_{1 6} x_{2 7} \\right) + x_{2 2}^{2} x_5 x_{2 0} + x_5^{2} x_7 x_{2 2} x_{2 6} + 3 x_{1 9} x_{2 0} x_{2 1} x_{2 2} x_{2 3} x_{2 4} + 2 x_{2 1}^{2} x_4 x_5 x_{2 2} x_{2 6} x_{2 7} + 4 x_8 x_{1 2} x_{1 6} x_{2 0} x_{2 2} x_{2 7} + 2 x_{2 7}^{2} x_{2 1}^{2} x_4 x_8 x_{1 2} x_{1 6} x_{2 6} + 4 x_5 x_7 x_8 x_{1 2} x_{1 6} x_{2 6} x_{2 7} + 3 x_5 x_7 x_{1 9} x_{2 1} x_{2 3} x_{2 4} x_{2 6}} & \\frac{\\left( true + \\frac{\\left( 3 x_7 x_{1 0} x_{2 0} x_{2 9} + 4 x_7 x_{1 2} x_{1 3} x_{2 1} + 4 x_{1 0} x_{2 3} x_{2 5} x_{2 8} x_{3 1} \\right) \\frac{2 x_1 + x_1 x_9 x_{1 2} x_{2 2} x_{3 2} + x_{2 6}}{ - \\left( x_{2 0} x_{2 2} + x_5 x_7 x_{2 6} + 2 x_{2 1}^{2} x_4 x_{2 6} x_{2 7} \\right) \\left( x_5 x_{2 2} + 3 x_{1 9} x_{2 1} x_{2 3} x_{2 4} + 4 x_8 x_{1 2} x_{1 6} x_{2 7} \\right) + x_{2 2}^{2} x_5 x_{2 0} + x_5^{2} x_7 x_{2 2} x_{2 6} + 3 x_{1 9} x_{2 0} x_{2 1} x_{2 2} x_{2 3} x_{2 4} + 2 x_{2 1}^{2} x_4 x_5 x_{2 2} x_{2 6} x_{2 7} + 4 x_8 x_{1 2} x_{1 6} x_{2 0} x_{2 2} x_{2 7} + 2 x_{2 7}^{2} x_{2 1}^{2} x_4 x_8 x_{1 2} x_{1 6} x_{2 6} + 4 x_5 x_7 x_8 x_{1 2} x_{1 6} x_{2 6} x_{2 7} + 3 x_5 x_7 x_{1 9} x_{2 1} x_{2 3} x_{2 4} x_{2 6}}}{\\frac{ - \\left( 2 x_1 + x_1 x_9 x_{1 2} x_{2 2} x_{3 2} + x_{2 6} \\right) \\left( 3 x_7 x_{1 0} x_{2 0} x_{2 9} + 4 x_7 x_{1 2} x_{1 3} x_{2 1} + 4 x_{1 0} x_{2 3} x_{2 5} x_{2 8} x_{3 1} \\right)}{ - \\left( x_{2 0} x_{2 2} + x_5 x_7 x_{2 6} + 2 x_{2 1}^{2} x_4 x_{2 6} x_{2 7} \\right) \\left( x_5 x_{2 2} + 3 x_{1 9} x_{2 1} x_{2 3} x_{2 4} + 4 x_8 x_{1 2} x_{1 6} x_{2 7} \\right) + x_{2 2}^{2} x_5 x_{2 0} + x_5^{2} x_7 x_{2 2} x_{2 6} + 3 x_{1 9} x_{2 0} x_{2 1} x_{2 2} x_{2 3} x_{2 4} + 2 x_{2 1}^{2} x_4 x_5 x_{2 2} x_{2 6} x_{2 7} + 4 x_8 x_{1 2} x_{1 6} x_{2 0} x_{2 2} x_{2 7} + 2 x_{2 7}^{2} x_{2 1}^{2} x_4 x_8 x_{1 2} x_{1 6} x_{2 6} + 4 x_5 x_7 x_8 x_{1 2} x_{1 6} x_{2 6} x_{2 7} + 3 x_5 x_7 x_{1 9} x_{2 1} x_{2 3} x_{2 4} x_{2 6}} + 2 x_1 x_7 x_{1 2} x_{1 3} x_{2 1} + 4 x_7 x_{1 2} x_{1 3} x_{2 1} x_{2 6} + 3 x_7 x_{1 0} x_{2 0} x_{2 6} x_{2 9} + 2 x_1 x_{1 0} x_{2 3} x_{2 5} x_{2 8} x_{3 1} + 4 x_{1 0} x_{2 3} x_{2 5} x_{2 6} x_{2 8} x_{3 1} + 4 x_{1 2}^{2} x_1 x_7 x_9 x_{1 3} x_{2 1} x_{2 2} x_{3 2} + 3 x_1 x_7 x_9 x_{1 0} x_{1 2} x_{2 0} x_{2 2} x_{2 9} x_{3 2} + 4 x_1 x_9 x_{1 0} x_{1 2} x_{2 2} x_{2 3} x_{2 5} x_{2 8} x_{3 1} x_{3 2}} \\right) \\left( 3 x_7 x_{1 0} x_{2 0} x_{2 9} + 4 x_7 x_{1 2} x_{1 3} x_{2 1} + 4 x_{1 0} x_{2 3} x_{2 5} x_{2 8} x_{3 1} \\right)}{ - \\left( x_{2 0} x_{2 2} + x_5 x_7 x_{2 6} + 2 x_{2 1}^{2} x_4 x_{2 6} x_{2 7} \\right) \\left( x_5 x_{2 2} + 3 x_{1 9} x_{2 1} x_{2 3} x_{2 4} + 4 x_8 x_{1 2} x_{1 6} x_{2 7} \\right) + x_{2 2}^{2} x_5 x_{2 0} + x_5^{2} x_7 x_{2 2} x_{2 6} + 3 x_{1 9} x_{2 0} x_{2 1} x_{2 2} x_{2 3} x_{2 4} + 2 x_{2 1}^{2} x_4 x_5 x_{2 2} x_{2 6} x_{2 7} + 4 x_8 x_{1 2} x_{1 6} x_{2 0} x_{2 2} x_{2 7} + 2 x_{2 7}^{2} x_{2 1}^{2} x_4 x_8 x_{1 2} x_{1 6} x_{2 6} + 4 x_5 x_7 x_8 x_{1 2} x_{1 6} x_{2 6} x_{2 7} + 3 x_5 x_7 x_{1 9} x_{2 1} x_{2 3} x_{2 4} x_{2 6}} + \\frac{ - \\left( 2 x_1 x_7 x_{1 2} x_{1 3} x_{2 1} + 4 x_7 x_{1 2} x_{1 3} x_{2 1} x_{2 6} + 3 x_7 x_{1 0} x_{2 0} x_{2 6} x_{2 9} + 2 x_1 x_{1 0} x_{2 3} x_{2 5} x_{2 8} x_{3 1} + 4 x_{1 0} x_{2 3} x_{2 5} x_{2 6} x_{2 8} x_{3 1} + 4 x_{1 2}^{2} x_1 x_7 x_9 x_{1 3} x_{2 1} x_{2 2} x_{3 2} + 3 x_1 x_7 x_9 x_{1 0} x_{1 2} x_{2 0} x_{2 2} x_{2 9} x_{3 2} + 4 x_1 x_9 x_{1 0} x_{1 2} x_{2 2} x_{2 3} x_{2 5} x_{2 8} x_{3 1} x_{3 2} \\right) \\frac{3 x_7 x_{1 0} x_{2 0} x_{2 9} + 4 x_7 x_{1 2} x_{1 3} x_{2 1} + 4 x_{1 0} x_{2 3} x_{2 5} x_{2 8} x_{3 1}}{\\frac{ - \\left( 2 x_1 + x_1 x_9 x_{1 2} x_{2 2} x_{3 2} + x_{2 6} \\right) \\left( 3 x_7 x_{1 0} x_{2 0} x_{2 9} + 4 x_7 x_{1 2} x_{1 3} x_{2 1} + 4 x_{1 0} x_{2 3} x_{2 5} x_{2 8} x_{3 1} \\right)}{ - \\left( x_{2 0} x_{2 2} + x_5 x_7 x_{2 6} + 2 x_{2 1}^{2} x_4 x_{2 6} x_{2 7} \\right) \\left( x_5 x_{2 2} + 3 x_{1 9} x_{2 1} x_{2 3} x_{2 4} + 4 x_8 x_{1 2} x_{1 6} x_{2 7} \\right) + x_{2 2}^{2} x_5 x_{2 0} + x_5^{2} x_7 x_{2 2} x_{2 6} + 3 x_{1 9} x_{2 0} x_{2 1} x_{2 2} x_{2 3} x_{2 4} + 2 x_{2 1}^{2} x_4 x_5 x_{2 2} x_{2 6} x_{2 7} + 4 x_8 x_{1 2} x_{1 6} x_{2 0} x_{2 2} x_{2 7} + 2 x_{2 7}^{2} x_{2 1}^{2} x_4 x_8 x_{1 2} x_{1 6} x_{2 6} + 4 x_5 x_7 x_8 x_{1 2} x_{1 6} x_{2 6} x_{2 7} + 3 x_5 x_7 x_{1 9} x_{2 1} x_{2 3} x_{2 4} x_{2 6}} + 2 x_1 x_7 x_{1 2} x_{1 3} x_{2 1} + 4 x_7 x_{1 2} x_{1 3} x_{2 1} x_{2 6} + 3 x_7 x_{1 0} x_{2 0} x_{2 6} x_{2 9} + 2 x_1 x_{1 0} x_{2 3} x_{2 5} x_{2 8} x_{3 1} + 4 x_{1 0} x_{2 3} x_{2 5} x_{2 6} x_{2 8} x_{3 1} + 4 x_{1 2}^{2} x_1 x_7 x_9 x_{1 3} x_{2 1} x_{2 2} x_{3 2} + 3 x_1 x_7 x_9 x_{1 0} x_{1 2} x_{2 0} x_{2 2} x_{2 9} x_{3 2} + 4 x_1 x_9 x_{1 0} x_{1 2} x_{2 2} x_{2 3} x_{2 5} x_{2 8} x_{3 1} x_{3 2}}}{ - \\left( x_{2 0} x_{2 2} + x_5 x_7 x_{2 6} + 2 x_{2 1}^{2} x_4 x_{2 6} x_{2 7} \\right) \\left( x_5 x_{2 2} + 3 x_{1 9} x_{2 1} x_{2 3} x_{2 4} + 4 x_8 x_{1 2} x_{1 6} x_{2 7} \\right) + x_{2 2}^{2} x_5 x_{2 0} + x_5^{2} x_7 x_{2 2} x_{2 6} + 3 x_{1 9} x_{2 0} x_{2 1} x_{2 2} x_{2 3} x_{2 4} + 2 x_{2 1}^{2} x_4 x_5 x_{2 2} x_{2 6} x_{2 7} + 4 x_8 x_{1 2} x_{1 6} x_{2 0} x_{2 2} x_{2 7} + 2 x_{2 7}^{2} x_{2 1}^{2} x_4 x_8 x_{1 2} x_{1 6} x_{2 6} + 4 x_5 x_7 x_8 x_{1 2} x_{1 6} x_{2 6} x_{2 7} + 3 x_5 x_7 x_{1 9} x_{2 1} x_{2 3} x_{2 4} x_{2 6}} & 0 \\\\\n",
       "\\frac{2 x_1 + x_1 x_9 x_{1 2} x_{2 2} x_{3 2} + x_{2 6}}{\\frac{ - \\left( 2 x_1 + x_1 x_9 x_{1 2} x_{2 2} x_{3 2} + x_{2 6} \\right) \\left( 3 x_7 x_{1 0} x_{2 0} x_{2 9} + 4 x_7 x_{1 2} x_{1 3} x_{2 1} + 4 x_{1 0} x_{2 3} x_{2 5} x_{2 8} x_{3 1} \\right)}{ - \\left( x_{2 0} x_{2 2} + x_5 x_7 x_{2 6} + 2 x_{2 1}^{2} x_4 x_{2 6} x_{2 7} \\right) \\left( x_5 x_{2 2} + 3 x_{1 9} x_{2 1} x_{2 3} x_{2 4} + 4 x_8 x_{1 2} x_{1 6} x_{2 7} \\right) + x_{2 2}^{2} x_5 x_{2 0} + x_5^{2} x_7 x_{2 2} x_{2 6} + 3 x_{1 9} x_{2 0} x_{2 1} x_{2 2} x_{2 3} x_{2 4} + 2 x_{2 1}^{2} x_4 x_5 x_{2 2} x_{2 6} x_{2 7} + 4 x_8 x_{1 2} x_{1 6} x_{2 0} x_{2 2} x_{2 7} + 2 x_{2 7}^{2} x_{2 1}^{2} x_4 x_8 x_{1 2} x_{1 6} x_{2 6} + 4 x_5 x_7 x_8 x_{1 2} x_{1 6} x_{2 6} x_{2 7} + 3 x_5 x_7 x_{1 9} x_{2 1} x_{2 3} x_{2 4} x_{2 6}} + 2 x_1 x_7 x_{1 2} x_{1 3} x_{2 1} + 4 x_7 x_{1 2} x_{1 3} x_{2 1} x_{2 6} + 3 x_7 x_{1 0} x_{2 0} x_{2 6} x_{2 9} + 2 x_1 x_{1 0} x_{2 3} x_{2 5} x_{2 8} x_{3 1} + 4 x_{1 0} x_{2 3} x_{2 5} x_{2 6} x_{2 8} x_{3 1} + 4 x_{1 2}^{2} x_1 x_7 x_9 x_{1 3} x_{2 1} x_{2 2} x_{3 2} + 3 x_1 x_7 x_9 x_{1 0} x_{1 2} x_{2 0} x_{2 2} x_{2 9} x_{3 2} + 4 x_1 x_9 x_{1 0} x_{1 2} x_{2 2} x_{2 3} x_{2 5} x_{2 8} x_{3 1} x_{3 2}} + \\frac{ - \\left( x_5 x_{2 2} + 3 x_{1 9} x_{2 1} x_{2 3} x_{2 4} + 4 x_8 x_{1 2} x_{1 6} x_{2 7} \\right) \\frac{\\left(  - x_{2 0} x_{2 2} - x_5 x_7 x_{2 6} - 2 x_{2 1}^{2} x_4 x_{2 6} x_{2 7} \\right) \\left( 2 x_1 + x_1 x_9 x_{1 2} x_{2 2} x_{3 2} + x_{2 6} \\right)}{ - \\left( x_{2 0} x_{2 2} + x_5 x_7 x_{2 6} + 2 x_{2 1}^{2} x_4 x_{2 6} x_{2 7} \\right) \\left( x_5 x_{2 2} + 3 x_{1 9} x_{2 1} x_{2 3} x_{2 4} + 4 x_8 x_{1 2} x_{1 6} x_{2 7} \\right) + x_{2 2}^{2} x_5 x_{2 0} + x_5^{2} x_7 x_{2 2} x_{2 6} + 3 x_{1 9} x_{2 0} x_{2 1} x_{2 2} x_{2 3} x_{2 4} + 2 x_{2 1}^{2} x_4 x_5 x_{2 2} x_{2 6} x_{2 7} + 4 x_8 x_{1 2} x_{1 6} x_{2 0} x_{2 2} x_{2 7} + 2 x_{2 7}^{2} x_{2 1}^{2} x_4 x_8 x_{1 2} x_{1 6} x_{2 6} + 4 x_5 x_7 x_8 x_{1 2} x_{1 6} x_{2 6} x_{2 7} + 3 x_5 x_7 x_{1 9} x_{2 1} x_{2 3} x_{2 4} x_{2 6}}}{\\frac{ - \\left( 2 x_1 + x_1 x_9 x_{1 2} x_{2 2} x_{3 2} + x_{2 6} \\right) \\left( 3 x_7 x_{1 0} x_{2 0} x_{2 9} + 4 x_7 x_{1 2} x_{1 3} x_{2 1} + 4 x_{1 0} x_{2 3} x_{2 5} x_{2 8} x_{3 1} \\right)}{ - \\left( x_{2 0} x_{2 2} + x_5 x_7 x_{2 6} + 2 x_{2 1}^{2} x_4 x_{2 6} x_{2 7} \\right) \\left( x_5 x_{2 2} + 3 x_{1 9} x_{2 1} x_{2 3} x_{2 4} + 4 x_8 x_{1 2} x_{1 6} x_{2 7} \\right) + x_{2 2}^{2} x_5 x_{2 0} + x_5^{2} x_7 x_{2 2} x_{2 6} + 3 x_{1 9} x_{2 0} x_{2 1} x_{2 2} x_{2 3} x_{2 4} + 2 x_{2 1}^{2} x_4 x_5 x_{2 2} x_{2 6} x_{2 7} + 4 x_8 x_{1 2} x_{1 6} x_{2 0} x_{2 2} x_{2 7} + 2 x_{2 7}^{2} x_{2 1}^{2} x_4 x_8 x_{1 2} x_{1 6} x_{2 6} + 4 x_5 x_7 x_8 x_{1 2} x_{1 6} x_{2 6} x_{2 7} + 3 x_5 x_7 x_{1 9} x_{2 1} x_{2 3} x_{2 4} x_{2 6}} + 2 x_1 x_7 x_{1 2} x_{1 3} x_{2 1} + 4 x_7 x_{1 2} x_{1 3} x_{2 1} x_{2 6} + 3 x_7 x_{1 0} x_{2 0} x_{2 6} x_{2 9} + 2 x_1 x_{1 0} x_{2 3} x_{2 5} x_{2 8} x_{3 1} + 4 x_{1 0} x_{2 3} x_{2 5} x_{2 6} x_{2 8} x_{3 1} + 4 x_{1 2}^{2} x_1 x_7 x_9 x_{1 3} x_{2 1} x_{2 2} x_{3 2} + 3 x_1 x_7 x_9 x_{1 0} x_{1 2} x_{2 0} x_{2 2} x_{2 9} x_{3 2} + 4 x_1 x_9 x_{1 0} x_{1 2} x_{2 2} x_{2 3} x_{2 5} x_{2 8} x_{3 1} x_{3 2}} + \\frac{ - \\left( x_{2 2}^{2} x_5 x_{2 0} + x_5^{2} x_7 x_{2 2} x_{2 6} + 3 x_{1 9} x_{2 0} x_{2 1} x_{2 2} x_{2 3} x_{2 4} + 2 x_{2 1}^{2} x_4 x_5 x_{2 2} x_{2 6} x_{2 7} + 4 x_8 x_{1 2} x_{1 6} x_{2 0} x_{2 2} x_{2 7} + 2 x_{2 7}^{2} x_{2 1}^{2} x_4 x_8 x_{1 2} x_{1 6} x_{2 6} + 4 x_5 x_7 x_8 x_{1 2} x_{1 6} x_{2 6} x_{2 7} + 3 x_5 x_7 x_{1 9} x_{2 1} x_{2 3} x_{2 4} x_{2 6} \\right) \\frac{2 x_1 + x_1 x_9 x_{1 2} x_{2 2} x_{3 2} + x_{2 6}}{ - \\left( x_{2 0} x_{2 2} + x_5 x_7 x_{2 6} + 2 x_{2 1}^{2} x_4 x_{2 6} x_{2 7} \\right) \\left( x_5 x_{2 2} + 3 x_{1 9} x_{2 1} x_{2 3} x_{2 4} + 4 x_8 x_{1 2} x_{1 6} x_{2 7} \\right) + x_{2 2}^{2} x_5 x_{2 0} + x_5^{2} x_7 x_{2 2} x_{2 6} + 3 x_{1 9} x_{2 0} x_{2 1} x_{2 2} x_{2 3} x_{2 4} + 2 x_{2 1}^{2} x_4 x_5 x_{2 2} x_{2 6} x_{2 7} + 4 x_8 x_{1 2} x_{1 6} x_{2 0} x_{2 2} x_{2 7} + 2 x_{2 7}^{2} x_{2 1}^{2} x_4 x_8 x_{1 2} x_{1 6} x_{2 6} + 4 x_5 x_7 x_8 x_{1 2} x_{1 6} x_{2 6} x_{2 7} + 3 x_5 x_7 x_{1 9} x_{2 1} x_{2 3} x_{2 4} x_{2 6}}}{\\frac{ - \\left( 2 x_1 + x_1 x_9 x_{1 2} x_{2 2} x_{3 2} + x_{2 6} \\right) \\left( 3 x_7 x_{1 0} x_{2 0} x_{2 9} + 4 x_7 x_{1 2} x_{1 3} x_{2 1} + 4 x_{1 0} x_{2 3} x_{2 5} x_{2 8} x_{3 1} \\right)}{ - \\left( x_{2 0} x_{2 2} + x_5 x_7 x_{2 6} + 2 x_{2 1}^{2} x_4 x_{2 6} x_{2 7} \\right) \\left( x_5 x_{2 2} + 3 x_{1 9} x_{2 1} x_{2 3} x_{2 4} + 4 x_8 x_{1 2} x_{1 6} x_{2 7} \\right) + x_{2 2}^{2} x_5 x_{2 0} + x_5^{2} x_7 x_{2 2} x_{2 6} + 3 x_{1 9} x_{2 0} x_{2 1} x_{2 2} x_{2 3} x_{2 4} + 2 x_{2 1}^{2} x_4 x_5 x_{2 2} x_{2 6} x_{2 7} + 4 x_8 x_{1 2} x_{1 6} x_{2 0} x_{2 2} x_{2 7} + 2 x_{2 7}^{2} x_{2 1}^{2} x_4 x_8 x_{1 2} x_{1 6} x_{2 6} + 4 x_5 x_7 x_8 x_{1 2} x_{1 6} x_{2 6} x_{2 7} + 3 x_5 x_7 x_{1 9} x_{2 1} x_{2 3} x_{2 4} x_{2 6}} + 2 x_1 x_7 x_{1 2} x_{1 3} x_{2 1} + 4 x_7 x_{1 2} x_{1 3} x_{2 1} x_{2 6} + 3 x_7 x_{1 0} x_{2 0} x_{2 6} x_{2 9} + 2 x_1 x_{1 0} x_{2 3} x_{2 5} x_{2 8} x_{3 1} + 4 x_{1 0} x_{2 3} x_{2 5} x_{2 6} x_{2 8} x_{3 1} + 4 x_{1 2}^{2} x_1 x_7 x_9 x_{1 3} x_{2 1} x_{2 2} x_{3 2} + 3 x_1 x_7 x_9 x_{1 0} x_{1 2} x_{2 0} x_{2 2} x_{2 9} x_{3 2} + 4 x_1 x_9 x_{1 0} x_{1 2} x_{2 2} x_{2 3} x_{2 5} x_{2 8} x_{3 1} x_{3 2}} & \\frac{2 x_1 x_7 x_{1 2} x_{1 3} x_{2 1} + 4 x_7 x_{1 2} x_{1 3} x_{2 1} x_{2 6} + 3 x_7 x_{1 0} x_{2 0} x_{2 6} x_{2 9} + 2 x_1 x_{1 0} x_{2 3} x_{2 5} x_{2 8} x_{3 1} + 4 x_{1 0} x_{2 3} x_{2 5} x_{2 6} x_{2 8} x_{3 1} + 4 x_{1 2}^{2} x_1 x_7 x_9 x_{1 3} x_{2 1} x_{2 2} x_{3 2} + 3 x_1 x_7 x_9 x_{1 0} x_{1 2} x_{2 0} x_{2 2} x_{2 9} x_{3 2} + 4 x_1 x_9 x_{1 0} x_{1 2} x_{2 2} x_{2 3} x_{2 5} x_{2 8} x_{3 1} x_{3 2}}{\\frac{ - \\left( 2 x_1 + x_1 x_9 x_{1 2} x_{2 2} x_{3 2} + x_{2 6} \\right) \\left( 3 x_7 x_{1 0} x_{2 0} x_{2 9} + 4 x_7 x_{1 2} x_{1 3} x_{2 1} + 4 x_{1 0} x_{2 3} x_{2 5} x_{2 8} x_{3 1} \\right)}{ - \\left( x_{2 0} x_{2 2} + x_5 x_7 x_{2 6} + 2 x_{2 1}^{2} x_4 x_{2 6} x_{2 7} \\right) \\left( x_5 x_{2 2} + 3 x_{1 9} x_{2 1} x_{2 3} x_{2 4} + 4 x_8 x_{1 2} x_{1 6} x_{2 7} \\right) + x_{2 2}^{2} x_5 x_{2 0} + x_5^{2} x_7 x_{2 2} x_{2 6} + 3 x_{1 9} x_{2 0} x_{2 1} x_{2 2} x_{2 3} x_{2 4} + 2 x_{2 1}^{2} x_4 x_5 x_{2 2} x_{2 6} x_{2 7} + 4 x_8 x_{1 2} x_{1 6} x_{2 0} x_{2 2} x_{2 7} + 2 x_{2 7}^{2} x_{2 1}^{2} x_4 x_8 x_{1 2} x_{1 6} x_{2 6} + 4 x_5 x_7 x_8 x_{1 2} x_{1 6} x_{2 6} x_{2 7} + 3 x_5 x_7 x_{1 9} x_{2 1} x_{2 3} x_{2 4} x_{2 6}} + 2 x_1 x_7 x_{1 2} x_{1 3} x_{2 1} + 4 x_7 x_{1 2} x_{1 3} x_{2 1} x_{2 6} + 3 x_7 x_{1 0} x_{2 0} x_{2 6} x_{2 9} + 2 x_1 x_{1 0} x_{2 3} x_{2 5} x_{2 8} x_{3 1} + 4 x_{1 0} x_{2 3} x_{2 5} x_{2 6} x_{2 8} x_{3 1} + 4 x_{1 2}^{2} x_1 x_7 x_9 x_{1 3} x_{2 1} x_{2 2} x_{3 2} + 3 x_1 x_7 x_9 x_{1 0} x_{1 2} x_{2 0} x_{2 2} x_{2 9} x_{3 2} + 4 x_1 x_9 x_{1 0} x_{1 2} x_{2 2} x_{2 3} x_{2 5} x_{2 8} x_{3 1} x_{3 2}} + \\frac{ - \\left( 3 x_7 x_{1 0} x_{2 0} x_{2 9} + 4 x_7 x_{1 2} x_{1 3} x_{2 1} + 4 x_{1 0} x_{2 3} x_{2 5} x_{2 8} x_{3 1} \\right) \\frac{2 x_1 + x_1 x_9 x_{1 2} x_{2 2} x_{3 2} + x_{2 6}}{ - \\left( x_{2 0} x_{2 2} + x_5 x_7 x_{2 6} + 2 x_{2 1}^{2} x_4 x_{2 6} x_{2 7} \\right) \\left( x_5 x_{2 2} + 3 x_{1 9} x_{2 1} x_{2 3} x_{2 4} + 4 x_8 x_{1 2} x_{1 6} x_{2 7} \\right) + x_{2 2}^{2} x_5 x_{2 0} + x_5^{2} x_7 x_{2 2} x_{2 6} + 3 x_{1 9} x_{2 0} x_{2 1} x_{2 2} x_{2 3} x_{2 4} + 2 x_{2 1}^{2} x_4 x_5 x_{2 2} x_{2 6} x_{2 7} + 4 x_8 x_{1 2} x_{1 6} x_{2 0} x_{2 2} x_{2 7} + 2 x_{2 7}^{2} x_{2 1}^{2} x_4 x_8 x_{1 2} x_{1 6} x_{2 6} + 4 x_5 x_7 x_8 x_{1 2} x_{1 6} x_{2 6} x_{2 7} + 3 x_5 x_7 x_{1 9} x_{2 1} x_{2 3} x_{2 4} x_{2 6}}}{\\frac{ - \\left( 2 x_1 + x_1 x_9 x_{1 2} x_{2 2} x_{3 2} + x_{2 6} \\right) \\left( 3 x_7 x_{1 0} x_{2 0} x_{2 9} + 4 x_7 x_{1 2} x_{1 3} x_{2 1} + 4 x_{1 0} x_{2 3} x_{2 5} x_{2 8} x_{3 1} \\right)}{ - \\left( x_{2 0} x_{2 2} + x_5 x_7 x_{2 6} + 2 x_{2 1}^{2} x_4 x_{2 6} x_{2 7} \\right) \\left( x_5 x_{2 2} + 3 x_{1 9} x_{2 1} x_{2 3} x_{2 4} + 4 x_8 x_{1 2} x_{1 6} x_{2 7} \\right) + x_{2 2}^{2} x_5 x_{2 0} + x_5^{2} x_7 x_{2 2} x_{2 6} + 3 x_{1 9} x_{2 0} x_{2 1} x_{2 2} x_{2 3} x_{2 4} + 2 x_{2 1}^{2} x_4 x_5 x_{2 2} x_{2 6} x_{2 7} + 4 x_8 x_{1 2} x_{1 6} x_{2 0} x_{2 2} x_{2 7} + 2 x_{2 7}^{2} x_{2 1}^{2} x_4 x_8 x_{1 2} x_{1 6} x_{2 6} + 4 x_5 x_7 x_8 x_{1 2} x_{1 6} x_{2 6} x_{2 7} + 3 x_5 x_7 x_{1 9} x_{2 1} x_{2 3} x_{2 4} x_{2 6}} + 2 x_1 x_7 x_{1 2} x_{1 3} x_{2 1} + 4 x_7 x_{1 2} x_{1 3} x_{2 1} x_{2 6} + 3 x_7 x_{1 0} x_{2 0} x_{2 6} x_{2 9} + 2 x_1 x_{1 0} x_{2 3} x_{2 5} x_{2 8} x_{3 1} + 4 x_{1 0} x_{2 3} x_{2 5} x_{2 6} x_{2 8} x_{3 1} + 4 x_{1 2}^{2} x_1 x_7 x_9 x_{1 3} x_{2 1} x_{2 2} x_{3 2} + 3 x_1 x_7 x_9 x_{1 0} x_{1 2} x_{2 0} x_{2 2} x_{2 9} x_{3 2} + 4 x_1 x_9 x_{1 0} x_{1 2} x_{2 2} x_{2 3} x_{2 5} x_{2 8} x_{3 1} x_{3 2}} & 0 \\\\\n",
       "\\left( x_5 x_{2 2} + 3 x_{1 9} x_{2 1} x_{2 3} x_{2 4} + 4 x_8 x_{1 2} x_{1 6} x_{2 7} \\right) \\left( \\frac{\\left( \\frac{ - \\left( 3 x_7 x_{1 0} x_{2 0} x_{2 9} + 4 x_7 x_{1 2} x_{1 3} x_{2 1} + 4 x_{1 0} x_{2 3} x_{2 5} x_{2 8} x_{3 1} \\right) \\left( 5 x_{2 8} + 4 x_{2 9} - \\left( 4 x_{2 3} + 2 x_1^{2} x_{2 8} x_{2 9} + 4 x_{1 3} x_{1 8} x_{1 9} x_{2 0} \\right) \\left( x_5 x_{2 2} + 3 x_{1 9} x_{2 1} x_{2 3} x_{2 4} + 4 x_8 x_{1 2} x_{1 6} x_{2 7} \\right) + 4 x_5 x_{2 2} x_{2 3} + 4 x_8 x_{1 2} x_{1 6} x_{2 3} x_{2 7} + 2 x_1^{2} x_5 x_{2 2} x_{2 8} x_{2 9} + 4 x_5 x_{1 3} x_{1 8} x_{1 9} x_{2 0} x_{2 2} + 2 x_1^{2} x_8 x_{1 2} x_{1 6} x_{2 7} x_{2 8} x_{2 9} + 4 x_8 x_{1 2} x_{1 3} x_{1 6} x_{1 8} x_{1 9} x_{2 0} x_{2 7} + x_{1 3} \\right)}{ - \\left( x_{2 0} x_{2 2} + x_5 x_7 x_{2 6} + 2 x_{2 1}^{2} x_4 x_{2 6} x_{2 7} \\right) \\left( x_5 x_{2 2} + 3 x_{1 9} x_{2 1} x_{2 3} x_{2 4} + 4 x_8 x_{1 2} x_{1 6} x_{2 7} \\right) + x_{2 2}^{2} x_5 x_{2 0} + x_5^{2} x_7 x_{2 2} x_{2 6} + 3 x_{1 9} x_{2 0} x_{2 1} x_{2 2} x_{2 3} x_{2 4} + 2 x_{2 1}^{2} x_4 x_5 x_{2 2} x_{2 6} x_{2 7} + 4 x_8 x_{1 2} x_{1 6} x_{2 0} x_{2 2} x_{2 7} + 2 x_{2 7}^{2} x_{2 1}^{2} x_4 x_8 x_{1 2} x_{1 6} x_{2 6} + 4 x_5 x_7 x_8 x_{1 2} x_{1 6} x_{2 6} x_{2 7} + 3 x_5 x_7 x_{1 9} x_{2 1} x_{2 3} x_{2 4} x_{2 6}} + 4 x_{1 3}^{2} x_7 x_{1 2} x_{2 1} + 3 x_7 x_{1 0} x_{1 3} x_{2 0} x_{2 9} + 3 x_7 x_{1 0} x_{2 0} x_{2 8} x_{2 9} + 2 x_7 x_{1 2} x_{1 3} x_{2 1} x_{2 8} + 2 x_{2 8}^{2} x_{1 0} x_{2 3} x_{2 5} x_{3 1} + 4 x_7 x_{1 2} x_{1 3} x_{2 1} x_{2 9} + 4 x_{1 0} x_{1 3} x_{2 3} x_{2 5} x_{2 8} x_{3 1} + 4 x_{1 0} x_{2 3} x_{2 5} x_{2 8} x_{2 9} x_{3 1} \\right) \\frac{\\left(  - x_{2 0} x_{2 2} - x_5 x_7 x_{2 6} - 2 x_{2 1}^{2} x_4 x_{2 6} x_{2 7} \\right) \\left( 2 x_1 + x_1 x_9 x_{1 2} x_{2 2} x_{3 2} + x_{2 6} \\right)}{ - \\left( x_{2 0} x_{2 2} + x_5 x_7 x_{2 6} + 2 x_{2 1}^{2} x_4 x_{2 6} x_{2 7} \\right) \\left( x_5 x_{2 2} + 3 x_{1 9} x_{2 1} x_{2 3} x_{2 4} + 4 x_8 x_{1 2} x_{1 6} x_{2 7} \\right) + x_{2 2}^{2} x_5 x_{2 0} + x_5^{2} x_7 x_{2 2} x_{2 6} + 3 x_{1 9} x_{2 0} x_{2 1} x_{2 2} x_{2 3} x_{2 4} + 2 x_{2 1}^{2} x_4 x_5 x_{2 2} x_{2 6} x_{2 7} + 4 x_8 x_{1 2} x_{1 6} x_{2 0} x_{2 2} x_{2 7} + 2 x_{2 7}^{2} x_{2 1}^{2} x_4 x_8 x_{1 2} x_{1 6} x_{2 6} + 4 x_5 x_7 x_8 x_{1 2} x_{1 6} x_{2 6} x_{2 7} + 3 x_5 x_7 x_{1 9} x_{2 1} x_{2 3} x_{2 4} x_{2 6}}}{\\frac{ - \\left( 2 x_1 + x_1 x_9 x_{1 2} x_{2 2} x_{3 2} + x_{2 6} \\right) \\left( 3 x_7 x_{1 0} x_{2 0} x_{2 9} + 4 x_7 x_{1 2} x_{1 3} x_{2 1} + 4 x_{1 0} x_{2 3} x_{2 5} x_{2 8} x_{3 1} \\right)}{ - \\left( x_{2 0} x_{2 2} + x_5 x_7 x_{2 6} + 2 x_{2 1}^{2} x_4 x_{2 6} x_{2 7} \\right) \\left( x_5 x_{2 2} + 3 x_{1 9} x_{2 1} x_{2 3} x_{2 4} + 4 x_8 x_{1 2} x_{1 6} x_{2 7} \\right) + x_{2 2}^{2} x_5 x_{2 0} + x_5^{2} x_7 x_{2 2} x_{2 6} + 3 x_{1 9} x_{2 0} x_{2 1} x_{2 2} x_{2 3} x_{2 4} + 2 x_{2 1}^{2} x_4 x_5 x_{2 2} x_{2 6} x_{2 7} + 4 x_8 x_{1 2} x_{1 6} x_{2 0} x_{2 2} x_{2 7} + 2 x_{2 7}^{2} x_{2 1}^{2} x_4 x_8 x_{1 2} x_{1 6} x_{2 6} + 4 x_5 x_7 x_8 x_{1 2} x_{1 6} x_{2 6} x_{2 7} + 3 x_5 x_7 x_{1 9} x_{2 1} x_{2 3} x_{2 4} x_{2 6}} + 2 x_1 x_7 x_{1 2} x_{1 3} x_{2 1} + 4 x_7 x_{1 2} x_{1 3} x_{2 1} x_{2 6} + 3 x_7 x_{1 0} x_{2 0} x_{2 6} x_{2 9} + 2 x_1 x_{1 0} x_{2 3} x_{2 5} x_{2 8} x_{3 1} + 4 x_{1 0} x_{2 3} x_{2 5} x_{2 6} x_{2 8} x_{3 1} + 4 x_{1 2}^{2} x_1 x_7 x_9 x_{1 3} x_{2 1} x_{2 2} x_{3 2} + 3 x_1 x_7 x_9 x_{1 0} x_{1 2} x_{2 0} x_{2 2} x_{2 9} x_{3 2} + 4 x_1 x_9 x_{1 0} x_{1 2} x_{2 2} x_{2 3} x_{2 5} x_{2 8} x_{3 1} x_{3 2}} + \\frac{ - \\left(  - x_{2 0} x_{2 2} - x_5 x_7 x_{2 6} - 2 x_{2 1}^{2} x_4 x_{2 6} x_{2 7} \\right) \\left( 5 x_{2 8} + 4 x_{2 9} - \\left( 4 x_{2 3} + 2 x_1^{2} x_{2 8} x_{2 9} + 4 x_{1 3} x_{1 8} x_{1 9} x_{2 0} \\right) \\left( x_5 x_{2 2} + 3 x_{1 9} x_{2 1} x_{2 3} x_{2 4} + 4 x_8 x_{1 2} x_{1 6} x_{2 7} \\right) + 4 x_5 x_{2 2} x_{2 3} + 4 x_8 x_{1 2} x_{1 6} x_{2 3} x_{2 7} + 2 x_1^{2} x_5 x_{2 2} x_{2 8} x_{2 9} + 4 x_5 x_{1 3} x_{1 8} x_{1 9} x_{2 0} x_{2 2} + 2 x_1^{2} x_8 x_{1 2} x_{1 6} x_{2 7} x_{2 8} x_{2 9} + 4 x_8 x_{1 2} x_{1 3} x_{1 6} x_{1 8} x_{1 9} x_{2 0} x_{2 7} + x_{1 3} \\right)}{ - \\left( x_{2 0} x_{2 2} + x_5 x_7 x_{2 6} + 2 x_{2 1}^{2} x_4 x_{2 6} x_{2 7} \\right) \\left( x_5 x_{2 2} + 3 x_{1 9} x_{2 1} x_{2 3} x_{2 4} + 4 x_8 x_{1 2} x_{1 6} x_{2 7} \\right) + x_{2 2}^{2} x_5 x_{2 0} + x_5^{2} x_7 x_{2 2} x_{2 6} + 3 x_{1 9} x_{2 0} x_{2 1} x_{2 2} x_{2 3} x_{2 4} + 2 x_{2 1}^{2} x_4 x_5 x_{2 2} x_{2 6} x_{2 7} + 4 x_8 x_{1 2} x_{1 6} x_{2 0} x_{2 2} x_{2 7} + 2 x_{2 7}^{2} x_{2 1}^{2} x_4 x_8 x_{1 2} x_{1 6} x_{2 6} + 4 x_5 x_7 x_8 x_{1 2} x_{1 6} x_{2 6} x_{2 7} + 3 x_5 x_7 x_{1 9} x_{2 1} x_{2 3} x_{2 4} x_{2 6}} - 4 x_{2 3} - 2 x_1^{2} x_{2 8} x_{2 9} - 4 x_{1 3} x_{1 8} x_{1 9} x_{2 0} \\right) + 5 x_{2 8} + \\left( \\frac{\\left( 4 x_{2 3} + 2 x_1^{2} x_{2 8} x_{2 9} + 4 x_{1 3} x_{1 8} x_{1 9} x_{2 0} \\right) \\left( x_5 x_{2 2} + 3 x_{1 9} x_{2 1} x_{2 3} x_{2 4} + 4 x_8 x_{1 2} x_{1 6} x_{2 7} \\right) - x_{1 3} - 5 x_{2 8} - 4 x_{2 9} - 4 x_5 x_{2 2} x_{2 3} - 4 x_8 x_{1 2} x_{1 6} x_{2 3} x_{2 7} - 2 x_1^{2} x_5 x_{2 2} x_{2 8} x_{2 9} - 4 x_5 x_{1 3} x_{1 8} x_{1 9} x_{2 0} x_{2 2} - 2 x_1^{2} x_8 x_{1 2} x_{1 6} x_{2 7} x_{2 8} x_{2 9} - 4 x_8 x_{1 2} x_{1 3} x_{1 6} x_{1 8} x_{1 9} x_{2 0} x_{2 7}}{ - \\left( x_{2 0} x_{2 2} + x_5 x_7 x_{2 6} + 2 x_{2 1}^{2} x_4 x_{2 6} x_{2 7} \\right) \\left( x_5 x_{2 2} + 3 x_{1 9} x_{2 1} x_{2 3} x_{2 4} + 4 x_8 x_{1 2} x_{1 6} x_{2 7} \\right) + x_{2 2}^{2} x_5 x_{2 0} + x_5^{2} x_7 x_{2 2} x_{2 6} + 3 x_{1 9} x_{2 0} x_{2 1} x_{2 2} x_{2 3} x_{2 4} + 2 x_{2 1}^{2} x_4 x_5 x_{2 2} x_{2 6} x_{2 7} + 4 x_8 x_{1 2} x_{1 6} x_{2 0} x_{2 2} x_{2 7} + 2 x_{2 7}^{2} x_{2 1}^{2} x_4 x_8 x_{1 2} x_{1 6} x_{2 6} + 4 x_5 x_7 x_8 x_{1 2} x_{1 6} x_{2 6} x_{2 7} + 3 x_5 x_7 x_{1 9} x_{2 1} x_{2 3} x_{2 4} x_{2 6}} + \\frac{\\left( \\frac{ - \\left( 3 x_7 x_{1 0} x_{2 0} x_{2 9} + 4 x_7 x_{1 2} x_{1 3} x_{2 1} + 4 x_{1 0} x_{2 3} x_{2 5} x_{2 8} x_{3 1} \\right) \\left( 5 x_{2 8} + 4 x_{2 9} - \\left( 4 x_{2 3} + 2 x_1^{2} x_{2 8} x_{2 9} + 4 x_{1 3} x_{1 8} x_{1 9} x_{2 0} \\right) \\left( x_5 x_{2 2} + 3 x_{1 9} x_{2 1} x_{2 3} x_{2 4} + 4 x_8 x_{1 2} x_{1 6} x_{2 7} \\right) + 4 x_5 x_{2 2} x_{2 3} + 4 x_8 x_{1 2} x_{1 6} x_{2 3} x_{2 7} + 2 x_1^{2} x_5 x_{2 2} x_{2 8} x_{2 9} + 4 x_5 x_{1 3} x_{1 8} x_{1 9} x_{2 0} x_{2 2} + 2 x_1^{2} x_8 x_{1 2} x_{1 6} x_{2 7} x_{2 8} x_{2 9} + 4 x_8 x_{1 2} x_{1 3} x_{1 6} x_{1 8} x_{1 9} x_{2 0} x_{2 7} + x_{1 3} \\right)}{ - \\left( x_{2 0} x_{2 2} + x_5 x_7 x_{2 6} + 2 x_{2 1}^{2} x_4 x_{2 6} x_{2 7} \\right) \\left( x_5 x_{2 2} + 3 x_{1 9} x_{2 1} x_{2 3} x_{2 4} + 4 x_8 x_{1 2} x_{1 6} x_{2 7} \\right) + x_{2 2}^{2} x_5 x_{2 0} + x_5^{2} x_7 x_{2 2} x_{2 6} + 3 x_{1 9} x_{2 0} x_{2 1} x_{2 2} x_{2 3} x_{2 4} + 2 x_{2 1}^{2} x_4 x_5 x_{2 2} x_{2 6} x_{2 7} + 4 x_8 x_{1 2} x_{1 6} x_{2 0} x_{2 2} x_{2 7} + 2 x_{2 7}^{2} x_{2 1}^{2} x_4 x_8 x_{1 2} x_{1 6} x_{2 6} + 4 x_5 x_7 x_8 x_{1 2} x_{1 6} x_{2 6} x_{2 7} + 3 x_5 x_7 x_{1 9} x_{2 1} x_{2 3} x_{2 4} x_{2 6}} + 4 x_{1 3}^{2} x_7 x_{1 2} x_{2 1} + 3 x_7 x_{1 0} x_{1 3} x_{2 0} x_{2 9} + 3 x_7 x_{1 0} x_{2 0} x_{2 8} x_{2 9} + 2 x_7 x_{1 2} x_{1 3} x_{2 1} x_{2 8} + 2 x_{2 8}^{2} x_{1 0} x_{2 3} x_{2 5} x_{3 1} + 4 x_7 x_{1 2} x_{1 3} x_{2 1} x_{2 9} + 4 x_{1 0} x_{1 3} x_{2 3} x_{2 5} x_{2 8} x_{3 1} + 4 x_{1 0} x_{2 3} x_{2 5} x_{2 8} x_{2 9} x_{3 1} \\right) \\frac{2 x_1 + x_1 x_9 x_{1 2} x_{2 2} x_{3 2} + x_{2 6}}{ - \\left( x_{2 0} x_{2 2} + x_5 x_7 x_{2 6} + 2 x_{2 1}^{2} x_4 x_{2 6} x_{2 7} \\right) \\left( x_5 x_{2 2} + 3 x_{1 9} x_{2 1} x_{2 3} x_{2 4} + 4 x_8 x_{1 2} x_{1 6} x_{2 7} \\right) + x_{2 2}^{2} x_5 x_{2 0} + x_5^{2} x_7 x_{2 2} x_{2 6} + 3 x_{1 9} x_{2 0} x_{2 1} x_{2 2} x_{2 3} x_{2 4} + 2 x_{2 1}^{2} x_4 x_5 x_{2 2} x_{2 6} x_{2 7} + 4 x_8 x_{1 2} x_{1 6} x_{2 0} x_{2 2} x_{2 7} + 2 x_{2 7}^{2} x_{2 1}^{2} x_4 x_8 x_{1 2} x_{1 6} x_{2 6} + 4 x_5 x_7 x_8 x_{1 2} x_{1 6} x_{2 6} x_{2 7} + 3 x_5 x_7 x_{1 9} x_{2 1} x_{2 3} x_{2 4} x_{2 6}}}{\\frac{ - \\left( 2 x_1 + x_1 x_9 x_{1 2} x_{2 2} x_{3 2} + x_{2 6} \\right) \\left( 3 x_7 x_{1 0} x_{2 0} x_{2 9} + 4 x_7 x_{1 2} x_{1 3} x_{2 1} + 4 x_{1 0} x_{2 3} x_{2 5} x_{2 8} x_{3 1} \\right)}{ - \\left( x_{2 0} x_{2 2} + x_5 x_7 x_{2 6} + 2 x_{2 1}^{2} x_4 x_{2 6} x_{2 7} \\right) \\left( x_5 x_{2 2} + 3 x_{1 9} x_{2 1} x_{2 3} x_{2 4} + 4 x_8 x_{1 2} x_{1 6} x_{2 7} \\right) + x_{2 2}^{2} x_5 x_{2 0} + x_5^{2} x_7 x_{2 2} x_{2 6} + 3 x_{1 9} x_{2 0} x_{2 1} x_{2 2} x_{2 3} x_{2 4} + 2 x_{2 1}^{2} x_4 x_5 x_{2 2} x_{2 6} x_{2 7} + 4 x_8 x_{1 2} x_{1 6} x_{2 0} x_{2 2} x_{2 7} + 2 x_{2 7}^{2} x_{2 1}^{2} x_4 x_8 x_{1 2} x_{1 6} x_{2 6} + 4 x_5 x_7 x_8 x_{1 2} x_{1 6} x_{2 6} x_{2 7} + 3 x_5 x_7 x_{1 9} x_{2 1} x_{2 3} x_{2 4} x_{2 6}} + 2 x_1 x_7 x_{1 2} x_{1 3} x_{2 1} + 4 x_7 x_{1 2} x_{1 3} x_{2 1} x_{2 6} + 3 x_7 x_{1 0} x_{2 0} x_{2 6} x_{2 9} + 2 x_1 x_{1 0} x_{2 3} x_{2 5} x_{2 8} x_{3 1} + 4 x_{1 0} x_{2 3} x_{2 5} x_{2 6} x_{2 8} x_{3 1} + 4 x_{1 2}^{2} x_1 x_7 x_9 x_{1 3} x_{2 1} x_{2 2} x_{3 2} + 3 x_1 x_7 x_9 x_{1 0} x_{1 2} x_{2 0} x_{2 2} x_{2 9} x_{3 2} + 4 x_1 x_9 x_{1 0} x_{1 2} x_{2 2} x_{2 3} x_{2 5} x_{2 8} x_{3 1} x_{3 2}} \\right) \\left( x_{2 2}^{2} x_5 x_{2 0} + x_5^{2} x_7 x_{2 2} x_{2 6} + 3 x_{1 9} x_{2 0} x_{2 1} x_{2 2} x_{2 3} x_{2 4} + 2 x_{2 1}^{2} x_4 x_5 x_{2 2} x_{2 6} x_{2 7} + 4 x_8 x_{1 2} x_{1 6} x_{2 0} x_{2 2} x_{2 7} + 2 x_{2 7}^{2} x_{2 1}^{2} x_4 x_8 x_{1 2} x_{1 6} x_{2 6} + 4 x_5 x_7 x_8 x_{1 2} x_{1 6} x_{2 6} x_{2 7} + 3 x_5 x_7 x_{1 9} x_{2 1} x_{2 3} x_{2 4} x_{2 6} \\right) + 4 x_{2 9} - \\left( 2 x_1 + x_1 x_9 x_{1 2} x_{2 2} x_{3 2} + x_{2 6} \\right) \\frac{\\frac{ - \\left( 3 x_7 x_{1 0} x_{2 0} x_{2 9} + 4 x_7 x_{1 2} x_{1 3} x_{2 1} + 4 x_{1 0} x_{2 3} x_{2 5} x_{2 8} x_{3 1} \\right) \\left( 5 x_{2 8} + 4 x_{2 9} - \\left( 4 x_{2 3} + 2 x_1^{2} x_{2 8} x_{2 9} + 4 x_{1 3} x_{1 8} x_{1 9} x_{2 0} \\right) \\left( x_5 x_{2 2} + 3 x_{1 9} x_{2 1} x_{2 3} x_{2 4} + 4 x_8 x_{1 2} x_{1 6} x_{2 7} \\right) + 4 x_5 x_{2 2} x_{2 3} + 4 x_8 x_{1 2} x_{1 6} x_{2 3} x_{2 7} + 2 x_1^{2} x_5 x_{2 2} x_{2 8} x_{2 9} + 4 x_5 x_{1 3} x_{1 8} x_{1 9} x_{2 0} x_{2 2} + 2 x_1^{2} x_8 x_{1 2} x_{1 6} x_{2 7} x_{2 8} x_{2 9} + 4 x_8 x_{1 2} x_{1 3} x_{1 6} x_{1 8} x_{1 9} x_{2 0} x_{2 7} + x_{1 3} \\right)}{ - \\left( x_{2 0} x_{2 2} + x_5 x_7 x_{2 6} + 2 x_{2 1}^{2} x_4 x_{2 6} x_{2 7} \\right) \\left( x_5 x_{2 2} + 3 x_{1 9} x_{2 1} x_{2 3} x_{2 4} + 4 x_8 x_{1 2} x_{1 6} x_{2 7} \\right) + x_{2 2}^{2} x_5 x_{2 0} + x_5^{2} x_7 x_{2 2} x_{2 6} + 3 x_{1 9} x_{2 0} x_{2 1} x_{2 2} x_{2 3} x_{2 4} + 2 x_{2 1}^{2} x_4 x_5 x_{2 2} x_{2 6} x_{2 7} + 4 x_8 x_{1 2} x_{1 6} x_{2 0} x_{2 2} x_{2 7} + 2 x_{2 7}^{2} x_{2 1}^{2} x_4 x_8 x_{1 2} x_{1 6} x_{2 6} + 4 x_5 x_7 x_8 x_{1 2} x_{1 6} x_{2 6} x_{2 7} + 3 x_5 x_7 x_{1 9} x_{2 1} x_{2 3} x_{2 4} x_{2 6}} + 4 x_{1 3}^{2} x_7 x_{1 2} x_{2 1} + 3 x_7 x_{1 0} x_{1 3} x_{2 0} x_{2 9} + 3 x_7 x_{1 0} x_{2 0} x_{2 8} x_{2 9} + 2 x_7 x_{1 2} x_{1 3} x_{2 1} x_{2 8} + 2 x_{2 8}^{2} x_{1 0} x_{2 3} x_{2 5} x_{3 1} + 4 x_7 x_{1 2} x_{1 3} x_{2 1} x_{2 9} + 4 x_{1 0} x_{1 3} x_{2 3} x_{2 5} x_{2 8} x_{3 1} + 4 x_{1 0} x_{2 3} x_{2 5} x_{2 8} x_{2 9} x_{3 1}}{\\frac{ - \\left( 2 x_1 + x_1 x_9 x_{1 2} x_{2 2} x_{3 2} + x_{2 6} \\right) \\left( 3 x_7 x_{1 0} x_{2 0} x_{2 9} + 4 x_7 x_{1 2} x_{1 3} x_{2 1} + 4 x_{1 0} x_{2 3} x_{2 5} x_{2 8} x_{3 1} \\right)}{ - \\left( x_{2 0} x_{2 2} + x_5 x_7 x_{2 6} + 2 x_{2 1}^{2} x_4 x_{2 6} x_{2 7} \\right) \\left( x_5 x_{2 2} + 3 x_{1 9} x_{2 1} x_{2 3} x_{2 4} + 4 x_8 x_{1 2} x_{1 6} x_{2 7} \\right) + x_{2 2}^{2} x_5 x_{2 0} + x_5^{2} x_7 x_{2 2} x_{2 6} + 3 x_{1 9} x_{2 0} x_{2 1} x_{2 2} x_{2 3} x_{2 4} + 2 x_{2 1}^{2} x_4 x_5 x_{2 2} x_{2 6} x_{2 7} + 4 x_8 x_{1 2} x_{1 6} x_{2 0} x_{2 2} x_{2 7} + 2 x_{2 7}^{2} x_{2 1}^{2} x_4 x_8 x_{1 2} x_{1 6} x_{2 6} + 4 x_5 x_7 x_8 x_{1 2} x_{1 6} x_{2 6} x_{2 7} + 3 x_5 x_7 x_{1 9} x_{2 1} x_{2 3} x_{2 4} x_{2 6}} + 2 x_1 x_7 x_{1 2} x_{1 3} x_{2 1} + 4 x_7 x_{1 2} x_{1 3} x_{2 1} x_{2 6} + 3 x_7 x_{1 0} x_{2 0} x_{2 6} x_{2 9} + 2 x_1 x_{1 0} x_{2 3} x_{2 5} x_{2 8} x_{3 1} + 4 x_{1 0} x_{2 3} x_{2 5} x_{2 6} x_{2 8} x_{3 1} + 4 x_{1 2}^{2} x_1 x_7 x_9 x_{1 3} x_{2 1} x_{2 2} x_{3 2} + 3 x_1 x_7 x_9 x_{1 0} x_{1 2} x_{2 0} x_{2 2} x_{2 9} x_{3 2} + 4 x_1 x_9 x_{1 0} x_{1 2} x_{2 2} x_{2 3} x_{2 5} x_{2 8} x_{3 1} x_{3 2}} + 4 x_5 x_{2 2} x_{2 3} + 4 x_8 x_{1 2} x_{1 6} x_{2 3} x_{2 7} + 2 x_1^{2} x_5 x_{2 2} x_{2 8} x_{2 9} + 4 x_5 x_{1 3} x_{1 8} x_{1 9} x_{2 0} x_{2 2} + 2 x_1^{2} x_8 x_{1 2} x_{1 6} x_{2 7} x_{2 8} x_{2 9} + 4 x_8 x_{1 2} x_{1 3} x_{1 6} x_{1 8} x_{1 9} x_{2 0} x_{2 7} + x_{1 3} & \\left( \\frac{\\left( 4 x_{2 3} + 2 x_1^{2} x_{2 8} x_{2 9} + 4 x_{1 3} x_{1 8} x_{1 9} x_{2 0} \\right) \\left( x_5 x_{2 2} + 3 x_{1 9} x_{2 1} x_{2 3} x_{2 4} + 4 x_8 x_{1 2} x_{1 6} x_{2 7} \\right) - x_{1 3} - 5 x_{2 8} - 4 x_{2 9} - 4 x_5 x_{2 2} x_{2 3} - 4 x_8 x_{1 2} x_{1 6} x_{2 3} x_{2 7} - 2 x_1^{2} x_5 x_{2 2} x_{2 8} x_{2 9} - 4 x_5 x_{1 3} x_{1 8} x_{1 9} x_{2 0} x_{2 2} - 2 x_1^{2} x_8 x_{1 2} x_{1 6} x_{2 7} x_{2 8} x_{2 9} - 4 x_8 x_{1 2} x_{1 3} x_{1 6} x_{1 8} x_{1 9} x_{2 0} x_{2 7}}{ - \\left( x_{2 0} x_{2 2} + x_5 x_7 x_{2 6} + 2 x_{2 1}^{2} x_4 x_{2 6} x_{2 7} \\right) \\left( x_5 x_{2 2} + 3 x_{1 9} x_{2 1} x_{2 3} x_{2 4} + 4 x_8 x_{1 2} x_{1 6} x_{2 7} \\right) + x_{2 2}^{2} x_5 x_{2 0} + x_5^{2} x_7 x_{2 2} x_{2 6} + 3 x_{1 9} x_{2 0} x_{2 1} x_{2 2} x_{2 3} x_{2 4} + 2 x_{2 1}^{2} x_4 x_5 x_{2 2} x_{2 6} x_{2 7} + 4 x_8 x_{1 2} x_{1 6} x_{2 0} x_{2 2} x_{2 7} + 2 x_{2 7}^{2} x_{2 1}^{2} x_4 x_8 x_{1 2} x_{1 6} x_{2 6} + 4 x_5 x_7 x_8 x_{1 2} x_{1 6} x_{2 6} x_{2 7} + 3 x_5 x_7 x_{1 9} x_{2 1} x_{2 3} x_{2 4} x_{2 6}} + \\frac{\\left( \\frac{ - \\left( 3 x_7 x_{1 0} x_{2 0} x_{2 9} + 4 x_7 x_{1 2} x_{1 3} x_{2 1} + 4 x_{1 0} x_{2 3} x_{2 5} x_{2 8} x_{3 1} \\right) \\left( 5 x_{2 8} + 4 x_{2 9} - \\left( 4 x_{2 3} + 2 x_1^{2} x_{2 8} x_{2 9} + 4 x_{1 3} x_{1 8} x_{1 9} x_{2 0} \\right) \\left( x_5 x_{2 2} + 3 x_{1 9} x_{2 1} x_{2 3} x_{2 4} + 4 x_8 x_{1 2} x_{1 6} x_{2 7} \\right) + 4 x_5 x_{2 2} x_{2 3} + 4 x_8 x_{1 2} x_{1 6} x_{2 3} x_{2 7} + 2 x_1^{2} x_5 x_{2 2} x_{2 8} x_{2 9} + 4 x_5 x_{1 3} x_{1 8} x_{1 9} x_{2 0} x_{2 2} + 2 x_1^{2} x_8 x_{1 2} x_{1 6} x_{2 7} x_{2 8} x_{2 9} + 4 x_8 x_{1 2} x_{1 3} x_{1 6} x_{1 8} x_{1 9} x_{2 0} x_{2 7} + x_{1 3} \\right)}{ - \\left( x_{2 0} x_{2 2} + x_5 x_7 x_{2 6} + 2 x_{2 1}^{2} x_4 x_{2 6} x_{2 7} \\right) \\left( x_5 x_{2 2} + 3 x_{1 9} x_{2 1} x_{2 3} x_{2 4} + 4 x_8 x_{1 2} x_{1 6} x_{2 7} \\right) + x_{2 2}^{2} x_5 x_{2 0} + x_5^{2} x_7 x_{2 2} x_{2 6} + 3 x_{1 9} x_{2 0} x_{2 1} x_{2 2} x_{2 3} x_{2 4} + 2 x_{2 1}^{2} x_4 x_5 x_{2 2} x_{2 6} x_{2 7} + 4 x_8 x_{1 2} x_{1 6} x_{2 0} x_{2 2} x_{2 7} + 2 x_{2 7}^{2} x_{2 1}^{2} x_4 x_8 x_{1 2} x_{1 6} x_{2 6} + 4 x_5 x_7 x_8 x_{1 2} x_{1 6} x_{2 6} x_{2 7} + 3 x_5 x_7 x_{1 9} x_{2 1} x_{2 3} x_{2 4} x_{2 6}} + 4 x_{1 3}^{2} x_7 x_{1 2} x_{2 1} + 3 x_7 x_{1 0} x_{1 3} x_{2 0} x_{2 9} + 3 x_7 x_{1 0} x_{2 0} x_{2 8} x_{2 9} + 2 x_7 x_{1 2} x_{1 3} x_{2 1} x_{2 8} + 2 x_{2 8}^{2} x_{1 0} x_{2 3} x_{2 5} x_{3 1} + 4 x_7 x_{1 2} x_{1 3} x_{2 1} x_{2 9} + 4 x_{1 0} x_{1 3} x_{2 3} x_{2 5} x_{2 8} x_{3 1} + 4 x_{1 0} x_{2 3} x_{2 5} x_{2 8} x_{2 9} x_{3 1} \\right) \\frac{2 x_1 + x_1 x_9 x_{1 2} x_{2 2} x_{3 2} + x_{2 6}}{ - \\left( x_{2 0} x_{2 2} + x_5 x_7 x_{2 6} + 2 x_{2 1}^{2} x_4 x_{2 6} x_{2 7} \\right) \\left( x_5 x_{2 2} + 3 x_{1 9} x_{2 1} x_{2 3} x_{2 4} + 4 x_8 x_{1 2} x_{1 6} x_{2 7} \\right) + x_{2 2}^{2} x_5 x_{2 0} + x_5^{2} x_7 x_{2 2} x_{2 6} + 3 x_{1 9} x_{2 0} x_{2 1} x_{2 2} x_{2 3} x_{2 4} + 2 x_{2 1}^{2} x_4 x_5 x_{2 2} x_{2 6} x_{2 7} + 4 x_8 x_{1 2} x_{1 6} x_{2 0} x_{2 2} x_{2 7} + 2 x_{2 7}^{2} x_{2 1}^{2} x_4 x_8 x_{1 2} x_{1 6} x_{2 6} + 4 x_5 x_7 x_8 x_{1 2} x_{1 6} x_{2 6} x_{2 7} + 3 x_5 x_7 x_{1 9} x_{2 1} x_{2 3} x_{2 4} x_{2 6}}}{\\frac{ - \\left( 2 x_1 + x_1 x_9 x_{1 2} x_{2 2} x_{3 2} + x_{2 6} \\right) \\left( 3 x_7 x_{1 0} x_{2 0} x_{2 9} + 4 x_7 x_{1 2} x_{1 3} x_{2 1} + 4 x_{1 0} x_{2 3} x_{2 5} x_{2 8} x_{3 1} \\right)}{ - \\left( x_{2 0} x_{2 2} + x_5 x_7 x_{2 6} + 2 x_{2 1}^{2} x_4 x_{2 6} x_{2 7} \\right) \\left( x_5 x_{2 2} + 3 x_{1 9} x_{2 1} x_{2 3} x_{2 4} + 4 x_8 x_{1 2} x_{1 6} x_{2 7} \\right) + x_{2 2}^{2} x_5 x_{2 0} + x_5^{2} x_7 x_{2 2} x_{2 6} + 3 x_{1 9} x_{2 0} x_{2 1} x_{2 2} x_{2 3} x_{2 4} + 2 x_{2 1}^{2} x_4 x_5 x_{2 2} x_{2 6} x_{2 7} + 4 x_8 x_{1 2} x_{1 6} x_{2 0} x_{2 2} x_{2 7} + 2 x_{2 7}^{2} x_{2 1}^{2} x_4 x_8 x_{1 2} x_{1 6} x_{2 6} + 4 x_5 x_7 x_8 x_{1 2} x_{1 6} x_{2 6} x_{2 7} + 3 x_5 x_7 x_{1 9} x_{2 1} x_{2 3} x_{2 4} x_{2 6}} + 2 x_1 x_7 x_{1 2} x_{1 3} x_{2 1} + 4 x_7 x_{1 2} x_{1 3} x_{2 1} x_{2 6} + 3 x_7 x_{1 0} x_{2 0} x_{2 6} x_{2 9} + 2 x_1 x_{1 0} x_{2 3} x_{2 5} x_{2 8} x_{3 1} + 4 x_{1 0} x_{2 3} x_{2 5} x_{2 6} x_{2 8} x_{3 1} + 4 x_{1 2}^{2} x_1 x_7 x_9 x_{1 3} x_{2 1} x_{2 2} x_{3 2} + 3 x_1 x_7 x_9 x_{1 0} x_{1 2} x_{2 0} x_{2 2} x_{2 9} x_{3 2} + 4 x_1 x_9 x_{1 0} x_{1 2} x_{2 2} x_{2 3} x_{2 5} x_{2 8} x_{3 1} x_{3 2}} \\right) \\left( 3 x_7 x_{1 0} x_{2 0} x_{2 9} + 4 x_7 x_{1 2} x_{1 3} x_{2 1} + 4 x_{1 0} x_{2 3} x_{2 5} x_{2 8} x_{3 1} \\right) - \\left( 2 x_1 x_7 x_{1 2} x_{1 3} x_{2 1} + 4 x_7 x_{1 2} x_{1 3} x_{2 1} x_{2 6} + 3 x_7 x_{1 0} x_{2 0} x_{2 6} x_{2 9} + 2 x_1 x_{1 0} x_{2 3} x_{2 5} x_{2 8} x_{3 1} + 4 x_{1 0} x_{2 3} x_{2 5} x_{2 6} x_{2 8} x_{3 1} + 4 x_{1 2}^{2} x_1 x_7 x_9 x_{1 3} x_{2 1} x_{2 2} x_{3 2} + 3 x_1 x_7 x_9 x_{1 0} x_{1 2} x_{2 0} x_{2 2} x_{2 9} x_{3 2} + 4 x_1 x_9 x_{1 0} x_{1 2} x_{2 2} x_{2 3} x_{2 5} x_{2 8} x_{3 1} x_{3 2} \\right) \\frac{\\frac{ - \\left( 3 x_7 x_{1 0} x_{2 0} x_{2 9} + 4 x_7 x_{1 2} x_{1 3} x_{2 1} + 4 x_{1 0} x_{2 3} x_{2 5} x_{2 8} x_{3 1} \\right) \\left( 5 x_{2 8} + 4 x_{2 9} - \\left( 4 x_{2 3} + 2 x_1^{2} x_{2 8} x_{2 9} + 4 x_{1 3} x_{1 8} x_{1 9} x_{2 0} \\right) \\left( x_5 x_{2 2} + 3 x_{1 9} x_{2 1} x_{2 3} x_{2 4} + 4 x_8 x_{1 2} x_{1 6} x_{2 7} \\right) + 4 x_5 x_{2 2} x_{2 3} + 4 x_8 x_{1 2} x_{1 6} x_{2 3} x_{2 7} + 2 x_1^{2} x_5 x_{2 2} x_{2 8} x_{2 9} + 4 x_5 x_{1 3} x_{1 8} x_{1 9} x_{2 0} x_{2 2} + 2 x_1^{2} x_8 x_{1 2} x_{1 6} x_{2 7} x_{2 8} x_{2 9} + 4 x_8 x_{1 2} x_{1 3} x_{1 6} x_{1 8} x_{1 9} x_{2 0} x_{2 7} + x_{1 3} \\right)}{ - \\left( x_{2 0} x_{2 2} + x_5 x_7 x_{2 6} + 2 x_{2 1}^{2} x_4 x_{2 6} x_{2 7} \\right) \\left( x_5 x_{2 2} + 3 x_{1 9} x_{2 1} x_{2 3} x_{2 4} + 4 x_8 x_{1 2} x_{1 6} x_{2 7} \\right) + x_{2 2}^{2} x_5 x_{2 0} + x_5^{2} x_7 x_{2 2} x_{2 6} + 3 x_{1 9} x_{2 0} x_{2 1} x_{2 2} x_{2 3} x_{2 4} + 2 x_{2 1}^{2} x_4 x_5 x_{2 2} x_{2 6} x_{2 7} + 4 x_8 x_{1 2} x_{1 6} x_{2 0} x_{2 2} x_{2 7} + 2 x_{2 7}^{2} x_{2 1}^{2} x_4 x_8 x_{1 2} x_{1 6} x_{2 6} + 4 x_5 x_7 x_8 x_{1 2} x_{1 6} x_{2 6} x_{2 7} + 3 x_5 x_7 x_{1 9} x_{2 1} x_{2 3} x_{2 4} x_{2 6}} + 4 x_{1 3}^{2} x_7 x_{1 2} x_{2 1} + 3 x_7 x_{1 0} x_{1 3} x_{2 0} x_{2 9} + 3 x_7 x_{1 0} x_{2 0} x_{2 8} x_{2 9} + 2 x_7 x_{1 2} x_{1 3} x_{2 1} x_{2 8} + 2 x_{2 8}^{2} x_{1 0} x_{2 3} x_{2 5} x_{3 1} + 4 x_7 x_{1 2} x_{1 3} x_{2 1} x_{2 9} + 4 x_{1 0} x_{1 3} x_{2 3} x_{2 5} x_{2 8} x_{3 1} + 4 x_{1 0} x_{2 3} x_{2 5} x_{2 8} x_{2 9} x_{3 1}}{\\frac{ - \\left( 2 x_1 + x_1 x_9 x_{1 2} x_{2 2} x_{3 2} + x_{2 6} \\right) \\left( 3 x_7 x_{1 0} x_{2 0} x_{2 9} + 4 x_7 x_{1 2} x_{1 3} x_{2 1} + 4 x_{1 0} x_{2 3} x_{2 5} x_{2 8} x_{3 1} \\right)}{ - \\left( x_{2 0} x_{2 2} + x_5 x_7 x_{2 6} + 2 x_{2 1}^{2} x_4 x_{2 6} x_{2 7} \\right) \\left( x_5 x_{2 2} + 3 x_{1 9} x_{2 1} x_{2 3} x_{2 4} + 4 x_8 x_{1 2} x_{1 6} x_{2 7} \\right) + x_{2 2}^{2} x_5 x_{2 0} + x_5^{2} x_7 x_{2 2} x_{2 6} + 3 x_{1 9} x_{2 0} x_{2 1} x_{2 2} x_{2 3} x_{2 4} + 2 x_{2 1}^{2} x_4 x_5 x_{2 2} x_{2 6} x_{2 7} + 4 x_8 x_{1 2} x_{1 6} x_{2 0} x_{2 2} x_{2 7} + 2 x_{2 7}^{2} x_{2 1}^{2} x_4 x_8 x_{1 2} x_{1 6} x_{2 6} + 4 x_5 x_7 x_8 x_{1 2} x_{1 6} x_{2 6} x_{2 7} + 3 x_5 x_7 x_{1 9} x_{2 1} x_{2 3} x_{2 4} x_{2 6}} + 2 x_1 x_7 x_{1 2} x_{1 3} x_{2 1} + 4 x_7 x_{1 2} x_{1 3} x_{2 1} x_{2 6} + 3 x_7 x_{1 0} x_{2 0} x_{2 6} x_{2 9} + 2 x_1 x_{1 0} x_{2 3} x_{2 5} x_{2 8} x_{3 1} + 4 x_{1 0} x_{2 3} x_{2 5} x_{2 6} x_{2 8} x_{3 1} + 4 x_{1 2}^{2} x_1 x_7 x_9 x_{1 3} x_{2 1} x_{2 2} x_{3 2} + 3 x_1 x_7 x_9 x_{1 0} x_{1 2} x_{2 0} x_{2 2} x_{2 9} x_{3 2} + 4 x_1 x_9 x_{1 0} x_{1 2} x_{2 2} x_{2 3} x_{2 5} x_{2 8} x_{3 1} x_{3 2}} + 4 x_{1 3}^{2} x_7 x_{1 2} x_{2 1} + 3 x_7 x_{1 0} x_{1 3} x_{2 0} x_{2 9} + 3 x_7 x_{1 0} x_{2 0} x_{2 8} x_{2 9} + 2 x_7 x_{1 2} x_{1 3} x_{2 1} x_{2 8} + 2 x_{2 8}^{2} x_{1 0} x_{2 3} x_{2 5} x_{3 1} + 4 x_7 x_{1 2} x_{1 3} x_{2 1} x_{2 9} + 4 x_{1 0} x_{1 3} x_{2 3} x_{2 5} x_{2 8} x_{3 1} + 4 x_{1 0} x_{2 3} x_{2 5} x_{2 8} x_{2 9} x_{3 1} & 1.0 \\\\\n",
       "\\end{array}\n",
       "\\right]\n",
       "\\end{equation}\n",
       " $$"
      ],
      "text/plain": [
       "3×3 Matrix{Num}:\n",
       "                                                                                                                                                                                                                                                                                                                                                                                                                                                                                                                                                                                                                                                                                                                                                                                                                                                                                                                                                                                                                                                                                                                                                                                                                                                                                                                                                                                                                                                                                                                                                                                                                                                                                                                                                                                                                                                                                                                                                                                                                                                                                                                                                                                                                                                                                                                                                                                                                                                                                                                                                                                                                                                                                                                                                                                                                                                                                                                                                                                                                                                                                                                                                                                                                                                                                                                                                                                                                                                                                                                                                                                                                                                                                                                                                                                                                                                                                                                                                                                                                                                                                                                                                                                                                                                                                                                                                                                                                                                                                                                                                                                                                                                                                                                                                                                                                                                                                                                                                                                                                                                                                                                                                                                                                                                                                                                                                                                                                                                                                                                                                                                                                                                                                                                                                                                                                                                                                                                                                                                                                                                                                                                                                                                                                                                                                                                                                                                                                                                                                                                                                                                                                                                                                                                                                                                                                                                                                                                                                                                                                                                                                                                                                                                                                                                                                                                                                                                                                                                                                                                                                                                                                                                                                                                                                                                                                                                                                                                                                                                                                                                                                                                                                                                                                                                                                                                                                                                                                                                                                                                                                                                                                                                                                                                                                                                                                                                                                                                                                                                                                                                                                                                                                                                                                                                                                                                                                                                                                                                                                                                                                                                                                                                                                                                                                                                                                                                                                                                                                                                                                                                                                                                                       ((true + ((3x[7]*x[10]*x[20]*x[29] + 4x[7]*x[12]*x[13]*x[21] + 4x[10]*x[23]*x[25]*x[28]*x[31])*((2x[1] + x[1]*x[9]*x[12]*x[22]*x[32] + x[26]) / ((x[22]^2)*x[5]*x[20] + (x[5]^2)*x[7]*x[22]*x[26] + 3x[19]*x[20]*x[21]*x[22]*x[23]*x[24] + 2(x[21]^2)*x[4]*x[5]*x[22]*x[26]*x[27] + 4x[8]*x[12]*x[16]*x[20]*x[22]*x[27] + 2(x[21]^2)*(x[27]^2)*x[4]*x[8]*x[12]*x[16]*x[26] + 4x[5]*x[7]*x[8]*x[12]*x[16]*x[26]*x[27] + 3x[5]*x[7]*x[19]*x[21]*x[23]*x[24]*x[26] - (x[20]*x[22] + x[5]*x[7]*x[26] + 2(x[21]^2)*x[4]*x[26]*x[27])*(x[5]*x[22] + 3x[19]*x[21]*x[23]*x[24] + 4x[8]*x[12]*x[16]*x[27])))) / ((-(2x[1] + x[1]*x[9]*x[12]*x[22]*x[32] + x[26])*(3x[7]*x[10]*x[20]*x[29] + 4x[7]*x[12]*x[13]*x[21] + 4x[10]*x[23]*x[25]*x[28]*x[31])) / ((x[22]^2)*x[5]*x[20] + (x[5]^2)*x[7]*x[22]*x[26] + 3x[19]*x[20]*x[21]*x[22]*x[23]*x[24] + 2(x[21]^2)*x[4]*x[5]*x[22]*x[26]*x[27] + 4x[8]*x[12]*x[16]*x[20]*x[22]*x[27] + 2(x[21]^2)*(x[27]^2)*x[4]*x[8]*x[12]*x[16]*x[26] + 4x[5]*x[7]*x[8]*x[12]*x[16]*x[26]*x[27] + 3x[5]*x[7]*x[19]*x[21]*x[23]*x[24]*x[26] - (x[20]*x[22] + x[5]*x[7]*x[26] + 2(x[21]^2)*x[4]*x[26]*x[27])*(x[5]*x[22] + 3x[19]*x[21]*x[23]*x[24] + 4x[8]*x[12]*x[16]*x[27])) + 2x[1]*x[7]*x[12]*x[13]*x[21] + 4x[7]*x[12]*x[13]*x[21]*x[26] + 3x[7]*x[10]*x[20]*x[26]*x[29] + 2x[1]*x[10]*x[23]*x[25]*x[28]*x[31] + 4x[10]*x[23]*x[25]*x[26]*x[28]*x[31] + 4(x[12]^2)*x[1]*x[7]*x[9]*x[13]*x[21]*x[22]*x[32] + 3x[1]*x[7]*x[9]*x[10]*x[12]*x[20]*x[22]*x[29]*x[32] + 4x[1]*x[9]*x[10]*x[12]*x[22]*x[23]*x[25]*x[28]*x[31]*x[32]))*((x[22]^2)*x[5]*x[20] + (x[5]^2)*x[7]*x[22]*x[26] + 3x[19]*x[20]*x[21]*x[22]*x[23]*x[24] + 2(x[21]^2)*x[4]*x[5]*x[22]*x[26]*x[27] + 4x[8]*x[12]*x[16]*x[20]*x[22]*x[27] + 2(x[21]^2)*(x[27]^2)*x[4]*x[8]*x[12]*x[16]*x[26] + 4x[5]*x[7]*x[8]*x[12]*x[16]*x[26]*x[27] + 3x[5]*x[7]*x[19]*x[21]*x[23]*x[24]*x[26])) / ((x[22]^2)*x[5]*x[20] + (x[5]^2)*x[7]*x[22]*x[26] + 3x[19]*x[20]*x[21]*x[22]*x[23]*x[24] + 2(x[21]^2)*x[4]*x[5]*x[22]*x[26]*x[27] + 4x[8]*x[12]*x[16]*x[20]*x[22]*x[27] + 2(x[21]^2)*(x[27]^2)*x[4]*x[8]*x[12]*x[16]*x[26] + 4x[5]*x[7]*x[8]*x[12]*x[16]*x[26]*x[27] + 3x[5]*x[7]*x[19]*x[21]*x[23]*x[24]*x[26] - (x[20]*x[22] + x[5]*x[7]*x[26] + 2(x[21]^2)*x[4]*x[26]*x[27])*(x[5]*x[22] + 3x[19]*x[21]*x[23]*x[24] + 4x[8]*x[12]*x[16]*x[27])) + ((x[5]*x[22] + 3x[19]*x[21]*x[23]*x[24] + 4x[8]*x[12]*x[16]*x[27])*(((3x[7]*x[10]*x[20]*x[29] + 4x[7]*x[12]*x[13]*x[21] + 4x[10]*x[23]*x[25]*x[28]*x[31])*(((-x[20]*x[22] - x[5]*x[7]*x[26] - 2(x[21]^2)*x[4]*x[26]*x[27])*(2x[1] + x[1]*x[9]*x[12]*x[22]*x[32] + x[26])) / ((x[22]^2)*x[5]*x[20] + (x[5]^2)*x[7]*x[22]*x[26] + 3x[19]*x[20]*x[21]*x[22]*x[23]*x[24] + 2(x[21]^2)*x[4]*x[5]*x[22]*x[26]*x[27] + 4x[8]*x[12]*x[16]*x[20]*x[22]*x[27] + 2(x[21]^2)*(x[27]^2)*x[4]*x[8]*x[12]*x[16]*x[26] + 4x[5]*x[7]*x[8]*x[12]*x[16]*x[26]*x[27] + 3x[5]*x[7]*x[19]*x[21]*x[23]*x[24]*x[26] - (x[20]*x[22] + x[5]*x[7]*x[26] + 2(x[21]^2)*x[4]*x[26]*x[27])*(x[5]*x[22] + 3x[19]*x[21]*x[23]*x[24] + 4x[8]*x[12]*x[16]*x[27])))) / ((-(2x[1] + x[1]*x[9]*x[12]*x[22]*x[32] + x[26])*(3x[7]*x[10]*x[20]*x[29] + 4x[7]*x[12]*x[13]*x[21] + 4x[10]*x[23]*x[25]*x[28]*x[31])) / ((x[22]^2)*x[5]*x[20] + (x[5]^2)*x[7]*x[22]*x[26] + 3x[19]*x[20]*x[21]*x[22]*x[23]*x[24] + 2(x[21]^2)*x[4]*x[5]*x[22]*x[26]*x[27] + 4x[8]*x[12]*x[16]*x[20]*x[22]*x[27] + 2(x[21]^2)*(x[27]^2)*x[4]*x[8]*x[12]*x[16]*x[26] + 4x[5]*x[7]*x[8]*x[12]*x[16]*x[26]*x[27] + 3x[5]*x[7]*x[19]*x[21]*x[23]*x[24]*x[26] - (x[20]*x[22] + x[5]*x[7]*x[26] + 2(x[21]^2)*x[4]*x[26]*x[27])*(x[5]*x[22] + 3x[19]*x[21]*x[23]*x[24] + 4x[8]*x[12]*x[16]*x[27])) + 2x[1]*x[7]*x[12]*x[13]*x[21] + 4x[7]*x[12]*x[13]*x[21]*x[26] + 3x[7]*x[10]*x[20]*x[26]*x[29] + 2x[1]*x[10]*x[23]*x[25]*x[28]*x[31] + 4x[10]*x[23]*x[25]*x[26]*x[28]*x[31] + 4(x[12]^2)*x[1]*x[7]*x[9]*x[13]*x[21]*x[22]*x[32] + 3x[1]*x[7]*x[9]*x[10]*x[12]*x[20]*x[22]*x[29]*x[32] + 4x[1]*x[9]*x[10]*x[12]*x[22]*x[23]*x[25]*x[28]*x[31]*x[32]) - x[20]*x[22] - x[5]*x[7]*x[26] - 2(x[21]^2)*x[4]*x[26]*x[27])) / ((x[22]^2)*x[5]*x[20] + (x[5]^2)*x[7]*x[22]*x[26] + 3x[19]*x[20]*x[21]*x[22]*x[23]*x[24] + 2(x[21]^2)*x[4]*x[5]*x[22]*x[26]*x[27] + 4x[8]*x[12]*x[16]*x[20]*x[22]*x[27] + 2(x[21]^2)*(x[27]^2)*x[4]*x[8]*x[12]*x[16]*x[26] + 4x[5]*x[7]*x[8]*x[12]*x[16]*x[26]*x[27] + 3x[5]*x[7]*x[19]*x[21]*x[23]*x[24]*x[26] - (x[20]*x[22] + x[5]*x[7]*x[26] + 2(x[21]^2)*x[4]*x[26]*x[27])*(x[5]*x[22] + 3x[19]*x[21]*x[23]*x[24] + 4x[8]*x[12]*x[16]*x[27])) + (-(2x[1] + x[1]*x[9]*x[12]*x[22]*x[32] + x[26])*((3x[7]*x[10]*x[20]*x[29] + 4x[7]*x[12]*x[13]*x[21] + 4x[10]*x[23]*x[25]*x[28]*x[31]) / ((-(2x[1] + x[1]*x[9]*x[12]*x[22]*x[32] + x[26])*(3x[7]*x[10]*x[20]*x[29] + 4x[7]*x[12]*x[13]*x[21] + 4x[10]*x[23]*x[25]*x[28]*x[31])) / ((x[22]^2)*x[5]*x[20] + (x[5]^2)*x[7]*x[22]*x[26] + 3x[19]*x[20]*x[21]*x[22]*x[23]*x[24] + 2(x[21]^2)*x[4]*x[5]*x[22]*x[26]*x[27] + 4x[8]*x[12]*x[16]*x[20]*x[22]*x[27] + 2(x[21]^2)*(x[27]^2)*x[4]*x[8]*x[12]*x[16]*x[26] + 4x[5]*x[7]*x[8]*x[12]*x[16]*x[26]*x[27] + 3x[5]*x[7]*x[19]*x[21]*x[23]*x[24]*x[26] - (x[20]*x[22] + x[5]*x[7]*x[26] + 2(x[21]^2)*x[4]*x[26]*x[27])*(x[5]*x[22] + 3x[19]*x[21]*x[23]*x[24] + 4x[8]*x[12]*x[16]*x[27])) + 2x[1]*x[7]*x[12]*x[13]*x[21] + 4x[7]*x[12]*x[13]*x[21]*x[26] + 3x[7]*x[10]*x[20]*x[26]*x[29] + 2x[1]*x[10]*x[23]*x[25]*x[28]*x[31] + 4x[10]*x[23]*x[25]*x[26]*x[28]*x[31] + 4(x[12]^2)*x[1]*x[7]*x[9]*x[13]*x[21]*x[22]*x[32] + 3x[1]*x[7]*x[9]*x[10]*x[12]*x[20]*x[22]*x[29]*x[32] + 4x[1]*x[9]*x[10]*x[12]*x[22]*x[23]*x[25]*x[28]*x[31]*x[32]))) / ((x[22]^2)*x[5]*x[20] + (x[5]^2)*x[7]*x[22]*x[26] + 3x[19]*x[20]*x[21]*x[22]*x[23]*x[24] + 2(x[21]^2)*x[4]*x[5]*x[22]*x[26]*x[27] + 4x[8]*x[12]*x[16]*x[20]*x[22]*x[27] + 2(x[21]^2)*(x[27]^2)*x[4]*x[8]*x[12]*x[16]*x[26] + 4x[5]*x[7]*x[8]*x[12]*x[16]*x[26]*x[27] + 3x[5]*x[7]*x[19]*x[21]*x[23]*x[24]*x[26] - (x[20]*x[22] + x[5]*x[7]*x[26] + 2(x[21]^2)*x[4]*x[26]*x[27])*(x[5]*x[22] + 3x[19]*x[21]*x[23]*x[24] + 4x[8]*x[12]*x[16]*x[27]))  …  0\n",
       "                                                                                                                                                                                                                                                                                                                                                                                                                                                                                                                                                                                                                                                                                                                                                                                                                                                                                                                                                                                                                                                                                                                                                                                                                                                                                                                                                                                                                                                                                                                                                                                                                                                                                                                                                                                                                                                                                                                                                                                                                                                                                                                                                                                                                                                                                                                                                                                                                                                                                                                                                                                                                                                                                                                                                                                                                                                                                                                                                                                                                                                                                                                                                                                                                                                                                                                                                                                                                                                                                                                                                                                                                                                                                                                                                                                                                                                                                                                                                                                                                                                                                                                                                                                                                                                                                                                                                                                                                                                                                                                                                                                                                                                                                                                                                                                                                                                                                                                                                                                                                                                                                                                                                                                                                                                                                                                                                                                                                                                                                                                                                                                                                                                                                                                                                                 (2x[1] + x[1]*x[9]*x[12]*x[22]*x[32] + x[26]) / ((-(2x[1] + x[1]*x[9]*x[12]*x[22]*x[32] + x[26])*(3x[7]*x[10]*x[20]*x[29] + 4x[7]*x[12]*x[13]*x[21] + 4x[10]*x[23]*x[25]*x[28]*x[31])) / ((x[22]^2)*x[5]*x[20] + (x[5]^2)*x[7]*x[22]*x[26] + 3x[19]*x[20]*x[21]*x[22]*x[23]*x[24] + 2(x[21]^2)*x[4]*x[5]*x[22]*x[26]*x[27] + 4x[8]*x[12]*x[16]*x[20]*x[22]*x[27] + 2(x[21]^2)*(x[27]^2)*x[4]*x[8]*x[12]*x[16]*x[26] + 4x[5]*x[7]*x[8]*x[12]*x[16]*x[26]*x[27] + 3x[5]*x[7]*x[19]*x[21]*x[23]*x[24]*x[26] - (x[20]*x[22] + x[5]*x[7]*x[26] + 2(x[21]^2)*x[4]*x[26]*x[27])*(x[5]*x[22] + 3x[19]*x[21]*x[23]*x[24] + 4x[8]*x[12]*x[16]*x[27])) + 2x[1]*x[7]*x[12]*x[13]*x[21] + 4x[7]*x[12]*x[13]*x[21]*x[26] + 3x[7]*x[10]*x[20]*x[26]*x[29] + 2x[1]*x[10]*x[23]*x[25]*x[28]*x[31] + 4x[10]*x[23]*x[25]*x[26]*x[28]*x[31] + 4(x[12]^2)*x[1]*x[7]*x[9]*x[13]*x[21]*x[22]*x[32] + 3x[1]*x[7]*x[9]*x[10]*x[12]*x[20]*x[22]*x[29]*x[32] + 4x[1]*x[9]*x[10]*x[12]*x[22]*x[23]*x[25]*x[28]*x[31]*x[32]) + (-(x[5]*x[22] + 3x[19]*x[21]*x[23]*x[24] + 4x[8]*x[12]*x[16]*x[27])*(((-x[20]*x[22] - x[5]*x[7]*x[26] - 2(x[21]^2)*x[4]*x[26]*x[27])*(2x[1] + x[1]*x[9]*x[12]*x[22]*x[32] + x[26])) / ((x[22]^2)*x[5]*x[20] + (x[5]^2)*x[7]*x[22]*x[26] + 3x[19]*x[20]*x[21]*x[22]*x[23]*x[24] + 2(x[21]^2)*x[4]*x[5]*x[22]*x[26]*x[27] + 4x[8]*x[12]*x[16]*x[20]*x[22]*x[27] + 2(x[21]^2)*(x[27]^2)*x[4]*x[8]*x[12]*x[16]*x[26] + 4x[5]*x[7]*x[8]*x[12]*x[16]*x[26]*x[27] + 3x[5]*x[7]*x[19]*x[21]*x[23]*x[24]*x[26] - (x[20]*x[22] + x[5]*x[7]*x[26] + 2(x[21]^2)*x[4]*x[26]*x[27])*(x[5]*x[22] + 3x[19]*x[21]*x[23]*x[24] + 4x[8]*x[12]*x[16]*x[27])))) / ((-(2x[1] + x[1]*x[9]*x[12]*x[22]*x[32] + x[26])*(3x[7]*x[10]*x[20]*x[29] + 4x[7]*x[12]*x[13]*x[21] + 4x[10]*x[23]*x[25]*x[28]*x[31])) / ((x[22]^2)*x[5]*x[20] + (x[5]^2)*x[7]*x[22]*x[26] + 3x[19]*x[20]*x[21]*x[22]*x[23]*x[24] + 2(x[21]^2)*x[4]*x[5]*x[22]*x[26]*x[27] + 4x[8]*x[12]*x[16]*x[20]*x[22]*x[27] + 2(x[21]^2)*(x[27]^2)*x[4]*x[8]*x[12]*x[16]*x[26] + 4x[5]*x[7]*x[8]*x[12]*x[16]*x[26]*x[27] + 3x[5]*x[7]*x[19]*x[21]*x[23]*x[24]*x[26] - (x[20]*x[22] + x[5]*x[7]*x[26] + 2(x[21]^2)*x[4]*x[26]*x[27])*(x[5]*x[22] + 3x[19]*x[21]*x[23]*x[24] + 4x[8]*x[12]*x[16]*x[27])) + 2x[1]*x[7]*x[12]*x[13]*x[21] + 4x[7]*x[12]*x[13]*x[21]*x[26] + 3x[7]*x[10]*x[20]*x[26]*x[29] + 2x[1]*x[10]*x[23]*x[25]*x[28]*x[31] + 4x[10]*x[23]*x[25]*x[26]*x[28]*x[31] + 4(x[12]^2)*x[1]*x[7]*x[9]*x[13]*x[21]*x[22]*x[32] + 3x[1]*x[7]*x[9]*x[10]*x[12]*x[20]*x[22]*x[29]*x[32] + 4x[1]*x[9]*x[10]*x[12]*x[22]*x[23]*x[25]*x[28]*x[31]*x[32]) + (-((x[22]^2)*x[5]*x[20] + (x[5]^2)*x[7]*x[22]*x[26] + 3x[19]*x[20]*x[21]*x[22]*x[23]*x[24] + 2(x[21]^2)*x[4]*x[5]*x[22]*x[26]*x[27] + 4x[8]*x[12]*x[16]*x[20]*x[22]*x[27] + 2(x[21]^2)*(x[27]^2)*x[4]*x[8]*x[12]*x[16]*x[26] + 4x[5]*x[7]*x[8]*x[12]*x[16]*x[26]*x[27] + 3x[5]*x[7]*x[19]*x[21]*x[23]*x[24]*x[26])*((2x[1] + x[1]*x[9]*x[12]*x[22]*x[32] + x[26]) / ((x[22]^2)*x[5]*x[20] + (x[5]^2)*x[7]*x[22]*x[26] + 3x[19]*x[20]*x[21]*x[22]*x[23]*x[24] + 2(x[21]^2)*x[4]*x[5]*x[22]*x[26]*x[27] + 4x[8]*x[12]*x[16]*x[20]*x[22]*x[27] + 2(x[21]^2)*(x[27]^2)*x[4]*x[8]*x[12]*x[16]*x[26] + 4x[5]*x[7]*x[8]*x[12]*x[16]*x[26]*x[27] + 3x[5]*x[7]*x[19]*x[21]*x[23]*x[24]*x[26] - (x[20]*x[22] + x[5]*x[7]*x[26] + 2(x[21]^2)*x[4]*x[26]*x[27])*(x[5]*x[22] + 3x[19]*x[21]*x[23]*x[24] + 4x[8]*x[12]*x[16]*x[27])))) / ((-(2x[1] + x[1]*x[9]*x[12]*x[22]*x[32] + x[26])*(3x[7]*x[10]*x[20]*x[29] + 4x[7]*x[12]*x[13]*x[21] + 4x[10]*x[23]*x[25]*x[28]*x[31])) / ((x[22]^2)*x[5]*x[20] + (x[5]^2)*x[7]*x[22]*x[26] + 3x[19]*x[20]*x[21]*x[22]*x[23]*x[24] + 2(x[21]^2)*x[4]*x[5]*x[22]*x[26]*x[27] + 4x[8]*x[12]*x[16]*x[20]*x[22]*x[27] + 2(x[21]^2)*(x[27]^2)*x[4]*x[8]*x[12]*x[16]*x[26] + 4x[5]*x[7]*x[8]*x[12]*x[16]*x[26]*x[27] + 3x[5]*x[7]*x[19]*x[21]*x[23]*x[24]*x[26] - (x[20]*x[22] + x[5]*x[7]*x[26] + 2(x[21]^2)*x[4]*x[26]*x[27])*(x[5]*x[22] + 3x[19]*x[21]*x[23]*x[24] + 4x[8]*x[12]*x[16]*x[27])) + 2x[1]*x[7]*x[12]*x[13]*x[21] + 4x[7]*x[12]*x[13]*x[21]*x[26] + 3x[7]*x[10]*x[20]*x[26]*x[29] + 2x[1]*x[10]*x[23]*x[25]*x[28]*x[31] + 4x[10]*x[23]*x[25]*x[26]*x[28]*x[31] + 4(x[12]^2)*x[1]*x[7]*x[9]*x[13]*x[21]*x[22]*x[32] + 3x[1]*x[7]*x[9]*x[10]*x[12]*x[20]*x[22]*x[29]*x[32] + 4x[1]*x[9]*x[10]*x[12]*x[22]*x[23]*x[25]*x[28]*x[31]*x[32])                                                                                                                                                                                                                                                                                                                                                                                                                                                                                                                                                                                                                                                                                                                                                                                                                                                                                                                                                                                                                                                                                                                                                                                                                                                                                                                                                                                                                                                                                                                                                                                                                                                                                                                                                                                                                                                                                                                                                                                                                                                                                                                                                                                                                                                                                                                                                                                                                                                                                                                                                                                                                                                                                                                                                                                                                                                                                                                                                                                                                                                                                                                                                                                                                                                                                                                                                                                                                                                                                                                                                                                                                                                                                                                                                                                                                                                                                                                                                                                                                                                                                                                                                                                                                                                                                                                                                                                                                                                                                                                                                                                                                                                                                                                                                                                                                                                                                                                                                                                                                                                                                                                                                                                                                                                                                                                                                                                                                                                                                                                                                                                                                                                                                                                                                                                                                                                                                                                                                                                                                                                                                         0\n",
       " (x[5]*x[22] + 3x[19]*x[21]*x[23]*x[24] + 4x[8]*x[12]*x[16]*x[27])*((((-(3x[7]*x[10]*x[20]*x[29] + 4x[7]*x[12]*x[13]*x[21] + 4x[10]*x[23]*x[25]*x[28]*x[31])*(5x[28] + 4x[29] + 4x[5]*x[22]*x[23] + 4x[8]*x[12]*x[16]*x[23]*x[27] + 2(x[1]^2)*x[5]*x[22]*x[28]*x[29] + 4x[5]*x[13]*x[18]*x[19]*x[20]*x[22] + 2(x[1]^2)*x[8]*x[12]*x[16]*x[27]*x[28]*x[29] + 4x[8]*x[12]*x[13]*x[16]*x[18]*x[19]*x[20]*x[27] + x[13] - (4x[23] + 2(x[1]^2)*x[28]*x[29] + 4x[13]*x[18]*x[19]*x[20])*(x[5]*x[22] + 3x[19]*x[21]*x[23]*x[24] + 4x[8]*x[12]*x[16]*x[27]))) / ((x[22]^2)*x[5]*x[20] + (x[5]^2)*x[7]*x[22]*x[26] + 3x[19]*x[20]*x[21]*x[22]*x[23]*x[24] + 2(x[21]^2)*x[4]*x[5]*x[22]*x[26]*x[27] + 4x[8]*x[12]*x[16]*x[20]*x[22]*x[27] + 2(x[21]^2)*(x[27]^2)*x[4]*x[8]*x[12]*x[16]*x[26] + 4x[5]*x[7]*x[8]*x[12]*x[16]*x[26]*x[27] + 3x[5]*x[7]*x[19]*x[21]*x[23]*x[24]*x[26] - (x[20]*x[22] + x[5]*x[7]*x[26] + 2(x[21]^2)*x[4]*x[26]*x[27])*(x[5]*x[22] + 3x[19]*x[21]*x[23]*x[24] + 4x[8]*x[12]*x[16]*x[27])) + 4(x[13]^2)*x[7]*x[12]*x[21] + 3x[7]*x[10]*x[13]*x[20]*x[29] + 3x[7]*x[10]*x[20]*x[28]*x[29] + 2x[7]*x[12]*x[13]*x[21]*x[28] + 2(x[28]^2)*x[10]*x[23]*x[25]*x[31] + 4x[7]*x[12]*x[13]*x[21]*x[29] + 4x[10]*x[13]*x[23]*x[25]*x[28]*x[31] + 4x[10]*x[23]*x[25]*x[28]*x[29]*x[31])*(((-x[20]*x[22] - x[5]*x[7]*x[26] - 2(x[21]^2)*x[4]*x[26]*x[27])*(2x[1] + x[1]*x[9]*x[12]*x[22]*x[32] + x[26])) / ((x[22]^2)*x[5]*x[20] + (x[5]^2)*x[7]*x[22]*x[26] + 3x[19]*x[20]*x[21]*x[22]*x[23]*x[24] + 2(x[21]^2)*x[4]*x[5]*x[22]*x[26]*x[27] + 4x[8]*x[12]*x[16]*x[20]*x[22]*x[27] + 2(x[21]^2)*(x[27]^2)*x[4]*x[8]*x[12]*x[16]*x[26] + 4x[5]*x[7]*x[8]*x[12]*x[16]*x[26]*x[27] + 3x[5]*x[7]*x[19]*x[21]*x[23]*x[24]*x[26] - (x[20]*x[22] + x[5]*x[7]*x[26] + 2(x[21]^2)*x[4]*x[26]*x[27])*(x[5]*x[22] + 3x[19]*x[21]*x[23]*x[24] + 4x[8]*x[12]*x[16]*x[27])))) / ((-(2x[1] + x[1]*x[9]*x[12]*x[22]*x[32] + x[26])*(3x[7]*x[10]*x[20]*x[29] + 4x[7]*x[12]*x[13]*x[21] + 4x[10]*x[23]*x[25]*x[28]*x[31])) / ((x[22]^2)*x[5]*x[20] + (x[5]^2)*x[7]*x[22]*x[26] + 3x[19]*x[20]*x[21]*x[22]*x[23]*x[24] + 2(x[21]^2)*x[4]*x[5]*x[22]*x[26]*x[27] + 4x[8]*x[12]*x[16]*x[20]*x[22]*x[27] + 2(x[21]^2)*(x[27]^2)*x[4]*x[8]*x[12]*x[16]*x[26] + 4x[5]*x[7]*x[8]*x[12]*x[16]*x[26]*x[27] + 3x[5]*x[7]*x[19]*x[21]*x[23]*x[24]*x[26] - (x[20]*x[22] + x[5]*x[7]*x[26] + 2(x[21]^2)*x[4]*x[26]*x[27])*(x[5]*x[22] + 3x[19]*x[21]*x[23]*x[24] + 4x[8]*x[12]*x[16]*x[27])) + 2x[1]*x[7]*x[12]*x[13]*x[21] + 4x[7]*x[12]*x[13]*x[21]*x[26] + 3x[7]*x[10]*x[20]*x[26]*x[29] + 2x[1]*x[10]*x[23]*x[25]*x[28]*x[31] + 4x[10]*x[23]*x[25]*x[26]*x[28]*x[31] + 4(x[12]^2)*x[1]*x[7]*x[9]*x[13]*x[21]*x[22]*x[32] + 3x[1]*x[7]*x[9]*x[10]*x[12]*x[20]*x[22]*x[29]*x[32] + 4x[1]*x[9]*x[10]*x[12]*x[22]*x[23]*x[25]*x[28]*x[31]*x[32]) + (-(-x[20]*x[22] - x[5]*x[7]*x[26] - 2(x[21]^2)*x[4]*x[26]*x[27])*(5x[28] + 4x[29] + 4x[5]*x[22]*x[23] + 4x[8]*x[12]*x[16]*x[23]*x[27] + 2(x[1]^2)*x[5]*x[22]*x[28]*x[29] + 4x[5]*x[13]*x[18]*x[19]*x[20]*x[22] + 2(x[1]^2)*x[8]*x[12]*x[16]*x[27]*x[28]*x[29] + 4x[8]*x[12]*x[13]*x[16]*x[18]*x[19]*x[20]*x[27] + x[13] - (4x[23] + 2(x[1]^2)*x[28]*x[29] + 4x[13]*x[18]*x[19]*x[20])*(x[5]*x[22] + 3x[19]*x[21]*x[23]*x[24] + 4x[8]*x[12]*x[16]*x[27]))) / ((x[22]^2)*x[5]*x[20] + (x[5]^2)*x[7]*x[22]*x[26] + 3x[19]*x[20]*x[21]*x[22]*x[23]*x[24] + 2(x[21]^2)*x[4]*x[5]*x[22]*x[26]*x[27] + 4x[8]*x[12]*x[16]*x[20]*x[22]*x[27] + 2(x[21]^2)*(x[27]^2)*x[4]*x[8]*x[12]*x[16]*x[26] + 4x[5]*x[7]*x[8]*x[12]*x[16]*x[26]*x[27] + 3x[5]*x[7]*x[19]*x[21]*x[23]*x[24]*x[26] - (x[20]*x[22] + x[5]*x[7]*x[26] + 2(x[21]^2)*x[4]*x[26]*x[27])*(x[5]*x[22] + 3x[19]*x[21]*x[23]*x[24] + 4x[8]*x[12]*x[16]*x[27])) - 4x[23] - 2(x[1]^2)*x[28]*x[29] - 4x[13]*x[18]*x[19]*x[20]) + 5x[28] + (((4x[23] + 2(x[1]^2)*x[28]*x[29] + 4x[13]*x[18]*x[19]*x[20])*(x[5]*x[22] + 3x[19]*x[21]*x[23]*x[24] + 4x[8]*x[12]*x[16]*x[27]) - x[13] - 5x[28] - 4x[29] - 4x[5]*x[22]*x[23] - 4x[8]*x[12]*x[16]*x[23]*x[27] - 2(x[1]^2)*x[5]*x[22]*x[28]*x[29] - 4x[5]*x[13]*x[18]*x[19]*x[20]*x[22] - 2(x[1]^2)*x[8]*x[12]*x[16]*x[27]*x[28]*x[29] - 4x[8]*x[12]*x[13]*x[16]*x[18]*x[19]*x[20]*x[27]) / ((x[22]^2)*x[5]*x[20] + (x[5]^2)*x[7]*x[22]*x[26] + 3x[19]*x[20]*x[21]*x[22]*x[23]*x[24] + 2(x[21]^2)*x[4]*x[5]*x[22]*x[26]*x[27] + 4x[8]*x[12]*x[16]*x[20]*x[22]*x[27] + 2(x[21]^2)*(x[27]^2)*x[4]*x[8]*x[12]*x[16]*x[26] + 4x[5]*x[7]*x[8]*x[12]*x[16]*x[26]*x[27] + 3x[5]*x[7]*x[19]*x[21]*x[23]*x[24]*x[26] - (x[20]*x[22] + x[5]*x[7]*x[26] + 2(x[21]^2)*x[4]*x[26]*x[27])*(x[5]*x[22] + 3x[19]*x[21]*x[23]*x[24] + 4x[8]*x[12]*x[16]*x[27])) + (((-(3x[7]*x[10]*x[20]*x[29] + 4x[7]*x[12]*x[13]*x[21] + 4x[10]*x[23]*x[25]*x[28]*x[31])*(5x[28] + 4x[29] + 4x[5]*x[22]*x[23] + 4x[8]*x[12]*x[16]*x[23]*x[27] + 2(x[1]^2)*x[5]*x[22]*x[28]*x[29] + 4x[5]*x[13]*x[18]*x[19]*x[20]*x[22] + 2(x[1]^2)*x[8]*x[12]*x[16]*x[27]*x[28]*x[29] + 4x[8]*x[12]*x[13]*x[16]*x[18]*x[19]*x[20]*x[27] + x[13] - (4x[23] + 2(x[1]^2)*x[28]*x[29] + 4x[13]*x[18]*x[19]*x[20])*(x[5]*x[22] + 3x[19]*x[21]*x[23]*x[24] + 4x[8]*x[12]*x[16]*x[27]))) / ((x[22]^2)*x[5]*x[20] + (x[5]^2)*x[7]*x[22]*x[26] + 3x[19]*x[20]*x[21]*x[22]*x[23]*x[24] + 2(x[21]^2)*x[4]*x[5]*x[22]*x[26]*x[27] + 4x[8]*x[12]*x[16]*x[20]*x[22]*x[27] + 2(x[21]^2)*(x[27]^2)*x[4]*x[8]*x[12]*x[16]*x[26] + 4x[5]*x[7]*x[8]*x[12]*x[16]*x[26]*x[27] + 3x[5]*x[7]*x[19]*x[21]*x[23]*x[24]*x[26] - (x[20]*x[22] + x[5]*x[7]*x[26] + 2(x[21]^2)*x[4]*x[26]*x[27])*(x[5]*x[22] + 3x[19]*x[21]*x[23]*x[24] + 4x[8]*x[12]*x[16]*x[27])) + 4(x[13]^2)*x[7]*x[12]*x[21] + 3x[7]*x[10]*x[13]*x[20]*x[29] + 3x[7]*x[10]*x[20]*x[28]*x[29] + 2x[7]*x[12]*x[13]*x[21]*x[28] + 2(x[28]^2)*x[10]*x[23]*x[25]*x[31] + 4x[7]*x[12]*x[13]*x[21]*x[29] + 4x[10]*x[13]*x[23]*x[25]*x[28]*x[31] + 4x[10]*x[23]*x[25]*x[28]*x[29]*x[31])*((2x[1] + x[1]*x[9]*x[12]*x[22]*x[32] + x[26]) / ((x[22]^2)*x[5]*x[20] + (x[5]^2)*x[7]*x[22]*x[26] + 3x[19]*x[20]*x[21]*x[22]*x[23]*x[24] + 2(x[21]^2)*x[4]*x[5]*x[22]*x[26]*x[27] + 4x[8]*x[12]*x[16]*x[20]*x[22]*x[27] + 2(x[21]^2)*(x[27]^2)*x[4]*x[8]*x[12]*x[16]*x[26] + 4x[5]*x[7]*x[8]*x[12]*x[16]*x[26]*x[27] + 3x[5]*x[7]*x[19]*x[21]*x[23]*x[24]*x[26] - (x[20]*x[22] + x[5]*x[7]*x[26] + 2(x[21]^2)*x[4]*x[26]*x[27])*(x[5]*x[22] + 3x[19]*x[21]*x[23]*x[24] + 4x[8]*x[12]*x[16]*x[27])))) / ((-(2x[1] + x[1]*x[9]*x[12]*x[22]*x[32] + x[26])*(3x[7]*x[10]*x[20]*x[29] + 4x[7]*x[12]*x[13]*x[21] + 4x[10]*x[23]*x[25]*x[28]*x[31])) / ((x[22]^2)*x[5]*x[20] + (x[5]^2)*x[7]*x[22]*x[26] + 3x[19]*x[20]*x[21]*x[22]*x[23]*x[24] + 2(x[21]^2)*x[4]*x[5]*x[22]*x[26]*x[27] + 4x[8]*x[12]*x[16]*x[20]*x[22]*x[27] + 2(x[21]^2)*(x[27]^2)*x[4]*x[8]*x[12]*x[16]*x[26] + 4x[5]*x[7]*x[8]*x[12]*x[16]*x[26]*x[27] + 3x[5]*x[7]*x[19]*x[21]*x[23]*x[24]*x[26] - (x[20]*x[22] + x[5]*x[7]*x[26] + 2(x[21]^2)*x[4]*x[26]*x[27])*(x[5]*x[22] + 3x[19]*x[21]*x[23]*x[24] + 4x[8]*x[12]*x[16]*x[27])) + 2x[1]*x[7]*x[12]*x[13]*x[21] + 4x[7]*x[12]*x[13]*x[21]*x[26] + 3x[7]*x[10]*x[20]*x[26]*x[29] + 2x[1]*x[10]*x[23]*x[25]*x[28]*x[31] + 4x[10]*x[23]*x[25]*x[26]*x[28]*x[31] + 4(x[12]^2)*x[1]*x[7]*x[9]*x[13]*x[21]*x[22]*x[32] + 3x[1]*x[7]*x[9]*x[10]*x[12]*x[20]*x[22]*x[29]*x[32] + 4x[1]*x[9]*x[10]*x[12]*x[22]*x[23]*x[25]*x[28]*x[31]*x[32]))*((x[22]^2)*x[5]*x[20] + (x[5]^2)*x[7]*x[22]*x[26] + 3x[19]*x[20]*x[21]*x[22]*x[23]*x[24] + 2(x[21]^2)*x[4]*x[5]*x[22]*x[26]*x[27] + 4x[8]*x[12]*x[16]*x[20]*x[22]*x[27] + 2(x[21]^2)*(x[27]^2)*x[4]*x[8]*x[12]*x[16]*x[26] + 4x[5]*x[7]*x[8]*x[12]*x[16]*x[26]*x[27] + 3x[5]*x[7]*x[19]*x[21]*x[23]*x[24]*x[26]) + 4x[29] + 4x[5]*x[22]*x[23] + 4x[8]*x[12]*x[16]*x[23]*x[27] + 2(x[1]^2)*x[5]*x[22]*x[28]*x[29] + 4x[5]*x[13]*x[18]*x[19]*x[20]*x[22] + 2(x[1]^2)*x[8]*x[12]*x[16]*x[27]*x[28]*x[29] + 4x[8]*x[12]*x[13]*x[16]*x[18]*x[19]*x[20]*x[27] + x[13] - (2x[1] + x[1]*x[9]*x[12]*x[22]*x[32] + x[26])*(((-(3x[7]*x[10]*x[20]*x[29] + 4x[7]*x[12]*x[13]*x[21] + 4x[10]*x[23]*x[25]*x[28]*x[31])*(5x[28] + 4x[29] + 4x[5]*x[22]*x[23] + 4x[8]*x[12]*x[16]*x[23]*x[27] + 2(x[1]^2)*x[5]*x[22]*x[28]*x[29] + 4x[5]*x[13]*x[18]*x[19]*x[20]*x[22] + 2(x[1]^2)*x[8]*x[12]*x[16]*x[27]*x[28]*x[29] + 4x[8]*x[12]*x[13]*x[16]*x[18]*x[19]*x[20]*x[27] + x[13] - (4x[23] + 2(x[1]^2)*x[28]*x[29] + 4x[13]*x[18]*x[19]*x[20])*(x[5]*x[22] + 3x[19]*x[21]*x[23]*x[24] + 4x[8]*x[12]*x[16]*x[27]))) / ((x[22]^2)*x[5]*x[20] + (x[5]^2)*x[7]*x[22]*x[26] + 3x[19]*x[20]*x[21]*x[22]*x[23]*x[24] + 2(x[21]^2)*x[4]*x[5]*x[22]*x[26]*x[27] + 4x[8]*x[12]*x[16]*x[20]*x[22]*x[27] + 2(x[21]^2)*(x[27]^2)*x[4]*x[8]*x[12]*x[16]*x[26] + 4x[5]*x[7]*x[8]*x[12]*x[16]*x[26]*x[27] + 3x[5]*x[7]*x[19]*x[21]*x[23]*x[24]*x[26] - (x[20]*x[22] + x[5]*x[7]*x[26] + 2(x[21]^2)*x[4]*x[26]*x[27])*(x[5]*x[22] + 3x[19]*x[21]*x[23]*x[24] + 4x[8]*x[12]*x[16]*x[27])) + 4(x[13]^2)*x[7]*x[12]*x[21] + 3x[7]*x[10]*x[13]*x[20]*x[29] + 3x[7]*x[10]*x[20]*x[28]*x[29] + 2x[7]*x[12]*x[13]*x[21]*x[28] + 2(x[28]^2)*x[10]*x[23]*x[25]*x[31] + 4x[7]*x[12]*x[13]*x[21]*x[29] + 4x[10]*x[13]*x[23]*x[25]*x[28]*x[31] + 4x[10]*x[23]*x[25]*x[28]*x[29]*x[31]) / ((-(2x[1] + x[1]*x[9]*x[12]*x[22]*x[32] + x[26])*(3x[7]*x[10]*x[20]*x[29] + 4x[7]*x[12]*x[13]*x[21] + 4x[10]*x[23]*x[25]*x[28]*x[31])) / ((x[22]^2)*x[5]*x[20] + (x[5]^2)*x[7]*x[22]*x[26] + 3x[19]*x[20]*x[21]*x[22]*x[23]*x[24] + 2(x[21]^2)*x[4]*x[5]*x[22]*x[26]*x[27] + 4x[8]*x[12]*x[16]*x[20]*x[22]*x[27] + 2(x[21]^2)*(x[27]^2)*x[4]*x[8]*x[12]*x[16]*x[26] + 4x[5]*x[7]*x[8]*x[12]*x[16]*x[26]*x[27] + 3x[5]*x[7]*x[19]*x[21]*x[23]*x[24]*x[26] - (x[20]*x[22] + x[5]*x[7]*x[26] + 2(x[21]^2)*x[4]*x[26]*x[27])*(x[5]*x[22] + 3x[19]*x[21]*x[23]*x[24] + 4x[8]*x[12]*x[16]*x[27])) + 2x[1]*x[7]*x[12]*x[13]*x[21] + 4x[7]*x[12]*x[13]*x[21]*x[26] + 3x[7]*x[10]*x[20]*x[26]*x[29] + 2x[1]*x[10]*x[23]*x[25]*x[28]*x[31] + 4x[10]*x[23]*x[25]*x[26]*x[28]*x[31] + 4(x[12]^2)*x[1]*x[7]*x[9]*x[13]*x[21]*x[22]*x[32] + 3x[1]*x[7]*x[9]*x[10]*x[12]*x[20]*x[22]*x[29]*x[32] + 4x[1]*x[9]*x[10]*x[12]*x[22]*x[23]*x[25]*x[28]*x[31]*x[32]))                                                                                                                                                                                                                                                                                                                                                                                                                                                                                                                                                                                                                                                                                                                                                                                                                                                                                                                                                                                                                                                                                                                                                                                                                                                                                                                                                                                                                                                                                                                                                                                                                                                                                                                                                                                                                                                                                                                                                                                                                                                                                                                                                                                                                                                                                                                                                                                                                                                                                                                                                                                                                                                                                                                                                                                                                                                                                                                                                                                                                                                                                                                                                                                                                                                                                                                                                                                                                                                                                                                                                                                                                                                                                                                                                                                                                                                                                                                                                                                                                                                                                                                                                                                                                                                                                                                                                                                                                                                                                                                                                                                                                                                                                                                                                                                                                                                                                                                                                                                                                                                                                                                                                                                                                                                                                                                                                                                                                                                                                                                                                                                                                                                                                                                                                                                                                                                                                                                                                                                                                                                                                         1.0"
      ]
     },
     "execution_count": 70,
     "metadata": {},
     "output_type": "execute_result"
    }
   ],
   "source": [
    "res=D*C#please do inverse of kl matrix * kl matrix\n"
   ]
  },
  {
   "cell_type": "code",
   "execution_count": 57,
   "id": "b2ccc757",
   "metadata": {},
   "outputs": [
    {
     "data": {
      "text/latex": [
       "$$ \\begin{equation}\n",
       "\\left[\n",
       "\\begin{array}{ccc}\n",
       "1 & 5 x_{3 0} + 5 x_3 x_{2 9} + 5 x_{1 3} x_{2 0} + 90 x_{3 0}^{2} x_8 x_{2 2} - 4 x_{2 6}^{2} x_2 x_{1 8} x_{2 9} + 90 x_{2 0}^{2} x_{1 3}^{2} x_8 x_{2 2} + 90 x_{2 9}^{2} x_3^{2} x_8 x_{2 2} + 96 x_{2 5}^{2} x_{2 1} x_{2 2} x_{3 0} - 16 x_1 x_2 x_{1 0} x_{2 5} x_{2 8} - 8 x_3 x_{1 2} x_{1 4} x_{1 5} x_{2 6} - 16 x_3 x_{1 2} x_{1 4} x_{1 5} x_{2 5} + 180 x_8 x_{1 3} x_{2 0} x_{2 2} x_{3 0} - 8 x_2 x_{1 8} x_{2 5} x_{2 6} x_{2 9} + 180 x_3 x_8 x_{2 2} x_{2 9} x_{3 0} + 30 x_{3 0}^{2} x_{1 4} x_{1 7} x_{2 3} x_{3 1} - 360 x_{3 0}^{2} x_9 x_{2 1} x_{2 2} x_{2 5} + 36 x_3^{2} x_{1 1} x_{2 6} x_{2 9} x_{3 1} - 8 x_1 x_2 x_{1 0} x_{2 6} x_{2 8} + 36 x_3 x_{1 1} x_{2 6} x_{3 0} x_{3 1} + 48 x_{2 1} x_{2 2} x_{2 5} x_{2 6} x_{3 0} + 72 x_3^{2} x_{1 1} x_{2 5} x_{2 9} x_{3 1} - 270 x_{2 9}^{2} x_3^{3} x_9 x_{1 1} x_{3 1} - 270 x_{3 0}^{2} x_3 x_9 x_{1 1} x_{3 1} + 96 x_{2 5}^{2} x_3 x_{2 1} x_{2 2} x_{2 9} + 72 x_3 x_{1 1} x_{2 5} x_{3 0} x_{3 1} + 96 x_{2 5}^{2} x_{1 3} x_{2 0} x_{2 1} x_{2 2} + 36 x_3 x_{1 1} x_{1 3} x_{2 0} x_{2 6} x_{3 1} + 60 x_3^{2} x_9 x_{1 2} x_{1 4} x_{1 5} x_{2 9} - 360 x_{2 9}^{2} x_3^{2} x_9 x_{2 1} x_{2 2} x_{2 5} - 360 x_{2 0}^{2} x_{1 3}^{2} x_9 x_{2 1} x_{2 2} x_{2 5} + 96 x_3^{2} x_5 x_{2 2} x_{2 5} x_{2 8} x_{2 9} + 60 x_3 x_9 x_{1 2} x_{1 4} x_{1 5} x_{3 0} + 72 x_3^{2} x_{1 1} x_{1 6} x_{2 4} x_{2 9} x_{3 1} + 72 x_3 x_{1 1} x_{1 6} x_{2 4} x_{3 0} x_{3 1} - 360 x_{3 0}^{2} x_3 x_5 x_9 x_{2 2} x_{2 8} - 16 x_1 x_2 x_{1 0} x_{1 6} x_{2 4} x_{2 8} + 48 x_3^{2} x_5 x_{2 2} x_{2 6} x_{2 8} x_{2 9} + 180 x_3 x_8 x_{1 3} x_{2 0} x_{2 2} x_{2 9} + 48 x_{1 3} x_{2 0} x_{2 1} x_{2 2} x_{2 5} x_{2 6} + 30 x_{2 9}^{2} x_3^{2} x_{1 4} x_{1 7} x_{2 3} x_{3 1} + 96 x_3 x_5 x_{2 2} x_{2 5} x_{2 8} x_{3 0} - 540 x_3^{2} x_9 x_{1 1} x_{2 9} x_{3 0} x_{3 1} - 8 x_2 x_{1 6} x_{1 8} x_{2 4} x_{2 6} x_{2 9} + 72 x_3 x_{1 1} x_{1 3} x_{2 0} x_{2 5} x_{3 1} - 16 x_3 x_{1 2} x_{1 4} x_{1 5} x_{1 6} x_{2 4} + 30 x_{2 9}^{2} x_2 x_3 x_9 x_{1 8} x_{2 6} + 96 x_{1 6} x_{2 1} x_{2 2} x_{2 4} x_{2 5} x_{3 0} - 360 x_{2 9}^{2} x_3^{3} x_5 x_9 x_{2 2} x_{2 8} - 270 x_{2 0}^{2} x_{1 3}^{2} x_3 x_9 x_{1 1} x_{3 1} + 90 x_{3 0}^{2} x_4 x_{1 0} x_{1 2} x_{1 6} x_{1 8} + 48 x_3 x_5 x_{2 2} x_{2 6} x_{2 8} x_{3 0} + 30 x_2 x_9 x_{1 8} x_{2 6} x_{2 9} x_{3 0} + 60 x_1 x_2 x_9 x_{1 0} x_{2 8} x_{3 0} + 30 x_{2 0}^{2} x_{1 3}^{2} x_{1 4} x_{1 7} x_{2 3} x_{3 1} + 48 x_3 x_{2 1} x_{2 2} x_{2 5} x_{2 6} x_{2 9} + 90 x_{2 0}^{2} x_{1 3}^{2} x_4 x_{1 0} x_{1 2} x_{1 6} x_{1 8} + 90 x_{2 9}^{2} x_3^{2} x_4 x_{1 0} x_{1 2} x_{1 6} x_{1 8} + 96 x_{1 3} x_{1 6} x_{2 0} x_{2 1} x_{2 2} x_{2 4} x_{2 5} + 30 x_2 x_9 x_{1 3} x_{1 8} x_{2 0} x_{2 6} x_{2 9} + 96 x_3 x_5 x_{1 3} x_{2 0} x_{2 2} x_{2 5} x_{2 8} - 120 x_{3 0}^{3} x_{2 2}^{2} x_2 x_{1 5} x_{1 9} x_{2 1} x_{2 5} - 360 x_{2 0}^{2} x_{1 3}^{2} x_3 x_5 x_9 x_{2 2} x_{2 8} + 96 x_3^{2} x_5 x_{1 6} x_{2 2} x_{2 4} x_{2 8} x_{2 9} + 60 x_1 x_2 x_9 x_{1 0} x_{1 3} x_{2 0} x_{2 8} - 72 x_{2 9}^{2} x_{2 6}^{2} x_2 x_3 x_8 x_{1 8} x_{2 2} - 720 x_3 x_9 x_{2 1} x_{2 2} x_{2 5} x_{2 9} x_{3 0} + 72 x_3 x_{1 1} x_{1 3} x_{1 6} x_{2 0} x_{2 4} x_{3 1} - 720 x_3^{2} x_5 x_9 x_{2 2} x_{2 8} x_{2 9} x_{3 0} - 540 x_3^{2} x_9 x_{1 1} x_{1 3} x_{2 0} x_{2 9} x_{3 1} - 720 x_9 x_{1 3} x_{2 0} x_{2 1} x_{2 2} x_{2 5} x_{3 0} + 60 x_{1 3} x_{1 4} x_{1 7} x_{2 0} x_{2 3} x_{3 0} x_{3 1} + 96 x_3 x_5 x_{1 6} x_{2 2} x_{2 4} x_{2 8} x_{3 0} - 540 x_3 x_9 x_{1 1} x_{1 3} x_{2 0} x_{3 0} x_{3 1} - 72 x_{2 6}^{2} x_2 x_8 x_{1 8} x_{2 2} x_{2 9} x_{3 0} + 60 x_3 x_9 x_{1 2} x_{1 3} x_{1 4} x_{1 5} x_{2 0} + 48 x_3 x_5 x_{1 3} x_{2 0} x_{2 2} x_{2 6} x_{2 8} + 60 x_3 x_{1 4} x_{1 7} x_{2 3} x_{2 9} x_{3 0} x_{3 1} + 96 x_3 x_{1 6} x_{2 1} x_{2 2} x_{2 4} x_{2 5} x_{2 9} + 60 x_1 x_2 x_3 x_9 x_{1 0} x_{2 8} x_{2 9} - 450 x_{2 9}^{3} x_{1 1}^{2} x_3^{3} x_4 x_{2 1} x_{2 8} x_{3 1} + 20 x_{3 0}^{2} x_{1 5}^{2} x_2 x_3 x_{1 2} x_{1 4} x_{1 9} x_{2 2} + 540 x_{3 0}^{2} x_2 x_8 x_9 x_{1 8} x_{2 2} x_{2 6} x_{2 9} + 96 x_3 x_5 x_{1 3} x_{1 6} x_{2 0} x_{2 2} x_{2 4} x_{2 8} - 90 x_{3 0}^{3} x_2 x_3 x_{1 1} x_{1 5} x_{1 9} x_{2 2} x_{3 1} + 10 x_{3 0}^{2} x_2^{2} x_{1 5} x_{1 8} x_{1 9} x_{2 2} x_{2 6} x_{2 9} - 120 x_{3 0}^{3} x_{2 2}^{2} x_2 x_3 x_5 x_{1 5} x_{1 9} x_{2 8} + 1080 x_{3 0}^{2} x_3 x_8 x_9 x_{1 2} x_{1 4} x_{1 5} x_{2 2} - 600 x_{3 0}^{2} x_{2 1}^{2} x_4 x_{1 1} x_{2 2} x_{2 5} x_{2 8} x_{2 9} + 1080 x_{2 9}^{2} x_3^{3} x_8 x_9 x_{1 2} x_{1 4} x_{1 5} x_{2 2} - 144 x_{2 9}^{2} x_2 x_3 x_8 x_{1 8} x_{2 2} x_{2 5} x_{2 6} - 72 x_{2 6}^{2} x_2 x_8 x_{1 3} x_{1 8} x_{2 0} x_{2 2} x_{2 9} - 144 x_2 x_8 x_{1 8} x_{2 2} x_{2 5} x_{2 6} x_{2 9} x_{3 0} - 288 x_1 x_2 x_8 x_{1 0} x_{2 2} x_{2 5} x_{2 8} x_{3 0} - 900 x_{2 9}^{2} x_{1 1}^{2} x_3^{2} x_4 x_{2 1} x_{2 8} x_{3 0} x_{3 1} - 144 x_3 x_8 x_{1 2} x_{1 4} x_{1 5} x_{2 2} x_{2 6} x_{3 0} - 288 x_3^{2} x_8 x_{1 2} x_{1 4} x_{1 5} x_{2 2} x_{2 5} x_{2 9} - 288 x_3 x_8 x_{1 2} x_{1 4} x_{1 5} x_{2 2} x_{2 5} x_{3 0} - 720 x_3^{2} x_5 x_9 x_{1 3} x_{2 0} x_{2 2} x_{2 8} x_{2 9} - 144 x_3^{2} x_8 x_{1 2} x_{1 4} x_{1 5} x_{2 2} x_{2 6} x_{2 9} - 600 x_{2 9}^{3} x_{2 8}^{2} x_3^{3} x_4 x_5 x_{1 1} x_{2 1} x_{2 2} + 1080 x_{3 0}^{2} x_1 x_2 x_8 x_9 x_{1 0} x_{2 2} x_{2 8} - 144 x_1 x_2 x_8 x_{1 0} x_{2 2} x_{2 6} x_{2 8} x_{3 0} + 180 x_4 x_{1 0} x_{1 2} x_{1 3} x_{1 6} x_{1 8} x_{2 0} x_{3 0} - 720 x_3 x_9 x_{1 3} x_{2 0} x_{2 1} x_{2 2} x_{2 5} x_{2 9} + 60 x_3 x_{1 3} x_{1 4} x_{1 7} x_{2 0} x_{2 3} x_{2 9} x_{3 1} - 450 x_{3 0}^{2} x_{1 1}^{2} x_3 x_4 x_{2 1} x_{2 8} x_{2 9} x_{3 1} - 600 x_{2 9}^{3} x_{2 1}^{2} x_3^{2} x_4 x_{1 1} x_{2 2} x_{2 5} x_{2 8} + 20 x_{3 0}^{2} x_2^{2} x_1 x_{1 0} x_{1 5} x_{1 9} x_{2 2} x_{2 8} + 540 x_{2 9}^{3} x_3^{2} x_2 x_8 x_9 x_{1 8} x_{2 2} x_{2 6} - 720 x_3 x_5 x_9 x_{1 3} x_{2 0} x_{2 2} x_{2 8} x_{3 0} + 180 x_3 x_4 x_{1 0} x_{1 2} x_{1 6} x_{1 8} x_{2 9} x_{3 0} - 24 x_{2 9}^{2} x_{2 6}^{2} x_2 x_3 x_{1 4} x_{1 7} x_{1 8} x_{2 3} x_{3 1} + 360 x_{3 0}^{3} x_{2 2}^{2} x_2^{2} x_1 x_8 x_{1 0} x_{1 5} x_{1 9} x_{2 8} + 540 x_{2 0}^{2} x_{1 3}^{2} x_2 x_8 x_9 x_{1 8} x_{2 2} x_{2 6} x_{2 9} + 1080 x_{2 0}^{2} x_{1 3}^{2} x_1 x_2 x_8 x_9 x_{1 0} x_{2 2} x_{2 8} + 360 x_{3 0}^{3} x_{2 2}^{2} x_{1 5}^{2} x_2 x_3 x_8 x_{1 2} x_{1 4} x_{1 9} - 600 x_{3 0}^{2} x_{2 8}^{2} x_3 x_4 x_5 x_{1 1} x_{2 1} x_{2 2} x_{2 9} + 1080 x_{2 9}^{2} x_2 x_3 x_8 x_9 x_{1 8} x_{2 2} x_{2 6} x_{3 0} - 96 x_{1 4}^{2} x_3 x_{1 2} x_{1 5} x_{1 7} x_{2 3} x_{2 5} x_{3 0} x_{3 1} - 240 x_{3 0}^{2} x_{2 2}^{2} x_2 x_3 x_{1 5} x_{1 9} x_{2 1} x_{2 5} x_{2 9} + 180 x_{3 0}^{3} x_{2 2}^{2} x_2^{2} x_8 x_{1 5} x_{1 8} x_{1 9} x_{2 6} x_{2 9} - 144 x_{2 9}^{2} x_2 x_3 x_8 x_{1 6} x_{1 8} x_{2 2} x_{2 4} x_{2 6} + 50 x_{2 9}^{3} x_2 x_3 x_4 x_{1 1} x_{1 8} x_{2 1} x_{2 6} x_{2 8} - 288 x_1 x_2 x_8 x_{1 0} x_{1 6} x_{2 2} x_{2 4} x_{2 8} x_{3 0} + 360 x_{2 9}^{2} x_{1 4}^{2} x_3^{3} x_9 x_{1 2} x_{1 5} x_{1 7} x_{2 3} x_{3 1} + 360 x_{3 0}^{2} x_{1 4}^{2} x_3 x_9 x_{1 2} x_{1 5} x_{1 7} x_{2 3} x_{3 1} - 144 x_1 x_2 x_8 x_{1 0} x_{1 3} x_{2 0} x_{2 2} x_{2 6} x_{2 8} - 48 x_{1 4}^{2} x_3 x_{1 2} x_{1 5} x_{1 7} x_{2 3} x_{2 6} x_{3 0} x_{3 1} + 2160 x_3^{2} x_8 x_9 x_{1 2} x_{1 4} x_{1 5} x_{2 2} x_{2 9} x_{3 0} - 120 x_{2 9}^{2} x_{2 2}^{2} x_3^{3} x_2 x_5 x_{1 5} x_{1 9} x_{2 8} x_{3 0} + 180 x_3 x_4 x_{1 0} x_{1 2} x_{1 3} x_{1 6} x_{1 8} x_{2 0} x_{2 9} - 144 x_2 x_8 x_{1 3} x_{1 8} x_{2 0} x_{2 2} x_{2 5} x_{2 6} x_{2 9} - 288 x_1 x_2 x_8 x_{1 0} x_{1 3} x_{2 0} x_{2 2} x_{2 5} x_{2 8} - 96 x_{1 4}^{2} x_3^{2} x_{1 2} x_{1 5} x_{1 7} x_{2 3} x_{2 5} x_{2 9} x_{3 1} - 144 x_1 x_2 x_3 x_8 x_{1 0} x_{2 2} x_{2 6} x_{2 8} x_{2 9} - 288 x_3 x_8 x_{1 2} x_{1 4} x_{1 5} x_{1 6} x_{2 2} x_{2 4} x_{3 0} - 72 x_{2 6}^{2} x_{1 8}^{2} x_2 x_4 x_{1 0} x_{1 2} x_{1 6} x_{2 9} x_{3 0} - 240 x_{3 0}^{2} x_{2 2}^{2} x_3^{2} x_2 x_5 x_{1 5} x_{1 9} x_{2 8} x_{2 9} + 50 x_{2 9}^{2} x_2 x_4 x_{1 1} x_{1 8} x_{2 1} x_{2 6} x_{2 8} x_{3 0} - 240 x_{3 0}^{2} x_{2 2}^{2} x_2 x_{1 3} x_{1 5} x_{1 9} x_{2 0} x_{2 1} x_{2 5} - 900 x_{2 9}^{2} x_{1 1}^{2} x_3^{2} x_4 x_{1 3} x_{2 0} x_{2 1} x_{2 8} x_{3 1} - 120 x_{2 2}^{2} x_{2 0}^{2} x_{1 3}^{2} x_2 x_{1 5} x_{1 9} x_{2 1} x_{2 5} x_{3 0} + 100 x_{2 9}^{2} x_{2 8}^{2} x_1 x_2 x_3 x_4 x_{1 0} x_{1 1} x_{2 1} + 100 x_{2 8}^{2} x_1 x_2 x_4 x_{1 0} x_{1 1} x_{2 1} x_{2 9} x_{3 0} - 120 x_{2 9}^{2} x_{2 2}^{2} x_3^{2} x_2 x_{1 5} x_{1 9} x_{2 1} x_{2 5} x_{3 0} - 450 x_{2 0}^{2} x_{1 3}^{2} x_{1 1}^{2} x_3 x_4 x_{2 1} x_{2 8} x_{2 9} x_{3 1} + 10 x_{2 9}^{2} x_2^{2} x_3 x_{1 5} x_{1 8} x_{1 9} x_{2 2} x_{2 6} x_{3 0} - 288 x_1 x_2 x_3 x_8 x_{1 0} x_{2 2} x_{2 5} x_{2 8} x_{2 9} + 1080 x_{2 9}^{2} x_3^{2} x_1 x_2 x_8 x_9 x_{1 0} x_{2 2} x_{2 8} - 144 x_3 x_8 x_{1 2} x_{1 3} x_{1 4} x_{1 5} x_{2 0} x_{2 2} x_{2 6} - 24 x_{2 6}^{2} x_2 x_{1 4} x_{1 7} x_{1 8} x_{2 3} x_{2 9} x_{3 0} x_{3 1} + 1080 x_{2 0}^{2} x_{1 3}^{2} x_3 x_8 x_9 x_{1 2} x_{1 4} x_{1 5} x_{2 2} - 180 x_{3 0}^{2} x_3^{2} x_2 x_{1 1} x_{1 5} x_{1 9} x_{2 2} x_{2 9} x_{3 1} - 1200 x_{2 9}^{2} x_{2 8}^{2} x_3^{2} x_4 x_5 x_{1 1} x_{2 1} x_{2 2} x_{3 0} - 1200 x_{2 9}^{2} x_{2 1}^{2} x_3 x_4 x_{1 1} x_{2 2} x_{2 5} x_{2 8} x_{3 0} + 100 x_{2 9}^{2} x_3^{2} x_4 x_{1 1} x_{1 2} x_{1 4} x_{1 5} x_{2 1} x_{2 8} - 144 x_2 x_8 x_{1 6} x_{1 8} x_{2 2} x_{2 4} x_{2 6} x_{2 9} x_{3 0} - 288 x_3^{2} x_8 x_{1 2} x_{1 4} x_{1 5} x_{1 6} x_{2 2} x_{2 4} x_{2 9} - 48 x_{1 4}^{2} x_3^{2} x_{1 2} x_{1 5} x_{1 7} x_{2 3} x_{2 6} x_{2 9} x_{3 1} - 72 x_{2 9}^{2} x_{2 6}^{2} x_{1 8}^{2} x_2 x_3 x_4 x_{1 0} x_{1 2} x_{1 6} - 600 x_{2 1}^{2} x_{2 0}^{2} x_{1 3}^{2} x_4 x_{1 1} x_{2 2} x_{2 5} x_{2 8} x_{2 9} - 90 x_{2 9}^{2} x_3^{3} x_2 x_{1 1} x_{1 5} x_{1 9} x_{2 2} x_{3 0} x_{3 1} + 20 x_{1 5}^{2} x_3^{2} x_2 x_{1 2} x_{1 4} x_{1 9} x_{2 2} x_{2 9} x_{3 0} - 288 x_3 x_8 x_{1 2} x_{1 3} x_{1 4} x_{1 5} x_{2 0} x_{2 2} x_{2 5} - 96 x_1 x_2 x_{1 0} x_{1 4} x_{1 7} x_{2 3} x_{2 5} x_{2 8} x_{3 0} x_{3 1} + 1080 x_{3 0}^{2} x_{1 0}^{2} x_1 x_2 x_4 x_9 x_{1 2} x_{1 6} x_{1 8} x_{2 8} - 288 x_{1 2}^{2} x_3^{2} x_4 x_{1 0} x_{1 4} x_{1 5} x_{1 6} x_{1 8} x_{2 5} x_{2 9} + 100 x_3 x_4 x_{1 1} x_{1 2} x_{1 4} x_{1 5} x_{2 1} x_{2 8} x_{2 9} x_{3 0} + 1080 x_{3 0}^{2} x_{1 2}^{2} x_3 x_4 x_9 x_{1 0} x_{1 4} x_{1 5} x_{1 6} x_{1 8} - 144 x_{2 9}^{2} x_{1 8}^{2} x_2 x_3 x_4 x_{1 0} x_{1 2} x_{1 6} x_{2 5} x_{2 6} + 20 x_2^{2} x_1 x_{1 0} x_{1 3} x_{1 5} x_{1 9} x_{2 0} x_{2 2} x_{2 8} x_{3 0} - 48 x_1 x_2 x_{1 0} x_{1 4} x_{1 7} x_{2 3} x_{2 6} x_{2 8} x_{3 0} x_{3 1} - 1200 x_{2 9}^{2} x_{2 8}^{2} x_3^{2} x_4 x_5 x_{1 1} x_{1 3} x_{2 0} x_{2 1} x_{2 2} - 48 x_2 x_{1 4} x_{1 7} x_{1 8} x_{2 3} x_{2 5} x_{2 6} x_{2 9} x_{3 0} x_{3 1} - 288 x_{1 6}^{2} x_{1 2}^{2} x_3^{2} x_4 x_{1 0} x_{1 4} x_{1 5} x_{1 8} x_{2 4} x_{2 9} - 288 x_1 x_2 x_3 x_8 x_{1 0} x_{1 6} x_{2 2} x_{2 4} x_{2 8} x_{2 9} + 1080 x_{2 9}^{2} x_{1 2}^{2} x_3^{3} x_4 x_9 x_{1 0} x_{1 4} x_{1 5} x_{1 6} x_{1 8} + 20 x_2^{2} x_1 x_3 x_{1 0} x_{1 5} x_{1 9} x_{2 2} x_{2 8} x_{2 9} x_{3 0} + 720 x_{3 0}^{2} x_{2 2}^{2} x_{1 5}^{2} x_3^{2} x_2 x_8 x_{1 2} x_{1 4} x_{1 9} x_{2 9} + 720 x_{1 4}^{2} x_3^{2} x_9 x_{1 2} x_{1 5} x_{1 7} x_{2 3} x_{2 9} x_{3 0} x_{3 1} - 288 x_{1 6}^{2} x_{1 0}^{2} x_1 x_2 x_4 x_{1 2} x_{1 8} x_{2 4} x_{2 8} x_{3 0} - 24 x_{2 6}^{2} x_2 x_{1 3} x_{1 4} x_{1 7} x_{1 8} x_{2 0} x_{2 3} x_{2 9} x_{3 1} - 48 x_{1 4}^{2} x_3 x_{1 2} x_{1 3} x_{1 5} x_{1 7} x_{2 0} x_{2 3} x_{2 6} x_{3 1} - 1200 x_{2 9}^{2} x_{2 1}^{2} x_3 x_4 x_{1 1} x_{1 3} x_{2 0} x_{2 2} x_{2 5} x_{2 8} - 120 x_{2 2}^{2} x_{2 0}^{2} x_{1 3}^{2} x_2 x_3 x_5 x_{1 5} x_{1 9} x_{2 8} x_{3 0} + 360 x_{3 0}^{2} x_1 x_2 x_9 x_{1 0} x_{1 4} x_{1 7} x_{2 3} x_{2 8} x_{3 1} + 1080 x_{2 9}^{2} x_2 x_3 x_8 x_9 x_{1 3} x_{1 8} x_{2 0} x_{2 2} x_{2 6} + 10 x_2^{2} x_{1 3} x_{1 5} x_{1 8} x_{1 9} x_{2 0} x_{2 2} x_{2 6} x_{2 9} x_{3 0} - 144 x_{1 8}^{2} x_{1 6}^{2} x_2 x_4 x_{1 0} x_{1 2} x_{2 4} x_{2 6} x_{2 9} x_{3 0} + 180 x_{2 9}^{3} x_3^{2} x_2 x_9 x_{1 4} x_{1 7} x_{1 8} x_{2 3} x_{2 6} x_{3 1} + 360 x_{2 9}^{2} x_{2 2}^{2} x_{1 5}^{2} x_3^{3} x_2 x_8 x_{1 2} x_{1 4} x_{1 9} x_{3 0} + 540 x_{3 0}^{2} x_{1 8}^{2} x_2 x_4 x_9 x_{1 0} x_{1 2} x_{1 6} x_{2 6} x_{2 9} + 2160 x_1 x_2 x_3 x_8 x_9 x_{1 0} x_{2 2} x_{2 8} x_{2 9} x_{3 0} - 144 x_{1 2}^{2} x_3 x_4 x_{1 0} x_{1 4} x_{1 5} x_{1 6} x_{1 8} x_{2 6} x_{3 0} - 900 x_{1 1}^{2} x_3 x_4 x_{1 3} x_{2 0} x_{2 1} x_{2 8} x_{2 9} x_{3 0} x_{3 1} - 90 x_{2 0}^{2} x_{1 3}^{2} x_2 x_3 x_{1 1} x_{1 5} x_{1 9} x_{2 2} x_{3 0} x_{3 1} - 144 x_{2 9}^{2} x_{1 8}^{2} x_{1 6}^{2} x_2 x_3 x_4 x_{1 0} x_{1 2} x_{2 4} x_{2 6} + 360 x_{3 0}^{2} x_{2 9}^{2} x_{2 2}^{2} x_2^{2} x_3 x_8 x_{1 5} x_{1 8} x_{1 9} x_{2 6} + 2160 x_1 x_2 x_8 x_9 x_{1 0} x_{1 3} x_{2 0} x_{2 2} x_{2 8} x_{3 0} + 50 x_{2 9}^{2} x_2 x_4 x_{1 1} x_{1 3} x_{1 8} x_{2 0} x_{2 1} x_{2 6} x_{2 8} - 180 x_{3 0}^{2} x_2 x_3 x_{1 1} x_{1 3} x_{1 5} x_{1 9} x_{2 0} x_{2 2} x_{3 1} - 600 x_{2 8}^{2} x_{2 0}^{2} x_{1 3}^{2} x_3 x_4 x_5 x_{1 1} x_{2 1} x_{2 2} x_{2 9} - 288 x_{1 2}^{2} x_3 x_4 x_{1 0} x_{1 4} x_{1 5} x_{1 6} x_{1 8} x_{2 5} x_{3 0} - 144 x_{1 2}^{2} x_3^{2} x_4 x_{1 0} x_{1 4} x_{1 5} x_{1 6} x_{1 8} x_{2 6} x_{2 9} - 1200 x_{2 1}^{2} x_4 x_{1 1} x_{1 3} x_{2 0} x_{2 2} x_{2 5} x_{2 8} x_{2 9} x_{3 0} + 180 x_{3 0}^{2} x_2 x_9 x_{1 4} x_{1 7} x_{1 8} x_{2 3} x_{2 6} x_{2 9} x_{3 1} - 144 x_2 x_8 x_{1 3} x_{1 6} x_{1 8} x_{2 0} x_{2 2} x_{2 4} x_{2 6} x_{2 9} - 240 x_{3 0}^{2} x_{2 2}^{2} x_2 x_3 x_5 x_{1 3} x_{1 5} x_{1 9} x_{2 0} x_{2 8} - 144 x_{1 0}^{2} x_1 x_2 x_4 x_{1 2} x_{1 6} x_{1 8} x_{2 6} x_{2 8} x_{3 0} - 288 x_{1 0}^{2} x_1 x_2 x_4 x_{1 2} x_{1 6} x_{1 8} x_{2 5} x_{2 8} x_{3 0} + 100 x_{2 8}^{2} x_1 x_2 x_4 x_{1 0} x_{1 1} x_{1 3} x_{2 0} x_{2 1} x_{2 9} + 1080 x_2 x_8 x_9 x_{1 3} x_{1 8} x_{2 0} x_{2 2} x_{2 6} x_{2 9} x_{3 0} - 144 x_{1 8}^{2} x_2 x_4 x_{1 0} x_{1 2} x_{1 6} x_{2 5} x_{2 6} x_{2 9} x_{3 0} - 48 x_{2 9}^{2} x_2 x_3 x_{1 4} x_{1 7} x_{1 8} x_{2 3} x_{2 5} x_{2 6} x_{3 1} + 2160 x_3^{2} x_8 x_9 x_{1 2} x_{1 3} x_{1 4} x_{1 5} x_{2 0} x_{2 2} x_{2 9} - 288 x_{1 6}^{2} x_{1 2}^{2} x_3 x_4 x_{1 0} x_{1 4} x_{1 5} x_{1 8} x_{2 4} x_{3 0} - 288 x_3 x_8 x_{1 2} x_{1 3} x_{1 4} x_{1 5} x_{1 6} x_{2 0} x_{2 2} x_{2 4} - 96 x_{1 4}^{2} x_3^{2} x_{1 2} x_{1 5} x_{1 6} x_{1 7} x_{2 3} x_{2 4} x_{2 9} x_{3 1} - 96 x_{1 4}^{2} x_3 x_{1 2} x_{1 3} x_{1 5} x_{1 7} x_{2 0} x_{2 3} x_{2 5} x_{3 1} - 96 x_{1 4}^{2} x_3 x_{1 2} x_{1 5} x_{1 6} x_{1 7} x_{2 3} x_{2 4} x_{3 0} x_{3 1} + 360 x_{2 0}^{2} x_{1 4}^{2} x_{1 3}^{2} x_3 x_9 x_{1 2} x_{1 5} x_{1 7} x_{2 3} x_{3 1} - 288 x_1 x_2 x_8 x_{1 0} x_{1 3} x_{1 6} x_{2 0} x_{2 2} x_{2 4} x_{2 8} - 72 x_{2 6}^{2} x_{1 8}^{2} x_2 x_4 x_{1 0} x_{1 2} x_{1 3} x_{1 6} x_{2 0} x_{2 9} + 2160 x_3 x_8 x_9 x_{1 2} x_{1 3} x_{1 4} x_{1 5} x_{2 0} x_{2 2} x_{3 0} + 180 x_{2 9}^{3} x_{2 2}^{2} x_3^{2} x_2^{2} x_8 x_{1 5} x_{1 8} x_{1 9} x_{2 6} x_{3 0} + 540 x_{2 9}^{3} x_{1 8}^{2} x_3^{2} x_2 x_4 x_9 x_{1 0} x_{1 2} x_{1 6} x_{2 6} + 20 x_{1 5}^{2} x_2 x_3 x_{1 2} x_{1 3} x_{1 4} x_{1 9} x_{2 0} x_{2 2} x_{3 0} + 720 x_{3 0}^{2} x_{2 2}^{2} x_{1 5}^{2} x_2 x_3 x_8 x_{1 2} x_{1 3} x_{1 4} x_{1 9} x_{2 0} - 288 x_{1 6}^{2} x_{1 0}^{2} x_1 x_2 x_3 x_4 x_{1 2} x_{1 8} x_{2 4} x_{2 8} x_{2 9} + 720 x_{3 0}^{2} x_{2 2}^{2} x_2^{2} x_1 x_8 x_{1 0} x_{1 3} x_{1 5} x_{1 9} x_{2 0} x_{2 8} - 240 x_{2 2}^{2} x_3^{2} x_2 x_5 x_{1 3} x_{1 5} x_{1 9} x_{2 0} x_{2 8} x_{2 9} x_{3 0} + 360 x_{2 9}^{2} x_{2 2}^{2} x_3^{2} x_2^{2} x_1 x_8 x_{1 0} x_{1 5} x_{1 9} x_{2 8} x_{3 0} + 1080 x_{2 0}^{2} x_{1 3}^{2} x_{1 0}^{2} x_1 x_2 x_4 x_9 x_{1 2} x_{1 6} x_{1 8} x_{2 8} + 720 x_{3 0}^{2} x_{2 2}^{2} x_2^{2} x_1 x_3 x_8 x_{1 0} x_{1 5} x_{1 9} x_{2 8} x_{2 9} + 1080 x_{2 9}^{2} x_{1 8}^{2} x_2 x_3 x_4 x_9 x_{1 0} x_{1 2} x_{1 6} x_{2 6} x_{3 0} - 96 x_1 x_2 x_{1 0} x_{1 4} x_{1 6} x_{1 7} x_{2 3} x_{2 4} x_{2 8} x_{3 0} x_{3 1} - 288 x_{1 6}^{2} x_{1 0}^{2} x_1 x_2 x_4 x_{1 2} x_{1 3} x_{1 8} x_{2 0} x_{2 4} x_{2 8} - 288 x_{1 0}^{2} x_1 x_2 x_3 x_4 x_{1 2} x_{1 6} x_{1 8} x_{2 5} x_{2 8} x_{2 9} - 48 x_2 x_{1 4} x_{1 6} x_{1 7} x_{1 8} x_{2 3} x_{2 4} x_{2 6} x_{2 9} x_{3 0} x_{3 1} - 144 x_{1 0}^{2} x_1 x_2 x_3 x_4 x_{1 2} x_{1 6} x_{1 8} x_{2 6} x_{2 8} x_{2 9} - 288 x_{1 0}^{2} x_1 x_2 x_4 x_{1 2} x_{1 3} x_{1 6} x_{1 8} x_{2 0} x_{2 5} x_{2 8} - 96 x_1 x_2 x_3 x_{1 0} x_{1 4} x_{1 7} x_{2 3} x_{2 5} x_{2 8} x_{2 9} x_{3 1} + 1800 x_{2 9}^{3} x_3^{3} x_4 x_8 x_{1 1} x_{1 2} x_{1 4} x_{1 5} x_{2 1} x_{2 2} x_{2 8} - 288 x_{1 6}^{2} x_{1 2}^{2} x_3 x_4 x_{1 0} x_{1 3} x_{1 4} x_{1 5} x_{1 8} x_{2 0} x_{2 4} - 288 x_{1 2}^{2} x_3 x_4 x_{1 0} x_{1 3} x_{1 4} x_{1 5} x_{1 6} x_{1 8} x_{2 0} x_{2 5} + 720 x_{1 4}^{2} x_3 x_9 x_{1 2} x_{1 3} x_{1 5} x_{1 7} x_{2 0} x_{2 3} x_{3 0} x_{3 1} + 900 x_{2 9}^{4} x_3^{2} x_2 x_4 x_8 x_{1 1} x_{1 8} x_{2 1} x_{2 2} x_{2 6} x_{2 8} + 180 x_{2 2}^{2} x_{2 0}^{2} x_{1 3}^{2} x_2^{2} x_8 x_{1 5} x_{1 8} x_{1 9} x_{2 6} x_{2 9} x_{3 0} - 96 x_{1 4}^{2} x_3 x_{1 2} x_{1 3} x_{1 5} x_{1 6} x_{1 7} x_{2 0} x_{2 3} x_{2 4} x_{3 1} + 1080 x_{2 9}^{2} x_{1 0}^{2} x_3^{2} x_1 x_2 x_4 x_9 x_{1 2} x_{1 6} x_{1 8} x_{2 8} + 360 x_{2 2}^{2} x_{2 0}^{2} x_{1 5}^{2} x_{1 3}^{2} x_2 x_3 x_8 x_{1 2} x_{1 4} x_{1 9} x_{3 0} + 360 x_{2 0}^{2} x_{1 3}^{2} x_1 x_2 x_9 x_{1 0} x_{1 4} x_{1 7} x_{2 3} x_{2 8} x_{3 1} + 2160 x_1 x_2 x_3 x_8 x_9 x_{1 0} x_{1 3} x_{2 0} x_{2 2} x_{2 8} x_{2 9} + 360 x_{3 0}^{2} x_{2 2}^{2} x_2^{2} x_8 x_{1 3} x_{1 5} x_{1 8} x_{1 9} x_{2 0} x_{2 6} x_{2 9} + 1800 x_{2 9}^{3} x_{2 8}^{2} x_3^{2} x_1 x_2 x_4 x_8 x_{1 0} x_{1 1} x_{2 1} x_{2 2} - 144 x_{1 8}^{2} x_2 x_4 x_{1 0} x_{1 2} x_{1 3} x_{1 6} x_{2 0} x_{2 5} x_{2 6} x_{2 9} - 144 x_{1 2}^{2} x_3 x_4 x_{1 0} x_{1 3} x_{1 4} x_{1 5} x_{1 6} x_{1 8} x_{2 0} x_{2 6} + 180 x_{2 0}^{2} x_{1 3}^{2} x_2 x_9 x_{1 4} x_{1 7} x_{1 8} x_{2 3} x_{2 6} x_{2 9} x_{3 1} + 120 x_{3 0}^{3} x_{1 5}^{2} x_{1 4}^{2} x_2 x_3 x_{1 2} x_{1 7} x_{1 9} x_{2 2} x_{2 3} x_{3 1} + 360 x_{2 2}^{2} x_{2 0}^{2} x_{1 3}^{2} x_2^{2} x_1 x_8 x_{1 0} x_{1 5} x_{1 9} x_{2 8} x_{3 0} + 720 x_{1 4}^{2} x_3^{2} x_9 x_{1 2} x_{1 3} x_{1 5} x_{1 7} x_{2 0} x_{2 3} x_{2 9} x_{3 1} - 1200 x_{2 8}^{2} x_3 x_4 x_5 x_{1 1} x_{1 3} x_{2 0} x_{2 1} x_{2 2} x_{2 9} x_{3 0} - 48 x_2 x_{1 3} x_{1 4} x_{1 7} x_{1 8} x_{2 0} x_{2 3} x_{2 5} x_{2 6} x_{2 9} x_{3 1} - 144 x_{1 0}^{2} x_1 x_2 x_4 x_{1 2} x_{1 3} x_{1 6} x_{1 8} x_{2 0} x_{2 6} x_{2 8} - 240 x_{2 2}^{2} x_2 x_3 x_{1 3} x_{1 5} x_{1 9} x_{2 0} x_{2 1} x_{2 5} x_{2 9} x_{3 0} - 48 x_1 x_2 x_{1 0} x_{1 3} x_{1 4} x_{1 7} x_{2 0} x_{2 3} x_{2 6} x_{2 8} x_{3 1} + 2160 x_{1 2}^{2} x_3^{2} x_4 x_9 x_{1 0} x_{1 4} x_{1 5} x_{1 6} x_{1 8} x_{2 9} x_{3 0} + 360 x_{2 9}^{2} x_2 x_3 x_9 x_{1 4} x_{1 7} x_{1 8} x_{2 3} x_{2 6} x_{3 0} x_{3 1} + 1080 x_{2 0}^{2} x_{1 3}^{2} x_{1 2}^{2} x_3 x_4 x_9 x_{1 0} x_{1 4} x_{1 5} x_{1 6} x_{1 8} - 144 x_{1 8}^{2} x_{1 6}^{2} x_2 x_4 x_{1 0} x_{1 2} x_{1 3} x_{2 0} x_{2 4} x_{2 6} x_{2 9} + 100 x_3 x_4 x_{1 1} x_{1 2} x_{1 3} x_{1 4} x_{1 5} x_{2 0} x_{2 1} x_{2 8} x_{2 9} - 48 x_{2 9}^{2} x_2 x_3 x_{1 4} x_{1 6} x_{1 7} x_{1 8} x_{2 3} x_{2 4} x_{2 6} x_{3 1} + 900 x_{3 0}^{2} x_{2 9}^{2} x_2 x_4 x_8 x_{1 1} x_{1 8} x_{2 1} x_{2 2} x_{2 6} x_{2 8} + 360 x_{2 9}^{2} x_3^{2} x_1 x_2 x_9 x_{1 0} x_{1 4} x_{1 7} x_{2 3} x_{2 8} x_{3 1} + 1800 x_{3 0}^{2} x_{2 8}^{2} x_1 x_2 x_4 x_8 x_{1 0} x_{1 1} x_{2 1} x_{2 2} x_{2 9} - 96 x_1 x_2 x_{1 0} x_{1 3} x_{1 4} x_{1 7} x_{2 0} x_{2 3} x_{2 5} x_{2 8} x_{3 1} - 180 x_3^{2} x_2 x_{1 1} x_{1 3} x_{1 5} x_{1 9} x_{2 0} x_{2 2} x_{2 9} x_{3 0} x_{3 1} - 48 x_1 x_2 x_3 x_{1 0} x_{1 4} x_{1 7} x_{2 3} x_{2 6} x_{2 8} x_{2 9} x_{3 1} + 540 x_{2 0}^{2} x_{1 8}^{2} x_{1 3}^{2} x_2 x_4 x_9 x_{1 0} x_{1 2} x_{1 6} x_{2 6} x_{2 9} + 240 x_{3 0}^{2} x_{1 5}^{2} x_{1 4}^{2} x_3^{2} x_2 x_{1 2} x_{1 7} x_{1 9} x_{2 2} x_{2 3} x_{2 9} x_{3 1} + 3600 x_{2 9}^{2} x_3^{2} x_4 x_8 x_{1 1} x_{1 2} x_{1 4} x_{1 5} x_{2 1} x_{2 2} x_{2 8} x_{3 0} + 360 x_{3 0}^{3} x_{1 5}^{2} x_{1 2}^{2} x_2 x_3 x_4 x_{1 0} x_{1 4} x_{1 6} x_{1 8} x_{1 9} x_{2 2} + 1800 x_{2 9}^{3} x_2 x_3 x_4 x_8 x_{1 1} x_{1 8} x_{2 1} x_{2 2} x_{2 6} x_{2 8} x_{3 0} + 120 x_{3 0}^{3} x_2^{2} x_1 x_{1 0} x_{1 4} x_{1 5} x_{1 7} x_{1 9} x_{2 2} x_{2 3} x_{2 8} x_{3 1} + 60 x_{3 0}^{3} x_2^{2} x_{1 4} x_{1 5} x_{1 7} x_{1 8} x_{1 9} x_{2 2} x_{2 3} x_{2 6} x_{2 9} x_{3 1} + 900 x_{2 9}^{2} x_{2 0}^{2} x_{1 3}^{2} x_2 x_4 x_8 x_{1 1} x_{1 8} x_{2 1} x_{2 2} x_{2 6} x_{2 8} + 2160 x_{1 0}^{2} x_1 x_2 x_3 x_4 x_9 x_{1 2} x_{1 6} x_{1 8} x_{2 8} x_{2 9} x_{3 0} + 900 x_{3 0}^{2} x_{2 9}^{2} x_{1 8}^{2} x_4^{2} x_2 x_{1 0} x_{1 1} x_{1 2} x_{1 6} x_{2 1} x_{2 6} x_{2 8} + 120 x_{2 9}^{2} x_{1 5}^{2} x_{1 4}^{2} x_3^{3} x_2 x_{1 2} x_{1 7} x_{1 9} x_{2 2} x_{2 3} x_{3 0} x_{3 1} + 1800 x_{3 0}^{2} x_{2 8}^{2} x_{1 0}^{2} x_4^{2} x_1 x_2 x_{1 1} x_{1 2} x_{1 6} x_{1 8} x_{2 1} x_{2 9} - 96 x_1 x_2 x_{1 0} x_{1 3} x_{1 4} x_{1 6} x_{1 7} x_{2 0} x_{2 3} x_{2 4} x_{2 8} x_{3 1} + 360 x_2 x_9 x_{1 3} x_{1 4} x_{1 7} x_{1 8} x_{2 0} x_{2 3} x_{2 6} x_{2 9} x_{3 0} x_{3 1} + 1800 x_{2 8}^{2} x_{2 0}^{2} x_{1 3}^{2} x_1 x_2 x_4 x_8 x_{1 0} x_{1 1} x_{2 1} x_{2 2} x_{2 9} + 1800 x_{2 9}^{3} x_{2 8}^{2} x_{1 0}^{2} x_4^{2} x_3^{2} x_1 x_2 x_{1 1} x_{1 2} x_{1 6} x_{1 8} x_{2 1} + 720 x_1 x_2 x_3 x_9 x_{1 0} x_{1 4} x_{1 7} x_{2 3} x_{2 8} x_{2 9} x_{3 0} x_{3 1} + 1800 x_{2 9}^{3} x_{1 2}^{2} x_4^{2} x_3^{3} x_{1 0} x_{1 1} x_{1 4} x_{1 5} x_{1 6} x_{1 8} x_{2 1} x_{2 8} + 1080 x_{2 9}^{2} x_{1 8}^{2} x_2 x_3 x_4 x_9 x_{1 0} x_{1 2} x_{1 3} x_{1 6} x_{2 0} x_{2 6} + 1800 x_{3 0}^{2} x_3 x_4 x_8 x_{1 1} x_{1 2} x_{1 4} x_{1 5} x_{2 1} x_{2 2} x_{2 8} x_{2 9} + 1080 x_{1 8}^{2} x_2 x_4 x_9 x_{1 0} x_{1 2} x_{1 3} x_{1 6} x_{2 0} x_{2 6} x_{2 9} x_{3 0} + 360 x_{2 9}^{2} x_2 x_3 x_9 x_{1 3} x_{1 4} x_{1 7} x_{1 8} x_{2 0} x_{2 3} x_{2 6} x_{3 1} + 2160 x_{1 2}^{2} x_3 x_4 x_9 x_{1 0} x_{1 3} x_{1 4} x_{1 5} x_{1 6} x_{1 8} x_{2 0} x_{3 0} + 180 x_{3 0}^{3} x_{1 8}^{2} x_2^{2} x_4 x_{1 0} x_{1 2} x_{1 5} x_{1 6} x_{1 9} x_{2 2} x_{2 6} x_{2 9} - 48 x_2 x_{1 3} x_{1 4} x_{1 6} x_{1 7} x_{1 8} x_{2 0} x_{2 3} x_{2 4} x_{2 6} x_{2 9} x_{3 1} + 720 x_{2 2}^{2} x_{1 5}^{2} x_3^{2} x_2 x_8 x_{1 2} x_{1 3} x_{1 4} x_{1 9} x_{2 0} x_{2 9} x_{3 0} + 2160 x_{1 0}^{2} x_1 x_2 x_4 x_9 x_{1 2} x_{1 3} x_{1 6} x_{1 8} x_{2 0} x_{2 8} x_{3 0} + 2160 x_{1 2}^{2} x_3^{2} x_4 x_9 x_{1 0} x_{1 3} x_{1 4} x_{1 5} x_{1 6} x_{1 8} x_{2 0} x_{2 9} + 3600 x_{2 9}^{2} x_{2 8}^{2} x_1 x_2 x_3 x_4 x_8 x_{1 0} x_{1 1} x_{2 1} x_{2 2} x_{3 0} + 600 x_{2 9}^{3} x_{1 4}^{2} x_3^{3} x_4 x_{1 1} x_{1 2} x_{1 5} x_{1 7} x_{2 1} x_{2 3} x_{2 8} x_{3 1} - 96 x_1 x_2 x_3 x_{1 0} x_{1 4} x_{1 6} x_{1 7} x_{2 3} x_{2 4} x_{2 8} x_{2 9} x_{3 1} + 360 x_{2 9}^{2} x_{2 2}^{2} x_2^{2} x_3 x_8 x_{1 3} x_{1 5} x_{1 8} x_{1 9} x_{2 0} x_{2 6} x_{3 0} + 720 x_1 x_2 x_9 x_{1 0} x_{1 3} x_{1 4} x_{1 7} x_{2 0} x_{2 3} x_{2 8} x_{3 0} x_{3 1} + 900 x_{2 9}^{4} x_{1 8}^{2} x_4^{2} x_3^{2} x_2 x_{1 0} x_{1 1} x_{1 2} x_{1 6} x_{2 1} x_{2 6} x_{2 8} + 360 x_{3 0}^{3} x_{1 0}^{2} x_2^{2} x_1 x_4 x_{1 2} x_{1 5} x_{1 6} x_{1 8} x_{1 9} x_{2 2} x_{2 8} + 240 x_{3 0}^{2} x_{1 5}^{2} x_{1 4}^{2} x_2 x_3 x_{1 2} x_{1 3} x_{1 7} x_{1 9} x_{2 0} x_{2 2} x_{2 3} x_{3 1} + 360 x_{3 0}^{2} x_{2 9}^{2} x_{1 8}^{2} x_2^{2} x_3 x_4 x_{1 0} x_{1 2} x_{1 5} x_{1 6} x_{1 9} x_{2 2} x_{2 6} + 900 x_{2 9}^{2} x_{2 0}^{2} x_{1 8}^{2} x_{1 3}^{2} x_4^{2} x_2 x_{1 0} x_{1 1} x_{1 2} x_{1 6} x_{2 1} x_{2 6} x_{2 8} + 3600 x_{2 9}^{2} x_{2 8}^{2} x_1 x_2 x_3 x_4 x_8 x_{1 0} x_{1 1} x_{1 3} x_{2 0} x_{2 1} x_{2 2} + 3600 x_{2 8}^{2} x_1 x_2 x_4 x_8 x_{1 0} x_{1 1} x_{1 3} x_{2 0} x_{2 1} x_{2 2} x_{2 9} x_{3 0} + 1800 x_{2 0}^{2} x_{1 3}^{2} x_3 x_4 x_8 x_{1 1} x_{1 2} x_{1 4} x_{1 5} x_{2 1} x_{2 2} x_{2 8} x_{2 9} + 1800 x_{3 0}^{2} x_{1 2}^{2} x_4^{2} x_3 x_{1 0} x_{1 1} x_{1 4} x_{1 5} x_{1 6} x_{1 8} x_{2 1} x_{2 8} x_{2 9} + 1800 x_{2 9}^{3} x_2 x_3 x_4 x_8 x_{1 1} x_{1 3} x_{1 8} x_{2 0} x_{2 1} x_{2 2} x_{2 6} x_{2 8} + 3600 x_{2 9}^{2} x_3^{2} x_4 x_8 x_{1 1} x_{1 2} x_{1 3} x_{1 4} x_{1 5} x_{2 0} x_{2 1} x_{2 2} x_{2 8} + 180 x_{2 9}^{3} x_{1 8}^{2} x_3^{2} x_2^{2} x_4 x_{1 0} x_{1 2} x_{1 5} x_{1 6} x_{1 9} x_{2 2} x_{2 6} x_{3 0} + 300 x_{3 0}^{2} x_{2 9}^{2} x_2 x_4 x_{1 1} x_{1 4} x_{1 7} x_{1 8} x_{2 1} x_{2 3} x_{2 6} x_{2 8} x_{3 1} + 2160 x_{1 0}^{2} x_1 x_2 x_3 x_4 x_9 x_{1 2} x_{1 3} x_{1 6} x_{1 8} x_{2 0} x_{2 8} x_{2 9} + 600 x_{2 9}^{3} x_{2 8}^{2} x_3^{2} x_1 x_2 x_4 x_{1 0} x_{1 1} x_{1 4} x_{1 7} x_{2 1} x_{2 3} x_{3 1} + 600 x_{3 0}^{2} x_{1 4}^{2} x_3 x_4 x_{1 1} x_{1 2} x_{1 5} x_{1 7} x_{2 1} x_{2 3} x_{2 8} x_{2 9} x_{3 1} + 60 x_{2 9}^{3} x_3^{2} x_2^{2} x_{1 4} x_{1 5} x_{1 7} x_{1 8} x_{1 9} x_{2 2} x_{2 3} x_{2 6} x_{3 0} x_{3 1} + 720 x_{3 0}^{2} x_{1 5}^{2} x_{1 2}^{2} x_3^{2} x_2 x_4 x_{1 0} x_{1 4} x_{1 6} x_{1 8} x_{1 9} x_{2 2} x_{2 9} + 1200 x_{2 9}^{2} x_{1 4}^{2} x_3^{2} x_4 x_{1 1} x_{1 2} x_{1 5} x_{1 7} x_{2 1} x_{2 3} x_{2 8} x_{3 0} x_{3 1} + 3600 x_{2 9}^{2} x_{2 8}^{2} x_{1 0}^{2} x_4^{2} x_1 x_2 x_3 x_{1 1} x_{1 2} x_{1 6} x_{1 8} x_{2 1} x_{3 0} + 120 x_{2 0}^{2} x_{1 5}^{2} x_{1 4}^{2} x_{1 3}^{2} x_2 x_3 x_{1 2} x_{1 7} x_{1 9} x_{2 2} x_{2 3} x_{3 0} x_{3 1} + 3600 x_{2 9}^{2} x_{1 2}^{2} x_4^{2} x_3^{2} x_{1 0} x_{1 1} x_{1 4} x_{1 5} x_{1 6} x_{1 8} x_{2 1} x_{2 8} x_{3 0} + 360 x_{2 9}^{2} x_{1 5}^{2} x_{1 2}^{2} x_3^{3} x_2 x_4 x_{1 0} x_{1 4} x_{1 6} x_{1 8} x_{1 9} x_{2 2} x_{3 0} + 1800 x_{2 9}^{3} x_{1 8}^{2} x_4^{2} x_2 x_3 x_{1 0} x_{1 1} x_{1 2} x_{1 6} x_{2 1} x_{2 6} x_{2 8} x_{3 0} + 1800 x_{2 9}^{2} x_2 x_4 x_8 x_{1 1} x_{1 3} x_{1 8} x_{2 0} x_{2 1} x_{2 2} x_{2 6} x_{2 8} x_{3 0} + 120 x_{3 0}^{2} x_{2 9}^{2} x_2^{2} x_3 x_{1 4} x_{1 5} x_{1 7} x_{1 8} x_{1 9} x_{2 2} x_{2 3} x_{2 6} x_{3 1} + 720 x_{2 2}^{2} x_2^{2} x_1 x_3 x_8 x_{1 0} x_{1 3} x_{1 5} x_{1 9} x_{2 0} x_{2 8} x_{2 9} x_{3 0} + 600 x_{3 0}^{2} x_{2 8}^{2} x_1 x_2 x_4 x_{1 0} x_{1 1} x_{1 4} x_{1 7} x_{2 1} x_{2 3} x_{2 9} x_{3 1} + 720 x_1 x_2 x_3 x_9 x_{1 0} x_{1 3} x_{1 4} x_{1 7} x_{2 0} x_{2 3} x_{2 8} x_{2 9} x_{3 1} + 1800 x_{2 8}^{2} x_{2 0}^{2} x_{1 3}^{2} x_{1 0}^{2} x_4^{2} x_1 x_2 x_{1 1} x_{1 2} x_{1 6} x_{1 8} x_{2 1} x_{2 9} + 300 x_{2 9}^{4} x_3^{2} x_2 x_4 x_{1 1} x_{1 4} x_{1 7} x_{1 8} x_{2 1} x_{2 3} x_{2 6} x_{2 8} x_{3 1} + 180 x_{2 0}^{2} x_{1 8}^{2} x_{1 3}^{2} x_2^{2} x_4 x_{1 0} x_{1 2} x_{1 5} x_{1 6} x_{1 9} x_{2 2} x_{2 6} x_{2 9} x_{3 0} + 360 x_{2 9}^{2} x_{1 0}^{2} x_3^{2} x_2^{2} x_1 x_4 x_{1 2} x_{1 5} x_{1 6} x_{1 8} x_{1 9} x_{2 2} x_{2 8} x_{3 0} + 120 x_{2 0}^{2} x_{1 3}^{2} x_2^{2} x_1 x_{1 0} x_{1 4} x_{1 5} x_{1 7} x_{1 9} x_{2 2} x_{2 3} x_{2 8} x_{3 0} x_{3 1} + 120 x_{2 9}^{2} x_3^{2} x_2^{2} x_1 x_{1 0} x_{1 4} x_{1 5} x_{1 7} x_{1 9} x_{2 2} x_{2 3} x_{2 8} x_{3 0} x_{3 1} + 360 x_{3 0}^{2} x_{1 8}^{2} x_2^{2} x_4 x_{1 0} x_{1 2} x_{1 3} x_{1 5} x_{1 6} x_{1 9} x_{2 0} x_{2 2} x_{2 6} x_{2 9} + 600 x_{2 8}^{2} x_{2 0}^{2} x_{1 3}^{2} x_1 x_2 x_4 x_{1 0} x_{1 1} x_{1 4} x_{1 7} x_{2 1} x_{2 3} x_{2 9} x_{3 1} + 600 x_{2 9}^{3} x_2 x_3 x_4 x_{1 1} x_{1 4} x_{1 7} x_{1 8} x_{2 1} x_{2 3} x_{2 6} x_{2 8} x_{3 0} x_{3 1} + 3600 x_{2 8}^{2} x_{1 0}^{2} x_4^{2} x_1 x_2 x_{1 1} x_{1 2} x_{1 3} x_{1 6} x_{1 8} x_{2 0} x_{2 1} x_{2 9} x_{3 0} + 720 x_{3 0}^{2} x_{1 5}^{2} x_{1 2}^{2} x_2 x_3 x_4 x_{1 0} x_{1 3} x_{1 4} x_{1 6} x_{1 8} x_{1 9} x_{2 0} x_{2 2} + 360 x_{2 0}^{2} x_{1 3}^{2} x_{1 0}^{2} x_2^{2} x_1 x_4 x_{1 2} x_{1 5} x_{1 6} x_{1 8} x_{1 9} x_{2 2} x_{2 8} x_{3 0} + 720 x_{3 0}^{2} x_{1 0}^{2} x_2^{2} x_1 x_4 x_{1 2} x_{1 3} x_{1 5} x_{1 6} x_{1 8} x_{1 9} x_{2 0} x_{2 2} x_{2 8} + 1800 x_{2 0}^{2} x_{1 3}^{2} x_{1 2}^{2} x_4^{2} x_3 x_{1 0} x_{1 1} x_{1 4} x_{1 5} x_{1 6} x_{1 8} x_{2 1} x_{2 8} x_{2 9} + 1800 x_{2 9}^{3} x_{1 8}^{2} x_4^{2} x_2 x_3 x_{1 0} x_{1 1} x_{1 2} x_{1 3} x_{1 6} x_{2 0} x_{2 1} x_{2 6} x_{2 8} + 3600 x_3 x_4 x_8 x_{1 1} x_{1 2} x_{1 3} x_{1 4} x_{1 5} x_{2 0} x_{2 1} x_{2 2} x_{2 8} x_{2 9} x_{3 0} + 1200 x_{2 9}^{2} x_{1 4}^{2} x_3^{2} x_4 x_{1 1} x_{1 2} x_{1 3} x_{1 5} x_{1 7} x_{2 0} x_{2 1} x_{2 3} x_{2 8} x_{3 1} + 720 x_{3 0}^{2} x_{1 0}^{2} x_2^{2} x_1 x_3 x_4 x_{1 2} x_{1 5} x_{1 6} x_{1 8} x_{1 9} x_{2 2} x_{2 8} x_{2 9} + 240 x_{3 0}^{2} x_2^{2} x_1 x_{1 0} x_{1 3} x_{1 4} x_{1 5} x_{1 7} x_{1 9} x_{2 0} x_{2 2} x_{2 3} x_{2 8} x_{3 1} + 600 x_{2 0}^{2} x_{1 4}^{2} x_{1 3}^{2} x_3 x_4 x_{1 1} x_{1 2} x_{1 5} x_{1 7} x_{2 1} x_{2 3} x_{2 8} x_{2 9} x_{3 1} + 300 x_{2 9}^{2} x_{2 0}^{2} x_{1 3}^{2} x_2 x_4 x_{1 1} x_{1 4} x_{1 7} x_{1 8} x_{2 1} x_{2 3} x_{2 6} x_{2 8} x_{3 1} + 240 x_{3 0}^{2} x_2^{2} x_1 x_3 x_{1 0} x_{1 4} x_{1 5} x_{1 7} x_{1 9} x_{2 2} x_{2 3} x_{2 8} x_{2 9} x_{3 1} + 3600 x_{2 9}^{2} x_{2 8}^{2} x_{1 0}^{2} x_4^{2} x_1 x_2 x_3 x_{1 1} x_{1 2} x_{1 3} x_{1 6} x_{1 8} x_{2 0} x_{2 1} + 240 x_{1 5}^{2} x_{1 4}^{2} x_3^{2} x_2 x_{1 2} x_{1 3} x_{1 7} x_{1 9} x_{2 0} x_{2 2} x_{2 3} x_{2 9} x_{3 0} x_{3 1} + 1800 x_{2 9}^{2} x_{1 8}^{2} x_4^{2} x_2 x_{1 0} x_{1 1} x_{1 2} x_{1 3} x_{1 6} x_{2 0} x_{2 1} x_{2 6} x_{2 8} x_{3 0} + 120 x_{3 0}^{2} x_2^{2} x_{1 3} x_{1 4} x_{1 5} x_{1 7} x_{1 8} x_{1 9} x_{2 0} x_{2 2} x_{2 3} x_{2 6} x_{2 9} x_{3 1} + 360 x_{2 0}^{2} x_{1 5}^{2} x_{1 3}^{2} x_{1 2}^{2} x_2 x_3 x_4 x_{1 0} x_{1 4} x_{1 6} x_{1 8} x_{1 9} x_{2 2} x_{3 0} + 60 x_{2 0}^{2} x_{1 3}^{2} x_2^{2} x_{1 4} x_{1 5} x_{1 7} x_{1 8} x_{1 9} x_{2 2} x_{2 3} x_{2 6} x_{2 9} x_{3 0} x_{3 1} + 3600 x_{2 9}^{2} x_{1 2}^{2} x_4^{2} x_3^{2} x_{1 0} x_{1 1} x_{1 3} x_{1 4} x_{1 5} x_{1 6} x_{1 8} x_{2 0} x_{2 1} x_{2 8} + 1200 x_{2 9}^{2} x_{2 8}^{2} x_1 x_2 x_3 x_4 x_{1 0} x_{1 1} x_{1 4} x_{1 7} x_{2 1} x_{2 3} x_{3 0} x_{3 1} + 720 x_{1 5}^{2} x_{1 2}^{2} x_3^{2} x_2 x_4 x_{1 0} x_{1 3} x_{1 4} x_{1 6} x_{1 8} x_{1 9} x_{2 0} x_{2 2} x_{2 9} x_{3 0} + 1200 x_{2 9}^{2} x_{2 8}^{2} x_1 x_2 x_3 x_4 x_{1 0} x_{1 1} x_{1 3} x_{1 4} x_{1 7} x_{2 0} x_{2 1} x_{2 3} x_{3 1} + 360 x_{2 9}^{2} x_{1 8}^{2} x_2^{2} x_3 x_4 x_{1 0} x_{1 2} x_{1 3} x_{1 5} x_{1 6} x_{1 9} x_{2 0} x_{2 2} x_{2 6} x_{3 0} + 600 x_{2 9}^{2} x_2 x_4 x_{1 1} x_{1 3} x_{1 4} x_{1 7} x_{1 8} x_{2 0} x_{2 1} x_{2 3} x_{2 6} x_{2 8} x_{3 0} x_{3 1} + 1200 x_{2 8}^{2} x_1 x_2 x_4 x_{1 0} x_{1 1} x_{1 3} x_{1 4} x_{1 7} x_{2 0} x_{2 1} x_{2 3} x_{2 9} x_{3 0} x_{3 1} + 1200 x_{1 4}^{2} x_3 x_4 x_{1 1} x_{1 2} x_{1 3} x_{1 5} x_{1 7} x_{2 0} x_{2 1} x_{2 3} x_{2 8} x_{2 9} x_{3 0} x_{3 1} + 3600 x_{1 2}^{2} x_4^{2} x_3 x_{1 0} x_{1 1} x_{1 3} x_{1 4} x_{1 5} x_{1 6} x_{1 8} x_{2 0} x_{2 1} x_{2 8} x_{2 9} x_{3 0} + 600 x_{2 9}^{3} x_2 x_3 x_4 x_{1 1} x_{1 3} x_{1 4} x_{1 7} x_{1 8} x_{2 0} x_{2 1} x_{2 3} x_{2 6} x_{2 8} x_{3 1} + 120 x_{2 9}^{2} x_2^{2} x_3 x_{1 3} x_{1 4} x_{1 5} x_{1 7} x_{1 8} x_{1 9} x_{2 0} x_{2 2} x_{2 3} x_{2 6} x_{3 0} x_{3 1} + 720 x_{1 0}^{2} x_2^{2} x_1 x_3 x_4 x_{1 2} x_{1 3} x_{1 5} x_{1 6} x_{1 8} x_{1 9} x_{2 0} x_{2 2} x_{2 8} x_{2 9} x_{3 0} + 240 x_2^{2} x_1 x_3 x_{1 0} x_{1 3} x_{1 4} x_{1 5} x_{1 7} x_{1 9} x_{2 0} x_{2 2} x_{2 3} x_{2 8} x_{2 9} x_{3 0} x_{3 1} & 0.0 \\\\\n",
       "0 &  - 18 x_8 x_{2 2} x_{3 0} - 18 x_3 x_8 x_{2 2} x_{2 9} - 18 x_8 x_{1 3} x_{2 0} x_{2 2} - 12 x_1 x_2 x_9 x_{1 0} x_{2 8} + 54 x_3 x_9 x_{1 1} x_{3 0} x_{3 1} - 12 x_3 x_9 x_{1 2} x_{1 4} x_{1 5} - 6 x_2 x_9 x_{1 8} x_{2 6} x_{2 9} - 6 x_{1 4} x_{1 7} x_{2 3} x_{3 0} x_{3 1} + 54 x_3^{2} x_9 x_{1 1} x_{2 9} x_{3 1} + 72 x_9 x_{2 1} x_{2 2} x_{2 5} x_{3 0} + 72 x_3^{2} x_5 x_9 x_{2 2} x_{2 8} x_{2 9} - 18 x_4 x_{1 0} x_{1 2} x_{1 6} x_{1 8} x_{3 0} + 72 x_9 x_{1 3} x_{2 0} x_{2 1} x_{2 2} x_{2 5} - 6 x_3 x_{1 4} x_{1 7} x_{2 3} x_{2 9} x_{3 1} + 72 x_3 x_5 x_9 x_{2 2} x_{2 8} x_{3 0} + 54 x_3 x_9 x_{1 1} x_{1 3} x_{2 0} x_{3 1} - 6 x_{1 3} x_{1 4} x_{1 7} x_{2 0} x_{2 3} x_{3 1} + 72 x_3 x_9 x_{2 1} x_{2 2} x_{2 5} x_{2 9} + 24 x_{3 0}^{2} x_{2 2}^{2} x_2 x_{1 5} x_{1 9} x_{2 1} x_{2 5} + 90 x_{2 9}^{2} x_{1 1}^{2} x_3^{2} x_4 x_{2 1} x_{2 8} x_{3 1} - 18 x_3 x_4 x_{1 0} x_{1 2} x_{1 6} x_{1 8} x_{2 9} + 72 x_3 x_5 x_9 x_{1 3} x_{2 0} x_{2 2} x_{2 8} - 18 x_4 x_{1 0} x_{1 2} x_{1 3} x_{1 6} x_{1 8} x_{2 0} - 20 x_{2 8}^{2} x_1 x_2 x_4 x_{1 0} x_{1 1} x_{2 1} x_{2 9} + 18 x_{3 0}^{2} x_2 x_3 x_{1 1} x_{1 5} x_{1 9} x_{2 2} x_{3 1} - 4 x_{1 5}^{2} x_2 x_3 x_{1 2} x_{1 4} x_{1 9} x_{2 2} x_{3 0} - 108 x_2 x_8 x_9 x_{1 8} x_{2 2} x_{2 6} x_{2 9} x_{3 0} + 120 x_{2 9}^{2} x_{2 8}^{2} x_3^{2} x_4 x_5 x_{1 1} x_{2 1} x_{2 2} - 216 x_1 x_2 x_8 x_9 x_{1 0} x_{2 2} x_{2 8} x_{3 0} - 216 x_3^{2} x_8 x_9 x_{1 2} x_{1 4} x_{1 5} x_{2 2} x_{2 9} + 120 x_{2 1}^{2} x_4 x_{1 1} x_{2 2} x_{2 5} x_{2 8} x_{2 9} x_{3 0} - 2 x_2^{2} x_{1 5} x_{1 8} x_{1 9} x_{2 2} x_{2 6} x_{2 9} x_{3 0} + 24 x_{3 0}^{2} x_{2 2}^{2} x_2 x_3 x_5 x_{1 5} x_{1 9} x_{2 8} - 10 x_{2 9}^{2} x_2 x_4 x_{1 1} x_{1 8} x_{2 1} x_{2 6} x_{2 8} + 90 x_{1 1}^{2} x_3 x_4 x_{2 1} x_{2 8} x_{2 9} x_{3 0} x_{3 1} + 120 x_{2 9}^{2} x_{2 1}^{2} x_3 x_4 x_{1 1} x_{2 2} x_{2 5} x_{2 8} - 108 x_{2 9}^{2} x_2 x_3 x_8 x_9 x_{1 8} x_{2 2} x_{2 6} - 4 x_2^{2} x_1 x_{1 0} x_{1 5} x_{1 9} x_{2 2} x_{2 8} x_{3 0} - 216 x_3 x_8 x_9 x_{1 2} x_{1 4} x_{1 5} x_{2 2} x_{3 0} - 72 x_{1 4}^{2} x_3^{2} x_9 x_{1 2} x_{1 5} x_{1 7} x_{2 3} x_{2 9} x_{3 1} - 72 x_{3 0}^{2} x_{2 2}^{2} x_{1 5}^{2} x_2 x_3 x_8 x_{1 2} x_{1 4} x_{1 9} - 72 x_{3 0}^{2} x_{2 2}^{2} x_2^{2} x_1 x_8 x_{1 0} x_{1 5} x_{1 9} x_{2 8} - 216 x_1 x_2 x_8 x_9 x_{1 0} x_{1 3} x_{2 0} x_{2 2} x_{2 8} - 20 x_3 x_4 x_{1 1} x_{1 2} x_{1 4} x_{1 5} x_{2 1} x_{2 8} x_{2 9} + 24 x_{2 2}^{2} x_2 x_{1 3} x_{1 5} x_{1 9} x_{2 0} x_{2 1} x_{2 5} x_{3 0} + 24 x_{2 2}^{2} x_2 x_3 x_{1 5} x_{1 9} x_{2 1} x_{2 5} x_{2 9} x_{3 0} - 108 x_2 x_8 x_9 x_{1 3} x_{1 8} x_{2 0} x_{2 2} x_{2 6} x_{2 9} + 24 x_{2 2}^{2} x_3^{2} x_2 x_5 x_{1 5} x_{1 9} x_{2 8} x_{2 9} x_{3 0} - 216 x_1 x_2 x_3 x_8 x_9 x_{1 0} x_{2 2} x_{2 8} x_{2 9} + 120 x_{2 8}^{2} x_3 x_4 x_5 x_{1 1} x_{2 1} x_{2 2} x_{2 9} x_{3 0} - 216 x_3 x_8 x_9 x_{1 2} x_{1 3} x_{1 4} x_{1 5} x_{2 0} x_{2 2} + 18 x_3^{2} x_2 x_{1 1} x_{1 5} x_{1 9} x_{2 2} x_{2 9} x_{3 0} x_{3 1} - 36 x_{3 0}^{2} x_{2 2}^{2} x_2^{2} x_8 x_{1 5} x_{1 8} x_{1 9} x_{2 6} x_{2 9} + 120 x_{2 1}^{2} x_4 x_{1 1} x_{1 3} x_{2 0} x_{2 2} x_{2 5} x_{2 8} x_{2 9} + 90 x_{1 1}^{2} x_3 x_4 x_{1 3} x_{2 0} x_{2 1} x_{2 8} x_{2 9} x_{3 1} - 72 x_{1 4}^{2} x_3 x_9 x_{1 2} x_{1 5} x_{1 7} x_{2 3} x_{3 0} x_{3 1} - 72 x_{2 2}^{2} x_{1 5}^{2} x_3^{2} x_2 x_8 x_{1 2} x_{1 4} x_{1 9} x_{2 9} x_{3 0} - 36 x_{2 9}^{2} x_2 x_3 x_9 x_{1 4} x_{1 7} x_{1 8} x_{2 3} x_{2 6} x_{3 1} + 120 x_{2 8}^{2} x_3 x_4 x_5 x_{1 1} x_{1 3} x_{2 0} x_{2 1} x_{2 2} x_{2 9} - 72 x_{1 4}^{2} x_3 x_9 x_{1 2} x_{1 3} x_{1 5} x_{1 7} x_{2 0} x_{2 3} x_{3 1} + 24 x_{2 2}^{2} x_2 x_3 x_5 x_{1 3} x_{1 5} x_{1 9} x_{2 0} x_{2 8} x_{3 0} - 216 x_{1 2}^{2} x_3^{2} x_4 x_9 x_{1 0} x_{1 4} x_{1 5} x_{1 6} x_{1 8} x_{2 9} - 108 x_{1 8}^{2} x_2 x_4 x_9 x_{1 0} x_{1 2} x_{1 6} x_{2 6} x_{2 9} x_{3 0} + 18 x_2 x_3 x_{1 1} x_{1 3} x_{1 5} x_{1 9} x_{2 0} x_{2 2} x_{3 0} x_{3 1} - 72 x_1 x_2 x_9 x_{1 0} x_{1 4} x_{1 7} x_{2 3} x_{2 8} x_{3 0} x_{3 1} - 108 x_{2 9}^{2} x_{1 8}^{2} x_2 x_3 x_4 x_9 x_{1 0} x_{1 2} x_{1 6} x_{2 6} - 216 x_{1 0}^{2} x_1 x_2 x_4 x_9 x_{1 2} x_{1 6} x_{1 8} x_{2 8} x_{3 0} - 36 x_{2 9}^{2} x_{2 2}^{2} x_2^{2} x_3 x_8 x_{1 5} x_{1 8} x_{1 9} x_{2 6} x_{3 0} - 36 x_2 x_9 x_{1 4} x_{1 7} x_{1 8} x_{2 3} x_{2 6} x_{2 9} x_{3 0} x_{3 1} - 216 x_{1 2}^{2} x_3 x_4 x_9 x_{1 0} x_{1 4} x_{1 5} x_{1 6} x_{1 8} x_{3 0} - 36 x_{2 2}^{2} x_2^{2} x_8 x_{1 3} x_{1 5} x_{1 8} x_{1 9} x_{2 0} x_{2 6} x_{2 9} x_{3 0} - 24 x_{3 0}^{2} x_{1 5}^{2} x_{1 4}^{2} x_2 x_3 x_{1 2} x_{1 7} x_{1 9} x_{2 2} x_{2 3} x_{3 1} - 36 x_2 x_9 x_{1 3} x_{1 4} x_{1 7} x_{1 8} x_{2 0} x_{2 3} x_{2 6} x_{2 9} x_{3 1} - 72 x_{2 2}^{2} x_2^{2} x_1 x_8 x_{1 0} x_{1 3} x_{1 5} x_{1 9} x_{2 0} x_{2 8} x_{3 0} - 72 x_{2 2}^{2} x_{1 5}^{2} x_2 x_3 x_8 x_{1 2} x_{1 3} x_{1 4} x_{1 9} x_{2 0} x_{3 0} - 180 x_{2 9}^{3} x_2 x_3 x_4 x_8 x_{1 1} x_{1 8} x_{2 1} x_{2 2} x_{2 6} x_{2 8} - 72 x_1 x_2 x_9 x_{1 0} x_{1 3} x_{1 4} x_{1 7} x_{2 0} x_{2 3} x_{2 8} x_{3 1} - 216 x_{1 0}^{2} x_1 x_2 x_3 x_4 x_9 x_{1 2} x_{1 6} x_{1 8} x_{2 8} x_{2 9} - 72 x_{2 2}^{2} x_2^{2} x_1 x_3 x_8 x_{1 0} x_{1 5} x_{1 9} x_{2 8} x_{2 9} x_{3 0} - 360 x_{2 9}^{2} x_{2 8}^{2} x_1 x_2 x_3 x_4 x_8 x_{1 0} x_{1 1} x_{2 1} x_{2 2} - 216 x_{1 2}^{2} x_3 x_4 x_9 x_{1 0} x_{1 3} x_{1 4} x_{1 5} x_{1 6} x_{1 8} x_{2 0} - 216 x_{1 0}^{2} x_1 x_2 x_4 x_9 x_{1 2} x_{1 3} x_{1 6} x_{1 8} x_{2 0} x_{2 8} - 72 x_1 x_2 x_3 x_9 x_{1 0} x_{1 4} x_{1 7} x_{2 3} x_{2 8} x_{2 9} x_{3 1} - 360 x_{2 8}^{2} x_1 x_2 x_4 x_8 x_{1 0} x_{1 1} x_{2 1} x_{2 2} x_{2 9} x_{3 0} - 360 x_{2 9}^{2} x_3^{2} x_4 x_8 x_{1 1} x_{1 2} x_{1 4} x_{1 5} x_{2 1} x_{2 2} x_{2 8} - 180 x_{2 9}^{2} x_2 x_4 x_8 x_{1 1} x_{1 8} x_{2 1} x_{2 2} x_{2 6} x_{2 8} x_{3 0} - 108 x_{1 8}^{2} x_2 x_4 x_9 x_{1 0} x_{1 2} x_{1 3} x_{1 6} x_{2 0} x_{2 6} x_{2 9} - 24 x_{3 0}^{2} x_2^{2} x_1 x_{1 0} x_{1 4} x_{1 5} x_{1 7} x_{1 9} x_{2 2} x_{2 3} x_{2 8} x_{3 1} - 12 x_{3 0}^{2} x_2^{2} x_{1 4} x_{1 5} x_{1 7} x_{1 8} x_{1 9} x_{2 2} x_{2 3} x_{2 6} x_{2 9} x_{3 1} - 180 x_{2 9}^{2} x_{1 8}^{2} x_4^{2} x_2 x_{1 0} x_{1 1} x_{1 2} x_{1 6} x_{2 1} x_{2 6} x_{2 8} x_{3 0} - 360 x_{2 8}^{2} x_1 x_2 x_4 x_8 x_{1 0} x_{1 1} x_{1 3} x_{2 0} x_{2 1} x_{2 2} x_{2 9} - 360 x_{2 9}^{2} x_{1 2}^{2} x_4^{2} x_3^{2} x_{1 0} x_{1 1} x_{1 4} x_{1 5} x_{1 6} x_{1 8} x_{2 1} x_{2 8} - 72 x_{3 0}^{2} x_{1 0}^{2} x_2^{2} x_1 x_4 x_{1 2} x_{1 5} x_{1 6} x_{1 8} x_{1 9} x_{2 2} x_{2 8} - 24 x_{1 5}^{2} x_{1 4}^{2} x_3^{2} x_2 x_{1 2} x_{1 7} x_{1 9} x_{2 2} x_{2 3} x_{2 9} x_{3 0} x_{3 1} - 72 x_{3 0}^{2} x_{1 5}^{2} x_{1 2}^{2} x_2 x_3 x_4 x_{1 0} x_{1 4} x_{1 6} x_{1 8} x_{1 9} x_{2 2} - 360 x_{2 9}^{2} x_{2 8}^{2} x_{1 0}^{2} x_4^{2} x_1 x_2 x_3 x_{1 1} x_{1 2} x_{1 6} x_{1 8} x_{2 1} - 360 x_{2 8}^{2} x_{1 0}^{2} x_4^{2} x_1 x_2 x_{1 1} x_{1 2} x_{1 6} x_{1 8} x_{2 1} x_{2 9} x_{3 0} - 360 x_3 x_4 x_8 x_{1 1} x_{1 2} x_{1 4} x_{1 5} x_{2 1} x_{2 2} x_{2 8} x_{2 9} x_{3 0} - 120 x_{2 9}^{2} x_{1 4}^{2} x_3^{2} x_4 x_{1 1} x_{1 2} x_{1 5} x_{1 7} x_{2 1} x_{2 3} x_{2 8} x_{3 1} - 36 x_{3 0}^{2} x_{1 8}^{2} x_2^{2} x_4 x_{1 0} x_{1 2} x_{1 5} x_{1 6} x_{1 9} x_{2 2} x_{2 6} x_{2 9} - 180 x_{2 9}^{3} x_{1 8}^{2} x_4^{2} x_2 x_3 x_{1 0} x_{1 1} x_{1 2} x_{1 6} x_{2 1} x_{2 6} x_{2 8} - 180 x_{2 9}^{2} x_2 x_4 x_8 x_{1 1} x_{1 3} x_{1 8} x_{2 0} x_{2 1} x_{2 2} x_{2 6} x_{2 8} - 24 x_{1 5}^{2} x_{1 4}^{2} x_2 x_3 x_{1 2} x_{1 3} x_{1 7} x_{1 9} x_{2 0} x_{2 2} x_{2 3} x_{3 0} x_{3 1} - 120 x_{2 9}^{2} x_{2 8}^{2} x_1 x_2 x_3 x_4 x_{1 0} x_{1 1} x_{1 4} x_{1 7} x_{2 1} x_{2 3} x_{3 1} - 60 x_{2 9}^{3} x_2 x_3 x_4 x_{1 1} x_{1 4} x_{1 7} x_{1 8} x_{2 1} x_{2 3} x_{2 6} x_{2 8} x_{3 1} - 360 x_{2 8}^{2} x_{1 0}^{2} x_4^{2} x_1 x_2 x_{1 1} x_{1 2} x_{1 3} x_{1 6} x_{1 8} x_{2 0} x_{2 1} x_{2 9} - 360 x_{1 2}^{2} x_4^{2} x_3 x_{1 0} x_{1 1} x_{1 4} x_{1 5} x_{1 6} x_{1 8} x_{2 1} x_{2 8} x_{2 9} x_{3 0} - 180 x_{2 9}^{2} x_{1 8}^{2} x_4^{2} x_2 x_{1 0} x_{1 1} x_{1 2} x_{1 3} x_{1 6} x_{2 0} x_{2 1} x_{2 6} x_{2 8} - 60 x_{2 9}^{2} x_2 x_4 x_{1 1} x_{1 4} x_{1 7} x_{1 8} x_{2 1} x_{2 3} x_{2 6} x_{2 8} x_{3 0} x_{3 1} - 72 x_{1 5}^{2} x_{1 2}^{2} x_3^{2} x_2 x_4 x_{1 0} x_{1 4} x_{1 6} x_{1 8} x_{1 9} x_{2 2} x_{2 9} x_{3 0} - 120 x_{1 4}^{2} x_3 x_4 x_{1 1} x_{1 2} x_{1 5} x_{1 7} x_{2 1} x_{2 3} x_{2 8} x_{2 9} x_{3 0} x_{3 1} - 120 x_{2 8}^{2} x_1 x_2 x_4 x_{1 0} x_{1 1} x_{1 4} x_{1 7} x_{2 1} x_{2 3} x_{2 9} x_{3 0} x_{3 1} - 12 x_{2 9}^{2} x_2^{2} x_3 x_{1 4} x_{1 5} x_{1 7} x_{1 8} x_{1 9} x_{2 2} x_{2 3} x_{2 6} x_{3 0} x_{3 1} - 360 x_3 x_4 x_8 x_{1 1} x_{1 2} x_{1 3} x_{1 4} x_{1 5} x_{2 0} x_{2 1} x_{2 2} x_{2 8} x_{2 9} - 36 x_{2 9}^{2} x_{1 8}^{2} x_2^{2} x_3 x_4 x_{1 0} x_{1 2} x_{1 5} x_{1 6} x_{1 9} x_{2 2} x_{2 6} x_{3 0} - 72 x_{1 0}^{2} x_2^{2} x_1 x_4 x_{1 2} x_{1 3} x_{1 5} x_{1 6} x_{1 8} x_{1 9} x_{2 0} x_{2 2} x_{2 8} x_{3 0} - 60 x_{2 9}^{2} x_2 x_4 x_{1 1} x_{1 3} x_{1 4} x_{1 7} x_{1 8} x_{2 0} x_{2 1} x_{2 3} x_{2 6} x_{2 8} x_{3 1} - 24 x_2^{2} x_1 x_{1 0} x_{1 3} x_{1 4} x_{1 5} x_{1 7} x_{1 9} x_{2 0} x_{2 2} x_{2 3} x_{2 8} x_{3 0} x_{3 1} - 72 x_{1 0}^{2} x_2^{2} x_1 x_3 x_4 x_{1 2} x_{1 5} x_{1 6} x_{1 8} x_{1 9} x_{2 2} x_{2 8} x_{2 9} x_{3 0} - 360 x_{1 2}^{2} x_4^{2} x_3 x_{1 0} x_{1 1} x_{1 3} x_{1 4} x_{1 5} x_{1 6} x_{1 8} x_{2 0} x_{2 1} x_{2 8} x_{2 9} - 72 x_{1 5}^{2} x_{1 2}^{2} x_2 x_3 x_4 x_{1 0} x_{1 3} x_{1 4} x_{1 6} x_{1 8} x_{1 9} x_{2 0} x_{2 2} x_{3 0} - 36 x_{1 8}^{2} x_2^{2} x_4 x_{1 0} x_{1 2} x_{1 3} x_{1 5} x_{1 6} x_{1 9} x_{2 0} x_{2 2} x_{2 6} x_{2 9} x_{3 0} - 12 x_2^{2} x_{1 3} x_{1 4} x_{1 5} x_{1 7} x_{1 8} x_{1 9} x_{2 0} x_{2 2} x_{2 3} x_{2 6} x_{2 9} x_{3 0} x_{3 1} - 120 x_{1 4}^{2} x_3 x_4 x_{1 1} x_{1 2} x_{1 3} x_{1 5} x_{1 7} x_{2 0} x_{2 1} x_{2 3} x_{2 8} x_{2 9} x_{3 1} - 120 x_{2 8}^{2} x_1 x_2 x_4 x_{1 0} x_{1 1} x_{1 3} x_{1 4} x_{1 7} x_{2 0} x_{2 1} x_{2 3} x_{2 9} x_{3 1} - 24 x_2^{2} x_1 x_3 x_{1 0} x_{1 4} x_{1 5} x_{1 7} x_{1 9} x_{2 2} x_{2 3} x_{2 8} x_{2 9} x_{3 0} x_{3 1} & 0.0 \\\\\n",
       "0 & 2 x_{2 5} + x_{1 9} x_{2 2} x_{2 8} + 36 x_8 x_{2 2} x_{2 5} x_{3 0} + 5 x_5 x_{1 4} x_{1 7} x_{2 4} x_{2 7} + 36 x_3 x_8 x_{2 2} x_{2 5} x_{2 9} + 18 x_{2 2}^{2} x_8 x_{1 9} x_{2 8} x_{3 0} + 36 x_8 x_{1 3} x_{2 0} x_{2 2} x_{2 5} + 18 x_{2 2}^{2} x_3 x_8 x_{1 9} x_{2 8} x_{2 9} + 18 x_{2 2}^{2} x_8 x_{1 3} x_{1 9} x_{2 0} x_{2 8} + 12 x_{1 4} x_{1 7} x_{2 3} x_{2 5} x_{3 0} x_{3 1} + 12 x_{1 3} x_{1 4} x_{1 7} x_{2 0} x_{2 3} x_{2 5} x_{3 1} + 12 x_3 x_{1 4} x_{1 7} x_{2 3} x_{2 5} x_{2 9} x_{3 1} + 36 x_4 x_{1 0} x_{1 2} x_{1 6} x_{1 8} x_{2 5} x_{3 0} + 36 x_4 x_{1 0} x_{1 2} x_{1 3} x_{1 6} x_{1 8} x_{2 0} x_{2 5} + 30 x_{1 7}^{2} x_{1 4}^{2} x_5 x_{2 3} x_{2 4} x_{2 7} x_{3 0} x_{3 1} + 36 x_3 x_4 x_{1 0} x_{1 2} x_{1 6} x_{1 8} x_{2 5} x_{2 9} + 90 x_5 x_8 x_{1 4} x_{1 7} x_{2 2} x_{2 4} x_{2 7} x_{3 0} + 6 x_{1 4} x_{1 7} x_{1 9} x_{2 2} x_{2 3} x_{2 8} x_{3 0} x_{3 1} + 90 x_3 x_5 x_8 x_{1 4} x_{1 7} x_{2 2} x_{2 4} x_{2 7} x_{2 9} + 90 x_5 x_8 x_{1 3} x_{1 4} x_{1 7} x_{2 0} x_{2 2} x_{2 4} x_{2 7} + 30 x_{1 7}^{2} x_{1 4}^{2} x_3 x_5 x_{2 3} x_{2 4} x_{2 7} x_{2 9} x_{3 1} + 6 x_{1 3} x_{1 4} x_{1 7} x_{1 9} x_{2 0} x_{2 2} x_{2 3} x_{2 8} x_{3 1} + 18 x_4 x_{1 0} x_{1 2} x_{1 6} x_{1 8} x_{1 9} x_{2 2} x_{2 8} x_{3 0} + 6 x_3 x_{1 4} x_{1 7} x_{1 9} x_{2 2} x_{2 3} x_{2 8} x_{2 9} x_{3 1} + 30 x_{1 7}^{2} x_{1 4}^{2} x_5 x_{1 3} x_{2 0} x_{2 3} x_{2 4} x_{2 7} x_{3 1} + 18 x_3 x_4 x_{1 0} x_{1 2} x_{1 6} x_{1 8} x_{1 9} x_{2 2} x_{2 8} x_{2 9} + 18 x_4 x_{1 0} x_{1 2} x_{1 3} x_{1 6} x_{1 8} x_{1 9} x_{2 0} x_{2 2} x_{2 8} + 90 x_4 x_5 x_{1 0} x_{1 2} x_{1 4} x_{1 6} x_{1 7} x_{1 8} x_{2 4} x_{2 7} x_{3 0} + 90 x_4 x_5 x_{1 0} x_{1 2} x_{1 3} x_{1 4} x_{1 6} x_{1 7} x_{1 8} x_{2 0} x_{2 4} x_{2 7} + 90 x_3 x_4 x_5 x_{1 0} x_{1 2} x_{1 4} x_{1 6} x_{1 7} x_{1 8} x_{2 4} x_{2 7} x_{2 9} & 1.0 \\\\\n",
       "\\end{array}\n",
       "\\right]\n",
       "\\end{equation}\n",
       " $$"
      ],
      "text/plain": [
       "3×3 Matrix{Num}:\n",
       " 1  …  0.0\n",
       " 0     0.0\n",
       " 0     1.0"
      ]
     },
     "execution_count": 57,
     "metadata": {},
     "output_type": "execute_result"
    }
   ],
   "source": [
    "res=simplify.(expand.(res))\n"
   ]
  },
  {
   "cell_type": "markdown",
   "id": "394740cb",
   "metadata": {},
   "source": [
    "# Substitution to verify"
   ]
  },
  {
   "cell_type": "code",
   "execution_count": 58,
   "id": "d7525d47",
   "metadata": {},
   "outputs": [
    {
     "data": {
      "text/plain": [
       "Dict{Any, Any} with 36 entries:\n",
       "  x[29] => 9\n",
       "  x[8]  => 5\n",
       "  x[31] => 3\n",
       "  x[36] => 1\n",
       "  x[6]  => 7\n",
       "  x[17] => 8\n",
       "  x[28] => 4\n",
       "  x[13] => 5\n",
       "  x[33] => 8\n",
       "  x[11] => 4\n",
       "  x[16] => 9\n",
       "  x[20] => 9\n",
       "  x[26] => 6\n",
       "  x[34] => 6\n",
       "  x[30] => 4\n",
       "  x[7]  => 6\n",
       "  x[27] => 4\n",
       "  x[21] => 10\n",
       "  x[5]  => 7\n",
       "  x[1]  => 10\n",
       "  x[9]  => 8\n",
       "  x[12] => 10\n",
       "  x[3]  => 5\n",
       "  x[4]  => 7\n",
       "  x[18] => 8\n",
       "  ⋮     => ⋮"
      ]
     },
     "execution_count": 58,
     "metadata": {},
     "output_type": "execute_result"
    }
   ],
   "source": [
    "substitution_dict=Dict()\n",
    "for i in 1:36\n",
    "    substitution_dict[x[i]]=rand(1:10)\n",
    "end \n",
    "substitution_dict"
   ]
  },
  {
   "cell_type": "code",
   "execution_count": 71,
   "id": "e029ca54",
   "metadata": {},
   "outputs": [
    {
     "data": {
      "text/latex": [
       "$$ \\begin{equation}\n",
       "\\left[\n",
       "\\begin{array}{ccc}\n",
       "0.9999999999999998 & 0.0 & 0 \\\\\n",
       "-1.6940658945086007e-21 & 1.0 & 0 \\\\\n",
       "0.0 & 0.0 & 1.0 \\\\\n",
       "\\end{array}\n",
       "\\right]\n",
       "\\end{equation}\n",
       " $$"
      ],
      "text/plain": [
       "3×3 Matrix{Num}:\n",
       "  1.0          0.0  0\n",
       " -1.69407e-21  1.0  0\n",
       "  0.0          0.0  1.0"
      ]
     },
     "execution_count": 71,
     "metadata": {},
     "output_type": "execute_result"
    }
   ],
   "source": [
    "\n",
    "substitute.(res,(substitution_dict,))"
   ]
  },
  {
   "cell_type": "code",
   "execution_count": null,
   "id": "8aba7470",
   "metadata": {},
   "outputs": [],
   "source": []
  }
 ],
 "metadata": {
  "kernelspec": {
   "display_name": "Julia 1.6.7",
   "language": "julia",
   "name": "julia-1.6"
  },
  "language_info": {
   "file_extension": ".jl",
   "mimetype": "application/julia",
   "name": "julia",
   "version": "1.6.7"
  }
 },
 "nbformat": 4,
 "nbformat_minor": 5
}
